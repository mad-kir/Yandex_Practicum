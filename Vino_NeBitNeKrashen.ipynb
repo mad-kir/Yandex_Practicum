{
  "cells": [
    {
      "cell_type": "markdown",
      "metadata": {
        "id": "Id1fIHLC510i"
      },
      "source": [
        "# Определение стоимости автомобилей"
      ]
    },
    {
      "cell_type": "markdown",
      "metadata": {
        "id": "mtpgDfHV510i"
      },
      "source": [
        "Сервис по продаже автомобилей с пробегом «Не бит, не крашен» разрабатывает приложение для привлечения новых клиентов. В нём можно быстро узнать рыночную стоимость своего автомобиля. В датасете представлены исторические данные: технические характеристики, комплектации и цены автомобилей. Мне нужно построить модель для определения стоимости.\n",
        "\n",
        "Заказчику важны:\n",
        "\n",
        "- качество предсказания;\n",
        "- скорость предсказания;\n",
        "- время обучения."
      ]
    },
    {
      "cell_type": "code",
      "execution_count": 1,
      "metadata": {
        "colab": {
          "base_uri": "https://localhost:8080/"
        },
        "id": "NrqIB2TR510j",
        "outputId": "c71ad7b1-8360-472f-a7ac-199e6fb94a11"
      },
      "outputs": [
        {
          "output_type": "stream",
          "name": "stdout",
          "text": [
            "Requirement already satisfied: phik in /usr/local/lib/python3.10/dist-packages (0.12.4)\n",
            "Requirement already satisfied: numpy>=1.18.0 in /usr/local/lib/python3.10/dist-packages (from phik) (1.25.2)\n",
            "Requirement already satisfied: scipy>=1.5.2 in /usr/local/lib/python3.10/dist-packages (from phik) (1.11.4)\n",
            "Requirement already satisfied: pandas>=0.25.1 in /usr/local/lib/python3.10/dist-packages (from phik) (1.5.3)\n",
            "Requirement already satisfied: matplotlib>=2.2.3 in /usr/local/lib/python3.10/dist-packages (from phik) (3.7.1)\n",
            "Requirement already satisfied: joblib>=0.14.1 in /usr/local/lib/python3.10/dist-packages (from phik) (1.3.2)\n",
            "Requirement already satisfied: contourpy>=1.0.1 in /usr/local/lib/python3.10/dist-packages (from matplotlib>=2.2.3->phik) (1.2.0)\n",
            "Requirement already satisfied: cycler>=0.10 in /usr/local/lib/python3.10/dist-packages (from matplotlib>=2.2.3->phik) (0.12.1)\n",
            "Requirement already satisfied: fonttools>=4.22.0 in /usr/local/lib/python3.10/dist-packages (from matplotlib>=2.2.3->phik) (4.49.0)\n",
            "Requirement already satisfied: kiwisolver>=1.0.1 in /usr/local/lib/python3.10/dist-packages (from matplotlib>=2.2.3->phik) (1.4.5)\n",
            "Requirement already satisfied: packaging>=20.0 in /usr/local/lib/python3.10/dist-packages (from matplotlib>=2.2.3->phik) (23.2)\n",
            "Requirement already satisfied: pillow>=6.2.0 in /usr/local/lib/python3.10/dist-packages (from matplotlib>=2.2.3->phik) (9.4.0)\n",
            "Requirement already satisfied: pyparsing>=2.3.1 in /usr/local/lib/python3.10/dist-packages (from matplotlib>=2.2.3->phik) (3.1.1)\n",
            "Requirement already satisfied: python-dateutil>=2.7 in /usr/local/lib/python3.10/dist-packages (from matplotlib>=2.2.3->phik) (2.8.2)\n",
            "Requirement already satisfied: pytz>=2020.1 in /usr/local/lib/python3.10/dist-packages (from pandas>=0.25.1->phik) (2023.4)\n",
            "Requirement already satisfied: six>=1.5 in /usr/local/lib/python3.10/dist-packages (from python-dateutil>=2.7->matplotlib>=2.2.3->phik) (1.16.0)\n",
            "Requirement already satisfied: xgboost in /usr/local/lib/python3.10/dist-packages (2.0.3)\n",
            "Requirement already satisfied: numpy in /usr/local/lib/python3.10/dist-packages (from xgboost) (1.25.2)\n",
            "Requirement already satisfied: scipy in /usr/local/lib/python3.10/dist-packages (from xgboost) (1.11.4)\n",
            "Requirement already satisfied: lightgbm in /usr/local/lib/python3.10/dist-packages (4.1.0)\n",
            "Requirement already satisfied: numpy in /usr/local/lib/python3.10/dist-packages (from lightgbm) (1.25.2)\n",
            "Requirement already satisfied: scipy in /usr/local/lib/python3.10/dist-packages (from lightgbm) (1.11.4)\n",
            "Requirement already satisfied: catboost in /usr/local/lib/python3.10/dist-packages (1.2.3)\n",
            "Requirement already satisfied: graphviz in /usr/local/lib/python3.10/dist-packages (from catboost) (0.20.1)\n",
            "Requirement already satisfied: matplotlib in /usr/local/lib/python3.10/dist-packages (from catboost) (3.7.1)\n",
            "Requirement already satisfied: numpy>=1.16.0 in /usr/local/lib/python3.10/dist-packages (from catboost) (1.25.2)\n",
            "Requirement already satisfied: pandas>=0.24 in /usr/local/lib/python3.10/dist-packages (from catboost) (1.5.3)\n",
            "Requirement already satisfied: scipy in /usr/local/lib/python3.10/dist-packages (from catboost) (1.11.4)\n",
            "Requirement already satisfied: plotly in /usr/local/lib/python3.10/dist-packages (from catboost) (5.15.0)\n",
            "Requirement already satisfied: six in /usr/local/lib/python3.10/dist-packages (from catboost) (1.16.0)\n",
            "Requirement already satisfied: python-dateutil>=2.8.1 in /usr/local/lib/python3.10/dist-packages (from pandas>=0.24->catboost) (2.8.2)\n",
            "Requirement already satisfied: pytz>=2020.1 in /usr/local/lib/python3.10/dist-packages (from pandas>=0.24->catboost) (2023.4)\n",
            "Requirement already satisfied: contourpy>=1.0.1 in /usr/local/lib/python3.10/dist-packages (from matplotlib->catboost) (1.2.0)\n",
            "Requirement already satisfied: cycler>=0.10 in /usr/local/lib/python3.10/dist-packages (from matplotlib->catboost) (0.12.1)\n",
            "Requirement already satisfied: fonttools>=4.22.0 in /usr/local/lib/python3.10/dist-packages (from matplotlib->catboost) (4.49.0)\n",
            "Requirement already satisfied: kiwisolver>=1.0.1 in /usr/local/lib/python3.10/dist-packages (from matplotlib->catboost) (1.4.5)\n",
            "Requirement already satisfied: packaging>=20.0 in /usr/local/lib/python3.10/dist-packages (from matplotlib->catboost) (23.2)\n",
            "Requirement already satisfied: pillow>=6.2.0 in /usr/local/lib/python3.10/dist-packages (from matplotlib->catboost) (9.4.0)\n",
            "Requirement already satisfied: pyparsing>=2.3.1 in /usr/local/lib/python3.10/dist-packages (from matplotlib->catboost) (3.1.1)\n",
            "Requirement already satisfied: tenacity>=6.2.0 in /usr/local/lib/python3.10/dist-packages (from plotly->catboost) (8.2.3)\n"
          ]
        }
      ],
      "source": [
        "#установка и проверка наличия обновлений библиотек\n",
        "!pip install phik\n",
        "!pip install xgboost\n",
        "!pip install lightgbm\n",
        "!pip install catboost"
      ]
    },
    {
      "cell_type": "code",
      "execution_count": 2,
      "metadata": {
        "id": "SygTiXVr510l"
      },
      "outputs": [],
      "source": [
        "#импорт библиотек\n",
        "import warnings\n",
        "warnings.filterwarnings('ignore')\n",
        "\n",
        "import pandas as pd\n",
        "import numpy as np\n",
        "\n",
        "import matplotlib.pyplot as plt\n",
        "import matplotlib as mpl\n",
        "\n",
        "import phik\n",
        "from sklearn.impute import KNNImputer\n",
        "from sklearn.model_selection import train_test_split\n",
        "from sklearn.preprocessing import OrdinalEncoder, OneHotEncoder\n",
        "from sklearn.metrics import mean_squared_error as mse\n",
        "\n",
        "from sklearn.ensemble import RandomForestRegressor\n",
        "from sklearn.linear_model import LinearRegression\n",
        "from sklearn.dummy import DummyRegressor\n",
        "import xgboost as xg\n",
        "import lightgbm as lgbm\n",
        "import catboost as cb"
      ]
    },
    {
      "cell_type": "code",
      "execution_count": 3,
      "metadata": {
        "id": "w1-fon5o510l"
      },
      "outputs": [],
      "source": [
        "#задание стиля диаграмм\n",
        "mpl.style.use(['Solarize_Light2'])"
      ]
    },
    {
      "cell_type": "markdown",
      "metadata": {
        "id": "ros37ho4510n"
      },
      "source": [
        "## Подготовка данных"
      ]
    },
    {
      "cell_type": "markdown",
      "metadata": {
        "id": "4GxwUPlp510n"
      },
      "source": [
        "Загружаю данные."
      ]
    },
    {
      "cell_type": "code",
      "execution_count": 4,
      "metadata": {
        "colab": {
          "base_uri": "https://localhost:8080/",
          "height": 699
        },
        "id": "0xtLlhnc510n",
        "outputId": "5c9113e1-ea26-48f4-c65d-1b87b320e6c0"
      },
      "outputs": [
        {
          "output_type": "stream",
          "name": "stdout",
          "text": [
            "<class 'pandas.core.frame.DataFrame'>\n",
            "RangeIndex: 354369 entries, 0 to 354368\n",
            "Data columns (total 16 columns):\n",
            " #   Column             Non-Null Count   Dtype \n",
            "---  ------             --------------   ----- \n",
            " 0   DateCrawled        354369 non-null  object\n",
            " 1   Price              354369 non-null  int64 \n",
            " 2   VehicleType        316879 non-null  object\n",
            " 3   RegistrationYear   354369 non-null  int64 \n",
            " 4   Gearbox            334536 non-null  object\n",
            " 5   Power              354369 non-null  int64 \n",
            " 6   Model              334664 non-null  object\n",
            " 7   Kilometer          354369 non-null  int64 \n",
            " 8   RegistrationMonth  354369 non-null  int64 \n",
            " 9   FuelType           321474 non-null  object\n",
            " 10  Brand              354369 non-null  object\n",
            " 11  Repaired           283215 non-null  object\n",
            " 12  DateCreated        354369 non-null  object\n",
            " 13  NumberOfPictures   354369 non-null  int64 \n",
            " 14  PostalCode         354369 non-null  int64 \n",
            " 15  LastSeen           354369 non-null  object\n",
            "dtypes: int64(7), object(9)\n",
            "memory usage: 217.0 MB\n"
          ]
        },
        {
          "output_type": "execute_result",
          "data": {
            "text/plain": [
              "               Price  RegistrationYear          Power      Kilometer  \\\n",
              "count  354369.000000     354369.000000  354369.000000  354369.000000   \n",
              "mean     4416.656776       2004.234448     110.094337  128211.172535   \n",
              "std      4514.158514         90.227958     189.850405   37905.341530   \n",
              "min         0.000000       1000.000000       0.000000    5000.000000   \n",
              "25%      1050.000000       1999.000000      69.000000  125000.000000   \n",
              "50%      2700.000000       2003.000000     105.000000  150000.000000   \n",
              "75%      6400.000000       2008.000000     143.000000  150000.000000   \n",
              "max     20000.000000       9999.000000   20000.000000  150000.000000   \n",
              "\n",
              "       RegistrationMonth  NumberOfPictures     PostalCode  \n",
              "count      354369.000000          354369.0  354369.000000  \n",
              "mean            5.714645               0.0   50508.689087  \n",
              "std             3.726421               0.0   25783.096248  \n",
              "min             0.000000               0.0    1067.000000  \n",
              "25%             3.000000               0.0   30165.000000  \n",
              "50%             6.000000               0.0   49413.000000  \n",
              "75%             9.000000               0.0   71083.000000  \n",
              "max            12.000000               0.0   99998.000000  "
            ],
            "text/html": [
              "\n",
              "  <div id=\"df-03d3da59-968c-488f-a6ff-9fd5be91dba0\" class=\"colab-df-container\">\n",
              "    <div>\n",
              "<style scoped>\n",
              "    .dataframe tbody tr th:only-of-type {\n",
              "        vertical-align: middle;\n",
              "    }\n",
              "\n",
              "    .dataframe tbody tr th {\n",
              "        vertical-align: top;\n",
              "    }\n",
              "\n",
              "    .dataframe thead th {\n",
              "        text-align: right;\n",
              "    }\n",
              "</style>\n",
              "<table border=\"1\" class=\"dataframe\">\n",
              "  <thead>\n",
              "    <tr style=\"text-align: right;\">\n",
              "      <th></th>\n",
              "      <th>Price</th>\n",
              "      <th>RegistrationYear</th>\n",
              "      <th>Power</th>\n",
              "      <th>Kilometer</th>\n",
              "      <th>RegistrationMonth</th>\n",
              "      <th>NumberOfPictures</th>\n",
              "      <th>PostalCode</th>\n",
              "    </tr>\n",
              "  </thead>\n",
              "  <tbody>\n",
              "    <tr>\n",
              "      <th>count</th>\n",
              "      <td>354369.000000</td>\n",
              "      <td>354369.000000</td>\n",
              "      <td>354369.000000</td>\n",
              "      <td>354369.000000</td>\n",
              "      <td>354369.000000</td>\n",
              "      <td>354369.0</td>\n",
              "      <td>354369.000000</td>\n",
              "    </tr>\n",
              "    <tr>\n",
              "      <th>mean</th>\n",
              "      <td>4416.656776</td>\n",
              "      <td>2004.234448</td>\n",
              "      <td>110.094337</td>\n",
              "      <td>128211.172535</td>\n",
              "      <td>5.714645</td>\n",
              "      <td>0.0</td>\n",
              "      <td>50508.689087</td>\n",
              "    </tr>\n",
              "    <tr>\n",
              "      <th>std</th>\n",
              "      <td>4514.158514</td>\n",
              "      <td>90.227958</td>\n",
              "      <td>189.850405</td>\n",
              "      <td>37905.341530</td>\n",
              "      <td>3.726421</td>\n",
              "      <td>0.0</td>\n",
              "      <td>25783.096248</td>\n",
              "    </tr>\n",
              "    <tr>\n",
              "      <th>min</th>\n",
              "      <td>0.000000</td>\n",
              "      <td>1000.000000</td>\n",
              "      <td>0.000000</td>\n",
              "      <td>5000.000000</td>\n",
              "      <td>0.000000</td>\n",
              "      <td>0.0</td>\n",
              "      <td>1067.000000</td>\n",
              "    </tr>\n",
              "    <tr>\n",
              "      <th>25%</th>\n",
              "      <td>1050.000000</td>\n",
              "      <td>1999.000000</td>\n",
              "      <td>69.000000</td>\n",
              "      <td>125000.000000</td>\n",
              "      <td>3.000000</td>\n",
              "      <td>0.0</td>\n",
              "      <td>30165.000000</td>\n",
              "    </tr>\n",
              "    <tr>\n",
              "      <th>50%</th>\n",
              "      <td>2700.000000</td>\n",
              "      <td>2003.000000</td>\n",
              "      <td>105.000000</td>\n",
              "      <td>150000.000000</td>\n",
              "      <td>6.000000</td>\n",
              "      <td>0.0</td>\n",
              "      <td>49413.000000</td>\n",
              "    </tr>\n",
              "    <tr>\n",
              "      <th>75%</th>\n",
              "      <td>6400.000000</td>\n",
              "      <td>2008.000000</td>\n",
              "      <td>143.000000</td>\n",
              "      <td>150000.000000</td>\n",
              "      <td>9.000000</td>\n",
              "      <td>0.0</td>\n",
              "      <td>71083.000000</td>\n",
              "    </tr>\n",
              "    <tr>\n",
              "      <th>max</th>\n",
              "      <td>20000.000000</td>\n",
              "      <td>9999.000000</td>\n",
              "      <td>20000.000000</td>\n",
              "      <td>150000.000000</td>\n",
              "      <td>12.000000</td>\n",
              "      <td>0.0</td>\n",
              "      <td>99998.000000</td>\n",
              "    </tr>\n",
              "  </tbody>\n",
              "</table>\n",
              "</div>\n",
              "    <div class=\"colab-df-buttons\">\n",
              "\n",
              "  <div class=\"colab-df-container\">\n",
              "    <button class=\"colab-df-convert\" onclick=\"convertToInteractive('df-03d3da59-968c-488f-a6ff-9fd5be91dba0')\"\n",
              "            title=\"Convert this dataframe to an interactive table.\"\n",
              "            style=\"display:none;\">\n",
              "\n",
              "  <svg xmlns=\"http://www.w3.org/2000/svg\" height=\"24px\" viewBox=\"0 -960 960 960\">\n",
              "    <path d=\"M120-120v-720h720v720H120Zm60-500h600v-160H180v160Zm220 220h160v-160H400v160Zm0 220h160v-160H400v160ZM180-400h160v-160H180v160Zm440 0h160v-160H620v160ZM180-180h160v-160H180v160Zm440 0h160v-160H620v160Z\"/>\n",
              "  </svg>\n",
              "    </button>\n",
              "\n",
              "  <style>\n",
              "    .colab-df-container {\n",
              "      display:flex;\n",
              "      gap: 12px;\n",
              "    }\n",
              "\n",
              "    .colab-df-convert {\n",
              "      background-color: #E8F0FE;\n",
              "      border: none;\n",
              "      border-radius: 50%;\n",
              "      cursor: pointer;\n",
              "      display: none;\n",
              "      fill: #1967D2;\n",
              "      height: 32px;\n",
              "      padding: 0 0 0 0;\n",
              "      width: 32px;\n",
              "    }\n",
              "\n",
              "    .colab-df-convert:hover {\n",
              "      background-color: #E2EBFA;\n",
              "      box-shadow: 0px 1px 2px rgba(60, 64, 67, 0.3), 0px 1px 3px 1px rgba(60, 64, 67, 0.15);\n",
              "      fill: #174EA6;\n",
              "    }\n",
              "\n",
              "    .colab-df-buttons div {\n",
              "      margin-bottom: 4px;\n",
              "    }\n",
              "\n",
              "    [theme=dark] .colab-df-convert {\n",
              "      background-color: #3B4455;\n",
              "      fill: #D2E3FC;\n",
              "    }\n",
              "\n",
              "    [theme=dark] .colab-df-convert:hover {\n",
              "      background-color: #434B5C;\n",
              "      box-shadow: 0px 1px 3px 1px rgba(0, 0, 0, 0.15);\n",
              "      filter: drop-shadow(0px 1px 2px rgba(0, 0, 0, 0.3));\n",
              "      fill: #FFFFFF;\n",
              "    }\n",
              "  </style>\n",
              "\n",
              "    <script>\n",
              "      const buttonEl =\n",
              "        document.querySelector('#df-03d3da59-968c-488f-a6ff-9fd5be91dba0 button.colab-df-convert');\n",
              "      buttonEl.style.display =\n",
              "        google.colab.kernel.accessAllowed ? 'block' : 'none';\n",
              "\n",
              "      async function convertToInteractive(key) {\n",
              "        const element = document.querySelector('#df-03d3da59-968c-488f-a6ff-9fd5be91dba0');\n",
              "        const dataTable =\n",
              "          await google.colab.kernel.invokeFunction('convertToInteractive',\n",
              "                                                    [key], {});\n",
              "        if (!dataTable) return;\n",
              "\n",
              "        const docLinkHtml = 'Like what you see? Visit the ' +\n",
              "          '<a target=\"_blank\" href=https://colab.research.google.com/notebooks/data_table.ipynb>data table notebook</a>'\n",
              "          + ' to learn more about interactive tables.';\n",
              "        element.innerHTML = '';\n",
              "        dataTable['output_type'] = 'display_data';\n",
              "        await google.colab.output.renderOutput(dataTable, element);\n",
              "        const docLink = document.createElement('div');\n",
              "        docLink.innerHTML = docLinkHtml;\n",
              "        element.appendChild(docLink);\n",
              "      }\n",
              "    </script>\n",
              "  </div>\n",
              "\n",
              "\n",
              "<div id=\"df-e8978f57-a2fc-41bf-bf7f-30a7edf157d3\">\n",
              "  <button class=\"colab-df-quickchart\" onclick=\"quickchart('df-e8978f57-a2fc-41bf-bf7f-30a7edf157d3')\"\n",
              "            title=\"Suggest charts\"\n",
              "            style=\"display:none;\">\n",
              "\n",
              "<svg xmlns=\"http://www.w3.org/2000/svg\" height=\"24px\"viewBox=\"0 0 24 24\"\n",
              "     width=\"24px\">\n",
              "    <g>\n",
              "        <path d=\"M19 3H5c-1.1 0-2 .9-2 2v14c0 1.1.9 2 2 2h14c1.1 0 2-.9 2-2V5c0-1.1-.9-2-2-2zM9 17H7v-7h2v7zm4 0h-2V7h2v10zm4 0h-2v-4h2v4z\"/>\n",
              "    </g>\n",
              "</svg>\n",
              "  </button>\n",
              "\n",
              "<style>\n",
              "  .colab-df-quickchart {\n",
              "      --bg-color: #E8F0FE;\n",
              "      --fill-color: #1967D2;\n",
              "      --hover-bg-color: #E2EBFA;\n",
              "      --hover-fill-color: #174EA6;\n",
              "      --disabled-fill-color: #AAA;\n",
              "      --disabled-bg-color: #DDD;\n",
              "  }\n",
              "\n",
              "  [theme=dark] .colab-df-quickchart {\n",
              "      --bg-color: #3B4455;\n",
              "      --fill-color: #D2E3FC;\n",
              "      --hover-bg-color: #434B5C;\n",
              "      --hover-fill-color: #FFFFFF;\n",
              "      --disabled-bg-color: #3B4455;\n",
              "      --disabled-fill-color: #666;\n",
              "  }\n",
              "\n",
              "  .colab-df-quickchart {\n",
              "    background-color: var(--bg-color);\n",
              "    border: none;\n",
              "    border-radius: 50%;\n",
              "    cursor: pointer;\n",
              "    display: none;\n",
              "    fill: var(--fill-color);\n",
              "    height: 32px;\n",
              "    padding: 0;\n",
              "    width: 32px;\n",
              "  }\n",
              "\n",
              "  .colab-df-quickchart:hover {\n",
              "    background-color: var(--hover-bg-color);\n",
              "    box-shadow: 0 1px 2px rgba(60, 64, 67, 0.3), 0 1px 3px 1px rgba(60, 64, 67, 0.15);\n",
              "    fill: var(--button-hover-fill-color);\n",
              "  }\n",
              "\n",
              "  .colab-df-quickchart-complete:disabled,\n",
              "  .colab-df-quickchart-complete:disabled:hover {\n",
              "    background-color: var(--disabled-bg-color);\n",
              "    fill: var(--disabled-fill-color);\n",
              "    box-shadow: none;\n",
              "  }\n",
              "\n",
              "  .colab-df-spinner {\n",
              "    border: 2px solid var(--fill-color);\n",
              "    border-color: transparent;\n",
              "    border-bottom-color: var(--fill-color);\n",
              "    animation:\n",
              "      spin 1s steps(1) infinite;\n",
              "  }\n",
              "\n",
              "  @keyframes spin {\n",
              "    0% {\n",
              "      border-color: transparent;\n",
              "      border-bottom-color: var(--fill-color);\n",
              "      border-left-color: var(--fill-color);\n",
              "    }\n",
              "    20% {\n",
              "      border-color: transparent;\n",
              "      border-left-color: var(--fill-color);\n",
              "      border-top-color: var(--fill-color);\n",
              "    }\n",
              "    30% {\n",
              "      border-color: transparent;\n",
              "      border-left-color: var(--fill-color);\n",
              "      border-top-color: var(--fill-color);\n",
              "      border-right-color: var(--fill-color);\n",
              "    }\n",
              "    40% {\n",
              "      border-color: transparent;\n",
              "      border-right-color: var(--fill-color);\n",
              "      border-top-color: var(--fill-color);\n",
              "    }\n",
              "    60% {\n",
              "      border-color: transparent;\n",
              "      border-right-color: var(--fill-color);\n",
              "    }\n",
              "    80% {\n",
              "      border-color: transparent;\n",
              "      border-right-color: var(--fill-color);\n",
              "      border-bottom-color: var(--fill-color);\n",
              "    }\n",
              "    90% {\n",
              "      border-color: transparent;\n",
              "      border-bottom-color: var(--fill-color);\n",
              "    }\n",
              "  }\n",
              "</style>\n",
              "\n",
              "  <script>\n",
              "    async function quickchart(key) {\n",
              "      const quickchartButtonEl =\n",
              "        document.querySelector('#' + key + ' button');\n",
              "      quickchartButtonEl.disabled = true;  // To prevent multiple clicks.\n",
              "      quickchartButtonEl.classList.add('colab-df-spinner');\n",
              "      try {\n",
              "        const charts = await google.colab.kernel.invokeFunction(\n",
              "            'suggestCharts', [key], {});\n",
              "      } catch (error) {\n",
              "        console.error('Error during call to suggestCharts:', error);\n",
              "      }\n",
              "      quickchartButtonEl.classList.remove('colab-df-spinner');\n",
              "      quickchartButtonEl.classList.add('colab-df-quickchart-complete');\n",
              "    }\n",
              "    (() => {\n",
              "      let quickchartButtonEl =\n",
              "        document.querySelector('#df-e8978f57-a2fc-41bf-bf7f-30a7edf157d3 button');\n",
              "      quickchartButtonEl.style.display =\n",
              "        google.colab.kernel.accessAllowed ? 'block' : 'none';\n",
              "    })();\n",
              "  </script>\n",
              "</div>\n",
              "    </div>\n",
              "  </div>\n"
            ],
            "application/vnd.google.colaboratory.intrinsic+json": {
              "type": "dataframe",
              "summary": "{\n  \"name\": \"data\",\n  \"rows\": 8,\n  \"fields\": [\n    {\n      \"column\": \"Price\",\n      \"properties\": {\n        \"dtype\": \"number\",\n        \"std\": 123471.38506045072,\n        \"min\": 0.0,\n        \"max\": 354369.0,\n        \"num_unique_values\": 8,\n        \"samples\": [\n          4416.656775846645,\n          2700.0,\n          354369.0\n        ],\n        \"semantic_type\": \"\",\n        \"description\": \"\"\n      }\n    },\n    {\n      \"column\": \"RegistrationYear\",\n      \"properties\": {\n        \"dtype\": \"number\",\n        \"std\": 124360.7789060848,\n        \"min\": 90.22795785100556,\n        \"max\": 354369.0,\n        \"num_unique_values\": 8,\n        \"samples\": [\n          2004.234447708462,\n          2003.0,\n          354369.0\n        ],\n        \"semantic_type\": \"\",\n        \"description\": \"\"\n      }\n    },\n    {\n      \"column\": \"Power\",\n      \"properties\": {\n        \"dtype\": \"number\",\n        \"std\": 124441.99177338961,\n        \"min\": 0.0,\n        \"max\": 354369.0,\n        \"num_unique_values\": 8,\n        \"samples\": [\n          110.0943366942368,\n          105.0,\n          354369.0\n        ],\n        \"semantic_type\": \"\",\n        \"description\": \"\"\n      }\n    },\n    {\n      \"column\": \"Kilometer\",\n      \"properties\": {\n        \"dtype\": \"number\",\n        \"std\": 103660.68410719009,\n        \"min\": 5000.0,\n        \"max\": 354369.0,\n        \"num_unique_values\": 6,\n        \"samples\": [\n          354369.0,\n          128211.17253484363,\n          150000.0\n        ],\n        \"semantic_type\": \"\",\n        \"description\": \"\"\n      }\n    },\n    {\n      \"column\": \"RegistrationMonth\",\n      \"properties\": {\n        \"dtype\": \"number\",\n        \"std\": 125286.36945026652,\n        \"min\": 0.0,\n        \"max\": 354369.0,\n        \"num_unique_values\": 8,\n        \"samples\": [\n          5.7146449040407035,\n          6.0,\n          354369.0\n        ],\n        \"semantic_type\": \"\",\n        \"description\": \"\"\n      }\n    },\n    {\n      \"column\": \"NumberOfPictures\",\n      \"properties\": {\n        \"dtype\": \"number\",\n        \"std\": 125288.36147114783,\n        \"min\": 0.0,\n        \"max\": 354369.0,\n        \"num_unique_values\": 2,\n        \"samples\": [\n          0.0,\n          354369.0\n        ],\n        \"semantic_type\": \"\",\n        \"description\": \"\"\n      }\n    },\n    {\n      \"column\": \"PostalCode\",\n      \"properties\": {\n        \"dtype\": \"number\",\n        \"std\": 112752.52386306011,\n        \"min\": 1067.0,\n        \"max\": 354369.0,\n        \"num_unique_values\": 8,\n        \"samples\": [\n          50508.68908679935,\n          49413.0\n        ],\n        \"semantic_type\": \"\",\n        \"description\": \"\"\n      }\n    }\n  ]\n}"
            }
          },
          "metadata": {},
          "execution_count": 4
        }
      ],
      "source": [
        "data = pd.read_csv('/datasets/autos.csv')\n",
        "data.info(memory_usage='deep')\n",
        "data.describe()"
      ]
    },
    {
      "cell_type": "markdown",
      "metadata": {
        "id": "E7vGXXgo510n"
      },
      "source": [
        "У нас есть 7 численных признаков, включая целевой, и девять столбцов типа object, содержащих текстовую информацию либо даты.\n",
        "\n",
        "### Обработка дубликатов и пропущенных значений.\n",
        "\n",
        "Проверю датасет на наличие дубликатов."
      ]
    },
    {
      "cell_type": "code",
      "execution_count": 5,
      "metadata": {
        "colab": {
          "base_uri": "https://localhost:8080/"
        },
        "id": "jtyTyAwG510n",
        "outputId": "85bf7e15-608a-4156-b23d-fd9ae29427b0"
      },
      "outputs": [
        {
          "output_type": "execute_result",
          "data": {
            "text/plain": [
              "4"
            ]
          },
          "metadata": {},
          "execution_count": 5
        }
      ],
      "source": [
        "data.duplicated().sum()"
      ]
    },
    {
      "cell_type": "markdown",
      "metadata": {
        "id": "Ec7i9o0M510o"
      },
      "source": [
        "Дубликатов не так уж и много. Избавлюсь от них."
      ]
    },
    {
      "cell_type": "code",
      "execution_count": 6,
      "metadata": {
        "colab": {
          "base_uri": "https://localhost:8080/"
        },
        "id": "jDsqkqoN510o",
        "outputId": "11e94c91-3a38-420e-c604-8262f9fc381f"
      },
      "outputs": [
        {
          "output_type": "execute_result",
          "data": {
            "text/plain": [
              "0"
            ]
          },
          "metadata": {},
          "execution_count": 6
        }
      ],
      "source": [
        "data = data.drop_duplicates().reset_index(drop=True)\n",
        "data.duplicated().sum()"
      ]
    },
    {
      "cell_type": "markdown",
      "metadata": {
        "id": "-cl7I43-510o"
      },
      "source": [
        "Теперь посмотрим, в каких столбцах у нас есть попущенные значения."
      ]
    },
    {
      "cell_type": "code",
      "execution_count": 7,
      "metadata": {
        "colab": {
          "base_uri": "https://localhost:8080/"
        },
        "id": "PkmWl3qi510o",
        "outputId": "d9a52809-cb67-4757-d2bb-c73247890da5"
      },
      "outputs": [
        {
          "output_type": "execute_result",
          "data": {
            "text/plain": [
              "DateCrawled              0\n",
              "Price                    0\n",
              "VehicleType          37490\n",
              "RegistrationYear         0\n",
              "Gearbox              19833\n",
              "Power                    0\n",
              "Model                19705\n",
              "Kilometer                0\n",
              "RegistrationMonth        0\n",
              "FuelType             32895\n",
              "Brand                    0\n",
              "Repaired             71154\n",
              "DateCreated              0\n",
              "NumberOfPictures         0\n",
              "PostalCode               0\n",
              "LastSeen                 0\n",
              "dtype: int64"
            ]
          },
          "metadata": {},
          "execution_count": 7
        }
      ],
      "source": [
        "data.isna().sum()"
      ]
    },
    {
      "cell_type": "markdown",
      "metadata": {
        "id": "hSJwNC7H510o"
      },
      "source": [
        "Любопытно, что пропуски есть только в категориальных переменных. При этом наверняка сказать, какие значения в них пропущенны мы не можем, а потому я заменю пропуски на строку \"unknown\"."
      ]
    },
    {
      "cell_type": "code",
      "execution_count": 8,
      "metadata": {
        "colab": {
          "base_uri": "https://localhost:8080/"
        },
        "id": "aZjL1j3X510p",
        "outputId": "0b346fd1-c5fc-4d86-e22f-1d5f93566776"
      },
      "outputs": [
        {
          "output_type": "execute_result",
          "data": {
            "text/plain": [
              "DateCrawled          0\n",
              "Price                0\n",
              "VehicleType          0\n",
              "RegistrationYear     0\n",
              "Gearbox              0\n",
              "Power                0\n",
              "Model                0\n",
              "Kilometer            0\n",
              "RegistrationMonth    0\n",
              "FuelType             0\n",
              "Brand                0\n",
              "Repaired             0\n",
              "DateCreated          0\n",
              "NumberOfPictures     0\n",
              "PostalCode           0\n",
              "LastSeen             0\n",
              "dtype: int64"
            ]
          },
          "metadata": {},
          "execution_count": 8
        }
      ],
      "source": [
        "data = data.fillna('unknown')\n",
        "data.isna().sum()"
      ]
    },
    {
      "cell_type": "markdown",
      "metadata": {
        "id": "S595jQ_7510p"
      },
      "source": [
        "Пропуски успешно устранены."
      ]
    },
    {
      "cell_type": "markdown",
      "metadata": {
        "id": "snpgyHzy510p"
      },
      "source": [
        "\n",
        "### Борьба с аномалиями\n",
        "\n",
        "Для начала, осмотрим численные данные через их распределение."
      ]
    },
    {
      "cell_type": "code",
      "execution_count": 9,
      "metadata": {
        "colab": {
          "base_uri": "https://localhost:8080/",
          "height": 1000
        },
        "id": "dvEm4wAF510p",
        "outputId": "a2f86566-1c09-4038-aeb4-cefd387ff917"
      },
      "outputs": [
        {
          "output_type": "display_data",
          "data": {
            "text/plain": [
              "<Figure size 1600x600 with 2 Axes>"
            ],
            "image/png": "[encoded data removed]"
          },
          "metadata": {}
        },
        {
          "output_type": "display_data",
          "data": {
            "text/plain": [
              "<Figure size 1600x600 with 2 Axes>"
            ],
            "image/png": "[encoded data removed]"
          },
          "metadata": {}
        },
        {
          "output_type": "display_data",
          "data": {
            "text/plain": [
              "<Figure size 1600x600 with 2 Axes>"
            ],
            "image/png": "[encoded data removed]"
          },
          "metadata": {}
        },
        {
          "output_type": "display_data",
          "data": {
            "text/plain": [
              "<Figure size 1600x600 with 2 Axes>"
            ],
            "image/png": "[encoded data removed]"
          },
          "metadata": {}
        }
      ],
      "source": [
        "cols = ['RegistrationYear', 'Power', 'Kilometer', 'RegistrationMonth']\n",
        "for i in range(len(cols)):\n",
        "    fig, axes = plt.subplots(1, 2, figsize=(16, 6))\n",
        "    axes[0].boxplot(data[cols[i]])\n",
        "    axes[1].hist(data[cols[i]], bins=30)\n",
        "    axes[0].set_title(f'Ящик с усами {cols[i]}')\n",
        "    axes[1].set_title(f'Гистограмма {cols[i]}')\n",
        "    axes[0].set_ylabel('Распределение')\n",
        "    axes[1].set_ylabel('Частота')\n",
        "    axes[0].set_xlabel(cols[i])\n",
        "    axes[1].set_xlabel('Распределение')\n",
        "    plt.show()"
      ]
    },
    {
      "cell_type": "markdown",
      "metadata": {
        "id": "pXqzhgNE510q"
      },
      "source": [
        "У пробега в километрах совсем немного выбросов, и возможность такого маленького пробега в любом случае не исключена: на вторичном рынке продаются и совсем новые машины.\n",
        "\n",
        "А вот выбросы в годах регистрации и лошадиных силах определённо являются аномалиями. Ведь машина не может быть выпущена в 10,000 году и иметь 20,000 лошадиных сил. Подобные выбросы я исключу из датасета."
      ]
    },
    {
      "cell_type": "code",
      "execution_count": 10,
      "metadata": {
        "id": "g6sULFPS510q"
      },
      "outputs": [],
      "source": [
        "data = data.loc[data['RegistrationYear'] > 1960]\n",
        "data = data.loc[data['RegistrationYear'] < 2023]"
      ]
    },
    {
      "cell_type": "code",
      "execution_count": 11,
      "metadata": {
        "id": "ed5LPuM3510v"
      },
      "outputs": [],
      "source": [
        "data = data.loc[data['Power'] > 50]\n",
        "data = data.loc[data['Power'] < 400]"
      ]
    },
    {
      "cell_type": "code",
      "execution_count": 12,
      "metadata": {
        "colab": {
          "base_uri": "https://localhost:8080/",
          "height": 830
        },
        "id": "R8qkgmV0510v",
        "outputId": "68eaa5ff-0dbf-4e90-fc81-c90e328d0efb"
      },
      "outputs": [
        {
          "output_type": "display_data",
          "data": {
            "text/plain": [
              "<Figure size 1600x1200 with 4 Axes>"
            ],
            "image/png": "[encoded data removed]"
          },
          "metadata": {}
        }
      ],
      "source": [
        "fig, axes = plt.subplots(2, 2, figsize=(16, 12))\n",
        "axes[0,0].boxplot(data['RegistrationYear'])\n",
        "axes[0,0].set_ylabel('Распределение')\n",
        "axes[0,0].set_xlabel('RegistrationYear')\n",
        "axes[0,1].hist(data['RegistrationYear'], bins=30)\n",
        "axes[0,1].set_ylabel('Частота')\n",
        "axes[0,1].set_xlabel('Распределение')\n",
        "axes[0,0].set_title('Ящик с усами RegistrationYear')\n",
        "axes[0,1].set_title('Гистограмма RegistrationYear')\n",
        "axes[1,0].boxplot(data['Power'])\n",
        "axes[1,0].set_ylabel('Распределение')\n",
        "axes[1,0].set_xlabel('Power')\n",
        "axes[1,1].hist(data['Power'], bins=30)\n",
        "axes[1,1].set_ylabel('Частота')\n",
        "axes[1,1].set_xlabel('Распределение')\n",
        "axes[1,0].set_title('Ящик с усами Power')\n",
        "axes[1,1].set_title('Гистограмма Power')\n",
        "plt.show()"
      ]
    },
    {
      "cell_type": "markdown",
      "metadata": {
        "id": "LFqDra6q510v"
      },
      "source": [
        "У нас ещё остались выбросы в обоих столбцах, но это нормально: существуют автомобили, у которых высокая мощность двигателя, или которые очень раннего года производства, и их значительно меньше, чем обычных авто. Эти данные не выбиваются из здравого смысла."
      ]
    },
    {
      "cell_type": "markdown",
      "metadata": {
        "id": "R6AtAuZL510v"
      },
      "source": [
        "Я удалила аномалии в годе регистрации, но есть также ещё одна информация в формате времени — дата выгрузки информации в базу данных. И то, и другое не может превышать 2023 год, иначе эти события произошли в будущем. И также, автомобиль не может быть зарегистрирован после выгрузки данных.\n",
        "\n",
        "Переведу дату выгрузки из типа object в тип datetime."
      ]
    },
    {
      "cell_type": "code",
      "execution_count": 13,
      "metadata": {
        "colab": {
          "base_uri": "https://localhost:8080/"
        },
        "id": "4Ojw95P6510v",
        "outputId": "220dae83-7051-4527-bb29-6d31cc1e8b2f"
      },
      "outputs": [
        {
          "output_type": "stream",
          "name": "stdout",
          "text": [
            "<class 'pandas.core.frame.DataFrame'>\n",
            "Int64Index: 302649 entries, 1 to 354364\n",
            "Data columns (total 16 columns):\n",
            " #   Column             Non-Null Count   Dtype         \n",
            "---  ------             --------------   -----         \n",
            " 0   DateCrawled        302649 non-null  datetime64[ns]\n",
            " 1   Price              302649 non-null  int64         \n",
            " 2   VehicleType        302649 non-null  object        \n",
            " 3   RegistrationYear   302649 non-null  int64         \n",
            " 4   Gearbox            302649 non-null  object        \n",
            " 5   Power              302649 non-null  int64         \n",
            " 6   Model              302649 non-null  object        \n",
            " 7   Kilometer          302649 non-null  int64         \n",
            " 8   RegistrationMonth  302649 non-null  int64         \n",
            " 9   FuelType           302649 non-null  object        \n",
            " 10  Brand              302649 non-null  object        \n",
            " 11  Repaired           302649 non-null  object        \n",
            " 12  DateCreated        302649 non-null  object        \n",
            " 13  NumberOfPictures   302649 non-null  int64         \n",
            " 14  PostalCode         302649 non-null  int64         \n",
            " 15  LastSeen           302649 non-null  object        \n",
            "dtypes: datetime64[ns](1), int64(7), object(8)\n",
            "memory usage: 39.3+ MB\n"
          ]
        }
      ],
      "source": [
        "data['DateCrawled'] = pd.to_datetime(data['DateCrawled'])\n",
        "data.info()"
      ]
    },
    {
      "cell_type": "markdown",
      "metadata": {
        "id": "ZrWMDC6r510w"
      },
      "source": [
        "Теперь, когда дата имеет формат даты, построим гистограмму распределения и посмотрим, превосходят ли объекты настоящее время."
      ]
    },
    {
      "cell_type": "code",
      "execution_count": 14,
      "metadata": {
        "colab": {
          "base_uri": "https://localhost:8080/",
          "height": 519
        },
        "id": "nQoeuyoz510w",
        "outputId": "aff160bb-a664-48f1-993c-b128009a7316"
      },
      "outputs": [
        {
          "output_type": "display_data",
          "data": {
            "text/plain": [
              "<Figure size 1000x500 with 1 Axes>"
            ],
            "image/png": "[encoded data removed]"
          },
          "metadata": {}
        }
      ],
      "source": [
        "fig, axes = plt.subplots(1,figsize=(10,5))\n",
        "axes.hist(data['DateCrawled'])\n",
        "fig.suptitle('Гистограмма даты выгрузки')\n",
        "axes.set_ylabel('Частота')\n",
        "axes.set_xlabel('Дата выгрузки')\n",
        "plt.show()"
      ]
    },
    {
      "cell_type": "markdown",
      "metadata": {
        "id": "SqFICANr510w"
      },
      "source": [
        "Все объявления были выгружены в начале 2016. А это значит, автомобили, зарегистрированные в этом году и далее скорее всего являются аномалиями. Удаляю их."
      ]
    },
    {
      "cell_type": "code",
      "execution_count": 15,
      "metadata": {
        "colab": {
          "base_uri": "https://localhost:8080/",
          "height": 519
        },
        "id": "euf9Wx36510w",
        "outputId": "447975e7-a10d-49dc-da1d-bd8b7cfd3074"
      },
      "outputs": [
        {
          "output_type": "display_data",
          "data": {
            "text/plain": [
              "<Figure size 1000x500 with 1 Axes>"
            ],
            "image/png": "[encoded data removed]"
          },
          "metadata": {}
        }
      ],
      "source": [
        "data = data[data['RegistrationYear'] < 2016]\n",
        "fig, axes = plt.subplots(1,figsize=(10,5))\n",
        "axes.hist(data['RegistrationYear'], bins=30)\n",
        "fig.suptitle('Распределение по году регистрации авто')\n",
        "axes.set_ylabel('Частота')\n",
        "axes.set_xlabel('Год регистрации')\n",
        "plt.show()"
      ]
    },
    {
      "cell_type": "markdown",
      "metadata": {
        "id": "W7Ti47Xz510w"
      },
      "source": [
        "Теперь рассмотрим целевой признак — стоимость авто. Посмотрю на распределение и определю, есть ли тут аномалии."
      ]
    },
    {
      "cell_type": "code",
      "execution_count": 16,
      "metadata": {
        "colab": {
          "base_uri": "https://localhost:8080/",
          "height": 825
        },
        "id": "hQQq4Z1u510x",
        "outputId": "90125610-946f-440c-93ee-b432b9b680d9"
      },
      "outputs": [
        {
          "output_type": "display_data",
          "data": {
            "text/plain": [
              "<Figure size 1600x1200 with 2 Axes>"
            ],
            "image/png": "[encoded data removed]"
          },
          "metadata": {}
        }
      ],
      "source": [
        "fig, axes = plt.subplots(1, 2, figsize=(16, 12))\n",
        "axes[0].boxplot(data['Price'])\n",
        "axes[0].set_ylabel('Распределение')\n",
        "axes[0].set_xlabel('Price')\n",
        "axes[1].hist(data['Price'], bins=30)\n",
        "axes[1].set_ylabel('Частота')\n",
        "axes[1].set_xlabel('Распределение')\n",
        "axes[0].set_title('Ящик с усами Price')\n",
        "axes[1].set_title('Гистограмма Price')\n",
        "plt.show()"
      ]
    },
    {
      "cell_type": "markdown",
      "metadata": {
        "id": "83pnDZsD510x"
      },
      "source": [
        "По верхней границе есть определённое число выбросов, но по ним едва ли можно сказать, что они являются аномалиями: автомобили за 20,000 евро вполне существуют. Куда больше смущает, что нижний \"ус\" у boxplot-а упирается в 0. Бесплатные авто — это уже подозрительно, а потому удалю всё, что стоит меньше 10 евро."
      ]
    },
    {
      "cell_type": "code",
      "execution_count": 17,
      "metadata": {
        "id": "bVNLX1tY510x"
      },
      "outputs": [],
      "source": [
        "data = data[data['Price'] >= 10]"
      ]
    },
    {
      "cell_type": "markdown",
      "metadata": {
        "id": "tp6_If9s510x"
      },
      "source": [
        "### Влияние на целевой признак\n",
        "\n",
        "Сперва стоит удалить признаки, которые по отпределению не оказывают влияния: дата выгрузки в БД, дата создания объявления, колличество изображений (потому что в этом столбце все значения равны 0), почтовый индекс владельца и его последнее посещение сайта."
      ]
    },
    {
      "cell_type": "code",
      "execution_count": 18,
      "metadata": {
        "id": "jUUapyhm510y"
      },
      "outputs": [],
      "source": [
        "data = data.drop(['DateCrawled', 'DateCreated', 'NumberOfPictures', 'PostalCode', 'LastSeen'], axis=1)"
      ]
    },
    {
      "cell_type": "markdown",
      "metadata": {
        "id": "0DnLFzWX510y"
      },
      "source": [
        "С оставшимися построю матрицу phik, которая позволяет определить корреляцию между всеми признаками, категориальными или вещественными."
      ]
    },
    {
      "cell_type": "code",
      "execution_count": 19,
      "metadata": {
        "colab": {
          "base_uri": "https://localhost:8080/",
          "height": 414
        },
        "id": "WX-8uVhg510y",
        "outputId": "92f4ca82-3c2e-443a-9024-5b5887d32148"
      },
      "outputs": [
        {
          "output_type": "execute_result",
          "data": {
            "text/plain": [
              "                      Price  VehicleType  RegistrationYear   Gearbox  \\\n",
              "Price              1.000000     0.253902          0.677947  0.286208   \n",
              "VehicleType        0.253902     1.000000          0.328924  0.379689   \n",
              "RegistrationYear   0.677947     0.328924          1.000000  0.159405   \n",
              "Gearbox            0.286208     0.379689          0.159405  1.000000   \n",
              "Power              0.504900     0.485566          0.258587  0.476569   \n",
              "Model              0.569139     0.903330          0.659101  0.623967   \n",
              "Kilometer          0.334560     0.200002          0.644620  0.048424   \n",
              "RegistrationMonth  0.122597     0.180218          0.182651  0.161229   \n",
              "FuelType           0.255628     0.365105          0.354730  0.206556   \n",
              "Brand              0.359948     0.592255          0.334345  0.509980   \n",
              "Repaired           0.333009     0.284684          0.303026  0.249751   \n",
              "\n",
              "                      Power     Model  Kilometer  RegistrationMonth  FuelType  \\\n",
              "Price              0.504900  0.569139   0.334560           0.122597  0.255628   \n",
              "VehicleType        0.485566  0.903330   0.200002           0.180218  0.365105   \n",
              "RegistrationYear   0.258587  0.659101   0.644620           0.182651  0.354730   \n",
              "Gearbox            0.476569  0.623967   0.048424           0.161229  0.206556   \n",
              "Power              1.000000  0.789836   0.109164           0.047182  0.250749   \n",
              "Model              0.789836  1.000000   0.444777           0.188848  0.534085   \n",
              "Kilometer          0.109164  0.444777   1.000000           0.106176  0.167666   \n",
              "RegistrationMonth  0.047182  0.188848   0.106176           1.000000  0.192169   \n",
              "FuelType           0.250749  0.534085   0.167666           0.192169  1.000000   \n",
              "Brand              0.574082  0.997711   0.265453           0.082935  0.301250   \n",
              "Repaired           0.095866  0.265991   0.186894           0.311117  0.188104   \n",
              "\n",
              "                      Brand  Repaired  \n",
              "Price              0.359948  0.333009  \n",
              "VehicleType        0.592255  0.284684  \n",
              "RegistrationYear   0.334345  0.303026  \n",
              "Gearbox            0.509980  0.249751  \n",
              "Power              0.574082  0.095866  \n",
              "Model              0.997711  0.265991  \n",
              "Kilometer          0.265453  0.186894  \n",
              "RegistrationMonth  0.082935  0.311117  \n",
              "FuelType           0.301250  0.188104  \n",
              "Brand              1.000000  0.127211  \n",
              "Repaired           0.127211  1.000000  "
            ],
            "text/html": [
              "\n",
              "  <div id=\"df-22c2cc69-cec3-470d-950f-1c785e47ed01\" class=\"colab-df-container\">\n",
              "    <div>\n",
              "<style scoped>\n",
              "    .dataframe tbody tr th:only-of-type {\n",
              "        vertical-align: middle;\n",
              "    }\n",
              "\n",
              "    .dataframe tbody tr th {\n",
              "        vertical-align: top;\n",
              "    }\n",
              "\n",
              "    .dataframe thead th {\n",
              "        text-align: right;\n",
              "    }\n",
              "</style>\n",
              "<table border=\"1\" class=\"dataframe\">\n",
              "  <thead>\n",
              "    <tr style=\"text-align: right;\">\n",
              "      <th></th>\n",
              "      <th>Price</th>\n",
              "      <th>VehicleType</th>\n",
              "      <th>RegistrationYear</th>\n",
              "      <th>Gearbox</th>\n",
              "      <th>Power</th>\n",
              "      <th>Model</th>\n",
              "      <th>Kilometer</th>\n",
              "      <th>RegistrationMonth</th>\n",
              "      <th>FuelType</th>\n",
              "      <th>Brand</th>\n",
              "      <th>Repaired</th>\n",
              "    </tr>\n",
              "  </thead>\n",
              "  <tbody>\n",
              "    <tr>\n",
              "      <th>Price</th>\n",
              "      <td>1.000000</td>\n",
              "      <td>0.253902</td>\n",
              "      <td>0.677947</td>\n",
              "      <td>0.286208</td>\n",
              "      <td>0.504900</td>\n",
              "      <td>0.569139</td>\n",
              "      <td>0.334560</td>\n",
              "      <td>0.122597</td>\n",
              "      <td>0.255628</td>\n",
              "      <td>0.359948</td>\n",
              "      <td>0.333009</td>\n",
              "    </tr>\n",
              "    <tr>\n",
              "      <th>VehicleType</th>\n",
              "      <td>0.253902</td>\n",
              "      <td>1.000000</td>\n",
              "      <td>0.328924</td>\n",
              "      <td>0.379689</td>\n",
              "      <td>0.485566</td>\n",
              "      <td>0.903330</td>\n",
              "      <td>0.200002</td>\n",
              "      <td>0.180218</td>\n",
              "      <td>0.365105</td>\n",
              "      <td>0.592255</td>\n",
              "      <td>0.284684</td>\n",
              "    </tr>\n",
              "    <tr>\n",
              "      <th>RegistrationYear</th>\n",
              "      <td>0.677947</td>\n",
              "      <td>0.328924</td>\n",
              "      <td>1.000000</td>\n",
              "      <td>0.159405</td>\n",
              "      <td>0.258587</td>\n",
              "      <td>0.659101</td>\n",
              "      <td>0.644620</td>\n",
              "      <td>0.182651</td>\n",
              "      <td>0.354730</td>\n",
              "      <td>0.334345</td>\n",
              "      <td>0.303026</td>\n",
              "    </tr>\n",
              "    <tr>\n",
              "      <th>Gearbox</th>\n",
              "      <td>0.286208</td>\n",
              "      <td>0.379689</td>\n",
              "      <td>0.159405</td>\n",
              "      <td>1.000000</td>\n",
              "      <td>0.476569</td>\n",
              "      <td>0.623967</td>\n",
              "      <td>0.048424</td>\n",
              "      <td>0.161229</td>\n",
              "      <td>0.206556</td>\n",
              "      <td>0.509980</td>\n",
              "      <td>0.249751</td>\n",
              "    </tr>\n",
              "    <tr>\n",
              "      <th>Power</th>\n",
              "      <td>0.504900</td>\n",
              "      <td>0.485566</td>\n",
              "      <td>0.258587</td>\n",
              "      <td>0.476569</td>\n",
              "      <td>1.000000</td>\n",
              "      <td>0.789836</td>\n",
              "      <td>0.109164</td>\n",
              "      <td>0.047182</td>\n",
              "      <td>0.250749</td>\n",
              "      <td>0.574082</td>\n",
              "      <td>0.095866</td>\n",
              "    </tr>\n",
              "    <tr>\n",
              "      <th>Model</th>\n",
              "      <td>0.569139</td>\n",
              "      <td>0.903330</td>\n",
              "      <td>0.659101</td>\n",
              "      <td>0.623967</td>\n",
              "      <td>0.789836</td>\n",
              "      <td>1.000000</td>\n",
              "      <td>0.444777</td>\n",
              "      <td>0.188848</td>\n",
              "      <td>0.534085</td>\n",
              "      <td>0.997711</td>\n",
              "      <td>0.265991</td>\n",
              "    </tr>\n",
              "    <tr>\n",
              "      <th>Kilometer</th>\n",
              "      <td>0.334560</td>\n",
              "      <td>0.200002</td>\n",
              "      <td>0.644620</td>\n",
              "      <td>0.048424</td>\n",
              "      <td>0.109164</td>\n",
              "      <td>0.444777</td>\n",
              "      <td>1.000000</td>\n",
              "      <td>0.106176</td>\n",
              "      <td>0.167666</td>\n",
              "      <td>0.265453</td>\n",
              "      <td>0.186894</td>\n",
              "    </tr>\n",
              "    <tr>\n",
              "      <th>RegistrationMonth</th>\n",
              "      <td>0.122597</td>\n",
              "      <td>0.180218</td>\n",
              "      <td>0.182651</td>\n",
              "      <td>0.161229</td>\n",
              "      <td>0.047182</td>\n",
              "      <td>0.188848</td>\n",
              "      <td>0.106176</td>\n",
              "      <td>1.000000</td>\n",
              "      <td>0.192169</td>\n",
              "      <td>0.082935</td>\n",
              "      <td>0.311117</td>\n",
              "    </tr>\n",
              "    <tr>\n",
              "      <th>FuelType</th>\n",
              "      <td>0.255628</td>\n",
              "      <td>0.365105</td>\n",
              "      <td>0.354730</td>\n",
              "      <td>0.206556</td>\n",
              "      <td>0.250749</td>\n",
              "      <td>0.534085</td>\n",
              "      <td>0.167666</td>\n",
              "      <td>0.192169</td>\n",
              "      <td>1.000000</td>\n",
              "      <td>0.301250</td>\n",
              "      <td>0.188104</td>\n",
              "    </tr>\n",
              "    <tr>\n",
              "      <th>Brand</th>\n",
              "      <td>0.359948</td>\n",
              "      <td>0.592255</td>\n",
              "      <td>0.334345</td>\n",
              "      <td>0.509980</td>\n",
              "      <td>0.574082</td>\n",
              "      <td>0.997711</td>\n",
              "      <td>0.265453</td>\n",
              "      <td>0.082935</td>\n",
              "      <td>0.301250</td>\n",
              "      <td>1.000000</td>\n",
              "      <td>0.127211</td>\n",
              "    </tr>\n",
              "    <tr>\n",
              "      <th>Repaired</th>\n",
              "      <td>0.333009</td>\n",
              "      <td>0.284684</td>\n",
              "      <td>0.303026</td>\n",
              "      <td>0.249751</td>\n",
              "      <td>0.095866</td>\n",
              "      <td>0.265991</td>\n",
              "      <td>0.186894</td>\n",
              "      <td>0.311117</td>\n",
              "      <td>0.188104</td>\n",
              "      <td>0.127211</td>\n",
              "      <td>1.000000</td>\n",
              "    </tr>\n",
              "  </tbody>\n",
              "</table>\n",
              "</div>\n",
              "    <div class=\"colab-df-buttons\">\n",
              "\n",
              "  <div class=\"colab-df-container\">\n",
              "    <button class=\"colab-df-convert\" onclick=\"convertToInteractive('df-22c2cc69-cec3-470d-950f-1c785e47ed01')\"\n",
              "            title=\"Convert this dataframe to an interactive table.\"\n",
              "            style=\"display:none;\">\n",
              "\n",
              "  <svg xmlns=\"http://www.w3.org/2000/svg\" height=\"24px\" viewBox=\"0 -960 960 960\">\n",
              "    <path d=\"M120-120v-720h720v720H120Zm60-500h600v-160H180v160Zm220 220h160v-160H400v160Zm0 220h160v-160H400v160ZM180-400h160v-160H180v160Zm440 0h160v-160H620v160ZM180-180h160v-160H180v160Zm440 0h160v-160H620v160Z\"/>\n",
              "  </svg>\n",
              "    </button>\n",
              "\n",
              "  <style>\n",
              "    .colab-df-container {\n",
              "      display:flex;\n",
              "      gap: 12px;\n",
              "    }\n",
              "\n",
              "    .colab-df-convert {\n",
              "      background-color: #E8F0FE;\n",
              "      border: none;\n",
              "      border-radius: 50%;\n",
              "      cursor: pointer;\n",
              "      display: none;\n",
              "      fill: #1967D2;\n",
              "      height: 32px;\n",
              "      padding: 0 0 0 0;\n",
              "      width: 32px;\n",
              "    }\n",
              "\n",
              "    .colab-df-convert:hover {\n",
              "      background-color: #E2EBFA;\n",
              "      box-shadow: 0px 1px 2px rgba(60, 64, 67, 0.3), 0px 1px 3px 1px rgba(60, 64, 67, 0.15);\n",
              "      fill: #174EA6;\n",
              "    }\n",
              "\n",
              "    .colab-df-buttons div {\n",
              "      margin-bottom: 4px;\n",
              "    }\n",
              "\n",
              "    [theme=dark] .colab-df-convert {\n",
              "      background-color: #3B4455;\n",
              "      fill: #D2E3FC;\n",
              "    }\n",
              "\n",
              "    [theme=dark] .colab-df-convert:hover {\n",
              "      background-color: #434B5C;\n",
              "      box-shadow: 0px 1px 3px 1px rgba(0, 0, 0, 0.15);\n",
              "      filter: drop-shadow(0px 1px 2px rgba(0, 0, 0, 0.3));\n",
              "      fill: #FFFFFF;\n",
              "    }\n",
              "  </style>\n",
              "\n",
              "    <script>\n",
              "      const buttonEl =\n",
              "        document.querySelector('#df-22c2cc69-cec3-470d-950f-1c785e47ed01 button.colab-df-convert');\n",
              "      buttonEl.style.display =\n",
              "        google.colab.kernel.accessAllowed ? 'block' : 'none';\n",
              "\n",
              "      async function convertToInteractive(key) {\n",
              "        const element = document.querySelector('#df-22c2cc69-cec3-470d-950f-1c785e47ed01');\n",
              "        const dataTable =\n",
              "          await google.colab.kernel.invokeFunction('convertToInteractive',\n",
              "                                                    [key], {});\n",
              "        if (!dataTable) return;\n",
              "\n",
              "        const docLinkHtml = 'Like what you see? Visit the ' +\n",
              "          '<a target=\"_blank\" href=https://colab.research.google.com/notebooks/data_table.ipynb>data table notebook</a>'\n",
              "          + ' to learn more about interactive tables.';\n",
              "        element.innerHTML = '';\n",
              "        dataTable['output_type'] = 'display_data';\n",
              "        await google.colab.output.renderOutput(dataTable, element);\n",
              "        const docLink = document.createElement('div');\n",
              "        docLink.innerHTML = docLinkHtml;\n",
              "        element.appendChild(docLink);\n",
              "      }\n",
              "    </script>\n",
              "  </div>\n",
              "\n",
              "\n",
              "<div id=\"df-c9dfcc6f-c467-486a-b7c9-f7ef0436d010\">\n",
              "  <button class=\"colab-df-quickchart\" onclick=\"quickchart('df-c9dfcc6f-c467-486a-b7c9-f7ef0436d010')\"\n",
              "            title=\"Suggest charts\"\n",
              "            style=\"display:none;\">\n",
              "\n",
              "<svg xmlns=\"http://www.w3.org/2000/svg\" height=\"24px\"viewBox=\"0 0 24 24\"\n",
              "     width=\"24px\">\n",
              "    <g>\n",
              "        <path d=\"M19 3H5c-1.1 0-2 .9-2 2v14c0 1.1.9 2 2 2h14c1.1 0 2-.9 2-2V5c0-1.1-.9-2-2-2zM9 17H7v-7h2v7zm4 0h-2V7h2v10zm4 0h-2v-4h2v4z\"/>\n",
              "    </g>\n",
              "</svg>\n",
              "  </button>\n",
              "\n",
              "<style>\n",
              "  .colab-df-quickchart {\n",
              "      --bg-color: #E8F0FE;\n",
              "      --fill-color: #1967D2;\n",
              "      --hover-bg-color: #E2EBFA;\n",
              "      --hover-fill-color: #174EA6;\n",
              "      --disabled-fill-color: #AAA;\n",
              "      --disabled-bg-color: #DDD;\n",
              "  }\n",
              "\n",
              "  [theme=dark] .colab-df-quickchart {\n",
              "      --bg-color: #3B4455;\n",
              "      --fill-color: #D2E3FC;\n",
              "      --hover-bg-color: #434B5C;\n",
              "      --hover-fill-color: #FFFFFF;\n",
              "      --disabled-bg-color: #3B4455;\n",
              "      --disabled-fill-color: #666;\n",
              "  }\n",
              "\n",
              "  .colab-df-quickchart {\n",
              "    background-color: var(--bg-color);\n",
              "    border: none;\n",
              "    border-radius: 50%;\n",
              "    cursor: pointer;\n",
              "    display: none;\n",
              "    fill: var(--fill-color);\n",
              "    height: 32px;\n",
              "    padding: 0;\n",
              "    width: 32px;\n",
              "  }\n",
              "\n",
              "  .colab-df-quickchart:hover {\n",
              "    background-color: var(--hover-bg-color);\n",
              "    box-shadow: 0 1px 2px rgba(60, 64, 67, 0.3), 0 1px 3px 1px rgba(60, 64, 67, 0.15);\n",
              "    fill: var(--button-hover-fill-color);\n",
              "  }\n",
              "\n",
              "  .colab-df-quickchart-complete:disabled,\n",
              "  .colab-df-quickchart-complete:disabled:hover {\n",
              "    background-color: var(--disabled-bg-color);\n",
              "    fill: var(--disabled-fill-color);\n",
              "    box-shadow: none;\n",
              "  }\n",
              "\n",
              "  .colab-df-spinner {\n",
              "    border: 2px solid var(--fill-color);\n",
              "    border-color: transparent;\n",
              "    border-bottom-color: var(--fill-color);\n",
              "    animation:\n",
              "      spin 1s steps(1) infinite;\n",
              "  }\n",
              "\n",
              "  @keyframes spin {\n",
              "    0% {\n",
              "      border-color: transparent;\n",
              "      border-bottom-color: var(--fill-color);\n",
              "      border-left-color: var(--fill-color);\n",
              "    }\n",
              "    20% {\n",
              "      border-color: transparent;\n",
              "      border-left-color: var(--fill-color);\n",
              "      border-top-color: var(--fill-color);\n",
              "    }\n",
              "    30% {\n",
              "      border-color: transparent;\n",
              "      border-left-color: var(--fill-color);\n",
              "      border-top-color: var(--fill-color);\n",
              "      border-right-color: var(--fill-color);\n",
              "    }\n",
              "    40% {\n",
              "      border-color: transparent;\n",
              "      border-right-color: var(--fill-color);\n",
              "      border-top-color: var(--fill-color);\n",
              "    }\n",
              "    60% {\n",
              "      border-color: transparent;\n",
              "      border-right-color: var(--fill-color);\n",
              "    }\n",
              "    80% {\n",
              "      border-color: transparent;\n",
              "      border-right-color: var(--fill-color);\n",
              "      border-bottom-color: var(--fill-color);\n",
              "    }\n",
              "    90% {\n",
              "      border-color: transparent;\n",
              "      border-bottom-color: var(--fill-color);\n",
              "    }\n",
              "  }\n",
              "</style>\n",
              "\n",
              "  <script>\n",
              "    async function quickchart(key) {\n",
              "      const quickchartButtonEl =\n",
              "        document.querySelector('#' + key + ' button');\n",
              "      quickchartButtonEl.disabled = true;  // To prevent multiple clicks.\n",
              "      quickchartButtonEl.classList.add('colab-df-spinner');\n",
              "      try {\n",
              "        const charts = await google.colab.kernel.invokeFunction(\n",
              "            'suggestCharts', [key], {});\n",
              "      } catch (error) {\n",
              "        console.error('Error during call to suggestCharts:', error);\n",
              "      }\n",
              "      quickchartButtonEl.classList.remove('colab-df-spinner');\n",
              "      quickchartButtonEl.classList.add('colab-df-quickchart-complete');\n",
              "    }\n",
              "    (() => {\n",
              "      let quickchartButtonEl =\n",
              "        document.querySelector('#df-c9dfcc6f-c467-486a-b7c9-f7ef0436d010 button');\n",
              "      quickchartButtonEl.style.display =\n",
              "        google.colab.kernel.accessAllowed ? 'block' : 'none';\n",
              "    })();\n",
              "  </script>\n",
              "</div>\n",
              "    </div>\n",
              "  </div>\n"
            ],
            "application/vnd.google.colaboratory.intrinsic+json": {
              "type": "dataframe",
              "summary": "{\n  \"name\": \"data\",\n  \"rows\": 11,\n  \"fields\": [\n    {\n      \"column\": \"Price\",\n      \"properties\": {\n        \"dtype\": \"number\",\n        \"std\": 0.24723793259183635,\n        \"min\": 0.1225965147639419,\n        \"max\": 1.0,\n        \"num_unique_values\": 11,\n        \"samples\": [\n          0.5691394428482234,\n          1.0,\n          0.3599481314166226\n        ],\n        \"semantic_type\": \"\",\n        \"description\": \"\"\n      }\n    },\n    {\n      \"column\": \"VehicleType\",\n      \"properties\": {\n        \"dtype\": \"number\",\n        \"std\": 0.2751969576398923,\n        \"min\": 0.18021842344204334,\n        \"max\": 1.0,\n        \"num_unique_values\": 11,\n        \"samples\": [\n          0.9033301638499904,\n          0.2539024822200111,\n          0.5922551129017073\n        ],\n        \"semantic_type\": \"\",\n        \"description\": \"\"\n      }\n    },\n    {\n      \"column\": \"RegistrationYear\",\n      \"properties\": {\n        \"dtype\": \"number\",\n        \"std\": 0.2621326969293109,\n        \"min\": 0.15940460985884164,\n        \"max\": 1.0,\n        \"num_unique_values\": 11,\n        \"samples\": [\n          0.6591006766915221,\n          0.6779469276780101,\n          0.33434539678606917\n        ],\n        \"semantic_type\": \"\",\n        \"description\": \"\"\n      }\n    },\n    {\n      \"column\": \"Gearbox\",\n      \"properties\": {\n        \"dtype\": \"number\",\n        \"std\": 0.2705354309489186,\n        \"min\": 0.04842448054021919,\n        \"max\": 1.0,\n        \"num_unique_values\": 11,\n        \"samples\": [\n          0.6239670565080456,\n          0.2862077597537564,\n          0.5099799609129358\n        ],\n        \"semantic_type\": \"\",\n        \"description\": \"\"\n      }\n    },\n    {\n      \"column\": \"Power\",\n      \"properties\": {\n        \"dtype\": \"number\",\n        \"std\": 0.3011533324169955,\n        \"min\": 0.04718223269823699,\n        \"max\": 1.0,\n        \"num_unique_values\": 11,\n        \"samples\": [\n          0.7898356483861376,\n          0.5048996137300534,\n          0.5740824345687707\n        ],\n        \"semantic_type\": \"\",\n        \"description\": \"\"\n      }\n    },\n    {\n      \"column\": \"Model\",\n      \"properties\": {\n        \"dtype\": \"number\",\n        \"std\": 0.273382754116182,\n        \"min\": 0.18884787562320787,\n        \"max\": 1.0,\n        \"num_unique_values\": 11,\n        \"samples\": [\n          1.0,\n          0.5691394428482234,\n          0.9977110171912111\n        ],\n        \"semantic_type\": \"\",\n        \"description\": \"\"\n      }\n    },\n    {\n      \"column\": \"Kilometer\",\n      \"properties\": {\n        \"dtype\": \"number\",\n        \"std\": 0.28386081802265906,\n        \"min\": 0.04842448054021919,\n        \"max\": 1.0,\n        \"num_unique_values\": 11,\n        \"samples\": [\n          0.4447774888732668,\n          0.334559910798305,\n          0.2654525432266224\n        ],\n        \"semantic_type\": \"\",\n        \"description\": \"\"\n      }\n    },\n    {\n      \"column\": \"RegistrationMonth\",\n      \"properties\": {\n        \"dtype\": \"number\",\n        \"std\": 0.26339844839084176,\n        \"min\": 0.04718223269823699,\n        \"max\": 1.0,\n        \"num_unique_values\": 11,\n        \"samples\": [\n          0.18884787562320787,\n          0.1225965147639419,\n          0.08293543361392906\n        ],\n        \"semantic_type\": \"\",\n        \"description\": \"\"\n      }\n    },\n    {\n      \"column\": \"FuelType\",\n      \"properties\": {\n        \"dtype\": \"number\",\n        \"std\": 0.2413730559103967,\n        \"min\": 0.16766625485886877,\n        \"max\": 1.0,\n        \"num_unique_values\": 11,\n        \"samples\": [\n          0.5340854604251678,\n          0.25562764854835535,\n          0.3012497466936821\n        ],\n        \"semantic_type\": \"\",\n        \"description\": \"\"\n      }\n    },\n    {\n      \"column\": \"Brand\",\n      \"properties\": {\n        \"dtype\": \"number\",\n        \"std\": 0.30900713411836706,\n        \"min\": 0.08293543361392906,\n        \"max\": 1.0,\n        \"num_unique_values\": 11,\n        \"samples\": [\n          0.9977110171912111,\n          0.3599481314166226,\n          1.0\n        ],\n        \"semantic_type\": \"\",\n        \"description\": \"\"\n      }\n    },\n    {\n      \"column\": \"Repaired\",\n      \"properties\": {\n        \"dtype\": \"number\",\n        \"std\": 0.2432672626801231,\n        \"min\": 0.09586564360109454,\n        \"max\": 1.0,\n        \"num_unique_values\": 11,\n        \"samples\": [\n          0.2659908508312125,\n          0.3330085543674756,\n          0.1272107344018243\n        ],\n        \"semantic_type\": \"\",\n        \"description\": \"\"\n      }\n    }\n  ]\n}"
            }
          },
          "metadata": {},
          "execution_count": 19
        }
      ],
      "source": [
        "data.phik_matrix(interval_cols=['Price', 'Power'])"
      ]
    },
    {
      "cell_type": "markdown",
      "metadata": {
        "id": "8A4_od83510y"
      },
      "source": [
        "Удалю те, корреляция которых меньше 0.3"
      ]
    },
    {
      "cell_type": "code",
      "execution_count": 20,
      "metadata": {
        "colab": {
          "base_uri": "https://localhost:8080/",
          "height": 143
        },
        "id": "4ex5oT01510y",
        "outputId": "67414e7e-9e4f-448a-dd67-5d3931bda5c1"
      },
      "outputs": [
        {
          "output_type": "execute_result",
          "data": {
            "text/plain": [
              "   Price  RegistrationYear  Power    Model  Kilometer       Brand Repaired\n",
              "1  18300              2011    190  unknown     125000        audi      yes\n",
              "2   9800              2004    163    grand     125000        jeep  unknown\n",
              "3   1500              2001     75     golf     150000  volkswagen       no"
            ],
            "text/html": [
              "\n",
              "  <div id=\"df-b44d6624-b9e2-47eb-9c0e-f80207a91918\" class=\"colab-df-container\">\n",
              "    <div>\n",
              "<style scoped>\n",
              "    .dataframe tbody tr th:only-of-type {\n",
              "        vertical-align: middle;\n",
              "    }\n",
              "\n",
              "    .dataframe tbody tr th {\n",
              "        vertical-align: top;\n",
              "    }\n",
              "\n",
              "    .dataframe thead th {\n",
              "        text-align: right;\n",
              "    }\n",
              "</style>\n",
              "<table border=\"1\" class=\"dataframe\">\n",
              "  <thead>\n",
              "    <tr style=\"text-align: right;\">\n",
              "      <th></th>\n",
              "      <th>Price</th>\n",
              "      <th>RegistrationYear</th>\n",
              "      <th>Power</th>\n",
              "      <th>Model</th>\n",
              "      <th>Kilometer</th>\n",
              "      <th>Brand</th>\n",
              "      <th>Repaired</th>\n",
              "    </tr>\n",
              "  </thead>\n",
              "  <tbody>\n",
              "    <tr>\n",
              "      <th>1</th>\n",
              "      <td>18300</td>\n",
              "      <td>2011</td>\n",
              "      <td>190</td>\n",
              "      <td>unknown</td>\n",
              "      <td>125000</td>\n",
              "      <td>audi</td>\n",
              "      <td>yes</td>\n",
              "    </tr>\n",
              "    <tr>\n",
              "      <th>2</th>\n",
              "      <td>9800</td>\n",
              "      <td>2004</td>\n",
              "      <td>163</td>\n",
              "      <td>grand</td>\n",
              "      <td>125000</td>\n",
              "      <td>jeep</td>\n",
              "      <td>unknown</td>\n",
              "    </tr>\n",
              "    <tr>\n",
              "      <th>3</th>\n",
              "      <td>1500</td>\n",
              "      <td>2001</td>\n",
              "      <td>75</td>\n",
              "      <td>golf</td>\n",
              "      <td>150000</td>\n",
              "      <td>volkswagen</td>\n",
              "      <td>no</td>\n",
              "    </tr>\n",
              "  </tbody>\n",
              "</table>\n",
              "</div>\n",
              "    <div class=\"colab-df-buttons\">\n",
              "\n",
              "  <div class=\"colab-df-container\">\n",
              "    <button class=\"colab-df-convert\" onclick=\"convertToInteractive('df-b44d6624-b9e2-47eb-9c0e-f80207a91918')\"\n",
              "            title=\"Convert this dataframe to an interactive table.\"\n",
              "            style=\"display:none;\">\n",
              "\n",
              "  <svg xmlns=\"http://www.w3.org/2000/svg\" height=\"24px\" viewBox=\"0 -960 960 960\">\n",
              "    <path d=\"M120-120v-720h720v720H120Zm60-500h600v-160H180v160Zm220 220h160v-160H400v160Zm0 220h160v-160H400v160ZM180-400h160v-160H180v160Zm440 0h160v-160H620v160ZM180-180h160v-160H180v160Zm440 0h160v-160H620v160Z\"/>\n",
              "  </svg>\n",
              "    </button>\n",
              "\n",
              "  <style>\n",
              "    .colab-df-container {\n",
              "      display:flex;\n",
              "      gap: 12px;\n",
              "    }\n",
              "\n",
              "    .colab-df-convert {\n",
              "      background-color: #E8F0FE;\n",
              "      border: none;\n",
              "      border-radius: 50%;\n",
              "      cursor: pointer;\n",
              "      display: none;\n",
              "      fill: #1967D2;\n",
              "      height: 32px;\n",
              "      padding: 0 0 0 0;\n",
              "      width: 32px;\n",
              "    }\n",
              "\n",
              "    .colab-df-convert:hover {\n",
              "      background-color: #E2EBFA;\n",
              "      box-shadow: 0px 1px 2px rgba(60, 64, 67, 0.3), 0px 1px 3px 1px rgba(60, 64, 67, 0.15);\n",
              "      fill: #174EA6;\n",
              "    }\n",
              "\n",
              "    .colab-df-buttons div {\n",
              "      margin-bottom: 4px;\n",
              "    }\n",
              "\n",
              "    [theme=dark] .colab-df-convert {\n",
              "      background-color: #3B4455;\n",
              "      fill: #D2E3FC;\n",
              "    }\n",
              "\n",
              "    [theme=dark] .colab-df-convert:hover {\n",
              "      background-color: #434B5C;\n",
              "      box-shadow: 0px 1px 3px 1px rgba(0, 0, 0, 0.15);\n",
              "      filter: drop-shadow(0px 1px 2px rgba(0, 0, 0, 0.3));\n",
              "      fill: #FFFFFF;\n",
              "    }\n",
              "  </style>\n",
              "\n",
              "    <script>\n",
              "      const buttonEl =\n",
              "        document.querySelector('#df-b44d6624-b9e2-47eb-9c0e-f80207a91918 button.colab-df-convert');\n",
              "      buttonEl.style.display =\n",
              "        google.colab.kernel.accessAllowed ? 'block' : 'none';\n",
              "\n",
              "      async function convertToInteractive(key) {\n",
              "        const element = document.querySelector('#df-b44d6624-b9e2-47eb-9c0e-f80207a91918');\n",
              "        const dataTable =\n",
              "          await google.colab.kernel.invokeFunction('convertToInteractive',\n",
              "                                                    [key], {});\n",
              "        if (!dataTable) return;\n",
              "\n",
              "        const docLinkHtml = 'Like what you see? Visit the ' +\n",
              "          '<a target=\"_blank\" href=https://colab.research.google.com/notebooks/data_table.ipynb>data table notebook</a>'\n",
              "          + ' to learn more about interactive tables.';\n",
              "        element.innerHTML = '';\n",
              "        dataTable['output_type'] = 'display_data';\n",
              "        await google.colab.output.renderOutput(dataTable, element);\n",
              "        const docLink = document.createElement('div');\n",
              "        docLink.innerHTML = docLinkHtml;\n",
              "        element.appendChild(docLink);\n",
              "      }\n",
              "    </script>\n",
              "  </div>\n",
              "\n",
              "\n",
              "<div id=\"df-8d41f2bb-18ef-43e6-a98e-eb8f6170fccf\">\n",
              "  <button class=\"colab-df-quickchart\" onclick=\"quickchart('df-8d41f2bb-18ef-43e6-a98e-eb8f6170fccf')\"\n",
              "            title=\"Suggest charts\"\n",
              "            style=\"display:none;\">\n",
              "\n",
              "<svg xmlns=\"http://www.w3.org/2000/svg\" height=\"24px\"viewBox=\"0 0 24 24\"\n",
              "     width=\"24px\">\n",
              "    <g>\n",
              "        <path d=\"M19 3H5c-1.1 0-2 .9-2 2v14c0 1.1.9 2 2 2h14c1.1 0 2-.9 2-2V5c0-1.1-.9-2-2-2zM9 17H7v-7h2v7zm4 0h-2V7h2v10zm4 0h-2v-4h2v4z\"/>\n",
              "    </g>\n",
              "</svg>\n",
              "  </button>\n",
              "\n",
              "<style>\n",
              "  .colab-df-quickchart {\n",
              "      --bg-color: #E8F0FE;\n",
              "      --fill-color: #1967D2;\n",
              "      --hover-bg-color: #E2EBFA;\n",
              "      --hover-fill-color: #174EA6;\n",
              "      --disabled-fill-color: #AAA;\n",
              "      --disabled-bg-color: #DDD;\n",
              "  }\n",
              "\n",
              "  [theme=dark] .colab-df-quickchart {\n",
              "      --bg-color: #3B4455;\n",
              "      --fill-color: #D2E3FC;\n",
              "      --hover-bg-color: #434B5C;\n",
              "      --hover-fill-color: #FFFFFF;\n",
              "      --disabled-bg-color: #3B4455;\n",
              "      --disabled-fill-color: #666;\n",
              "  }\n",
              "\n",
              "  .colab-df-quickchart {\n",
              "    background-color: var(--bg-color);\n",
              "    border: none;\n",
              "    border-radius: 50%;\n",
              "    cursor: pointer;\n",
              "    display: none;\n",
              "    fill: var(--fill-color);\n",
              "    height: 32px;\n",
              "    padding: 0;\n",
              "    width: 32px;\n",
              "  }\n",
              "\n",
              "  .colab-df-quickchart:hover {\n",
              "    background-color: var(--hover-bg-color);\n",
              "    box-shadow: 0 1px 2px rgba(60, 64, 67, 0.3), 0 1px 3px 1px rgba(60, 64, 67, 0.15);\n",
              "    fill: var(--button-hover-fill-color);\n",
              "  }\n",
              "\n",
              "  .colab-df-quickchart-complete:disabled,\n",
              "  .colab-df-quickchart-complete:disabled:hover {\n",
              "    background-color: var(--disabled-bg-color);\n",
              "    fill: var(--disabled-fill-color);\n",
              "    box-shadow: none;\n",
              "  }\n",
              "\n",
              "  .colab-df-spinner {\n",
              "    border: 2px solid var(--fill-color);\n",
              "    border-color: transparent;\n",
              "    border-bottom-color: var(--fill-color);\n",
              "    animation:\n",
              "      spin 1s steps(1) infinite;\n",
              "  }\n",
              "\n",
              "  @keyframes spin {\n",
              "    0% {\n",
              "      border-color: transparent;\n",
              "      border-bottom-color: var(--fill-color);\n",
              "      border-left-color: var(--fill-color);\n",
              "    }\n",
              "    20% {\n",
              "      border-color: transparent;\n",
              "      border-left-color: var(--fill-color);\n",
              "      border-top-color: var(--fill-color);\n",
              "    }\n",
              "    30% {\n",
              "      border-color: transparent;\n",
              "      border-left-color: var(--fill-color);\n",
              "      border-top-color: var(--fill-color);\n",
              "      border-right-color: var(--fill-color);\n",
              "    }\n",
              "    40% {\n",
              "      border-color: transparent;\n",
              "      border-right-color: var(--fill-color);\n",
              "      border-top-color: var(--fill-color);\n",
              "    }\n",
              "    60% {\n",
              "      border-color: transparent;\n",
              "      border-right-color: var(--fill-color);\n",
              "    }\n",
              "    80% {\n",
              "      border-color: transparent;\n",
              "      border-right-color: var(--fill-color);\n",
              "      border-bottom-color: var(--fill-color);\n",
              "    }\n",
              "    90% {\n",
              "      border-color: transparent;\n",
              "      border-bottom-color: var(--fill-color);\n",
              "    }\n",
              "  }\n",
              "</style>\n",
              "\n",
              "  <script>\n",
              "    async function quickchart(key) {\n",
              "      const quickchartButtonEl =\n",
              "        document.querySelector('#' + key + ' button');\n",
              "      quickchartButtonEl.disabled = true;  // To prevent multiple clicks.\n",
              "      quickchartButtonEl.classList.add('colab-df-spinner');\n",
              "      try {\n",
              "        const charts = await google.colab.kernel.invokeFunction(\n",
              "            'suggestCharts', [key], {});\n",
              "      } catch (error) {\n",
              "        console.error('Error during call to suggestCharts:', error);\n",
              "      }\n",
              "      quickchartButtonEl.classList.remove('colab-df-spinner');\n",
              "      quickchartButtonEl.classList.add('colab-df-quickchart-complete');\n",
              "    }\n",
              "    (() => {\n",
              "      let quickchartButtonEl =\n",
              "        document.querySelector('#df-8d41f2bb-18ef-43e6-a98e-eb8f6170fccf button');\n",
              "      quickchartButtonEl.style.display =\n",
              "        google.colab.kernel.accessAllowed ? 'block' : 'none';\n",
              "    })();\n",
              "  </script>\n",
              "</div>\n",
              "    </div>\n",
              "  </div>\n"
            ],
            "application/vnd.google.colaboratory.intrinsic+json": {
              "type": "dataframe",
              "variable_name": "data"
            }
          },
          "metadata": {},
          "execution_count": 20
        }
      ],
      "source": [
        "data = data.drop(['RegistrationMonth', 'VehicleType', 'Gearbox', 'FuelType'], axis=1)\n",
        "data.head(3)"
      ]
    },
    {
      "cell_type": "markdown",
      "metadata": {
        "id": "QuaRJL585100"
      },
      "source": [
        "Проверю, появились ли у нас новые явные дубликаты после удаления признаков."
      ]
    },
    {
      "cell_type": "code",
      "execution_count": 21,
      "metadata": {
        "colab": {
          "base_uri": "https://localhost:8080/"
        },
        "id": "o91KjdW05100",
        "outputId": "2f7a075d-66df-461d-d08d-765e57661aa5"
      },
      "outputs": [
        {
          "output_type": "execute_result",
          "data": {
            "text/plain": [
              "52795"
            ]
          },
          "metadata": {},
          "execution_count": 21
        }
      ],
      "source": [
        "data.duplicated().sum()"
      ]
    },
    {
      "cell_type": "markdown",
      "metadata": {
        "id": "kTpRPTq85100"
      },
      "source": [
        "Они действительно образовались, удаляю их."
      ]
    },
    {
      "cell_type": "code",
      "execution_count": 22,
      "metadata": {
        "colab": {
          "base_uri": "https://localhost:8080/"
        },
        "id": "AtSeTagJ5100",
        "outputId": "4182e5c9-a479-4c1a-9b8a-0062b639dff8"
      },
      "outputs": [
        {
          "output_type": "execute_result",
          "data": {
            "text/plain": [
              "0"
            ]
          },
          "metadata": {},
          "execution_count": 22
        }
      ],
      "source": [
        "data = data.drop_duplicates().reset_index(drop=True)\n",
        "data.duplicated().sum()"
      ]
    },
    {
      "cell_type": "markdown",
      "metadata": {
        "id": "ebmlIjQV5102"
      },
      "source": [
        "### Выделение выборок\n",
        "\n",
        "Выделяю целевой признак, а также разделяю выборки на тренировочную, тестовую и валидационную."
      ]
    },
    {
      "cell_type": "code",
      "execution_count": 23,
      "metadata": {
        "id": "fA570ERc5102"
      },
      "outputs": [],
      "source": [
        "target = data['Price']\n",
        "features = data.drop('Price', axis=1)"
      ]
    },
    {
      "cell_type": "code",
      "execution_count": 24,
      "metadata": {
        "id": "rhfD1iTL5102"
      },
      "outputs": [],
      "source": [
        "features_train_valid, features_test, target_train_valid, target_test = train_test_split(features, target,\n",
        "                                                                                        test_size=0.25,\n",
        "                                                                                        random_state=12345)\n",
        "features_train, features_valid, target_train, target_valid = train_test_split(features_train_valid, target_train_valid,\n",
        "                                                                              test_size=0.25,\n",
        "                                                                              random_state=12345)"
      ]
    },
    {
      "cell_type": "code",
      "execution_count": 25,
      "metadata": {
        "scrolled": true,
        "colab": {
          "base_uri": "https://localhost:8080/"
        },
        "id": "DEPSmVqi5102",
        "outputId": "df2bb9b3-e551-4c2c-bef9-4438afa5389b"
      },
      "outputs": [
        {
          "output_type": "stream",
          "name": "stdout",
          "text": [
            "features_train shape: (127629, 6)\n",
            "features_valid shape: (42543, 6)\n",
            "features_test shape: (56725, 6)\n",
            "target_train shape: (127629,)\n",
            "target_valid shape: (42543,)\n",
            "target_test shape: (56725,)\n"
          ]
        }
      ],
      "source": [
        "print('features_train shape:', features_train.shape)\n",
        "print('features_valid shape:', features_valid.shape)\n",
        "print('features_test shape:', features_test.shape)\n",
        "print('target_train shape:', target_train.shape)\n",
        "print('target_valid shape:', target_valid.shape)\n",
        "print('target_test shape:', target_test.shape)"
      ]
    },
    {
      "cell_type": "markdown",
      "metadata": {
        "id": "PKIIhnPa5103"
      },
      "source": [
        "### Обработка категориальных переменных\n",
        "\n",
        "Некоторые модели градиентного бустинга имеют встроенные обработчики категориальных переменных, но не все. Плюс, мне необходимо будет сравнить их результаты с не-бустинговыми моделями. Потому, обработаю категориальные переменные с использованием двух разных методов кодирования: OrdinalEncoder для древесных моделей и OneHotEncoder для линейной регрессии."
      ]
    },
    {
      "cell_type": "code",
      "execution_count": 26,
      "metadata": {
        "scrolled": false,
        "id": "CqHzIkTQ5104"
      },
      "outputs": [],
      "source": [
        "oh_encoder = OneHotEncoder(handle_unknown='ignore').fit(features_train)\n",
        "features_train_ohe = oh_encoder.transform(features_train)\n",
        "features_valid_ohe = oh_encoder.transform(features_valid)"
      ]
    },
    {
      "cell_type": "code",
      "execution_count": 27,
      "metadata": {
        "colab": {
          "base_uri": "https://localhost:8080/",
          "height": 143
        },
        "id": "uVaBrq655104",
        "outputId": "4433feae-6b41-4f3a-9a67-456675bc8793"
      },
      "outputs": [
        {
          "output_type": "execute_result",
          "data": {
            "text/plain": [
              "        RegistrationYear  Power  Model  Kilometer  Brand  Repaired\n",
              "177546              2015     75   74.0      20000   27.0       0.0\n",
              "328                 2002    150  169.0     150000   38.0       0.0\n",
              "39251               2006    125  102.0     150000   10.0       0.0"
            ],
            "text/html": [
              "\n",
              "  <div id=\"df-e658697d-5f45-4aef-bc86-80523704c3e4\" class=\"colab-df-container\">\n",
              "    <div>\n",
              "<style scoped>\n",
              "    .dataframe tbody tr th:only-of-type {\n",
              "        vertical-align: middle;\n",
              "    }\n",
              "\n",
              "    .dataframe tbody tr th {\n",
              "        vertical-align: top;\n",
              "    }\n",
              "\n",
              "    .dataframe thead th {\n",
              "        text-align: right;\n",
              "    }\n",
              "</style>\n",
              "<table border=\"1\" class=\"dataframe\">\n",
              "  <thead>\n",
              "    <tr style=\"text-align: right;\">\n",
              "      <th></th>\n",
              "      <th>RegistrationYear</th>\n",
              "      <th>Power</th>\n",
              "      <th>Model</th>\n",
              "      <th>Kilometer</th>\n",
              "      <th>Brand</th>\n",
              "      <th>Repaired</th>\n",
              "    </tr>\n",
              "  </thead>\n",
              "  <tbody>\n",
              "    <tr>\n",
              "      <th>177546</th>\n",
              "      <td>2015</td>\n",
              "      <td>75</td>\n",
              "      <td>74.0</td>\n",
              "      <td>20000</td>\n",
              "      <td>27.0</td>\n",
              "      <td>0.0</td>\n",
              "    </tr>\n",
              "    <tr>\n",
              "      <th>328</th>\n",
              "      <td>2002</td>\n",
              "      <td>150</td>\n",
              "      <td>169.0</td>\n",
              "      <td>150000</td>\n",
              "      <td>38.0</td>\n",
              "      <td>0.0</td>\n",
              "    </tr>\n",
              "    <tr>\n",
              "      <th>39251</th>\n",
              "      <td>2006</td>\n",
              "      <td>125</td>\n",
              "      <td>102.0</td>\n",
              "      <td>150000</td>\n",
              "      <td>10.0</td>\n",
              "      <td>0.0</td>\n",
              "    </tr>\n",
              "  </tbody>\n",
              "</table>\n",
              "</div>\n",
              "    <div class=\"colab-df-buttons\">\n",
              "\n",
              "  <div class=\"colab-df-container\">\n",
              "    <button class=\"colab-df-convert\" onclick=\"convertToInteractive('df-e658697d-5f45-4aef-bc86-80523704c3e4')\"\n",
              "            title=\"Convert this dataframe to an interactive table.\"\n",
              "            style=\"display:none;\">\n",
              "\n",
              "  <svg xmlns=\"http://www.w3.org/2000/svg\" height=\"24px\" viewBox=\"0 -960 960 960\">\n",
              "    <path d=\"M120-120v-720h720v720H120Zm60-500h600v-160H180v160Zm220 220h160v-160H400v160Zm0 220h160v-160H400v160ZM180-400h160v-160H180v160Zm440 0h160v-160H620v160ZM180-180h160v-160H180v160Zm440 0h160v-160H620v160Z\"/>\n",
              "  </svg>\n",
              "    </button>\n",
              "\n",
              "  <style>\n",
              "    .colab-df-container {\n",
              "      display:flex;\n",
              "      gap: 12px;\n",
              "    }\n",
              "\n",
              "    .colab-df-convert {\n",
              "      background-color: #E8F0FE;\n",
              "      border: none;\n",
              "      border-radius: 50%;\n",
              "      cursor: pointer;\n",
              "      display: none;\n",
              "      fill: #1967D2;\n",
              "      height: 32px;\n",
              "      padding: 0 0 0 0;\n",
              "      width: 32px;\n",
              "    }\n",
              "\n",
              "    .colab-df-convert:hover {\n",
              "      background-color: #E2EBFA;\n",
              "      box-shadow: 0px 1px 2px rgba(60, 64, 67, 0.3), 0px 1px 3px 1px rgba(60, 64, 67, 0.15);\n",
              "      fill: #174EA6;\n",
              "    }\n",
              "\n",
              "    .colab-df-buttons div {\n",
              "      margin-bottom: 4px;\n",
              "    }\n",
              "\n",
              "    [theme=dark] .colab-df-convert {\n",
              "      background-color: #3B4455;\n",
              "      fill: #D2E3FC;\n",
              "    }\n",
              "\n",
              "    [theme=dark] .colab-df-convert:hover {\n",
              "      background-color: #434B5C;\n",
              "      box-shadow: 0px 1px 3px 1px rgba(0, 0, 0, 0.15);\n",
              "      filter: drop-shadow(0px 1px 2px rgba(0, 0, 0, 0.3));\n",
              "      fill: #FFFFFF;\n",
              "    }\n",
              "  </style>\n",
              "\n",
              "    <script>\n",
              "      const buttonEl =\n",
              "        document.querySelector('#df-e658697d-5f45-4aef-bc86-80523704c3e4 button.colab-df-convert');\n",
              "      buttonEl.style.display =\n",
              "        google.colab.kernel.accessAllowed ? 'block' : 'none';\n",
              "\n",
              "      async function convertToInteractive(key) {\n",
              "        const element = document.querySelector('#df-e658697d-5f45-4aef-bc86-80523704c3e4');\n",
              "        const dataTable =\n",
              "          await google.colab.kernel.invokeFunction('convertToInteractive',\n",
              "                                                    [key], {});\n",
              "        if (!dataTable) return;\n",
              "\n",
              "        const docLinkHtml = 'Like what you see? Visit the ' +\n",
              "          '<a target=\"_blank\" href=https://colab.research.google.com/notebooks/data_table.ipynb>data table notebook</a>'\n",
              "          + ' to learn more about interactive tables.';\n",
              "        element.innerHTML = '';\n",
              "        dataTable['output_type'] = 'display_data';\n",
              "        await google.colab.output.renderOutput(dataTable, element);\n",
              "        const docLink = document.createElement('div');\n",
              "        docLink.innerHTML = docLinkHtml;\n",
              "        element.appendChild(docLink);\n",
              "      }\n",
              "    </script>\n",
              "  </div>\n",
              "\n",
              "\n",
              "<div id=\"df-ef1d1988-ccc4-497b-bff8-647846b33f47\">\n",
              "  <button class=\"colab-df-quickchart\" onclick=\"quickchart('df-ef1d1988-ccc4-497b-bff8-647846b33f47')\"\n",
              "            title=\"Suggest charts\"\n",
              "            style=\"display:none;\">\n",
              "\n",
              "<svg xmlns=\"http://www.w3.org/2000/svg\" height=\"24px\"viewBox=\"0 0 24 24\"\n",
              "     width=\"24px\">\n",
              "    <g>\n",
              "        <path d=\"M19 3H5c-1.1 0-2 .9-2 2v14c0 1.1.9 2 2 2h14c1.1 0 2-.9 2-2V5c0-1.1-.9-2-2-2zM9 17H7v-7h2v7zm4 0h-2V7h2v10zm4 0h-2v-4h2v4z\"/>\n",
              "    </g>\n",
              "</svg>\n",
              "  </button>\n",
              "\n",
              "<style>\n",
              "  .colab-df-quickchart {\n",
              "      --bg-color: #E8F0FE;\n",
              "      --fill-color: #1967D2;\n",
              "      --hover-bg-color: #E2EBFA;\n",
              "      --hover-fill-color: #174EA6;\n",
              "      --disabled-fill-color: #AAA;\n",
              "      --disabled-bg-color: #DDD;\n",
              "  }\n",
              "\n",
              "  [theme=dark] .colab-df-quickchart {\n",
              "      --bg-color: #3B4455;\n",
              "      --fill-color: #D2E3FC;\n",
              "      --hover-bg-color: #434B5C;\n",
              "      --hover-fill-color: #FFFFFF;\n",
              "      --disabled-bg-color: #3B4455;\n",
              "      --disabled-fill-color: #666;\n",
              "  }\n",
              "\n",
              "  .colab-df-quickchart {\n",
              "    background-color: var(--bg-color);\n",
              "    border: none;\n",
              "    border-radius: 50%;\n",
              "    cursor: pointer;\n",
              "    display: none;\n",
              "    fill: var(--fill-color);\n",
              "    height: 32px;\n",
              "    padding: 0;\n",
              "    width: 32px;\n",
              "  }\n",
              "\n",
              "  .colab-df-quickchart:hover {\n",
              "    background-color: var(--hover-bg-color);\n",
              "    box-shadow: 0 1px 2px rgba(60, 64, 67, 0.3), 0 1px 3px 1px rgba(60, 64, 67, 0.15);\n",
              "    fill: var(--button-hover-fill-color);\n",
              "  }\n",
              "\n",
              "  .colab-df-quickchart-complete:disabled,\n",
              "  .colab-df-quickchart-complete:disabled:hover {\n",
              "    background-color: var(--disabled-bg-color);\n",
              "    fill: var(--disabled-fill-color);\n",
              "    box-shadow: none;\n",
              "  }\n",
              "\n",
              "  .colab-df-spinner {\n",
              "    border: 2px solid var(--fill-color);\n",
              "    border-color: transparent;\n",
              "    border-bottom-color: var(--fill-color);\n",
              "    animation:\n",
              "      spin 1s steps(1) infinite;\n",
              "  }\n",
              "\n",
              "  @keyframes spin {\n",
              "    0% {\n",
              "      border-color: transparent;\n",
              "      border-bottom-color: var(--fill-color);\n",
              "      border-left-color: var(--fill-color);\n",
              "    }\n",
              "    20% {\n",
              "      border-color: transparent;\n",
              "      border-left-color: var(--fill-color);\n",
              "      border-top-color: var(--fill-color);\n",
              "    }\n",
              "    30% {\n",
              "      border-color: transparent;\n",
              "      border-left-color: var(--fill-color);\n",
              "      border-top-color: var(--fill-color);\n",
              "      border-right-color: var(--fill-color);\n",
              "    }\n",
              "    40% {\n",
              "      border-color: transparent;\n",
              "      border-right-color: var(--fill-color);\n",
              "      border-top-color: var(--fill-color);\n",
              "    }\n",
              "    60% {\n",
              "      border-color: transparent;\n",
              "      border-right-color: var(--fill-color);\n",
              "    }\n",
              "    80% {\n",
              "      border-color: transparent;\n",
              "      border-right-color: var(--fill-color);\n",
              "      border-bottom-color: var(--fill-color);\n",
              "    }\n",
              "    90% {\n",
              "      border-color: transparent;\n",
              "      border-bottom-color: var(--fill-color);\n",
              "    }\n",
              "  }\n",
              "</style>\n",
              "\n",
              "  <script>\n",
              "    async function quickchart(key) {\n",
              "      const quickchartButtonEl =\n",
              "        document.querySelector('#' + key + ' button');\n",
              "      quickchartButtonEl.disabled = true;  // To prevent multiple clicks.\n",
              "      quickchartButtonEl.classList.add('colab-df-spinner');\n",
              "      try {\n",
              "        const charts = await google.colab.kernel.invokeFunction(\n",
              "            'suggestCharts', [key], {});\n",
              "      } catch (error) {\n",
              "        console.error('Error during call to suggestCharts:', error);\n",
              "      }\n",
              "      quickchartButtonEl.classList.remove('colab-df-spinner');\n",
              "      quickchartButtonEl.classList.add('colab-df-quickchart-complete');\n",
              "    }\n",
              "    (() => {\n",
              "      let quickchartButtonEl =\n",
              "        document.querySelector('#df-ef1d1988-ccc4-497b-bff8-647846b33f47 button');\n",
              "      quickchartButtonEl.style.display =\n",
              "        google.colab.kernel.accessAllowed ? 'block' : 'none';\n",
              "    })();\n",
              "  </script>\n",
              "</div>\n",
              "    </div>\n",
              "  </div>\n"
            ],
            "application/vnd.google.colaboratory.intrinsic+json": {
              "type": "dataframe",
              "variable_name": "features_test",
              "summary": "{\n  \"name\": \"features_test\",\n  \"rows\": 56725,\n  \"fields\": [\n    {\n      \"column\": \"RegistrationYear\",\n      \"properties\": {\n        \"dtype\": \"number\",\n        \"std\": 6,\n        \"min\": 1961,\n        \"max\": 2015,\n        \"num_unique_values\": 55,\n        \"samples\": [\n          1970,\n          2000,\n          1989\n        ],\n        \"semantic_type\": \"\",\n        \"description\": \"\"\n      }\n    },\n    {\n      \"column\": \"Power\",\n      \"properties\": {\n        \"dtype\": \"number\",\n        \"std\": 52,\n        \"min\": 51,\n        \"max\": 399,\n        \"num_unique_values\": 294,\n        \"samples\": [\n          136,\n          80,\n          83\n        ],\n        \"semantic_type\": \"\",\n        \"description\": \"\"\n      }\n    },\n    {\n      \"column\": \"Model\",\n      \"properties\": {\n        \"dtype\": \"number\",\n        \"std\": 73.15259964672599,\n        \"min\": 0.0,\n        \"max\": 247.0,\n        \"num_unique_values\": 244,\n        \"samples\": [\n          98.0,\n          165.0,\n          186.0\n        ],\n        \"semantic_type\": \"\",\n        \"description\": \"\"\n      }\n    },\n    {\n      \"column\": \"Kilometer\",\n      \"properties\": {\n        \"dtype\": \"number\",\n        \"std\": 37784,\n        \"min\": 5000,\n        \"max\": 150000,\n        \"num_unique_values\": 13,\n        \"samples\": [\n          40000,\n          60000,\n          20000\n        ],\n        \"semantic_type\": \"\",\n        \"description\": \"\"\n      }\n    },\n    {\n      \"column\": \"Brand\",\n      \"properties\": {\n        \"dtype\": \"number\",\n        \"std\": 13.190961526311225,\n        \"min\": 0.0,\n        \"max\": 39.0,\n        \"num_unique_values\": 40,\n        \"samples\": [\n          14.0,\n          19.0,\n          1.0\n        ],\n        \"semantic_type\": \"\",\n        \"description\": \"\"\n      }\n    },\n    {\n      \"column\": \"Repaired\",\n      \"properties\": {\n        \"dtype\": \"number\",\n        \"std\": 0.6618783663227557,\n        \"min\": 0.0,\n        \"max\": 2.0,\n        \"num_unique_values\": 3,\n        \"samples\": [\n          0.0,\n          1.0,\n          2.0\n        ],\n        \"semantic_type\": \"\",\n        \"description\": \"\"\n      }\n    }\n  ]\n}"
            }
          },
          "metadata": {},
          "execution_count": 27
        }
      ],
      "source": [
        "cat = ['Model', 'Brand', 'Repaired']\n",
        "o_encoder = OrdinalEncoder(unknown_value=-1, handle_unknown='use_encoded_value')\n",
        "features_train[cat] = o_encoder.fit_transform(features_train[cat])\n",
        "encoder = OrdinalEncoder()\n",
        "features_valid[cat] = o_encoder.transform(features_valid[cat])\n",
        "encoder = OrdinalEncoder()\n",
        "features_test[cat] = o_encoder.transform(features_test[cat])\n",
        "features_test.head(3)"
      ]
    },
    {
      "cell_type": "markdown",
      "metadata": {
        "id": "IN0K_RMA5104"
      },
      "source": [
        "Я закодировала категориальные переменные в виде чисел и теперь модели смогут их спокойно обрабатывать."
      ]
    },
    {
      "cell_type": "markdown",
      "metadata": {
        "id": "B3Cfhvd_5105"
      },
      "source": [
        "\n",
        "\n",
        "### Промежуточный вывод\n",
        "\n",
        "В данном разделе я провела следующие работы:\n",
        "- Загрузила данные из предоставленного датасета;\n",
        "- Удалила явные дубликаты;\n",
        "- Обработала пропущенные значения;\n",
        "- Исключила аномалии;\n",
        "- Выявила и удалили неинформативные для модели машинного обучения признаки;\n",
        "- Выделила тренировочную, тестовую и валидационную выборки;\n",
        "- Кодировала категорильные переменные, чтобы они могли быть обработаны моделями."
      ]
    },
    {
      "cell_type": "markdown",
      "metadata": {
        "id": "UDMKmsgM5106"
      },
      "source": [
        "## Обучение моделей\n",
        "\n",
        "В этом разделе я обучу три модели бустинга, а именно XGBoost, LightGBM и CatBoost, а также случайный лес и обычную линейную регрессию, чтобы в дальнейшем сравнить их все между собой."
      ]
    },
    {
      "cell_type": "markdown",
      "metadata": {
        "id": "Ht-btWwC5106"
      },
      "source": [
        "### XGBoost\n",
        "\n",
        "Данная библиотека бустинга позволяет использовать ансамбль как из деревьев решений, так и из линейной регресии, но поскольку деревья стоят по умолчанию, использую именно их."
      ]
    },
    {
      "cell_type": "code",
      "execution_count": 28,
      "metadata": {
        "scrolled": false,
        "colab": {
          "base_uri": "https://localhost:8080/"
        },
        "id": "USwsfQ2E5106",
        "outputId": "2cdea604-9b86-4380-d042-7fc9060c2d65"
      },
      "outputs": [
        {
          "output_type": "stream",
          "name": "stdout",
          "text": [
            "RMSE лучшей модели XGBoost = 1702.3487386728766 с количеством деревьев 100 и максимальной глубиной 10\n",
            "CPU times: user 10.3 s, sys: 79.2 ms, total: 10.4 s\n",
            "Wall time: 6.18 s\n"
          ]
        }
      ],
      "source": [
        "%%time\n",
        "\n",
        "best_model_xg = None\n",
        "best_est = 0\n",
        "best_depth = 0\n",
        "best_rmse_xg = 100000\n",
        "\n",
        "for est in [10, 50, 100]:\n",
        "    for depth in [1, 5, 10]:\n",
        "\n",
        "        model_xg = xg.XGBRegressor(random_state=12345, n_estimators=est, max_depth=depth)\n",
        "        model_xg.fit(features_train, target_train)\n",
        "        pred = model_xg.predict(features_valid)\n",
        "        rmse = np.sqrt(mse(target_valid, pred))\n",
        "\n",
        "        if rmse < best_rmse_xg:\n",
        "            best_rmse_xg = rmse\n",
        "            best_model_xg = model_xg\n",
        "            best_est = est\n",
        "            best_depth = depth\n",
        "print('RMSE лучшей модели XGBoost =', best_rmse_xg, 'с количеством деревьев', best_est, 'и максимальной глубиной', best_depth)"
      ]
    },
    {
      "cell_type": "markdown",
      "metadata": {
        "id": "2pntUVl95106"
      },
      "source": [
        "Запоминаем полученное RMSE, чтобы в дальнейшем сравнить с результатами других моделей."
      ]
    },
    {
      "cell_type": "markdown",
      "metadata": {
        "id": "2Hj_246b5106"
      },
      "source": [
        "### LightGBM\n",
        "\n",
        "Ещё одна бустинговая модель — это LightGBM. Тоже работает с деревьями, и тоже поддерживает регрессию, что мне и нужно."
      ]
    },
    {
      "cell_type": "code",
      "execution_count": 29,
      "metadata": {
        "colab": {
          "base_uri": "https://localhost:8080/"
        },
        "id": "4Edvk-JU5107",
        "outputId": "004e19f0-fbf5-461f-ac6b-857a15905c13"
      },
      "outputs": [
        {
          "output_type": "stream",
          "name": "stdout",
          "text": [
            "[LightGBM] [Info] Auto-choosing col-wise multi-threading, the overhead of testing was 0.013693 seconds.\n",
            "You can set `force_col_wise=true` to remove the overhead.\n",
            "[LightGBM] [Info] Total Bins 564\n",
            "[LightGBM] [Info] Number of data points in the train set: 127629, number of used features: 6\n",
            "[LightGBM] [Info] Start training from score 5202.437730\n",
            "[LightGBM] [Warning] Accuracy may be bad since you didn't explicitly set num_leaves OR 2^max_depth > num_leaves. (num_leaves=31).\n",
            "[LightGBM] [Warning] Accuracy may be bad since you didn't explicitly set num_leaves OR 2^max_depth > num_leaves. (num_leaves=31).\n",
            "[LightGBM] [Info] Auto-choosing col-wise multi-threading, the overhead of testing was 0.013778 seconds.\n",
            "You can set `force_col_wise=true` to remove the overhead.\n",
            "[LightGBM] [Info] Total Bins 564\n",
            "[LightGBM] [Info] Number of data points in the train set: 127629, number of used features: 6\n",
            "[LightGBM] [Info] Start training from score 5202.437730\n",
            "[LightGBM] [Warning] Accuracy may be bad since you didn't explicitly set num_leaves OR 2^max_depth > num_leaves. (num_leaves=31).\n",
            "[LightGBM] [Warning] Accuracy may be bad since you didn't explicitly set num_leaves OR 2^max_depth > num_leaves. (num_leaves=31).\n",
            "[LightGBM] [Warning] Accuracy may be bad since you didn't explicitly set num_leaves OR 2^max_depth > num_leaves. (num_leaves=31).\n",
            "[LightGBM] [Info] Auto-choosing col-wise multi-threading, the overhead of testing was 0.012914 seconds.\n",
            "You can set `force_col_wise=true` to remove the overhead.\n",
            "[LightGBM] [Info] Total Bins 564\n",
            "[LightGBM] [Info] Number of data points in the train set: 127629, number of used features: 6\n",
            "[LightGBM] [Info] Start training from score 5202.437730\n",
            "[LightGBM] [Warning] Accuracy may be bad since you didn't explicitly set num_leaves OR 2^max_depth > num_leaves. (num_leaves=31).\n",
            "[LightGBM] [Info] Auto-choosing col-wise multi-threading, the overhead of testing was 0.013361 seconds.\n",
            "You can set `force_col_wise=true` to remove the overhead.\n",
            "[LightGBM] [Info] Total Bins 564\n",
            "[LightGBM] [Info] Number of data points in the train set: 127629, number of used features: 6\n",
            "[LightGBM] [Info] Start training from score 5202.437730\n",
            "[LightGBM] [Warning] Accuracy may be bad since you didn't explicitly set num_leaves OR 2^max_depth > num_leaves. (num_leaves=31).\n",
            "[LightGBM] [Warning] Accuracy may be bad since you didn't explicitly set num_leaves OR 2^max_depth > num_leaves. (num_leaves=31).\n",
            "[LightGBM] [Info] Auto-choosing row-wise multi-threading, the overhead of testing was 0.004505 seconds.\n",
            "You can set `force_row_wise=true` to remove the overhead.\n",
            "And if memory is not enough, you can set `force_col_wise=true`.\n",
            "[LightGBM] [Info] Total Bins 564\n",
            "[LightGBM] [Info] Number of data points in the train set: 127629, number of used features: 6\n",
            "[LightGBM] [Info] Start training from score 5202.437730\n",
            "[LightGBM] [Warning] No further splits with positive gain, best gain: -inf\n",
            "[LightGBM] [Warning] No further splits with positive gain, best gain: -inf\n",
            "[LightGBM] [Warning] No further splits with positive gain, best gain: -inf\n",
            "[LightGBM] [Warning] No further splits with positive gain, best gain: -inf\n",
            "[LightGBM] [Warning] No further splits with positive gain, best gain: -inf\n",
            "[LightGBM] [Warning] No further splits with positive gain, best gain: -inf\n",
            "[LightGBM] [Warning] No further splits with positive gain, best gain: -inf\n",
            "[LightGBM] [Warning] No further splits with positive gain, best gain: -inf\n",
            "[LightGBM] [Warning] Accuracy may be bad since you didn't explicitly set num_leaves OR 2^max_depth > num_leaves. (num_leaves=31).\n",
            "[LightGBM] [Warning] Accuracy may be bad since you didn't explicitly set num_leaves OR 2^max_depth > num_leaves. (num_leaves=31).\n",
            "[LightGBM] [Warning] Accuracy may be bad since you didn't explicitly set num_leaves OR 2^max_depth > num_leaves. (num_leaves=31).\n",
            "[LightGBM] [Info] Auto-choosing col-wise multi-threading, the overhead of testing was 0.013639 seconds.\n",
            "You can set `force_col_wise=true` to remove the overhead.\n",
            "[LightGBM] [Info] Total Bins 564\n",
            "[LightGBM] [Info] Number of data points in the train set: 127629, number of used features: 6\n",
            "[LightGBM] [Info] Start training from score 5202.437730\n",
            "[LightGBM] [Warning] Accuracy may be bad since you didn't explicitly set num_leaves OR 2^max_depth > num_leaves. (num_leaves=31).\n",
            "[LightGBM] [Info] Auto-choosing row-wise multi-threading, the overhead of testing was 0.002488 seconds.\n",
            "You can set `force_row_wise=true` to remove the overhead.\n",
            "And if memory is not enough, you can set `force_col_wise=true`.\n",
            "[LightGBM] [Info] Total Bins 564\n",
            "[LightGBM] [Info] Number of data points in the train set: 127629, number of used features: 6\n",
            "[LightGBM] [Info] Start training from score 5202.437730\n",
            "[LightGBM] [Warning] Accuracy may be bad since you didn't explicitly set num_leaves OR 2^max_depth > num_leaves. (num_leaves=31).\n",
            "[LightGBM] [Warning] Accuracy may be bad since you didn't explicitly set num_leaves OR 2^max_depth > num_leaves. (num_leaves=31).\n",
            "[LightGBM] [Info] Auto-choosing row-wise multi-threading, the overhead of testing was 0.002601 seconds.\n",
            "You can set `force_row_wise=true` to remove the overhead.\n",
            "And if memory is not enough, you can set `force_col_wise=true`.\n",
            "[LightGBM] [Info] Total Bins 564\n",
            "[LightGBM] [Info] Number of data points in the train set: 127629, number of used features: 6\n",
            "[LightGBM] [Info] Start training from score 5202.437730\n",
            "[LightGBM] [Warning] No further splits with positive gain, best gain: -inf\n",
            "[LightGBM] [Warning] No further splits with positive gain, best gain: -inf\n",
            "[LightGBM] [Warning] No further splits with positive gain, best gain: -inf\n",
            "[LightGBM] [Warning] No further splits with positive gain, best gain: -inf\n",
            "[LightGBM] [Warning] No further splits with positive gain, best gain: -inf\n",
            "[LightGBM] [Warning] No further splits with positive gain, best gain: -inf\n",
            "[LightGBM] [Warning] No further splits with positive gain, best gain: -inf\n",
            "[LightGBM] [Warning] No further splits with positive gain, best gain: -inf\n",
            "[LightGBM] [Warning] No further splits with positive gain, best gain: -inf\n",
            "[LightGBM] [Warning] No further splits with positive gain, best gain: -inf\n",
            "[LightGBM] [Warning] No further splits with positive gain, best gain: -inf\n",
            "[LightGBM] [Warning] No further splits with positive gain, best gain: -inf\n",
            "[LightGBM] [Warning] No further splits with positive gain, best gain: -inf\n",
            "[LightGBM] [Warning] No further splits with positive gain, best gain: -inf\n",
            "[LightGBM] [Warning] No further splits with positive gain, best gain: -inf\n",
            "[LightGBM] [Warning] No further splits with positive gain, best gain: -inf\n",
            "[LightGBM] [Warning] No further splits with positive gain, best gain: -inf\n",
            "[LightGBM] [Warning] No further splits with positive gain, best gain: -inf\n",
            "[LightGBM] [Warning] No further splits with positive gain, best gain: -inf\n",
            "[LightGBM] [Warning] No further splits with positive gain, best gain: -inf\n",
            "[LightGBM] [Warning] No further splits with positive gain, best gain: -inf\n",
            "[LightGBM] [Warning] No further splits with positive gain, best gain: -inf\n",
            "[LightGBM] [Warning] No further splits with positive gain, best gain: -inf\n",
            "[LightGBM] [Warning] No further splits with positive gain, best gain: -inf\n",
            "[LightGBM] [Warning] No further splits with positive gain, best gain: -inf\n",
            "[LightGBM] [Warning] No further splits with positive gain, best gain: -inf\n",
            "[LightGBM] [Warning] No further splits with positive gain, best gain: -inf\n",
            "[LightGBM] [Warning] No further splits with positive gain, best gain: -inf\n",
            "[LightGBM] [Warning] No further splits with positive gain, best gain: -inf\n",
            "[LightGBM] [Warning] No further splits with positive gain, best gain: -inf\n",
            "[LightGBM] [Warning] No further splits with positive gain, best gain: -inf\n",
            "[LightGBM] [Warning] No further splits with positive gain, best gain: -inf\n",
            "[LightGBM] [Warning] No further splits with positive gain, best gain: -inf\n",
            "[LightGBM] [Warning] No further splits with positive gain, best gain: -inf\n",
            "[LightGBM] [Warning] No further splits with positive gain, best gain: -inf\n",
            "[LightGBM] [Warning] No further splits with positive gain, best gain: -inf\n",
            "[LightGBM] [Warning] No further splits with positive gain, best gain: -inf\n",
            "[LightGBM] [Warning] No further splits with positive gain, best gain: -inf\n",
            "[LightGBM] [Warning] No further splits with positive gain, best gain: -inf\n",
            "[LightGBM] [Warning] No further splits with positive gain, best gain: -inf\n",
            "[LightGBM] [Warning] No further splits with positive gain, best gain: -inf\n",
            "[LightGBM] [Warning] No further splits with positive gain, best gain: -inf\n",
            "[LightGBM] [Warning] No further splits with positive gain, best gain: -inf\n",
            "[LightGBM] [Warning] No further splits with positive gain, best gain: -inf\n",
            "[LightGBM] [Warning] No further splits with positive gain, best gain: -inf\n",
            "[LightGBM] [Warning] No further splits with positive gain, best gain: -inf\n",
            "[LightGBM] [Warning] Accuracy may be bad since you didn't explicitly set num_leaves OR 2^max_depth > num_leaves. (num_leaves=31).\n",
            "[LightGBM] [Warning] Accuracy may be bad since you didn't explicitly set num_leaves OR 2^max_depth > num_leaves. (num_leaves=31).\n",
            "[LightGBM] [Warning] Accuracy may be bad since you didn't explicitly set num_leaves OR 2^max_depth > num_leaves. (num_leaves=31).\n",
            "[LightGBM] [Info] Auto-choosing row-wise multi-threading, the overhead of testing was 0.002512 seconds.\n",
            "You can set `force_row_wise=true` to remove the overhead.\n",
            "And if memory is not enough, you can set `force_col_wise=true`.\n",
            "[LightGBM] [Info] Total Bins 564\n",
            "[LightGBM] [Info] Number of data points in the train set: 127629, number of used features: 6\n",
            "[LightGBM] [Info] Start training from score 5202.437730\n",
            "[LightGBM] [Warning] Accuracy may be bad since you didn't explicitly set num_leaves OR 2^max_depth > num_leaves. (num_leaves=31).\n",
            "RMSE лучшей модели LightGBM = 1798.2394248446528 с количеством деревьев 100 и максимальной глубиной 10\n",
            "CPU times: user 5.76 s, sys: 43.8 ms, total: 5.81 s\n",
            "Wall time: 5.9 s\n"
          ]
        }
      ],
      "source": [
        "%%time\n",
        "\n",
        "best_model_lgbm = None\n",
        "best_est = 0\n",
        "best_depth = 0\n",
        "best_rmse_lgbm = 100000\n",
        "\n",
        "for est in [10, 50, 100]:\n",
        "    for depth in [1, 5, 10]:\n",
        "\n",
        "        model_lgbm = lgbm.LGBMRegressor(random_state=12345, n_estimators=est, max_depth=depth)\n",
        "        model_lgbm.fit(features_train, target_train)\n",
        "        pred = model_lgbm.predict(features_valid)\n",
        "        rmse = np.sqrt(mse(target_valid, pred))\n",
        "        if rmse < best_rmse_lgbm:\n",
        "            best_rmse_lgbm = rmse\n",
        "            best_model_lgbm = model_lgbm\n",
        "            best_est = est\n",
        "            best_depth = depth\n",
        "print('RMSE лучшей модели LightGBM =', best_rmse_lgbm, 'с количеством деревьев', best_est, 'и максимальной глубиной', best_depth)"
      ]
    },
    {
      "cell_type": "markdown",
      "metadata": {
        "id": "k4WIMFAr5107"
      },
      "source": [
        "Результат стал чуть хуже, но при этом скорость выполнения ячейки куда выше."
      ]
    },
    {
      "cell_type": "markdown",
      "metadata": {
        "id": "pPnPe36X5107"
      },
      "source": [
        "### CatBoost\n",
        "\n",
        "Для этой библиотеки бустинга необязательно было бы шифровать категориальные переменные, так как она делает это самостоятельно. Но я это всё равно сделала заранее для всех остальных моделей."
      ]
    },
    {
      "cell_type": "code",
      "execution_count": 30,
      "metadata": {
        "colab": {
          "base_uri": "https://localhost:8080/"
        },
        "id": "NDP9Qu4u5107",
        "outputId": "f9893a4f-e3d2-4453-8731-0e264ff89223"
      },
      "outputs": [
        {
          "output_type": "stream",
          "name": "stdout",
          "text": [
            "Learning rate set to 0.5\n",
            "0:\tlearn: 3972.3240631\ttotal: 60.8ms\tremaining: 548ms\n",
            "1:\tlearn: 3621.2349046\ttotal: 70.3ms\tremaining: 281ms\n",
            "2:\tlearn: 3323.9304047\ttotal: 79.6ms\tremaining: 186ms\n",
            "3:\tlearn: 3128.3078124\ttotal: 90.5ms\tremaining: 136ms\n",
            "4:\tlearn: 2975.6708442\ttotal: 99.6ms\tremaining: 99.6ms\n",
            "5:\tlearn: 2881.6515596\ttotal: 114ms\tremaining: 75.7ms\n",
            "6:\tlearn: 2809.8235438\ttotal: 125ms\tremaining: 53.7ms\n",
            "7:\tlearn: 2762.4783772\ttotal: 134ms\tremaining: 33.5ms\n",
            "8:\tlearn: 2711.1811508\ttotal: 145ms\tremaining: 16.1ms\n",
            "9:\tlearn: 2672.6091480\ttotal: 154ms\tremaining: 0us\n",
            "Learning rate set to 0.5\n",
            "0:\tlearn: 3332.1115106\ttotal: 18.3ms\tremaining: 165ms\n",
            "1:\tlearn: 2713.5743332\ttotal: 36.8ms\tremaining: 147ms\n",
            "2:\tlearn: 2454.7813771\ttotal: 62.6ms\tremaining: 146ms\n",
            "3:\tlearn: 2314.6169977\ttotal: 80.9ms\tremaining: 121ms\n",
            "4:\tlearn: 2245.3740133\ttotal: 96.3ms\tremaining: 96.3ms\n",
            "5:\tlearn: 2172.9107842\ttotal: 111ms\tremaining: 73.8ms\n",
            "6:\tlearn: 2133.0195851\ttotal: 125ms\tremaining: 53.6ms\n",
            "7:\tlearn: 2101.9328364\ttotal: 145ms\tremaining: 36.3ms\n",
            "8:\tlearn: 2075.6371775\ttotal: 160ms\tremaining: 17.8ms\n",
            "9:\tlearn: 2056.1806148\ttotal: 174ms\tremaining: 0us\n",
            "Learning rate set to 0.5\n",
            "0:\tlearn: 3192.2717146\ttotal: 48.7ms\tremaining: 438ms\n",
            "1:\tlearn: 2516.5849594\ttotal: 81.7ms\tremaining: 327ms\n",
            "2:\tlearn: 2219.2898028\ttotal: 120ms\tremaining: 280ms\n",
            "3:\tlearn: 2076.4291736\ttotal: 155ms\tremaining: 232ms\n",
            "4:\tlearn: 2007.0944378\ttotal: 191ms\tremaining: 191ms\n",
            "5:\tlearn: 1970.3875319\ttotal: 223ms\tremaining: 149ms\n",
            "6:\tlearn: 1943.2716197\ttotal: 270ms\tremaining: 116ms\n",
            "7:\tlearn: 1913.6941940\ttotal: 305ms\tremaining: 76.2ms\n",
            "8:\tlearn: 1895.3916208\ttotal: 337ms\tremaining: 37.4ms\n",
            "9:\tlearn: 1878.6079461\ttotal: 370ms\tremaining: 0us\n",
            "Learning rate set to 0.5\n",
            "0:\tlearn: 3972.3240631\ttotal: 10.7ms\tremaining: 525ms\n",
            "1:\tlearn: 3621.2349046\ttotal: 23.4ms\tremaining: 561ms\n",
            "2:\tlearn: 3323.9304047\ttotal: 34.5ms\tremaining: 541ms\n",
            "3:\tlearn: 3128.3078124\ttotal: 48.7ms\tremaining: 560ms\n",
            "4:\tlearn: 2975.6708442\ttotal: 59ms\tremaining: 531ms\n",
            "5:\tlearn: 2881.6515596\ttotal: 68.2ms\tremaining: 500ms\n",
            "6:\tlearn: 2809.8235438\ttotal: 77.3ms\tremaining: 475ms\n",
            "7:\tlearn: 2762.4783772\ttotal: 87.5ms\tremaining: 459ms\n",
            "8:\tlearn: 2711.1811508\ttotal: 96.7ms\tremaining: 441ms\n",
            "9:\tlearn: 2672.6091480\ttotal: 106ms\tremaining: 422ms\n",
            "10:\tlearn: 2643.8252958\ttotal: 115ms\tremaining: 407ms\n",
            "11:\tlearn: 2618.3064814\ttotal: 126ms\tremaining: 398ms\n",
            "12:\tlearn: 2599.5294891\ttotal: 134ms\tremaining: 382ms\n",
            "13:\tlearn: 2579.3105093\ttotal: 143ms\tremaining: 368ms\n",
            "14:\tlearn: 2562.5242066\ttotal: 152ms\tremaining: 355ms\n",
            "15:\tlearn: 2548.6770283\ttotal: 161ms\tremaining: 342ms\n",
            "16:\tlearn: 2537.6461255\ttotal: 170ms\tremaining: 329ms\n",
            "17:\tlearn: 2527.6242781\ttotal: 179ms\tremaining: 318ms\n",
            "18:\tlearn: 2516.7543428\ttotal: 191ms\tremaining: 311ms\n",
            "19:\tlearn: 2507.2313962\ttotal: 199ms\tremaining: 299ms\n",
            "20:\tlearn: 2500.3376398\ttotal: 210ms\tremaining: 290ms\n",
            "21:\tlearn: 2494.0329278\ttotal: 221ms\tremaining: 281ms\n",
            "22:\tlearn: 2487.5493937\ttotal: 230ms\tremaining: 269ms\n",
            "23:\tlearn: 2481.4717525\ttotal: 238ms\tremaining: 258ms\n",
            "24:\tlearn: 2475.9899372\ttotal: 247ms\tremaining: 247ms\n",
            "25:\tlearn: 2472.2512462\ttotal: 256ms\tremaining: 236ms\n",
            "26:\tlearn: 2468.5075442\ttotal: 265ms\tremaining: 225ms\n",
            "27:\tlearn: 2464.2464765\ttotal: 273ms\tremaining: 215ms\n",
            "28:\tlearn: 2460.4662390\ttotal: 282ms\tremaining: 204ms\n",
            "29:\tlearn: 2456.2106559\ttotal: 291ms\tremaining: 194ms\n",
            "30:\tlearn: 2453.0928930\ttotal: 301ms\tremaining: 184ms\n",
            "31:\tlearn: 2449.1942655\ttotal: 309ms\tremaining: 174ms\n",
            "32:\tlearn: 2446.5139533\ttotal: 325ms\tremaining: 167ms\n",
            "33:\tlearn: 2443.0719973\ttotal: 343ms\tremaining: 161ms\n",
            "34:\tlearn: 2440.4377933\ttotal: 352ms\tremaining: 151ms\n",
            "35:\tlearn: 2437.1852372\ttotal: 361ms\tremaining: 140ms\n",
            "36:\tlearn: 2434.5907075\ttotal: 370ms\tremaining: 130ms\n",
            "37:\tlearn: 2432.0741795\ttotal: 378ms\tremaining: 119ms\n",
            "38:\tlearn: 2429.5115802\ttotal: 388ms\tremaining: 110ms\n",
            "39:\tlearn: 2426.4750185\ttotal: 398ms\tremaining: 99.6ms\n",
            "40:\tlearn: 2424.1236776\ttotal: 416ms\tremaining: 91.2ms\n",
            "41:\tlearn: 2421.0571393\ttotal: 424ms\tremaining: 80.8ms\n",
            "42:\tlearn: 2418.9537152\ttotal: 433ms\tremaining: 70.5ms\n",
            "43:\tlearn: 2416.7919923\ttotal: 442ms\tremaining: 60.3ms\n",
            "44:\tlearn: 2414.6010793\ttotal: 451ms\tremaining: 50.1ms\n",
            "45:\tlearn: 2412.0434280\ttotal: 460ms\tremaining: 40ms\n",
            "46:\tlearn: 2409.2997318\ttotal: 469ms\tremaining: 29.9ms\n",
            "47:\tlearn: 2406.9102500\ttotal: 477ms\tremaining: 19.9ms\n",
            "48:\tlearn: 2405.0648313\ttotal: 486ms\tremaining: 9.92ms\n",
            "49:\tlearn: 2403.1218301\ttotal: 495ms\tremaining: 0us\n",
            "Learning rate set to 0.5\n",
            "0:\tlearn: 3332.1115106\ttotal: 18.7ms\tremaining: 918ms\n",
            "1:\tlearn: 2713.5743332\ttotal: 37.5ms\tremaining: 899ms\n",
            "2:\tlearn: 2454.7813771\ttotal: 52.1ms\tremaining: 816ms\n",
            "3:\tlearn: 2314.6169977\ttotal: 68.6ms\tremaining: 789ms\n",
            "4:\tlearn: 2245.3740133\ttotal: 83.2ms\tremaining: 749ms\n",
            "5:\tlearn: 2172.9107842\ttotal: 97.4ms\tremaining: 714ms\n",
            "6:\tlearn: 2133.0195851\ttotal: 111ms\tremaining: 684ms\n",
            "7:\tlearn: 2101.9328364\ttotal: 126ms\tremaining: 661ms\n",
            "8:\tlearn: 2075.6371775\ttotal: 139ms\tremaining: 635ms\n",
            "9:\tlearn: 2056.1806148\ttotal: 154ms\tremaining: 614ms\n",
            "10:\tlearn: 2044.0654924\ttotal: 167ms\tremaining: 591ms\n",
            "11:\tlearn: 2034.4167287\ttotal: 180ms\tremaining: 570ms\n",
            "12:\tlearn: 2005.7279337\ttotal: 195ms\tremaining: 555ms\n",
            "13:\tlearn: 1992.7491857\ttotal: 209ms\tremaining: 537ms\n",
            "14:\tlearn: 1981.5899970\ttotal: 227ms\tremaining: 529ms\n",
            "15:\tlearn: 1973.8230162\ttotal: 250ms\tremaining: 532ms\n",
            "16:\tlearn: 1968.3354275\ttotal: 264ms\tremaining: 512ms\n",
            "17:\tlearn: 1956.9313511\ttotal: 278ms\tremaining: 495ms\n",
            "18:\tlearn: 1950.3932928\ttotal: 295ms\tremaining: 481ms\n",
            "19:\tlearn: 1940.1825068\ttotal: 309ms\tremaining: 463ms\n",
            "20:\tlearn: 1934.5825665\ttotal: 323ms\tremaining: 446ms\n",
            "21:\tlearn: 1928.9141881\ttotal: 339ms\tremaining: 431ms\n",
            "22:\tlearn: 1924.5885981\ttotal: 352ms\tremaining: 414ms\n",
            "23:\tlearn: 1917.7708240\ttotal: 367ms\tremaining: 398ms\n",
            "24:\tlearn: 1913.8039635\ttotal: 381ms\tremaining: 381ms\n",
            "25:\tlearn: 1909.3143542\ttotal: 396ms\tremaining: 365ms\n",
            "26:\tlearn: 1902.8341271\ttotal: 410ms\tremaining: 350ms\n",
            "27:\tlearn: 1899.7674769\ttotal: 423ms\tremaining: 333ms\n",
            "28:\tlearn: 1894.5347855\ttotal: 442ms\tremaining: 320ms\n",
            "29:\tlearn: 1887.0038305\ttotal: 461ms\tremaining: 307ms\n",
            "30:\tlearn: 1884.2884867\ttotal: 475ms\tremaining: 291ms\n",
            "31:\tlearn: 1879.7842704\ttotal: 494ms\tremaining: 278ms\n",
            "32:\tlearn: 1869.6861323\ttotal: 509ms\tremaining: 262ms\n",
            "33:\tlearn: 1866.4857823\ttotal: 524ms\tremaining: 247ms\n",
            "34:\tlearn: 1864.3245693\ttotal: 538ms\tremaining: 231ms\n",
            "35:\tlearn: 1861.7794328\ttotal: 552ms\tremaining: 215ms\n",
            "36:\tlearn: 1858.0282769\ttotal: 566ms\tremaining: 199ms\n",
            "37:\tlearn: 1854.9627054\ttotal: 580ms\tremaining: 183ms\n",
            "38:\tlearn: 1851.3809920\ttotal: 595ms\tremaining: 168ms\n",
            "39:\tlearn: 1848.7131463\ttotal: 609ms\tremaining: 152ms\n",
            "40:\tlearn: 1844.8214738\ttotal: 623ms\tremaining: 137ms\n",
            "41:\tlearn: 1840.8694849\ttotal: 638ms\tremaining: 122ms\n",
            "42:\tlearn: 1838.7027782\ttotal: 656ms\tremaining: 107ms\n",
            "43:\tlearn: 1837.1113060\ttotal: 674ms\tremaining: 91.9ms\n",
            "44:\tlearn: 1834.3369311\ttotal: 687ms\tremaining: 76.4ms\n",
            "45:\tlearn: 1831.0450753\ttotal: 703ms\tremaining: 61.1ms\n",
            "46:\tlearn: 1828.6180072\ttotal: 718ms\tremaining: 45.8ms\n",
            "47:\tlearn: 1826.4180059\ttotal: 731ms\tremaining: 30.5ms\n",
            "48:\tlearn: 1824.1880331\ttotal: 767ms\tremaining: 15.7ms\n",
            "49:\tlearn: 1821.7900037\ttotal: 782ms\tremaining: 0us\n",
            "Learning rate set to 0.5\n",
            "0:\tlearn: 3192.2717146\ttotal: 41.1ms\tremaining: 2.01s\n",
            "1:\tlearn: 2516.5849594\ttotal: 77ms\tremaining: 1.85s\n",
            "2:\tlearn: 2219.2898028\ttotal: 111ms\tremaining: 1.74s\n",
            "3:\tlearn: 2076.4291736\ttotal: 143ms\tremaining: 1.64s\n",
            "4:\tlearn: 2007.0944378\ttotal: 174ms\tremaining: 1.56s\n",
            "5:\tlearn: 1970.3875319\ttotal: 211ms\tremaining: 1.55s\n",
            "6:\tlearn: 1943.2716197\ttotal: 245ms\tremaining: 1.51s\n",
            "7:\tlearn: 1913.6941940\ttotal: 279ms\tremaining: 1.46s\n",
            "8:\tlearn: 1895.3916208\ttotal: 314ms\tremaining: 1.43s\n",
            "9:\tlearn: 1878.6079461\ttotal: 345ms\tremaining: 1.38s\n",
            "10:\tlearn: 1864.9321037\ttotal: 378ms\tremaining: 1.34s\n",
            "11:\tlearn: 1857.5687837\ttotal: 409ms\tremaining: 1.29s\n",
            "12:\tlearn: 1845.5166725\ttotal: 442ms\tremaining: 1.26s\n",
            "13:\tlearn: 1836.6325126\ttotal: 482ms\tremaining: 1.24s\n",
            "14:\tlearn: 1821.7665431\ttotal: 514ms\tremaining: 1.2s\n",
            "15:\tlearn: 1814.8132361\ttotal: 545ms\tremaining: 1.16s\n",
            "16:\tlearn: 1807.1354175\ttotal: 577ms\tremaining: 1.12s\n",
            "17:\tlearn: 1801.5776964\ttotal: 613ms\tremaining: 1.09s\n",
            "18:\tlearn: 1793.2404010\ttotal: 646ms\tremaining: 1.05s\n",
            "19:\tlearn: 1784.4972177\ttotal: 679ms\tremaining: 1.02s\n",
            "20:\tlearn: 1777.4937686\ttotal: 714ms\tremaining: 986ms\n",
            "21:\tlearn: 1770.0864284\ttotal: 749ms\tremaining: 953ms\n",
            "22:\tlearn: 1764.6868687\ttotal: 780ms\tremaining: 915ms\n",
            "23:\tlearn: 1758.9405907\ttotal: 814ms\tremaining: 881ms\n",
            "24:\tlearn: 1752.4356462\ttotal: 847ms\tremaining: 847ms\n",
            "25:\tlearn: 1747.9643787\ttotal: 879ms\tremaining: 812ms\n",
            "26:\tlearn: 1742.5901870\ttotal: 928ms\tremaining: 791ms\n",
            "27:\tlearn: 1738.6008428\ttotal: 960ms\tremaining: 754ms\n",
            "28:\tlearn: 1735.1495056\ttotal: 992ms\tremaining: 719ms\n",
            "29:\tlearn: 1730.0375550\ttotal: 1.03s\tremaining: 687ms\n",
            "30:\tlearn: 1724.7116092\ttotal: 1.06s\tremaining: 651ms\n",
            "31:\tlearn: 1721.1495877\ttotal: 1.09s\tremaining: 616ms\n",
            "32:\tlearn: 1715.8963855\ttotal: 1.13s\tremaining: 581ms\n",
            "33:\tlearn: 1713.6735042\ttotal: 1.16s\tremaining: 547ms\n",
            "34:\tlearn: 1708.2951305\ttotal: 1.19s\tremaining: 511ms\n",
            "35:\tlearn: 1704.6156786\ttotal: 1.22s\tremaining: 476ms\n",
            "36:\tlearn: 1700.9564607\ttotal: 1.26s\tremaining: 442ms\n",
            "37:\tlearn: 1697.4724028\ttotal: 1.29s\tremaining: 409ms\n",
            "38:\tlearn: 1692.9741987\ttotal: 1.32s\tremaining: 374ms\n",
            "39:\tlearn: 1690.5687547\ttotal: 1.36s\tremaining: 341ms\n",
            "40:\tlearn: 1687.3735141\ttotal: 1.4s\tremaining: 306ms\n",
            "41:\tlearn: 1684.5581434\ttotal: 1.43s\tremaining: 272ms\n",
            "42:\tlearn: 1680.5536365\ttotal: 1.46s\tremaining: 237ms\n",
            "43:\tlearn: 1677.5021979\ttotal: 1.49s\tremaining: 203ms\n",
            "44:\tlearn: 1673.9898375\ttotal: 1.52s\tremaining: 169ms\n",
            "45:\tlearn: 1671.5933097\ttotal: 1.56s\tremaining: 136ms\n",
            "46:\tlearn: 1669.4620159\ttotal: 1.6s\tremaining: 102ms\n",
            "47:\tlearn: 1667.5364966\ttotal: 1.63s\tremaining: 68ms\n",
            "48:\tlearn: 1663.3497186\ttotal: 1.67s\tremaining: 34ms\n",
            "49:\tlearn: 1660.9700842\ttotal: 1.7s\tremaining: 0us\n",
            "Learning rate set to 0.5\n",
            "0:\tlearn: 3972.3240631\ttotal: 12.7ms\tremaining: 1.26s\n",
            "1:\tlearn: 3621.2349046\ttotal: 21.4ms\tremaining: 1.05s\n",
            "2:\tlearn: 3323.9304047\ttotal: 30.2ms\tremaining: 976ms\n",
            "3:\tlearn: 3128.3078124\ttotal: 40.5ms\tremaining: 972ms\n",
            "4:\tlearn: 2975.6708442\ttotal: 49ms\tremaining: 932ms\n",
            "5:\tlearn: 2881.6515596\ttotal: 62.3ms\tremaining: 976ms\n",
            "6:\tlearn: 2809.8235438\ttotal: 75ms\tremaining: 997ms\n",
            "7:\tlearn: 2762.4783772\ttotal: 83.5ms\tremaining: 961ms\n",
            "8:\tlearn: 2711.1811508\ttotal: 92.7ms\tremaining: 937ms\n",
            "9:\tlearn: 2672.6091480\ttotal: 111ms\tremaining: 1s\n",
            "10:\tlearn: 2643.8252958\ttotal: 126ms\tremaining: 1.02s\n",
            "11:\tlearn: 2618.3064814\ttotal: 134ms\tremaining: 986ms\n",
            "12:\tlearn: 2599.5294891\ttotal: 143ms\tremaining: 957ms\n",
            "13:\tlearn: 2579.3105093\ttotal: 152ms\tremaining: 935ms\n",
            "14:\tlearn: 2562.5242066\ttotal: 161ms\tremaining: 913ms\n",
            "15:\tlearn: 2548.6770283\ttotal: 170ms\tremaining: 893ms\n",
            "16:\tlearn: 2537.6461255\ttotal: 179ms\tremaining: 874ms\n",
            "17:\tlearn: 2527.6242781\ttotal: 188ms\tremaining: 855ms\n",
            "18:\tlearn: 2516.7543428\ttotal: 196ms\tremaining: 837ms\n",
            "19:\tlearn: 2507.2313962\ttotal: 205ms\tremaining: 820ms\n",
            "20:\tlearn: 2500.3376398\ttotal: 221ms\tremaining: 831ms\n",
            "21:\tlearn: 2494.0329278\ttotal: 230ms\tremaining: 815ms\n",
            "22:\tlearn: 2487.5493937\ttotal: 239ms\tremaining: 800ms\n",
            "23:\tlearn: 2481.4717525\ttotal: 248ms\tremaining: 786ms\n",
            "24:\tlearn: 2475.9899372\ttotal: 257ms\tremaining: 772ms\n",
            "25:\tlearn: 2472.2512462\ttotal: 266ms\tremaining: 757ms\n",
            "26:\tlearn: 2468.5075442\ttotal: 279ms\tremaining: 756ms\n",
            "27:\tlearn: 2464.2464765\ttotal: 288ms\tremaining: 741ms\n",
            "28:\tlearn: 2460.4662390\ttotal: 297ms\tremaining: 727ms\n",
            "29:\tlearn: 2456.2106559\ttotal: 305ms\tremaining: 713ms\n",
            "30:\tlearn: 2453.0928930\ttotal: 314ms\tremaining: 699ms\n",
            "31:\tlearn: 2449.1942655\ttotal: 323ms\tremaining: 686ms\n",
            "32:\tlearn: 2446.5139533\ttotal: 332ms\tremaining: 675ms\n",
            "33:\tlearn: 2443.0719973\ttotal: 341ms\tremaining: 663ms\n",
            "34:\tlearn: 2440.4377933\ttotal: 350ms\tremaining: 650ms\n",
            "35:\tlearn: 2437.1852372\ttotal: 359ms\tremaining: 639ms\n",
            "36:\tlearn: 2434.5907075\ttotal: 368ms\tremaining: 627ms\n",
            "37:\tlearn: 2432.0741795\ttotal: 377ms\tremaining: 615ms\n",
            "38:\tlearn: 2429.5115802\ttotal: 386ms\tremaining: 603ms\n",
            "39:\tlearn: 2426.4750185\ttotal: 394ms\tremaining: 592ms\n",
            "40:\tlearn: 2424.1236776\ttotal: 403ms\tremaining: 580ms\n",
            "41:\tlearn: 2421.0571393\ttotal: 412ms\tremaining: 569ms\n",
            "42:\tlearn: 2418.9537152\ttotal: 425ms\tremaining: 564ms\n",
            "43:\tlearn: 2416.7919923\ttotal: 435ms\tremaining: 554ms\n",
            "44:\tlearn: 2414.6010793\ttotal: 444ms\tremaining: 542ms\n",
            "45:\tlearn: 2412.0434280\ttotal: 453ms\tremaining: 531ms\n",
            "46:\tlearn: 2409.2997318\ttotal: 462ms\tremaining: 520ms\n",
            "47:\tlearn: 2406.9102500\ttotal: 476ms\tremaining: 515ms\n",
            "48:\tlearn: 2405.0648313\ttotal: 488ms\tremaining: 508ms\n",
            "49:\tlearn: 2403.1218301\ttotal: 497ms\tremaining: 497ms\n",
            "50:\tlearn: 2401.3179699\ttotal: 506ms\tremaining: 486ms\n",
            "51:\tlearn: 2399.5303604\ttotal: 514ms\tremaining: 475ms\n",
            "52:\tlearn: 2397.6906571\ttotal: 524ms\tremaining: 464ms\n",
            "53:\tlearn: 2395.6989271\ttotal: 535ms\tremaining: 456ms\n",
            "54:\tlearn: 2393.8906466\ttotal: 545ms\tremaining: 446ms\n",
            "55:\tlearn: 2391.9234200\ttotal: 554ms\tremaining: 435ms\n",
            "56:\tlearn: 2389.8278137\ttotal: 563ms\tremaining: 425ms\n",
            "57:\tlearn: 2387.8568606\ttotal: 572ms\tremaining: 414ms\n",
            "58:\tlearn: 2385.8133666\ttotal: 581ms\tremaining: 404ms\n",
            "59:\tlearn: 2383.8096471\ttotal: 592ms\tremaining: 394ms\n",
            "60:\tlearn: 2381.3749317\ttotal: 601ms\tremaining: 384ms\n",
            "61:\tlearn: 2379.6441027\ttotal: 610ms\tremaining: 374ms\n",
            "62:\tlearn: 2377.9727120\ttotal: 619ms\tremaining: 364ms\n",
            "63:\tlearn: 2376.5114012\ttotal: 634ms\tremaining: 356ms\n",
            "64:\tlearn: 2374.9873229\ttotal: 642ms\tremaining: 346ms\n",
            "65:\tlearn: 2373.6245769\ttotal: 651ms\tremaining: 335ms\n",
            "66:\tlearn: 2372.1480564\ttotal: 660ms\tremaining: 325ms\n",
            "67:\tlearn: 2370.2370038\ttotal: 675ms\tremaining: 318ms\n",
            "68:\tlearn: 2368.6621151\ttotal: 686ms\tremaining: 308ms\n",
            "69:\tlearn: 2367.1182675\ttotal: 695ms\tremaining: 298ms\n",
            "70:\tlearn: 2365.7004638\ttotal: 704ms\tremaining: 288ms\n",
            "71:\tlearn: 2364.2503042\ttotal: 713ms\tremaining: 277ms\n",
            "72:\tlearn: 2362.7220842\ttotal: 722ms\tremaining: 267ms\n",
            "73:\tlearn: 2361.4056648\ttotal: 731ms\tremaining: 257ms\n",
            "74:\tlearn: 2360.1045137\ttotal: 740ms\tremaining: 247ms\n",
            "75:\tlearn: 2358.5218741\ttotal: 749ms\tremaining: 236ms\n",
            "76:\tlearn: 2357.3572316\ttotal: 757ms\tremaining: 226ms\n",
            "77:\tlearn: 2356.3284148\ttotal: 766ms\tremaining: 216ms\n",
            "78:\tlearn: 2355.0842608\ttotal: 775ms\tremaining: 206ms\n",
            "79:\tlearn: 2353.9342836\ttotal: 784ms\tremaining: 196ms\n",
            "80:\tlearn: 2352.9304578\ttotal: 793ms\tremaining: 186ms\n",
            "81:\tlearn: 2351.6235589\ttotal: 807ms\tremaining: 177ms\n",
            "82:\tlearn: 2350.5825536\ttotal: 816ms\tremaining: 167ms\n",
            "83:\tlearn: 2349.5109277\ttotal: 825ms\tremaining: 157ms\n",
            "84:\tlearn: 2348.5497053\ttotal: 838ms\tremaining: 148ms\n",
            "85:\tlearn: 2347.5832585\ttotal: 846ms\tremaining: 138ms\n",
            "86:\tlearn: 2346.5888249\ttotal: 855ms\tremaining: 128ms\n",
            "87:\tlearn: 2345.2069336\ttotal: 864ms\tremaining: 118ms\n",
            "88:\tlearn: 2344.2573189\ttotal: 878ms\tremaining: 108ms\n",
            "89:\tlearn: 2343.2655873\ttotal: 887ms\tremaining: 98.6ms\n",
            "90:\tlearn: 2342.3697683\ttotal: 896ms\tremaining: 88.6ms\n",
            "91:\tlearn: 2341.0347033\ttotal: 904ms\tremaining: 78.6ms\n",
            "92:\tlearn: 2340.1911426\ttotal: 913ms\tremaining: 68.7ms\n",
            "93:\tlearn: 2339.2079912\ttotal: 922ms\tremaining: 58.8ms\n",
            "94:\tlearn: 2338.4152631\ttotal: 931ms\tremaining: 49ms\n",
            "95:\tlearn: 2337.0072041\ttotal: 939ms\tremaining: 39.1ms\n",
            "96:\tlearn: 2336.1824129\ttotal: 948ms\tremaining: 29.3ms\n",
            "97:\tlearn: 2334.9367458\ttotal: 957ms\tremaining: 19.5ms\n",
            "98:\tlearn: 2333.8787414\ttotal: 965ms\tremaining: 9.75ms\n",
            "99:\tlearn: 2333.1919566\ttotal: 975ms\tremaining: 0us\n",
            "Learning rate set to 0.5\n",
            "0:\tlearn: 3332.1115106\ttotal: 18.9ms\tremaining: 1.87s\n",
            "1:\tlearn: 2713.5743332\ttotal: 49.5ms\tremaining: 2.42s\n",
            "2:\tlearn: 2454.7813771\ttotal: 70.5ms\tremaining: 2.28s\n",
            "3:\tlearn: 2314.6169977\ttotal: 84.9ms\tremaining: 2.04s\n",
            "4:\tlearn: 2245.3740133\ttotal: 98.1ms\tremaining: 1.86s\n",
            "5:\tlearn: 2172.9107842\ttotal: 113ms\tremaining: 1.76s\n",
            "6:\tlearn: 2133.0195851\ttotal: 127ms\tremaining: 1.68s\n",
            "7:\tlearn: 2101.9328364\ttotal: 141ms\tremaining: 1.62s\n",
            "8:\tlearn: 2075.6371775\ttotal: 155ms\tremaining: 1.56s\n",
            "9:\tlearn: 2056.1806148\ttotal: 169ms\tremaining: 1.52s\n",
            "10:\tlearn: 2044.0654924\ttotal: 182ms\tremaining: 1.48s\n",
            "11:\tlearn: 2034.4167287\ttotal: 200ms\tremaining: 1.47s\n",
            "12:\tlearn: 2005.7279337\ttotal: 216ms\tremaining: 1.44s\n",
            "13:\tlearn: 1992.7491857\ttotal: 234ms\tremaining: 1.44s\n",
            "14:\tlearn: 1981.5899970\ttotal: 248ms\tremaining: 1.41s\n",
            "15:\tlearn: 1973.8230162\ttotal: 262ms\tremaining: 1.38s\n",
            "16:\tlearn: 1968.3354275\ttotal: 278ms\tremaining: 1.36s\n",
            "17:\tlearn: 1956.9313511\ttotal: 294ms\tremaining: 1.34s\n",
            "18:\tlearn: 1950.3932928\ttotal: 309ms\tremaining: 1.31s\n",
            "19:\tlearn: 1940.1825068\ttotal: 322ms\tremaining: 1.29s\n",
            "20:\tlearn: 1934.5825665\ttotal: 336ms\tremaining: 1.26s\n",
            "21:\tlearn: 1928.9141881\ttotal: 351ms\tremaining: 1.24s\n",
            "22:\tlearn: 1924.5885981\ttotal: 365ms\tremaining: 1.22s\n",
            "23:\tlearn: 1917.7708240\ttotal: 380ms\tremaining: 1.2s\n",
            "24:\tlearn: 1913.8039635\ttotal: 394ms\tremaining: 1.18s\n",
            "25:\tlearn: 1909.3143542\ttotal: 414ms\tremaining: 1.18s\n",
            "26:\tlearn: 1902.8341271\ttotal: 428ms\tremaining: 1.16s\n",
            "27:\tlearn: 1899.7674769\ttotal: 447ms\tremaining: 1.15s\n",
            "28:\tlearn: 1894.5347855\ttotal: 465ms\tremaining: 1.14s\n",
            "29:\tlearn: 1887.0038305\ttotal: 479ms\tremaining: 1.12s\n",
            "30:\tlearn: 1884.2884867\ttotal: 493ms\tremaining: 1.1s\n",
            "31:\tlearn: 1879.7842704\ttotal: 507ms\tremaining: 1.08s\n",
            "32:\tlearn: 1869.6861323\ttotal: 523ms\tremaining: 1.06s\n",
            "33:\tlearn: 1866.4857823\ttotal: 536ms\tremaining: 1.04s\n",
            "34:\tlearn: 1864.3245693\ttotal: 550ms\tremaining: 1.02s\n",
            "35:\tlearn: 1861.7794328\ttotal: 566ms\tremaining: 1.01s\n",
            "36:\tlearn: 1858.0282769\ttotal: 580ms\tremaining: 987ms\n",
            "37:\tlearn: 1854.9627054\ttotal: 594ms\tremaining: 970ms\n",
            "38:\tlearn: 1851.3809920\ttotal: 609ms\tremaining: 952ms\n",
            "39:\tlearn: 1848.7131463\ttotal: 628ms\tremaining: 941ms\n",
            "40:\tlearn: 1844.8214738\ttotal: 642ms\tremaining: 924ms\n",
            "41:\tlearn: 1840.8694849\ttotal: 661ms\tremaining: 912ms\n",
            "42:\tlearn: 1838.7027782\ttotal: 675ms\tremaining: 895ms\n",
            "43:\tlearn: 1837.1113060\ttotal: 688ms\tremaining: 876ms\n",
            "44:\tlearn: 1834.3369311\ttotal: 702ms\tremaining: 858ms\n",
            "45:\tlearn: 1831.0450753\ttotal: 717ms\tremaining: 841ms\n",
            "46:\tlearn: 1828.6180072\ttotal: 734ms\tremaining: 828ms\n",
            "47:\tlearn: 1826.4180059\ttotal: 751ms\tremaining: 814ms\n",
            "48:\tlearn: 1824.1880331\ttotal: 765ms\tremaining: 796ms\n",
            "49:\tlearn: 1821.7900037\ttotal: 780ms\tremaining: 780ms\n",
            "50:\tlearn: 1819.1738147\ttotal: 794ms\tremaining: 763ms\n",
            "51:\tlearn: 1817.6122300\ttotal: 807ms\tremaining: 745ms\n",
            "52:\tlearn: 1815.5097636\ttotal: 825ms\tremaining: 732ms\n",
            "53:\tlearn: 1813.4088581\ttotal: 842ms\tremaining: 718ms\n",
            "54:\tlearn: 1812.1201943\ttotal: 856ms\tremaining: 701ms\n",
            "55:\tlearn: 1809.6515620\ttotal: 875ms\tremaining: 688ms\n",
            "56:\tlearn: 1808.2503475\ttotal: 889ms\tremaining: 671ms\n",
            "57:\tlearn: 1806.6061814\ttotal: 903ms\tremaining: 654ms\n",
            "58:\tlearn: 1804.3793241\ttotal: 917ms\tremaining: 637ms\n",
            "59:\tlearn: 1802.5143979\ttotal: 933ms\tremaining: 622ms\n",
            "60:\tlearn: 1800.4724201\ttotal: 947ms\tremaining: 605ms\n",
            "61:\tlearn: 1799.2131564\ttotal: 961ms\tremaining: 589ms\n",
            "62:\tlearn: 1797.6041948\ttotal: 975ms\tremaining: 573ms\n",
            "63:\tlearn: 1795.7264745\ttotal: 990ms\tremaining: 557ms\n",
            "64:\tlearn: 1794.5005617\ttotal: 1s\tremaining: 541ms\n",
            "65:\tlearn: 1791.0429648\ttotal: 1.02s\tremaining: 526ms\n",
            "66:\tlearn: 1789.4902304\ttotal: 1.04s\tremaining: 512ms\n",
            "67:\tlearn: 1787.9610913\ttotal: 1.07s\tremaining: 503ms\n",
            "68:\tlearn: 1786.5028103\ttotal: 1.09s\tremaining: 489ms\n",
            "69:\tlearn: 1784.9647924\ttotal: 1.1s\tremaining: 472ms\n",
            "70:\tlearn: 1783.8080028\ttotal: 1.12s\tremaining: 456ms\n",
            "71:\tlearn: 1782.5880885\ttotal: 1.13s\tremaining: 441ms\n",
            "72:\tlearn: 1781.5578020\ttotal: 1.15s\tremaining: 425ms\n",
            "73:\tlearn: 1780.2703410\ttotal: 1.16s\tremaining: 408ms\n",
            "74:\tlearn: 1779.4554421\ttotal: 1.18s\tremaining: 392ms\n",
            "75:\tlearn: 1777.9376246\ttotal: 1.19s\tremaining: 376ms\n",
            "76:\tlearn: 1776.6347184\ttotal: 1.21s\tremaining: 362ms\n",
            "77:\tlearn: 1774.8737601\ttotal: 1.24s\tremaining: 349ms\n",
            "78:\tlearn: 1774.0209240\ttotal: 1.27s\tremaining: 337ms\n",
            "79:\tlearn: 1772.8118005\ttotal: 1.3s\tremaining: 325ms\n",
            "80:\tlearn: 1769.9578470\ttotal: 1.32s\tremaining: 310ms\n",
            "81:\tlearn: 1768.4171718\ttotal: 1.34s\tremaining: 295ms\n",
            "82:\tlearn: 1766.9424750\ttotal: 1.36s\tremaining: 279ms\n",
            "83:\tlearn: 1766.0235515\ttotal: 1.38s\tremaining: 263ms\n",
            "84:\tlearn: 1765.2805188\ttotal: 1.41s\tremaining: 249ms\n",
            "85:\tlearn: 1764.3470228\ttotal: 1.46s\tremaining: 237ms\n",
            "86:\tlearn: 1762.8718081\ttotal: 1.48s\tremaining: 221ms\n",
            "87:\tlearn: 1761.1864516\ttotal: 1.51s\tremaining: 206ms\n",
            "88:\tlearn: 1759.5886327\ttotal: 1.53s\tremaining: 189ms\n",
            "89:\tlearn: 1758.6441399\ttotal: 1.56s\tremaining: 174ms\n",
            "90:\tlearn: 1757.2253515\ttotal: 1.6s\tremaining: 158ms\n",
            "91:\tlearn: 1756.0369253\ttotal: 1.64s\tremaining: 143ms\n",
            "92:\tlearn: 1755.1740869\ttotal: 1.68s\tremaining: 126ms\n",
            "93:\tlearn: 1754.3596657\ttotal: 1.7s\tremaining: 108ms\n",
            "94:\tlearn: 1753.3133271\ttotal: 1.72s\tremaining: 90.8ms\n",
            "95:\tlearn: 1750.4629595\ttotal: 1.74s\tremaining: 72.7ms\n",
            "96:\tlearn: 1749.7354332\ttotal: 1.76s\tremaining: 54.4ms\n",
            "97:\tlearn: 1748.2442909\ttotal: 1.78s\tremaining: 36.3ms\n",
            "98:\tlearn: 1747.3514176\ttotal: 1.8s\tremaining: 18.2ms\n",
            "99:\tlearn: 1745.7024984\ttotal: 1.84s\tremaining: 0us\n",
            "Learning rate set to 0.5\n",
            "0:\tlearn: 3192.2717146\ttotal: 62.7ms\tremaining: 6.2s\n",
            "1:\tlearn: 2516.5849594\ttotal: 127ms\tremaining: 6.22s\n",
            "2:\tlearn: 2219.2898028\ttotal: 168ms\tremaining: 5.44s\n",
            "3:\tlearn: 2076.4291736\ttotal: 218ms\tremaining: 5.22s\n",
            "4:\tlearn: 2007.0944378\ttotal: 294ms\tremaining: 5.58s\n",
            "5:\tlearn: 1970.3875319\ttotal: 342ms\tremaining: 5.36s\n",
            "6:\tlearn: 1943.2716197\ttotal: 398ms\tremaining: 5.29s\n",
            "7:\tlearn: 1913.6941940\ttotal: 474ms\tremaining: 5.45s\n",
            "8:\tlearn: 1895.3916208\ttotal: 544ms\tremaining: 5.5s\n",
            "9:\tlearn: 1878.6079461\ttotal: 617ms\tremaining: 5.56s\n",
            "10:\tlearn: 1864.9321037\ttotal: 694ms\tremaining: 5.61s\n",
            "11:\tlearn: 1857.5687837\ttotal: 763ms\tremaining: 5.59s\n",
            "12:\tlearn: 1845.5166725\ttotal: 833ms\tremaining: 5.58s\n",
            "13:\tlearn: 1836.6325126\ttotal: 914ms\tremaining: 5.61s\n",
            "14:\tlearn: 1821.7665431\ttotal: 982ms\tremaining: 5.57s\n",
            "15:\tlearn: 1814.8132361\ttotal: 1.05s\tremaining: 5.53s\n",
            "16:\tlearn: 1807.1354175\ttotal: 1.12s\tremaining: 5.46s\n",
            "17:\tlearn: 1801.5776964\ttotal: 1.18s\tremaining: 5.38s\n",
            "18:\tlearn: 1793.2404010\ttotal: 1.24s\tremaining: 5.26s\n",
            "19:\tlearn: 1784.4972177\ttotal: 1.28s\tremaining: 5.13s\n",
            "20:\tlearn: 1777.4937686\ttotal: 1.35s\tremaining: 5.09s\n",
            "21:\tlearn: 1770.0864284\ttotal: 1.42s\tremaining: 5.03s\n",
            "22:\tlearn: 1764.6868687\ttotal: 1.48s\tremaining: 4.94s\n",
            "23:\tlearn: 1758.9405907\ttotal: 1.53s\tremaining: 4.86s\n",
            "24:\tlearn: 1752.4356462\ttotal: 1.6s\tremaining: 4.8s\n",
            "25:\tlearn: 1747.9643787\ttotal: 1.67s\tremaining: 4.75s\n",
            "26:\tlearn: 1742.5901870\ttotal: 1.74s\tremaining: 4.69s\n",
            "27:\tlearn: 1738.6008428\ttotal: 1.79s\tremaining: 4.62s\n",
            "28:\tlearn: 1735.1495056\ttotal: 1.87s\tremaining: 4.58s\n",
            "29:\tlearn: 1730.0375550\ttotal: 1.94s\tremaining: 4.53s\n",
            "30:\tlearn: 1724.7116092\ttotal: 2.01s\tremaining: 4.48s\n",
            "31:\tlearn: 1721.1495877\ttotal: 2.09s\tremaining: 4.44s\n",
            "32:\tlearn: 1715.8963855\ttotal: 2.16s\tremaining: 4.39s\n",
            "33:\tlearn: 1713.6735042\ttotal: 2.23s\tremaining: 4.34s\n",
            "34:\tlearn: 1708.2951305\ttotal: 2.28s\tremaining: 4.23s\n",
            "35:\tlearn: 1704.6156786\ttotal: 2.32s\tremaining: 4.12s\n",
            "36:\tlearn: 1700.9564607\ttotal: 2.35s\tremaining: 4s\n",
            "37:\tlearn: 1697.4724028\ttotal: 2.38s\tremaining: 3.88s\n",
            "38:\tlearn: 1692.9741987\ttotal: 2.41s\tremaining: 3.77s\n",
            "39:\tlearn: 1690.5687547\ttotal: 2.44s\tremaining: 3.67s\n",
            "40:\tlearn: 1687.3735141\ttotal: 2.48s\tremaining: 3.56s\n",
            "41:\tlearn: 1684.5581434\ttotal: 2.51s\tremaining: 3.46s\n",
            "42:\tlearn: 1680.5536365\ttotal: 2.54s\tremaining: 3.37s\n",
            "43:\tlearn: 1677.5021979\ttotal: 2.58s\tremaining: 3.28s\n",
            "44:\tlearn: 1673.9898375\ttotal: 2.61s\tremaining: 3.19s\n",
            "45:\tlearn: 1671.5933097\ttotal: 2.64s\tremaining: 3.1s\n",
            "46:\tlearn: 1669.4620159\ttotal: 2.67s\tremaining: 3.02s\n",
            "47:\tlearn: 1667.5364966\ttotal: 2.71s\tremaining: 2.93s\n",
            "48:\tlearn: 1663.3497186\ttotal: 2.74s\tremaining: 2.85s\n",
            "49:\tlearn: 1660.9700842\ttotal: 2.77s\tremaining: 2.77s\n",
            "50:\tlearn: 1657.8516075\ttotal: 2.81s\tremaining: 2.7s\n",
            "51:\tlearn: 1655.2488102\ttotal: 2.84s\tremaining: 2.62s\n",
            "52:\tlearn: 1652.5605187\ttotal: 2.87s\tremaining: 2.54s\n",
            "53:\tlearn: 1649.5355893\ttotal: 2.9s\tremaining: 2.47s\n",
            "54:\tlearn: 1647.5028374\ttotal: 2.94s\tremaining: 2.4s\n",
            "55:\tlearn: 1645.5621045\ttotal: 2.97s\tremaining: 2.33s\n",
            "56:\tlearn: 1643.2043080\ttotal: 3s\tremaining: 2.27s\n",
            "57:\tlearn: 1640.8983773\ttotal: 3.03s\tremaining: 2.2s\n",
            "58:\tlearn: 1638.5048311\ttotal: 3.06s\tremaining: 2.13s\n",
            "59:\tlearn: 1637.2752028\ttotal: 3.11s\tremaining: 2.07s\n",
            "60:\tlearn: 1635.4765658\ttotal: 3.14s\tremaining: 2s\n",
            "61:\tlearn: 1632.2867180\ttotal: 3.17s\tremaining: 1.94s\n",
            "62:\tlearn: 1630.1643259\ttotal: 3.22s\tremaining: 1.89s\n",
            "63:\tlearn: 1627.8826148\ttotal: 3.25s\tremaining: 1.83s\n",
            "64:\tlearn: 1626.3041780\ttotal: 3.28s\tremaining: 1.77s\n",
            "65:\tlearn: 1625.0068345\ttotal: 3.31s\tremaining: 1.71s\n",
            "66:\tlearn: 1623.2742661\ttotal: 3.34s\tremaining: 1.65s\n",
            "67:\tlearn: 1621.8290024\ttotal: 3.37s\tremaining: 1.59s\n",
            "68:\tlearn: 1619.2703921\ttotal: 3.41s\tremaining: 1.53s\n",
            "69:\tlearn: 1617.3373484\ttotal: 3.45s\tremaining: 1.48s\n",
            "70:\tlearn: 1615.5151250\ttotal: 3.48s\tremaining: 1.42s\n",
            "71:\tlearn: 1614.3232603\ttotal: 3.51s\tremaining: 1.36s\n",
            "72:\tlearn: 1612.8752094\ttotal: 3.54s\tremaining: 1.31s\n",
            "73:\tlearn: 1611.6660199\ttotal: 3.57s\tremaining: 1.25s\n",
            "74:\tlearn: 1608.8978586\ttotal: 3.6s\tremaining: 1.2s\n",
            "75:\tlearn: 1606.3444833\ttotal: 3.64s\tremaining: 1.15s\n",
            "76:\tlearn: 1604.8653212\ttotal: 3.67s\tremaining: 1.1s\n",
            "77:\tlearn: 1602.8767628\ttotal: 3.71s\tremaining: 1.04s\n",
            "78:\tlearn: 1600.5643453\ttotal: 3.74s\tremaining: 994ms\n",
            "79:\tlearn: 1598.6363610\ttotal: 3.77s\tremaining: 943ms\n",
            "80:\tlearn: 1596.7609408\ttotal: 3.8s\tremaining: 892ms\n",
            "81:\tlearn: 1594.7026418\ttotal: 3.83s\tremaining: 842ms\n",
            "82:\tlearn: 1592.5326863\ttotal: 3.87s\tremaining: 792ms\n",
            "83:\tlearn: 1591.4539725\ttotal: 3.91s\tremaining: 744ms\n",
            "84:\tlearn: 1589.8464057\ttotal: 3.94s\tremaining: 695ms\n",
            "85:\tlearn: 1588.7536148\ttotal: 3.97s\tremaining: 646ms\n",
            "86:\tlearn: 1586.9933044\ttotal: 4.01s\tremaining: 599ms\n",
            "87:\tlearn: 1584.4710339\ttotal: 4.04s\tremaining: 551ms\n",
            "88:\tlearn: 1583.2202232\ttotal: 4.07s\tremaining: 503ms\n",
            "89:\tlearn: 1581.7801293\ttotal: 4.1s\tremaining: 456ms\n",
            "90:\tlearn: 1580.0339868\ttotal: 4.13s\tremaining: 409ms\n",
            "91:\tlearn: 1577.9578992\ttotal: 4.17s\tremaining: 362ms\n",
            "92:\tlearn: 1576.0590575\ttotal: 4.2s\tremaining: 316ms\n",
            "93:\tlearn: 1574.8970398\ttotal: 4.24s\tremaining: 271ms\n",
            "94:\tlearn: 1573.7665622\ttotal: 4.28s\tremaining: 225ms\n",
            "95:\tlearn: 1572.2751499\ttotal: 4.31s\tremaining: 180ms\n",
            "96:\tlearn: 1571.6514626\ttotal: 4.34s\tremaining: 134ms\n",
            "97:\tlearn: 1570.0336683\ttotal: 4.37s\tremaining: 89.3ms\n",
            "98:\tlearn: 1568.8934214\ttotal: 4.41s\tremaining: 44.5ms\n",
            "99:\tlearn: 1567.8567229\ttotal: 4.44s\tremaining: 0us\n",
            "RMSE лучшей модели CatBoost = 1723.2294050224905 с количеством деревьев 100 и максимальной глубиной 10\n",
            "CPU times: user 18.2 s, sys: 733 ms, total: 18.9 s\n",
            "Wall time: 12 s\n"
          ]
        }
      ],
      "source": [
        "%%time\n",
        "\n",
        "best_model_cb = None\n",
        "best_est = 0\n",
        "best_depth = 0\n",
        "best_rmse_cb = 100000\n",
        "\n",
        "for est in [10, 50, 100]:\n",
        "    for depth in [1, 5, 10]:\n",
        "\n",
        "        model_cb = cb.CatBoostRegressor(random_state=12345, n_estimators=est, max_depth=depth)\n",
        "        model_cb.fit(features_train, target_train)\n",
        "        pred = model_cb.predict(features_valid)\n",
        "        rmse = np.sqrt(mse(target_valid, pred))\n",
        "        if rmse < best_rmse_cb:\n",
        "            best_rmse_cb = rmse\n",
        "            best_model_cb = model_cb\n",
        "            best_est = est\n",
        "            best_depth = depth\n",
        "print('RMSE лучшей модели CatBoost =', best_rmse_cb, 'с количеством деревьев', best_est, 'и максимальной глубиной', best_depth)"
      ]
    },
    {
      "cell_type": "markdown",
      "metadata": {
        "id": "QeDzWvOU5108"
      },
      "source": [
        "CatBoost показал идентичную скорость, что и LightGBM, но при этом качество немного улучшилось."
      ]
    },
    {
      "cell_type": "markdown",
      "metadata": {
        "id": "-YI6wfQr5108"
      },
      "source": [
        "### RandomForest\n",
        "\n",
        "Добавим для сравнения с моделями бустинга беггинговую модель — случайный лес."
      ]
    },
    {
      "cell_type": "code",
      "execution_count": 31,
      "metadata": {
        "colab": {
          "base_uri": "https://localhost:8080/"
        },
        "id": "rh6pQMLV5108",
        "outputId": "5486c01e-48fd-4e89-98a9-fca0cc923468"
      },
      "outputs": [
        {
          "output_type": "stream",
          "name": "stdout",
          "text": [
            "RMSE лучшей модели Случайный лес = 1952.2762952535677 с количеством деревьев 100 и максимальной глубиной 10\n",
            "CPU times: user 46.6 s, sys: 67.4 ms, total: 46.7 s\n",
            "Wall time: 46.8 s\n"
          ]
        }
      ],
      "source": [
        "%%time\n",
        "\n",
        "best_model_rf = None\n",
        "best_est = 0\n",
        "best_depth = 0\n",
        "best_rmse_rf = 100000\n",
        "\n",
        "for est in [10, 50, 100]:\n",
        "    for depth in [1, 5, 10]:\n",
        "\n",
        "        model_rf = RandomForestRegressor(random_state=12345, n_estimators=est, max_depth=depth)\n",
        "        model_rf.fit(features_train, target_train)\n",
        "        pred = model_rf.predict(features_valid)\n",
        "        rmse = np.sqrt(mse(target_valid, pred))\n",
        "        if rmse < best_rmse_rf:\n",
        "            best_rmse_rf = rmse\n",
        "            best_model_rf = model_rf\n",
        "            best_est = est\n",
        "            best_depth = depth\n",
        "print('RMSE лучшей модели Случайный лес =', best_rmse_rf, 'с количеством деревьев', best_est, 'и максимальной глубиной', best_depth)"
      ]
    },
    {
      "cell_type": "markdown",
      "metadata": {
        "id": "RgysjHez5108"
      },
      "source": [
        "Лес работал вдвое дольше предыдущих двух моделей и при этом дал RMSE хуже, чем градиентные бустинги."
      ]
    },
    {
      "cell_type": "markdown",
      "metadata": {
        "id": "aloD-DFT5109"
      },
      "source": [
        "### Linear reagression\n",
        "\n",
        "Напоследок применю к нашим данным обыкновенную линейную регрессию. Вдруг все эти сложные ансамбли не имели особого смысла?"
      ]
    },
    {
      "cell_type": "code",
      "execution_count": 32,
      "metadata": {
        "colab": {
          "base_uri": "https://localhost:8080/"
        },
        "id": "E9mkHcMU5109",
        "outputId": "27912e87-b8a0-44fa-9f3e-b81736fd172d"
      },
      "outputs": [
        {
          "output_type": "stream",
          "name": "stdout",
          "text": [
            "RMSE модели линейной регрессии = 2065.404701003335\n",
            "CPU times: user 2.81 s, sys: 2.24 s, total: 5.04 s\n",
            "Wall time: 3.47 s\n"
          ]
        }
      ],
      "source": [
        "%%time\n",
        "\n",
        "model_lr = LinearRegression()\n",
        "model_lr.fit(features_train_ohe, target_train)\n",
        "pred = model_lr.predict(features_valid_ohe)\n",
        "rmse_lr = np.sqrt(mse(target_valid, pred))\n",
        "print('RMSE модели линейной регрессии =', rmse_lr)"
      ]
    },
    {
      "cell_type": "markdown",
      "metadata": {
        "id": "RNo981mK5109"
      },
      "source": [
        "У линейной регрессии результат совсем плох в сравнении с ансамблями."
      ]
    },
    {
      "cell_type": "markdown",
      "metadata": {
        "id": "z1c-_8kn5109"
      },
      "source": [
        "### Промежуточный вывод\n",
        "\n",
        "Дольше всего выполнялся перебор гиперпараметров у случайного леса, среди бустингов — у XGBoost. По сравнению с ними, LightGBM и CatBoost сработали довольно быстро. По качеству, бустинг явно обходит беггинг и одиночную линейную регрессию."
      ]
    },
    {
      "cell_type": "markdown",
      "metadata": {
        "id": "SyXxhWpY5109"
      },
      "source": [
        "## Анализ моделей"
      ]
    },
    {
      "cell_type": "markdown",
      "metadata": {
        "id": "3k57yBwa5109"
      },
      "source": [
        "### Время обучения\n",
        "\n",
        "Возьму модели с лучшими подобранными гиперпараметрами, обучу их и сравню время обучения."
      ]
    },
    {
      "cell_type": "code",
      "execution_count": 33,
      "metadata": {
        "colab": {
          "base_uri": "https://localhost:8080/",
          "height": 283
        },
        "id": "gOClmBIR5109",
        "outputId": "86d3feee-974f-4fa2-ee72-b58953c406e0"
      },
      "outputs": [
        {
          "output_type": "stream",
          "name": "stdout",
          "text": [
            "CPU times: user 3.14 s, sys: 98.4 ms, total: 3.24 s\n",
            "Wall time: 1.7 s\n"
          ]
        },
        {
          "output_type": "execute_result",
          "data": {
            "text/plain": [
              "XGBRegressor(base_score=None, booster=None, callbacks=None,\n",
              "             colsample_bylevel=None, colsample_bynode=None,\n",
              "             colsample_bytree=None, device=None, early_stopping_rounds=None,\n",
              "             enable_categorical=False, eval_metric=None, feature_types=None,\n",
              "             gamma=None, grow_policy=None, importance_type=None,\n",
              "             interaction_constraints=None, learning_rate=None, max_bin=None,\n",
              "             max_cat_threshold=None, max_cat_to_onehot=None,\n",
              "             max_delta_step=None, max_depth=10, max_leaves=None,\n",
              "             min_child_weight=None, missing=nan, monotone_constraints=None,\n",
              "             multi_strategy=None, n_estimators=100, n_jobs=None,\n",
              "             num_parallel_tree=None, random_state=12345, ...)"
            ],
            "text/html": [
              "<style>#sk-container-id-1 {color: black;background-color: white;}#sk-container-id-1 pre{padding: 0;}#sk-container-id-1 div.sk-toggleable {background-color: white;}#sk-container-id-1 label.sk-toggleable__label {cursor: pointer;display: block;width: 100%;margin-bottom: 0;padding: 0.3em;box-sizing: border-box;text-align: center;}#sk-container-id-1 label.sk-toggleable__label-arrow:before {content: \"▸\";float: left;margin-right: 0.25em;color: #696969;}#sk-container-id-1 label.sk-toggleable__label-arrow:hover:before {color: black;}#sk-container-id-1 div.sk-estimator:hover label.sk-toggleable__label-arrow:before {color: black;}#sk-container-id-1 div.sk-toggleable__content {max-height: 0;max-width: 0;overflow: hidden;text-align: left;background-color: #f0f8ff;}#sk-container-id-1 div.sk-toggleable__content pre {margin: 0.2em;color: black;border-radius: 0.25em;background-color: #f0f8ff;}#sk-container-id-1 input.sk-toggleable__control:checked~div.sk-toggleable__content {max-height: 200px;max-width: 100%;overflow: auto;}#sk-container-id-1 input.sk-toggleable__control:checked~label.sk-toggleable__label-arrow:before {content: \"▾\";}#sk-container-id-1 div.sk-estimator input.sk-toggleable__control:checked~label.sk-toggleable__label {background-color: #d4ebff;}#sk-container-id-1 div.sk-label input.sk-toggleable__control:checked~label.sk-toggleable__label {background-color: #d4ebff;}#sk-container-id-1 input.sk-hidden--visually {border: 0;clip: rect(1px 1px 1px 1px);clip: rect(1px, 1px, 1px, 1px);height: 1px;margin: -1px;overflow: hidden;padding: 0;position: absolute;width: 1px;}#sk-container-id-1 div.sk-estimator {font-family: monospace;background-color: #f0f8ff;border: 1px dotted black;border-radius: 0.25em;box-sizing: border-box;margin-bottom: 0.5em;}#sk-container-id-1 div.sk-estimator:hover {background-color: #d4ebff;}#sk-container-id-1 div.sk-parallel-item::after {content: \"\";width: 100%;border-bottom: 1px solid gray;flex-grow: 1;}#sk-container-id-1 div.sk-label:hover label.sk-toggleable__label {background-color: #d4ebff;}#sk-container-id-1 div.sk-serial::before {content: \"\";position: absolute;border-left: 1px solid gray;box-sizing: border-box;top: 0;bottom: 0;left: 50%;z-index: 0;}#sk-container-id-1 div.sk-serial {display: flex;flex-direction: column;align-items: center;background-color: white;padding-right: 0.2em;padding-left: 0.2em;position: relative;}#sk-container-id-1 div.sk-item {position: relative;z-index: 1;}#sk-container-id-1 div.sk-parallel {display: flex;align-items: stretch;justify-content: center;background-color: white;position: relative;}#sk-container-id-1 div.sk-item::before, #sk-container-id-1 div.sk-parallel-item::before {content: \"\";position: absolute;border-left: 1px solid gray;box-sizing: border-box;top: 0;bottom: 0;left: 50%;z-index: -1;}#sk-container-id-1 div.sk-parallel-item {display: flex;flex-direction: column;z-index: 1;position: relative;background-color: white;}#sk-container-id-1 div.sk-parallel-item:first-child::after {align-self: flex-end;width: 50%;}#sk-container-id-1 div.sk-parallel-item:last-child::after {align-self: flex-start;width: 50%;}#sk-container-id-1 div.sk-parallel-item:only-child::after {width: 0;}#sk-container-id-1 div.sk-dashed-wrapped {border: 1px dashed gray;margin: 0 0.4em 0.5em 0.4em;box-sizing: border-box;padding-bottom: 0.4em;background-color: white;}#sk-container-id-1 div.sk-label label {font-family: monospace;font-weight: bold;display: inline-block;line-height: 1.2em;}#sk-container-id-1 div.sk-label-container {text-align: center;}#sk-container-id-1 div.sk-container {/* jupyter's `normalize.less` sets `[hidden] { display: none; }` but bootstrap.min.css set `[hidden] { display: none !important; }` so we also need the `!important` here to be able to override the default hidden behavior on the sphinx rendered scikit-learn.org. See: https://github.com/scikit-learn/scikit-learn/issues/21755 */display: inline-block !important;position: relative;}#sk-container-id-1 div.sk-text-repr-fallback {display: none;}</style><div id=\"sk-container-id-1\" class=\"sk-top-container\"><div class=\"sk-text-repr-fallback\"><pre>XGBRegressor(base_score=None, booster=None, callbacks=None,\n",
              "             colsample_bylevel=None, colsample_bynode=None,\n",
              "             colsample_bytree=None, device=None, early_stopping_rounds=None,\n",
              "             enable_categorical=False, eval_metric=None, feature_types=None,\n",
              "             gamma=None, grow_policy=None, importance_type=None,\n",
              "             interaction_constraints=None, learning_rate=None, max_bin=None,\n",
              "             max_cat_threshold=None, max_cat_to_onehot=None,\n",
              "             max_delta_step=None, max_depth=10, max_leaves=None,\n",
              "             min_child_weight=None, missing=nan, monotone_constraints=None,\n",
              "             multi_strategy=None, n_estimators=100, n_jobs=None,\n",
              "             num_parallel_tree=None, random_state=12345, ...)</pre><b>In a Jupyter environment, please rerun this cell to show the HTML representation or trust the notebook. <br />On GitHub, the HTML representation is unable to render, please try loading this page with nbviewer.org.</b></div><div class=\"sk-container\" hidden><div class=\"sk-item\"><div class=\"sk-estimator sk-toggleable\"><input class=\"sk-toggleable__control sk-hidden--visually\" id=\"sk-estimator-id-1\" type=\"checkbox\" checked><label for=\"sk-estimator-id-1\" class=\"sk-toggleable__label sk-toggleable__label-arrow\">XGBRegressor</label><div class=\"sk-toggleable__content\"><pre>XGBRegressor(base_score=None, booster=None, callbacks=None,\n",
              "             colsample_bylevel=None, colsample_bynode=None,\n",
              "             colsample_bytree=None, device=None, early_stopping_rounds=None,\n",
              "             enable_categorical=False, eval_metric=None, feature_types=None,\n",
              "             gamma=None, grow_policy=None, importance_type=None,\n",
              "             interaction_constraints=None, learning_rate=None, max_bin=None,\n",
              "             max_cat_threshold=None, max_cat_to_onehot=None,\n",
              "             max_delta_step=None, max_depth=10, max_leaves=None,\n",
              "             min_child_weight=None, missing=nan, monotone_constraints=None,\n",
              "             multi_strategy=None, n_estimators=100, n_jobs=None,\n",
              "             num_parallel_tree=None, random_state=12345, ...)</pre></div></div></div></div></div>"
            ]
          },
          "metadata": {},
          "execution_count": 33
        }
      ],
      "source": [
        "%%time\n",
        "best_model_xg.fit(features_train, target_train)"
      ]
    },
    {
      "cell_type": "markdown",
      "metadata": {
        "id": "FOEFUmnb510-"
      },
      "source": [
        "Обучение XGBoost у меня заняло 41 секунду."
      ]
    },
    {
      "cell_type": "code",
      "execution_count": 34,
      "metadata": {
        "scrolled": true,
        "colab": {
          "base_uri": "https://localhost:8080/",
          "height": 248
        },
        "id": "w-oc_AKr510-",
        "outputId": "c6e87e02-0ab0-48a2-ce2e-8438aa05d32f"
      },
      "outputs": [
        {
          "output_type": "stream",
          "name": "stdout",
          "text": [
            "[LightGBM] [Warning] Accuracy may be bad since you didn't explicitly set num_leaves OR 2^max_depth > num_leaves. (num_leaves=31).\n",
            "[LightGBM] [Warning] Accuracy may be bad since you didn't explicitly set num_leaves OR 2^max_depth > num_leaves. (num_leaves=31).\n",
            "[LightGBM] [Info] Auto-choosing row-wise multi-threading, the overhead of testing was 0.002514 seconds.\n",
            "You can set `force_row_wise=true` to remove the overhead.\n",
            "And if memory is not enough, you can set `force_col_wise=true`.\n",
            "[LightGBM] [Info] Total Bins 564\n",
            "[LightGBM] [Info] Number of data points in the train set: 127629, number of used features: 6\n",
            "[LightGBM] [Info] Start training from score 5202.437730\n",
            "CPU times: user 861 ms, sys: 5.94 ms, total: 867 ms\n",
            "Wall time: 871 ms\n"
          ]
        },
        {
          "output_type": "execute_result",
          "data": {
            "text/plain": [
              "LGBMRegressor(max_depth=10, random_state=12345)"
            ],
            "text/html": [
              "<style>#sk-container-id-2 {color: black;background-color: white;}#sk-container-id-2 pre{padding: 0;}#sk-container-id-2 div.sk-toggleable {background-color: white;}#sk-container-id-2 label.sk-toggleable__label {cursor: pointer;display: block;width: 100%;margin-bottom: 0;padding: 0.3em;box-sizing: border-box;text-align: center;}#sk-container-id-2 label.sk-toggleable__label-arrow:before {content: \"▸\";float: left;margin-right: 0.25em;color: #696969;}#sk-container-id-2 label.sk-toggleable__label-arrow:hover:before {color: black;}#sk-container-id-2 div.sk-estimator:hover label.sk-toggleable__label-arrow:before {color: black;}#sk-container-id-2 div.sk-toggleable__content {max-height: 0;max-width: 0;overflow: hidden;text-align: left;background-color: #f0f8ff;}#sk-container-id-2 div.sk-toggleable__content pre {margin: 0.2em;color: black;border-radius: 0.25em;background-color: #f0f8ff;}#sk-container-id-2 input.sk-toggleable__control:checked~div.sk-toggleable__content {max-height: 200px;max-width: 100%;overflow: auto;}#sk-container-id-2 input.sk-toggleable__control:checked~label.sk-toggleable__label-arrow:before {content: \"▾\";}#sk-container-id-2 div.sk-estimator input.sk-toggleable__control:checked~label.sk-toggleable__label {background-color: #d4ebff;}#sk-container-id-2 div.sk-label input.sk-toggleable__control:checked~label.sk-toggleable__label {background-color: #d4ebff;}#sk-container-id-2 input.sk-hidden--visually {border: 0;clip: rect(1px 1px 1px 1px);clip: rect(1px, 1px, 1px, 1px);height: 1px;margin: -1px;overflow: hidden;padding: 0;position: absolute;width: 1px;}#sk-container-id-2 div.sk-estimator {font-family: monospace;background-color: #f0f8ff;border: 1px dotted black;border-radius: 0.25em;box-sizing: border-box;margin-bottom: 0.5em;}#sk-container-id-2 div.sk-estimator:hover {background-color: #d4ebff;}#sk-container-id-2 div.sk-parallel-item::after {content: \"\";width: 100%;border-bottom: 1px solid gray;flex-grow: 1;}#sk-container-id-2 div.sk-label:hover label.sk-toggleable__label {background-color: #d4ebff;}#sk-container-id-2 div.sk-serial::before {content: \"\";position: absolute;border-left: 1px solid gray;box-sizing: border-box;top: 0;bottom: 0;left: 50%;z-index: 0;}#sk-container-id-2 div.sk-serial {display: flex;flex-direction: column;align-items: center;background-color: white;padding-right: 0.2em;padding-left: 0.2em;position: relative;}#sk-container-id-2 div.sk-item {position: relative;z-index: 1;}#sk-container-id-2 div.sk-parallel {display: flex;align-items: stretch;justify-content: center;background-color: white;position: relative;}#sk-container-id-2 div.sk-item::before, #sk-container-id-2 div.sk-parallel-item::before {content: \"\";position: absolute;border-left: 1px solid gray;box-sizing: border-box;top: 0;bottom: 0;left: 50%;z-index: -1;}#sk-container-id-2 div.sk-parallel-item {display: flex;flex-direction: column;z-index: 1;position: relative;background-color: white;}#sk-container-id-2 div.sk-parallel-item:first-child::after {align-self: flex-end;width: 50%;}#sk-container-id-2 div.sk-parallel-item:last-child::after {align-self: flex-start;width: 50%;}#sk-container-id-2 div.sk-parallel-item:only-child::after {width: 0;}#sk-container-id-2 div.sk-dashed-wrapped {border: 1px dashed gray;margin: 0 0.4em 0.5em 0.4em;box-sizing: border-box;padding-bottom: 0.4em;background-color: white;}#sk-container-id-2 div.sk-label label {font-family: monospace;font-weight: bold;display: inline-block;line-height: 1.2em;}#sk-container-id-2 div.sk-label-container {text-align: center;}#sk-container-id-2 div.sk-container {/* jupyter's `normalize.less` sets `[hidden] { display: none; }` but bootstrap.min.css set `[hidden] { display: none !important; }` so we also need the `!important` here to be able to override the default hidden behavior on the sphinx rendered scikit-learn.org. See: https://github.com/scikit-learn/scikit-learn/issues/21755 */display: inline-block !important;position: relative;}#sk-container-id-2 div.sk-text-repr-fallback {display: none;}</style><div id=\"sk-container-id-2\" class=\"sk-top-container\"><div class=\"sk-text-repr-fallback\"><pre>LGBMRegressor(max_depth=10, random_state=12345)</pre><b>In a Jupyter environment, please rerun this cell to show the HTML representation or trust the notebook. <br />On GitHub, the HTML representation is unable to render, please try loading this page with nbviewer.org.</b></div><div class=\"sk-container\" hidden><div class=\"sk-item\"><div class=\"sk-estimator sk-toggleable\"><input class=\"sk-toggleable__control sk-hidden--visually\" id=\"sk-estimator-id-2\" type=\"checkbox\" checked><label for=\"sk-estimator-id-2\" class=\"sk-toggleable__label sk-toggleable__label-arrow\">LGBMRegressor</label><div class=\"sk-toggleable__content\"><pre>LGBMRegressor(max_depth=10, random_state=12345)</pre></div></div></div></div></div>"
            ]
          },
          "metadata": {},
          "execution_count": 34
        }
      ],
      "source": [
        "%%time\n",
        "best_model_lgbm.fit(features_train, target_train)"
      ]
    },
    {
      "cell_type": "markdown",
      "metadata": {
        "id": "8Vxn-1eZ510-"
      },
      "source": [
        "LightGBM обучилась всего за 3 секунды."
      ]
    },
    {
      "cell_type": "code",
      "execution_count": 35,
      "metadata": {
        "scrolled": true,
        "colab": {
          "base_uri": "https://localhost:8080/"
        },
        "id": "nNHNqEWZ510-",
        "outputId": "80d6819f-aa10-4617-ab76-87b170d81430"
      },
      "outputs": [
        {
          "output_type": "stream",
          "name": "stdout",
          "text": [
            "Learning rate set to 0.5\n",
            "0:\tlearn: 3192.2717146\ttotal: 32.8ms\tremaining: 3.25s\n",
            "1:\tlearn: 2516.5849594\ttotal: 65.5ms\tremaining: 3.21s\n",
            "2:\tlearn: 2219.2898028\ttotal: 97.4ms\tremaining: 3.15s\n",
            "3:\tlearn: 2076.4291736\ttotal: 134ms\tremaining: 3.22s\n",
            "4:\tlearn: 2007.0944378\ttotal: 166ms\tremaining: 3.16s\n",
            "5:\tlearn: 1970.3875319\ttotal: 202ms\tremaining: 3.16s\n",
            "6:\tlearn: 1943.2716197\ttotal: 233ms\tremaining: 3.1s\n",
            "7:\tlearn: 1913.6941940\ttotal: 274ms\tremaining: 3.15s\n",
            "8:\tlearn: 1895.3916208\ttotal: 309ms\tremaining: 3.12s\n",
            "9:\tlearn: 1878.6079461\ttotal: 346ms\tremaining: 3.11s\n",
            "10:\tlearn: 1864.9321037\ttotal: 379ms\tremaining: 3.06s\n",
            "11:\tlearn: 1857.5687837\ttotal: 415ms\tremaining: 3.04s\n",
            "12:\tlearn: 1845.5166725\ttotal: 453ms\tremaining: 3.03s\n",
            "13:\tlearn: 1836.6325126\ttotal: 484ms\tremaining: 2.97s\n",
            "14:\tlearn: 1821.7665431\ttotal: 529ms\tremaining: 3s\n",
            "15:\tlearn: 1814.8132361\ttotal: 566ms\tremaining: 2.97s\n",
            "16:\tlearn: 1807.1354175\ttotal: 597ms\tremaining: 2.91s\n",
            "17:\tlearn: 1801.5776964\ttotal: 633ms\tremaining: 2.88s\n",
            "18:\tlearn: 1793.2404010\ttotal: 668ms\tremaining: 2.85s\n",
            "19:\tlearn: 1784.4972177\ttotal: 706ms\tremaining: 2.82s\n",
            "20:\tlearn: 1777.4937686\ttotal: 745ms\tremaining: 2.8s\n",
            "21:\tlearn: 1770.0864284\ttotal: 780ms\tremaining: 2.76s\n",
            "22:\tlearn: 1764.6868687\ttotal: 811ms\tremaining: 2.71s\n",
            "23:\tlearn: 1758.9405907\ttotal: 848ms\tremaining: 2.69s\n",
            "24:\tlearn: 1752.4356462\ttotal: 881ms\tremaining: 2.64s\n",
            "25:\tlearn: 1747.9643787\ttotal: 912ms\tremaining: 2.6s\n",
            "26:\tlearn: 1742.5901870\ttotal: 944ms\tremaining: 2.55s\n",
            "27:\tlearn: 1738.6008428\ttotal: 975ms\tremaining: 2.51s\n",
            "28:\tlearn: 1735.1495056\ttotal: 1.01s\tremaining: 2.48s\n",
            "29:\tlearn: 1730.0375550\ttotal: 1.04s\tremaining: 2.44s\n",
            "30:\tlearn: 1724.7116092\ttotal: 1.08s\tremaining: 2.4s\n",
            "31:\tlearn: 1721.1495877\ttotal: 1.11s\tremaining: 2.36s\n",
            "32:\tlearn: 1715.8963855\ttotal: 1.15s\tremaining: 2.33s\n",
            "33:\tlearn: 1713.6735042\ttotal: 1.18s\tremaining: 2.29s\n",
            "34:\tlearn: 1708.2951305\ttotal: 1.22s\tremaining: 2.26s\n",
            "35:\tlearn: 1704.6156786\ttotal: 1.25s\tremaining: 2.23s\n",
            "36:\tlearn: 1700.9564607\ttotal: 1.29s\tremaining: 2.19s\n",
            "37:\tlearn: 1697.4724028\ttotal: 1.33s\tremaining: 2.18s\n",
            "38:\tlearn: 1692.9741987\ttotal: 1.37s\tremaining: 2.14s\n",
            "39:\tlearn: 1690.5687547\ttotal: 1.4s\tremaining: 2.1s\n",
            "40:\tlearn: 1687.3735141\ttotal: 1.44s\tremaining: 2.07s\n",
            "41:\tlearn: 1684.5581434\ttotal: 1.47s\tremaining: 2.03s\n",
            "42:\tlearn: 1680.5536365\ttotal: 1.51s\tremaining: 2s\n",
            "43:\tlearn: 1677.5021979\ttotal: 1.56s\tremaining: 1.98s\n",
            "44:\tlearn: 1673.9898375\ttotal: 1.59s\tremaining: 1.94s\n",
            "45:\tlearn: 1671.5933097\ttotal: 1.63s\tremaining: 1.91s\n",
            "46:\tlearn: 1669.4620159\ttotal: 1.66s\tremaining: 1.88s\n",
            "47:\tlearn: 1667.5364966\ttotal: 1.7s\tremaining: 1.84s\n",
            "48:\tlearn: 1663.3497186\ttotal: 1.74s\tremaining: 1.81s\n",
            "49:\tlearn: 1660.9700842\ttotal: 1.77s\tremaining: 1.77s\n",
            "50:\tlearn: 1657.8516075\ttotal: 1.8s\tremaining: 1.73s\n",
            "51:\tlearn: 1655.2488102\ttotal: 1.84s\tremaining: 1.7s\n",
            "52:\tlearn: 1652.5605187\ttotal: 1.88s\tremaining: 1.66s\n",
            "53:\tlearn: 1649.5355893\ttotal: 1.91s\tremaining: 1.63s\n",
            "54:\tlearn: 1647.5028374\ttotal: 1.94s\tremaining: 1.59s\n",
            "55:\tlearn: 1645.5621045\ttotal: 1.97s\tremaining: 1.55s\n",
            "56:\tlearn: 1643.2043080\ttotal: 2s\tremaining: 1.51s\n",
            "57:\tlearn: 1640.8983773\ttotal: 2.04s\tremaining: 1.48s\n",
            "58:\tlearn: 1638.5048311\ttotal: 2.08s\tremaining: 1.44s\n",
            "59:\tlearn: 1637.2752028\ttotal: 2.11s\tremaining: 1.41s\n",
            "60:\tlearn: 1635.4765658\ttotal: 2.15s\tremaining: 1.37s\n",
            "61:\tlearn: 1632.2867180\ttotal: 2.18s\tremaining: 1.33s\n",
            "62:\tlearn: 1630.1643259\ttotal: 2.21s\tremaining: 1.3s\n",
            "63:\tlearn: 1627.8826148\ttotal: 2.25s\tremaining: 1.26s\n",
            "64:\tlearn: 1626.3041780\ttotal: 2.28s\tremaining: 1.23s\n",
            "65:\tlearn: 1625.0068345\ttotal: 2.31s\tremaining: 1.19s\n",
            "66:\tlearn: 1623.2742661\ttotal: 2.35s\tremaining: 1.16s\n",
            "67:\tlearn: 1621.8290024\ttotal: 2.39s\tremaining: 1.12s\n",
            "68:\tlearn: 1619.2703921\ttotal: 2.42s\tremaining: 1.09s\n",
            "69:\tlearn: 1617.3373484\ttotal: 2.45s\tremaining: 1.05s\n",
            "70:\tlearn: 1615.5151250\ttotal: 2.48s\tremaining: 1.01s\n",
            "71:\tlearn: 1614.3232603\ttotal: 2.52s\tremaining: 980ms\n",
            "72:\tlearn: 1612.8752094\ttotal: 2.57s\tremaining: 950ms\n",
            "73:\tlearn: 1611.6660199\ttotal: 2.6s\tremaining: 914ms\n",
            "74:\tlearn: 1608.8978586\ttotal: 2.63s\tremaining: 878ms\n",
            "75:\tlearn: 1606.3444833\ttotal: 2.67s\tremaining: 843ms\n",
            "76:\tlearn: 1604.8653212\ttotal: 2.7s\tremaining: 808ms\n",
            "77:\tlearn: 1602.8767628\ttotal: 2.74s\tremaining: 772ms\n",
            "78:\tlearn: 1600.5643453\ttotal: 2.77s\tremaining: 736ms\n",
            "79:\tlearn: 1598.6363610\ttotal: 2.81s\tremaining: 702ms\n",
            "80:\tlearn: 1596.7609408\ttotal: 2.84s\tremaining: 666ms\n",
            "81:\tlearn: 1594.7026418\ttotal: 2.87s\tremaining: 630ms\n",
            "82:\tlearn: 1592.5326863\ttotal: 2.9s\tremaining: 595ms\n",
            "83:\tlearn: 1591.4539725\ttotal: 2.94s\tremaining: 560ms\n",
            "84:\tlearn: 1589.8464057\ttotal: 2.97s\tremaining: 524ms\n",
            "85:\tlearn: 1588.7536148\ttotal: 3.01s\tremaining: 489ms\n",
            "86:\tlearn: 1586.9933044\ttotal: 3.04s\tremaining: 454ms\n",
            "87:\tlearn: 1584.4710339\ttotal: 3.08s\tremaining: 420ms\n",
            "88:\tlearn: 1583.2202232\ttotal: 3.11s\tremaining: 384ms\n",
            "89:\tlearn: 1581.7801293\ttotal: 3.14s\tremaining: 349ms\n",
            "90:\tlearn: 1580.0339868\ttotal: 3.17s\tremaining: 314ms\n",
            "91:\tlearn: 1577.9578992\ttotal: 3.21s\tremaining: 279ms\n",
            "92:\tlearn: 1576.0590575\ttotal: 3.24s\tremaining: 244ms\n",
            "93:\tlearn: 1574.8970398\ttotal: 3.27s\tremaining: 209ms\n",
            "94:\tlearn: 1573.7665622\ttotal: 3.3s\tremaining: 174ms\n",
            "95:\tlearn: 1572.2751499\ttotal: 3.34s\tremaining: 139ms\n",
            "96:\tlearn: 1571.6514626\ttotal: 3.38s\tremaining: 105ms\n",
            "97:\tlearn: 1570.0336683\ttotal: 3.41s\tremaining: 69.7ms\n",
            "98:\tlearn: 1568.8934214\ttotal: 3.45s\tremaining: 34.8ms\n",
            "99:\tlearn: 1567.8567229\ttotal: 3.48s\tremaining: 0us\n",
            "CPU times: user 6.22 s, sys: 180 ms, total: 6.4 s\n",
            "Wall time: 3.62 s\n"
          ]
        },
        {
          "output_type": "execute_result",
          "data": {
            "text/plain": [
              "<catboost.core.CatBoostRegressor at 0x7d79c21f6b30>"
            ]
          },
          "metadata": {},
          "execution_count": 35
        }
      ],
      "source": [
        "%%time\n",
        "best_model_cb.fit(features_train, target_train)"
      ]
    },
    {
      "cell_type": "markdown",
      "metadata": {
        "id": "i-rZsJJa510-"
      },
      "source": [
        "Обучение CatBoost заняло 3,4 секунды, что не сильно больше."
      ]
    },
    {
      "cell_type": "code",
      "execution_count": 36,
      "metadata": {
        "colab": {
          "base_uri": "https://localhost:8080/",
          "height": 109
        },
        "id": "Gy1g7T1I510_",
        "outputId": "562d39f6-e6dc-4ee7-944e-2e6c743c0c4d"
      },
      "outputs": [
        {
          "output_type": "stream",
          "name": "stdout",
          "text": [
            "CPU times: user 17.2 s, sys: 28 ms, total: 17.2 s\n",
            "Wall time: 17.7 s\n"
          ]
        },
        {
          "output_type": "execute_result",
          "data": {
            "text/plain": [
              "RandomForestRegressor(max_depth=10, random_state=12345)"
            ],
            "text/html": [
              "<style>#sk-container-id-3 {color: black;background-color: white;}#sk-container-id-3 pre{padding: 0;}#sk-container-id-3 div.sk-toggleable {background-color: white;}#sk-container-id-3 label.sk-toggleable__label {cursor: pointer;display: block;width: 100%;margin-bottom: 0;padding: 0.3em;box-sizing: border-box;text-align: center;}#sk-container-id-3 label.sk-toggleable__label-arrow:before {content: \"▸\";float: left;margin-right: 0.25em;color: #696969;}#sk-container-id-3 label.sk-toggleable__label-arrow:hover:before {color: black;}#sk-container-id-3 div.sk-estimator:hover label.sk-toggleable__label-arrow:before {color: black;}#sk-container-id-3 div.sk-toggleable__content {max-height: 0;max-width: 0;overflow: hidden;text-align: left;background-color: #f0f8ff;}#sk-container-id-3 div.sk-toggleable__content pre {margin: 0.2em;color: black;border-radius: 0.25em;background-color: #f0f8ff;}#sk-container-id-3 input.sk-toggleable__control:checked~div.sk-toggleable__content {max-height: 200px;max-width: 100%;overflow: auto;}#sk-container-id-3 input.sk-toggleable__control:checked~label.sk-toggleable__label-arrow:before {content: \"▾\";}#sk-container-id-3 div.sk-estimator input.sk-toggleable__control:checked~label.sk-toggleable__label {background-color: #d4ebff;}#sk-container-id-3 div.sk-label input.sk-toggleable__control:checked~label.sk-toggleable__label {background-color: #d4ebff;}#sk-container-id-3 input.sk-hidden--visually {border: 0;clip: rect(1px 1px 1px 1px);clip: rect(1px, 1px, 1px, 1px);height: 1px;margin: -1px;overflow: hidden;padding: 0;position: absolute;width: 1px;}#sk-container-id-3 div.sk-estimator {font-family: monospace;background-color: #f0f8ff;border: 1px dotted black;border-radius: 0.25em;box-sizing: border-box;margin-bottom: 0.5em;}#sk-container-id-3 div.sk-estimator:hover {background-color: #d4ebff;}#sk-container-id-3 div.sk-parallel-item::after {content: \"\";width: 100%;border-bottom: 1px solid gray;flex-grow: 1;}#sk-container-id-3 div.sk-label:hover label.sk-toggleable__label {background-color: #d4ebff;}#sk-container-id-3 div.sk-serial::before {content: \"\";position: absolute;border-left: 1px solid gray;box-sizing: border-box;top: 0;bottom: 0;left: 50%;z-index: 0;}#sk-container-id-3 div.sk-serial {display: flex;flex-direction: column;align-items: center;background-color: white;padding-right: 0.2em;padding-left: 0.2em;position: relative;}#sk-container-id-3 div.sk-item {position: relative;z-index: 1;}#sk-container-id-3 div.sk-parallel {display: flex;align-items: stretch;justify-content: center;background-color: white;position: relative;}#sk-container-id-3 div.sk-item::before, #sk-container-id-3 div.sk-parallel-item::before {content: \"\";position: absolute;border-left: 1px solid gray;box-sizing: border-box;top: 0;bottom: 0;left: 50%;z-index: -1;}#sk-container-id-3 div.sk-parallel-item {display: flex;flex-direction: column;z-index: 1;position: relative;background-color: white;}#sk-container-id-3 div.sk-parallel-item:first-child::after {align-self: flex-end;width: 50%;}#sk-container-id-3 div.sk-parallel-item:last-child::after {align-self: flex-start;width: 50%;}#sk-container-id-3 div.sk-parallel-item:only-child::after {width: 0;}#sk-container-id-3 div.sk-dashed-wrapped {border: 1px dashed gray;margin: 0 0.4em 0.5em 0.4em;box-sizing: border-box;padding-bottom: 0.4em;background-color: white;}#sk-container-id-3 div.sk-label label {font-family: monospace;font-weight: bold;display: inline-block;line-height: 1.2em;}#sk-container-id-3 div.sk-label-container {text-align: center;}#sk-container-id-3 div.sk-container {/* jupyter's `normalize.less` sets `[hidden] { display: none; }` but bootstrap.min.css set `[hidden] { display: none !important; }` so we also need the `!important` here to be able to override the default hidden behavior on the sphinx rendered scikit-learn.org. See: https://github.com/scikit-learn/scikit-learn/issues/21755 */display: inline-block !important;position: relative;}#sk-container-id-3 div.sk-text-repr-fallback {display: none;}</style><div id=\"sk-container-id-3\" class=\"sk-top-container\"><div class=\"sk-text-repr-fallback\"><pre>RandomForestRegressor(max_depth=10, random_state=12345)</pre><b>In a Jupyter environment, please rerun this cell to show the HTML representation or trust the notebook. <br />On GitHub, the HTML representation is unable to render, please try loading this page with nbviewer.org.</b></div><div class=\"sk-container\" hidden><div class=\"sk-item\"><div class=\"sk-estimator sk-toggleable\"><input class=\"sk-toggleable__control sk-hidden--visually\" id=\"sk-estimator-id-3\" type=\"checkbox\" checked><label for=\"sk-estimator-id-3\" class=\"sk-toggleable__label sk-toggleable__label-arrow\">RandomForestRegressor</label><div class=\"sk-toggleable__content\"><pre>RandomForestRegressor(max_depth=10, random_state=12345)</pre></div></div></div></div></div>"
            ]
          },
          "metadata": {},
          "execution_count": 36
        }
      ],
      "source": [
        "%%time\n",
        "best_model_rf.fit(features_train, target_train)"
      ]
    },
    {
      "cell_type": "markdown",
      "metadata": {
        "id": "zSub5zcn510_"
      },
      "source": [
        "Случайный лес обучился за 11 секунд."
      ]
    },
    {
      "cell_type": "code",
      "execution_count": 37,
      "metadata": {
        "colab": {
          "base_uri": "https://localhost:8080/",
          "height": 109
        },
        "id": "fQUVtx_I510_",
        "outputId": "4d9ee50f-69bb-4e1b-d7d3-7b3d958a594e"
      },
      "outputs": [
        {
          "output_type": "stream",
          "name": "stdout",
          "text": [
            "CPU times: user 45.8 ms, sys: 3.95 ms, total: 49.7 ms\n",
            "Wall time: 54.2 ms\n"
          ]
        },
        {
          "output_type": "execute_result",
          "data": {
            "text/plain": [
              "LinearRegression()"
            ],
            "text/html": [
              "<style>#sk-container-id-4 {color: black;background-color: white;}#sk-container-id-4 pre{padding: 0;}#sk-container-id-4 div.sk-toggleable {background-color: white;}#sk-container-id-4 label.sk-toggleable__label {cursor: pointer;display: block;width: 100%;margin-bottom: 0;padding: 0.3em;box-sizing: border-box;text-align: center;}#sk-container-id-4 label.sk-toggleable__label-arrow:before {content: \"▸\";float: left;margin-right: 0.25em;color: #696969;}#sk-container-id-4 label.sk-toggleable__label-arrow:hover:before {color: black;}#sk-container-id-4 div.sk-estimator:hover label.sk-toggleable__label-arrow:before {color: black;}#sk-container-id-4 div.sk-toggleable__content {max-height: 0;max-width: 0;overflow: hidden;text-align: left;background-color: #f0f8ff;}#sk-container-id-4 div.sk-toggleable__content pre {margin: 0.2em;color: black;border-radius: 0.25em;background-color: #f0f8ff;}#sk-container-id-4 input.sk-toggleable__control:checked~div.sk-toggleable__content {max-height: 200px;max-width: 100%;overflow: auto;}#sk-container-id-4 input.sk-toggleable__control:checked~label.sk-toggleable__label-arrow:before {content: \"▾\";}#sk-container-id-4 div.sk-estimator input.sk-toggleable__control:checked~label.sk-toggleable__label {background-color: #d4ebff;}#sk-container-id-4 div.sk-label input.sk-toggleable__control:checked~label.sk-toggleable__label {background-color: #d4ebff;}#sk-container-id-4 input.sk-hidden--visually {border: 0;clip: rect(1px 1px 1px 1px);clip: rect(1px, 1px, 1px, 1px);height: 1px;margin: -1px;overflow: hidden;padding: 0;position: absolute;width: 1px;}#sk-container-id-4 div.sk-estimator {font-family: monospace;background-color: #f0f8ff;border: 1px dotted black;border-radius: 0.25em;box-sizing: border-box;margin-bottom: 0.5em;}#sk-container-id-4 div.sk-estimator:hover {background-color: #d4ebff;}#sk-container-id-4 div.sk-parallel-item::after {content: \"\";width: 100%;border-bottom: 1px solid gray;flex-grow: 1;}#sk-container-id-4 div.sk-label:hover label.sk-toggleable__label {background-color: #d4ebff;}#sk-container-id-4 div.sk-serial::before {content: \"\";position: absolute;border-left: 1px solid gray;box-sizing: border-box;top: 0;bottom: 0;left: 50%;z-index: 0;}#sk-container-id-4 div.sk-serial {display: flex;flex-direction: column;align-items: center;background-color: white;padding-right: 0.2em;padding-left: 0.2em;position: relative;}#sk-container-id-4 div.sk-item {position: relative;z-index: 1;}#sk-container-id-4 div.sk-parallel {display: flex;align-items: stretch;justify-content: center;background-color: white;position: relative;}#sk-container-id-4 div.sk-item::before, #sk-container-id-4 div.sk-parallel-item::before {content: \"\";position: absolute;border-left: 1px solid gray;box-sizing: border-box;top: 0;bottom: 0;left: 50%;z-index: -1;}#sk-container-id-4 div.sk-parallel-item {display: flex;flex-direction: column;z-index: 1;position: relative;background-color: white;}#sk-container-id-4 div.sk-parallel-item:first-child::after {align-self: flex-end;width: 50%;}#sk-container-id-4 div.sk-parallel-item:last-child::after {align-self: flex-start;width: 50%;}#sk-container-id-4 div.sk-parallel-item:only-child::after {width: 0;}#sk-container-id-4 div.sk-dashed-wrapped {border: 1px dashed gray;margin: 0 0.4em 0.5em 0.4em;box-sizing: border-box;padding-bottom: 0.4em;background-color: white;}#sk-container-id-4 div.sk-label label {font-family: monospace;font-weight: bold;display: inline-block;line-height: 1.2em;}#sk-container-id-4 div.sk-label-container {text-align: center;}#sk-container-id-4 div.sk-container {/* jupyter's `normalize.less` sets `[hidden] { display: none; }` but bootstrap.min.css set `[hidden] { display: none !important; }` so we also need the `!important` here to be able to override the default hidden behavior on the sphinx rendered scikit-learn.org. See: https://github.com/scikit-learn/scikit-learn/issues/21755 */display: inline-block !important;position: relative;}#sk-container-id-4 div.sk-text-repr-fallback {display: none;}</style><div id=\"sk-container-id-4\" class=\"sk-top-container\"><div class=\"sk-text-repr-fallback\"><pre>LinearRegression()</pre><b>In a Jupyter environment, please rerun this cell to show the HTML representation or trust the notebook. <br />On GitHub, the HTML representation is unable to render, please try loading this page with nbviewer.org.</b></div><div class=\"sk-container\" hidden><div class=\"sk-item\"><div class=\"sk-estimator sk-toggleable\"><input class=\"sk-toggleable__control sk-hidden--visually\" id=\"sk-estimator-id-4\" type=\"checkbox\" checked><label for=\"sk-estimator-id-4\" class=\"sk-toggleable__label sk-toggleable__label-arrow\">LinearRegression</label><div class=\"sk-toggleable__content\"><pre>LinearRegression()</pre></div></div></div></div></div>"
            ]
          },
          "metadata": {},
          "execution_count": 37
        }
      ],
      "source": [
        "%%time\n",
        "model_lr.fit(features_train, target_train)"
      ]
    },
    {
      "cell_type": "markdown",
      "metadata": {
        "id": "_cYJVMAU510_"
      },
      "source": [
        "Ну а линейная регрессия заняла всего 17 милисекунд.\n",
        "\n",
        "Таким образом, быстрее всего обучилась линейная регрессия. Из бустингов LightGBM, сразу за ней CatBoost, затем случайный лес. Дольше всех училась XGBoost."
      ]
    },
    {
      "cell_type": "markdown",
      "metadata": {
        "id": "mA_2mmBO510_"
      },
      "source": [
        "### Время предсказания\n",
        "\n",
        "Теперь будем замерять время предсказания моделей. Вновь начнём с XGBoost."
      ]
    },
    {
      "cell_type": "code",
      "execution_count": 38,
      "metadata": {
        "colab": {
          "base_uri": "https://localhost:8080/"
        },
        "id": "CbA5SRtd510_",
        "outputId": "0523f75b-094c-4cbc-a04c-1c50762ae566"
      },
      "outputs": [
        {
          "output_type": "stream",
          "name": "stdout",
          "text": [
            "CPU times: user 357 ms, sys: 24.5 ms, total: 382 ms\n",
            "Wall time: 239 ms\n"
          ]
        }
      ],
      "source": [
        "%%time\n",
        "pred_xg = best_model_xg.predict(features_valid)"
      ]
    },
    {
      "cell_type": "markdown",
      "metadata": {
        "id": "cKI5g_vc510_"
      },
      "source": [
        "XGBoost сделал предсказание за 0.2 секунды. Сравним с другими моделями."
      ]
    },
    {
      "cell_type": "code",
      "execution_count": 39,
      "metadata": {
        "colab": {
          "base_uri": "https://localhost:8080/"
        },
        "id": "3M-FbIx7510_",
        "outputId": "25b600a5-2393-40e1-cf58-476424e78f3a"
      },
      "outputs": [
        {
          "output_type": "stream",
          "name": "stdout",
          "text": [
            "[LightGBM] [Warning] Accuracy may be bad since you didn't explicitly set num_leaves OR 2^max_depth > num_leaves. (num_leaves=31).\n",
            "CPU times: user 321 ms, sys: 861 µs, total: 322 ms\n",
            "Wall time: 312 ms\n"
          ]
        }
      ],
      "source": [
        "%%time\n",
        "pred_lgbm = best_model_lgbm.predict(features_valid)"
      ]
    },
    {
      "cell_type": "markdown",
      "metadata": {
        "id": "bYmW4AMi511A"
      },
      "source": [
        "LightGBM предсказывает за 0.3 секунды."
      ]
    },
    {
      "cell_type": "code",
      "execution_count": 40,
      "metadata": {
        "colab": {
          "base_uri": "https://localhost:8080/"
        },
        "id": "h0GQM3Oy511A",
        "outputId": "98b845bb-d404-4ced-e52b-e8320f828ee3"
      },
      "outputs": [
        {
          "output_type": "stream",
          "name": "stdout",
          "text": [
            "CPU times: user 39.1 ms, sys: 4 µs, total: 39.1 ms\n",
            "Wall time: 24.9 ms\n"
          ]
        }
      ],
      "source": [
        "%%time\n",
        "pred_cb = best_model_cb.predict(features_valid)"
      ]
    },
    {
      "cell_type": "markdown",
      "metadata": {
        "id": "-SZfCEl4511A"
      },
      "source": [
        "А CatBoost показывает какой-то совершенно нереальный результат по скорости предсказания, предсказывая всего за 0,02 секунды."
      ]
    },
    {
      "cell_type": "code",
      "execution_count": 41,
      "metadata": {
        "colab": {
          "base_uri": "https://localhost:8080/"
        },
        "id": "tYYnX9m9511A",
        "outputId": "f5e24d1f-01fe-438a-e86f-34be07546c8c"
      },
      "outputs": [
        {
          "output_type": "stream",
          "name": "stdout",
          "text": [
            "CPU times: user 458 ms, sys: 0 ns, total: 458 ms\n",
            "Wall time: 460 ms\n"
          ]
        }
      ],
      "source": [
        "%%time\n",
        "pred_rf = best_model_rf.predict(features_valid)"
      ]
    },
    {
      "cell_type": "markdown",
      "metadata": {
        "id": "kONwbL8D511A"
      },
      "source": [
        "Случайный лес даёт результат чуть хуже, чем у LightGBM, предсказывая за 0,38 секунды."
      ]
    },
    {
      "cell_type": "code",
      "execution_count": 42,
      "metadata": {
        "colab": {
          "base_uri": "https://localhost:8080/"
        },
        "id": "Kc1xRUcA511A",
        "outputId": "2d42a83a-538e-4379-fe6f-0fd000935db0"
      },
      "outputs": [
        {
          "output_type": "stream",
          "name": "stdout",
          "text": [
            "CPU times: user 6.86 ms, sys: 996 µs, total: 7.86 ms\n",
            "Wall time: 7.88 ms\n"
          ]
        }
      ],
      "source": [
        "%%time\n",
        "pred_lr = model_lr.predict(features_valid)"
      ]
    },
    {
      "cell_type": "markdown",
      "metadata": {
        "id": "NhRVIKH_511B"
      },
      "source": [
        "Линейная регрессия же предсказывает быстрее всего, за 0,003 секунды\n",
        "\n",
        "Таким образом, самое быстрое предсказание даёт Линейная регрессия с большим отрывом, на втором месте, также с отрывом находится CatBoost, далее XGBoost и LightGBM. Случайный лес показывает худший результат скорости."
      ]
    },
    {
      "cell_type": "markdown",
      "metadata": {
        "id": "XzN1yciI511B"
      },
      "source": [
        "### Оценка качества\n",
        "\n",
        "По поставленной задаче, необходимо сравнить качество моделей метрикой RMSE, при этом метрика должна показывать не более 2500. Я уже считала её в пункте 2, выведу на экран от большей до меньшей."
      ]
    },
    {
      "cell_type": "code",
      "execution_count": 43,
      "metadata": {
        "colab": {
          "base_uri": "https://localhost:8080/",
          "height": 583
        },
        "id": "Kg6o7gHu511B",
        "outputId": "b7e2dded-2a58-4066-cf8d-e67ee5769a01"
      },
      "outputs": [
        {
          "output_type": "display_data",
          "data": {
            "text/plain": [
              "<Figure size 640x480 with 1 Axes>"
            ],
            "image/png": "[encoded data removed]"
          },
          "metadata": {}
        }
      ],
      "source": [
        "rmse = [best_rmse_xg, best_rmse_lgbm, best_rmse_cb, best_rmse_rf, rmse_lr]\n",
        "ids = ['XGBoost', 'LightGBM', 'CatBoost', 'RandomForest', 'LinearRegression']\n",
        "top_rmse = pd.DataFrame(data=rmse, index=ids, columns=['rmse'])\n",
        "top_rmse.sort_values(by='rmse').plot.bar(title='Визуализация RMSE моделей', xlabel='Модели', ylabel='RMSE');"
      ]
    },
    {
      "cell_type": "markdown",
      "metadata": {
        "id": "ur5KRcfw511B"
      },
      "source": [
        "По графику выше наглядно видно, что самым высоким, показателем RMSE обладает линейная регрессия. Ансамбли же все показали достойный результат. Самый лучший показатель у XGBoost, на втором месте с небольшой разницей CatBoost, далее LightGBM и случайный лес."
      ]
    },
    {
      "cell_type": "markdown",
      "metadata": {
        "id": "tSPi4qJz511B"
      },
      "source": [
        "### Промежуточный вывод\n",
        "\n",
        "По скорости обучения, среди бустингов самой быстрой оказалась LightGBM, сразу за ней CatBoost, последняя — XGBoost. По скорости предсказания, с огромным отрывом впереди находится CatBoost, на втором месте, в почти десять раз медленнее предсказывает XGBoost, за ней LightGBM. По качеству предсказания, лучший результат  XGBoost, на втором месте CatBoost, на третьем — LightGBM.\n",
        "\n",
        "Принимая во внимание, что модель подбирается для работы на онлайн-сервисе для продажи автомобилей, можно сказать, что скорость предсказания является более важным критерием, чем скорость обучения, поскольку пользователь должен получать ответ на свой запрос максимально быстро. Таким образом, CatBoost должен подойти под задачу заказчика: у него хорошее качество обучения, приемлемая скорость обучения и необычайно высокая скорость предсказания."
      ]
    },
    {
      "cell_type": "markdown",
      "metadata": {
        "id": "0eK3NwVA511B"
      },
      "source": [
        "## Проверка модели"
      ]
    },
    {
      "cell_type": "markdown",
      "metadata": {
        "id": "e55guOvn511C"
      },
      "source": [
        "Я выбрала модель CatBoost за высокую скорость предсказания. Проверю её качество на тестовой выборке."
      ]
    },
    {
      "cell_type": "code",
      "execution_count": 44,
      "metadata": {
        "colab": {
          "base_uri": "https://localhost:8080/"
        },
        "id": "PGgwiSuA511C",
        "outputId": "15e51717-2b10-40e7-ce2b-df6a63c11d57"
      },
      "outputs": [
        {
          "output_type": "stream",
          "name": "stdout",
          "text": [
            "На тестовой выборке CatBoost показывает RMSE 1715.8076422500671\n",
            "CPU times: user 53.7 ms, sys: 13.9 ms, total: 67.6 ms\n",
            "Wall time: 47.1 ms\n"
          ]
        }
      ],
      "source": [
        "%%time\n",
        "pred_test = best_model_cb.predict(features_test)\n",
        "rmse_test = np.sqrt(mse(target_test, pred_test))\n",
        "print('На тестовой выборке CatBoost показывает RMSE', rmse_test)"
      ]
    },
    {
      "cell_type": "markdown",
      "metadata": {
        "id": "ZAYkoSpr511C"
      },
      "source": [
        "CatBoost дал нам и приемлемое качество и высокую скорость предсказания. Но что если её результат не сильно отличается от константной модели? Обучу модель, которая будет предсказывать среднее значение, и посчитаю её RMSE."
      ]
    },
    {
      "cell_type": "code",
      "execution_count": 45,
      "metadata": {
        "colab": {
          "base_uri": "https://localhost:8080/"
        },
        "id": "Wmdh-gY5511C",
        "outputId": "72522458-7f6a-4942-affb-bc9d6679b163"
      },
      "outputs": [
        {
          "output_type": "stream",
          "name": "stdout",
          "text": [
            "Константная модель показывает RMSE 4697.968943132681 Это больше RMSE CatBoost на 2982.1613008826134\n",
            "CPU times: user 3.74 ms, sys: 987 µs, total: 4.72 ms\n",
            "Wall time: 4.8 ms\n"
          ]
        }
      ],
      "source": [
        "%%time\n",
        "model_dr = DummyRegressor(strategy='mean')\n",
        "model_dr.fit(features_test, target_test)\n",
        "pred_dr = model_dr.predict(features_test)\n",
        "rmse_dr = np.sqrt(mse(target_test, pred_dr))\n",
        "print('Константная модель показывает RMSE', rmse_dr, 'Это больше RMSE CatBoost на', rmse_dr - rmse_test)"
      ]
    },
    {
      "cell_type": "markdown",
      "metadata": {
        "id": "ijYEULLd511C"
      },
      "source": [
        "Как видно, разница между CatBoost и константой почти 3 тысячи. Это показывает, что градиентный бустинг в нашем случае обучился очень эффективно, без переобучения."
      ]
    },
    {
      "cell_type": "markdown",
      "metadata": {
        "id": "FcWgaH2S511D"
      },
      "source": [
        "## Вывод"
      ]
    },
    {
      "cell_type": "markdown",
      "metadata": {
        "id": "plwDq9JP511D"
      },
      "source": [
        "Задачей данного проекта было построить модель, умеющую определять стоимость автомобиля в евро по её характеристикам.\n",
        "\n",
        "Для этого мною были произведены следующие работы:\n",
        "- Обработаны дубликаты, пропущенные значения и аномалии;\n",
        "- Определено влияние признаков на целевой признак и удалены незначительные признаки;\n",
        "- Выделены обучающая, валидационная и тестовая выборки;\n",
        "- Обработаны категориальные признаки;\n",
        "- Обучены пять моделей: три градиентного бустинга, случайный лес и линейная регрессия, с перебором гиперпараметров;\n",
        "- Проанализированы все модели по характеристикам, важным для заказчика: скорости обучения и предсказания, качеству по метрике RMSE;\n",
        "- Выбрана и протестирована лучшая модель.\n",
        "\n",
        "В результате, мною была выбрана модель градиентного бустинга из библиотеки CatBoost от Яндекса, поскольку она показывает хорошие скорость обучения и качество предсказания при высочайшей скорости предсказания."
      ]
    }
  ],
  "metadata": {
    "ExecuteTimeLog": [
      {
        "duration": 394,
        "start_time": "2024-01-01T10:10:11.080Z"
      },
      {
        "duration": 408,
        "start_time": "2024-01-01T10:10:55.276Z"
      },
      {
        "duration": 3,
        "start_time": "2024-01-01T10:21:52.763Z"
      },
      {
        "duration": 3,
        "start_time": "2024-01-01T10:21:58.191Z"
      },
      {
        "duration": 1221,
        "start_time": "2024-01-01T10:23:14.290Z"
      },
      {
        "duration": 913,
        "start_time": "2024-01-01T10:23:35.439Z"
      },
      {
        "duration": 884,
        "start_time": "2024-01-01T10:24:02.124Z"
      },
      {
        "duration": 951,
        "start_time": "2024-01-01T10:34:46.509Z"
      },
      {
        "duration": 970,
        "start_time": "2024-01-01T10:35:00.890Z"
      },
      {
        "duration": 607,
        "start_time": "2024-01-01T10:42:09.125Z"
      },
      {
        "duration": 3,
        "start_time": "2024-01-01T10:42:09.733Z"
      },
      {
        "duration": 961,
        "start_time": "2024-01-01T10:42:09.738Z"
      },
      {
        "duration": 33,
        "start_time": "2024-01-01T10:42:10.700Z"
      },
      {
        "duration": 4,
        "start_time": "2024-01-01T10:42:46.764Z"
      },
      {
        "duration": 7,
        "start_time": "2024-01-01T10:43:03.762Z"
      },
      {
        "duration": 4,
        "start_time": "2024-01-01T10:43:15.632Z"
      },
      {
        "duration": 8,
        "start_time": "2024-01-01T10:43:31.162Z"
      },
      {
        "duration": 3,
        "start_time": "2024-01-01T10:44:12.172Z"
      },
      {
        "duration": 2,
        "start_time": "2024-01-01T10:44:17.722Z"
      },
      {
        "duration": 4,
        "start_time": "2024-01-01T10:44:21.992Z"
      },
      {
        "duration": 2,
        "start_time": "2024-01-01T10:44:27.552Z"
      },
      {
        "duration": 4,
        "start_time": "2024-01-01T10:44:39.072Z"
      },
      {
        "duration": 5,
        "start_time": "2024-01-01T10:44:47.443Z"
      },
      {
        "duration": 4,
        "start_time": "2024-01-01T10:44:50.683Z"
      },
      {
        "duration": 658,
        "start_time": "2024-01-01T11:10:13.819Z"
      },
      {
        "duration": 3,
        "start_time": "2024-01-01T11:10:14.479Z"
      },
      {
        "duration": 1188,
        "start_time": "2024-01-01T11:10:14.483Z"
      },
      {
        "duration": 1096,
        "start_time": "2024-01-01T11:10:15.673Z"
      },
      {
        "duration": 980,
        "start_time": "2024-01-01T11:14:00.256Z"
      },
      {
        "duration": 47,
        "start_time": "2024-01-01T12:02:09.982Z"
      },
      {
        "duration": 615,
        "start_time": "2024-01-01T12:02:16.772Z"
      },
      {
        "duration": 3,
        "start_time": "2024-01-01T12:02:17.388Z"
      },
      {
        "duration": 1186,
        "start_time": "2024-01-01T12:02:17.392Z"
      },
      {
        "duration": 5407,
        "start_time": "2024-01-01T12:02:18.580Z"
      },
      {
        "duration": 2848,
        "start_time": "2024-01-01T12:03:41.375Z"
      },
      {
        "duration": 1002,
        "start_time": "2024-01-01T12:03:56.596Z"
      },
      {
        "duration": 3677,
        "start_time": "2024-01-01T12:06:10.389Z"
      },
      {
        "duration": 3616,
        "start_time": "2024-01-01T12:06:53.912Z"
      },
      {
        "duration": 3785,
        "start_time": "2024-01-01T12:07:55.244Z"
      },
      {
        "duration": 3758,
        "start_time": "2024-01-01T12:08:18.241Z"
      },
      {
        "duration": 5076,
        "start_time": "2024-01-01T12:08:40.427Z"
      },
      {
        "duration": 3655,
        "start_time": "2024-01-01T12:09:02.884Z"
      },
      {
        "duration": 539,
        "start_time": "2024-01-01T13:07:19.449Z"
      },
      {
        "duration": 618,
        "start_time": "2024-01-01T13:33:37.102Z"
      },
      {
        "duration": 3,
        "start_time": "2024-01-01T13:33:37.722Z"
      },
      {
        "duration": 1161,
        "start_time": "2024-01-01T13:33:37.727Z"
      },
      {
        "duration": 651,
        "start_time": "2024-01-01T13:36:25.316Z"
      },
      {
        "duration": 2,
        "start_time": "2024-01-01T13:36:25.969Z"
      },
      {
        "duration": 1201,
        "start_time": "2024-01-01T13:36:25.973Z"
      },
      {
        "duration": 645,
        "start_time": "2024-01-01T13:37:00.686Z"
      },
      {
        "duration": 2,
        "start_time": "2024-01-01T13:37:01.333Z"
      },
      {
        "duration": 1068,
        "start_time": "2024-01-01T13:37:01.337Z"
      },
      {
        "duration": 571,
        "start_time": "2024-01-01T13:40:13.220Z"
      },
      {
        "duration": 3,
        "start_time": "2024-01-01T13:40:13.792Z"
      },
      {
        "duration": 1167,
        "start_time": "2024-01-01T13:40:13.796Z"
      },
      {
        "duration": 680,
        "start_time": "2024-01-01T13:48:39.026Z"
      },
      {
        "duration": 4,
        "start_time": "2024-01-01T13:48:39.709Z"
      },
      {
        "duration": 1248,
        "start_time": "2024-01-01T13:48:39.714Z"
      },
      {
        "duration": 263,
        "start_time": "2024-01-01T13:49:56.830Z"
      },
      {
        "duration": 230,
        "start_time": "2024-01-01T13:50:11.449Z"
      },
      {
        "duration": 287,
        "start_time": "2024-01-01T13:50:24.349Z"
      },
      {
        "duration": 230,
        "start_time": "2024-01-01T13:50:33.020Z"
      },
      {
        "duration": 319,
        "start_time": "2024-01-01T13:56:32.600Z"
      },
      {
        "duration": 1957,
        "start_time": "2024-01-01T13:56:51.786Z"
      },
      {
        "duration": 2053,
        "start_time": "2024-01-01T13:57:26.792Z"
      },
      {
        "duration": 1994,
        "start_time": "2024-01-01T13:57:40.588Z"
      },
      {
        "duration": 138,
        "start_time": "2024-01-01T14:21:02.253Z"
      },
      {
        "duration": 68,
        "start_time": "2024-01-01T15:05:51.607Z"
      },
      {
        "duration": 20,
        "start_time": "2024-01-01T15:06:14.230Z"
      },
      {
        "duration": 64,
        "start_time": "2024-01-01T15:08:36.645Z"
      },
      {
        "duration": 65,
        "start_time": "2024-01-01T15:08:50.174Z"
      },
      {
        "duration": 14,
        "start_time": "2024-01-01T15:09:38.744Z"
      },
      {
        "duration": 86,
        "start_time": "2024-01-01T15:10:04.097Z"
      },
      {
        "duration": 29,
        "start_time": "2024-01-01T15:10:21.699Z"
      },
      {
        "duration": 26,
        "start_time": "2024-01-01T15:10:39.335Z"
      },
      {
        "duration": 55,
        "start_time": "2024-01-01T15:13:43.670Z"
      },
      {
        "duration": 245,
        "start_time": "2024-01-01T15:14:27.853Z"
      },
      {
        "duration": 54,
        "start_time": "2024-01-01T15:14:40.261Z"
      },
      {
        "duration": 125,
        "start_time": "2024-01-01T15:15:12.834Z"
      },
      {
        "duration": 174,
        "start_time": "2024-01-01T15:15:22.887Z"
      },
      {
        "duration": 6,
        "start_time": "2024-01-01T15:16:14.251Z"
      },
      {
        "duration": 24,
        "start_time": "2024-01-01T15:20:45.257Z"
      },
      {
        "duration": 388,
        "start_time": "2024-01-01T15:21:09.326Z"
      },
      {
        "duration": 767,
        "start_time": "2024-01-01T15:21:42.777Z"
      },
      {
        "duration": 170,
        "start_time": "2024-01-01T15:22:15.639Z"
      },
      {
        "duration": 474,
        "start_time": "2024-01-01T15:22:29.450Z"
      },
      {
        "duration": 460,
        "start_time": "2024-01-01T15:23:49.801Z"
      },
      {
        "duration": 434,
        "start_time": "2024-01-01T15:24:04.031Z"
      },
      {
        "duration": 327,
        "start_time": "2024-01-01T15:24:22.996Z"
      },
      {
        "duration": 439,
        "start_time": "2024-01-01T15:24:35.152Z"
      },
      {
        "duration": 451,
        "start_time": "2024-01-01T15:27:08.317Z"
      },
      {
        "duration": 465,
        "start_time": "2024-01-01T15:28:22.938Z"
      },
      {
        "duration": 471,
        "start_time": "2024-01-01T15:28:28.894Z"
      },
      {
        "duration": 38,
        "start_time": "2024-01-01T15:29:51.890Z"
      },
      {
        "duration": 8,
        "start_time": "2024-01-01T15:31:15.253Z"
      },
      {
        "duration": 7,
        "start_time": "2024-01-01T15:31:24.800Z"
      },
      {
        "duration": 45,
        "start_time": "2024-01-01T15:31:36.334Z"
      },
      {
        "duration": 9,
        "start_time": "2024-01-01T15:32:39.650Z"
      },
      {
        "duration": 359,
        "start_time": "2024-01-01T15:33:38.220Z"
      },
      {
        "duration": 284,
        "start_time": "2024-01-01T15:36:39.623Z"
      },
      {
        "duration": 21444,
        "start_time": "2024-01-01T15:37:22.347Z"
      },
      {
        "duration": 1384,
        "start_time": "2024-01-01T15:39:22.490Z"
      },
      {
        "duration": 1369,
        "start_time": "2024-01-01T15:39:37.993Z"
      },
      {
        "duration": 264,
        "start_time": "2024-01-01T15:39:50.761Z"
      },
      {
        "duration": 266,
        "start_time": "2024-01-01T15:40:09.149Z"
      },
      {
        "duration": 1449,
        "start_time": "2024-01-01T15:40:15.402Z"
      },
      {
        "duration": 21332,
        "start_time": "2024-01-01T15:40:29.040Z"
      },
      {
        "duration": 1412,
        "start_time": "2024-01-01T15:41:56.724Z"
      },
      {
        "duration": 577,
        "start_time": "2024-01-01T15:42:06.251Z"
      },
      {
        "duration": 601,
        "start_time": "2024-01-01T15:42:33.371Z"
      },
      {
        "duration": 3,
        "start_time": "2024-01-01T15:42:33.973Z"
      },
      {
        "duration": 940,
        "start_time": "2024-01-01T15:42:33.977Z"
      },
      {
        "duration": 130,
        "start_time": "2024-01-01T15:42:34.919Z"
      },
      {
        "duration": 671,
        "start_time": "2024-01-01T15:42:35.051Z"
      },
      {
        "duration": 298,
        "start_time": "2024-01-01T15:43:00.145Z"
      },
      {
        "duration": 324,
        "start_time": "2024-01-01T15:43:13.394Z"
      },
      {
        "duration": 22,
        "start_time": "2024-01-01T15:43:45.244Z"
      },
      {
        "duration": 306,
        "start_time": "2024-01-01T15:43:57.866Z"
      },
      {
        "duration": 314,
        "start_time": "2024-01-01T15:44:39.469Z"
      },
      {
        "duration": 22,
        "start_time": "2024-01-01T15:44:56.562Z"
      },
      {
        "duration": 24,
        "start_time": "2024-01-01T15:45:17.035Z"
      },
      {
        "duration": 21,
        "start_time": "2024-01-01T15:45:27.300Z"
      },
      {
        "duration": 301,
        "start_time": "2024-01-01T15:45:34.724Z"
      },
      {
        "duration": 21,
        "start_time": "2024-01-01T15:48:59.491Z"
      },
      {
        "duration": 32,
        "start_time": "2024-01-01T15:50:28.597Z"
      },
      {
        "duration": 36,
        "start_time": "2024-01-01T15:50:44.499Z"
      },
      {
        "duration": 31,
        "start_time": "2024-01-01T15:50:48.259Z"
      },
      {
        "duration": 56,
        "start_time": "2024-01-01T15:51:59.790Z"
      },
      {
        "duration": 35,
        "start_time": "2024-01-01T15:52:19.191Z"
      },
      {
        "duration": 36,
        "start_time": "2024-01-01T15:56:06.175Z"
      },
      {
        "duration": 20,
        "start_time": "2024-01-01T15:59:21.799Z"
      },
      {
        "duration": 42,
        "start_time": "2024-01-01T15:59:51.869Z"
      },
      {
        "duration": 43,
        "start_time": "2024-01-01T16:00:19.652Z"
      },
      {
        "duration": 213,
        "start_time": "2024-01-01T16:01:20.331Z"
      },
      {
        "duration": 712,
        "start_time": "2024-01-01T16:44:58.300Z"
      },
      {
        "duration": 1022,
        "start_time": "2024-01-01T16:45:17.456Z"
      },
      {
        "duration": 1269,
        "start_time": "2024-01-01T16:45:41.568Z"
      },
      {
        "duration": 194,
        "start_time": "2024-01-01T16:48:52.830Z"
      },
      {
        "duration": 39,
        "start_time": "2024-01-03T11:38:13.324Z"
      },
      {
        "duration": 1301,
        "start_time": "2024-01-03T11:38:20.951Z"
      },
      {
        "duration": 3,
        "start_time": "2024-01-03T11:38:22.254Z"
      },
      {
        "duration": 3176,
        "start_time": "2024-01-03T11:38:22.258Z"
      },
      {
        "duration": 294,
        "start_time": "2024-01-03T11:38:25.435Z"
      },
      {
        "duration": 218,
        "start_time": "2024-01-03T11:47:33.673Z"
      },
      {
        "duration": 384,
        "start_time": "2024-01-03T11:49:14.288Z"
      },
      {
        "duration": 1236,
        "start_time": "2024-01-03T11:50:27.591Z"
      },
      {
        "duration": 2,
        "start_time": "2024-01-03T11:50:28.829Z"
      },
      {
        "duration": 1244,
        "start_time": "2024-01-03T11:50:28.832Z"
      },
      {
        "duration": 414,
        "start_time": "2024-01-03T11:50:34.680Z"
      },
      {
        "duration": 133,
        "start_time": "2024-01-03T12:06:46.534Z"
      },
      {
        "duration": 302,
        "start_time": "2024-01-03T12:16:40.937Z"
      },
      {
        "duration": 364,
        "start_time": "2024-01-03T12:16:49.512Z"
      },
      {
        "duration": 1983,
        "start_time": "2024-01-03T12:26:21.951Z"
      },
      {
        "duration": 315,
        "start_time": "2024-01-03T12:27:05.618Z"
      },
      {
        "duration": 435,
        "start_time": "2024-01-03T12:27:37.220Z"
      },
      {
        "duration": 308,
        "start_time": "2024-01-03T12:28:16.590Z"
      },
      {
        "duration": 198,
        "start_time": "2024-01-03T12:30:45.999Z"
      },
      {
        "duration": 56,
        "start_time": "2024-01-03T12:34:26.472Z"
      },
      {
        "duration": 165,
        "start_time": "2024-01-03T12:34:41.930Z"
      },
      {
        "duration": 180,
        "start_time": "2024-01-03T12:35:04.188Z"
      },
      {
        "duration": 556,
        "start_time": "2024-01-03T12:35:19.281Z"
      },
      {
        "duration": 660,
        "start_time": "2024-01-03T12:36:19.616Z"
      },
      {
        "duration": 409,
        "start_time": "2024-01-03T12:38:08.140Z"
      },
      {
        "duration": 134,
        "start_time": "2024-01-03T12:44:10.587Z"
      },
      {
        "duration": 46,
        "start_time": "2024-01-03T12:44:23.221Z"
      },
      {
        "duration": 160,
        "start_time": "2024-01-03T12:44:35.085Z"
      },
      {
        "duration": 46,
        "start_time": "2024-01-03T12:45:06.980Z"
      },
      {
        "duration": 167,
        "start_time": "2024-01-03T12:45:20.639Z"
      },
      {
        "duration": 47,
        "start_time": "2024-01-03T12:45:26.178Z"
      },
      {
        "duration": 160,
        "start_time": "2024-01-03T12:52:30.085Z"
      },
      {
        "duration": 160,
        "start_time": "2024-01-03T12:55:14.402Z"
      },
      {
        "duration": 1222,
        "start_time": "2024-01-03T12:56:10.476Z"
      },
      {
        "duration": 3,
        "start_time": "2024-01-03T12:56:11.700Z"
      },
      {
        "duration": 1240,
        "start_time": "2024-01-03T12:56:11.704Z"
      },
      {
        "duration": 400,
        "start_time": "2024-01-03T12:56:12.947Z"
      },
      {
        "duration": 863,
        "start_time": "2024-01-03T12:56:13.349Z"
      },
      {
        "duration": 128,
        "start_time": "2024-01-03T12:56:14.214Z"
      },
      {
        "duration": 302,
        "start_time": "2024-01-03T12:56:14.343Z"
      },
      {
        "duration": 423,
        "start_time": "2024-01-03T12:56:14.647Z"
      },
      {
        "duration": 262,
        "start_time": "2024-01-03T12:56:15.072Z"
      },
      {
        "duration": 46,
        "start_time": "2024-01-03T12:58:29.937Z"
      },
      {
        "duration": 1206,
        "start_time": "2024-01-03T12:58:43.710Z"
      },
      {
        "duration": 3,
        "start_time": "2024-01-03T12:58:44.917Z"
      },
      {
        "duration": 1235,
        "start_time": "2024-01-03T12:58:44.921Z"
      },
      {
        "duration": 418,
        "start_time": "2024-01-03T12:58:46.157Z"
      },
      {
        "duration": 866,
        "start_time": "2024-01-03T12:58:46.576Z"
      },
      {
        "duration": 147,
        "start_time": "2024-01-03T12:58:47.444Z"
      },
      {
        "duration": 300,
        "start_time": "2024-01-03T12:58:47.592Z"
      },
      {
        "duration": 421,
        "start_time": "2024-01-03T12:58:47.893Z"
      },
      {
        "duration": 145,
        "start_time": "2024-01-03T12:58:48.315Z"
      },
      {
        "duration": 3,
        "start_time": "2024-01-03T12:59:04.095Z"
      },
      {
        "duration": 13,
        "start_time": "2024-01-03T12:59:04.099Z"
      },
      {
        "duration": 1171,
        "start_time": "2024-01-03T12:59:04.114Z"
      },
      {
        "duration": 366,
        "start_time": "2024-01-03T12:59:05.287Z"
      },
      {
        "duration": 808,
        "start_time": "2024-01-03T12:59:05.654Z"
      },
      {
        "duration": 134,
        "start_time": "2024-01-03T12:59:06.463Z"
      },
      {
        "duration": 288,
        "start_time": "2024-01-03T12:59:06.598Z"
      },
      {
        "duration": 420,
        "start_time": "2024-01-03T12:59:06.892Z"
      },
      {
        "duration": 16,
        "start_time": "2024-01-03T12:59:07.313Z"
      },
      {
        "duration": 135,
        "start_time": "2024-01-03T13:00:02.253Z"
      },
      {
        "duration": 192,
        "start_time": "2024-01-03T13:00:09.901Z"
      },
      {
        "duration": 148,
        "start_time": "2024-01-03T13:00:18.269Z"
      },
      {
        "duration": 133,
        "start_time": "2024-01-03T13:00:30.615Z"
      },
      {
        "duration": 755,
        "start_time": "2024-01-03T13:51:16.967Z"
      },
      {
        "duration": 250,
        "start_time": "2024-01-03T13:54:41.033Z"
      },
      {
        "duration": 162,
        "start_time": "2024-01-03T13:55:04.865Z"
      },
      {
        "duration": 921,
        "start_time": "2024-01-03T13:55:20.595Z"
      },
      {
        "duration": 990,
        "start_time": "2024-01-03T13:55:35.412Z"
      },
      {
        "duration": 929,
        "start_time": "2024-01-03T13:56:05.580Z"
      },
      {
        "duration": 983,
        "start_time": "2024-01-03T13:58:40.798Z"
      },
      {
        "duration": 1027,
        "start_time": "2024-01-03T13:58:50.211Z"
      },
      {
        "duration": 223,
        "start_time": "2024-01-03T14:00:23.511Z"
      },
      {
        "duration": 226,
        "start_time": "2024-01-03T14:08:23.899Z"
      },
      {
        "duration": 226,
        "start_time": "2024-01-03T14:08:45.503Z"
      },
      {
        "duration": 1045,
        "start_time": "2024-01-03T14:09:05.815Z"
      },
      {
        "duration": 1448,
        "start_time": "2024-01-06T07:51:15.585Z"
      },
      {
        "duration": 4,
        "start_time": "2024-01-06T07:51:17.035Z"
      },
      {
        "duration": 1493,
        "start_time": "2024-01-06T07:51:17.040Z"
      },
      {
        "duration": 417,
        "start_time": "2024-01-06T07:51:18.535Z"
      },
      {
        "duration": 924,
        "start_time": "2024-01-06T07:51:18.954Z"
      },
      {
        "duration": 143,
        "start_time": "2024-01-06T07:51:19.880Z"
      },
      {
        "duration": 319,
        "start_time": "2024-01-06T07:51:20.025Z"
      },
      {
        "duration": 1114,
        "start_time": "2024-01-06T07:51:20.345Z"
      },
      {
        "duration": 84,
        "start_time": "2024-01-06T07:51:21.461Z"
      },
      {
        "duration": 628,
        "start_time": "2024-01-06T07:53:35.817Z"
      },
      {
        "duration": 540,
        "start_time": "2024-01-06T07:56:37.237Z"
      },
      {
        "duration": 572,
        "start_time": "2024-01-06T07:56:50.969Z"
      },
      {
        "duration": 708,
        "start_time": "2024-01-06T07:56:59.376Z"
      },
      {
        "duration": 619,
        "start_time": "2024-01-06T07:58:16.319Z"
      },
      {
        "duration": 600,
        "start_time": "2024-01-06T07:58:30.757Z"
      },
      {
        "duration": 10,
        "start_time": "2024-01-06T08:04:55.028Z"
      },
      {
        "duration": 414,
        "start_time": "2024-01-06T08:05:03.252Z"
      },
      {
        "duration": 56,
        "start_time": "2024-01-06T08:07:40.912Z"
      },
      {
        "duration": 19,
        "start_time": "2024-01-06T08:07:49.209Z"
      },
      {
        "duration": 58,
        "start_time": "2024-01-06T08:07:54.701Z"
      },
      {
        "duration": 6,
        "start_time": "2024-01-06T08:11:17.794Z"
      },
      {
        "duration": 5,
        "start_time": "2024-01-06T08:11:25.152Z"
      },
      {
        "duration": 5,
        "start_time": "2024-01-06T08:12:56.664Z"
      },
      {
        "duration": 27,
        "start_time": "2024-01-06T08:14:31.968Z"
      },
      {
        "duration": 1314,
        "start_time": "2024-01-06T08:40:06.341Z"
      },
      {
        "duration": 3,
        "start_time": "2024-01-06T08:40:07.656Z"
      },
      {
        "duration": 1343,
        "start_time": "2024-01-06T08:40:07.661Z"
      },
      {
        "duration": 458,
        "start_time": "2024-01-06T08:40:09.007Z"
      },
      {
        "duration": 953,
        "start_time": "2024-01-06T08:40:09.467Z"
      },
      {
        "duration": 131,
        "start_time": "2024-01-06T08:40:10.422Z"
      },
      {
        "duration": 300,
        "start_time": "2024-01-06T08:40:10.555Z"
      },
      {
        "duration": 1165,
        "start_time": "2024-01-06T08:40:10.856Z"
      },
      {
        "duration": 729,
        "start_time": "2024-01-06T08:40:12.023Z"
      },
      {
        "duration": 59,
        "start_time": "2024-01-06T08:40:12.754Z"
      },
      {
        "duration": 4,
        "start_time": "2024-01-06T08:40:12.815Z"
      },
      {
        "duration": 45,
        "start_time": "2024-01-06T08:40:12.821Z"
      },
      {
        "duration": 3,
        "start_time": "2024-01-06T08:40:12.867Z"
      },
      {
        "duration": 44,
        "start_time": "2024-01-06T08:50:26.503Z"
      },
      {
        "duration": 1235,
        "start_time": "2024-01-06T08:50:35.201Z"
      },
      {
        "duration": 3,
        "start_time": "2024-01-06T08:50:36.437Z"
      },
      {
        "duration": 1493,
        "start_time": "2024-01-06T08:50:36.441Z"
      },
      {
        "duration": 433,
        "start_time": "2024-01-06T08:50:37.935Z"
      },
      {
        "duration": 956,
        "start_time": "2024-01-06T08:50:38.369Z"
      },
      {
        "duration": 130,
        "start_time": "2024-01-06T08:50:39.327Z"
      },
      {
        "duration": 318,
        "start_time": "2024-01-06T08:50:39.458Z"
      },
      {
        "duration": 1141,
        "start_time": "2024-01-06T08:50:39.778Z"
      },
      {
        "duration": 707,
        "start_time": "2024-01-06T08:50:40.921Z"
      },
      {
        "duration": 61,
        "start_time": "2024-01-06T08:50:41.630Z"
      },
      {
        "duration": 5,
        "start_time": "2024-01-06T08:50:41.693Z"
      },
      {
        "duration": 43,
        "start_time": "2024-01-06T08:50:41.699Z"
      },
      {
        "duration": 447300,
        "start_time": "2024-01-06T08:50:41.744Z"
      },
      {
        "duration": 102,
        "start_time": "2024-01-06T09:01:09.229Z"
      },
      {
        "duration": 29,
        "start_time": "2024-01-06T09:01:17.280Z"
      },
      {
        "duration": 169,
        "start_time": "2024-01-06T09:02:00.439Z"
      },
      {
        "duration": 187,
        "start_time": "2024-01-06T09:02:08.972Z"
      },
      {
        "duration": 40149,
        "start_time": "2024-01-06T09:03:20.572Z"
      },
      {
        "duration": 43559,
        "start_time": "2024-01-06T09:04:26.284Z"
      },
      {
        "duration": 37,
        "start_time": "2024-01-06T09:12:15.024Z"
      },
      {
        "duration": 28,
        "start_time": "2024-01-06T09:12:24.513Z"
      },
      {
        "duration": 27,
        "start_time": "2024-01-06T09:12:29.891Z"
      },
      {
        "duration": 32,
        "start_time": "2024-01-06T09:25:45.480Z"
      },
      {
        "duration": 1333,
        "start_time": "2024-01-06T09:26:14.872Z"
      },
      {
        "duration": 1190,
        "start_time": "2024-01-06T09:26:25.968Z"
      },
      {
        "duration": 1186,
        "start_time": "2024-01-06T09:26:32.878Z"
      },
      {
        "duration": 1168,
        "start_time": "2024-01-06T09:26:49.609Z"
      },
      {
        "duration": 1240,
        "start_time": "2024-01-06T09:27:06.672Z"
      },
      {
        "duration": 28,
        "start_time": "2024-01-06T09:27:16.217Z"
      },
      {
        "duration": 71,
        "start_time": "2024-01-06T09:27:35.765Z"
      },
      {
        "duration": 1214,
        "start_time": "2024-01-06T09:27:55.400Z"
      },
      {
        "duration": 1307,
        "start_time": "2024-01-06T09:28:03.180Z"
      },
      {
        "duration": 168,
        "start_time": "2024-01-06T09:44:42.602Z"
      },
      {
        "duration": 157,
        "start_time": "2024-01-06T09:45:14.073Z"
      },
      {
        "duration": 177,
        "start_time": "2024-01-06T09:45:41.165Z"
      },
      {
        "duration": 4031,
        "start_time": "2024-01-06T09:45:47.720Z"
      },
      {
        "duration": 154,
        "start_time": "2024-01-06T09:46:01.811Z"
      },
      {
        "duration": 166,
        "start_time": "2024-01-06T09:46:23.418Z"
      },
      {
        "duration": 151,
        "start_time": "2024-01-06T09:46:46.353Z"
      },
      {
        "duration": 174,
        "start_time": "2024-01-06T09:52:27.566Z"
      },
      {
        "duration": 161,
        "start_time": "2024-01-06T09:52:39.499Z"
      },
      {
        "duration": 717,
        "start_time": "2024-01-06T10:09:11.739Z"
      },
      {
        "duration": 245,
        "start_time": "2024-01-06T10:09:44.526Z"
      },
      {
        "duration": 275,
        "start_time": "2024-01-06T10:10:19.561Z"
      },
      {
        "duration": 271,
        "start_time": "2024-01-06T10:10:38.363Z"
      },
      {
        "duration": 159,
        "start_time": "2024-01-06T10:15:37.970Z"
      },
      {
        "duration": 143,
        "start_time": "2024-01-06T10:16:39.275Z"
      },
      {
        "duration": 388,
        "start_time": "2024-01-06T10:19:35.668Z"
      },
      {
        "duration": 1225,
        "start_time": "2024-01-06T10:22:08.966Z"
      },
      {
        "duration": 15,
        "start_time": "2024-01-06T10:22:24.283Z"
      },
      {
        "duration": 3067,
        "start_time": "2024-01-06T12:31:22.484Z"
      },
      {
        "duration": 1249,
        "start_time": "2024-01-06T12:33:10.313Z"
      },
      {
        "duration": 3,
        "start_time": "2024-01-06T12:33:11.564Z"
      },
      {
        "duration": 1341,
        "start_time": "2024-01-06T12:33:11.568Z"
      },
      {
        "duration": 462,
        "start_time": "2024-01-06T12:33:12.911Z"
      },
      {
        "duration": 935,
        "start_time": "2024-01-06T12:33:13.374Z"
      },
      {
        "duration": 131,
        "start_time": "2024-01-06T12:33:14.311Z"
      },
      {
        "duration": 313,
        "start_time": "2024-01-06T12:33:14.444Z"
      },
      {
        "duration": 1161,
        "start_time": "2024-01-06T12:33:14.758Z"
      },
      {
        "duration": 726,
        "start_time": "2024-01-06T12:33:15.921Z"
      },
      {
        "duration": 64,
        "start_time": "2024-01-06T12:33:16.649Z"
      },
      {
        "duration": 5,
        "start_time": "2024-01-06T12:33:16.715Z"
      },
      {
        "duration": 57,
        "start_time": "2024-01-06T12:33:16.722Z"
      },
      {
        "duration": 39,
        "start_time": "2024-01-06T12:33:16.781Z"
      },
      {
        "duration": 173,
        "start_time": "2024-01-06T12:33:16.822Z"
      },
      {
        "duration": 284,
        "start_time": "2024-01-06T12:33:16.996Z"
      },
      {
        "duration": 136,
        "start_time": "2024-01-06T12:33:17.281Z"
      },
      {
        "duration": 275,
        "start_time": "2024-01-06T12:33:17.419Z"
      },
      {
        "duration": 14,
        "start_time": "2024-01-06T12:33:17.696Z"
      },
      {
        "duration": 3276,
        "start_time": "2024-01-06T12:33:17.712Z"
      },
      {
        "duration": 83,
        "start_time": "2024-01-06T12:35:03.883Z"
      },
      {
        "duration": 132,
        "start_time": "2024-01-06T12:35:09.162Z"
      },
      {
        "duration": 3324,
        "start_time": "2024-01-06T12:35:15.397Z"
      },
      {
        "duration": 2369,
        "start_time": "2024-01-06T12:36:36.978Z"
      },
      {
        "duration": 3468,
        "start_time": "2024-01-06T12:37:15.927Z"
      },
      {
        "duration": 3540,
        "start_time": "2024-01-06T12:37:37.069Z"
      },
      {
        "duration": 3404,
        "start_time": "2024-01-06T12:38:07.544Z"
      },
      {
        "duration": 3482,
        "start_time": "2024-01-06T12:38:48.124Z"
      },
      {
        "duration": 3466,
        "start_time": "2024-01-06T12:39:11.151Z"
      },
      {
        "duration": 296,
        "start_time": "2024-01-06T12:44:44.761Z"
      },
      {
        "duration": 239,
        "start_time": "2024-01-06T12:45:16.243Z"
      },
      {
        "duration": 142,
        "start_time": "2024-01-06T12:48:34.305Z"
      },
      {
        "duration": 177,
        "start_time": "2024-01-06T12:49:13.627Z"
      },
      {
        "duration": 101,
        "start_time": "2024-01-06T12:49:36.785Z"
      },
      {
        "duration": 177,
        "start_time": "2024-01-06T12:49:41.523Z"
      },
      {
        "duration": 187,
        "start_time": "2024-01-06T12:55:49.649Z"
      },
      {
        "duration": 301,
        "start_time": "2024-01-06T12:55:59.979Z"
      },
      {
        "duration": 35,
        "start_time": "2024-01-06T12:58:51.800Z"
      },
      {
        "duration": 28,
        "start_time": "2024-01-06T12:59:02.552Z"
      },
      {
        "duration": 167,
        "start_time": "2024-01-06T13:01:20.951Z"
      },
      {
        "duration": 156,
        "start_time": "2024-01-06T13:03:34.798Z"
      },
      {
        "duration": 339,
        "start_time": "2024-01-06T13:04:23.261Z"
      },
      {
        "duration": 376,
        "start_time": "2024-01-06T13:04:48.400Z"
      },
      {
        "duration": 360,
        "start_time": "2024-01-06T13:05:14.603Z"
      },
      {
        "duration": 140,
        "start_time": "2024-01-06T13:21:53.986Z"
      },
      {
        "duration": 1964,
        "start_time": "2024-01-06T13:26:34.711Z"
      },
      {
        "duration": 102,
        "start_time": "2024-01-06T13:26:48.227Z"
      },
      {
        "duration": 1859,
        "start_time": "2024-01-06T13:26:52.243Z"
      },
      {
        "duration": 30,
        "start_time": "2024-01-06T13:29:41.454Z"
      },
      {
        "duration": 22,
        "start_time": "2024-01-06T13:29:54.803Z"
      },
      {
        "duration": 1371,
        "start_time": "2024-01-06T13:30:22.407Z"
      },
      {
        "duration": 3,
        "start_time": "2024-01-06T13:30:23.780Z"
      },
      {
        "duration": 1399,
        "start_time": "2024-01-06T13:30:23.784Z"
      },
      {
        "duration": 465,
        "start_time": "2024-01-06T13:30:25.185Z"
      },
      {
        "duration": 1077,
        "start_time": "2024-01-06T13:30:25.651Z"
      },
      {
        "duration": 155,
        "start_time": "2024-01-06T13:30:26.730Z"
      },
      {
        "duration": 338,
        "start_time": "2024-01-06T13:30:26.886Z"
      },
      {
        "duration": 1228,
        "start_time": "2024-01-06T13:30:27.226Z"
      },
      {
        "duration": 821,
        "start_time": "2024-01-06T13:30:28.456Z"
      },
      {
        "duration": 55,
        "start_time": "2024-01-06T13:30:29.281Z"
      },
      {
        "duration": 5,
        "start_time": "2024-01-06T13:30:29.337Z"
      },
      {
        "duration": 57,
        "start_time": "2024-01-06T13:30:29.344Z"
      },
      {
        "duration": 37,
        "start_time": "2024-01-06T13:30:29.403Z"
      },
      {
        "duration": 188,
        "start_time": "2024-01-06T13:30:29.442Z"
      },
      {
        "duration": 300,
        "start_time": "2024-01-06T13:30:29.632Z"
      },
      {
        "duration": 152,
        "start_time": "2024-01-06T13:30:29.934Z"
      },
      {
        "duration": 312,
        "start_time": "2024-01-06T13:30:30.088Z"
      },
      {
        "duration": 19,
        "start_time": "2024-01-06T13:30:30.402Z"
      },
      {
        "duration": 3613,
        "start_time": "2024-01-06T13:30:30.423Z"
      },
      {
        "duration": 196,
        "start_time": "2024-01-06T13:30:34.038Z"
      },
      {
        "duration": 198,
        "start_time": "2024-01-06T13:30:34.236Z"
      },
      {
        "duration": 36,
        "start_time": "2024-01-06T13:30:34.436Z"
      },
      {
        "duration": 188,
        "start_time": "2024-01-06T13:30:34.474Z"
      },
      {
        "duration": 394,
        "start_time": "2024-01-06T13:30:34.665Z"
      },
      {
        "duration": 253,
        "start_time": "2024-01-06T13:30:35.060Z"
      },
      {
        "duration": 257,
        "start_time": "2024-01-06T13:30:35.315Z"
      },
      {
        "duration": 555,
        "start_time": "2024-01-06T15:10:19.320Z"
      },
      {
        "duration": 178,
        "start_time": "2024-01-06T15:57:28.372Z"
      },
      {
        "duration": 99,
        "start_time": "2024-01-06T16:09:32.513Z"
      },
      {
        "duration": 3,
        "start_time": "2024-01-06T16:12:05.868Z"
      },
      {
        "duration": 436,
        "start_time": "2024-01-06T16:12:23.081Z"
      },
      {
        "duration": 6,
        "start_time": "2024-01-06T16:13:48.940Z"
      },
      {
        "duration": 1516,
        "start_time": "2024-01-07T09:31:41.399Z"
      },
      {
        "duration": 1814,
        "start_time": "2024-01-08T09:38:22.495Z"
      },
      {
        "duration": 113,
        "start_time": "2024-01-08T09:39:20.804Z"
      },
      {
        "duration": 10,
        "start_time": "2024-01-08T09:39:56.838Z"
      },
      {
        "duration": 1474,
        "start_time": "2024-01-08T09:40:07.962Z"
      },
      {
        "duration": 4,
        "start_time": "2024-01-08T09:40:09.438Z"
      },
      {
        "duration": 1768,
        "start_time": "2024-01-08T09:40:09.444Z"
      },
      {
        "duration": 514,
        "start_time": "2024-01-08T09:40:11.215Z"
      },
      {
        "duration": 1125,
        "start_time": "2024-01-08T09:40:11.732Z"
      },
      {
        "duration": 180,
        "start_time": "2024-01-08T09:40:12.859Z"
      },
      {
        "duration": 366,
        "start_time": "2024-01-08T09:40:13.041Z"
      },
      {
        "duration": 1356,
        "start_time": "2024-01-08T09:40:13.409Z"
      },
      {
        "duration": 858,
        "start_time": "2024-01-08T09:40:14.766Z"
      },
      {
        "duration": 62,
        "start_time": "2024-01-08T09:40:15.627Z"
      },
      {
        "duration": 6,
        "start_time": "2024-01-08T09:40:15.690Z"
      },
      {
        "duration": 55,
        "start_time": "2024-01-08T09:40:15.697Z"
      },
      {
        "duration": 40,
        "start_time": "2024-01-08T09:40:15.754Z"
      },
      {
        "duration": 206,
        "start_time": "2024-01-08T09:40:15.796Z"
      },
      {
        "duration": 333,
        "start_time": "2024-01-08T09:40:16.004Z"
      },
      {
        "duration": 169,
        "start_time": "2024-01-08T09:40:16.339Z"
      },
      {
        "duration": 368,
        "start_time": "2024-01-08T09:40:16.509Z"
      },
      {
        "duration": 17,
        "start_time": "2024-01-08T09:40:16.879Z"
      },
      {
        "duration": 4105,
        "start_time": "2024-01-08T09:40:16.897Z"
      },
      {
        "duration": 226,
        "start_time": "2024-01-08T09:40:21.004Z"
      },
      {
        "duration": 223,
        "start_time": "2024-01-08T09:40:21.231Z"
      },
      {
        "duration": 29,
        "start_time": "2024-01-08T09:40:21.456Z"
      },
      {
        "duration": 250,
        "start_time": "2024-01-08T09:40:21.488Z"
      },
      {
        "duration": 566,
        "start_time": "2024-01-08T09:40:21.739Z"
      },
      {
        "duration": 168,
        "start_time": "2024-01-08T09:40:22.307Z"
      },
      {
        "duration": 278,
        "start_time": "2024-01-08T09:40:22.479Z"
      },
      {
        "duration": 836,
        "start_time": "2024-01-08T09:40:22.758Z"
      },
      {
        "duration": 201,
        "start_time": "2024-01-08T09:40:23.596Z"
      },
      {
        "duration": 489,
        "start_time": "2024-01-08T09:40:23.799Z"
      },
      {
        "duration": 6,
        "start_time": "2024-01-08T09:40:24.290Z"
      },
      {
        "duration": 290842,
        "start_time": "2024-01-08T09:40:24.298Z"
      },
      {
        "duration": 294904,
        "start_time": "2024-01-08T09:46:44.319Z"
      },
      {
        "duration": 1526,
        "start_time": "2024-01-08T11:41:47.146Z"
      },
      {
        "duration": 4,
        "start_time": "2024-01-08T11:41:48.674Z"
      },
      {
        "duration": 1594,
        "start_time": "2024-01-08T11:41:48.680Z"
      },
      {
        "duration": 539,
        "start_time": "2024-01-08T11:41:50.276Z"
      },
      {
        "duration": 1099,
        "start_time": "2024-01-08T11:41:50.816Z"
      },
      {
        "duration": 153,
        "start_time": "2024-01-08T11:41:51.917Z"
      },
      {
        "duration": 368,
        "start_time": "2024-01-08T11:41:52.072Z"
      },
      {
        "duration": 1355,
        "start_time": "2024-01-08T11:41:52.442Z"
      },
      {
        "duration": 836,
        "start_time": "2024-01-08T11:41:53.798Z"
      },
      {
        "duration": 63,
        "start_time": "2024-01-08T11:41:54.637Z"
      },
      {
        "duration": 6,
        "start_time": "2024-01-08T11:41:54.702Z"
      },
      {
        "duration": 37,
        "start_time": "2024-01-08T11:41:54.723Z"
      },
      {
        "duration": 32,
        "start_time": "2024-01-08T11:41:54.762Z"
      },
      {
        "duration": 225,
        "start_time": "2024-01-08T11:41:54.797Z"
      },
      {
        "duration": 337,
        "start_time": "2024-01-08T11:41:55.024Z"
      },
      {
        "duration": 170,
        "start_time": "2024-01-08T11:41:55.363Z"
      },
      {
        "duration": 336,
        "start_time": "2024-01-08T11:41:55.535Z"
      },
      {
        "duration": 16,
        "start_time": "2024-01-08T11:41:55.873Z"
      },
      {
        "duration": 3987,
        "start_time": "2024-01-08T11:41:55.891Z"
      },
      {
        "duration": 216,
        "start_time": "2024-01-08T11:41:59.880Z"
      },
      {
        "duration": 216,
        "start_time": "2024-01-08T11:42:00.098Z"
      },
      {
        "duration": 26,
        "start_time": "2024-01-08T11:42:00.316Z"
      },
      {
        "duration": 211,
        "start_time": "2024-01-08T11:42:00.344Z"
      },
      {
        "duration": 582,
        "start_time": "2024-01-08T11:42:00.557Z"
      },
      {
        "duration": 164,
        "start_time": "2024-01-08T11:42:01.141Z"
      },
      {
        "duration": 286,
        "start_time": "2024-01-08T11:42:01.307Z"
      },
      {
        "duration": 736,
        "start_time": "2024-01-08T11:42:01.596Z"
      },
      {
        "duration": 193,
        "start_time": "2024-01-08T11:42:02.336Z"
      },
      {
        "duration": 479,
        "start_time": "2024-01-08T11:42:02.531Z"
      },
      {
        "duration": 11,
        "start_time": "2024-01-08T11:42:03.011Z"
      },
      {
        "duration": 825801,
        "start_time": "2024-01-08T15:16:22.539Z"
      },
      {
        "duration": 102,
        "start_time": "2024-01-08T16:17:03.767Z"
      },
      {
        "duration": 75,
        "start_time": "2024-01-08T16:17:29.920Z"
      },
      {
        "duration": 4,
        "start_time": "2024-01-08T16:17:30.931Z"
      },
      {
        "duration": 72,
        "start_time": "2024-01-08T16:17:56.308Z"
      },
      {
        "duration": 1547,
        "start_time": "2024-01-08T17:15:06.359Z"
      },
      {
        "duration": 3,
        "start_time": "2024-01-08T17:15:07.908Z"
      },
      {
        "duration": 1524,
        "start_time": "2024-01-08T17:15:07.913Z"
      },
      {
        "duration": 528,
        "start_time": "2024-01-08T17:15:09.439Z"
      },
      {
        "duration": 1150,
        "start_time": "2024-01-08T17:15:09.969Z"
      },
      {
        "duration": 156,
        "start_time": "2024-01-08T17:15:11.121Z"
      },
      {
        "duration": 389,
        "start_time": "2024-01-08T17:15:11.279Z"
      },
      {
        "duration": 1338,
        "start_time": "2024-01-08T17:15:11.669Z"
      },
      {
        "duration": 856,
        "start_time": "2024-01-08T17:15:13.009Z"
      },
      {
        "duration": 71,
        "start_time": "2024-01-08T17:15:13.868Z"
      },
      {
        "duration": 6,
        "start_time": "2024-01-08T17:15:13.940Z"
      },
      {
        "duration": 36,
        "start_time": "2024-01-08T17:15:13.947Z"
      },
      {
        "duration": 54,
        "start_time": "2024-01-08T17:15:13.985Z"
      },
      {
        "duration": 198,
        "start_time": "2024-01-08T17:15:14.041Z"
      },
      {
        "duration": 324,
        "start_time": "2024-01-08T17:15:14.241Z"
      },
      {
        "duration": 168,
        "start_time": "2024-01-08T17:15:14.567Z"
      },
      {
        "duration": 374,
        "start_time": "2024-01-08T17:15:14.737Z"
      },
      {
        "duration": 22,
        "start_time": "2024-01-08T17:15:15.112Z"
      },
      {
        "duration": 4055,
        "start_time": "2024-01-08T17:15:15.136Z"
      },
      {
        "duration": 220,
        "start_time": "2024-01-08T17:15:19.193Z"
      },
      {
        "duration": 219,
        "start_time": "2024-01-08T17:15:19.414Z"
      },
      {
        "duration": 26,
        "start_time": "2024-01-08T17:15:19.634Z"
      },
      {
        "duration": 211,
        "start_time": "2024-01-08T17:15:19.662Z"
      },
      {
        "duration": 539,
        "start_time": "2024-01-08T17:15:19.875Z"
      },
      {
        "duration": 159,
        "start_time": "2024-01-08T17:15:20.415Z"
      },
      {
        "duration": 302,
        "start_time": "2024-01-08T17:15:20.575Z"
      },
      {
        "duration": 774,
        "start_time": "2024-01-08T17:15:20.879Z"
      },
      {
        "duration": 195,
        "start_time": "2024-01-08T17:15:21.656Z"
      },
      {
        "duration": 503,
        "start_time": "2024-01-08T17:15:21.853Z"
      },
      {
        "duration": 5,
        "start_time": "2024-01-08T17:15:22.358Z"
      },
      {
        "duration": 5198471,
        "start_time": "2024-01-08T17:15:22.365Z"
      },
      {
        "duration": 1389115,
        "start_time": "2024-01-08T18:45:39.633Z"
      },
      {
        "duration": 2650,
        "start_time": "2024-01-08T19:14:51.625Z"
      },
      {
        "duration": 40175,
        "start_time": "2024-01-08T19:15:45.460Z"
      },
      {
        "duration": 58,
        "start_time": "2024-01-08T19:34:31.836Z"
      },
      {
        "duration": 2681,
        "start_time": "2024-01-08T19:47:28.295Z"
      },
      {
        "duration": 1845,
        "start_time": "2024-01-08T19:47:56.272Z"
      },
      {
        "duration": 29647,
        "start_time": "2024-01-08T20:04:40.796Z"
      },
      {
        "duration": 1835,
        "start_time": "2024-01-09T15:47:18.193Z"
      },
      {
        "duration": 173,
        "start_time": "2024-01-09T15:49:40.683Z"
      },
      {
        "duration": 3,
        "start_time": "2024-01-09T15:50:05.780Z"
      },
      {
        "duration": 3,
        "start_time": "2024-01-09T15:50:05.796Z"
      },
      {
        "duration": 3581,
        "start_time": "2024-01-09T15:50:05.836Z"
      },
      {
        "duration": 528,
        "start_time": "2024-01-09T15:50:09.419Z"
      },
      {
        "duration": 1102,
        "start_time": "2024-01-09T15:50:09.949Z"
      },
      {
        "duration": 170,
        "start_time": "2024-01-09T15:50:11.054Z"
      },
      {
        "duration": 384,
        "start_time": "2024-01-09T15:50:11.226Z"
      },
      {
        "duration": 1400,
        "start_time": "2024-01-09T15:50:11.612Z"
      },
      {
        "duration": 856,
        "start_time": "2024-01-09T15:50:13.016Z"
      },
      {
        "duration": 76,
        "start_time": "2024-01-09T15:50:13.874Z"
      },
      {
        "duration": 6,
        "start_time": "2024-01-09T15:50:13.951Z"
      },
      {
        "duration": 83,
        "start_time": "2024-01-09T15:50:13.959Z"
      },
      {
        "duration": 34,
        "start_time": "2024-01-09T15:50:14.044Z"
      },
      {
        "duration": 224,
        "start_time": "2024-01-09T15:50:14.079Z"
      },
      {
        "duration": 354,
        "start_time": "2024-01-09T15:50:14.306Z"
      },
      {
        "duration": 276,
        "start_time": "2024-01-09T15:50:14.662Z"
      },
      {
        "duration": 351,
        "start_time": "2024-01-09T15:50:14.940Z"
      },
      {
        "duration": 23,
        "start_time": "2024-01-09T15:50:15.293Z"
      },
      {
        "duration": 4144,
        "start_time": "2024-01-09T15:50:15.319Z"
      },
      {
        "duration": 249,
        "start_time": "2024-01-09T15:50:19.465Z"
      },
      {
        "duration": 361,
        "start_time": "2024-01-09T15:50:19.716Z"
      },
      {
        "duration": 37,
        "start_time": "2024-01-09T15:50:20.079Z"
      },
      {
        "duration": 222,
        "start_time": "2024-01-09T15:50:20.117Z"
      },
      {
        "duration": 443,
        "start_time": "2024-01-09T15:50:20.340Z"
      },
      {
        "duration": 176,
        "start_time": "2024-01-09T15:50:20.785Z"
      },
      {
        "duration": 360,
        "start_time": "2024-01-09T15:50:20.963Z"
      },
      {
        "duration": 708,
        "start_time": "2024-01-09T15:50:21.325Z"
      },
      {
        "duration": 198,
        "start_time": "2024-01-09T15:50:22.034Z"
      },
      {
        "duration": 491,
        "start_time": "2024-01-09T15:50:22.233Z"
      },
      {
        "duration": 5,
        "start_time": "2024-01-09T15:50:22.727Z"
      },
      {
        "duration": 503906,
        "start_time": "2024-01-09T15:51:43.177Z"
      },
      {
        "duration": 505151,
        "start_time": "2024-01-09T16:08:46.194Z"
      },
      {
        "duration": 1647,
        "start_time": "2024-01-10T07:40:43.455Z"
      },
      {
        "duration": 3,
        "start_time": "2024-01-10T07:40:45.104Z"
      },
      {
        "duration": 1624,
        "start_time": "2024-01-10T07:40:45.108Z"
      },
      {
        "duration": 459,
        "start_time": "2024-01-10T07:40:46.735Z"
      },
      {
        "duration": 972,
        "start_time": "2024-01-10T07:40:47.195Z"
      },
      {
        "duration": 131,
        "start_time": "2024-01-10T07:40:48.168Z"
      },
      {
        "duration": 360,
        "start_time": "2024-01-10T07:40:48.300Z"
      },
      {
        "duration": 1254,
        "start_time": "2024-01-10T07:40:48.664Z"
      },
      {
        "duration": 768,
        "start_time": "2024-01-10T07:40:49.920Z"
      },
      {
        "duration": 57,
        "start_time": "2024-01-10T07:40:50.690Z"
      },
      {
        "duration": 4,
        "start_time": "2024-01-10T07:40:50.749Z"
      },
      {
        "duration": 36,
        "start_time": "2024-01-10T07:40:50.755Z"
      },
      {
        "duration": 29,
        "start_time": "2024-01-10T07:40:50.792Z"
      },
      {
        "duration": 256,
        "start_time": "2024-01-10T07:40:50.823Z"
      },
      {
        "duration": 307,
        "start_time": "2024-01-10T07:40:51.081Z"
      },
      {
        "duration": 145,
        "start_time": "2024-01-10T07:40:51.389Z"
      },
      {
        "duration": 391,
        "start_time": "2024-01-10T07:40:51.535Z"
      },
      {
        "duration": 15,
        "start_time": "2024-01-10T07:40:51.927Z"
      },
      {
        "duration": 3423,
        "start_time": "2024-01-10T07:40:51.944Z"
      },
      {
        "duration": 210,
        "start_time": "2024-01-10T07:40:55.368Z"
      },
      {
        "duration": 240,
        "start_time": "2024-01-10T07:40:55.579Z"
      },
      {
        "duration": 23,
        "start_time": "2024-01-10T07:40:55.821Z"
      },
      {
        "duration": 300,
        "start_time": "2024-01-10T07:40:55.846Z"
      },
      {
        "duration": 379,
        "start_time": "2024-01-10T07:40:56.148Z"
      },
      {
        "duration": 147,
        "start_time": "2024-01-10T07:40:56.529Z"
      },
      {
        "duration": 255,
        "start_time": "2024-01-10T07:40:56.678Z"
      },
      {
        "duration": 582,
        "start_time": "2024-01-10T07:40:56.935Z"
      },
      {
        "duration": 190,
        "start_time": "2024-01-10T07:40:57.521Z"
      },
      {
        "duration": 461,
        "start_time": "2024-01-10T07:40:57.712Z"
      },
      {
        "duration": 6,
        "start_time": "2024-01-10T07:40:58.175Z"
      },
      {
        "duration": 104,
        "start_time": "2024-01-10T07:44:46.154Z"
      },
      {
        "duration": 3,
        "start_time": "2024-01-10T07:45:18.272Z"
      },
      {
        "duration": 14701,
        "start_time": "2024-01-10T07:45:25.073Z"
      },
      {
        "duration": 15822,
        "start_time": "2024-01-10T07:45:54.545Z"
      },
      {
        "duration": 254,
        "start_time": "2024-01-10T08:05:07.442Z"
      },
      {
        "duration": 3,
        "start_time": "2024-01-10T08:05:21.009Z"
      },
      {
        "duration": 3,
        "start_time": "2024-01-10T08:05:21.020Z"
      },
      {
        "duration": 1338,
        "start_time": "2024-01-10T08:05:21.058Z"
      },
      {
        "duration": 415,
        "start_time": "2024-01-10T08:05:22.397Z"
      },
      {
        "duration": 870,
        "start_time": "2024-01-10T08:05:22.813Z"
      },
      {
        "duration": 152,
        "start_time": "2024-01-10T08:05:23.685Z"
      },
      {
        "duration": 311,
        "start_time": "2024-01-10T08:05:23.839Z"
      },
      {
        "duration": 1226,
        "start_time": "2024-01-10T08:05:24.152Z"
      },
      {
        "duration": 702,
        "start_time": "2024-01-10T08:05:25.379Z"
      },
      {
        "duration": 56,
        "start_time": "2024-01-10T08:05:26.083Z"
      },
      {
        "duration": 5,
        "start_time": "2024-01-10T08:05:26.141Z"
      },
      {
        "duration": 33,
        "start_time": "2024-01-10T08:05:26.164Z"
      },
      {
        "duration": 40,
        "start_time": "2024-01-10T08:05:26.199Z"
      },
      {
        "duration": 193,
        "start_time": "2024-01-10T08:05:26.241Z"
      },
      {
        "duration": 288,
        "start_time": "2024-01-10T08:05:26.435Z"
      },
      {
        "duration": 160,
        "start_time": "2024-01-10T08:05:26.724Z"
      },
      {
        "duration": 295,
        "start_time": "2024-01-10T08:05:26.885Z"
      },
      {
        "duration": 14,
        "start_time": "2024-01-10T08:05:27.182Z"
      },
      {
        "duration": 3593,
        "start_time": "2024-01-10T08:05:27.198Z"
      },
      {
        "duration": 199,
        "start_time": "2024-01-10T08:05:30.792Z"
      },
      {
        "duration": 209,
        "start_time": "2024-01-10T08:05:30.993Z"
      },
      {
        "duration": 23,
        "start_time": "2024-01-10T08:05:31.204Z"
      },
      {
        "duration": 174,
        "start_time": "2024-01-10T08:05:31.228Z"
      },
      {
        "duration": 385,
        "start_time": "2024-01-10T08:05:31.403Z"
      },
      {
        "duration": 145,
        "start_time": "2024-01-10T08:05:31.789Z"
      },
      {
        "duration": 252,
        "start_time": "2024-01-10T08:05:31.935Z"
      },
      {
        "duration": 575,
        "start_time": "2024-01-10T08:05:32.188Z"
      },
      {
        "duration": 187,
        "start_time": "2024-01-10T08:05:32.765Z"
      },
      {
        "duration": 456,
        "start_time": "2024-01-10T08:05:32.954Z"
      },
      {
        "duration": 5,
        "start_time": "2024-01-10T08:05:33.413Z"
      },
      {
        "duration": 1230752,
        "start_time": "2024-01-10T08:05:33.420Z"
      },
      {
        "duration": 34592,
        "start_time": "2024-01-10T08:26:04.174Z"
      },
      {
        "duration": 30597,
        "start_time": "2024-01-10T08:26:38.768Z"
      },
      {
        "duration": 485572,
        "start_time": "2024-01-10T08:27:09.367Z"
      },
      {
        "duration": 15631,
        "start_time": "2024-01-10T08:35:14.940Z"
      },
      {
        "duration": 443171,
        "start_time": "2024-01-10T08:35:30.573Z"
      },
      {
        "duration": 5841,
        "start_time": "2024-01-10T09:03:53.033Z"
      },
      {
        "duration": 6259,
        "start_time": "2024-01-10T09:05:10.579Z"
      },
      {
        "duration": 184638,
        "start_time": "2024-01-10T09:05:59.480Z"
      },
      {
        "duration": 15548,
        "start_time": "2024-01-10T09:38:28.324Z"
      },
      {
        "duration": 3209,
        "start_time": "2024-01-10T09:43:26.017Z"
      },
      {
        "duration": 2942,
        "start_time": "2024-01-10T09:43:52.486Z"
      },
      {
        "duration": 91,
        "start_time": "2024-01-10T09:44:38.141Z"
      },
      {
        "duration": 567,
        "start_time": "2024-01-10T09:44:46.713Z"
      },
      {
        "duration": 623,
        "start_time": "2024-01-10T09:45:32.149Z"
      },
      {
        "duration": 640,
        "start_time": "2024-01-10T09:45:37.929Z"
      },
      {
        "duration": 629,
        "start_time": "2024-01-10T09:46:09.240Z"
      },
      {
        "duration": 608,
        "start_time": "2024-01-10T09:46:19.569Z"
      },
      {
        "duration": 594,
        "start_time": "2024-01-10T09:46:25.587Z"
      },
      {
        "duration": 649,
        "start_time": "2024-01-10T09:46:28.621Z"
      },
      {
        "duration": 1063,
        "start_time": "2024-01-10T09:46:34.003Z"
      },
      {
        "duration": 1030,
        "start_time": "2024-01-10T09:46:41.076Z"
      },
      {
        "duration": 71,
        "start_time": "2024-01-10T09:49:08.065Z"
      },
      {
        "duration": 61,
        "start_time": "2024-01-10T09:49:14.624Z"
      },
      {
        "duration": 67,
        "start_time": "2024-01-10T09:49:19.293Z"
      },
      {
        "duration": 544,
        "start_time": "2024-01-10T09:50:46.503Z"
      },
      {
        "duration": 555,
        "start_time": "2024-01-10T09:50:51.145Z"
      },
      {
        "duration": 205,
        "start_time": "2024-01-10T09:51:59.665Z"
      },
      {
        "duration": 12,
        "start_time": "2024-01-10T12:47:44.605Z"
      },
      {
        "duration": 9,
        "start_time": "2024-01-10T12:47:52.889Z"
      },
      {
        "duration": 10,
        "start_time": "2024-01-10T12:47:57.178Z"
      },
      {
        "duration": 14398,
        "start_time": "2024-01-10T12:48:34.066Z"
      },
      {
        "duration": 9,
        "start_time": "2024-01-10T12:48:59.384Z"
      },
      {
        "duration": 8,
        "start_time": "2024-01-10T12:49:05.207Z"
      },
      {
        "duration": 8,
        "start_time": "2024-01-10T12:50:00.878Z"
      },
      {
        "duration": 9,
        "start_time": "2024-01-10T12:50:07.068Z"
      },
      {
        "duration": 8,
        "start_time": "2024-01-10T12:50:09.953Z"
      },
      {
        "duration": 132,
        "start_time": "2024-01-10T12:50:28.271Z"
      },
      {
        "duration": 121,
        "start_time": "2024-01-10T12:50:58.499Z"
      },
      {
        "duration": 97,
        "start_time": "2024-01-10T15:14:14.947Z"
      },
      {
        "duration": 71,
        "start_time": "2024-01-10T15:14:32.134Z"
      },
      {
        "duration": 72,
        "start_time": "2024-01-10T19:13:37.373Z"
      },
      {
        "duration": 3544,
        "start_time": "2024-01-13T07:35:37.266Z"
      },
      {
        "duration": 1858,
        "start_time": "2024-01-13T07:35:40.813Z"
      },
      {
        "duration": 3,
        "start_time": "2024-01-13T07:35:42.673Z"
      },
      {
        "duration": 1802,
        "start_time": "2024-01-13T07:35:42.678Z"
      },
      {
        "duration": 516,
        "start_time": "2024-01-13T07:35:44.483Z"
      },
      {
        "duration": 1128,
        "start_time": "2024-01-13T07:35:45.001Z"
      },
      {
        "duration": 146,
        "start_time": "2024-01-13T07:35:46.130Z"
      },
      {
        "duration": 378,
        "start_time": "2024-01-13T07:35:46.278Z"
      },
      {
        "duration": 1434,
        "start_time": "2024-01-13T07:35:46.658Z"
      },
      {
        "duration": 187,
        "start_time": "2024-01-13T07:35:48.093Z"
      },
      {
        "duration": 82,
        "start_time": "2024-01-13T07:35:48.281Z"
      },
      {
        "duration": 656,
        "start_time": "2024-01-13T07:35:48.365Z"
      },
      {
        "duration": 218,
        "start_time": "2024-01-13T07:35:49.023Z"
      },
      {
        "duration": 303,
        "start_time": "2024-01-13T07:35:49.244Z"
      },
      {
        "duration": 237,
        "start_time": "2024-01-13T07:35:49.548Z"
      },
      {
        "duration": 495,
        "start_time": "2024-01-13T07:35:49.787Z"
      },
      {
        "duration": 39,
        "start_time": "2024-01-13T07:35:50.283Z"
      },
      {
        "duration": 23,
        "start_time": "2024-01-13T07:35:50.324Z"
      },
      {
        "duration": 5181,
        "start_time": "2024-01-13T07:35:50.349Z"
      },
      {
        "duration": 18,
        "start_time": "2024-01-13T07:35:55.532Z"
      },
      {
        "duration": 91,
        "start_time": "2024-01-13T07:35:55.552Z"
      },
      {
        "duration": 165,
        "start_time": "2024-01-13T07:35:55.645Z"
      },
      {
        "duration": 10,
        "start_time": "2024-01-13T07:35:55.812Z"
      },
      {
        "duration": 68,
        "start_time": "2024-01-13T07:35:55.823Z"
      },
      {
        "duration": 6,
        "start_time": "2024-01-13T07:35:55.893Z"
      },
      {
        "duration": 208,
        "start_time": "2024-01-13T07:35:55.900Z"
      },
      {
        "duration": 101,
        "start_time": "2024-01-13T07:35:56.110Z"
      },
      {
        "duration": 2651,
        "start_time": "2024-01-13T07:35:56.213Z"
      },
      {
        "duration": 125,
        "start_time": "2024-01-13T07:35:58.866Z"
      },
      {
        "duration": 113,
        "start_time": "2024-01-13T07:35:58.993Z"
      },
      {
        "duration": 90,
        "start_time": "2024-01-13T07:38:07.610Z"
      },
      {
        "duration": 108,
        "start_time": "2024-01-13T07:38:13.805Z"
      },
      {
        "duration": 89,
        "start_time": "2024-01-13T07:38:44.909Z"
      },
      {
        "duration": 70,
        "start_time": "2024-01-13T08:22:36.183Z"
      },
      {
        "duration": 91,
        "start_time": "2024-01-13T08:22:47.985Z"
      },
      {
        "duration": 71,
        "start_time": "2024-01-13T08:23:09.075Z"
      },
      {
        "duration": 85,
        "start_time": "2024-01-13T08:23:16.270Z"
      },
      {
        "duration": 6,
        "start_time": "2024-01-13T08:23:40.244Z"
      },
      {
        "duration": 40,
        "start_time": "2024-01-13T08:23:41.315Z"
      },
      {
        "duration": 6,
        "start_time": "2024-01-13T08:23:42.341Z"
      },
      {
        "duration": 136,
        "start_time": "2024-01-13T08:23:52.110Z"
      },
      {
        "duration": 5154,
        "start_time": "2024-01-13T08:26:58.328Z"
      },
      {
        "duration": 4,
        "start_time": "2024-01-13T08:27:10.312Z"
      },
      {
        "duration": 3,
        "start_time": "2024-01-13T08:27:12.159Z"
      },
      {
        "duration": 1498,
        "start_time": "2024-01-13T08:27:14.868Z"
      },
      {
        "duration": 436,
        "start_time": "2024-01-13T08:27:16.368Z"
      },
      {
        "duration": 936,
        "start_time": "2024-01-13T08:27:17.138Z"
      },
      {
        "duration": 147,
        "start_time": "2024-01-13T08:27:18.615Z"
      },
      {
        "duration": 328,
        "start_time": "2024-01-13T08:27:19.348Z"
      },
      {
        "duration": 1421,
        "start_time": "2024-01-13T08:27:21.112Z"
      },
      {
        "duration": 188,
        "start_time": "2024-01-13T08:27:22.938Z"
      },
      {
        "duration": 76,
        "start_time": "2024-01-13T08:27:24.778Z"
      },
      {
        "duration": 613,
        "start_time": "2024-01-13T08:27:26.422Z"
      },
      {
        "duration": 207,
        "start_time": "2024-01-13T08:27:27.721Z"
      },
      {
        "duration": 220,
        "start_time": "2024-01-13T08:27:28.611Z"
      },
      {
        "duration": 229,
        "start_time": "2024-01-13T08:27:29.688Z"
      },
      {
        "duration": 359,
        "start_time": "2024-01-13T08:27:30.658Z"
      },
      {
        "duration": 36,
        "start_time": "2024-01-13T08:27:31.699Z"
      },
      {
        "duration": 21,
        "start_time": "2024-01-13T08:27:33.619Z"
      },
      {
        "duration": 5316,
        "start_time": "2024-01-13T08:27:34.611Z"
      },
      {
        "duration": 17,
        "start_time": "2024-01-13T08:27:39.929Z"
      },
      {
        "duration": 97,
        "start_time": "2024-01-13T08:27:39.947Z"
      },
      {
        "duration": 157,
        "start_time": "2024-01-13T08:27:41.036Z"
      },
      {
        "duration": 5205,
        "start_time": "2024-01-13T08:28:33.299Z"
      },
      {
        "duration": 1639,
        "start_time": "2024-01-13T08:28:38.506Z"
      },
      {
        "duration": 3,
        "start_time": "2024-01-13T08:28:40.148Z"
      },
      {
        "duration": 1587,
        "start_time": "2024-01-13T08:28:40.153Z"
      },
      {
        "duration": 500,
        "start_time": "2024-01-13T08:28:41.741Z"
      },
      {
        "duration": 1093,
        "start_time": "2024-01-13T08:28:42.243Z"
      },
      {
        "duration": 173,
        "start_time": "2024-01-13T08:28:43.337Z"
      },
      {
        "duration": 354,
        "start_time": "2024-01-13T08:28:43.521Z"
      },
      {
        "duration": 1427,
        "start_time": "2024-01-13T08:28:43.877Z"
      },
      {
        "duration": 180,
        "start_time": "2024-01-13T08:28:45.307Z"
      },
      {
        "duration": 84,
        "start_time": "2024-01-13T08:28:45.489Z"
      },
      {
        "duration": 639,
        "start_time": "2024-01-13T08:28:45.574Z"
      },
      {
        "duration": 215,
        "start_time": "2024-01-13T08:28:46.215Z"
      },
      {
        "duration": 308,
        "start_time": "2024-01-13T08:28:46.432Z"
      },
      {
        "duration": 234,
        "start_time": "2024-01-13T08:28:46.741Z"
      },
      {
        "duration": 481,
        "start_time": "2024-01-13T08:28:46.976Z"
      },
      {
        "duration": 31,
        "start_time": "2024-01-13T08:28:47.459Z"
      },
      {
        "duration": 37,
        "start_time": "2024-01-13T08:28:47.492Z"
      },
      {
        "duration": 5214,
        "start_time": "2024-01-13T08:28:47.531Z"
      },
      {
        "duration": 16,
        "start_time": "2024-01-13T08:28:52.747Z"
      },
      {
        "duration": 85,
        "start_time": "2024-01-13T08:28:52.764Z"
      },
      {
        "duration": 154,
        "start_time": "2024-01-13T08:28:52.850Z"
      },
      {
        "duration": 75,
        "start_time": "2024-01-13T08:28:53.006Z"
      },
      {
        "duration": 4,
        "start_time": "2024-01-13T08:28:59.703Z"
      },
      {
        "duration": 38,
        "start_time": "2024-01-13T08:29:01.167Z"
      },
      {
        "duration": 5,
        "start_time": "2024-01-13T08:29:01.854Z"
      },
      {
        "duration": 243,
        "start_time": "2024-01-13T08:29:10.236Z"
      },
      {
        "duration": 18,
        "start_time": "2024-01-13T09:03:29.265Z"
      },
      {
        "duration": 16,
        "start_time": "2024-01-13T09:03:51.370Z"
      },
      {
        "duration": 18245,
        "start_time": "2024-01-13T09:04:37.378Z"
      },
      {
        "duration": 1303,
        "start_time": "2024-01-13T09:05:28.766Z"
      },
      {
        "duration": 1276,
        "start_time": "2024-01-13T09:06:43.673Z"
      },
      {
        "duration": 25136,
        "start_time": "2024-01-13T09:07:19.562Z"
      },
      {
        "duration": 127,
        "start_time": "2024-01-13T09:09:05.930Z"
      },
      {
        "duration": 126,
        "start_time": "2024-01-13T09:12:11.106Z"
      },
      {
        "duration": 110,
        "start_time": "2024-01-13T09:12:28.641Z"
      },
      {
        "duration": 126,
        "start_time": "2024-01-13T09:15:06.052Z"
      },
      {
        "duration": 117,
        "start_time": "2024-01-13T09:15:27.057Z"
      },
      {
        "duration": 115,
        "start_time": "2024-01-13T09:15:43.116Z"
      },
      {
        "duration": 169,
        "start_time": "2024-01-13T09:17:18.963Z"
      },
      {
        "duration": 3894,
        "start_time": "2024-01-13T09:17:49.336Z"
      },
      {
        "duration": 38493,
        "start_time": "2024-01-13T09:18:02.916Z"
      },
      {
        "duration": 5,
        "start_time": "2024-01-13T09:19:01.607Z"
      },
      {
        "duration": 126,
        "start_time": "2024-01-13T09:19:21.158Z"
      },
      {
        "duration": 5116,
        "start_time": "2024-01-13T09:19:47.851Z"
      },
      {
        "duration": 1504,
        "start_time": "2024-01-13T09:19:52.970Z"
      },
      {
        "duration": 3,
        "start_time": "2024-01-13T09:19:54.476Z"
      },
      {
        "duration": 1527,
        "start_time": "2024-01-13T09:19:54.481Z"
      },
      {
        "duration": 504,
        "start_time": "2024-01-13T09:19:56.009Z"
      },
      {
        "duration": 1093,
        "start_time": "2024-01-13T09:19:56.514Z"
      },
      {
        "duration": 151,
        "start_time": "2024-01-13T09:19:57.608Z"
      },
      {
        "duration": 357,
        "start_time": "2024-01-13T09:19:57.760Z"
      },
      {
        "duration": 1438,
        "start_time": "2024-01-13T09:19:58.121Z"
      },
      {
        "duration": 182,
        "start_time": "2024-01-13T09:19:59.562Z"
      },
      {
        "duration": 78,
        "start_time": "2024-01-13T09:19:59.746Z"
      },
      {
        "duration": 635,
        "start_time": "2024-01-13T09:19:59.826Z"
      },
      {
        "duration": 209,
        "start_time": "2024-01-13T09:20:00.463Z"
      },
      {
        "duration": 324,
        "start_time": "2024-01-13T09:20:00.675Z"
      },
      {
        "duration": 235,
        "start_time": "2024-01-13T09:20:01.001Z"
      },
      {
        "duration": 477,
        "start_time": "2024-01-13T09:20:01.238Z"
      },
      {
        "duration": 30,
        "start_time": "2024-01-13T09:20:01.722Z"
      },
      {
        "duration": 23,
        "start_time": "2024-01-13T09:20:01.754Z"
      },
      {
        "duration": 5315,
        "start_time": "2024-01-13T09:20:01.779Z"
      },
      {
        "duration": 26,
        "start_time": "2024-01-13T09:20:07.097Z"
      },
      {
        "duration": 136,
        "start_time": "2024-01-13T09:20:07.125Z"
      },
      {
        "duration": 157,
        "start_time": "2024-01-13T09:20:07.263Z"
      },
      {
        "duration": 73,
        "start_time": "2024-01-13T09:20:07.422Z"
      },
      {
        "duration": 150,
        "start_time": "2024-01-13T09:20:07.497Z"
      },
      {
        "duration": 0,
        "start_time": "2024-01-13T09:20:07.650Z"
      },
      {
        "duration": 0,
        "start_time": "2024-01-13T09:20:07.651Z"
      },
      {
        "duration": 0,
        "start_time": "2024-01-13T09:20:07.652Z"
      },
      {
        "duration": 5,
        "start_time": "2024-01-13T09:20:22.918Z"
      },
      {
        "duration": 37,
        "start_time": "2024-01-13T09:20:23.446Z"
      },
      {
        "duration": 6,
        "start_time": "2024-01-13T09:20:24.004Z"
      },
      {
        "duration": 17,
        "start_time": "2024-01-13T09:20:30.216Z"
      },
      {
        "duration": 139,
        "start_time": "2024-01-13T09:20:32.540Z"
      },
      {
        "duration": 97,
        "start_time": "2024-01-13T10:22:06.291Z"
      },
      {
        "duration": 4,
        "start_time": "2024-01-13T10:22:15.867Z"
      },
      {
        "duration": 3,
        "start_time": "2024-01-13T10:24:36.262Z"
      },
      {
        "duration": 39,
        "start_time": "2024-01-13T10:30:46.461Z"
      },
      {
        "duration": 5403,
        "start_time": "2024-01-13T10:31:31.133Z"
      },
      {
        "duration": 4,
        "start_time": "2024-01-13T10:31:36.539Z"
      },
      {
        "duration": 19,
        "start_time": "2024-01-13T10:31:36.544Z"
      },
      {
        "duration": 1473,
        "start_time": "2024-01-13T10:31:36.565Z"
      },
      {
        "duration": 433,
        "start_time": "2024-01-13T10:31:38.040Z"
      },
      {
        "duration": 956,
        "start_time": "2024-01-13T10:31:38.475Z"
      },
      {
        "duration": 153,
        "start_time": "2024-01-13T10:31:39.433Z"
      },
      {
        "duration": 335,
        "start_time": "2024-01-13T10:31:39.588Z"
      },
      {
        "duration": 1459,
        "start_time": "2024-01-13T10:31:39.925Z"
      },
      {
        "duration": 206,
        "start_time": "2024-01-13T10:31:41.388Z"
      },
      {
        "duration": 82,
        "start_time": "2024-01-13T10:31:41.596Z"
      },
      {
        "duration": 622,
        "start_time": "2024-01-13T10:31:41.680Z"
      },
      {
        "duration": 222,
        "start_time": "2024-01-13T10:31:42.304Z"
      },
      {
        "duration": 241,
        "start_time": "2024-01-13T10:31:42.529Z"
      },
      {
        "duration": 236,
        "start_time": "2024-01-13T10:31:42.772Z"
      },
      {
        "duration": 371,
        "start_time": "2024-01-13T10:31:43.010Z"
      },
      {
        "duration": 39,
        "start_time": "2024-01-13T10:31:43.383Z"
      },
      {
        "duration": 23,
        "start_time": "2024-01-13T10:31:43.424Z"
      },
      {
        "duration": 5372,
        "start_time": "2024-01-13T10:31:43.448Z"
      },
      {
        "duration": 21,
        "start_time": "2024-01-13T10:31:48.822Z"
      },
      {
        "duration": 100,
        "start_time": "2024-01-13T10:31:48.845Z"
      },
      {
        "duration": 170,
        "start_time": "2024-01-13T10:31:48.947Z"
      },
      {
        "duration": 9,
        "start_time": "2024-01-13T10:31:49.119Z"
      },
      {
        "duration": 57,
        "start_time": "2024-01-13T10:31:49.129Z"
      },
      {
        "duration": 5,
        "start_time": "2024-01-13T10:31:49.187Z"
      },
      {
        "duration": 1271,
        "start_time": "2024-01-13T10:31:49.194Z"
      },
      {
        "duration": 29,
        "start_time": "2024-01-13T10:32:07.810Z"
      },
      {
        "duration": 140,
        "start_time": "2024-01-13T10:36:06.846Z"
      },
      {
        "duration": 223,
        "start_time": "2024-01-13T10:36:46.838Z"
      },
      {
        "duration": 226,
        "start_time": "2024-01-13T10:37:01.154Z"
      },
      {
        "duration": 5169,
        "start_time": "2024-01-13T10:37:20.650Z"
      },
      {
        "duration": 5,
        "start_time": "2024-01-13T10:37:25.822Z"
      },
      {
        "duration": 10,
        "start_time": "2024-01-13T10:37:25.829Z"
      },
      {
        "duration": 1516,
        "start_time": "2024-01-13T10:37:25.841Z"
      },
      {
        "duration": 463,
        "start_time": "2024-01-13T10:37:27.359Z"
      },
      {
        "duration": 984,
        "start_time": "2024-01-13T10:37:27.824Z"
      },
      {
        "duration": 158,
        "start_time": "2024-01-13T10:37:28.810Z"
      },
      {
        "duration": 341,
        "start_time": "2024-01-13T10:37:28.970Z"
      },
      {
        "duration": 1339,
        "start_time": "2024-01-13T10:37:29.313Z"
      },
      {
        "duration": 216,
        "start_time": "2024-01-13T10:37:30.655Z"
      },
      {
        "duration": 84,
        "start_time": "2024-01-13T10:37:30.873Z"
      },
      {
        "duration": 747,
        "start_time": "2024-01-13T10:37:30.959Z"
      },
      {
        "duration": 214,
        "start_time": "2024-01-13T10:37:31.708Z"
      },
      {
        "duration": 229,
        "start_time": "2024-01-13T10:37:31.924Z"
      },
      {
        "duration": 248,
        "start_time": "2024-01-13T10:37:32.155Z"
      },
      {
        "duration": 372,
        "start_time": "2024-01-13T10:37:32.405Z"
      },
      {
        "duration": 32,
        "start_time": "2024-01-13T10:37:32.779Z"
      },
      {
        "duration": 24,
        "start_time": "2024-01-13T10:37:32.822Z"
      },
      {
        "duration": 5312,
        "start_time": "2024-01-13T10:37:32.848Z"
      },
      {
        "duration": 21,
        "start_time": "2024-01-13T10:37:38.162Z"
      },
      {
        "duration": 111,
        "start_time": "2024-01-13T10:37:38.186Z"
      },
      {
        "duration": 175,
        "start_time": "2024-01-13T10:37:38.300Z"
      },
      {
        "duration": 10,
        "start_time": "2024-01-13T10:37:38.477Z"
      },
      {
        "duration": 71,
        "start_time": "2024-01-13T10:37:38.489Z"
      },
      {
        "duration": 6,
        "start_time": "2024-01-13T10:37:38.562Z"
      },
      {
        "duration": 228,
        "start_time": "2024-01-13T10:37:38.569Z"
      },
      {
        "duration": 89,
        "start_time": "2024-01-13T10:37:50.949Z"
      },
      {
        "duration": 97,
        "start_time": "2024-01-13T10:38:24.148Z"
      },
      {
        "duration": 232,
        "start_time": "2024-01-13T10:39:38.296Z"
      },
      {
        "duration": 328,
        "start_time": "2024-01-13T10:47:28.357Z"
      },
      {
        "duration": 9,
        "start_time": "2024-01-13T10:48:03.683Z"
      },
      {
        "duration": 12,
        "start_time": "2024-01-13T10:48:11.507Z"
      },
      {
        "duration": 5244,
        "start_time": "2024-01-13T10:49:01.744Z"
      },
      {
        "duration": 7,
        "start_time": "2024-01-13T10:49:06.991Z"
      },
      {
        "duration": 19,
        "start_time": "2024-01-13T10:49:07.000Z"
      },
      {
        "duration": 1467,
        "start_time": "2024-01-13T10:49:07.022Z"
      },
      {
        "duration": 446,
        "start_time": "2024-01-13T10:49:08.490Z"
      },
      {
        "duration": 963,
        "start_time": "2024-01-13T10:49:08.938Z"
      },
      {
        "duration": 164,
        "start_time": "2024-01-13T10:49:09.903Z"
      },
      {
        "duration": 339,
        "start_time": "2024-01-13T10:49:10.069Z"
      },
      {
        "duration": 1442,
        "start_time": "2024-01-13T10:49:10.410Z"
      },
      {
        "duration": 199,
        "start_time": "2024-01-13T10:49:11.856Z"
      },
      {
        "duration": 87,
        "start_time": "2024-01-13T10:49:12.057Z"
      },
      {
        "duration": 631,
        "start_time": "2024-01-13T10:49:12.146Z"
      },
      {
        "duration": 210,
        "start_time": "2024-01-13T10:49:12.779Z"
      },
      {
        "duration": 234,
        "start_time": "2024-01-13T10:49:12.990Z"
      },
      {
        "duration": 244,
        "start_time": "2024-01-13T10:49:13.226Z"
      },
      {
        "duration": 395,
        "start_time": "2024-01-13T10:49:13.471Z"
      },
      {
        "duration": 30,
        "start_time": "2024-01-13T10:49:13.868Z"
      },
      {
        "duration": 32,
        "start_time": "2024-01-13T10:49:13.900Z"
      },
      {
        "duration": 5328,
        "start_time": "2024-01-13T10:49:13.934Z"
      },
      {
        "duration": 21,
        "start_time": "2024-01-13T10:49:19.264Z"
      },
      {
        "duration": 93,
        "start_time": "2024-01-13T10:49:19.286Z"
      },
      {
        "duration": 177,
        "start_time": "2024-01-13T10:49:19.381Z"
      },
      {
        "duration": 11,
        "start_time": "2024-01-13T10:49:19.560Z"
      },
      {
        "duration": 61,
        "start_time": "2024-01-13T10:49:19.572Z"
      },
      {
        "duration": 5,
        "start_time": "2024-01-13T10:49:19.635Z"
      },
      {
        "duration": 368,
        "start_time": "2024-01-13T10:49:19.642Z"
      },
      {
        "duration": 4,
        "start_time": "2024-01-13T10:52:38.581Z"
      },
      {
        "duration": 5254,
        "start_time": "2024-01-13T10:52:53.904Z"
      },
      {
        "duration": 6,
        "start_time": "2024-01-13T10:52:59.161Z"
      },
      {
        "duration": 17,
        "start_time": "2024-01-13T10:52:59.168Z"
      },
      {
        "duration": 1460,
        "start_time": "2024-01-13T10:52:59.187Z"
      },
      {
        "duration": 474,
        "start_time": "2024-01-13T10:53:00.649Z"
      },
      {
        "duration": 1046,
        "start_time": "2024-01-13T10:53:01.124Z"
      },
      {
        "duration": 159,
        "start_time": "2024-01-13T10:53:02.171Z"
      },
      {
        "duration": 369,
        "start_time": "2024-01-13T10:53:02.331Z"
      },
      {
        "duration": 1460,
        "start_time": "2024-01-13T10:53:02.702Z"
      },
      {
        "duration": 201,
        "start_time": "2024-01-13T10:53:04.165Z"
      },
      {
        "duration": 85,
        "start_time": "2024-01-13T10:53:04.368Z"
      },
      {
        "duration": 657,
        "start_time": "2024-01-13T10:53:04.454Z"
      },
      {
        "duration": 217,
        "start_time": "2024-01-13T10:53:05.121Z"
      },
      {
        "duration": 232,
        "start_time": "2024-01-13T10:53:05.339Z"
      },
      {
        "duration": 246,
        "start_time": "2024-01-13T10:53:05.573Z"
      },
      {
        "duration": 497,
        "start_time": "2024-01-13T10:53:05.822Z"
      },
      {
        "duration": 37,
        "start_time": "2024-01-13T10:53:06.320Z"
      },
      {
        "duration": 25,
        "start_time": "2024-01-13T10:53:06.358Z"
      },
      {
        "duration": 5226,
        "start_time": "2024-01-13T10:53:06.384Z"
      },
      {
        "duration": 27,
        "start_time": "2024-01-13T10:53:11.611Z"
      },
      {
        "duration": 119,
        "start_time": "2024-01-13T10:53:11.640Z"
      },
      {
        "duration": 165,
        "start_time": "2024-01-13T10:53:11.761Z"
      },
      {
        "duration": 11,
        "start_time": "2024-01-13T10:53:11.928Z"
      },
      {
        "duration": 84,
        "start_time": "2024-01-13T10:53:11.940Z"
      },
      {
        "duration": 6,
        "start_time": "2024-01-13T10:53:12.025Z"
      },
      {
        "duration": 367,
        "start_time": "2024-01-13T10:53:12.033Z"
      },
      {
        "duration": 32115,
        "start_time": "2024-01-13T10:54:17.668Z"
      },
      {
        "duration": 48539,
        "start_time": "2024-01-13T10:54:49.785Z"
      },
      {
        "duration": 14904,
        "start_time": "2024-01-13T10:55:38.327Z"
      },
      {
        "duration": 38504,
        "start_time": "2024-01-13T10:55:53.233Z"
      },
      {
        "duration": 184,
        "start_time": "2024-01-13T10:56:31.739Z"
      },
      {
        "duration": 38351,
        "start_time": "2024-01-13T10:56:38.102Z"
      },
      {
        "duration": 5243,
        "start_time": "2024-01-13T14:25:41.731Z"
      },
      {
        "duration": 5,
        "start_time": "2024-01-13T14:25:46.976Z"
      },
      {
        "duration": 11,
        "start_time": "2024-01-13T14:25:46.983Z"
      },
      {
        "duration": 1479,
        "start_time": "2024-01-13T14:25:46.996Z"
      },
      {
        "duration": 480,
        "start_time": "2024-01-13T14:25:48.477Z"
      },
      {
        "duration": 1001,
        "start_time": "2024-01-13T14:25:48.958Z"
      },
      {
        "duration": 161,
        "start_time": "2024-01-13T14:25:49.961Z"
      },
      {
        "duration": 347,
        "start_time": "2024-01-13T14:25:50.124Z"
      },
      {
        "duration": 1370,
        "start_time": "2024-01-13T14:25:50.473Z"
      },
      {
        "duration": 198,
        "start_time": "2024-01-13T14:25:51.846Z"
      },
      {
        "duration": 84,
        "start_time": "2024-01-13T14:25:52.046Z"
      },
      {
        "duration": 750,
        "start_time": "2024-01-13T14:25:52.132Z"
      },
      {
        "duration": 219,
        "start_time": "2024-01-13T14:25:52.883Z"
      },
      {
        "duration": 223,
        "start_time": "2024-01-13T14:25:53.104Z"
      },
      {
        "duration": 248,
        "start_time": "2024-01-13T14:25:53.329Z"
      },
      {
        "duration": 385,
        "start_time": "2024-01-13T14:25:53.579Z"
      },
      {
        "duration": 40,
        "start_time": "2024-01-13T14:25:53.965Z"
      },
      {
        "duration": 33,
        "start_time": "2024-01-13T14:25:54.007Z"
      },
      {
        "duration": 5306,
        "start_time": "2024-01-13T14:25:54.042Z"
      },
      {
        "duration": 22,
        "start_time": "2024-01-13T14:25:59.349Z"
      },
      {
        "duration": 93,
        "start_time": "2024-01-13T14:25:59.372Z"
      },
      {
        "duration": 179,
        "start_time": "2024-01-13T14:25:59.466Z"
      },
      {
        "duration": 9,
        "start_time": "2024-01-13T14:25:59.646Z"
      },
      {
        "duration": 65,
        "start_time": "2024-01-13T14:25:59.657Z"
      },
      {
        "duration": 6,
        "start_time": "2024-01-13T14:25:59.724Z"
      },
      {
        "duration": 335,
        "start_time": "2024-01-13T14:25:59.732Z"
      },
      {
        "duration": 31142,
        "start_time": "2024-01-13T14:26:00.069Z"
      },
      {
        "duration": 15018,
        "start_time": "2024-01-13T14:26:31.215Z"
      },
      {
        "duration": 15560,
        "start_time": "2024-01-13T14:26:46.235Z"
      },
      {
        "duration": 37213,
        "start_time": "2024-01-13T14:27:01.796Z"
      },
      {
        "duration": 213,
        "start_time": "2024-01-13T14:27:39.011Z"
      },
      {
        "duration": 6357,
        "start_time": "2024-01-13T14:27:39.227Z"
      },
      {
        "duration": 3355,
        "start_time": "2024-01-13T14:27:45.586Z"
      },
      {
        "duration": 4044,
        "start_time": "2024-01-13T14:27:48.943Z"
      },
      {
        "duration": 13072,
        "start_time": "2024-01-13T14:27:52.989Z"
      },
      {
        "duration": 23,
        "start_time": "2024-01-13T14:28:06.062Z"
      },
      {
        "duration": 184,
        "start_time": "2024-01-13T14:28:06.087Z"
      },
      {
        "duration": 358,
        "start_time": "2024-01-13T14:28:06.273Z"
      },
      {
        "duration": 25,
        "start_time": "2024-01-13T14:28:06.634Z"
      },
      {
        "duration": 461,
        "start_time": "2024-01-13T14:28:06.661Z"
      },
      {
        "duration": 15,
        "start_time": "2024-01-13T14:28:07.125Z"
      },
      {
        "duration": 262,
        "start_time": "2024-01-13T14:28:07.224Z"
      },
      {
        "duration": 5,
        "start_time": "2024-01-13T14:43:08.276Z"
      },
      {
        "duration": 37,
        "start_time": "2024-01-13T14:44:51.493Z"
      },
      {
        "duration": 6,
        "start_time": "2024-01-13T14:49:13.611Z"
      },
      {
        "duration": 10625,
        "start_time": "2024-01-13T14:59:03.548Z"
      },
      {
        "duration": 10467,
        "start_time": "2024-01-13T14:59:22.341Z"
      },
      {
        "duration": 1599,
        "start_time": "2024-01-13T14:59:32.810Z"
      },
      {
        "duration": 3,
        "start_time": "2024-01-13T14:59:34.411Z"
      },
      {
        "duration": 1612,
        "start_time": "2024-01-13T14:59:34.421Z"
      },
      {
        "duration": 512,
        "start_time": "2024-01-13T14:59:36.035Z"
      },
      {
        "duration": 1134,
        "start_time": "2024-01-13T14:59:36.549Z"
      },
      {
        "duration": 154,
        "start_time": "2024-01-13T14:59:37.684Z"
      },
      {
        "duration": 355,
        "start_time": "2024-01-13T14:59:37.839Z"
      },
      {
        "duration": 1492,
        "start_time": "2024-01-13T14:59:38.196Z"
      },
      {
        "duration": 204,
        "start_time": "2024-01-13T14:59:39.690Z"
      },
      {
        "duration": 82,
        "start_time": "2024-01-13T14:59:39.896Z"
      },
      {
        "duration": 653,
        "start_time": "2024-01-13T14:59:39.980Z"
      },
      {
        "duration": 227,
        "start_time": "2024-01-13T14:59:40.635Z"
      },
      {
        "duration": 321,
        "start_time": "2024-01-13T14:59:40.864Z"
      },
      {
        "duration": 246,
        "start_time": "2024-01-13T14:59:41.187Z"
      },
      {
        "duration": 481,
        "start_time": "2024-01-13T14:59:41.435Z"
      },
      {
        "duration": 34,
        "start_time": "2024-01-13T14:59:41.917Z"
      },
      {
        "duration": 23,
        "start_time": "2024-01-13T14:59:41.953Z"
      },
      {
        "duration": 5222,
        "start_time": "2024-01-13T14:59:41.978Z"
      },
      {
        "duration": 26,
        "start_time": "2024-01-13T14:59:47.202Z"
      },
      {
        "duration": 77,
        "start_time": "2024-01-13T14:59:47.230Z"
      },
      {
        "duration": 180,
        "start_time": "2024-01-13T14:59:47.309Z"
      },
      {
        "duration": 8,
        "start_time": "2024-01-13T14:59:47.490Z"
      },
      {
        "duration": 83,
        "start_time": "2024-01-13T14:59:47.500Z"
      },
      {
        "duration": 5,
        "start_time": "2024-01-13T14:59:47.585Z"
      },
      {
        "duration": 349,
        "start_time": "2024-01-13T14:59:47.592Z"
      },
      {
        "duration": 32349,
        "start_time": "2024-01-13T14:59:47.943Z"
      },
      {
        "duration": 15839,
        "start_time": "2024-01-13T15:00:20.296Z"
      },
      {
        "duration": 15767,
        "start_time": "2024-01-13T15:00:36.137Z"
      },
      {
        "duration": 38486,
        "start_time": "2024-01-13T15:00:51.905Z"
      },
      {
        "duration": 129,
        "start_time": "2024-01-13T15:01:30.393Z"
      },
      {
        "duration": 6540,
        "start_time": "2024-01-13T15:01:30.528Z"
      },
      {
        "duration": 3270,
        "start_time": "2024-01-13T15:01:37.069Z"
      },
      {
        "duration": 4361,
        "start_time": "2024-01-13T15:01:40.341Z"
      },
      {
        "duration": 13330,
        "start_time": "2024-01-13T15:01:44.703Z"
      },
      {
        "duration": 22,
        "start_time": "2024-01-13T15:01:58.035Z"
      },
      {
        "duration": 205,
        "start_time": "2024-01-13T15:01:58.059Z"
      },
      {
        "duration": 359,
        "start_time": "2024-01-13T15:01:58.266Z"
      },
      {
        "duration": 25,
        "start_time": "2024-01-13T15:01:58.627Z"
      },
      {
        "duration": 474,
        "start_time": "2024-01-13T15:01:58.654Z"
      },
      {
        "duration": 10,
        "start_time": "2024-01-13T15:01:59.130Z"
      },
      {
        "duration": 351,
        "start_time": "2024-01-13T15:01:59.142Z"
      },
      {
        "duration": 36,
        "start_time": "2024-01-13T15:01:59.495Z"
      },
      {
        "duration": 8,
        "start_time": "2024-01-13T15:01:59.532Z"
      },
      {
        "duration": 10446,
        "start_time": "2024-01-14T16:34:37.421Z"
      },
      {
        "duration": 1716,
        "start_time": "2024-01-14T16:34:47.869Z"
      },
      {
        "duration": 2,
        "start_time": "2024-01-14T16:34:49.587Z"
      },
      {
        "duration": 1654,
        "start_time": "2024-01-14T16:34:49.591Z"
      },
      {
        "duration": 459,
        "start_time": "2024-01-14T16:34:51.247Z"
      },
      {
        "duration": 960,
        "start_time": "2024-01-14T16:34:51.707Z"
      },
      {
        "duration": 142,
        "start_time": "2024-01-14T16:34:52.669Z"
      },
      {
        "duration": 329,
        "start_time": "2024-01-14T16:34:52.813Z"
      },
      {
        "duration": 1288,
        "start_time": "2024-01-14T16:34:53.143Z"
      },
      {
        "duration": 175,
        "start_time": "2024-01-14T16:34:54.434Z"
      },
      {
        "duration": 79,
        "start_time": "2024-01-14T16:34:54.611Z"
      },
      {
        "duration": 571,
        "start_time": "2024-01-14T16:34:54.692Z"
      },
      {
        "duration": 200,
        "start_time": "2024-01-14T16:34:55.265Z"
      },
      {
        "duration": 272,
        "start_time": "2024-01-14T16:34:55.467Z"
      },
      {
        "duration": 340,
        "start_time": "2024-01-14T16:34:55.740Z"
      },
      {
        "duration": 329,
        "start_time": "2024-01-14T16:34:56.082Z"
      },
      {
        "duration": 29,
        "start_time": "2024-01-14T16:34:56.412Z"
      },
      {
        "duration": 37,
        "start_time": "2024-01-14T16:34:56.443Z"
      },
      {
        "duration": 4919,
        "start_time": "2024-01-14T16:34:56.481Z"
      },
      {
        "duration": 19,
        "start_time": "2024-01-14T16:35:01.402Z"
      },
      {
        "duration": 80,
        "start_time": "2024-01-15T09:06:46.603Z"
      },
      {
        "duration": 1036,
        "start_time": "2024-01-15T09:06:54.288Z"
      },
      {
        "duration": 10,
        "start_time": "2024-01-15T09:07:01.125Z"
      },
      {
        "duration": 10628,
        "start_time": "2024-01-15T09:07:15.792Z"
      },
      {
        "duration": 1254,
        "start_time": "2024-01-15T09:07:26.422Z"
      },
      {
        "duration": 2,
        "start_time": "2024-01-15T09:07:27.678Z"
      },
      {
        "duration": 52,
        "start_time": "2024-01-15T09:45:29.329Z"
      },
      {
        "duration": 9593,
        "start_time": "2024-01-15T09:45:35.861Z"
      },
      {
        "duration": 4,
        "start_time": "2024-01-15T09:45:45.456Z"
      },
      {
        "duration": 5,
        "start_time": "2024-01-15T09:45:45.462Z"
      },
      {
        "duration": 1675,
        "start_time": "2024-01-15T09:45:45.469Z"
      },
      {
        "duration": 462,
        "start_time": "2024-01-15T09:45:47.146Z"
      },
      {
        "duration": 1017,
        "start_time": "2024-01-15T09:45:47.609Z"
      },
      {
        "duration": 146,
        "start_time": "2024-01-15T09:45:48.627Z"
      },
      {
        "duration": 304,
        "start_time": "2024-01-15T09:45:48.775Z"
      },
      {
        "duration": 1305,
        "start_time": "2024-01-15T09:45:49.081Z"
      },
      {
        "duration": 157,
        "start_time": "2024-01-15T09:45:50.389Z"
      },
      {
        "duration": 99,
        "start_time": "2024-01-15T09:45:50.547Z"
      },
      {
        "duration": 575,
        "start_time": "2024-01-15T09:45:50.648Z"
      },
      {
        "duration": 183,
        "start_time": "2024-01-15T09:45:51.225Z"
      },
      {
        "duration": 294,
        "start_time": "2024-01-15T09:45:51.410Z"
      },
      {
        "duration": 309,
        "start_time": "2024-01-15T09:45:51.706Z"
      },
      {
        "duration": 340,
        "start_time": "2024-01-15T09:45:52.017Z"
      },
      {
        "duration": 37,
        "start_time": "2024-01-15T09:45:52.365Z"
      },
      {
        "duration": 24,
        "start_time": "2024-01-15T09:45:52.404Z"
      },
      {
        "duration": 4908,
        "start_time": "2024-01-15T09:45:52.430Z"
      },
      {
        "duration": 27,
        "start_time": "2024-01-15T09:45:57.339Z"
      },
      {
        "duration": 76,
        "start_time": "2024-01-15T09:45:57.367Z"
      },
      {
        "duration": 163,
        "start_time": "2024-01-15T09:45:57.445Z"
      },
      {
        "duration": 7,
        "start_time": "2024-01-15T09:45:57.610Z"
      },
      {
        "duration": 65,
        "start_time": "2024-01-15T09:45:57.618Z"
      },
      {
        "duration": 4,
        "start_time": "2024-01-15T09:45:57.685Z"
      },
      {
        "duration": 215,
        "start_time": "2024-01-15T09:45:57.691Z"
      },
      {
        "duration": 200,
        "start_time": "2024-01-15T09:56:17.785Z"
      },
      {
        "duration": 11,
        "start_time": "2024-01-15T09:59:06.558Z"
      },
      {
        "duration": 10,
        "start_time": "2024-01-15T09:59:30.106Z"
      },
      {
        "duration": 10,
        "start_time": "2024-01-15T09:59:36.154Z"
      },
      {
        "duration": 182,
        "start_time": "2024-01-15T10:00:02.969Z"
      },
      {
        "duration": 9,
        "start_time": "2024-01-15T10:00:12.094Z"
      },
      {
        "duration": 9763,
        "start_time": "2024-01-15T19:21:47.458Z"
      },
      {
        "duration": 1703,
        "start_time": "2024-01-15T19:21:57.223Z"
      },
      {
        "duration": 4,
        "start_time": "2024-01-15T19:21:58.927Z"
      },
      {
        "duration": 1606,
        "start_time": "2024-01-15T19:21:58.933Z"
      },
      {
        "duration": 523,
        "start_time": "2024-01-15T19:22:00.540Z"
      },
      {
        "duration": 1073,
        "start_time": "2024-01-15T19:22:01.064Z"
      },
      {
        "duration": 142,
        "start_time": "2024-01-15T19:22:02.139Z"
      },
      {
        "duration": 338,
        "start_time": "2024-01-15T19:22:02.283Z"
      },
      {
        "duration": 1258,
        "start_time": "2024-01-15T19:22:02.623Z"
      },
      {
        "duration": 170,
        "start_time": "2024-01-15T19:22:03.884Z"
      },
      {
        "duration": 73,
        "start_time": "2024-01-15T19:22:04.055Z"
      },
      {
        "duration": 640,
        "start_time": "2024-01-15T19:22:04.130Z"
      },
      {
        "duration": 179,
        "start_time": "2024-01-15T19:22:04.772Z"
      },
      {
        "duration": 258,
        "start_time": "2024-01-15T19:22:04.953Z"
      },
      {
        "duration": 294,
        "start_time": "2024-01-15T19:22:05.212Z"
      },
      {
        "duration": 359,
        "start_time": "2024-01-15T19:22:05.507Z"
      },
      {
        "duration": 29,
        "start_time": "2024-01-15T19:22:05.867Z"
      },
      {
        "duration": 21,
        "start_time": "2024-01-15T19:22:05.897Z"
      },
      {
        "duration": 4600,
        "start_time": "2024-01-15T19:22:05.919Z"
      },
      {
        "duration": 23,
        "start_time": "2024-01-15T19:22:10.521Z"
      },
      {
        "duration": 75,
        "start_time": "2024-01-15T19:22:10.545Z"
      },
      {
        "duration": 150,
        "start_time": "2024-01-15T19:22:10.621Z"
      },
      {
        "duration": 7,
        "start_time": "2024-01-15T19:22:10.772Z"
      },
      {
        "duration": 67,
        "start_time": "2024-01-15T19:22:10.780Z"
      },
      {
        "duration": 5,
        "start_time": "2024-01-15T19:22:10.849Z"
      },
      {
        "duration": 323,
        "start_time": "2024-01-15T19:24:55.622Z"
      },
      {
        "duration": 188,
        "start_time": "2024-01-15T19:25:13.146Z"
      },
      {
        "duration": 9056,
        "start_time": "2024-01-15T19:26:29.617Z"
      },
      {
        "duration": 7,
        "start_time": "2024-01-15T19:26:38.675Z"
      },
      {
        "duration": 14,
        "start_time": "2024-01-15T19:26:38.683Z"
      },
      {
        "duration": 1340,
        "start_time": "2024-01-15T19:26:38.699Z"
      },
      {
        "duration": 376,
        "start_time": "2024-01-15T19:26:40.041Z"
      },
      {
        "duration": 868,
        "start_time": "2024-01-15T19:26:40.419Z"
      },
      {
        "duration": 135,
        "start_time": "2024-01-15T19:26:41.289Z"
      },
      {
        "duration": 298,
        "start_time": "2024-01-15T19:26:41.426Z"
      },
      {
        "duration": 1257,
        "start_time": "2024-01-15T19:26:41.726Z"
      },
      {
        "duration": 185,
        "start_time": "2024-01-15T19:26:42.986Z"
      },
      {
        "duration": 79,
        "start_time": "2024-01-15T19:26:43.172Z"
      },
      {
        "duration": 520,
        "start_time": "2024-01-15T19:26:43.253Z"
      },
      {
        "duration": 199,
        "start_time": "2024-01-15T19:26:43.776Z"
      },
      {
        "duration": 204,
        "start_time": "2024-01-15T19:26:43.976Z"
      },
      {
        "duration": 224,
        "start_time": "2024-01-15T19:26:44.181Z"
      },
      {
        "duration": 312,
        "start_time": "2024-01-15T19:26:44.407Z"
      },
      {
        "duration": 38,
        "start_time": "2024-01-15T19:26:44.721Z"
      },
      {
        "duration": 22,
        "start_time": "2024-01-15T19:26:44.761Z"
      },
      {
        "duration": 4575,
        "start_time": "2024-01-15T19:26:44.784Z"
      },
      {
        "duration": 17,
        "start_time": "2024-01-15T19:26:49.360Z"
      },
      {
        "duration": 81,
        "start_time": "2024-01-15T19:26:49.379Z"
      },
      {
        "duration": 151,
        "start_time": "2024-01-15T19:26:49.461Z"
      },
      {
        "duration": 8,
        "start_time": "2024-01-15T19:26:49.613Z"
      },
      {
        "duration": 60,
        "start_time": "2024-01-15T19:26:49.622Z"
      },
      {
        "duration": 4,
        "start_time": "2024-01-15T19:26:49.684Z"
      },
      {
        "duration": 6069,
        "start_time": "2024-01-15T19:26:49.689Z"
      },
      {
        "duration": 8903,
        "start_time": "2024-01-15T19:27:20.772Z"
      },
      {
        "duration": 4,
        "start_time": "2024-01-15T19:27:29.678Z"
      },
      {
        "duration": 8,
        "start_time": "2024-01-15T19:27:29.684Z"
      },
      {
        "duration": 1263,
        "start_time": "2024-01-15T19:27:29.695Z"
      },
      {
        "duration": 405,
        "start_time": "2024-01-15T19:27:30.960Z"
      },
      {
        "duration": 842,
        "start_time": "2024-01-15T19:27:31.366Z"
      },
      {
        "duration": 133,
        "start_time": "2024-01-15T19:27:32.210Z"
      },
      {
        "duration": 276,
        "start_time": "2024-01-15T19:27:32.344Z"
      },
      {
        "duration": 1265,
        "start_time": "2024-01-15T19:27:32.621Z"
      },
      {
        "duration": 130,
        "start_time": "2024-01-15T19:27:33.888Z"
      },
      {
        "duration": 80,
        "start_time": "2024-01-15T19:27:34.019Z"
      },
      {
        "duration": 543,
        "start_time": "2024-01-15T19:27:34.100Z"
      },
      {
        "duration": 188,
        "start_time": "2024-01-15T19:27:34.644Z"
      },
      {
        "duration": 187,
        "start_time": "2024-01-15T19:27:34.833Z"
      },
      {
        "duration": 200,
        "start_time": "2024-01-15T19:27:35.021Z"
      },
      {
        "duration": 345,
        "start_time": "2024-01-15T19:27:35.222Z"
      },
      {
        "duration": 29,
        "start_time": "2024-01-15T19:27:35.568Z"
      },
      {
        "duration": 25,
        "start_time": "2024-01-15T19:27:35.599Z"
      },
      {
        "duration": 4553,
        "start_time": "2024-01-15T19:27:35.642Z"
      },
      {
        "duration": 16,
        "start_time": "2024-01-15T19:27:40.197Z"
      },
      {
        "duration": 93,
        "start_time": "2024-01-15T19:27:40.215Z"
      },
      {
        "duration": 139,
        "start_time": "2024-01-15T19:27:40.309Z"
      },
      {
        "duration": 9,
        "start_time": "2024-01-15T19:27:40.450Z"
      },
      {
        "duration": 118,
        "start_time": "2024-01-15T19:27:40.461Z"
      },
      {
        "duration": 5,
        "start_time": "2024-01-15T19:27:40.580Z"
      },
      {
        "duration": 308,
        "start_time": "2024-01-15T19:27:40.586Z"
      },
      {
        "duration": 20413,
        "start_time": "2024-01-15T19:28:14.332Z"
      },
      {
        "duration": 44,
        "start_time": "2024-01-15T19:37:56.868Z"
      },
      {
        "duration": 26,
        "start_time": "2024-01-15T19:38:15.345Z"
      },
      {
        "duration": 25,
        "start_time": "2024-01-15T19:38:32.990Z"
      },
      {
        "duration": 10,
        "start_time": "2024-01-15T19:39:24.495Z"
      },
      {
        "duration": 5,
        "start_time": "2024-01-15T19:39:54.025Z"
      },
      {
        "duration": 21,
        "start_time": "2024-01-15T19:41:24.402Z"
      },
      {
        "duration": 25,
        "start_time": "2024-01-15T19:41:37.280Z"
      },
      {
        "duration": 17,
        "start_time": "2024-01-15T19:42:59.586Z"
      },
      {
        "duration": 10,
        "start_time": "2024-01-15T19:43:19.706Z"
      },
      {
        "duration": 13,
        "start_time": "2024-01-15T19:44:14.534Z"
      },
      {
        "duration": 16,
        "start_time": "2024-01-15T19:44:26.499Z"
      },
      {
        "duration": 13,
        "start_time": "2024-01-15T19:44:39.582Z"
      },
      {
        "duration": 12,
        "start_time": "2024-01-15T19:45:11.284Z"
      },
      {
        "duration": 12,
        "start_time": "2024-01-15T19:45:18.013Z"
      },
      {
        "duration": 16,
        "start_time": "2024-01-15T19:45:30.361Z"
      },
      {
        "duration": 20,
        "start_time": "2024-01-15T19:46:24.938Z"
      },
      {
        "duration": 20,
        "start_time": "2024-01-15T19:46:36.794Z"
      },
      {
        "duration": 20,
        "start_time": "2024-01-15T19:46:47.095Z"
      },
      {
        "duration": 14,
        "start_time": "2024-01-15T19:47:46.294Z"
      },
      {
        "duration": 31,
        "start_time": "2024-01-15T19:48:12.139Z"
      },
      {
        "duration": 12,
        "start_time": "2024-01-15T19:48:41.304Z"
      },
      {
        "duration": 272,
        "start_time": "2024-01-15T19:48:54.925Z"
      },
      {
        "duration": 8943,
        "start_time": "2024-01-15T19:52:40.783Z"
      },
      {
        "duration": 1476,
        "start_time": "2024-01-15T19:52:49.728Z"
      },
      {
        "duration": 3,
        "start_time": "2024-01-15T19:52:51.206Z"
      },
      {
        "duration": 1396,
        "start_time": "2024-01-15T19:52:51.210Z"
      },
      {
        "duration": 490,
        "start_time": "2024-01-15T19:52:52.608Z"
      },
      {
        "duration": 1043,
        "start_time": "2024-01-15T19:52:53.100Z"
      },
      {
        "duration": 137,
        "start_time": "2024-01-15T19:52:54.145Z"
      },
      {
        "duration": 340,
        "start_time": "2024-01-15T19:52:54.284Z"
      },
      {
        "duration": 1241,
        "start_time": "2024-01-15T19:52:54.626Z"
      },
      {
        "duration": 195,
        "start_time": "2024-01-15T19:52:55.869Z"
      },
      {
        "duration": 76,
        "start_time": "2024-01-15T19:52:56.066Z"
      },
      {
        "duration": 550,
        "start_time": "2024-01-15T19:52:56.144Z"
      },
      {
        "duration": 190,
        "start_time": "2024-01-15T19:52:56.696Z"
      },
      {
        "duration": 269,
        "start_time": "2024-01-15T19:52:56.888Z"
      },
      {
        "duration": 208,
        "start_time": "2024-01-15T19:52:57.158Z"
      },
      {
        "duration": 438,
        "start_time": "2024-01-15T19:52:57.368Z"
      },
      {
        "duration": 38,
        "start_time": "2024-01-15T19:52:57.807Z"
      },
      {
        "duration": 22,
        "start_time": "2024-01-15T19:52:57.847Z"
      },
      {
        "duration": 4755,
        "start_time": "2024-01-15T19:52:57.871Z"
      },
      {
        "duration": 23,
        "start_time": "2024-01-15T19:53:02.627Z"
      },
      {
        "duration": 69,
        "start_time": "2024-01-15T19:53:02.651Z"
      },
      {
        "duration": 160,
        "start_time": "2024-01-15T19:53:02.721Z"
      },
      {
        "duration": 7,
        "start_time": "2024-01-15T19:53:02.883Z"
      },
      {
        "duration": 75,
        "start_time": "2024-01-15T19:53:02.891Z"
      },
      {
        "duration": 5,
        "start_time": "2024-01-15T19:53:02.967Z"
      },
      {
        "duration": 193,
        "start_time": "2024-01-15T19:53:02.974Z"
      },
      {
        "duration": 274,
        "start_time": "2024-01-15T19:53:03.169Z"
      },
      {
        "duration": 121807,
        "start_time": "2024-01-15T19:53:03.446Z"
      },
      {
        "duration": 14397,
        "start_time": "2024-01-15T19:55:05.255Z"
      },
      {
        "duration": 13682,
        "start_time": "2024-01-15T19:55:19.654Z"
      },
      {
        "duration": 32104,
        "start_time": "2024-01-15T19:55:33.337Z"
      },
      {
        "duration": 22900,
        "start_time": "2024-01-15T19:56:05.442Z"
      },
      {
        "duration": 40975,
        "start_time": "2024-01-15T20:00:02.073Z"
      },
      {
        "duration": 3095,
        "start_time": "2024-01-15T20:00:43.049Z"
      },
      {
        "duration": 3416,
        "start_time": "2024-01-15T20:00:46.145Z"
      },
      {
        "duration": 11008,
        "start_time": "2024-01-15T20:00:49.563Z"
      },
      {
        "duration": 23,
        "start_time": "2024-01-15T20:01:00.572Z"
      },
      {
        "duration": 204,
        "start_time": "2024-01-15T20:03:02.268Z"
      },
      {
        "duration": 309,
        "start_time": "2024-01-15T20:03:05.250Z"
      },
      {
        "duration": 22,
        "start_time": "2024-01-15T20:03:13.954Z"
      },
      {
        "duration": 385,
        "start_time": "2024-01-15T20:03:26.365Z"
      },
      {
        "duration": 6,
        "start_time": "2024-01-15T20:03:58.669Z"
      },
      {
        "duration": 145,
        "start_time": "2024-01-15T20:04:43.352Z"
      },
      {
        "duration": 27,
        "start_time": "2024-01-15T20:06:17.472Z"
      },
      {
        "duration": 6,
        "start_time": "2024-01-15T20:06:25.362Z"
      },
      {
        "duration": 9039,
        "start_time": "2024-01-15T20:06:52.779Z"
      },
      {
        "duration": 1454,
        "start_time": "2024-01-15T20:07:01.820Z"
      },
      {
        "duration": 3,
        "start_time": "2024-01-15T20:07:03.275Z"
      },
      {
        "duration": 1327,
        "start_time": "2024-01-15T20:07:03.279Z"
      },
      {
        "duration": 431,
        "start_time": "2024-01-15T20:07:04.608Z"
      },
      {
        "duration": 979,
        "start_time": "2024-01-15T20:07:05.042Z"
      },
      {
        "duration": 125,
        "start_time": "2024-01-15T20:07:06.023Z"
      },
      {
        "duration": 325,
        "start_time": "2024-01-15T20:07:06.150Z"
      },
      {
        "duration": 1200,
        "start_time": "2024-01-15T20:07:06.476Z"
      },
      {
        "duration": 177,
        "start_time": "2024-01-15T20:07:07.678Z"
      },
      {
        "duration": 68,
        "start_time": "2024-01-15T20:07:07.856Z"
      },
      {
        "duration": 584,
        "start_time": "2024-01-15T20:07:07.926Z"
      },
      {
        "duration": 189,
        "start_time": "2024-01-15T20:07:08.512Z"
      },
      {
        "duration": 256,
        "start_time": "2024-01-15T20:07:08.702Z"
      },
      {
        "duration": 197,
        "start_time": "2024-01-15T20:07:08.959Z"
      },
      {
        "duration": 403,
        "start_time": "2024-01-15T20:07:09.157Z"
      },
      {
        "duration": 27,
        "start_time": "2024-01-15T20:07:09.562Z"
      },
      {
        "duration": 21,
        "start_time": "2024-01-15T20:07:09.590Z"
      },
      {
        "duration": 4776,
        "start_time": "2024-01-15T20:07:09.613Z"
      },
      {
        "duration": 21,
        "start_time": "2024-01-15T20:07:14.390Z"
      },
      {
        "duration": 81,
        "start_time": "2024-01-15T20:07:14.413Z"
      },
      {
        "duration": 142,
        "start_time": "2024-01-15T20:07:14.495Z"
      },
      {
        "duration": 7,
        "start_time": "2024-01-15T20:07:14.642Z"
      },
      {
        "duration": 59,
        "start_time": "2024-01-15T20:07:14.651Z"
      },
      {
        "duration": 4,
        "start_time": "2024-01-15T20:07:14.712Z"
      },
      {
        "duration": 211,
        "start_time": "2024-01-15T20:07:14.718Z"
      },
      {
        "duration": 257,
        "start_time": "2024-01-15T20:07:14.931Z"
      },
      {
        "duration": 106352,
        "start_time": "2024-01-15T20:07:15.191Z"
      },
      {
        "duration": 13303,
        "start_time": "2024-01-15T20:09:01.545Z"
      },
      {
        "duration": 16394,
        "start_time": "2024-01-15T20:09:14.849Z"
      },
      {
        "duration": 32049,
        "start_time": "2024-01-15T20:09:31.244Z"
      },
      {
        "duration": 22648,
        "start_time": "2024-01-15T20:10:03.295Z"
      },
      {
        "duration": 43880,
        "start_time": "2024-01-15T20:10:25.945Z"
      },
      {
        "duration": 2927,
        "start_time": "2024-01-15T20:11:09.827Z"
      },
      {
        "duration": 3535,
        "start_time": "2024-01-15T20:11:12.755Z"
      },
      {
        "duration": 11342,
        "start_time": "2024-01-15T20:11:16.292Z"
      },
      {
        "duration": 19,
        "start_time": "2024-01-15T20:11:27.635Z"
      },
      {
        "duration": 288,
        "start_time": "2024-01-15T20:11:27.655Z"
      },
      {
        "duration": 302,
        "start_time": "2024-01-15T20:11:27.945Z"
      },
      {
        "duration": 22,
        "start_time": "2024-01-15T20:11:28.248Z"
      },
      {
        "duration": 421,
        "start_time": "2024-01-15T20:11:28.272Z"
      },
      {
        "duration": 8,
        "start_time": "2024-01-15T20:11:28.695Z"
      },
      {
        "duration": 279,
        "start_time": "2024-01-15T20:11:28.704Z"
      },
      {
        "duration": 26,
        "start_time": "2024-01-15T20:11:28.985Z"
      },
      {
        "duration": 5,
        "start_time": "2024-01-15T20:11:29.012Z"
      }
    ],
    "kernelspec": {
      "display_name": "Python 3 (ipykernel)",
      "language": "python",
      "name": "python3"
    },
    "language_info": {
      "codemirror_mode": {
        "name": "ipython",
        "version": 3
      },
      "file_extension": ".py",
      "mimetype": "text/x-python",
      "name": "python",
      "nbconvert_exporter": "python",
      "pygments_lexer": "ipython3",
      "version": "3.9.5"
    },
    "toc": {
      "base_numbering": 1,
      "nav_menu": {
        "height": "216px",
        "width": "319px"
      },
      "number_sections": true,
      "sideBar": true,
      "skip_h1_title": true,
      "title_cell": "Table of Contents",
      "title_sidebar": "Contents",
      "toc_cell": false,
      "toc_position": {
        "height": "calc(100% - 180px)",
        "left": "10px",
        "top": "150px",
        "width": "336px"
      },
      "toc_section_display": true,
      "toc_window_display": true
    },
    "colab": {
      "provenance": []
    }
  },
  "nbformat": 4,
  "nbformat_minor": 0
}