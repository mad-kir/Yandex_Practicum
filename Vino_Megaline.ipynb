{
  "cells": [
    {
      "cell_type": "markdown",
      "metadata": {
        "id": "OUFF4TVgIfSz"
      },
      "source": [
        "# Рекомендация тарифов"
      ]
    },
    {
      "cell_type": "markdown",
      "metadata": {
        "id": "Hx6nI1i5IfS0"
      },
      "source": [
        "Оператор мобильной связи «Мегалайн» выяснил: многие клиенты пользуются архивными тарифами. Они хотят построить систему, способную проанализировать поведение клиентов и предложить пользователям новый тариф: «Смарт» или «Ультра».\n",
        "\n",
        "В нашем распоряжении данные о поведении клиентов, которые уже перешли на эти тарифы. Нужно построить модель для задачи классификации, которая выберет подходящий тариф. Предобработка данных уже была сделана заранее."
      ]
    },
    {
      "cell_type": "code",
      "execution_count": 1,
      "metadata": {
        "id": "ejB3yH2rIfS0"
      },
      "outputs": [],
      "source": [
        "#импорт библиотек\n",
        "import warnings\n",
        "warnings.filterwarnings('ignore')\n",
        "\n",
        "import pandas as pd\n",
        "\n",
        "from sklearn.model_selection import train_test_split\n",
        "from sklearn.metrics import accuracy_score\n",
        "\n",
        "from sklearn.tree import DecisionTreeClassifier\n",
        "from sklearn.ensemble import RandomForestClassifier\n",
        "from sklearn.linear_model import LogisticRegression"
      ]
    },
    {
      "cell_type": "markdown",
      "metadata": {
        "id": "2eulv2D7IfS2"
      },
      "source": [
        "## Ознакомление с данными\n",
        "\n",
        "Загружу предоставленный датасет и сохраню его в data."
      ]
    },
    {
      "cell_type": "code",
      "execution_count": 2,
      "metadata": {
        "scrolled": false,
        "colab": {
          "base_uri": "https://localhost:8080/",
          "height": 206
        },
        "id": "9bjRhD09IfS2",
        "outputId": "6889d101-395d-407b-b9ec-4b3cfcc8be32"
      },
      "outputs": [
        {
          "output_type": "execute_result",
          "data": {
            "text/plain": [
              "   calls  minutes  messages   mb_used  is_ultra\n",
              "0   40.0   311.90      83.0  19915.42         0\n",
              "1   85.0   516.75      56.0  22696.96         0\n",
              "2   77.0   467.66      86.0  21060.45         0\n",
              "3  106.0   745.53      81.0   8437.39         1\n",
              "4   66.0   418.74       1.0  14502.75         0"
            ],
            "text/html": [
              "\n",
              "  <div id=\"df-92bb3779-5338-454c-99ae-49d8cabadd45\" class=\"colab-df-container\">\n",
              "    <div>\n",
              "<style scoped>\n",
              "    .dataframe tbody tr th:only-of-type {\n",
              "        vertical-align: middle;\n",
              "    }\n",
              "\n",
              "    .dataframe tbody tr th {\n",
              "        vertical-align: top;\n",
              "    }\n",
              "\n",
              "    .dataframe thead th {\n",
              "        text-align: right;\n",
              "    }\n",
              "</style>\n",
              "<table border=\"1\" class=\"dataframe\">\n",
              "  <thead>\n",
              "    <tr style=\"text-align: right;\">\n",
              "      <th></th>\n",
              "      <th>calls</th>\n",
              "      <th>minutes</th>\n",
              "      <th>messages</th>\n",
              "      <th>mb_used</th>\n",
              "      <th>is_ultra</th>\n",
              "    </tr>\n",
              "  </thead>\n",
              "  <tbody>\n",
              "    <tr>\n",
              "      <th>0</th>\n",
              "      <td>40.0</td>\n",
              "      <td>311.90</td>\n",
              "      <td>83.0</td>\n",
              "      <td>19915.42</td>\n",
              "      <td>0</td>\n",
              "    </tr>\n",
              "    <tr>\n",
              "      <th>1</th>\n",
              "      <td>85.0</td>\n",
              "      <td>516.75</td>\n",
              "      <td>56.0</td>\n",
              "      <td>22696.96</td>\n",
              "      <td>0</td>\n",
              "    </tr>\n",
              "    <tr>\n",
              "      <th>2</th>\n",
              "      <td>77.0</td>\n",
              "      <td>467.66</td>\n",
              "      <td>86.0</td>\n",
              "      <td>21060.45</td>\n",
              "      <td>0</td>\n",
              "    </tr>\n",
              "    <tr>\n",
              "      <th>3</th>\n",
              "      <td>106.0</td>\n",
              "      <td>745.53</td>\n",
              "      <td>81.0</td>\n",
              "      <td>8437.39</td>\n",
              "      <td>1</td>\n",
              "    </tr>\n",
              "    <tr>\n",
              "      <th>4</th>\n",
              "      <td>66.0</td>\n",
              "      <td>418.74</td>\n",
              "      <td>1.0</td>\n",
              "      <td>14502.75</td>\n",
              "      <td>0</td>\n",
              "    </tr>\n",
              "  </tbody>\n",
              "</table>\n",
              "</div>\n",
              "    <div class=\"colab-df-buttons\">\n",
              "\n",
              "  <div class=\"colab-df-container\">\n",
              "    <button class=\"colab-df-convert\" onclick=\"convertToInteractive('df-92bb3779-5338-454c-99ae-49d8cabadd45')\"\n",
              "            title=\"Convert this dataframe to an interactive table.\"\n",
              "            style=\"display:none;\">\n",
              "\n",
              "  <svg xmlns=\"http://www.w3.org/2000/svg\" height=\"24px\" viewBox=\"0 -960 960 960\">\n",
              "    <path d=\"M120-120v-720h720v720H120Zm60-500h600v-160H180v160Zm220 220h160v-160H400v160Zm0 220h160v-160H400v160ZM180-400h160v-160H180v160Zm440 0h160v-160H620v160ZM180-180h160v-160H180v160Zm440 0h160v-160H620v160Z\"/>\n",
              "  </svg>\n",
              "    </button>\n",
              "\n",
              "  <style>\n",
              "    .colab-df-container {\n",
              "      display:flex;\n",
              "      gap: 12px;\n",
              "    }\n",
              "\n",
              "    .colab-df-convert {\n",
              "      background-color: #E8F0FE;\n",
              "      border: none;\n",
              "      border-radius: 50%;\n",
              "      cursor: pointer;\n",
              "      display: none;\n",
              "      fill: #1967D2;\n",
              "      height: 32px;\n",
              "      padding: 0 0 0 0;\n",
              "      width: 32px;\n",
              "    }\n",
              "\n",
              "    .colab-df-convert:hover {\n",
              "      background-color: #E2EBFA;\n",
              "      box-shadow: 0px 1px 2px rgba(60, 64, 67, 0.3), 0px 1px 3px 1px rgba(60, 64, 67, 0.15);\n",
              "      fill: #174EA6;\n",
              "    }\n",
              "\n",
              "    .colab-df-buttons div {\n",
              "      margin-bottom: 4px;\n",
              "    }\n",
              "\n",
              "    [theme=dark] .colab-df-convert {\n",
              "      background-color: #3B4455;\n",
              "      fill: #D2E3FC;\n",
              "    }\n",
              "\n",
              "    [theme=dark] .colab-df-convert:hover {\n",
              "      background-color: #434B5C;\n",
              "      box-shadow: 0px 1px 3px 1px rgba(0, 0, 0, 0.15);\n",
              "      filter: drop-shadow(0px 1px 2px rgba(0, 0, 0, 0.3));\n",
              "      fill: #FFFFFF;\n",
              "    }\n",
              "  </style>\n",
              "\n",
              "    <script>\n",
              "      const buttonEl =\n",
              "        document.querySelector('#df-92bb3779-5338-454c-99ae-49d8cabadd45 button.colab-df-convert');\n",
              "      buttonEl.style.display =\n",
              "        google.colab.kernel.accessAllowed ? 'block' : 'none';\n",
              "\n",
              "      async function convertToInteractive(key) {\n",
              "        const element = document.querySelector('#df-92bb3779-5338-454c-99ae-49d8cabadd45');\n",
              "        const dataTable =\n",
              "          await google.colab.kernel.invokeFunction('convertToInteractive',\n",
              "                                                    [key], {});\n",
              "        if (!dataTable) return;\n",
              "\n",
              "        const docLinkHtml = 'Like what you see? Visit the ' +\n",
              "          '<a target=\"_blank\" href=https://colab.research.google.com/notebooks/data_table.ipynb>data table notebook</a>'\n",
              "          + ' to learn more about interactive tables.';\n",
              "        element.innerHTML = '';\n",
              "        dataTable['output_type'] = 'display_data';\n",
              "        await google.colab.output.renderOutput(dataTable, element);\n",
              "        const docLink = document.createElement('div');\n",
              "        docLink.innerHTML = docLinkHtml;\n",
              "        element.appendChild(docLink);\n",
              "      }\n",
              "    </script>\n",
              "  </div>\n",
              "\n",
              "\n",
              "<div id=\"df-24f3f270-185b-4911-a34b-c196b67a790f\">\n",
              "  <button class=\"colab-df-quickchart\" onclick=\"quickchart('df-24f3f270-185b-4911-a34b-c196b67a790f')\"\n",
              "            title=\"Suggest charts\"\n",
              "            style=\"display:none;\">\n",
              "\n",
              "<svg xmlns=\"http://www.w3.org/2000/svg\" height=\"24px\"viewBox=\"0 0 24 24\"\n",
              "     width=\"24px\">\n",
              "    <g>\n",
              "        <path d=\"M19 3H5c-1.1 0-2 .9-2 2v14c0 1.1.9 2 2 2h14c1.1 0 2-.9 2-2V5c0-1.1-.9-2-2-2zM9 17H7v-7h2v7zm4 0h-2V7h2v10zm4 0h-2v-4h2v4z\"/>\n",
              "    </g>\n",
              "</svg>\n",
              "  </button>\n",
              "\n",
              "<style>\n",
              "  .colab-df-quickchart {\n",
              "      --bg-color: #E8F0FE;\n",
              "      --fill-color: #1967D2;\n",
              "      --hover-bg-color: #E2EBFA;\n",
              "      --hover-fill-color: #174EA6;\n",
              "      --disabled-fill-color: #AAA;\n",
              "      --disabled-bg-color: #DDD;\n",
              "  }\n",
              "\n",
              "  [theme=dark] .colab-df-quickchart {\n",
              "      --bg-color: #3B4455;\n",
              "      --fill-color: #D2E3FC;\n",
              "      --hover-bg-color: #434B5C;\n",
              "      --hover-fill-color: #FFFFFF;\n",
              "      --disabled-bg-color: #3B4455;\n",
              "      --disabled-fill-color: #666;\n",
              "  }\n",
              "\n",
              "  .colab-df-quickchart {\n",
              "    background-color: var(--bg-color);\n",
              "    border: none;\n",
              "    border-radius: 50%;\n",
              "    cursor: pointer;\n",
              "    display: none;\n",
              "    fill: var(--fill-color);\n",
              "    height: 32px;\n",
              "    padding: 0;\n",
              "    width: 32px;\n",
              "  }\n",
              "\n",
              "  .colab-df-quickchart:hover {\n",
              "    background-color: var(--hover-bg-color);\n",
              "    box-shadow: 0 1px 2px rgba(60, 64, 67, 0.3), 0 1px 3px 1px rgba(60, 64, 67, 0.15);\n",
              "    fill: var(--button-hover-fill-color);\n",
              "  }\n",
              "\n",
              "  .colab-df-quickchart-complete:disabled,\n",
              "  .colab-df-quickchart-complete:disabled:hover {\n",
              "    background-color: var(--disabled-bg-color);\n",
              "    fill: var(--disabled-fill-color);\n",
              "    box-shadow: none;\n",
              "  }\n",
              "\n",
              "  .colab-df-spinner {\n",
              "    border: 2px solid var(--fill-color);\n",
              "    border-color: transparent;\n",
              "    border-bottom-color: var(--fill-color);\n",
              "    animation:\n",
              "      spin 1s steps(1) infinite;\n",
              "  }\n",
              "\n",
              "  @keyframes spin {\n",
              "    0% {\n",
              "      border-color: transparent;\n",
              "      border-bottom-color: var(--fill-color);\n",
              "      border-left-color: var(--fill-color);\n",
              "    }\n",
              "    20% {\n",
              "      border-color: transparent;\n",
              "      border-left-color: var(--fill-color);\n",
              "      border-top-color: var(--fill-color);\n",
              "    }\n",
              "    30% {\n",
              "      border-color: transparent;\n",
              "      border-left-color: var(--fill-color);\n",
              "      border-top-color: var(--fill-color);\n",
              "      border-right-color: var(--fill-color);\n",
              "    }\n",
              "    40% {\n",
              "      border-color: transparent;\n",
              "      border-right-color: var(--fill-color);\n",
              "      border-top-color: var(--fill-color);\n",
              "    }\n",
              "    60% {\n",
              "      border-color: transparent;\n",
              "      border-right-color: var(--fill-color);\n",
              "    }\n",
              "    80% {\n",
              "      border-color: transparent;\n",
              "      border-right-color: var(--fill-color);\n",
              "      border-bottom-color: var(--fill-color);\n",
              "    }\n",
              "    90% {\n",
              "      border-color: transparent;\n",
              "      border-bottom-color: var(--fill-color);\n",
              "    }\n",
              "  }\n",
              "</style>\n",
              "\n",
              "  <script>\n",
              "    async function quickchart(key) {\n",
              "      const quickchartButtonEl =\n",
              "        document.querySelector('#' + key + ' button');\n",
              "      quickchartButtonEl.disabled = true;  // To prevent multiple clicks.\n",
              "      quickchartButtonEl.classList.add('colab-df-spinner');\n",
              "      try {\n",
              "        const charts = await google.colab.kernel.invokeFunction(\n",
              "            'suggestCharts', [key], {});\n",
              "      } catch (error) {\n",
              "        console.error('Error during call to suggestCharts:', error);\n",
              "      }\n",
              "      quickchartButtonEl.classList.remove('colab-df-spinner');\n",
              "      quickchartButtonEl.classList.add('colab-df-quickchart-complete');\n",
              "    }\n",
              "    (() => {\n",
              "      let quickchartButtonEl =\n",
              "        document.querySelector('#df-24f3f270-185b-4911-a34b-c196b67a790f button');\n",
              "      quickchartButtonEl.style.display =\n",
              "        google.colab.kernel.accessAllowed ? 'block' : 'none';\n",
              "    })();\n",
              "  </script>\n",
              "</div>\n",
              "    </div>\n",
              "  </div>\n"
            ],
            "application/vnd.google.colaboratory.intrinsic+json": {
              "type": "dataframe",
              "variable_name": "data",
              "summary": "{\n  \"name\": \"data\",\n  \"rows\": 3214,\n  \"fields\": [\n    {\n      \"column\": \"calls\",\n      \"properties\": {\n        \"dtype\": \"number\",\n        \"std\": 33.2363675474435,\n        \"min\": 0.0,\n        \"max\": 244.0,\n        \"num_unique_values\": 184,\n        \"samples\": [\n          49.0,\n          124.0,\n          157.0\n        ],\n        \"semantic_type\": \"\",\n        \"description\": \"\"\n      }\n    },\n    {\n      \"column\": \"minutes\",\n      \"properties\": {\n        \"dtype\": \"number\",\n        \"std\": 234.5698721733563,\n        \"min\": 0.0,\n        \"max\": 1632.0600000000004,\n        \"num_unique_values\": 3144,\n        \"samples\": [\n          277.24999999999994,\n          565.14,\n          604.3900000000001\n        ],\n        \"semantic_type\": \"\",\n        \"description\": \"\"\n      }\n    },\n    {\n      \"column\": \"messages\",\n      \"properties\": {\n        \"dtype\": \"number\",\n        \"std\": 36.14832557358982,\n        \"min\": 0.0,\n        \"max\": 224.0,\n        \"num_unique_values\": 180,\n        \"samples\": [\n          19.0,\n          46.0,\n          157.0\n        ],\n        \"semantic_type\": \"\",\n        \"description\": \"\"\n      }\n    },\n    {\n      \"column\": \"mb_used\",\n      \"properties\": {\n        \"dtype\": \"number\",\n        \"std\": 7570.968246251093,\n        \"min\": 0.0,\n        \"max\": 49745.73000000001,\n        \"num_unique_values\": 3203,\n        \"samples\": [\n          20974.219999999998,\n          19427.620000000003,\n          15080.13\n        ],\n        \"semantic_type\": \"\",\n        \"description\": \"\"\n      }\n    },\n    {\n      \"column\": \"is_ultra\",\n      \"properties\": {\n        \"dtype\": \"number\",\n        \"std\": 0,\n        \"min\": 0,\n        \"max\": 1,\n        \"num_unique_values\": 2,\n        \"samples\": [\n          1,\n          0\n        ],\n        \"semantic_type\": \"\",\n        \"description\": \"\"\n      }\n    }\n  ]\n}"
            }
          },
          "metadata": {},
          "execution_count": 2
        }
      ],
      "source": [
        "data = pd.read_csv('/datasets/users_behavior.csv')\n",
        "data.head()"
      ]
    },
    {
      "cell_type": "markdown",
      "metadata": {
        "id": "1mTvaPZFIfS4"
      },
      "source": [
        "У нас есть пять столбцов:\n",
        "\n",
        "- сalls — количество звонков;\n",
        "- minutes — суммарная длительность звонков в минутах;\n",
        "- messages — количество sms-сообщений;\n",
        "- mb_used — израсходованный интернет-трафик в Мб;\n",
        "- is_ultra — тариф: «Ультра» — 1, «Смарт» — 0.\n",
        "\n",
        "Все, кроме is_ultra являются вещественными, из них calls и messages выглядят как числа с плавающей точков, хотя фактически должны быть целочисленными. У нас не может быть 1,5 сообщения или звонка. Заменю в этих столбцах тип на int:"
      ]
    },
    {
      "cell_type": "code",
      "execution_count": 3,
      "metadata": {
        "scrolled": true,
        "colab": {
          "base_uri": "https://localhost:8080/"
        },
        "id": "fT5taO0mIfS4",
        "outputId": "7540d5d7-344b-4f07-f492-4e2085025fae"
      },
      "outputs": [
        {
          "output_type": "stream",
          "name": "stdout",
          "text": [
            "<class 'pandas.core.frame.DataFrame'>\n",
            "RangeIndex: 3214 entries, 0 to 3213\n",
            "Data columns (total 5 columns):\n",
            " #   Column    Non-Null Count  Dtype  \n",
            "---  ------    --------------  -----  \n",
            " 0   calls     3214 non-null   int64  \n",
            " 1   minutes   3214 non-null   float64\n",
            " 2   messages  3214 non-null   int64  \n",
            " 3   mb_used   3214 non-null   float64\n",
            " 4   is_ultra  3214 non-null   int64  \n",
            "dtypes: float64(2), int64(3)\n",
            "memory usage: 125.7 KB\n"
          ]
        }
      ],
      "source": [
        "data[['calls', 'messages']] = data[['calls', 'messages']].astype('int64')\n",
        "data.info()"
      ]
    },
    {
      "cell_type": "markdown",
      "metadata": {
        "id": "BO7dPOfIIfS5"
      },
      "source": [
        "Теперь оптимизирую хранение этих столбцов. Машинное обучение само по себе требует много вычислительной мощности для рассчётов и занимает много времени. Важно уменьшать объём занимаемых данных, если это возможно."
      ]
    },
    {
      "cell_type": "code",
      "execution_count": 4,
      "metadata": {
        "id": "fVoT8asXIfS5"
      },
      "outputs": [],
      "source": [
        "cols_to_float = ['minutes', 'mb_used']\n",
        "for col in cols_to_float:\n",
        "    data[col] = pd.to_numeric(data[col], downcast='float')"
      ]
    },
    {
      "cell_type": "code",
      "execution_count": 5,
      "metadata": {
        "colab": {
          "base_uri": "https://localhost:8080/"
        },
        "id": "AlSMaBnMIfS5",
        "outputId": "44bee830-eb81-49ad-e136-e48955e5e3ee"
      },
      "outputs": [
        {
          "output_type": "stream",
          "name": "stdout",
          "text": [
            "<class 'pandas.core.frame.DataFrame'>\n",
            "RangeIndex: 3214 entries, 0 to 3213\n",
            "Data columns (total 5 columns):\n",
            " #   Column    Non-Null Count  Dtype  \n",
            "---  ------    --------------  -----  \n",
            " 0   calls     3214 non-null   int16  \n",
            " 1   minutes   3214 non-null   float32\n",
            " 2   messages  3214 non-null   int16  \n",
            " 3   mb_used   3214 non-null   float64\n",
            " 4   is_ultra  3214 non-null   int8   \n",
            "dtypes: float32(1), float64(1), int16(2), int8(1)\n",
            "memory usage: 53.5 KB\n"
          ]
        }
      ],
      "source": [
        "cols_to_int = ['calls', 'messages', 'is_ultra']\n",
        "for col in cols_to_int:\n",
        "    data[col] = pd.to_numeric(data[col], downcast='integer')\n",
        "data.info()"
      ]
    },
    {
      "cell_type": "markdown",
      "metadata": {
        "id": "IzHe5wolIfS6"
      },
      "source": [
        "Понизив выделяемое под хранение численных данных пространство, я уменьшила использование памяти в три раза.\n",
        "\n",
        "На всякий случай, проверю наличие явных дубликатов и пропусков."
      ]
    },
    {
      "cell_type": "code",
      "execution_count": 6,
      "metadata": {
        "colab": {
          "base_uri": "https://localhost:8080/"
        },
        "id": "yEwxRIcdIfS6",
        "outputId": "f25d4c3b-a5ec-4480-e275-c2fd558bf481"
      },
      "outputs": [
        {
          "output_type": "execute_result",
          "data": {
            "text/plain": [
              "0"
            ]
          },
          "metadata": {},
          "execution_count": 6
        }
      ],
      "source": [
        "data.duplicated().sum()"
      ]
    },
    {
      "cell_type": "markdown",
      "metadata": {
        "id": "abMYVd9nIfS6"
      },
      "source": [
        "Дубликатов в данных нет, проверим пропуски."
      ]
    },
    {
      "cell_type": "code",
      "execution_count": 7,
      "metadata": {
        "colab": {
          "base_uri": "https://localhost:8080/"
        },
        "id": "lFWeCvGRIfS6",
        "outputId": "8cbae04a-c18d-4f41-b8ec-cd193046932a"
      },
      "outputs": [
        {
          "output_type": "execute_result",
          "data": {
            "text/plain": [
              "calls       0\n",
              "minutes     0\n",
              "messages    0\n",
              "mb_used     0\n",
              "is_ultra    0\n",
              "dtype: int64"
            ]
          },
          "metadata": {},
          "execution_count": 7
        }
      ],
      "source": [
        "data.isna().sum()"
      ]
    },
    {
      "cell_type": "markdown",
      "metadata": {
        "id": "m0xYMsWHIfS7"
      },
      "source": [
        "Пропусков также нет, датасет чист и готов к работе."
      ]
    },
    {
      "cell_type": "markdown",
      "metadata": {
        "id": "mb8wVuoYIfS7"
      },
      "source": [
        "### Промежуточный вывод\n",
        "\n",
        "В данном разделе я:\n",
        "- Импортировала и рассмотрела предложенный датасет;\n",
        "- Сменила формат с float на int в тех столбцах, где это имеет смысл;\n",
        "- Уменьшила занимаемую память в три раза;\n",
        "- Убедилась в отсутствии явных дубликатов и пропущенных значений."
      ]
    },
    {
      "cell_type": "markdown",
      "metadata": {
        "id": "vQtYM3RvIfS7"
      },
      "source": [
        "## Выборки"
      ]
    },
    {
      "cell_type": "markdown",
      "metadata": {
        "id": "PbZBHZj2IfS8"
      },
      "source": [
        "В данном разделе я выделю из исходного датасета обучающую, валидационную и тестовую выборки.\n",
        "\n",
        "Обучающая выборка используется для обучения, валидационная для проверки и корректировки в процессе подбора оптимальных гиперпараметров, а по тестовой я буду уже непосредственно проверять результат обучения."
      ]
    },
    {
      "cell_type": "code",
      "execution_count": 8,
      "metadata": {
        "id": "xBFgW_j8IfS8"
      },
      "outputs": [],
      "source": [
        "data_train_valid, data_test = train_test_split(data, test_size=0.2, random_state=12345) #Отделяем сперва 1/5 под тест.выборку"
      ]
    },
    {
      "cell_type": "code",
      "execution_count": 9,
      "metadata": {
        "colab": {
          "base_uri": "https://localhost:8080/"
        },
        "id": "iHjLrdMjIfS8",
        "outputId": "0de373a7-36a9-42ee-a537-571497f319a1"
      },
      "outputs": [
        {
          "output_type": "stream",
          "name": "stdout",
          "text": [
            "data_train shape: (1928, 5)\n",
            "data_valid shape: (643, 5)\n",
            "data_test shape: (643, 5)\n"
          ]
        }
      ],
      "source": [
        "data_train, data_valid = train_test_split(data_train_valid, test_size=0.25, random_state=12345)\n",
        "print('data_train shape:', data_train.shape) #1/5 от исходного сета под валидационную выборку и 3/5 под обучающую\n",
        "print('data_valid shape:', data_valid.shape)\n",
        "print('data_test shape:', data_test.shape)"
      ]
    },
    {
      "cell_type": "markdown",
      "metadata": {
        "id": "hckeyUiwIfS9"
      },
      "source": [
        "Я разделила исходный датасет на три новых: обучающий, валидационный и тестовый, в соотношении 3 : 1 : 1.\n",
        "\n",
        "Теперь выделю их features (параметры) и target (целевой параметр). Я буду учить модель определять целевой параметр по всем остальным."
      ]
    },
    {
      "cell_type": "code",
      "execution_count": 10,
      "metadata": {
        "id": "f4VLe9TaIfS9"
      },
      "outputs": [],
      "source": [
        "features_train = data_train.drop(['is_ultra'], axis=1)\n",
        "target_train = data_train['is_ultra']\n",
        "features_valid = data_valid.drop(['is_ultra'], axis=1)\n",
        "target_valid = data_valid['is_ultra']\n",
        "features_test = data_test.drop(['is_ultra'], axis=1)\n",
        "target_test = data_test['is_ultra']"
      ]
    },
    {
      "cell_type": "markdown",
      "metadata": {
        "id": "ELrmIy8EIfS-"
      },
      "source": [
        "### Промежуточный вывод\n",
        "\n",
        "В данном разделе я выделила обучающую, валидационную и тестовую выборки, а также разделила их на признаки, по которым будет идти проверка, и цель, которую в ходе проверки машина будет определять."
      ]
    },
    {
      "cell_type": "markdown",
      "metadata": {
        "id": "UTNsG13bIfS-"
      },
      "source": [
        "## Выбор модели"
      ]
    },
    {
      "cell_type": "markdown",
      "metadata": {
        "id": "YYbH8EakIfS-"
      },
      "source": [
        "В поставленной задаче сказано, что мне нужно построить модель для задачи классификации, которая будет предсказывать подходящий тариф: free или ultra, в зависимости от поведения пользователя.\n",
        "\n",
        "Переберу три варианта модели:\n",
        "- Решающее дерево (DecisionTreeClassifier);\n",
        "- Случайный лес (RandomForestClassifier);\n",
        "- Логическая регрессия (LogisticRegression)\n",
        "\n",
        "Я обучу все три и затем выберу ту, которая покажет наивысший показатель точности (accuracy)\n",
        "\n",
        "### Решающее дерево\n",
        "\n",
        "Начнём с самого простого — решающего дерева. В процессе обучения, дерево будет наращивать \"ветви\", в которых в зависимости от параметров будет выдавать 1 или 0, пока в конце концов не дойдёт до конечного решения.\n",
        "\n",
        "Метод DecisionTreeClassifier у меня принимает два параметра: random_state нужен для повторяемости результатов обучения, чтобы при каждом новом запуске кода я получала одни и те же ответы от модели, а mac_depth определяет максимальную глубину, которую может иметь дерево решений."
      ]
    },
    {
      "cell_type": "code",
      "execution_count": 11,
      "metadata": {
        "colab": {
          "base_uri": "https://localhost:8080/"
        },
        "id": "hdC4XvYZIfS-",
        "outputId": "8b6cf020-ad01-4e2b-f57f-2bf3c63173f9"
      },
      "outputs": [
        {
          "output_type": "stream",
          "name": "stdout",
          "text": [
            "Решающее дерево с глубиной  7 показало лучшую точность  0.7744945567651633\n"
          ]
        }
      ],
      "source": [
        "model_tree = None\n",
        "best_accuracy = 0\n",
        "best_depth = 0\n",
        "for depth in range(1, 11):\n",
        "    model = DecisionTreeClassifier(random_state=12345, max_depth=depth)\n",
        "    model.fit(features_train, target_train)\n",
        "    predictions_valid = model.predict(features_valid)\n",
        "    accuracy = accuracy_score(target_valid, predictions_valid)\n",
        "    if accuracy > best_accuracy:\n",
        "        model_tree = model\n",
        "        best_accuracy = accuracy\n",
        "        best_depth = depth\n",
        "\n",
        "print('Решающее дерево с глубиной ', best_depth, 'показало лучшую точность ', best_accuracy)"
      ]
    },
    {
      "cell_type": "markdown",
      "metadata": {
        "id": "OP7856J1IfS_"
      },
      "source": [
        "В ячейке выше я перебирала глубину дерева (количество итераций, за которое дерево даёт ответ) от 1 до 10, чтобы определить оптимальную глубину. Лучшее значение accuracy показало дерево с глубиной в 7 уровней, его точность составляет 0.77. Минимальная приемлемая точность у нас 0.75, так что это дерево подходит. И всё же, я наверняка могу получить лучший результат с другими моделями, так что рассмотрим и их тоже.\n",
        "\n",
        "### Случайный лес\n",
        "\n",
        "Случайный лес представляет собой набор из решающих деревьев, каждое из которых проводит рассчёт и даёт свой ответ, после чего все они методом голосования сводятся к среднему, на основе которого и решается конечный ответ всего леса. У случайного леса принцип действия, а следовательно и гиперпараметры схожи с таковыми у решающего дерева. Дополнительно я укажу только n_estimators, определяющий количество деревьев в лесу."
      ]
    },
    {
      "cell_type": "code",
      "execution_count": 12,
      "metadata": {
        "colab": {
          "base_uri": "https://localhost:8080/"
        },
        "id": "tNstUmRJIfTA",
        "outputId": "f5427dbc-67cf-4742-e35f-d5177a953e62"
      },
      "outputs": [
        {
          "output_type": "stream",
          "name": "stdout",
          "text": [
            "Случайный лес с количеством деревьев 50 и их глубиной 10 показал лучшую точность 0.7978227060653188\n"
          ]
        }
      ],
      "source": [
        "model_forest = None\n",
        "best_accuracy = 0\n",
        "best_est = 0\n",
        "best_depth = 0\n",
        "for est in range(10, 101, 10):\n",
        "    for depth in range (1, 11):\n",
        "        model = RandomForestClassifier(random_state=12345, n_estimators=est, max_depth=depth)\n",
        "        model.fit(features_train, target_train)\n",
        "        predictions_valid = model.predict(features_valid)\n",
        "        accuracy = accuracy_score(target_valid, predictions_valid)\n",
        "        if accuracy > best_accuracy:\n",
        "            model_forest = model\n",
        "            best_accuracy = accuracy\n",
        "            best_est = est\n",
        "            best_depth = depth\n",
        "\n",
        "print ('Случайный лес с количеством деревьев', best_est, 'и их глубиной', best_depth, 'показал лучшую точность', best_accuracy)"
      ]
    },
    {
      "cell_type": "markdown",
      "metadata": {
        "id": "qLroR8lEIfTB"
      },
      "source": [
        "В ячейке выше я перебираю несколько \"лесов\", с количеством деревьев от 10 до 100 с шагом в 10. Из них, самую высокую точность показал лес с количеством деревьев 50, глубиной 10. Точность получилась почти 0.8, что значительно выше, чем у одинокого решающего дерева.\n",
        "\n",
        "### Логическая регрессия\n",
        "\n",
        "Теперь рассмотрю модель логической регрессии. Она рассматривает каждый объект в зависимости от его расстояния до центра классов (в нашем случае классов два: ultra и free) и, смотря к какому из классов объект ближе, выдаёт ответ. Гиперпараметр max_iter определяет лимит итераций, которые мы разрешаем сделать модели в ходе вычисления ответа."
      ]
    },
    {
      "cell_type": "code",
      "execution_count": 13,
      "metadata": {
        "colab": {
          "base_uri": "https://localhost:8080/"
        },
        "id": "utAtuS4yIfTC",
        "outputId": "eb34508d-a5e1-41a0-de68-1051fca1724a"
      },
      "outputs": [
        {
          "output_type": "stream",
          "name": "stdout",
          "text": [
            "Логическая регрессия показала точность  0.7262830482115086\n"
          ]
        }
      ],
      "source": [
        "model_reg = LogisticRegression(random_state=12345, max_iter=1000)\n",
        "model_reg.fit(features_train, target_train)\n",
        "predictions_valid = model_reg.predict(features_valid)\n",
        "accuracy = accuracy_score(target_valid, predictions_valid)\n",
        "print('Логическая регрессия показала точность ', accuracy)"
      ]
    },
    {
      "cell_type": "markdown",
      "metadata": {
        "id": "J0DysFu5IfTC"
      },
      "source": [
        "Логическая регрессия — очень быстрая модель, не в сравнение с медленным и громоздким случайным лесом. Но в данном случае она показала самый низкий результат — всего 0.73 по сравнению с 0.77 и 0.8 для двух предыдущих. Это ниже, чем минимальная требуемая точность по заданию."
      ]
    },
    {
      "cell_type": "markdown",
      "metadata": {
        "id": "DO_QPzACIfTD"
      },
      "source": [
        "### Промежуточный вывод\n",
        "\n",
        "Самую низкую точность показала логическая регрессия, всего 0.73, что даже ниже требуемой 0.75. Оптимальный результат дало решающее дерево, её точность равно 0.77. Самое высокое значение точности у случайного леса с количеством деревьев 50 и их максимальной глубиной 10, его точность равна почти 0.8."
      ]
    },
    {
      "cell_type": "markdown",
      "metadata": {
        "id": "j7roHPDKIfTD"
      },
      "source": [
        "## Проверка модели"
      ]
    },
    {
      "cell_type": "markdown",
      "metadata": {
        "id": "zukR2mRzIfTD"
      },
      "source": [
        "Теперь, когда я выбрала подходящую модель, проверю её на тестовой выборке.\n",
        "\n",
        "В предыдущем разделе я обучила модель методом \"случайный лес\" и определили оптимальные гиперпараметры для неё. Воспользуюсь ею для предсказания значений столбца is_ultra для тесторовой выборки. После чего сравню результат с реальными значениями is_ultra и выведу на экран показатель accuracy."
      ]
    },
    {
      "cell_type": "code",
      "execution_count": 14,
      "metadata": {
        "colab": {
          "base_uri": "https://localhost:8080/"
        },
        "id": "d3ix_bt6IfTD",
        "outputId": "75e83a5d-522e-4d85-e58f-69b3e4f6a71b"
      },
      "outputs": [
        {
          "output_type": "stream",
          "name": "stdout",
          "text": [
            "Точность предсказаний по тестовой выборке равна 0.7993779160186625\n"
          ]
        }
      ],
      "source": [
        "model = RandomForestClassifier(random_state=12345, n_estimators=best_est, max_depth=best_depth)\n",
        "model.fit(features_train, target_train)\n",
        "predictions_test = model.predict(features_test)\n",
        "accuracy = accuracy_score(target_test, predictions_test)\n",
        "print ('Точность предсказаний по тестовой выборке равна', accuracy)"
      ]
    },
    {
      "cell_type": "markdown",
      "metadata": {
        "id": "LCgLRuHxIfTF"
      },
      "source": [
        "### Промежуточный вывод\n",
        "\n",
        "Модель показала точность по тестовой выборке даже чуть выше чем по валидационной: 0.799 против 0.798. Это вполне высокий результат, с учётом, что минимальное требование в точности у нас от 0.75."
      ]
    },
    {
      "cell_type": "markdown",
      "metadata": {
        "id": "s88qw0YWIfTG"
      },
      "source": [
        "## Вывод"
      ]
    },
    {
      "cell_type": "markdown",
      "metadata": {
        "id": "TH8SliUsIfTG"
      },
      "source": [
        "В данном проекте по машинному обучению задачей было построить модель для классификации пользователей по тарифам: ultra и free. Модель должна по поведению пользователя с точностью не ниже 75% определять, к какому из двух тарифов он относится.\n",
        "\n",
        "Для выполнения данной задачи я произвела следующие действия:\n",
        "- Оптимизировала хранимые данные в исходном датасете;\n",
        "- Выделила три выборки: обучающую, валидационную и тестовую;\n",
        "- Определила модель с наибольшим значением accuracy и обучила её;\n",
        "- Проверила обученную модель на тестовых данных.\n",
        "\n",
        "Используя \"случайный лес\" я обучила модель, которая в 80% случаев верно определяет, каким тарифом пользуется человек, исходя из его поведения. У \"леса\" низкая скорость работы из-за большого количества моделей внутри него, но поскольку для бизнеса главное — максимально высокая точность, это оказалось наиболее приемлемым вариантом."
      ]
    }
  ],
  "metadata": {
    "ExecuteTimeLog": [
      {
        "duration": 459,
        "start_time": "2023-11-16T11:44:50.135Z"
      },
      {
        "duration": 116,
        "start_time": "2023-11-16T11:45:06.191Z"
      },
      {
        "duration": 47,
        "start_time": "2023-11-16T11:45:11.617Z"
      },
      {
        "duration": 45,
        "start_time": "2023-11-16T11:45:45.669Z"
      },
      {
        "duration": 20,
        "start_time": "2023-11-16T11:45:46.833Z"
      },
      {
        "duration": 7,
        "start_time": "2023-11-16T11:46:02.010Z"
      },
      {
        "duration": 7,
        "start_time": "2023-11-16T11:47:19.717Z"
      },
      {
        "duration": 2,
        "start_time": "2023-11-16T12:07:27.123Z"
      },
      {
        "duration": 1709,
        "start_time": "2023-11-16T12:14:14.246Z"
      },
      {
        "duration": 15,
        "start_time": "2023-11-16T12:14:47.557Z"
      },
      {
        "duration": 13,
        "start_time": "2023-11-16T12:14:53.171Z"
      },
      {
        "duration": 14,
        "start_time": "2023-11-16T12:14:58.625Z"
      },
      {
        "duration": 14,
        "start_time": "2023-11-16T12:15:09.672Z"
      },
      {
        "duration": 2,
        "start_time": "2023-11-16T12:15:15.413Z"
      },
      {
        "duration": 47,
        "start_time": "2023-11-16T12:15:15.444Z"
      },
      {
        "duration": 12,
        "start_time": "2023-11-16T12:15:15.493Z"
      },
      {
        "duration": 7,
        "start_time": "2023-11-16T12:15:15.537Z"
      },
      {
        "duration": 6,
        "start_time": "2023-11-16T12:15:15.608Z"
      },
      {
        "duration": 66,
        "start_time": "2023-11-17T08:45:49.208Z"
      },
      {
        "duration": 401,
        "start_time": "2023-11-17T08:45:53.312Z"
      },
      {
        "duration": 86,
        "start_time": "2023-11-17T08:45:53.715Z"
      },
      {
        "duration": 13,
        "start_time": "2023-11-17T08:45:53.803Z"
      },
      {
        "duration": 14,
        "start_time": "2023-11-17T08:45:53.818Z"
      },
      {
        "duration": 10,
        "start_time": "2023-11-17T08:45:53.833Z"
      },
      {
        "duration": 12,
        "start_time": "2023-11-17T08:45:53.845Z"
      },
      {
        "duration": 4,
        "start_time": "2023-11-17T08:46:27.553Z"
      },
      {
        "duration": 43,
        "start_time": "2023-11-17T08:47:33.948Z"
      },
      {
        "duration": 12,
        "start_time": "2023-11-17T08:47:45.430Z"
      },
      {
        "duration": 9,
        "start_time": "2023-11-17T09:03:10.682Z"
      },
      {
        "duration": 718,
        "start_time": "2023-11-17T09:03:17.123Z"
      },
      {
        "duration": 41,
        "start_time": "2023-11-17T09:03:17.843Z"
      },
      {
        "duration": 13,
        "start_time": "2023-11-17T09:03:17.886Z"
      },
      {
        "duration": 5,
        "start_time": "2023-11-17T09:03:17.901Z"
      },
      {
        "duration": 14,
        "start_time": "2023-11-17T09:03:17.908Z"
      },
      {
        "duration": 7,
        "start_time": "2023-11-17T09:03:17.924Z"
      },
      {
        "duration": 6,
        "start_time": "2023-11-17T09:03:17.933Z"
      },
      {
        "duration": 75,
        "start_time": "2023-11-17T09:03:17.941Z"
      },
      {
        "duration": 0,
        "start_time": "2023-11-17T09:03:18.018Z"
      },
      {
        "duration": 0,
        "start_time": "2023-11-17T09:03:18.019Z"
      },
      {
        "duration": 16,
        "start_time": "2023-11-17T09:05:01.620Z"
      },
      {
        "duration": 12,
        "start_time": "2023-11-17T09:05:05.021Z"
      },
      {
        "duration": 13,
        "start_time": "2023-11-17T09:07:10.735Z"
      },
      {
        "duration": 6,
        "start_time": "2023-11-17T09:08:10.361Z"
      },
      {
        "duration": 6,
        "start_time": "2023-11-17T09:08:39.391Z"
      },
      {
        "duration": 6,
        "start_time": "2023-11-17T09:08:51.820Z"
      },
      {
        "duration": 6,
        "start_time": "2023-11-17T09:08:52.542Z"
      },
      {
        "duration": 7,
        "start_time": "2023-11-17T09:11:00.150Z"
      },
      {
        "duration": 52,
        "start_time": "2023-11-17T09:48:04.263Z"
      },
      {
        "duration": 7,
        "start_time": "2023-11-17T09:53:06.741Z"
      },
      {
        "duration": 20,
        "start_time": "2023-11-17T09:58:22.362Z"
      },
      {
        "duration": 24,
        "start_time": "2023-11-17T09:58:27.863Z"
      },
      {
        "duration": 3,
        "start_time": "2023-11-17T09:58:42.044Z"
      },
      {
        "duration": 35,
        "start_time": "2023-11-17T09:58:45.107Z"
      },
      {
        "duration": 86,
        "start_time": "2023-11-17T09:58:58.933Z"
      },
      {
        "duration": 30,
        "start_time": "2023-11-17T09:59:02.013Z"
      },
      {
        "duration": 74,
        "start_time": "2023-11-17T09:59:48.161Z"
      },
      {
        "duration": 11,
        "start_time": "2023-11-17T10:12:42.560Z"
      },
      {
        "duration": 4123,
        "start_time": "2023-11-17T10:13:01.467Z"
      },
      {
        "duration": 4020,
        "start_time": "2023-11-17T10:13:19.260Z"
      },
      {
        "duration": 3980,
        "start_time": "2023-11-17T10:13:33.551Z"
      },
      {
        "duration": 66,
        "start_time": "2023-11-17T10:13:46.732Z"
      },
      {
        "duration": 4051,
        "start_time": "2023-11-17T10:13:50.029Z"
      },
      {
        "duration": 3992,
        "start_time": "2023-11-17T10:16:41.222Z"
      },
      {
        "duration": 3981,
        "start_time": "2023-11-17T10:17:45.583Z"
      },
      {
        "duration": 4059,
        "start_time": "2023-11-17T10:18:01.725Z"
      },
      {
        "duration": 14223,
        "start_time": "2023-11-17T10:18:18.726Z"
      },
      {
        "duration": 1618,
        "start_time": "2023-11-17T10:18:42.695Z"
      },
      {
        "duration": 14510,
        "start_time": "2023-11-17T10:18:54.668Z"
      },
      {
        "duration": 49,
        "start_time": "2023-11-17T10:26:41.344Z"
      },
      {
        "duration": 49,
        "start_time": "2023-11-17T10:27:34.881Z"
      },
      {
        "duration": 69,
        "start_time": "2023-11-17T10:27:45.512Z"
      },
      {
        "duration": 55,
        "start_time": "2023-11-17T10:27:58.072Z"
      },
      {
        "duration": 47,
        "start_time": "2023-11-17T10:28:01.187Z"
      },
      {
        "duration": 41,
        "start_time": "2023-11-17T10:28:05.921Z"
      },
      {
        "duration": 61,
        "start_time": "2023-11-17T10:28:08.488Z"
      },
      {
        "duration": 7436,
        "start_time": "2023-11-17T10:32:45.834Z"
      },
      {
        "duration": 10827,
        "start_time": "2023-11-17T10:33:01.338Z"
      },
      {
        "duration": 14571,
        "start_time": "2023-11-17T10:33:18.962Z"
      },
      {
        "duration": 69,
        "start_time": "2023-11-17T12:30:58.708Z"
      },
      {
        "duration": 14335,
        "start_time": "2023-11-17T12:31:51.769Z"
      },
      {
        "duration": 44,
        "start_time": "2023-11-17T12:32:06.112Z"
      },
      {
        "duration": 15548,
        "start_time": "2023-11-17T12:32:20.615Z"
      },
      {
        "duration": 35,
        "start_time": "2023-11-17T12:36:18.119Z"
      },
      {
        "duration": 27,
        "start_time": "2023-11-17T12:36:44.796Z"
      },
      {
        "duration": 28,
        "start_time": "2023-11-17T12:37:00.996Z"
      },
      {
        "duration": 16,
        "start_time": "2023-11-17T12:37:20.006Z"
      },
      {
        "duration": 52,
        "start_time": "2023-11-17T12:48:25.528Z"
      },
      {
        "duration": 49,
        "start_time": "2023-11-17T12:52:38.161Z"
      },
      {
        "duration": 41,
        "start_time": "2023-11-17T12:52:42.259Z"
      },
      {
        "duration": 38,
        "start_time": "2023-11-17T12:52:46.215Z"
      },
      {
        "duration": 40,
        "start_time": "2023-11-17T12:52:49.319Z"
      },
      {
        "duration": 198,
        "start_time": "2023-11-17T13:05:46.081Z"
      },
      {
        "duration": 982,
        "start_time": "2023-11-17T13:23:41.996Z"
      },
      {
        "duration": 82,
        "start_time": "2023-11-17T13:23:42.980Z"
      },
      {
        "duration": 12,
        "start_time": "2023-11-17T13:23:43.064Z"
      },
      {
        "duration": 4,
        "start_time": "2023-11-17T13:23:43.078Z"
      },
      {
        "duration": 53,
        "start_time": "2023-11-17T13:23:43.084Z"
      },
      {
        "duration": 25,
        "start_time": "2023-11-17T13:23:43.138Z"
      },
      {
        "duration": 39,
        "start_time": "2023-11-17T13:23:43.164Z"
      },
      {
        "duration": 28,
        "start_time": "2023-11-17T13:23:43.205Z"
      },
      {
        "duration": 9,
        "start_time": "2023-11-17T13:23:43.235Z"
      },
      {
        "duration": 12,
        "start_time": "2023-11-17T13:23:43.245Z"
      },
      {
        "duration": 106,
        "start_time": "2023-11-17T13:23:43.259Z"
      },
      {
        "duration": 15680,
        "start_time": "2023-11-17T13:23:43.367Z"
      },
      {
        "duration": 35,
        "start_time": "2023-11-17T13:23:59.050Z"
      },
      {
        "duration": 217,
        "start_time": "2023-11-17T13:23:59.099Z"
      },
      {
        "duration": 2670,
        "start_time": "2023-11-17T16:24:20.815Z"
      },
      {
        "duration": 130,
        "start_time": "2023-11-17T16:24:23.486Z"
      },
      {
        "duration": 12,
        "start_time": "2023-11-17T16:24:23.617Z"
      },
      {
        "duration": 16,
        "start_time": "2023-11-17T16:24:23.632Z"
      },
      {
        "duration": 27,
        "start_time": "2023-11-17T16:24:23.649Z"
      },
      {
        "duration": 8,
        "start_time": "2023-11-17T16:24:23.678Z"
      },
      {
        "duration": 11,
        "start_time": "2023-11-17T16:24:23.687Z"
      },
      {
        "duration": 30,
        "start_time": "2023-11-17T16:24:23.699Z"
      },
      {
        "duration": 31,
        "start_time": "2023-11-17T16:24:23.730Z"
      },
      {
        "duration": 16,
        "start_time": "2023-11-17T16:24:23.764Z"
      },
      {
        "duration": 86,
        "start_time": "2023-11-17T16:24:23.782Z"
      },
      {
        "duration": 14797,
        "start_time": "2023-11-17T16:24:23.874Z"
      },
      {
        "duration": 39,
        "start_time": "2023-11-17T16:24:38.673Z"
      },
      {
        "duration": 197,
        "start_time": "2023-11-17T16:24:38.714Z"
      }
    ],
    "kernelspec": {
      "display_name": "Python 3 (ipykernel)",
      "language": "python",
      "name": "python3"
    },
    "language_info": {
      "codemirror_mode": {
        "name": "ipython",
        "version": 3
      },
      "file_extension": ".py",
      "mimetype": "text/x-python",
      "name": "python",
      "nbconvert_exporter": "python",
      "pygments_lexer": "ipython3",
      "version": "3.9.5"
    },
    "toc": {
      "base_numbering": 1,
      "nav_menu": {},
      "number_sections": true,
      "sideBar": true,
      "skip_h1_title": true,
      "title_cell": "Table of Contents",
      "title_sidebar": "Contents",
      "toc_cell": false,
      "toc_position": {},
      "toc_section_display": true,
      "toc_window_display": false
    },
    "colab": {
      "provenance": [],
      "toc_visible": true
    }
  },
  "nbformat": 4,
  "nbformat_minor": 0
}