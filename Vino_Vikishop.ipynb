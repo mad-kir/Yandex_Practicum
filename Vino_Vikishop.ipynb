{
  "cells": [
    {
      "cell_type": "markdown",
      "metadata": {
        "toc": true,
        "id": "-sNKVgzL0yRM"
      },
      "source": [
        "<h1>Содержание<span class=\"tocSkip\"></span></h1>\n",
        "<div class=\"toc\"><ul class=\"toc-item\"><li><span><a href=\"#Подготовка-данных\" data-toc-modified-id=\"Подготовка-данных-1\"><span class=\"toc-item-num\">1&nbsp;&nbsp;</span>Подготовка данных</a></span><ul class=\"toc-item\"><li><span><a href=\"#Очистка-текста\" data-toc-modified-id=\"Очистка-текста-1.1\"><span class=\"toc-item-num\">1.1&nbsp;&nbsp;</span>Очистка текста</a></span></li><li><span><a href=\"#Лемматизация\" data-toc-modified-id=\"Лемматизация-1.2\"><span class=\"toc-item-num\">1.2&nbsp;&nbsp;</span>Лемматизация</a></span></li><li><span><a href=\"#Выделение-выборок-и-целевого-признака\" data-toc-modified-id=\"Выделение-выборок-и-целевого-признака-1.3\"><span class=\"toc-item-num\">1.3&nbsp;&nbsp;</span>Выделение выборок и целевого признака</a></span></li><li><span><a href=\"#Обработка-дисбаланса\" data-toc-modified-id=\"Обработка-дисбаланса-1.4\"><span class=\"toc-item-num\">1.4&nbsp;&nbsp;</span>Обработка дисбаланса</a></span></li><li><span><a href=\"#Стоп-слова-и-векторы\" data-toc-modified-id=\"Стоп-слова-и-векторы-1.5\"><span class=\"toc-item-num\">1.5&nbsp;&nbsp;</span>Стоп-слова и векторы</a></span></li><li><span><a href=\"#Промежуточный-вывод\" data-toc-modified-id=\"Промежуточный-вывод-1.6\"><span class=\"toc-item-num\">1.6&nbsp;&nbsp;</span>Промежуточный вывод</a></span></li></ul></li><li><span><a href=\"#Обучение\" data-toc-modified-id=\"Обучение-2\"><span class=\"toc-item-num\">2&nbsp;&nbsp;</span>Обучение</a></span><ul class=\"toc-item\"><li><span><a href=\"#Логистическая-регрессия\" data-toc-modified-id=\"Логистическая-регрессия-2.1\"><span class=\"toc-item-num\">2.1&nbsp;&nbsp;</span>Логистическая регрессия</a></span></li><li><span><a href=\"#Решающее-дерево\" data-toc-modified-id=\"Решающее-дерево-2.2\"><span class=\"toc-item-num\">2.2&nbsp;&nbsp;</span>Решающее дерево</a></span></li><li><span><a href=\"#Случайный-лес\" data-toc-modified-id=\"Случайный-лес-2.3\"><span class=\"toc-item-num\">2.3&nbsp;&nbsp;</span>Случайный лес</a></span></li><li><span><a href=\"#Градиентный-бустинг\" data-toc-modified-id=\"Градиентный-бустинг-2.4\"><span class=\"toc-item-num\">2.4&nbsp;&nbsp;</span>Градиентный бустинг</a></span></li><li><span><a href=\"#Проверка-на-тестовой-выборке\" data-toc-modified-id=\"Проверка-на-тестовой-выборке-2.5\"><span class=\"toc-item-num\">2.5&nbsp;&nbsp;</span>Проверка на тестовой выборке</a></span></li></ul></li><li><span><a href=\"#Выводы\" data-toc-modified-id=\"Выводы-3\"><span class=\"toc-item-num\">3&nbsp;&nbsp;</span>Выводы</a></span></li><li><span><a href=\"#Чек-лист-проверки\" data-toc-modified-id=\"Чек-лист-проверки-4\"><span class=\"toc-item-num\">4&nbsp;&nbsp;</span>Чек-лист проверки</a></span></li></ul></div>"
      ]
    },
    {
      "cell_type": "markdown",
      "metadata": {
        "id": "IY3u4mRd0yRN"
      },
      "source": [
        "# Проект для «Викишоп»"
      ]
    },
    {
      "cell_type": "markdown",
      "metadata": {
        "id": "OACfnNiX0yRN"
      },
      "source": [
        "Интернет-магазин «Викишоп» запускает новый сервис. Теперь пользователи могут редактировать и дополнять описания товаров, как в вики-сообществах. То есть клиенты предлагают свои правки и комментируют изменения других. Магазину нужен инструмент, который будет искать токсичные комментарии и отправлять их на модерацию.\n",
        "\n",
        "Необходимо обучить модель классифицировать комментарии на позитивные и негативные. В нашем распоряжении набор данных с разметкой о токсичности правок.\n",
        "\n",
        "Значение метрики качества F1 должно быть не меньше 0.75.\n",
        "\n",
        "**Описание данных**\n",
        "\n",
        "Данные находятся в файле `toxic_comments.csv`. Столбец *text* в нём содержит текст комментария, а *toxic* — целевой признак."
      ]
    },
    {
      "cell_type": "code",
      "source": [
        "!pip install re\n",
        "!pip install spacy\n",
        "!pip install nltk\n",
        "!pip install catboost"
      ],
      "metadata": {
        "colab": {
          "base_uri": "https://localhost:8080/"
        },
        "id": "UHGNulR11iBb",
        "outputId": "b35d6e2c-0b42-4025-c717-db308149ba1d"
      },
      "execution_count": 1,
      "outputs": [
        {
          "output_type": "stream",
          "name": "stdout",
          "text": [
            "\u001b[31mERROR: Could not find a version that satisfies the requirement re (from versions: none)\u001b[0m\u001b[31m\n",
            "\u001b[0m\u001b[31mERROR: No matching distribution found for re\u001b[0m\u001b[31m\n",
            "\u001b[0mRequirement already satisfied: spacy in /usr/local/lib/python3.10/dist-packages (3.7.4)\n",
            "Requirement already satisfied: spacy-legacy<3.1.0,>=3.0.11 in /usr/local/lib/python3.10/dist-packages (from spacy) (3.0.12)\n",
            "Requirement already satisfied: spacy-loggers<2.0.0,>=1.0.0 in /usr/local/lib/python3.10/dist-packages (from spacy) (1.0.5)\n",
            "Requirement already satisfied: murmurhash<1.1.0,>=0.28.0 in /usr/local/lib/python3.10/dist-packages (from spacy) (1.0.10)\n",
            "Requirement already satisfied: cymem<2.1.0,>=2.0.2 in /usr/local/lib/python3.10/dist-packages (from spacy) (2.0.8)\n",
            "Requirement already satisfied: preshed<3.1.0,>=3.0.2 in /usr/local/lib/python3.10/dist-packages (from spacy) (3.0.9)\n",
            "Requirement already satisfied: thinc<8.3.0,>=8.2.2 in /usr/local/lib/python3.10/dist-packages (from spacy) (8.2.3)\n",
            "Requirement already satisfied: wasabi<1.2.0,>=0.9.1 in /usr/local/lib/python3.10/dist-packages (from spacy) (1.1.2)\n",
            "Requirement already satisfied: srsly<3.0.0,>=2.4.3 in /usr/local/lib/python3.10/dist-packages (from spacy) (2.4.8)\n",
            "Requirement already satisfied: catalogue<2.1.0,>=2.0.6 in /usr/local/lib/python3.10/dist-packages (from spacy) (2.0.10)\n",
            "Requirement already satisfied: weasel<0.4.0,>=0.1.0 in /usr/local/lib/python3.10/dist-packages (from spacy) (0.3.4)\n",
            "Requirement already satisfied: typer<0.10.0,>=0.3.0 in /usr/local/lib/python3.10/dist-packages (from spacy) (0.9.0)\n",
            "Requirement already satisfied: smart-open<7.0.0,>=5.2.1 in /usr/local/lib/python3.10/dist-packages (from spacy) (6.4.0)\n",
            "Requirement already satisfied: tqdm<5.0.0,>=4.38.0 in /usr/local/lib/python3.10/dist-packages (from spacy) (4.66.2)\n",
            "Requirement already satisfied: requests<3.0.0,>=2.13.0 in /usr/local/lib/python3.10/dist-packages (from spacy) (2.31.0)\n",
            "Requirement already satisfied: pydantic!=1.8,!=1.8.1,<3.0.0,>=1.7.4 in /usr/local/lib/python3.10/dist-packages (from spacy) (2.6.3)\n",
            "Requirement already satisfied: jinja2 in /usr/local/lib/python3.10/dist-packages (from spacy) (3.1.3)\n",
            "Requirement already satisfied: setuptools in /usr/local/lib/python3.10/dist-packages (from spacy) (67.7.2)\n",
            "Requirement already satisfied: packaging>=20.0 in /usr/local/lib/python3.10/dist-packages (from spacy) (23.2)\n",
            "Requirement already satisfied: langcodes<4.0.0,>=3.2.0 in /usr/local/lib/python3.10/dist-packages (from spacy) (3.3.0)\n",
            "Requirement already satisfied: numpy>=1.19.0 in /usr/local/lib/python3.10/dist-packages (from spacy) (1.25.2)\n",
            "Requirement already satisfied: annotated-types>=0.4.0 in /usr/local/lib/python3.10/dist-packages (from pydantic!=1.8,!=1.8.1,<3.0.0,>=1.7.4->spacy) (0.6.0)\n",
            "Requirement already satisfied: pydantic-core==2.16.3 in /usr/local/lib/python3.10/dist-packages (from pydantic!=1.8,!=1.8.1,<3.0.0,>=1.7.4->spacy) (2.16.3)\n",
            "Requirement already satisfied: typing-extensions>=4.6.1 in /usr/local/lib/python3.10/dist-packages (from pydantic!=1.8,!=1.8.1,<3.0.0,>=1.7.4->spacy) (4.10.0)\n",
            "Requirement already satisfied: charset-normalizer<4,>=2 in /usr/local/lib/python3.10/dist-packages (from requests<3.0.0,>=2.13.0->spacy) (3.3.2)\n",
            "Requirement already satisfied: idna<4,>=2.5 in /usr/local/lib/python3.10/dist-packages (from requests<3.0.0,>=2.13.0->spacy) (3.6)\n",
            "Requirement already satisfied: urllib3<3,>=1.21.1 in /usr/local/lib/python3.10/dist-packages (from requests<3.0.0,>=2.13.0->spacy) (2.0.7)\n",
            "Requirement already satisfied: certifi>=2017.4.17 in /usr/local/lib/python3.10/dist-packages (from requests<3.0.0,>=2.13.0->spacy) (2024.2.2)\n",
            "Requirement already satisfied: blis<0.8.0,>=0.7.8 in /usr/local/lib/python3.10/dist-packages (from thinc<8.3.0,>=8.2.2->spacy) (0.7.11)\n",
            "Requirement already satisfied: confection<1.0.0,>=0.0.1 in /usr/local/lib/python3.10/dist-packages (from thinc<8.3.0,>=8.2.2->spacy) (0.1.4)\n",
            "Requirement already satisfied: click<9.0.0,>=7.1.1 in /usr/local/lib/python3.10/dist-packages (from typer<0.10.0,>=0.3.0->spacy) (8.1.7)\n",
            "Requirement already satisfied: cloudpathlib<0.17.0,>=0.7.0 in /usr/local/lib/python3.10/dist-packages (from weasel<0.4.0,>=0.1.0->spacy) (0.16.0)\n",
            "Requirement already satisfied: MarkupSafe>=2.0 in /usr/local/lib/python3.10/dist-packages (from jinja2->spacy) (2.1.5)\n",
            "Requirement already satisfied: nltk in /usr/local/lib/python3.10/dist-packages (3.8.1)\n",
            "Requirement already satisfied: click in /usr/local/lib/python3.10/dist-packages (from nltk) (8.1.7)\n",
            "Requirement already satisfied: joblib in /usr/local/lib/python3.10/dist-packages (from nltk) (1.3.2)\n",
            "Requirement already satisfied: regex>=2021.8.3 in /usr/local/lib/python3.10/dist-packages (from nltk) (2023.12.25)\n",
            "Requirement already satisfied: tqdm in /usr/local/lib/python3.10/dist-packages (from nltk) (4.66.2)\n",
            "Requirement already satisfied: catboost in /usr/local/lib/python3.10/dist-packages (1.2.3)\n",
            "Requirement already satisfied: graphviz in /usr/local/lib/python3.10/dist-packages (from catboost) (0.20.1)\n",
            "Requirement already satisfied: matplotlib in /usr/local/lib/python3.10/dist-packages (from catboost) (3.7.1)\n",
            "Requirement already satisfied: numpy>=1.16.0 in /usr/local/lib/python3.10/dist-packages (from catboost) (1.25.2)\n",
            "Requirement already satisfied: pandas>=0.24 in /usr/local/lib/python3.10/dist-packages (from catboost) (1.5.3)\n",
            "Requirement already satisfied: scipy in /usr/local/lib/python3.10/dist-packages (from catboost) (1.11.4)\n",
            "Requirement already satisfied: plotly in /usr/local/lib/python3.10/dist-packages (from catboost) (5.15.0)\n",
            "Requirement already satisfied: six in /usr/local/lib/python3.10/dist-packages (from catboost) (1.16.0)\n",
            "Requirement already satisfied: python-dateutil>=2.8.1 in /usr/local/lib/python3.10/dist-packages (from pandas>=0.24->catboost) (2.8.2)\n",
            "Requirement already satisfied: pytz>=2020.1 in /usr/local/lib/python3.10/dist-packages (from pandas>=0.24->catboost) (2023.4)\n",
            "Requirement already satisfied: contourpy>=1.0.1 in /usr/local/lib/python3.10/dist-packages (from matplotlib->catboost) (1.2.0)\n",
            "Requirement already satisfied: cycler>=0.10 in /usr/local/lib/python3.10/dist-packages (from matplotlib->catboost) (0.12.1)\n",
            "Requirement already satisfied: fonttools>=4.22.0 in /usr/local/lib/python3.10/dist-packages (from matplotlib->catboost) (4.49.0)\n",
            "Requirement already satisfied: kiwisolver>=1.0.1 in /usr/local/lib/python3.10/dist-packages (from matplotlib->catboost) (1.4.5)\n",
            "Requirement already satisfied: packaging>=20.0 in /usr/local/lib/python3.10/dist-packages (from matplotlib->catboost) (23.2)\n",
            "Requirement already satisfied: pillow>=6.2.0 in /usr/local/lib/python3.10/dist-packages (from matplotlib->catboost) (9.4.0)\n",
            "Requirement already satisfied: pyparsing>=2.3.1 in /usr/local/lib/python3.10/dist-packages (from matplotlib->catboost) (3.1.1)\n",
            "Requirement already satisfied: tenacity>=6.2.0 in /usr/local/lib/python3.10/dist-packages (from plotly->catboost) (8.2.3)\n"
          ]
        }
      ]
    },
    {
      "cell_type": "code",
      "execution_count": 2,
      "metadata": {
        "id": "kLuQj2DQ0yRO"
      },
      "outputs": [],
      "source": [
        "# импорт библиотек\n",
        "import warnings\n",
        "warnings.filterwarnings('ignore')\n",
        "\n",
        "import pandas as pd\n",
        "import numpy as np\n",
        "\n",
        "import matplotlib.pyplot as plt\n",
        "\n",
        "import re\n",
        "import spacy\n",
        "import nltk\n",
        "from nltk.corpus import stopwords\n",
        "from sklearn.feature_extraction.text import TfidfVectorizer\n",
        "from sklearn.utils import shuffle\n",
        "from sklearn.model_selection import train_test_split\n",
        "\n",
        "from sklearn.linear_model import LogisticRegression\n",
        "from sklearn.tree import DecisionTreeClassifier\n",
        "from sklearn.ensemble import RandomForestClassifier\n",
        "import catboost as cb\n",
        "from sklearn.dummy import DummyClassifier\n",
        "\n",
        "from sklearn.metrics import f1_score"
      ]
    },
    {
      "cell_type": "markdown",
      "metadata": {
        "id": "HCW7KWJT0yRS"
      },
      "source": [
        "## Подготовка данных"
      ]
    },
    {
      "cell_type": "markdown",
      "metadata": {
        "id": "FFRsZJoO0yRS"
      },
      "source": [
        "Загрузим предоставленный датасет."
      ]
    },
    {
      "cell_type": "code",
      "execution_count": 3,
      "metadata": {
        "scrolled": true,
        "colab": {
          "base_uri": "https://localhost:8080/",
          "height": 362
        },
        "id": "GPBEzGX20yRS",
        "outputId": "ecb3448a-a000-4c3b-d9af-ebd36d8827ca"
      },
      "outputs": [
        {
          "output_type": "stream",
          "name": "stdout",
          "text": [
            "<class 'pandas.core.frame.DataFrame'>\n",
            "Int64Index: 159292 entries, 0 to 159450\n",
            "Data columns (total 2 columns):\n",
            " #   Column  Non-Null Count   Dtype \n",
            "---  ------  --------------   ----- \n",
            " 0   text    159292 non-null  object\n",
            " 1   toxic   159292 non-null  int64 \n",
            "dtypes: int64(1), object(1)\n",
            "memory usage: 81.1 MB\n"
          ]
        },
        {
          "output_type": "execute_result",
          "data": {
            "text/plain": [
              "                                                text  toxic\n",
              "0  Explanation\\nWhy the edits made under my usern...      0\n",
              "1  D'aww! He matches this background colour I'm s...      0\n",
              "2  Hey man, I'm really not trying to edit war. It...      0\n",
              "3  \"\\nMore\\nI can't make any real suggestions on ...      0\n",
              "4  You, sir, are my hero. Any chance you remember...      0"
            ],
            "text/html": [
              "\n",
              "  <div id=\"df-db516fdd-e56a-4b6b-8a35-208f5c993a86\" class=\"colab-df-container\">\n",
              "    <div>\n",
              "<style scoped>\n",
              "    .dataframe tbody tr th:only-of-type {\n",
              "        vertical-align: middle;\n",
              "    }\n",
              "\n",
              "    .dataframe tbody tr th {\n",
              "        vertical-align: top;\n",
              "    }\n",
              "\n",
              "    .dataframe thead th {\n",
              "        text-align: right;\n",
              "    }\n",
              "</style>\n",
              "<table border=\"1\" class=\"dataframe\">\n",
              "  <thead>\n",
              "    <tr style=\"text-align: right;\">\n",
              "      <th></th>\n",
              "      <th>text</th>\n",
              "      <th>toxic</th>\n",
              "    </tr>\n",
              "  </thead>\n",
              "  <tbody>\n",
              "    <tr>\n",
              "      <th>0</th>\n",
              "      <td>Explanation\\nWhy the edits made under my usern...</td>\n",
              "      <td>0</td>\n",
              "    </tr>\n",
              "    <tr>\n",
              "      <th>1</th>\n",
              "      <td>D'aww! He matches this background colour I'm s...</td>\n",
              "      <td>0</td>\n",
              "    </tr>\n",
              "    <tr>\n",
              "      <th>2</th>\n",
              "      <td>Hey man, I'm really not trying to edit war. It...</td>\n",
              "      <td>0</td>\n",
              "    </tr>\n",
              "    <tr>\n",
              "      <th>3</th>\n",
              "      <td>\"\\nMore\\nI can't make any real suggestions on ...</td>\n",
              "      <td>0</td>\n",
              "    </tr>\n",
              "    <tr>\n",
              "      <th>4</th>\n",
              "      <td>You, sir, are my hero. Any chance you remember...</td>\n",
              "      <td>0</td>\n",
              "    </tr>\n",
              "  </tbody>\n",
              "</table>\n",
              "</div>\n",
              "    <div class=\"colab-df-buttons\">\n",
              "\n",
              "  <div class=\"colab-df-container\">\n",
              "    <button class=\"colab-df-convert\" onclick=\"convertToInteractive('df-db516fdd-e56a-4b6b-8a35-208f5c993a86')\"\n",
              "            title=\"Convert this dataframe to an interactive table.\"\n",
              "            style=\"display:none;\">\n",
              "\n",
              "  <svg xmlns=\"http://www.w3.org/2000/svg\" height=\"24px\" viewBox=\"0 -960 960 960\">\n",
              "    <path d=\"M120-120v-720h720v720H120Zm60-500h600v-160H180v160Zm220 220h160v-160H400v160Zm0 220h160v-160H400v160ZM180-400h160v-160H180v160Zm440 0h160v-160H620v160ZM180-180h160v-160H180v160Zm440 0h160v-160H620v160Z\"/>\n",
              "  </svg>\n",
              "    </button>\n",
              "\n",
              "  <style>\n",
              "    .colab-df-container {\n",
              "      display:flex;\n",
              "      gap: 12px;\n",
              "    }\n",
              "\n",
              "    .colab-df-convert {\n",
              "      background-color: #E8F0FE;\n",
              "      border: none;\n",
              "      border-radius: 50%;\n",
              "      cursor: pointer;\n",
              "      display: none;\n",
              "      fill: #1967D2;\n",
              "      height: 32px;\n",
              "      padding: 0 0 0 0;\n",
              "      width: 32px;\n",
              "    }\n",
              "\n",
              "    .colab-df-convert:hover {\n",
              "      background-color: #E2EBFA;\n",
              "      box-shadow: 0px 1px 2px rgba(60, 64, 67, 0.3), 0px 1px 3px 1px rgba(60, 64, 67, 0.15);\n",
              "      fill: #174EA6;\n",
              "    }\n",
              "\n",
              "    .colab-df-buttons div {\n",
              "      margin-bottom: 4px;\n",
              "    }\n",
              "\n",
              "    [theme=dark] .colab-df-convert {\n",
              "      background-color: #3B4455;\n",
              "      fill: #D2E3FC;\n",
              "    }\n",
              "\n",
              "    [theme=dark] .colab-df-convert:hover {\n",
              "      background-color: #434B5C;\n",
              "      box-shadow: 0px 1px 3px 1px rgba(0, 0, 0, 0.15);\n",
              "      filter: drop-shadow(0px 1px 2px rgba(0, 0, 0, 0.3));\n",
              "      fill: #FFFFFF;\n",
              "    }\n",
              "  </style>\n",
              "\n",
              "    <script>\n",
              "      const buttonEl =\n",
              "        document.querySelector('#df-db516fdd-e56a-4b6b-8a35-208f5c993a86 button.colab-df-convert');\n",
              "      buttonEl.style.display =\n",
              "        google.colab.kernel.accessAllowed ? 'block' : 'none';\n",
              "\n",
              "      async function convertToInteractive(key) {\n",
              "        const element = document.querySelector('#df-db516fdd-e56a-4b6b-8a35-208f5c993a86');\n",
              "        const dataTable =\n",
              "          await google.colab.kernel.invokeFunction('convertToInteractive',\n",
              "                                                    [key], {});\n",
              "        if (!dataTable) return;\n",
              "\n",
              "        const docLinkHtml = 'Like what you see? Visit the ' +\n",
              "          '<a target=\"_blank\" href=https://colab.research.google.com/notebooks/data_table.ipynb>data table notebook</a>'\n",
              "          + ' to learn more about interactive tables.';\n",
              "        element.innerHTML = '';\n",
              "        dataTable['output_type'] = 'display_data';\n",
              "        await google.colab.output.renderOutput(dataTable, element);\n",
              "        const docLink = document.createElement('div');\n",
              "        docLink.innerHTML = docLinkHtml;\n",
              "        element.appendChild(docLink);\n",
              "      }\n",
              "    </script>\n",
              "  </div>\n",
              "\n",
              "\n",
              "<div id=\"df-5b24ee6e-e356-4812-91bf-deb1f623e830\">\n",
              "  <button class=\"colab-df-quickchart\" onclick=\"quickchart('df-5b24ee6e-e356-4812-91bf-deb1f623e830')\"\n",
              "            title=\"Suggest charts\"\n",
              "            style=\"display:none;\">\n",
              "\n",
              "<svg xmlns=\"http://www.w3.org/2000/svg\" height=\"24px\"viewBox=\"0 0 24 24\"\n",
              "     width=\"24px\">\n",
              "    <g>\n",
              "        <path d=\"M19 3H5c-1.1 0-2 .9-2 2v14c0 1.1.9 2 2 2h14c1.1 0 2-.9 2-2V5c0-1.1-.9-2-2-2zM9 17H7v-7h2v7zm4 0h-2V7h2v10zm4 0h-2v-4h2v4z\"/>\n",
              "    </g>\n",
              "</svg>\n",
              "  </button>\n",
              "\n",
              "<style>\n",
              "  .colab-df-quickchart {\n",
              "      --bg-color: #E8F0FE;\n",
              "      --fill-color: #1967D2;\n",
              "      --hover-bg-color: #E2EBFA;\n",
              "      --hover-fill-color: #174EA6;\n",
              "      --disabled-fill-color: #AAA;\n",
              "      --disabled-bg-color: #DDD;\n",
              "  }\n",
              "\n",
              "  [theme=dark] .colab-df-quickchart {\n",
              "      --bg-color: #3B4455;\n",
              "      --fill-color: #D2E3FC;\n",
              "      --hover-bg-color: #434B5C;\n",
              "      --hover-fill-color: #FFFFFF;\n",
              "      --disabled-bg-color: #3B4455;\n",
              "      --disabled-fill-color: #666;\n",
              "  }\n",
              "\n",
              "  .colab-df-quickchart {\n",
              "    background-color: var(--bg-color);\n",
              "    border: none;\n",
              "    border-radius: 50%;\n",
              "    cursor: pointer;\n",
              "    display: none;\n",
              "    fill: var(--fill-color);\n",
              "    height: 32px;\n",
              "    padding: 0;\n",
              "    width: 32px;\n",
              "  }\n",
              "\n",
              "  .colab-df-quickchart:hover {\n",
              "    background-color: var(--hover-bg-color);\n",
              "    box-shadow: 0 1px 2px rgba(60, 64, 67, 0.3), 0 1px 3px 1px rgba(60, 64, 67, 0.15);\n",
              "    fill: var(--button-hover-fill-color);\n",
              "  }\n",
              "\n",
              "  .colab-df-quickchart-complete:disabled,\n",
              "  .colab-df-quickchart-complete:disabled:hover {\n",
              "    background-color: var(--disabled-bg-color);\n",
              "    fill: var(--disabled-fill-color);\n",
              "    box-shadow: none;\n",
              "  }\n",
              "\n",
              "  .colab-df-spinner {\n",
              "    border: 2px solid var(--fill-color);\n",
              "    border-color: transparent;\n",
              "    border-bottom-color: var(--fill-color);\n",
              "    animation:\n",
              "      spin 1s steps(1) infinite;\n",
              "  }\n",
              "\n",
              "  @keyframes spin {\n",
              "    0% {\n",
              "      border-color: transparent;\n",
              "      border-bottom-color: var(--fill-color);\n",
              "      border-left-color: var(--fill-color);\n",
              "    }\n",
              "    20% {\n",
              "      border-color: transparent;\n",
              "      border-left-color: var(--fill-color);\n",
              "      border-top-color: var(--fill-color);\n",
              "    }\n",
              "    30% {\n",
              "      border-color: transparent;\n",
              "      border-left-color: var(--fill-color);\n",
              "      border-top-color: var(--fill-color);\n",
              "      border-right-color: var(--fill-color);\n",
              "    }\n",
              "    40% {\n",
              "      border-color: transparent;\n",
              "      border-right-color: var(--fill-color);\n",
              "      border-top-color: var(--fill-color);\n",
              "    }\n",
              "    60% {\n",
              "      border-color: transparent;\n",
              "      border-right-color: var(--fill-color);\n",
              "    }\n",
              "    80% {\n",
              "      border-color: transparent;\n",
              "      border-right-color: var(--fill-color);\n",
              "      border-bottom-color: var(--fill-color);\n",
              "    }\n",
              "    90% {\n",
              "      border-color: transparent;\n",
              "      border-bottom-color: var(--fill-color);\n",
              "    }\n",
              "  }\n",
              "</style>\n",
              "\n",
              "  <script>\n",
              "    async function quickchart(key) {\n",
              "      const quickchartButtonEl =\n",
              "        document.querySelector('#' + key + ' button');\n",
              "      quickchartButtonEl.disabled = true;  // To prevent multiple clicks.\n",
              "      quickchartButtonEl.classList.add('colab-df-spinner');\n",
              "      try {\n",
              "        const charts = await google.colab.kernel.invokeFunction(\n",
              "            'suggestCharts', [key], {});\n",
              "      } catch (error) {\n",
              "        console.error('Error during call to suggestCharts:', error);\n",
              "      }\n",
              "      quickchartButtonEl.classList.remove('colab-df-spinner');\n",
              "      quickchartButtonEl.classList.add('colab-df-quickchart-complete');\n",
              "    }\n",
              "    (() => {\n",
              "      let quickchartButtonEl =\n",
              "        document.querySelector('#df-5b24ee6e-e356-4812-91bf-deb1f623e830 button');\n",
              "      quickchartButtonEl.style.display =\n",
              "        google.colab.kernel.accessAllowed ? 'block' : 'none';\n",
              "    })();\n",
              "  </script>\n",
              "</div>\n",
              "    </div>\n",
              "  </div>\n"
            ],
            "application/vnd.google.colaboratory.intrinsic+json": {
              "type": "dataframe",
              "variable_name": "data"
            }
          },
          "metadata": {},
          "execution_count": 3
        }
      ],
      "source": [
        "data = pd.read_csv('/datasets/toxic_comments.csv', index_col=[0])\n",
        "data.info(memory_usage='deep')\n",
        "data.head()"
      ]
    },
    {
      "cell_type": "markdown",
      "metadata": {
        "id": "YL6dIBP00yRU"
      },
      "source": [
        "### Очистка текста\n",
        "\n",
        "Напишем метод для очистки текста от знаков."
      ]
    },
    {
      "cell_type": "code",
      "execution_count": 4,
      "metadata": {
        "id": "5Dw7kXIK0yRU"
      },
      "outputs": [],
      "source": [
        "def clear_text(text):\n",
        "  clear = re.sub(r\"(?:\\n|\\r)\", \" \", text)\n",
        "  clear = re.sub(r'[^a-zA-Z ]', ' ', clear)\n",
        "  clear = clear.lower()\n",
        "  return \" \".join(clear.split())"
      ]
    },
    {
      "cell_type": "code",
      "execution_count": 5,
      "metadata": {
        "colab": {
          "base_uri": "https://localhost:8080/",
          "height": 206
        },
        "id": "xCG4AHOm0yRU",
        "outputId": "0a165af2-959e-43a7-f9a3-c4c16cf00741"
      },
      "outputs": [
        {
          "output_type": "execute_result",
          "data": {
            "text/plain": [
              "                                                text  toxic\n",
              "0  explanation why the edits made under my userna...      0\n",
              "1  d aww he matches this background colour i m se...      0\n",
              "2  hey man i m really not trying to edit war it s...      0\n",
              "3  more i can t make any real suggestions on impr...      0\n",
              "4  you sir are my hero any chance you remember wh...      0"
            ],
            "text/html": [
              "\n",
              "  <div id=\"df-fad470a2-4c16-4e8d-8994-34e5150cfdc5\" class=\"colab-df-container\">\n",
              "    <div>\n",
              "<style scoped>\n",
              "    .dataframe tbody tr th:only-of-type {\n",
              "        vertical-align: middle;\n",
              "    }\n",
              "\n",
              "    .dataframe tbody tr th {\n",
              "        vertical-align: top;\n",
              "    }\n",
              "\n",
              "    .dataframe thead th {\n",
              "        text-align: right;\n",
              "    }\n",
              "</style>\n",
              "<table border=\"1\" class=\"dataframe\">\n",
              "  <thead>\n",
              "    <tr style=\"text-align: right;\">\n",
              "      <th></th>\n",
              "      <th>text</th>\n",
              "      <th>toxic</th>\n",
              "    </tr>\n",
              "  </thead>\n",
              "  <tbody>\n",
              "    <tr>\n",
              "      <th>0</th>\n",
              "      <td>explanation why the edits made under my userna...</td>\n",
              "      <td>0</td>\n",
              "    </tr>\n",
              "    <tr>\n",
              "      <th>1</th>\n",
              "      <td>d aww he matches this background colour i m se...</td>\n",
              "      <td>0</td>\n",
              "    </tr>\n",
              "    <tr>\n",
              "      <th>2</th>\n",
              "      <td>hey man i m really not trying to edit war it s...</td>\n",
              "      <td>0</td>\n",
              "    </tr>\n",
              "    <tr>\n",
              "      <th>3</th>\n",
              "      <td>more i can t make any real suggestions on impr...</td>\n",
              "      <td>0</td>\n",
              "    </tr>\n",
              "    <tr>\n",
              "      <th>4</th>\n",
              "      <td>you sir are my hero any chance you remember wh...</td>\n",
              "      <td>0</td>\n",
              "    </tr>\n",
              "  </tbody>\n",
              "</table>\n",
              "</div>\n",
              "    <div class=\"colab-df-buttons\">\n",
              "\n",
              "  <div class=\"colab-df-container\">\n",
              "    <button class=\"colab-df-convert\" onclick=\"convertToInteractive('df-fad470a2-4c16-4e8d-8994-34e5150cfdc5')\"\n",
              "            title=\"Convert this dataframe to an interactive table.\"\n",
              "            style=\"display:none;\">\n",
              "\n",
              "  <svg xmlns=\"http://www.w3.org/2000/svg\" height=\"24px\" viewBox=\"0 -960 960 960\">\n",
              "    <path d=\"M120-120v-720h720v720H120Zm60-500h600v-160H180v160Zm220 220h160v-160H400v160Zm0 220h160v-160H400v160ZM180-400h160v-160H180v160Zm440 0h160v-160H620v160ZM180-180h160v-160H180v160Zm440 0h160v-160H620v160Z\"/>\n",
              "  </svg>\n",
              "    </button>\n",
              "\n",
              "  <style>\n",
              "    .colab-df-container {\n",
              "      display:flex;\n",
              "      gap: 12px;\n",
              "    }\n",
              "\n",
              "    .colab-df-convert {\n",
              "      background-color: #E8F0FE;\n",
              "      border: none;\n",
              "      border-radius: 50%;\n",
              "      cursor: pointer;\n",
              "      display: none;\n",
              "      fill: #1967D2;\n",
              "      height: 32px;\n",
              "      padding: 0 0 0 0;\n",
              "      width: 32px;\n",
              "    }\n",
              "\n",
              "    .colab-df-convert:hover {\n",
              "      background-color: #E2EBFA;\n",
              "      box-shadow: 0px 1px 2px rgba(60, 64, 67, 0.3), 0px 1px 3px 1px rgba(60, 64, 67, 0.15);\n",
              "      fill: #174EA6;\n",
              "    }\n",
              "\n",
              "    .colab-df-buttons div {\n",
              "      margin-bottom: 4px;\n",
              "    }\n",
              "\n",
              "    [theme=dark] .colab-df-convert {\n",
              "      background-color: #3B4455;\n",
              "      fill: #D2E3FC;\n",
              "    }\n",
              "\n",
              "    [theme=dark] .colab-df-convert:hover {\n",
              "      background-color: #434B5C;\n",
              "      box-shadow: 0px 1px 3px 1px rgba(0, 0, 0, 0.15);\n",
              "      filter: drop-shadow(0px 1px 2px rgba(0, 0, 0, 0.3));\n",
              "      fill: #FFFFFF;\n",
              "    }\n",
              "  </style>\n",
              "\n",
              "    <script>\n",
              "      const buttonEl =\n",
              "        document.querySelector('#df-fad470a2-4c16-4e8d-8994-34e5150cfdc5 button.colab-df-convert');\n",
              "      buttonEl.style.display =\n",
              "        google.colab.kernel.accessAllowed ? 'block' : 'none';\n",
              "\n",
              "      async function convertToInteractive(key) {\n",
              "        const element = document.querySelector('#df-fad470a2-4c16-4e8d-8994-34e5150cfdc5');\n",
              "        const dataTable =\n",
              "          await google.colab.kernel.invokeFunction('convertToInteractive',\n",
              "                                                    [key], {});\n",
              "        if (!dataTable) return;\n",
              "\n",
              "        const docLinkHtml = 'Like what you see? Visit the ' +\n",
              "          '<a target=\"_blank\" href=https://colab.research.google.com/notebooks/data_table.ipynb>data table notebook</a>'\n",
              "          + ' to learn more about interactive tables.';\n",
              "        element.innerHTML = '';\n",
              "        dataTable['output_type'] = 'display_data';\n",
              "        await google.colab.output.renderOutput(dataTable, element);\n",
              "        const docLink = document.createElement('div');\n",
              "        docLink.innerHTML = docLinkHtml;\n",
              "        element.appendChild(docLink);\n",
              "      }\n",
              "    </script>\n",
              "  </div>\n",
              "\n",
              "\n",
              "<div id=\"df-193c5dab-a261-43d5-8c18-e6c77b88221a\">\n",
              "  <button class=\"colab-df-quickchart\" onclick=\"quickchart('df-193c5dab-a261-43d5-8c18-e6c77b88221a')\"\n",
              "            title=\"Suggest charts\"\n",
              "            style=\"display:none;\">\n",
              "\n",
              "<svg xmlns=\"http://www.w3.org/2000/svg\" height=\"24px\"viewBox=\"0 0 24 24\"\n",
              "     width=\"24px\">\n",
              "    <g>\n",
              "        <path d=\"M19 3H5c-1.1 0-2 .9-2 2v14c0 1.1.9 2 2 2h14c1.1 0 2-.9 2-2V5c0-1.1-.9-2-2-2zM9 17H7v-7h2v7zm4 0h-2V7h2v10zm4 0h-2v-4h2v4z\"/>\n",
              "    </g>\n",
              "</svg>\n",
              "  </button>\n",
              "\n",
              "<style>\n",
              "  .colab-df-quickchart {\n",
              "      --bg-color: #E8F0FE;\n",
              "      --fill-color: #1967D2;\n",
              "      --hover-bg-color: #E2EBFA;\n",
              "      --hover-fill-color: #174EA6;\n",
              "      --disabled-fill-color: #AAA;\n",
              "      --disabled-bg-color: #DDD;\n",
              "  }\n",
              "\n",
              "  [theme=dark] .colab-df-quickchart {\n",
              "      --bg-color: #3B4455;\n",
              "      --fill-color: #D2E3FC;\n",
              "      --hover-bg-color: #434B5C;\n",
              "      --hover-fill-color: #FFFFFF;\n",
              "      --disabled-bg-color: #3B4455;\n",
              "      --disabled-fill-color: #666;\n",
              "  }\n",
              "\n",
              "  .colab-df-quickchart {\n",
              "    background-color: var(--bg-color);\n",
              "    border: none;\n",
              "    border-radius: 50%;\n",
              "    cursor: pointer;\n",
              "    display: none;\n",
              "    fill: var(--fill-color);\n",
              "    height: 32px;\n",
              "    padding: 0;\n",
              "    width: 32px;\n",
              "  }\n",
              "\n",
              "  .colab-df-quickchart:hover {\n",
              "    background-color: var(--hover-bg-color);\n",
              "    box-shadow: 0 1px 2px rgba(60, 64, 67, 0.3), 0 1px 3px 1px rgba(60, 64, 67, 0.15);\n",
              "    fill: var(--button-hover-fill-color);\n",
              "  }\n",
              "\n",
              "  .colab-df-quickchart-complete:disabled,\n",
              "  .colab-df-quickchart-complete:disabled:hover {\n",
              "    background-color: var(--disabled-bg-color);\n",
              "    fill: var(--disabled-fill-color);\n",
              "    box-shadow: none;\n",
              "  }\n",
              "\n",
              "  .colab-df-spinner {\n",
              "    border: 2px solid var(--fill-color);\n",
              "    border-color: transparent;\n",
              "    border-bottom-color: var(--fill-color);\n",
              "    animation:\n",
              "      spin 1s steps(1) infinite;\n",
              "  }\n",
              "\n",
              "  @keyframes spin {\n",
              "    0% {\n",
              "      border-color: transparent;\n",
              "      border-bottom-color: var(--fill-color);\n",
              "      border-left-color: var(--fill-color);\n",
              "    }\n",
              "    20% {\n",
              "      border-color: transparent;\n",
              "      border-left-color: var(--fill-color);\n",
              "      border-top-color: var(--fill-color);\n",
              "    }\n",
              "    30% {\n",
              "      border-color: transparent;\n",
              "      border-left-color: var(--fill-color);\n",
              "      border-top-color: var(--fill-color);\n",
              "      border-right-color: var(--fill-color);\n",
              "    }\n",
              "    40% {\n",
              "      border-color: transparent;\n",
              "      border-right-color: var(--fill-color);\n",
              "      border-top-color: var(--fill-color);\n",
              "    }\n",
              "    60% {\n",
              "      border-color: transparent;\n",
              "      border-right-color: var(--fill-color);\n",
              "    }\n",
              "    80% {\n",
              "      border-color: transparent;\n",
              "      border-right-color: var(--fill-color);\n",
              "      border-bottom-color: var(--fill-color);\n",
              "    }\n",
              "    90% {\n",
              "      border-color: transparent;\n",
              "      border-bottom-color: var(--fill-color);\n",
              "    }\n",
              "  }\n",
              "</style>\n",
              "\n",
              "  <script>\n",
              "    async function quickchart(key) {\n",
              "      const quickchartButtonEl =\n",
              "        document.querySelector('#' + key + ' button');\n",
              "      quickchartButtonEl.disabled = true;  // To prevent multiple clicks.\n",
              "      quickchartButtonEl.classList.add('colab-df-spinner');\n",
              "      try {\n",
              "        const charts = await google.colab.kernel.invokeFunction(\n",
              "            'suggestCharts', [key], {});\n",
              "      } catch (error) {\n",
              "        console.error('Error during call to suggestCharts:', error);\n",
              "      }\n",
              "      quickchartButtonEl.classList.remove('colab-df-spinner');\n",
              "      quickchartButtonEl.classList.add('colab-df-quickchart-complete');\n",
              "    }\n",
              "    (() => {\n",
              "      let quickchartButtonEl =\n",
              "        document.querySelector('#df-193c5dab-a261-43d5-8c18-e6c77b88221a button');\n",
              "      quickchartButtonEl.style.display =\n",
              "        google.colab.kernel.accessAllowed ? 'block' : 'none';\n",
              "    })();\n",
              "  </script>\n",
              "</div>\n",
              "    </div>\n",
              "  </div>\n"
            ],
            "application/vnd.google.colaboratory.intrinsic+json": {
              "type": "dataframe",
              "variable_name": "data"
            }
          },
          "metadata": {},
          "execution_count": 5
        }
      ],
      "source": [
        "data['text'] = data['text'].apply(clear_text)\n",
        "data.head()"
      ]
    },
    {
      "cell_type": "markdown",
      "metadata": {
        "id": "zOyr4NKY0yRU"
      },
      "source": [
        "Проверим, не появилось ли у нас пустых строк после удаления символов, и удалим их."
      ]
    },
    {
      "cell_type": "code",
      "execution_count": 6,
      "metadata": {
        "colab": {
          "base_uri": "https://localhost:8080/"
        },
        "id": "aTLBN-df0yRU",
        "outputId": "39e74745-cc17-4f1a-e960-d4998131d88c"
      },
      "outputs": [
        {
          "output_type": "execute_result",
          "data": {
            "text/plain": [
              "11"
            ]
          },
          "metadata": {},
          "execution_count": 6
        }
      ],
      "source": [
        "data.loc[data['text'] == '', 'text'].count()"
      ]
    },
    {
      "cell_type": "code",
      "execution_count": 7,
      "metadata": {
        "scrolled": true,
        "colab": {
          "base_uri": "https://localhost:8080/"
        },
        "id": "zwzljHAW0yRV",
        "outputId": "dcf76e8d-f1e8-4b49-f022-63cc1d418cb6"
      },
      "outputs": [
        {
          "output_type": "execute_result",
          "data": {
            "text/plain": [
              "0"
            ]
          },
          "metadata": {},
          "execution_count": 7
        }
      ],
      "source": [
        "data = data.loc[data['text'] != '']\n",
        "data.loc[data['text'] == '', 'text'].count()"
      ]
    },
    {
      "cell_type": "markdown",
      "metadata": {
        "id": "FwXMWWD00yRV"
      },
      "source": [
        "### Лемматизация\n",
        "\n",
        "Лемматизируем тексты используя библиотеку spacy."
      ]
    },
    {
      "cell_type": "code",
      "execution_count": 8,
      "metadata": {
        "id": "-GTJAKID0yRV"
      },
      "outputs": [],
      "source": [
        "nlp = spacy.load('en_core_web_sm')"
      ]
    },
    {
      "cell_type": "code",
      "execution_count": 9,
      "metadata": {
        "id": "ZbgL1Pyq0yRV"
      },
      "outputs": [],
      "source": [
        "def lemma_by_spacy_clear(text):\n",
        "    lemmed = nlp(text)\n",
        "    lemmed = \" \".join([token.lemma_ for token in lemmed])\n",
        "    return \" \".join(lemmed.split())"
      ]
    },
    {
      "cell_type": "code",
      "execution_count": 10,
      "metadata": {
        "colab": {
          "base_uri": "https://localhost:8080/"
        },
        "id": "Nqrto4kI0yRV",
        "outputId": "f108ffcb-f499-4d17-a6cb-2190b92fa8bb"
      },
      "outputs": [
        {
          "output_type": "stream",
          "name": "stdout",
          "text": [
            "                                                text  toxic\n",
            "0  explanation why the edit make under my usernam...      0\n",
            "1  d aww he match this background colour I m seem...      0\n",
            "2  hey man I m really not try to edit war it s ju...      0\n",
            "3  more I can t make any real suggestion on impro...      0\n",
            "4  you sir be my hero any chance you remember wha...      0\n",
            "CPU times: user 44min 48s, sys: 18.9 s, total: 45min 7s\n",
            "Wall time: 45min 41s\n"
          ]
        }
      ],
      "source": [
        "%%time\n",
        "\n",
        "data['text'] = data['text'].apply(lemma_by_spacy_clear)\n",
        "print(data.head())"
      ]
    },
    {
      "cell_type": "markdown",
      "metadata": {
        "id": "tsvyLD2P0yRW"
      },
      "source": [
        "### Выделение выборок и целевого признака\n",
        "\n",
        "Разбиваем датасет на выборки в соотношении 8:1:1."
      ]
    },
    {
      "cell_type": "code",
      "execution_count": 11,
      "metadata": {
        "colab": {
          "base_uri": "https://localhost:8080/"
        },
        "id": "VeLKMPyb0yRW",
        "outputId": "2287dc5a-f450-436b-e24c-dd9f899f8385"
      },
      "outputs": [
        {
          "output_type": "stream",
          "name": "stdout",
          "text": [
            "(143352, 2) (7964, 2) (7965, 2)\n"
          ]
        }
      ],
      "source": [
        "data_train, data_valid_test = train_test_split(data, test_size = 0.1, random_state = 12345)\n",
        "data_valid, data_test = train_test_split(data_valid_test, test_size = 0.5, random_state = 12345)\n",
        "print(data_train.shape, data_valid.shape, data_test.shape)"
      ]
    },
    {
      "cell_type": "markdown",
      "metadata": {
        "id": "nBitAnqu0yRW"
      },
      "source": [
        "В валидационной и тестовой выборках отделяем целевой признак. В тренировочной мы сделаем это после обработки дисбаланса."
      ]
    },
    {
      "cell_type": "code",
      "execution_count": 12,
      "metadata": {
        "colab": {
          "base_uri": "https://localhost:8080/"
        },
        "id": "C1qNGt7s0yRW",
        "outputId": "02f36957-607a-4c4d-bb2b-c115f55ec098"
      },
      "outputs": [
        {
          "output_type": "stream",
          "name": "stdout",
          "text": [
            "(7964,) (7965,)\n",
            "(7964,) (7965,)\n"
          ]
        }
      ],
      "source": [
        "features_valid = data_valid['text']\n",
        "target_valid = data_valid['toxic']\n",
        "\n",
        "features_test = data_test['text']\n",
        "target_test = data_test['toxic']\n",
        "\n",
        "print(features_valid.shape, features_test.shape)\n",
        "print(target_valid.shape, target_test.shape)"
      ]
    },
    {
      "cell_type": "markdown",
      "metadata": {
        "id": "d2l_uZhe0yRX"
      },
      "source": [
        "### Обработка дисбаланса\n",
        "\n",
        "Посмотрим распределение категорий целевого признака в тренировочной выборке."
      ]
    },
    {
      "cell_type": "code",
      "execution_count": 13,
      "metadata": {
        "colab": {
          "base_uri": "https://localhost:8080/",
          "height": 428
        },
        "id": "vgJJJ30D0yRX",
        "outputId": "83c19b14-6505-4a96-8610-615415d7073a"
      },
      "outputs": [
        {
          "output_type": "display_data",
          "data": {
            "text/plain": [
              "<Figure size 700x400 with 1 Axes>"
            ],
            "image/png": "[encoded data removed]"
          },
          "metadata": {}
        }
      ],
      "source": [
        "fig, axes = plt.subplots(1,figsize=(7,4))\n",
        "axes.hist(data_train['toxic'])\n",
        "fig.suptitle('Распределение текстов по токсичности')\n",
        "axes.set_ylabel('Частота')\n",
        "axes.set_xlabel('Токсичные и не токсичные комментарии')\n",
        "plt.show()"
      ]
    },
    {
      "cell_type": "markdown",
      "metadata": {
        "id": "ATf8dE5Q0yRg"
      },
      "source": [
        "Можно наблюдать большой дисбаланс классов. Избавимся от него, применив апсэмплинг."
      ]
    },
    {
      "cell_type": "code",
      "execution_count": 14,
      "metadata": {
        "scrolled": true,
        "colab": {
          "base_uri": "https://localhost:8080/",
          "height": 480
        },
        "id": "nH6htKvp0yRg",
        "outputId": "e18298ff-ac8a-46c7-c944-24701f299853"
      },
      "outputs": [
        {
          "output_type": "stream",
          "name": "stdout",
          "text": [
            "Колличество комментариев категории 0 = 128777 , категории 1 = 14575 , разница 114202 , повторений 7\n"
          ]
        },
        {
          "output_type": "display_data",
          "data": {
            "text/plain": [
              "<Figure size 700x400 with 1 Axes>"
            ],
            "image/png": "[encoded data removed]"
          },
          "metadata": {}
        },
        {
          "output_type": "stream",
          "name": "stdout",
          "text": [
            "CPU times: user 358 ms, sys: 121 ms, total: 479 ms\n",
            "Wall time: 377 ms\n"
          ]
        }
      ],
      "source": [
        "%%time\n",
        "\n",
        "len_0 = data_train.loc[data_train['toxic'] == 0].shape[0]\n",
        "len_1 = data_train.loc[data_train['toxic'] == 1].shape[0]\n",
        "dif = len_0 - len_1\n",
        "repeat = int(dif / len_1)\n",
        "print('Колличество комментариев категории 0 =', len_0, ', категории 1 =', len_1, ', разница', dif, ', повторений', repeat)\n",
        "\n",
        "data_0 = data_train.loc[data_train['toxic'] == 0]\n",
        "data_1 = data_train.loc[data_train['toxic'] == 1]\n",
        "data_train = pd.concat([data_0] + [data_1] * repeat)\n",
        "\n",
        "data_train = shuffle(data_train, random_state=12345)\n",
        "features_train = data_train['text']\n",
        "target_train = data_train['toxic']\n",
        "fig, axes = plt.subplots(1,figsize=(7,4))\n",
        "axes.hist(target_train)\n",
        "fig.suptitle('Распределение текстов по токсичности после апсэмплинга')\n",
        "axes.set_ylabel('Частота')\n",
        "axes.set_xlabel('Токсичные и не токсичные комментарии')\n",
        "plt.show()"
      ]
    },
    {
      "cell_type": "markdown",
      "metadata": {
        "id": "sjXJ5JYz0yRh"
      },
      "source": [
        "### Стоп-слова и векторы\n",
        "\n",
        "Загружаем стоп-слова и инициализируем счётчик."
      ]
    },
    {
      "cell_type": "code",
      "execution_count": 15,
      "metadata": {
        "colab": {
          "base_uri": "https://localhost:8080/"
        },
        "id": "toPGY5Y90yRh",
        "outputId": "0f8d7f95-6685-4360-a15a-6b707b65993e"
      },
      "outputs": [
        {
          "output_type": "stream",
          "name": "stderr",
          "text": [
            "[nltk_data] Downloading package stopwords to /root/nltk_data...\n",
            "[nltk_data]   Unzipping corpora/stopwords.zip.\n"
          ]
        }
      ],
      "source": [
        "nltk.download('stopwords')\n",
        "sw = set(stopwords.words('english'))"
      ]
    },
    {
      "cell_type": "code",
      "execution_count": 16,
      "metadata": {
        "id": "ISyc8-T40yRh"
      },
      "outputs": [],
      "source": [
        "counter = TfidfVectorizer(stop_words=list(sw))"
      ]
    },
    {
      "cell_type": "markdown",
      "metadata": {
        "id": "iI3qZLMI0yRi"
      },
      "source": [
        "Переводим тексты в векторный вид."
      ]
    },
    {
      "cell_type": "code",
      "execution_count": 17,
      "metadata": {
        "id": "NwTJB_G70yRi"
      },
      "outputs": [],
      "source": [
        "tfidf_train = counter.fit_transform(features_train)\n",
        "tfidf_valid = counter.transform(features_valid)\n",
        "tfidf_test = counter.transform(features_test)"
      ]
    },
    {
      "cell_type": "markdown",
      "metadata": {
        "id": "J98OjvsQ0yRi"
      },
      "source": [
        "### Промежуточный вывод\n",
        "\n",
        "В разделе \"Подготовка данных\" мы:\n",
        "\n",
        "- Загрузили данные\n",
        "- Провели очистку текста от знаков, привели его к нижнему регистру\n",
        "- Выделили обучающую и тестовую выборки\n",
        "- Отделили целевой признак от нецелевого\n",
        "- Лемматизировали тексты\n",
        "- Загрузили стоп-слова и простроили векторы из текстов"
      ]
    },
    {
      "cell_type": "markdown",
      "metadata": {
        "id": "CE_fn7tH0yRi"
      },
      "source": [
        "## Обучение"
      ]
    },
    {
      "cell_type": "markdown",
      "metadata": {
        "id": "1P1PqMn80yRj"
      },
      "source": [
        "### Логистическая регрессия"
      ]
    },
    {
      "cell_type": "code",
      "execution_count": 18,
      "metadata": {
        "scrolled": true,
        "colab": {
          "base_uri": "https://localhost:8080/"
        },
        "id": "5z-aSo8y0yRj",
        "outputId": "90d17145-78a7-4539-8e13-c761eb657876"
      },
      "outputs": [
        {
          "output_type": "stream",
          "name": "stdout",
          "text": [
            "F1-метрика для логистической регрессии равна 0.7761194029850745\n",
            "CPU times: user 13.7 s, sys: 13.2 s, total: 26.8 s\n",
            "Wall time: 15.4 s\n"
          ]
        }
      ],
      "source": [
        "%%time\n",
        "\n",
        "model_regression = LogisticRegression(random_state=12345)\n",
        "model_regression.fit(tfidf_train, target_train)\n",
        "pred = model_regression.predict(tfidf_valid)\n",
        "f1_regression = f1_score(target_valid, pred)\n",
        "print('F1-метрика для логистической регрессии равна', f1_regression)"
      ]
    },
    {
      "cell_type": "markdown",
      "metadata": {
        "id": "srK6ucRp0yRj"
      },
      "source": [
        "### Решающее дерево"
      ]
    },
    {
      "cell_type": "code",
      "execution_count": 19,
      "metadata": {
        "colab": {
          "base_uri": "https://localhost:8080/"
        },
        "id": "DHiBr_Kl0yRj",
        "outputId": "1b9990d8-4692-4332-85d5-b75efd11dd1e"
      },
      "outputs": [
        {
          "output_type": "stream",
          "name": "stdout",
          "text": [
            "F1-метрика для решающего дерева равна 0.5990099009900991 при максимальной глубине 9\n",
            "CPU times: user 1min 1s, sys: 356 ms, total: 1min 1s\n",
            "Wall time: 1min 1s\n"
          ]
        }
      ],
      "source": [
        "%%time\n",
        "\n",
        "model_tree = None\n",
        "best_depth = 0\n",
        "f1_tree = 0\n",
        "\n",
        "for depth in range(1, 11):\n",
        "    model = DecisionTreeClassifier(random_state=12345, max_depth=depth)\n",
        "    model.fit(tfidf_train, target_train)\n",
        "    pred = model.predict(tfidf_valid)\n",
        "    f1 = f1_score(target_valid, pred)\n",
        "    if f1 > f1_tree:\n",
        "        f1_tree = f1\n",
        "        best_depth = depth\n",
        "        model_tree = model\n",
        "\n",
        "print('F1-метрика для решающего дерева равна', f1_tree, 'при максимальной глубине', best_depth)"
      ]
    },
    {
      "cell_type": "markdown",
      "metadata": {
        "id": "P6YW6oP10yRk"
      },
      "source": [
        "### Случайный лес"
      ]
    },
    {
      "cell_type": "code",
      "execution_count": 20,
      "metadata": {
        "scrolled": true,
        "colab": {
          "base_uri": "https://localhost:8080/"
        },
        "id": "8az_LlpN0yRk",
        "outputId": "baab3661-7094-422a-a3f2-f11620558a58"
      },
      "outputs": [
        {
          "output_type": "stream",
          "name": "stdout",
          "text": [
            "F1-метрика для случайного леса равна 0.2138084632516704 при максимальной глубине 5 и колличестве деревьев 10\n",
            "CPU times: user 21.1 s, sys: 585 ms, total: 21.6 s\n",
            "Wall time: 21.8 s\n"
          ]
        }
      ],
      "source": [
        "%%time\n",
        "\n",
        "model_forest = None\n",
        "best_depth = 0\n",
        "best_est = 0\n",
        "f1_forest = 0\n",
        "\n",
        "for est in range(10, 51, 20):\n",
        "    for depth in range(1, 6):\n",
        "        model = RandomForestClassifier(random_state=12345, max_depth=depth, n_estimators=est)\n",
        "        model.fit(tfidf_train, target_train)\n",
        "        pred = model.predict(tfidf_valid)\n",
        "        f1 = f1_score(target_valid, pred)\n",
        "        if f1 > f1_forest:\n",
        "            f1_forest = f1\n",
        "            best_depth = depth\n",
        "            best_est = est\n",
        "            model_forest = model\n",
        "\n",
        "print('F1-метрика для случайного леса равна', f1_forest, 'при максимальной глубине', best_depth, 'и колличестве деревьев', best_est)"
      ]
    },
    {
      "cell_type": "markdown",
      "metadata": {
        "id": "zlKjxrCA0yRk"
      },
      "source": [
        "### Градиентный бустинг\n",
        "\n",
        "Для бустинга возьмём библиотеку CatBoost."
      ]
    },
    {
      "cell_type": "code",
      "execution_count": 21,
      "metadata": {
        "colab": {
          "base_uri": "https://localhost:8080/"
        },
        "id": "elKs0l3j0yRk",
        "outputId": "d80e6609-1873-4db7-f01f-e538fde46b36"
      },
      "outputs": [
        {
          "output_type": "stream",
          "name": "stdout",
          "text": [
            "Learning rate set to 0.5\n",
            "0:\tlearn: 0.6331528\ttotal: 862ms\tremaining: 7.76s\n",
            "1:\tlearn: 0.6132504\ttotal: 1.58s\tremaining: 6.31s\n",
            "2:\tlearn: 0.5888015\ttotal: 2.56s\tremaining: 5.99s\n",
            "3:\tlearn: 0.5736568\ttotal: 3.79s\tremaining: 5.68s\n",
            "4:\tlearn: 0.5624165\ttotal: 4.91s\tremaining: 4.91s\n",
            "5:\tlearn: 0.5503989\ttotal: 5.67s\tremaining: 3.78s\n",
            "6:\tlearn: 0.5396835\ttotal: 6.38s\tremaining: 2.73s\n",
            "7:\tlearn: 0.5251956\ttotal: 7.09s\tremaining: 1.77s\n",
            "8:\tlearn: 0.5137247\ttotal: 7.82s\tremaining: 869ms\n",
            "9:\tlearn: 0.5072206\ttotal: 8.52s\tremaining: 0us\n",
            "Learning rate set to 0.5\n",
            "0:\tlearn: 0.6098704\ttotal: 956ms\tremaining: 8.61s\n",
            "1:\tlearn: 0.5756419\ttotal: 1.89s\tremaining: 7.56s\n",
            "2:\tlearn: 0.5510892\ttotal: 2.78s\tremaining: 6.49s\n",
            "3:\tlearn: 0.5254592\ttotal: 3.73s\tremaining: 5.59s\n",
            "4:\tlearn: 0.5072712\ttotal: 4.64s\tremaining: 4.64s\n",
            "5:\tlearn: 0.4967864\ttotal: 6.05s\tremaining: 4.03s\n",
            "6:\tlearn: 0.4851350\ttotal: 7.58s\tremaining: 3.25s\n",
            "7:\tlearn: 0.4735494\ttotal: 8.61s\tremaining: 2.15s\n",
            "8:\tlearn: 0.4670875\ttotal: 9.54s\tremaining: 1.06s\n",
            "9:\tlearn: 0.4587804\ttotal: 10.4s\tremaining: 0us\n",
            "Learning rate set to 0.5\n",
            "0:\tlearn: 0.5924284\ttotal: 1.33s\tremaining: 12s\n",
            "1:\tlearn: 0.5511710\ttotal: 2.52s\tremaining: 10.1s\n",
            "2:\tlearn: 0.5137103\ttotal: 3.63s\tremaining: 8.47s\n",
            "3:\tlearn: 0.4970209\ttotal: 4.81s\tremaining: 7.22s\n",
            "4:\tlearn: 0.4774075\ttotal: 5.91s\tremaining: 5.91s\n",
            "5:\tlearn: 0.4649169\ttotal: 7.74s\tremaining: 5.16s\n",
            "6:\tlearn: 0.4555503\ttotal: 9.42s\tremaining: 4.04s\n",
            "7:\tlearn: 0.4460902\ttotal: 10.6s\tremaining: 2.65s\n",
            "8:\tlearn: 0.4354917\ttotal: 11.7s\tremaining: 1.3s\n",
            "9:\tlearn: 0.4281407\ttotal: 12.8s\tremaining: 0us\n",
            "Learning rate set to 0.5\n",
            "0:\tlearn: 0.5773451\ttotal: 1.8s\tremaining: 16.2s\n",
            "1:\tlearn: 0.5260434\ttotal: 3.16s\tremaining: 12.6s\n",
            "2:\tlearn: 0.4944324\ttotal: 4.71s\tremaining: 11s\n",
            "3:\tlearn: 0.4739107\ttotal: 7.08s\tremaining: 10.6s\n",
            "4:\tlearn: 0.4601019\ttotal: 8.72s\tremaining: 8.72s\n",
            "5:\tlearn: 0.4455269\ttotal: 10.2s\tremaining: 6.77s\n",
            "6:\tlearn: 0.4350893\ttotal: 11.6s\tremaining: 4.96s\n",
            "7:\tlearn: 0.4244778\ttotal: 13s\tremaining: 3.25s\n",
            "8:\tlearn: 0.4161169\ttotal: 14.5s\tremaining: 1.61s\n",
            "9:\tlearn: 0.4091186\ttotal: 15.9s\tremaining: 0us\n",
            "Learning rate set to 0.5\n",
            "0:\tlearn: 0.5638153\ttotal: 3.19s\tremaining: 28.7s\n",
            "1:\tlearn: 0.5073645\ttotal: 5.12s\tremaining: 20.5s\n",
            "2:\tlearn: 0.4773739\ttotal: 7.02s\tremaining: 16.4s\n",
            "3:\tlearn: 0.4593855\ttotal: 8.88s\tremaining: 13.3s\n",
            "4:\tlearn: 0.4401913\ttotal: 10.6s\tremaining: 10.6s\n",
            "5:\tlearn: 0.4279125\ttotal: 12.7s\tremaining: 8.49s\n",
            "6:\tlearn: 0.4175558\ttotal: 15.4s\tremaining: 6.59s\n",
            "7:\tlearn: 0.4080015\ttotal: 17.2s\tremaining: 4.3s\n",
            "8:\tlearn: 0.3994172\ttotal: 19.1s\tremaining: 2.12s\n",
            "9:\tlearn: 0.3908800\ttotal: 20.7s\tremaining: 0us\n",
            "Learning rate set to 0.5\n",
            "0:\tlearn: 0.6331528\ttotal: 701ms\tremaining: 20.3s\n",
            "1:\tlearn: 0.6132504\ttotal: 1.4s\tremaining: 19.6s\n",
            "2:\tlearn: 0.5888015\ttotal: 2.1s\tremaining: 18.9s\n",
            "3:\tlearn: 0.5736568\ttotal: 2.8s\tremaining: 18.2s\n",
            "4:\tlearn: 0.5624165\ttotal: 3.86s\tremaining: 19.3s\n",
            "5:\tlearn: 0.5503989\ttotal: 5.08s\tremaining: 20.3s\n",
            "6:\tlearn: 0.5396835\ttotal: 6.11s\tremaining: 20.1s\n",
            "7:\tlearn: 0.5251956\ttotal: 6.82s\tremaining: 18.8s\n",
            "8:\tlearn: 0.5137247\ttotal: 7.53s\tremaining: 17.6s\n",
            "9:\tlearn: 0.5072206\ttotal: 8.23s\tremaining: 16.5s\n",
            "10:\tlearn: 0.5020029\ttotal: 8.93s\tremaining: 15.4s\n",
            "11:\tlearn: 0.4969965\ttotal: 9.64s\tremaining: 14.5s\n",
            "12:\tlearn: 0.4927429\ttotal: 10.3s\tremaining: 13.5s\n",
            "13:\tlearn: 0.4885728\ttotal: 11s\tremaining: 12.6s\n",
            "14:\tlearn: 0.4813562\ttotal: 11.8s\tremaining: 11.8s\n",
            "15:\tlearn: 0.4738407\ttotal: 12.5s\tremaining: 10.9s\n",
            "16:\tlearn: 0.4687745\ttotal: 13.2s\tremaining: 10.1s\n",
            "17:\tlearn: 0.4655452\ttotal: 13.9s\tremaining: 9.25s\n",
            "18:\tlearn: 0.4627516\ttotal: 14.6s\tremaining: 8.44s\n",
            "19:\tlearn: 0.4595434\ttotal: 15.3s\tremaining: 7.64s\n",
            "20:\tlearn: 0.4565763\ttotal: 16s\tremaining: 6.86s\n",
            "21:\tlearn: 0.4536890\ttotal: 17.2s\tremaining: 6.24s\n",
            "22:\tlearn: 0.4502129\ttotal: 18.3s\tremaining: 5.58s\n",
            "23:\tlearn: 0.4450899\ttotal: 19.3s\tremaining: 4.83s\n",
            "24:\tlearn: 0.4417988\ttotal: 20s\tremaining: 4s\n",
            "25:\tlearn: 0.4391209\ttotal: 20.7s\tremaining: 3.18s\n",
            "26:\tlearn: 0.4369833\ttotal: 21.4s\tremaining: 2.38s\n",
            "27:\tlearn: 0.4344526\ttotal: 22.1s\tremaining: 1.58s\n",
            "28:\tlearn: 0.4323858\ttotal: 22.8s\tremaining: 786ms\n",
            "29:\tlearn: 0.4280374\ttotal: 23.5s\tremaining: 0us\n",
            "Learning rate set to 0.5\n",
            "0:\tlearn: 0.6098704\ttotal: 951ms\tremaining: 27.6s\n",
            "1:\tlearn: 0.5756419\ttotal: 1.91s\tremaining: 26.8s\n",
            "2:\tlearn: 0.5510892\ttotal: 2.8s\tremaining: 25.2s\n",
            "3:\tlearn: 0.5254592\ttotal: 3.66s\tremaining: 23.8s\n",
            "4:\tlearn: 0.5072712\ttotal: 4.8s\tremaining: 24s\n",
            "5:\tlearn: 0.4967864\ttotal: 6.39s\tremaining: 25.6s\n",
            "6:\tlearn: 0.4851350\ttotal: 7.6s\tremaining: 25s\n",
            "7:\tlearn: 0.4735494\ttotal: 8.51s\tremaining: 23.4s\n",
            "8:\tlearn: 0.4670875\ttotal: 9.44s\tremaining: 22s\n",
            "9:\tlearn: 0.4587804\ttotal: 10.3s\tremaining: 20.6s\n",
            "10:\tlearn: 0.4502133\ttotal: 11.2s\tremaining: 19.3s\n",
            "11:\tlearn: 0.4439832\ttotal: 12.1s\tremaining: 18.1s\n",
            "12:\tlearn: 0.4390801\ttotal: 13s\tremaining: 16.9s\n",
            "13:\tlearn: 0.4332098\ttotal: 13.9s\tremaining: 15.8s\n",
            "14:\tlearn: 0.4264211\ttotal: 14.8s\tremaining: 14.8s\n",
            "15:\tlearn: 0.4227942\ttotal: 15.7s\tremaining: 13.7s\n",
            "16:\tlearn: 0.4181928\ttotal: 16.6s\tremaining: 12.7s\n",
            "17:\tlearn: 0.4143415\ttotal: 17.8s\tremaining: 11.9s\n",
            "18:\tlearn: 0.4102452\ttotal: 19.4s\tremaining: 11.2s\n",
            "19:\tlearn: 0.4073875\ttotal: 20.5s\tremaining: 10.3s\n",
            "20:\tlearn: 0.4037887\ttotal: 21.4s\tremaining: 9.18s\n",
            "21:\tlearn: 0.4007839\ttotal: 22.3s\tremaining: 8.13s\n",
            "22:\tlearn: 0.3979599\ttotal: 23.2s\tremaining: 7.07s\n",
            "23:\tlearn: 0.3949574\ttotal: 24.2s\tremaining: 6.04s\n",
            "24:\tlearn: 0.3914535\ttotal: 25.1s\tremaining: 5.01s\n",
            "25:\tlearn: 0.3875905\ttotal: 26s\tremaining: 4s\n",
            "26:\tlearn: 0.3852727\ttotal: 26.9s\tremaining: 2.98s\n",
            "27:\tlearn: 0.3827409\ttotal: 27.8s\tremaining: 1.98s\n",
            "28:\tlearn: 0.3807153\ttotal: 28.7s\tremaining: 989ms\n",
            "29:\tlearn: 0.3784388\ttotal: 29.6s\tremaining: 0us\n",
            "Learning rate set to 0.5\n",
            "0:\tlearn: 0.5924284\ttotal: 1.15s\tremaining: 33.4s\n",
            "1:\tlearn: 0.5511710\ttotal: 2.24s\tremaining: 31.4s\n",
            "2:\tlearn: 0.5137103\ttotal: 3.41s\tremaining: 30.7s\n",
            "3:\tlearn: 0.4970209\ttotal: 4.59s\tremaining: 29.8s\n",
            "4:\tlearn: 0.4774075\ttotal: 5.77s\tremaining: 28.8s\n",
            "5:\tlearn: 0.4649169\ttotal: 6.89s\tremaining: 27.6s\n",
            "6:\tlearn: 0.4555503\ttotal: 8.04s\tremaining: 26.4s\n",
            "7:\tlearn: 0.4460902\ttotal: 9.18s\tremaining: 25.2s\n",
            "8:\tlearn: 0.4354917\ttotal: 11s\tremaining: 25.7s\n",
            "9:\tlearn: 0.4281407\ttotal: 12.6s\tremaining: 25.2s\n",
            "10:\tlearn: 0.4202981\ttotal: 13.7s\tremaining: 23.6s\n",
            "11:\tlearn: 0.4153234\ttotal: 14.7s\tremaining: 22.1s\n",
            "12:\tlearn: 0.4088786\ttotal: 15.9s\tremaining: 20.8s\n",
            "13:\tlearn: 0.4034877\ttotal: 17.1s\tremaining: 19.5s\n",
            "14:\tlearn: 0.3992863\ttotal: 18.2s\tremaining: 18.2s\n",
            "15:\tlearn: 0.3944629\ttotal: 19.3s\tremaining: 16.9s\n",
            "16:\tlearn: 0.3904530\ttotal: 20.3s\tremaining: 15.5s\n",
            "17:\tlearn: 0.3859961\ttotal: 21.3s\tremaining: 14.2s\n",
            "18:\tlearn: 0.3809638\ttotal: 22.6s\tremaining: 13.1s\n",
            "19:\tlearn: 0.3779428\ttotal: 24.6s\tremaining: 12.3s\n",
            "20:\tlearn: 0.3750258\ttotal: 25.9s\tremaining: 11.1s\n",
            "21:\tlearn: 0.3717980\ttotal: 27s\tremaining: 9.82s\n",
            "22:\tlearn: 0.3681555\ttotal: 28.1s\tremaining: 8.57s\n",
            "23:\tlearn: 0.3632454\ttotal: 29.2s\tremaining: 7.3s\n",
            "24:\tlearn: 0.3609619\ttotal: 30.3s\tremaining: 6.05s\n",
            "25:\tlearn: 0.3576182\ttotal: 31.3s\tremaining: 4.81s\n",
            "26:\tlearn: 0.3548494\ttotal: 32.3s\tremaining: 3.59s\n",
            "27:\tlearn: 0.3524494\ttotal: 33.4s\tremaining: 2.38s\n",
            "28:\tlearn: 0.3503490\ttotal: 34.4s\tremaining: 1.19s\n",
            "29:\tlearn: 0.3480445\ttotal: 35.7s\tremaining: 0us\n",
            "Learning rate set to 0.5\n",
            "0:\tlearn: 0.5773451\ttotal: 1.67s\tremaining: 48.5s\n",
            "1:\tlearn: 0.5260434\ttotal: 3.15s\tremaining: 44.2s\n",
            "2:\tlearn: 0.4944324\ttotal: 4.65s\tremaining: 41.8s\n",
            "3:\tlearn: 0.4739107\ttotal: 6.06s\tremaining: 39.4s\n",
            "4:\tlearn: 0.4601019\ttotal: 7.38s\tremaining: 36.9s\n",
            "5:\tlearn: 0.4455269\ttotal: 8.88s\tremaining: 35.5s\n",
            "6:\tlearn: 0.4350893\ttotal: 10.7s\tremaining: 35.1s\n",
            "7:\tlearn: 0.4244778\ttotal: 12.9s\tremaining: 35.4s\n",
            "8:\tlearn: 0.4161169\ttotal: 14.3s\tremaining: 33.4s\n",
            "9:\tlearn: 0.4091186\ttotal: 15.8s\tremaining: 31.5s\n",
            "10:\tlearn: 0.4018797\ttotal: 17.2s\tremaining: 29.8s\n",
            "11:\tlearn: 0.3956453\ttotal: 18.7s\tremaining: 28s\n",
            "12:\tlearn: 0.3908388\ttotal: 20.1s\tremaining: 26.2s\n",
            "13:\tlearn: 0.3828575\ttotal: 21.5s\tremaining: 24.5s\n",
            "14:\tlearn: 0.3788717\ttotal: 23s\tremaining: 23s\n",
            "15:\tlearn: 0.3738522\ttotal: 25.3s\tremaining: 22.2s\n",
            "16:\tlearn: 0.3700692\ttotal: 26.9s\tremaining: 20.6s\n",
            "17:\tlearn: 0.3659076\ttotal: 28.3s\tremaining: 18.9s\n",
            "18:\tlearn: 0.3624208\ttotal: 29.7s\tremaining: 17.2s\n",
            "19:\tlearn: 0.3572205\ttotal: 31.1s\tremaining: 15.6s\n",
            "20:\tlearn: 0.3540333\ttotal: 32.5s\tremaining: 13.9s\n",
            "21:\tlearn: 0.3508869\ttotal: 33.8s\tremaining: 12.3s\n",
            "22:\tlearn: 0.3477185\ttotal: 35.1s\tremaining: 10.7s\n",
            "23:\tlearn: 0.3452003\ttotal: 37s\tremaining: 9.24s\n",
            "24:\tlearn: 0.3417938\ttotal: 39.1s\tremaining: 7.82s\n",
            "25:\tlearn: 0.3393519\ttotal: 40.5s\tremaining: 6.23s\n",
            "26:\tlearn: 0.3373461\ttotal: 41.8s\tremaining: 4.65s\n",
            "27:\tlearn: 0.3348928\ttotal: 43.2s\tremaining: 3.08s\n",
            "28:\tlearn: 0.3319196\ttotal: 44.6s\tremaining: 1.54s\n",
            "29:\tlearn: 0.3293255\ttotal: 45.9s\tremaining: 0us\n",
            "Learning rate set to 0.5\n",
            "0:\tlearn: 0.5638153\ttotal: 3.92s\tremaining: 1m 53s\n",
            "1:\tlearn: 0.5073645\ttotal: 5.87s\tremaining: 1m 22s\n",
            "2:\tlearn: 0.4773739\ttotal: 7.85s\tremaining: 1m 10s\n",
            "3:\tlearn: 0.4593855\ttotal: 9.82s\tremaining: 1m 3s\n",
            "4:\tlearn: 0.4401913\ttotal: 11.7s\tremaining: 58.7s\n",
            "5:\tlearn: 0.4279125\ttotal: 13.8s\tremaining: 55.2s\n",
            "6:\tlearn: 0.4175558\ttotal: 16.7s\tremaining: 54.7s\n",
            "7:\tlearn: 0.4080015\ttotal: 18.5s\tremaining: 50.8s\n",
            "8:\tlearn: 0.3994172\ttotal: 20.3s\tremaining: 47.3s\n",
            "9:\tlearn: 0.3908800\ttotal: 21.9s\tremaining: 43.9s\n",
            "10:\tlearn: 0.3843147\ttotal: 23.8s\tremaining: 41s\n",
            "11:\tlearn: 0.3764362\ttotal: 25.6s\tremaining: 38.4s\n",
            "12:\tlearn: 0.3718509\ttotal: 28.2s\tremaining: 36.9s\n",
            "13:\tlearn: 0.3661696\ttotal: 30.4s\tremaining: 34.8s\n",
            "14:\tlearn: 0.3612887\ttotal: 32.2s\tremaining: 32.2s\n",
            "15:\tlearn: 0.3561858\ttotal: 34s\tremaining: 29.8s\n",
            "16:\tlearn: 0.3521174\ttotal: 35.9s\tremaining: 27.5s\n",
            "17:\tlearn: 0.3482566\ttotal: 37.7s\tremaining: 25.1s\n",
            "18:\tlearn: 0.3449997\ttotal: 39.7s\tremaining: 23s\n",
            "19:\tlearn: 0.3416211\ttotal: 42.6s\tremaining: 21.3s\n",
            "20:\tlearn: 0.3383228\ttotal: 44.4s\tremaining: 19s\n",
            "21:\tlearn: 0.3356487\ttotal: 46.3s\tremaining: 16.8s\n",
            "22:\tlearn: 0.3325918\ttotal: 48s\tremaining: 14.6s\n",
            "23:\tlearn: 0.3290860\ttotal: 49.8s\tremaining: 12.4s\n",
            "24:\tlearn: 0.3256399\ttotal: 51.7s\tremaining: 10.3s\n",
            "25:\tlearn: 0.3229744\ttotal: 54.2s\tremaining: 8.33s\n",
            "26:\tlearn: 0.3198510\ttotal: 56.4s\tremaining: 6.27s\n",
            "27:\tlearn: 0.3175401\ttotal: 58.1s\tremaining: 4.15s\n",
            "28:\tlearn: 0.3147512\ttotal: 59.9s\tremaining: 2.06s\n",
            "29:\tlearn: 0.3126395\ttotal: 1m 1s\tremaining: 0us\n",
            "Learning rate set to 0.5\n",
            "0:\tlearn: 0.6331528\ttotal: 721ms\tremaining: 35.3s\n",
            "1:\tlearn: 0.6132504\ttotal: 1.42s\tremaining: 34.1s\n",
            "2:\tlearn: 0.5888015\ttotal: 2.13s\tremaining: 33.5s\n",
            "3:\tlearn: 0.5736568\ttotal: 2.9s\tremaining: 33.4s\n",
            "4:\tlearn: 0.5624165\ttotal: 4.12s\tremaining: 37.1s\n",
            "5:\tlearn: 0.5503989\ttotal: 5.29s\tremaining: 38.8s\n",
            "6:\tlearn: 0.5396835\ttotal: 6.09s\tremaining: 37.4s\n",
            "7:\tlearn: 0.5251956\ttotal: 6.81s\tremaining: 35.8s\n",
            "8:\tlearn: 0.5137247\ttotal: 7.5s\tremaining: 34.2s\n",
            "9:\tlearn: 0.5072206\ttotal: 8.2s\tremaining: 32.8s\n",
            "10:\tlearn: 0.5020029\ttotal: 8.92s\tremaining: 31.6s\n",
            "11:\tlearn: 0.4969965\ttotal: 9.6s\tremaining: 30.4s\n",
            "12:\tlearn: 0.4927429\ttotal: 10.3s\tremaining: 29.3s\n",
            "13:\tlearn: 0.4885728\ttotal: 11s\tremaining: 28.3s\n",
            "14:\tlearn: 0.4813562\ttotal: 11.7s\tremaining: 27.3s\n",
            "15:\tlearn: 0.4738407\ttotal: 12.4s\tremaining: 26.4s\n",
            "16:\tlearn: 0.4687745\ttotal: 13.1s\tremaining: 25.5s\n",
            "17:\tlearn: 0.4655452\ttotal: 13.8s\tremaining: 24.5s\n",
            "18:\tlearn: 0.4627516\ttotal: 14.5s\tremaining: 23.7s\n",
            "19:\tlearn: 0.4595434\ttotal: 15.2s\tremaining: 22.8s\n",
            "20:\tlearn: 0.4565763\ttotal: 16.2s\tremaining: 22.3s\n",
            "21:\tlearn: 0.4536890\ttotal: 17.4s\tremaining: 22.2s\n",
            "22:\tlearn: 0.4502129\ttotal: 18.6s\tremaining: 21.9s\n",
            "23:\tlearn: 0.4450899\ttotal: 19.3s\tremaining: 21s\n",
            "24:\tlearn: 0.4417988\ttotal: 20s\tremaining: 20s\n",
            "25:\tlearn: 0.4391209\ttotal: 20.8s\tremaining: 19.2s\n",
            "26:\tlearn: 0.4369833\ttotal: 21.5s\tremaining: 18.3s\n",
            "27:\tlearn: 0.4344526\ttotal: 22.2s\tremaining: 17.4s\n",
            "28:\tlearn: 0.4323858\ttotal: 22.9s\tremaining: 16.6s\n",
            "29:\tlearn: 0.4280374\ttotal: 23.6s\tremaining: 15.7s\n",
            "30:\tlearn: 0.4252849\ttotal: 24.3s\tremaining: 14.9s\n",
            "31:\tlearn: 0.4231671\ttotal: 25s\tremaining: 14.1s\n",
            "32:\tlearn: 0.4215322\ttotal: 25.7s\tremaining: 13.2s\n",
            "33:\tlearn: 0.4195344\ttotal: 26.4s\tremaining: 12.4s\n",
            "34:\tlearn: 0.4177135\ttotal: 27.1s\tremaining: 11.6s\n",
            "35:\tlearn: 0.4157434\ttotal: 27.8s\tremaining: 10.8s\n",
            "36:\tlearn: 0.4128985\ttotal: 28.5s\tremaining: 10s\n",
            "37:\tlearn: 0.4108811\ttotal: 29.5s\tremaining: 9.33s\n",
            "38:\tlearn: 0.4093003\ttotal: 30.8s\tremaining: 8.69s\n",
            "39:\tlearn: 0.4078606\ttotal: 31.7s\tremaining: 7.92s\n",
            "40:\tlearn: 0.4064838\ttotal: 32.4s\tremaining: 7.11s\n",
            "41:\tlearn: 0.4049706\ttotal: 33.1s\tremaining: 6.3s\n",
            "42:\tlearn: 0.4031552\ttotal: 33.8s\tremaining: 5.5s\n",
            "43:\tlearn: 0.4018710\ttotal: 34.5s\tremaining: 4.7s\n",
            "44:\tlearn: 0.4000885\ttotal: 35.2s\tremaining: 3.91s\n",
            "45:\tlearn: 0.3985741\ttotal: 35.9s\tremaining: 3.12s\n",
            "46:\tlearn: 0.3966488\ttotal: 36.6s\tremaining: 2.33s\n",
            "47:\tlearn: 0.3954498\ttotal: 37.3s\tremaining: 1.55s\n",
            "48:\tlearn: 0.3937314\ttotal: 38s\tremaining: 775ms\n",
            "49:\tlearn: 0.3916448\ttotal: 38.7s\tremaining: 0us\n",
            "Learning rate set to 0.5\n",
            "0:\tlearn: 0.6098704\ttotal: 946ms\tremaining: 46.4s\n",
            "1:\tlearn: 0.5756419\ttotal: 2.21s\tremaining: 52.9s\n",
            "2:\tlearn: 0.5510892\ttotal: 3.69s\tremaining: 57.9s\n",
            "3:\tlearn: 0.5254592\ttotal: 4.85s\tremaining: 55.7s\n",
            "4:\tlearn: 0.5072712\ttotal: 5.71s\tremaining: 51.4s\n",
            "5:\tlearn: 0.4967864\ttotal: 6.57s\tremaining: 48.2s\n",
            "6:\tlearn: 0.4851350\ttotal: 7.43s\tremaining: 45.7s\n",
            "7:\tlearn: 0.4735494\ttotal: 8.29s\tremaining: 43.5s\n",
            "8:\tlearn: 0.4670875\ttotal: 9.22s\tremaining: 42s\n",
            "9:\tlearn: 0.4587804\ttotal: 10.1s\tremaining: 40.5s\n",
            "10:\tlearn: 0.4502133\ttotal: 11s\tremaining: 39s\n",
            "11:\tlearn: 0.4439832\ttotal: 11.9s\tremaining: 37.8s\n",
            "12:\tlearn: 0.4390801\ttotal: 12.8s\tremaining: 36.4s\n",
            "13:\tlearn: 0.4332098\ttotal: 13.6s\tremaining: 35s\n",
            "14:\tlearn: 0.4264211\ttotal: 14.5s\tremaining: 33.8s\n",
            "15:\tlearn: 0.4227942\ttotal: 16.1s\tremaining: 34.3s\n",
            "16:\tlearn: 0.4181928\ttotal: 17.4s\tremaining: 33.8s\n",
            "17:\tlearn: 0.4143415\ttotal: 18.3s\tremaining: 32.5s\n",
            "18:\tlearn: 0.4102452\ttotal: 19.1s\tremaining: 31.2s\n",
            "19:\tlearn: 0.4073875\ttotal: 20s\tremaining: 29.9s\n",
            "20:\tlearn: 0.4037887\ttotal: 20.8s\tremaining: 28.8s\n",
            "21:\tlearn: 0.4007839\ttotal: 21.8s\tremaining: 27.7s\n",
            "22:\tlearn: 0.3979599\ttotal: 22.7s\tremaining: 26.6s\n",
            "23:\tlearn: 0.3949574\ttotal: 23.6s\tremaining: 25.5s\n",
            "24:\tlearn: 0.3914535\ttotal: 24.5s\tremaining: 24.5s\n",
            "25:\tlearn: 0.3875905\ttotal: 25.4s\tremaining: 23.4s\n",
            "26:\tlearn: 0.3852727\ttotal: 26.2s\tremaining: 22.3s\n",
            "27:\tlearn: 0.3827409\ttotal: 27.1s\tremaining: 21.3s\n",
            "28:\tlearn: 0.3807153\ttotal: 28.6s\tremaining: 20.7s\n",
            "29:\tlearn: 0.3784388\ttotal: 30.2s\tremaining: 20.1s\n",
            "30:\tlearn: 0.3766448\ttotal: 31.1s\tremaining: 19s\n",
            "31:\tlearn: 0.3747965\ttotal: 31.9s\tremaining: 18s\n",
            "32:\tlearn: 0.3718569\ttotal: 32.8s\tremaining: 16.9s\n",
            "33:\tlearn: 0.3691787\ttotal: 33.7s\tremaining: 15.9s\n",
            "34:\tlearn: 0.3673692\ttotal: 34.6s\tremaining: 14.8s\n",
            "35:\tlearn: 0.3647222\ttotal: 35.4s\tremaining: 13.8s\n",
            "36:\tlearn: 0.3632649\ttotal: 36.3s\tremaining: 12.8s\n",
            "37:\tlearn: 0.3593516\ttotal: 37.2s\tremaining: 11.7s\n",
            "38:\tlearn: 0.3576342\ttotal: 38.1s\tremaining: 10.7s\n",
            "39:\tlearn: 0.3557382\ttotal: 38.9s\tremaining: 9.73s\n",
            "40:\tlearn: 0.3540571\ttotal: 39.8s\tremaining: 8.73s\n",
            "41:\tlearn: 0.3522252\ttotal: 40.9s\tremaining: 7.79s\n",
            "42:\tlearn: 0.3510000\ttotal: 42.3s\tremaining: 6.89s\n",
            "43:\tlearn: 0.3495282\ttotal: 43.5s\tremaining: 5.93s\n",
            "44:\tlearn: 0.3480198\ttotal: 44.3s\tremaining: 4.93s\n",
            "45:\tlearn: 0.3465979\ttotal: 45.3s\tremaining: 3.94s\n",
            "46:\tlearn: 0.3454702\ttotal: 46.1s\tremaining: 2.94s\n",
            "47:\tlearn: 0.3440912\ttotal: 47s\tremaining: 1.96s\n",
            "48:\tlearn: 0.3428812\ttotal: 47.9s\tremaining: 977ms\n",
            "49:\tlearn: 0.3415336\ttotal: 48.7s\tremaining: 0us\n",
            "Learning rate set to 0.5\n",
            "0:\tlearn: 0.5924284\ttotal: 1.19s\tremaining: 58.3s\n",
            "1:\tlearn: 0.5511710\ttotal: 2.28s\tremaining: 54.6s\n",
            "2:\tlearn: 0.5137103\ttotal: 3.34s\tremaining: 52.4s\n",
            "3:\tlearn: 0.4970209\ttotal: 5.13s\tremaining: 59s\n",
            "4:\tlearn: 0.4774075\ttotal: 6.76s\tremaining: 1m\n",
            "5:\tlearn: 0.4649169\ttotal: 7.81s\tremaining: 57.3s\n",
            "6:\tlearn: 0.4555503\ttotal: 8.87s\tremaining: 54.5s\n",
            "7:\tlearn: 0.4460902\ttotal: 10s\tremaining: 52.6s\n",
            "8:\tlearn: 0.4354917\ttotal: 11.1s\tremaining: 50.5s\n",
            "9:\tlearn: 0.4281407\ttotal: 12.2s\tremaining: 49s\n",
            "10:\tlearn: 0.4202981\ttotal: 13.4s\tremaining: 47.4s\n",
            "11:\tlearn: 0.4153234\ttotal: 14.5s\tremaining: 45.8s\n",
            "12:\tlearn: 0.4088786\ttotal: 15.5s\tremaining: 44.2s\n",
            "13:\tlearn: 0.4034877\ttotal: 16.7s\tremaining: 42.9s\n",
            "14:\tlearn: 0.3992863\ttotal: 18.6s\tremaining: 43.3s\n",
            "15:\tlearn: 0.3944629\ttotal: 19.9s\tremaining: 42.2s\n",
            "16:\tlearn: 0.3904530\ttotal: 20.9s\tremaining: 40.6s\n",
            "17:\tlearn: 0.3859961\ttotal: 21.9s\tremaining: 39s\n",
            "18:\tlearn: 0.3809638\ttotal: 23s\tremaining: 37.5s\n",
            "19:\tlearn: 0.3779428\ttotal: 24.1s\tremaining: 36.2s\n",
            "20:\tlearn: 0.3750258\ttotal: 25.1s\tremaining: 34.7s\n",
            "21:\tlearn: 0.3717980\ttotal: 26.3s\tremaining: 33.4s\n",
            "22:\tlearn: 0.3681555\ttotal: 27.4s\tremaining: 32.1s\n",
            "23:\tlearn: 0.3632454\ttotal: 28.5s\tremaining: 30.9s\n",
            "24:\tlearn: 0.3609619\ttotal: 29.8s\tremaining: 29.8s\n",
            "25:\tlearn: 0.3576182\ttotal: 31.5s\tremaining: 29.1s\n",
            "26:\tlearn: 0.3548494\ttotal: 32.9s\tremaining: 28s\n",
            "27:\tlearn: 0.3524494\ttotal: 34s\tremaining: 26.7s\n",
            "28:\tlearn: 0.3503490\ttotal: 35.1s\tremaining: 25.4s\n",
            "29:\tlearn: 0.3480445\ttotal: 36.2s\tremaining: 24.1s\n",
            "30:\tlearn: 0.3461795\ttotal: 37.3s\tremaining: 22.8s\n",
            "31:\tlearn: 0.3441913\ttotal: 38.5s\tremaining: 21.6s\n",
            "32:\tlearn: 0.3423625\ttotal: 39.5s\tremaining: 20.3s\n",
            "33:\tlearn: 0.3405028\ttotal: 40.5s\tremaining: 19.1s\n",
            "34:\tlearn: 0.3387462\ttotal: 41.6s\tremaining: 17.8s\n",
            "35:\tlearn: 0.3365498\ttotal: 42.9s\tremaining: 16.7s\n",
            "36:\tlearn: 0.3347633\ttotal: 44.6s\tremaining: 15.7s\n",
            "37:\tlearn: 0.3316049\ttotal: 46s\tremaining: 14.5s\n",
            "38:\tlearn: 0.3298513\ttotal: 47.1s\tremaining: 13.3s\n",
            "39:\tlearn: 0.3281453\ttotal: 48.2s\tremaining: 12s\n",
            "40:\tlearn: 0.3267159\ttotal: 49.3s\tremaining: 10.8s\n",
            "41:\tlearn: 0.3247710\ttotal: 50.4s\tremaining: 9.6s\n",
            "42:\tlearn: 0.3233732\ttotal: 51.4s\tremaining: 8.37s\n",
            "43:\tlearn: 0.3218162\ttotal: 52.5s\tremaining: 7.16s\n",
            "44:\tlearn: 0.3203031\ttotal: 53.6s\tremaining: 5.96s\n",
            "45:\tlearn: 0.3189560\ttotal: 54.7s\tremaining: 4.75s\n",
            "46:\tlearn: 0.3178303\ttotal: 56s\tremaining: 3.58s\n",
            "47:\tlearn: 0.3152790\ttotal: 58s\tremaining: 2.42s\n",
            "48:\tlearn: 0.3138673\ttotal: 59.1s\tremaining: 1.21s\n",
            "49:\tlearn: 0.3124831\ttotal: 1m\tremaining: 0us\n",
            "Learning rate set to 0.5\n",
            "0:\tlearn: 0.5773451\ttotal: 1.64s\tremaining: 1m 20s\n",
            "1:\tlearn: 0.5260434\ttotal: 3.07s\tremaining: 1m 13s\n",
            "2:\tlearn: 0.4944324\ttotal: 4.59s\tremaining: 1m 11s\n",
            "3:\tlearn: 0.4739107\ttotal: 6.1s\tremaining: 1m 10s\n",
            "4:\tlearn: 0.4601019\ttotal: 8.61s\tremaining: 1m 17s\n",
            "5:\tlearn: 0.4455269\ttotal: 9.99s\tremaining: 1m 13s\n",
            "6:\tlearn: 0.4350893\ttotal: 11.3s\tremaining: 1m 9s\n",
            "7:\tlearn: 0.4244778\ttotal: 12.7s\tremaining: 1m 6s\n",
            "8:\tlearn: 0.4161169\ttotal: 14.1s\tremaining: 1m 4s\n",
            "9:\tlearn: 0.4091186\ttotal: 15.4s\tremaining: 1m 1s\n",
            "10:\tlearn: 0.4018797\ttotal: 16.8s\tremaining: 59.4s\n",
            "11:\tlearn: 0.3956453\ttotal: 18.1s\tremaining: 57.3s\n",
            "12:\tlearn: 0.3908388\ttotal: 20.1s\tremaining: 57.3s\n",
            "13:\tlearn: 0.3828575\ttotal: 22s\tremaining: 56.7s\n",
            "14:\tlearn: 0.3788717\ttotal: 23.5s\tremaining: 54.8s\n",
            "15:\tlearn: 0.3738522\ttotal: 24.9s\tremaining: 52.9s\n",
            "16:\tlearn: 0.3700692\ttotal: 26.2s\tremaining: 50.9s\n",
            "17:\tlearn: 0.3659076\ttotal: 27.5s\tremaining: 48.8s\n",
            "18:\tlearn: 0.3624208\ttotal: 28.7s\tremaining: 46.9s\n",
            "19:\tlearn: 0.3572205\ttotal: 30s\tremaining: 45s\n",
            "20:\tlearn: 0.3540333\ttotal: 31.4s\tremaining: 43.3s\n",
            "21:\tlearn: 0.3508869\ttotal: 33.6s\tremaining: 42.7s\n",
            "22:\tlearn: 0.3477185\ttotal: 35.3s\tremaining: 41.5s\n",
            "23:\tlearn: 0.3452003\ttotal: 36.6s\tremaining: 39.7s\n",
            "24:\tlearn: 0.3417938\ttotal: 38s\tremaining: 38s\n",
            "25:\tlearn: 0.3393519\ttotal: 39.4s\tremaining: 36.4s\n",
            "26:\tlearn: 0.3373461\ttotal: 40.8s\tremaining: 34.7s\n",
            "27:\tlearn: 0.3348928\ttotal: 42.2s\tremaining: 33.1s\n",
            "28:\tlearn: 0.3319196\ttotal: 43.5s\tremaining: 31.5s\n",
            "29:\tlearn: 0.3293255\ttotal: 45.1s\tremaining: 30s\n",
            "30:\tlearn: 0.3272344\ttotal: 47.4s\tremaining: 29.1s\n",
            "31:\tlearn: 0.3241801\ttotal: 48.8s\tremaining: 27.4s\n",
            "32:\tlearn: 0.3211878\ttotal: 50.2s\tremaining: 25.8s\n",
            "33:\tlearn: 0.3198008\ttotal: 51.5s\tremaining: 24.2s\n",
            "34:\tlearn: 0.3178128\ttotal: 52.8s\tremaining: 22.6s\n",
            "35:\tlearn: 0.3156701\ttotal: 54s\tremaining: 21s\n",
            "36:\tlearn: 0.3138011\ttotal: 55.3s\tremaining: 19.4s\n",
            "37:\tlearn: 0.3117163\ttotal: 56.7s\tremaining: 17.9s\n",
            "38:\tlearn: 0.3102155\ttotal: 58.6s\tremaining: 16.5s\n",
            "39:\tlearn: 0.3082499\ttotal: 1m\tremaining: 15.1s\n",
            "40:\tlearn: 0.3067847\ttotal: 1m 1s\tremaining: 13.5s\n",
            "41:\tlearn: 0.3049073\ttotal: 1m 2s\tremaining: 12s\n",
            "42:\tlearn: 0.3034290\ttotal: 1m 4s\tremaining: 10.5s\n",
            "43:\tlearn: 0.3018414\ttotal: 1m 5s\tremaining: 8.96s\n",
            "44:\tlearn: 0.3005464\ttotal: 1m 7s\tremaining: 7.45s\n",
            "45:\tlearn: 0.2992465\ttotal: 1m 8s\tremaining: 5.95s\n",
            "46:\tlearn: 0.2979416\ttotal: 1m 9s\tremaining: 4.45s\n",
            "47:\tlearn: 0.2962938\ttotal: 1m 11s\tremaining: 2.99s\n",
            "48:\tlearn: 0.2943884\ttotal: 1m 13s\tremaining: 1.5s\n",
            "49:\tlearn: 0.2931137\ttotal: 1m 14s\tremaining: 0us\n",
            "Learning rate set to 0.5\n",
            "0:\tlearn: 0.5638153\ttotal: 2.26s\tremaining: 1m 50s\n",
            "1:\tlearn: 0.5073645\ttotal: 4.22s\tremaining: 1m 41s\n",
            "2:\tlearn: 0.4773739\ttotal: 6.1s\tremaining: 1m 35s\n",
            "3:\tlearn: 0.4593855\ttotal: 9.27s\tremaining: 1m 46s\n",
            "4:\tlearn: 0.4401913\ttotal: 11.1s\tremaining: 1m 39s\n",
            "5:\tlearn: 0.4279125\ttotal: 12.9s\tremaining: 1m 34s\n",
            "6:\tlearn: 0.4175558\ttotal: 14.8s\tremaining: 1m 30s\n",
            "7:\tlearn: 0.4080015\ttotal: 16.6s\tremaining: 1m 27s\n",
            "8:\tlearn: 0.3994172\ttotal: 18.5s\tremaining: 1m 24s\n",
            "9:\tlearn: 0.3908800\ttotal: 21s\tremaining: 1m 23s\n",
            "10:\tlearn: 0.3843147\ttotal: 23.3s\tremaining: 1m 22s\n",
            "11:\tlearn: 0.3764362\ttotal: 25s\tremaining: 1m 19s\n",
            "12:\tlearn: 0.3718509\ttotal: 26.7s\tremaining: 1m 16s\n",
            "13:\tlearn: 0.3661696\ttotal: 28.5s\tremaining: 1m 13s\n",
            "14:\tlearn: 0.3612887\ttotal: 30.3s\tremaining: 1m 10s\n",
            "15:\tlearn: 0.3561858\ttotal: 32.2s\tremaining: 1m 8s\n",
            "16:\tlearn: 0.3521174\ttotal: 35.1s\tremaining: 1m 8s\n",
            "17:\tlearn: 0.3482566\ttotal: 36.8s\tremaining: 1m 5s\n",
            "18:\tlearn: 0.3449997\ttotal: 38.6s\tremaining: 1m 2s\n",
            "19:\tlearn: 0.3416211\ttotal: 40.4s\tremaining: 1m\n",
            "20:\tlearn: 0.3383228\ttotal: 42.3s\tremaining: 58.4s\n",
            "21:\tlearn: 0.3356487\ttotal: 44.1s\tremaining: 56.1s\n",
            "22:\tlearn: 0.3325918\ttotal: 46s\tremaining: 53.9s\n",
            "23:\tlearn: 0.3290860\ttotal: 48.7s\tremaining: 52.8s\n",
            "24:\tlearn: 0.3256399\ttotal: 50.5s\tremaining: 50.5s\n",
            "25:\tlearn: 0.3229744\ttotal: 52.3s\tremaining: 48.3s\n",
            "26:\tlearn: 0.3198510\ttotal: 54s\tremaining: 46s\n",
            "27:\tlearn: 0.3175401\ttotal: 55.7s\tremaining: 43.8s\n",
            "28:\tlearn: 0.3147512\ttotal: 57.5s\tremaining: 41.6s\n",
            "29:\tlearn: 0.3126395\ttotal: 59.9s\tremaining: 39.9s\n",
            "30:\tlearn: 0.3103753\ttotal: 1m 2s\tremaining: 38.1s\n",
            "31:\tlearn: 0.3082042\ttotal: 1m 3s\tremaining: 35.9s\n",
            "32:\tlearn: 0.3059410\ttotal: 1m 5s\tremaining: 33.9s\n",
            "33:\tlearn: 0.3039467\ttotal: 1m 7s\tremaining: 31.8s\n",
            "34:\tlearn: 0.3022301\ttotal: 1m 9s\tremaining: 29.7s\n",
            "35:\tlearn: 0.3003786\ttotal: 1m 11s\tremaining: 27.7s\n",
            "36:\tlearn: 0.2986726\ttotal: 1m 13s\tremaining: 26s\n",
            "37:\tlearn: 0.2967386\ttotal: 1m 15s\tremaining: 24s\n",
            "38:\tlearn: 0.2950942\ttotal: 1m 17s\tremaining: 21.9s\n",
            "39:\tlearn: 0.2928151\ttotal: 1m 19s\tremaining: 19.9s\n",
            "40:\tlearn: 0.2912744\ttotal: 1m 21s\tremaining: 17.8s\n",
            "41:\tlearn: 0.2897633\ttotal: 1m 22s\tremaining: 15.8s\n",
            "42:\tlearn: 0.2883649\ttotal: 1m 24s\tremaining: 13.8s\n",
            "43:\tlearn: 0.2860095\ttotal: 1m 27s\tremaining: 11.9s\n",
            "44:\tlearn: 0.2844484\ttotal: 1m 29s\tremaining: 9.9s\n",
            "45:\tlearn: 0.2833009\ttotal: 1m 30s\tremaining: 7.9s\n",
            "46:\tlearn: 0.2817587\ttotal: 1m 32s\tremaining: 5.91s\n",
            "47:\tlearn: 0.2805188\ttotal: 1m 34s\tremaining: 3.93s\n",
            "48:\tlearn: 0.2782303\ttotal: 1m 35s\tremaining: 1.96s\n",
            "49:\tlearn: 0.2770506\ttotal: 1m 37s\tremaining: 0us\n",
            "F1-метрика для градиентного бустинга CatBoost равна 0.7600487210718636 при максимальной глубине 5 и колличестве деревьев 50\n",
            "CPU times: user 1h 3min 48s, sys: 15.9 s, total: 1h 4min 4s\n",
            "Wall time: 37min 24s\n"
          ]
        }
      ],
      "source": [
        "%%time\n",
        "\n",
        "model_cb = None\n",
        "best_depth = 0\n",
        "best_est = 0\n",
        "f1_cb = 0\n",
        "\n",
        "for est in range(10, 51, 20):\n",
        "    for depth in range(1, 6):\n",
        "        model = cb.CatBoostClassifier(random_state=12345, max_depth=depth, n_estimators=est)\n",
        "        model.fit(tfidf_train, target_train)\n",
        "        pred = model.predict(tfidf_valid)\n",
        "        f1 = f1_score(target_valid, pred)\n",
        "        if f1 > f1_cb:\n",
        "            f1_cb = f1\n",
        "            best_depth = depth\n",
        "            best_est = est\n",
        "            model_cb = model\n",
        "\n",
        "print('F1-метрика для градиентного бустинга CatBoost равна', f1_cb, 'при максимальной глубине', best_depth, 'и колличестве деревьев', best_est)"
      ]
    },
    {
      "cell_type": "markdown",
      "metadata": {
        "id": "Ctyqkc2B0yRl"
      },
      "source": [
        "Построим столбчатую диаграмму, а накоторой для сравнения изобразим F1-метрики всех четырёх моделей."
      ]
    },
    {
      "cell_type": "code",
      "execution_count": 22,
      "metadata": {
        "colab": {
          "base_uri": "https://localhost:8080/",
          "height": 647
        },
        "id": "3ZYcdw-W0yRl",
        "outputId": "2b4fa50d-734f-491d-c5a5-a8403a532728"
      },
      "outputs": [
        {
          "output_type": "display_data",
          "data": {
            "text/plain": [
              "<Figure size 640x480 with 1 Axes>"
            ],
            "image/png": "[encoded data removed]"
          },
          "metadata": {}
        }
      ],
      "source": [
        "scores = [f1_regression, f1_tree, f1_forest, f1_cb]\n",
        "ids = ['Логистическая регрессия','Дерево решений', 'Случайный лес', 'CatBoost']\n",
        "top_rmse = pd.DataFrame(data=scores, index=ids, columns=['f1'])\n",
        "top_rmse.sort_values(by='f1').plot.bar(title='Визуализация f1-метрик моделей', xlabel='Модели', ylabel='F1-score');"
      ]
    },
    {
      "cell_type": "markdown",
      "metadata": {
        "id": "1grqv9b40yRl"
      },
      "source": [
        "Как видно по графику выше, самой высокой метрикой F1 обладает логистическая регрессия. С небольшим от неё отставанием находится градиентный бустинг из библиотеки CatBoost. Дерево решений и случайный лес показали результат ниже требуемого.\n",
        "\n",
        "Таким образом, самый высокий результат (0,77) у логистической регрессии."
      ]
    },
    {
      "cell_type": "markdown",
      "metadata": {
        "id": "hzaOpEAT0yRo"
      },
      "source": [
        "### Проверка на тестовой выборке\n",
        "\n",
        "Лучшую модель проверим на тестовой выборке."
      ]
    },
    {
      "cell_type": "code",
      "execution_count": 23,
      "metadata": {
        "colab": {
          "base_uri": "https://localhost:8080/"
        },
        "id": "1Fo5wPdP0yRo",
        "outputId": "5ba22311-4355-4fae-966a-7e4ca907cce6"
      },
      "outputs": [
        {
          "output_type": "stream",
          "name": "stdout",
          "text": [
            "F1-метрика на тестовой выборке = 0.7664804469273743\n"
          ]
        }
      ],
      "source": [
        "pred_test = model_regression.predict(tfidf_test)\n",
        "f1_test = f1_score(pred_test, target_test)\n",
        "print('F1-метрика на тестовой выборке =', f1_test)"
      ]
    },
    {
      "cell_type": "markdown",
      "metadata": {
        "id": "6iDIo3NL0yRp"
      },
      "source": [
        "## Выводы"
      ]
    },
    {
      "cell_type": "markdown",
      "metadata": {
        "id": "6GrHCW2F0yRp"
      },
      "source": [
        "В данном проекте по машинному обучению задачей было обучить модель классифицировать комментарии, как позитивные и негативные. Для этого были произведены следующие работы:\n",
        "\n",
        "- Загружены комментарии, промаркированные по целевому признаку;\n",
        "- Обработан дисбаланс классов посредством даунсэмплинга;\n",
        "- Тексты комментариев очищены от знаков, буквы приведены к нижнему регистру;\n",
        "- Выделены обучающая и тестовая выборки, отделён целевой признак;\n",
        "- Лемматизированы тексты;\n",
        "- Загружен список стоп-слов для английского языка, тексты приведены к векторному виду;\n",
        "- Обучены четыре модели: логистическая регрессия, решающее дерево, случайный лес и градиентный бустинг на деревьях;\n",
        "- Модели сравнены по F1-метрике, выбран лучший результат.\n",
        "\n",
        "По итогу, лучшую F1-метрику показала логистическая регрессия, её результат был на валидационной выборке 0,77, на тестовой 0,76, при минимальном требовании 0,75."
      ]
    }
  ],
  "metadata": {
    "ExecuteTimeLog": [
      {
        "duration": 1064,
        "start_time": "2024-01-24T18:27:53.302Z"
      },
      {
        "duration": 127,
        "start_time": "2024-01-24T18:28:35.707Z"
      },
      {
        "duration": 43,
        "start_time": "2024-01-24T18:28:50.168Z"
      },
      {
        "duration": 47,
        "start_time": "2024-01-24T18:29:02.663Z"
      },
      {
        "duration": 62,
        "start_time": "2024-01-24T18:29:08.889Z"
      },
      {
        "duration": 2313,
        "start_time": "2024-01-24T18:30:04.054Z"
      },
      {
        "duration": 857,
        "start_time": "2024-01-24T18:30:28.782Z"
      },
      {
        "duration": 4,
        "start_time": "2024-01-24T18:31:01.158Z"
      },
      {
        "duration": 2760,
        "start_time": "2024-01-24T18:31:10.841Z"
      },
      {
        "duration": 23,
        "start_time": "2024-01-24T18:31:45.278Z"
      },
      {
        "duration": 58,
        "start_time": "2024-01-24T18:31:54.857Z"
      },
      {
        "duration": 24,
        "start_time": "2024-01-24T18:32:19.377Z"
      },
      {
        "duration": 5,
        "start_time": "2024-01-24T18:32:40.488Z"
      },
      {
        "duration": 4,
        "start_time": "2024-01-24T18:35:47.752Z"
      },
      {
        "duration": 991,
        "start_time": "2024-01-24T18:36:59.157Z"
      },
      {
        "duration": 1673,
        "start_time": "2024-01-24T18:37:16.017Z"
      },
      {
        "duration": 1060,
        "start_time": "2024-01-24T18:37:43.529Z"
      },
      {
        "duration": 2303,
        "start_time": "2024-01-24T18:37:44.591Z"
      },
      {
        "duration": 3,
        "start_time": "2024-01-24T18:37:46.895Z"
      },
      {
        "duration": 2759,
        "start_time": "2024-01-24T18:37:46.900Z"
      },
      {
        "duration": 19,
        "start_time": "2024-01-24T18:37:49.660Z"
      },
      {
        "duration": 65,
        "start_time": "2024-01-24T18:37:49.681Z"
      },
      {
        "duration": 33,
        "start_time": "2024-01-24T18:37:49.747Z"
      },
      {
        "duration": 5,
        "start_time": "2024-01-24T18:37:49.782Z"
      },
      {
        "duration": 15,
        "start_time": "2024-01-24T18:37:49.789Z"
      },
      {
        "duration": 1745,
        "start_time": "2024-01-24T18:37:49.806Z"
      },
      {
        "duration": 4,
        "start_time": "2024-01-24T18:38:29.589Z"
      },
      {
        "duration": 1065,
        "start_time": "2024-01-24T18:39:15.053Z"
      },
      {
        "duration": 2301,
        "start_time": "2024-01-24T18:39:19.977Z"
      },
      {
        "duration": 3,
        "start_time": "2024-01-24T18:39:22.279Z"
      },
      {
        "duration": 2739,
        "start_time": "2024-01-24T18:39:22.283Z"
      },
      {
        "duration": 24,
        "start_time": "2024-01-24T18:39:25.023Z"
      },
      {
        "duration": 74,
        "start_time": "2024-01-24T18:39:25.049Z"
      },
      {
        "duration": 33,
        "start_time": "2024-01-24T18:39:25.125Z"
      },
      {
        "duration": 5,
        "start_time": "2024-01-24T18:39:25.160Z"
      },
      {
        "duration": 13,
        "start_time": "2024-01-24T18:39:25.166Z"
      },
      {
        "duration": 1688,
        "start_time": "2024-01-24T18:39:26.396Z"
      },
      {
        "duration": 1056,
        "start_time": "2024-01-24T18:39:45.549Z"
      },
      {
        "duration": 2319,
        "start_time": "2024-01-24T18:39:46.607Z"
      },
      {
        "duration": 4,
        "start_time": "2024-01-24T18:39:48.928Z"
      },
      {
        "duration": 2777,
        "start_time": "2024-01-24T18:39:48.934Z"
      },
      {
        "duration": 24,
        "start_time": "2024-01-24T18:39:51.713Z"
      },
      {
        "duration": 66,
        "start_time": "2024-01-24T18:39:51.738Z"
      },
      {
        "duration": 24,
        "start_time": "2024-01-24T18:39:51.805Z"
      },
      {
        "duration": 4,
        "start_time": "2024-01-24T18:39:51.833Z"
      },
      {
        "duration": 31,
        "start_time": "2024-01-24T18:39:51.838Z"
      },
      {
        "duration": 1706,
        "start_time": "2024-01-24T18:39:51.871Z"
      },
      {
        "duration": 7,
        "start_time": "2024-01-24T18:56:45.441Z"
      },
      {
        "duration": 1008,
        "start_time": "2024-01-24T18:57:00.078Z"
      },
      {
        "duration": 2316,
        "start_time": "2024-01-24T18:57:01.088Z"
      },
      {
        "duration": 3,
        "start_time": "2024-01-24T18:57:03.406Z"
      },
      {
        "duration": 2784,
        "start_time": "2024-01-24T18:57:03.411Z"
      },
      {
        "duration": 22,
        "start_time": "2024-01-24T18:57:06.196Z"
      },
      {
        "duration": 139,
        "start_time": "2024-01-24T18:57:06.220Z"
      },
      {
        "duration": 25,
        "start_time": "2024-01-24T18:57:06.361Z"
      },
      {
        "duration": 41,
        "start_time": "2024-01-24T18:57:06.388Z"
      },
      {
        "duration": 66,
        "start_time": "2024-01-24T18:57:06.431Z"
      },
      {
        "duration": 1772,
        "start_time": "2024-01-24T18:57:06.499Z"
      },
      {
        "duration": 12,
        "start_time": "2024-01-24T18:58:19.290Z"
      },
      {
        "duration": 44,
        "start_time": "2024-01-24T18:58:32.174Z"
      },
      {
        "duration": 1081,
        "start_time": "2024-01-24T18:59:26.209Z"
      },
      {
        "duration": 2321,
        "start_time": "2024-01-24T18:59:27.292Z"
      },
      {
        "duration": 3,
        "start_time": "2024-01-24T18:59:29.615Z"
      },
      {
        "duration": 2741,
        "start_time": "2024-01-24T18:59:29.619Z"
      },
      {
        "duration": 25,
        "start_time": "2024-01-24T18:59:32.362Z"
      },
      {
        "duration": 72,
        "start_time": "2024-01-24T18:59:32.388Z"
      },
      {
        "duration": 29,
        "start_time": "2024-01-24T18:59:32.462Z"
      },
      {
        "duration": 6,
        "start_time": "2024-01-24T18:59:32.492Z"
      },
      {
        "duration": 15,
        "start_time": "2024-01-24T18:59:32.500Z"
      },
      {
        "duration": 1749,
        "start_time": "2024-01-24T18:59:32.517Z"
      },
      {
        "duration": 1076,
        "start_time": "2024-01-24T19:00:24.977Z"
      },
      {
        "duration": 2336,
        "start_time": "2024-01-24T19:00:26.055Z"
      },
      {
        "duration": 3,
        "start_time": "2024-01-24T19:00:28.392Z"
      },
      {
        "duration": 2816,
        "start_time": "2024-01-24T19:00:28.397Z"
      },
      {
        "duration": 27,
        "start_time": "2024-01-24T19:00:31.215Z"
      },
      {
        "duration": 71,
        "start_time": "2024-01-24T19:00:31.244Z"
      },
      {
        "duration": 41,
        "start_time": "2024-01-24T19:00:31.317Z"
      },
      {
        "duration": 6,
        "start_time": "2024-01-24T19:00:31.359Z"
      },
      {
        "duration": 37,
        "start_time": "2024-01-24T19:00:31.367Z"
      },
      {
        "duration": 2324,
        "start_time": "2024-01-24T19:00:31.406Z"
      },
      {
        "duration": 1083,
        "start_time": "2024-01-24T19:01:27.150Z"
      },
      {
        "duration": 2340,
        "start_time": "2024-01-24T19:01:28.236Z"
      },
      {
        "duration": 3,
        "start_time": "2024-01-24T19:01:30.578Z"
      },
      {
        "duration": 2918,
        "start_time": "2024-01-24T19:01:30.582Z"
      },
      {
        "duration": 21,
        "start_time": "2024-01-24T19:01:33.501Z"
      },
      {
        "duration": 51,
        "start_time": "2024-01-24T19:01:33.532Z"
      },
      {
        "duration": 25,
        "start_time": "2024-01-24T19:01:33.585Z"
      },
      {
        "duration": 21,
        "start_time": "2024-01-24T19:01:33.612Z"
      },
      {
        "duration": 2,
        "start_time": "2024-01-24T19:01:33.635Z"
      },
      {
        "duration": 1756,
        "start_time": "2024-01-24T19:01:33.639Z"
      },
      {
        "duration": 2,
        "start_time": "2024-01-24T19:04:07.981Z"
      },
      {
        "duration": 1027,
        "start_time": "2024-01-24T19:04:23.292Z"
      },
      {
        "duration": 2337,
        "start_time": "2024-01-24T19:04:24.321Z"
      },
      {
        "duration": 2,
        "start_time": "2024-01-24T19:04:26.660Z"
      },
      {
        "duration": 2705,
        "start_time": "2024-01-24T19:04:26.664Z"
      },
      {
        "duration": 24,
        "start_time": "2024-01-24T19:04:29.370Z"
      },
      {
        "duration": 65,
        "start_time": "2024-01-24T19:04:29.395Z"
      },
      {
        "duration": 24,
        "start_time": "2024-01-24T19:04:29.461Z"
      },
      {
        "duration": 4,
        "start_time": "2024-01-24T19:04:29.486Z"
      },
      {
        "duration": 3,
        "start_time": "2024-01-24T19:04:29.492Z"
      },
      {
        "duration": 1820,
        "start_time": "2024-01-24T19:04:29.496Z"
      },
      {
        "duration": 2,
        "start_time": "2024-01-24T19:04:57.269Z"
      },
      {
        "duration": 1027,
        "start_time": "2024-01-24T19:05:13.272Z"
      },
      {
        "duration": 2348,
        "start_time": "2024-01-24T19:05:14.301Z"
      },
      {
        "duration": 3,
        "start_time": "2024-01-24T19:05:16.651Z"
      },
      {
        "duration": 2779,
        "start_time": "2024-01-24T19:05:16.656Z"
      },
      {
        "duration": 25,
        "start_time": "2024-01-24T19:05:19.436Z"
      },
      {
        "duration": 54,
        "start_time": "2024-01-24T19:05:19.463Z"
      },
      {
        "duration": 26,
        "start_time": "2024-01-24T19:05:19.532Z"
      },
      {
        "duration": 5,
        "start_time": "2024-01-24T19:05:19.559Z"
      },
      {
        "duration": 12,
        "start_time": "2024-01-24T19:05:19.566Z"
      },
      {
        "duration": 1799,
        "start_time": "2024-01-24T19:05:19.580Z"
      },
      {
        "duration": 3,
        "start_time": "2024-01-24T19:10:12.301Z"
      },
      {
        "duration": 863,
        "start_time": "2024-01-24T19:10:12.318Z"
      },
      {
        "duration": 3,
        "start_time": "2024-01-24T19:10:13.184Z"
      },
      {
        "duration": 2781,
        "start_time": "2024-01-24T19:10:13.189Z"
      },
      {
        "duration": 20,
        "start_time": "2024-01-24T19:10:15.972Z"
      },
      {
        "duration": 72,
        "start_time": "2024-01-24T19:10:15.994Z"
      },
      {
        "duration": 30,
        "start_time": "2024-01-24T19:10:16.067Z"
      },
      {
        "duration": 9,
        "start_time": "2024-01-24T19:10:16.098Z"
      },
      {
        "duration": 1049,
        "start_time": "2024-01-24T19:10:26.811Z"
      },
      {
        "duration": 2343,
        "start_time": "2024-01-24T19:10:27.863Z"
      },
      {
        "duration": 3,
        "start_time": "2024-01-24T19:10:30.207Z"
      },
      {
        "duration": 2834,
        "start_time": "2024-01-24T19:10:30.212Z"
      },
      {
        "duration": 19,
        "start_time": "2024-01-24T19:10:33.049Z"
      },
      {
        "duration": 44,
        "start_time": "2024-01-24T19:10:33.070Z"
      },
      {
        "duration": 41,
        "start_time": "2024-01-24T19:10:33.115Z"
      },
      {
        "duration": 5,
        "start_time": "2024-01-24T19:10:33.158Z"
      },
      {
        "duration": 2,
        "start_time": "2024-01-24T19:10:38.805Z"
      },
      {
        "duration": 856,
        "start_time": "2024-01-24T19:10:38.822Z"
      },
      {
        "duration": 3,
        "start_time": "2024-01-24T19:10:39.679Z"
      },
      {
        "duration": 2801,
        "start_time": "2024-01-24T19:10:39.683Z"
      },
      {
        "duration": 23,
        "start_time": "2024-01-24T19:10:42.486Z"
      },
      {
        "duration": 67,
        "start_time": "2024-01-24T19:10:42.511Z"
      },
      {
        "duration": 27,
        "start_time": "2024-01-24T19:10:42.580Z"
      },
      {
        "duration": 10,
        "start_time": "2024-01-24T19:10:42.608Z"
      },
      {
        "duration": 1794,
        "start_time": "2024-01-24T19:10:44.703Z"
      },
      {
        "duration": 3,
        "start_time": "2024-01-24T19:11:15.366Z"
      },
      {
        "duration": 6,
        "start_time": "2024-01-24T19:12:27.109Z"
      },
      {
        "duration": 1127,
        "start_time": "2024-01-24T19:12:31.907Z"
      },
      {
        "duration": 2318,
        "start_time": "2024-01-24T19:12:33.037Z"
      },
      {
        "duration": 3,
        "start_time": "2024-01-24T19:12:35.357Z"
      },
      {
        "duration": 2751,
        "start_time": "2024-01-24T19:12:35.362Z"
      },
      {
        "duration": 23,
        "start_time": "2024-01-24T19:12:38.115Z"
      },
      {
        "duration": 66,
        "start_time": "2024-01-24T19:12:38.139Z"
      },
      {
        "duration": 35,
        "start_time": "2024-01-24T19:12:38.206Z"
      },
      {
        "duration": 5,
        "start_time": "2024-01-24T19:12:38.243Z"
      },
      {
        "duration": 5,
        "start_time": "2024-01-24T19:12:38.249Z"
      },
      {
        "duration": 1772,
        "start_time": "2024-01-24T19:12:39.483Z"
      },
      {
        "duration": 27,
        "start_time": "2024-01-24T19:16:10.669Z"
      },
      {
        "duration": 22,
        "start_time": "2024-01-24T19:16:27.970Z"
      },
      {
        "duration": 1027,
        "start_time": "2024-01-24T19:16:39.079Z"
      },
      {
        "duration": 935,
        "start_time": "2024-01-24T19:16:40.108Z"
      },
      {
        "duration": 3,
        "start_time": "2024-01-24T19:16:41.044Z"
      },
      {
        "duration": 2760,
        "start_time": "2024-01-24T19:16:41.048Z"
      },
      {
        "duration": 25,
        "start_time": "2024-01-24T19:16:43.810Z"
      },
      {
        "duration": 50,
        "start_time": "2024-01-24T19:16:43.836Z"
      },
      {
        "duration": 24,
        "start_time": "2024-01-24T19:16:43.887Z"
      },
      {
        "duration": 4,
        "start_time": "2024-01-24T19:16:43.912Z"
      },
      {
        "duration": 119,
        "start_time": "2024-01-24T19:16:43.934Z"
      },
      {
        "duration": 10,
        "start_time": "2024-01-24T19:16:55.021Z"
      },
      {
        "duration": 10,
        "start_time": "2024-01-24T19:17:20.630Z"
      },
      {
        "duration": 8,
        "start_time": "2024-01-24T19:45:24.819Z"
      },
      {
        "duration": 1064,
        "start_time": "2024-01-24T19:45:45.604Z"
      },
      {
        "duration": 954,
        "start_time": "2024-01-24T19:45:46.670Z"
      },
      {
        "duration": 3,
        "start_time": "2024-01-24T19:45:47.625Z"
      },
      {
        "duration": 2691,
        "start_time": "2024-01-24T19:45:47.634Z"
      },
      {
        "duration": 26,
        "start_time": "2024-01-24T19:45:50.326Z"
      },
      {
        "duration": 51,
        "start_time": "2024-01-24T19:45:50.353Z"
      },
      {
        "duration": 3,
        "start_time": "2024-01-24T19:45:50.405Z"
      },
      {
        "duration": 1057,
        "start_time": "2024-01-24T20:27:45.170Z"
      },
      {
        "duration": 945,
        "start_time": "2024-01-24T20:27:46.231Z"
      },
      {
        "duration": 2,
        "start_time": "2024-01-24T20:27:47.178Z"
      },
      {
        "duration": 2763,
        "start_time": "2024-01-24T20:27:47.182Z"
      },
      {
        "duration": 24,
        "start_time": "2024-01-24T20:27:49.946Z"
      },
      {
        "duration": 62,
        "start_time": "2024-01-24T20:27:49.972Z"
      },
      {
        "duration": 3,
        "start_time": "2024-01-24T20:27:50.035Z"
      },
      {
        "duration": 1005,
        "start_time": "2024-01-24T20:32:14.881Z"
      },
      {
        "duration": 957,
        "start_time": "2024-01-24T20:32:15.888Z"
      },
      {
        "duration": 3,
        "start_time": "2024-01-24T20:32:16.846Z"
      },
      {
        "duration": 2739,
        "start_time": "2024-01-24T20:32:16.850Z"
      },
      {
        "duration": 23,
        "start_time": "2024-01-24T20:32:19.590Z"
      },
      {
        "duration": 64,
        "start_time": "2024-01-24T20:32:19.615Z"
      },
      {
        "duration": 98,
        "start_time": "2024-01-24T20:32:19.680Z"
      },
      {
        "duration": 0,
        "start_time": "2024-01-24T20:32:19.780Z"
      },
      {
        "duration": 0,
        "start_time": "2024-01-24T20:32:19.784Z"
      },
      {
        "duration": 1283,
        "start_time": "2024-01-24T20:34:25.152Z"
      },
      {
        "duration": 1114,
        "start_time": "2024-01-24T20:34:26.437Z"
      },
      {
        "duration": 4,
        "start_time": "2024-01-24T20:34:27.553Z"
      },
      {
        "duration": 3288,
        "start_time": "2024-01-24T20:34:27.558Z"
      },
      {
        "duration": 25,
        "start_time": "2024-01-24T20:34:30.848Z"
      },
      {
        "duration": 116,
        "start_time": "2024-01-24T20:34:30.875Z"
      },
      {
        "duration": 1074,
        "start_time": "2024-01-24T20:55:59.721Z"
      },
      {
        "duration": 994,
        "start_time": "2024-01-24T20:56:00.798Z"
      },
      {
        "duration": 3,
        "start_time": "2024-01-24T20:56:01.794Z"
      },
      {
        "duration": 2786,
        "start_time": "2024-01-24T20:56:01.800Z"
      },
      {
        "duration": 21,
        "start_time": "2024-01-24T20:56:04.588Z"
      },
      {
        "duration": 56,
        "start_time": "2024-01-24T20:56:04.611Z"
      },
      {
        "duration": 4,
        "start_time": "2024-01-24T20:56:04.669Z"
      },
      {
        "duration": 35,
        "start_time": "2024-01-24T20:56:04.674Z"
      },
      {
        "duration": 4,
        "start_time": "2024-01-24T20:56:04.710Z"
      },
      {
        "duration": 362,
        "start_time": "2024-01-24T20:56:39.260Z"
      },
      {
        "duration": 3,
        "start_time": "2024-01-24T20:57:14.977Z"
      },
      {
        "duration": 5,
        "start_time": "2024-01-24T20:57:21.221Z"
      },
      {
        "duration": 1002,
        "start_time": "2024-01-24T21:08:04.091Z"
      },
      {
        "duration": 2350,
        "start_time": "2024-01-24T21:08:05.095Z"
      },
      {
        "duration": 3,
        "start_time": "2024-01-24T21:08:07.447Z"
      },
      {
        "duration": 2818,
        "start_time": "2024-01-24T21:08:07.451Z"
      },
      {
        "duration": 22,
        "start_time": "2024-01-24T21:08:10.270Z"
      },
      {
        "duration": 64,
        "start_time": "2024-01-24T21:08:10.293Z"
      },
      {
        "duration": 4,
        "start_time": "2024-01-24T21:08:10.358Z"
      },
      {
        "duration": 1080,
        "start_time": "2024-01-24T21:15:06.152Z"
      },
      {
        "duration": 2327,
        "start_time": "2024-01-24T21:15:07.235Z"
      },
      {
        "duration": 3,
        "start_time": "2024-01-24T21:15:09.564Z"
      },
      {
        "duration": 2767,
        "start_time": "2024-01-24T21:15:09.569Z"
      },
      {
        "duration": 25,
        "start_time": "2024-01-24T21:15:12.337Z"
      },
      {
        "duration": 75,
        "start_time": "2024-01-24T21:15:12.364Z"
      },
      {
        "duration": 5,
        "start_time": "2024-01-24T21:15:12.441Z"
      },
      {
        "duration": 1061,
        "start_time": "2024-01-24T21:22:05.230Z"
      },
      {
        "duration": 2321,
        "start_time": "2024-01-24T21:22:06.293Z"
      },
      {
        "duration": 4,
        "start_time": "2024-01-24T21:22:08.615Z"
      },
      {
        "duration": 2741,
        "start_time": "2024-01-24T21:22:08.621Z"
      },
      {
        "duration": 21,
        "start_time": "2024-01-24T21:22:11.363Z"
      },
      {
        "duration": 79,
        "start_time": "2024-01-24T21:22:11.385Z"
      },
      {
        "duration": 5,
        "start_time": "2024-01-24T21:22:11.466Z"
      },
      {
        "duration": 25,
        "start_time": "2024-01-24T21:22:17.675Z"
      },
      {
        "duration": 84484,
        "start_time": "2024-01-24T21:23:19.428Z"
      },
      {
        "duration": 10,
        "start_time": "2024-01-24T21:26:27.528Z"
      },
      {
        "duration": 14,
        "start_time": "2024-01-24T21:26:57.953Z"
      },
      {
        "duration": 1014,
        "start_time": "2024-01-24T21:27:41.461Z"
      },
      {
        "duration": 971,
        "start_time": "2024-01-24T21:27:42.476Z"
      },
      {
        "duration": 3,
        "start_time": "2024-01-24T21:27:43.448Z"
      },
      {
        "duration": 2723,
        "start_time": "2024-01-24T21:27:43.453Z"
      },
      {
        "duration": 24,
        "start_time": "2024-01-24T21:27:46.177Z"
      },
      {
        "duration": 60,
        "start_time": "2024-01-24T21:27:46.202Z"
      },
      {
        "duration": 4,
        "start_time": "2024-01-24T21:27:46.264Z"
      },
      {
        "duration": 25,
        "start_time": "2024-01-24T21:27:53.456Z"
      },
      {
        "duration": 8,
        "start_time": "2024-01-24T21:27:55.950Z"
      },
      {
        "duration": 91503,
        "start_time": "2024-01-24T21:28:04.103Z"
      },
      {
        "duration": 19,
        "start_time": "2024-01-24T21:31:18.182Z"
      },
      {
        "duration": 775,
        "start_time": "2024-01-24T21:31:18.203Z"
      },
      {
        "duration": 3,
        "start_time": "2024-01-24T21:31:18.980Z"
      },
      {
        "duration": 2736,
        "start_time": "2024-01-24T21:31:18.984Z"
      },
      {
        "duration": 22,
        "start_time": "2024-01-24T21:31:21.722Z"
      },
      {
        "duration": 60,
        "start_time": "2024-01-24T21:31:21.745Z"
      },
      {
        "duration": 32,
        "start_time": "2024-01-24T21:31:26.987Z"
      },
      {
        "duration": 9,
        "start_time": "2024-01-24T21:31:28.966Z"
      },
      {
        "duration": 89,
        "start_time": "2024-01-24T21:31:33.548Z"
      },
      {
        "duration": 3,
        "start_time": "2024-01-24T21:31:38.424Z"
      },
      {
        "duration": 6237,
        "start_time": "2024-01-24T21:31:38.996Z"
      },
      {
        "duration": 18,
        "start_time": "2024-01-24T21:42:37.201Z"
      },
      {
        "duration": 881,
        "start_time": "2024-01-24T21:42:37.221Z"
      },
      {
        "duration": 3,
        "start_time": "2024-01-24T21:42:38.104Z"
      },
      {
        "duration": 2707,
        "start_time": "2024-01-24T21:42:38.108Z"
      },
      {
        "duration": 23,
        "start_time": "2024-01-24T21:42:40.816Z"
      },
      {
        "duration": 51,
        "start_time": "2024-01-24T21:42:40.840Z"
      },
      {
        "duration": 32,
        "start_time": "2024-01-24T21:42:42.772Z"
      },
      {
        "duration": 8,
        "start_time": "2024-01-24T21:42:44.030Z"
      },
      {
        "duration": 31,
        "start_time": "2024-01-24T21:42:44.047Z"
      },
      {
        "duration": 9,
        "start_time": "2024-01-24T21:42:49.845Z"
      },
      {
        "duration": 29,
        "start_time": "2024-01-24T21:43:04.715Z"
      },
      {
        "duration": 9,
        "start_time": "2024-01-24T21:43:06.409Z"
      },
      {
        "duration": 3,
        "start_time": "2024-01-24T21:43:22.191Z"
      },
      {
        "duration": 1002,
        "start_time": "2024-01-24T21:43:26.385Z"
      },
      {
        "duration": 2,
        "start_time": "2024-01-24T21:46:06.366Z"
      },
      {
        "duration": 5614,
        "start_time": "2024-01-24T21:46:21.406Z"
      },
      {
        "duration": 173,
        "start_time": "2024-01-24T21:53:49.828Z"
      },
      {
        "duration": 3,
        "start_time": "2024-01-24T21:54:22.064Z"
      },
      {
        "duration": 3,
        "start_time": "2024-01-24T21:54:48.567Z"
      },
      {
        "duration": 3,
        "start_time": "2024-01-24T21:55:31.037Z"
      },
      {
        "duration": 941,
        "start_time": "2024-01-24T21:55:31.045Z"
      },
      {
        "duration": 3,
        "start_time": "2024-01-24T21:55:31.988Z"
      },
      {
        "duration": 2737,
        "start_time": "2024-01-24T21:55:31.993Z"
      },
      {
        "duration": 22,
        "start_time": "2024-01-24T21:55:34.732Z"
      },
      {
        "duration": 49,
        "start_time": "2024-01-24T21:55:34.755Z"
      },
      {
        "duration": 3,
        "start_time": "2024-01-24T21:55:34.805Z"
      },
      {
        "duration": 32,
        "start_time": "2024-01-24T21:55:35.907Z"
      },
      {
        "duration": 8,
        "start_time": "2024-01-24T21:55:37.542Z"
      },
      {
        "duration": 404,
        "start_time": "2024-01-24T21:55:48.467Z"
      },
      {
        "duration": 3,
        "start_time": "2024-01-24T21:56:13.442Z"
      },
      {
        "duration": 3,
        "start_time": "2024-01-24T21:56:20.595Z"
      },
      {
        "duration": 896,
        "start_time": "2024-01-24T21:56:21.466Z"
      },
      {
        "duration": 5,
        "start_time": "2024-01-24T21:57:07.349Z"
      },
      {
        "duration": 3,
        "start_time": "2024-01-24T21:57:14.318Z"
      },
      {
        "duration": 60,
        "start_time": "2024-01-24T21:57:15.006Z"
      },
      {
        "duration": 2,
        "start_time": "2024-01-24T21:58:39.109Z"
      },
      {
        "duration": 177,
        "start_time": "2024-01-24T21:58:40.818Z"
      },
      {
        "duration": 3,
        "start_time": "2024-01-24T22:03:11.534Z"
      },
      {
        "duration": 3,
        "start_time": "2024-01-24T22:05:45.423Z"
      },
      {
        "duration": 2,
        "start_time": "2024-01-24T22:05:48.693Z"
      },
      {
        "duration": 443,
        "start_time": "2024-01-24T22:05:54.315Z"
      },
      {
        "duration": 3628,
        "start_time": "2024-01-25T07:53:50.505Z"
      },
      {
        "duration": 410,
        "start_time": "2024-01-25T07:55:02.370Z"
      },
      {
        "duration": 592,
        "start_time": "2024-01-25T07:55:33.268Z"
      },
      {
        "duration": 3,
        "start_time": "2024-01-25T07:57:11.764Z"
      },
      {
        "duration": 95,
        "start_time": "2024-01-25T08:01:58.871Z"
      },
      {
        "duration": 3,
        "start_time": "2024-01-25T08:02:05.871Z"
      },
      {
        "duration": 3200,
        "start_time": "2024-01-25T08:02:05.892Z"
      },
      {
        "duration": 3,
        "start_time": "2024-01-25T08:02:09.094Z"
      },
      {
        "duration": 3120,
        "start_time": "2024-01-25T08:02:09.098Z"
      },
      {
        "duration": 23,
        "start_time": "2024-01-25T08:02:12.220Z"
      },
      {
        "duration": 90,
        "start_time": "2024-01-25T08:02:12.244Z"
      },
      {
        "duration": 34,
        "start_time": "2024-01-25T08:02:12.335Z"
      },
      {
        "duration": 20,
        "start_time": "2024-01-25T08:02:12.371Z"
      },
      {
        "duration": 607,
        "start_time": "2024-01-25T08:02:12.393Z"
      },
      {
        "duration": 3,
        "start_time": "2024-01-25T08:02:13.001Z"
      },
      {
        "duration": 504,
        "start_time": "2024-01-25T08:02:13.006Z"
      },
      {
        "duration": 3,
        "start_time": "2024-01-25T08:02:35.719Z"
      },
      {
        "duration": 35,
        "start_time": "2024-01-25T08:02:36.747Z"
      },
      {
        "duration": 991444,
        "start_time": "2024-01-25T08:06:38.333Z"
      },
      {
        "duration": 181,
        "start_time": "2024-01-25T08:29:58.127Z"
      },
      {
        "duration": 35,
        "start_time": "2024-01-25T08:32:01.348Z"
      },
      {
        "duration": 4,
        "start_time": "2024-01-25T08:32:41.946Z"
      },
      {
        "duration": 214,
        "start_time": "2024-01-25T08:32:59.652Z"
      },
      {
        "duration": 16,
        "start_time": "2024-01-25T08:33:54.962Z"
      },
      {
        "duration": 3,
        "start_time": "2024-01-25T08:34:23.083Z"
      },
      {
        "duration": 2,
        "start_time": "2024-01-25T08:34:28.720Z"
      },
      {
        "duration": 15,
        "start_time": "2024-01-25T08:36:08.431Z"
      },
      {
        "duration": 7413,
        "start_time": "2024-01-25T08:36:28.638Z"
      },
      {
        "duration": 7015,
        "start_time": "2024-01-25T08:38:16.152Z"
      },
      {
        "duration": 7105,
        "start_time": "2024-01-25T08:38:32.921Z"
      },
      {
        "duration": 23,
        "start_time": "2024-01-25T09:13:24.475Z"
      },
      {
        "duration": 30,
        "start_time": "2024-01-25T09:13:46.688Z"
      },
      {
        "duration": 3,
        "start_time": "2024-01-25T09:13:56.745Z"
      },
      {
        "duration": 2,
        "start_time": "2024-01-25T09:17:06.903Z"
      },
      {
        "duration": 3886,
        "start_time": "2024-01-25T09:18:43.508Z"
      },
      {
        "duration": 1265,
        "start_time": "2024-01-25T09:18:47.396Z"
      },
      {
        "duration": 3,
        "start_time": "2024-01-25T09:18:48.663Z"
      },
      {
        "duration": 3039,
        "start_time": "2024-01-25T09:18:48.668Z"
      },
      {
        "duration": 23,
        "start_time": "2024-01-25T09:18:51.709Z"
      },
      {
        "duration": 54,
        "start_time": "2024-01-25T09:18:51.733Z"
      },
      {
        "duration": 37,
        "start_time": "2024-01-25T09:18:51.788Z"
      },
      {
        "duration": 5,
        "start_time": "2024-01-25T09:18:51.827Z"
      },
      {
        "duration": 574,
        "start_time": "2024-01-25T09:18:51.834Z"
      },
      {
        "duration": 3,
        "start_time": "2024-01-25T09:18:52.410Z"
      },
      {
        "duration": 947916,
        "start_time": "2024-01-25T09:18:52.417Z"
      },
      {
        "duration": 221,
        "start_time": "2024-01-25T09:34:40.335Z"
      },
      {
        "duration": 3,
        "start_time": "2024-01-25T09:34:40.557Z"
      },
      {
        "duration": 7247,
        "start_time": "2024-01-25T09:34:40.561Z"
      },
      {
        "duration": 8,
        "start_time": "2024-01-25T09:34:47.810Z"
      },
      {
        "duration": 35955,
        "start_time": "2024-01-25T09:34:47.819Z"
      },
      {
        "duration": 34950,
        "start_time": "2024-01-25T09:37:20.877Z"
      },
      {
        "duration": 4,
        "start_time": "2024-01-25T09:44:08.934Z"
      },
      {
        "duration": 506,
        "start_time": "2024-01-25T09:44:10.278Z"
      },
      {
        "duration": 3,
        "start_time": "2024-01-25T09:44:10.786Z"
      },
      {
        "duration": 955595,
        "start_time": "2024-01-25T09:44:11.038Z"
      },
      {
        "duration": 4,
        "start_time": "2024-01-25T10:00:06.634Z"
      },
      {
        "duration": 58,
        "start_time": "2024-01-25T10:00:06.639Z"
      },
      {
        "duration": 6659,
        "start_time": "2024-01-25T10:00:06.699Z"
      },
      {
        "duration": 91,
        "start_time": "2024-01-25T10:01:26.829Z"
      },
      {
        "duration": 37541,
        "start_time": "2024-01-25T10:02:57.981Z"
      },
      {
        "duration": 729,
        "start_time": "2024-01-25T10:09:24.767Z"
      },
      {
        "duration": 29605,
        "start_time": "2024-01-25T10:09:42.659Z"
      },
      {
        "duration": 91,
        "start_time": "2024-01-25T10:22:14.383Z"
      },
      {
        "duration": 81,
        "start_time": "2024-01-25T10:22:28.412Z"
      },
      {
        "duration": 122654,
        "start_time": "2024-01-25T10:22:35.233Z"
      },
      {
        "duration": 23,
        "start_time": "2024-01-25T10:33:35.249Z"
      },
      {
        "duration": 4361,
        "start_time": "2024-01-25T10:43:15.077Z"
      },
      {
        "duration": 3287,
        "start_time": "2024-01-25T10:43:19.440Z"
      },
      {
        "duration": 3,
        "start_time": "2024-01-25T10:43:22.729Z"
      },
      {
        "duration": 3160,
        "start_time": "2024-01-25T10:43:22.734Z"
      },
      {
        "duration": 29,
        "start_time": "2024-01-25T10:43:25.896Z"
      },
      {
        "duration": 92,
        "start_time": "2024-01-25T10:43:25.927Z"
      },
      {
        "duration": 26,
        "start_time": "2024-01-25T10:43:26.020Z"
      },
      {
        "duration": 23,
        "start_time": "2024-01-25T10:43:26.047Z"
      },
      {
        "duration": 576,
        "start_time": "2024-01-25T10:43:26.071Z"
      },
      {
        "duration": 3,
        "start_time": "2024-01-25T10:43:26.649Z"
      },
      {
        "duration": 960875,
        "start_time": "2024-01-25T10:43:26.653Z"
      },
      {
        "duration": 221,
        "start_time": "2024-01-25T10:59:27.530Z"
      },
      {
        "duration": 3,
        "start_time": "2024-01-25T10:59:27.753Z"
      },
      {
        "duration": 7201,
        "start_time": "2024-01-25T10:59:27.758Z"
      },
      {
        "duration": 36562,
        "start_time": "2024-01-25T10:59:34.961Z"
      },
      {
        "duration": 30154,
        "start_time": "2024-01-25T11:00:11.525Z"
      },
      {
        "duration": 122437,
        "start_time": "2024-01-25T11:00:41.680Z"
      },
      {
        "duration": 4083,
        "start_time": "2024-01-25T11:13:20.641Z"
      },
      {
        "duration": 3181,
        "start_time": "2024-01-25T11:13:24.726Z"
      },
      {
        "duration": 3,
        "start_time": "2024-01-25T11:13:27.909Z"
      },
      {
        "duration": 3076,
        "start_time": "2024-01-25T11:13:27.914Z"
      },
      {
        "duration": 29,
        "start_time": "2024-01-25T11:13:30.991Z"
      },
      {
        "duration": 82,
        "start_time": "2024-01-25T11:13:31.022Z"
      },
      {
        "duration": 23,
        "start_time": "2024-01-25T11:13:31.105Z"
      },
      {
        "duration": 23,
        "start_time": "2024-01-25T11:13:31.130Z"
      },
      {
        "duration": 546,
        "start_time": "2024-01-25T11:13:31.155Z"
      },
      {
        "duration": 3,
        "start_time": "2024-01-25T11:13:31.704Z"
      },
      {
        "duration": 940972,
        "start_time": "2024-01-25T11:13:31.708Z"
      },
      {
        "duration": 220,
        "start_time": "2024-01-25T11:29:12.681Z"
      },
      {
        "duration": 3,
        "start_time": "2024-01-25T11:29:12.902Z"
      },
      {
        "duration": 7431,
        "start_time": "2024-01-25T11:29:12.906Z"
      },
      {
        "duration": 49985,
        "start_time": "2024-01-25T11:29:20.339Z"
      },
      {
        "duration": 33542,
        "start_time": "2024-01-25T11:30:10.326Z"
      },
      {
        "duration": 36091,
        "start_time": "2024-01-25T11:30:43.870Z"
      },
      {
        "duration": 122,
        "start_time": "2024-01-25T11:40:45.485Z"
      },
      {
        "duration": 4132,
        "start_time": "2024-01-25T11:42:03.302Z"
      },
      {
        "duration": 3211,
        "start_time": "2024-01-25T11:42:07.435Z"
      },
      {
        "duration": 3,
        "start_time": "2024-01-25T11:42:10.647Z"
      },
      {
        "duration": 3124,
        "start_time": "2024-01-25T11:42:10.652Z"
      },
      {
        "duration": 23,
        "start_time": "2024-01-25T11:42:13.778Z"
      },
      {
        "duration": 63,
        "start_time": "2024-01-25T11:42:13.802Z"
      },
      {
        "duration": 22,
        "start_time": "2024-01-25T11:42:13.867Z"
      },
      {
        "duration": 5,
        "start_time": "2024-01-25T11:42:13.890Z"
      },
      {
        "duration": 552,
        "start_time": "2024-01-25T11:42:13.896Z"
      },
      {
        "duration": 3,
        "start_time": "2024-01-25T11:42:14.450Z"
      },
      {
        "duration": 951158,
        "start_time": "2024-01-25T11:42:14.455Z"
      },
      {
        "duration": 229,
        "start_time": "2024-01-25T11:58:05.618Z"
      },
      {
        "duration": 3,
        "start_time": "2024-01-25T11:58:05.849Z"
      },
      {
        "duration": 7141,
        "start_time": "2024-01-25T11:58:05.854Z"
      },
      {
        "duration": 53149,
        "start_time": "2024-01-25T11:58:12.996Z"
      },
      {
        "duration": 34475,
        "start_time": "2024-01-25T11:59:06.149Z"
      },
      {
        "duration": 19388,
        "start_time": "2024-01-25T12:36:55.828Z"
      },
      {
        "duration": 2176919,
        "start_time": "2024-01-25T12:37:15.218Z"
      },
      {
        "duration": 802,
        "start_time": "2024-01-25T13:24:31.885Z"
      },
      {
        "duration": 143,
        "start_time": "2024-01-25T13:25:03.411Z"
      },
      {
        "duration": 135,
        "start_time": "2024-01-25T13:25:42.237Z"
      },
      {
        "duration": 4,
        "start_time": "2024-01-25T13:26:11.197Z"
      },
      {
        "duration": 910,
        "start_time": "2024-01-25T13:26:15.627Z"
      },
      {
        "duration": 157,
        "start_time": "2024-01-25T13:26:17.713Z"
      },
      {
        "duration": 145,
        "start_time": "2024-01-25T13:26:35.274Z"
      },
      {
        "duration": 142,
        "start_time": "2024-01-25T13:26:47.077Z"
      },
      {
        "duration": 148,
        "start_time": "2024-01-25T13:27:02.706Z"
      },
      {
        "duration": 15,
        "start_time": "2024-01-25T13:27:20.037Z"
      },
      {
        "duration": 152,
        "start_time": "2024-01-25T13:28:51.547Z"
      },
      {
        "duration": 145,
        "start_time": "2024-01-25T13:29:09.208Z"
      },
      {
        "duration": 139,
        "start_time": "2024-01-25T13:29:13.393Z"
      },
      {
        "duration": 4,
        "start_time": "2024-01-25T13:31:08.481Z"
      },
      {
        "duration": 863,
        "start_time": "2024-01-25T13:31:09.768Z"
      },
      {
        "duration": 163,
        "start_time": "2024-01-25T13:31:10.632Z"
      },
      {
        "duration": 18,
        "start_time": "2024-01-25T13:52:57.832Z"
      },
      {
        "duration": 7373,
        "start_time": "2024-01-25T13:53:11.342Z"
      },
      {
        "duration": 36,
        "start_time": "2024-01-25T13:53:18.717Z"
      },
      {
        "duration": 16,
        "start_time": "2024-01-25T13:56:05.415Z"
      },
      {
        "duration": 5653,
        "start_time": "2024-01-25T13:56:50.597Z"
      },
      {
        "duration": 34,
        "start_time": "2024-01-25T13:56:56.252Z"
      },
      {
        "duration": 8974,
        "start_time": "2024-01-25T13:57:18.692Z"
      },
      {
        "duration": 34,
        "start_time": "2024-01-25T13:57:27.668Z"
      },
      {
        "duration": 20,
        "start_time": "2024-01-25T13:58:11.843Z"
      },
      {
        "duration": 5,
        "start_time": "2024-01-25T13:58:25.021Z"
      },
      {
        "duration": 21,
        "start_time": "2024-01-25T13:58:29.311Z"
      },
      {
        "duration": 7511,
        "start_time": "2024-01-25T13:58:42.950Z"
      },
      {
        "duration": 36,
        "start_time": "2024-01-25T13:58:50.463Z"
      },
      {
        "duration": 7296,
        "start_time": "2024-01-25T13:59:31.986Z"
      },
      {
        "duration": 35,
        "start_time": "2024-01-25T13:59:39.285Z"
      },
      {
        "duration": 24,
        "start_time": "2024-01-25T14:00:40.465Z"
      },
      {
        "duration": 5,
        "start_time": "2024-01-25T14:00:45.455Z"
      },
      {
        "duration": 21,
        "start_time": "2024-01-25T14:00:48.774Z"
      },
      {
        "duration": 21,
        "start_time": "2024-01-25T14:01:05.526Z"
      },
      {
        "duration": 20,
        "start_time": "2024-01-25T14:01:21.322Z"
      },
      {
        "duration": 7239,
        "start_time": "2024-01-25T14:02:12.672Z"
      },
      {
        "duration": 504,
        "start_time": "2024-01-25T14:02:19.914Z"
      },
      {
        "duration": 8,
        "start_time": "2024-01-25T14:03:38.688Z"
      },
      {
        "duration": 7,
        "start_time": "2024-01-25T14:03:50.788Z"
      },
      {
        "duration": 4,
        "start_time": "2024-01-25T14:03:55.408Z"
      },
      {
        "duration": 3,
        "start_time": "2024-01-25T14:03:58.308Z"
      },
      {
        "duration": 924,
        "start_time": "2024-01-25T14:04:02.780Z"
      },
      {
        "duration": 148,
        "start_time": "2024-01-25T14:04:06.369Z"
      },
      {
        "duration": 275,
        "start_time": "2024-01-25T14:04:10.116Z"
      },
      {
        "duration": 29,
        "start_time": "2024-01-25T14:09:49.254Z"
      },
      {
        "duration": 184,
        "start_time": "2024-01-25T14:10:26.888Z"
      },
      {
        "duration": 212,
        "start_time": "2024-01-25T14:16:12.393Z"
      },
      {
        "duration": 213,
        "start_time": "2024-01-25T14:16:25.895Z"
      },
      {
        "duration": 4698,
        "start_time": "2024-01-25T14:17:00.152Z"
      },
      {
        "duration": 5,
        "start_time": "2024-01-25T14:17:04.852Z"
      },
      {
        "duration": 944,
        "start_time": "2024-01-25T14:17:04.858Z"
      },
      {
        "duration": 157,
        "start_time": "2024-01-25T14:17:05.804Z"
      },
      {
        "duration": 192,
        "start_time": "2024-01-25T14:17:06.060Z"
      },
      {
        "duration": 4767,
        "start_time": "2024-01-25T14:18:17.968Z"
      },
      {
        "duration": 5,
        "start_time": "2024-01-25T14:18:22.737Z"
      },
      {
        "duration": 1041,
        "start_time": "2024-01-25T14:18:22.743Z"
      },
      {
        "duration": 154,
        "start_time": "2024-01-25T14:18:23.786Z"
      },
      {
        "duration": 218,
        "start_time": "2024-01-25T14:18:23.942Z"
      },
      {
        "duration": 5020,
        "start_time": "2024-01-25T14:33:25.596Z"
      },
      {
        "duration": 4197,
        "start_time": "2024-01-25T14:33:30.618Z"
      },
      {
        "duration": 1001,
        "start_time": "2024-01-25T14:33:34.818Z"
      },
      {
        "duration": 174,
        "start_time": "2024-01-25T14:33:35.820Z"
      },
      {
        "duration": 4976,
        "start_time": "2024-01-25T14:35:01.603Z"
      },
      {
        "duration": 4204,
        "start_time": "2024-01-25T14:35:06.582Z"
      },
      {
        "duration": 946,
        "start_time": "2024-01-25T14:35:10.788Z"
      },
      {
        "duration": 169,
        "start_time": "2024-01-25T14:35:11.736Z"
      },
      {
        "duration": 1089524,
        "start_time": "2024-01-25T14:35:11.907Z"
      },
      {
        "duration": 4,
        "start_time": "2024-01-25T14:58:12.831Z"
      },
      {
        "duration": 599,
        "start_time": "2024-01-25T14:58:13.324Z"
      },
      {
        "duration": 9,
        "start_time": "2024-01-25T14:58:13.928Z"
      },
      {
        "duration": 15,
        "start_time": "2024-01-25T14:58:14.202Z"
      },
      {
        "duration": 8,
        "start_time": "2024-01-25T14:58:14.660Z"
      },
      {
        "duration": 5,
        "start_time": "2024-01-25T14:58:15.144Z"
      },
      {
        "duration": 646,
        "start_time": "2024-01-25T14:58:15.582Z"
      },
      {
        "duration": 4,
        "start_time": "2024-01-25T14:58:16.230Z"
      },
      {
        "duration": 196817,
        "start_time": "2024-01-25T14:58:16.235Z"
      },
      {
        "duration": 143,
        "start_time": "2024-01-25T15:01:33.054Z"
      },
      {
        "duration": 3,
        "start_time": "2024-01-25T15:01:33.199Z"
      },
      {
        "duration": 371,
        "start_time": "2024-01-25T15:01:33.203Z"
      },
      {
        "duration": 0,
        "start_time": "2024-01-25T15:01:33.576Z"
      },
      {
        "duration": 0,
        "start_time": "2024-01-25T15:01:33.578Z"
      },
      {
        "duration": 0,
        "start_time": "2024-01-25T15:01:33.579Z"
      },
      {
        "duration": 0,
        "start_time": "2024-01-25T15:01:33.580Z"
      },
      {
        "duration": 3,
        "start_time": "2024-01-25T17:25:54.437Z"
      },
      {
        "duration": 1324,
        "start_time": "2024-01-25T17:25:56.419Z"
      },
      {
        "duration": 4724,
        "start_time": "2024-01-25T17:26:00.295Z"
      },
      {
        "duration": 6667,
        "start_time": "2024-01-25T17:26:05.021Z"
      },
      {
        "duration": 4728,
        "start_time": "2024-01-25T17:26:11.689Z"
      },
      {
        "duration": 2832,
        "start_time": "2024-01-25T17:35:28.938Z"
      },
      {
        "duration": 205015,
        "start_time": "2024-01-25T17:35:31.771Z"
      },
      {
        "duration": 4732,
        "start_time": "2024-01-25T17:38:56.787Z"
      },
      {
        "duration": 19,
        "start_time": "2024-01-25T17:45:10.028Z"
      },
      {
        "duration": 155,
        "start_time": "2024-01-25T17:45:26.271Z"
      },
      {
        "duration": 5239,
        "start_time": "2024-01-25T17:57:23.524Z"
      },
      {
        "duration": 4439,
        "start_time": "2024-01-25T17:57:28.766Z"
      },
      {
        "duration": 1036,
        "start_time": "2024-01-25T17:57:33.206Z"
      },
      {
        "duration": 178,
        "start_time": "2024-01-25T17:57:34.244Z"
      },
      {
        "duration": 1100555,
        "start_time": "2024-01-25T17:57:34.424Z"
      },
      {
        "duration": 3,
        "start_time": "2024-01-25T18:15:54.980Z"
      },
      {
        "duration": 628,
        "start_time": "2024-01-25T18:15:54.985Z"
      },
      {
        "duration": 8,
        "start_time": "2024-01-25T18:15:55.614Z"
      },
      {
        "duration": 42,
        "start_time": "2024-01-25T18:15:55.624Z"
      },
      {
        "duration": 26,
        "start_time": "2024-01-25T18:15:55.669Z"
      },
      {
        "duration": 25,
        "start_time": "2024-01-25T18:15:55.697Z"
      },
      {
        "duration": 612,
        "start_time": "2024-01-25T18:15:55.724Z"
      },
      {
        "duration": 3,
        "start_time": "2024-01-25T18:15:56.338Z"
      },
      {
        "duration": 194223,
        "start_time": "2024-01-25T18:15:56.342Z"
      },
      {
        "duration": 150,
        "start_time": "2024-01-25T18:19:10.567Z"
      },
      {
        "duration": 3,
        "start_time": "2024-01-25T18:19:10.718Z"
      },
      {
        "duration": 1396,
        "start_time": "2024-01-25T18:19:10.723Z"
      },
      {
        "duration": 10512,
        "start_time": "2024-01-25T18:19:12.121Z"
      },
      {
        "duration": 7265,
        "start_time": "2024-01-25T18:19:22.636Z"
      },
      {
        "duration": 3414,
        "start_time": "2024-01-25T18:19:29.903Z"
      },
      {
        "duration": 216548,
        "start_time": "2024-01-25T18:19:33.320Z"
      },
      {
        "duration": 148,
        "start_time": "2024-01-25T18:23:09.870Z"
      },
      {
        "duration": 5837,
        "start_time": "2024-01-25T18:55:02.277Z"
      },
      {
        "duration": 158,
        "start_time": "2024-01-25T19:32:00.932Z"
      },
      {
        "duration": 5331,
        "start_time": "2024-01-25T19:35:01.834Z"
      },
      {
        "duration": 4,
        "start_time": "2024-01-25T19:35:07.168Z"
      },
      {
        "duration": 1028,
        "start_time": "2024-01-25T19:35:07.174Z"
      },
      {
        "duration": 4,
        "start_time": "2024-01-25T19:35:08.204Z"
      },
      {
        "duration": 3280,
        "start_time": "2024-01-25T19:35:08.209Z"
      },
      {
        "duration": 35,
        "start_time": "2024-01-25T19:35:11.491Z"
      },
      {
        "duration": 81,
        "start_time": "2024-01-25T19:35:11.528Z"
      },
      {
        "duration": 36,
        "start_time": "2024-01-25T19:35:11.611Z"
      },
      {
        "duration": 6,
        "start_time": "2024-01-25T19:35:11.648Z"
      },
      {
        "duration": 178,
        "start_time": "2024-01-25T19:35:11.656Z"
      },
      {
        "duration": 475,
        "start_time": "2024-01-25T19:35:11.836Z"
      },
      {
        "duration": 317,
        "start_time": "2024-01-25T19:39:17.317Z"
      },
      {
        "duration": 343,
        "start_time": "2024-01-25T19:39:36.462Z"
      },
      {
        "duration": 559,
        "start_time": "2024-01-25T19:39:44.666Z"
      },
      {
        "duration": 348,
        "start_time": "2024-01-25T19:39:47.554Z"
      },
      {
        "duration": 346,
        "start_time": "2024-01-25T19:39:57.008Z"
      },
      {
        "duration": 325,
        "start_time": "2024-01-25T19:39:59.797Z"
      },
      {
        "duration": 4636,
        "start_time": "2024-01-25T19:40:26.496Z"
      },
      {
        "duration": 3901,
        "start_time": "2024-01-25T19:40:31.134Z"
      },
      {
        "duration": 911,
        "start_time": "2024-01-25T19:40:35.037Z"
      },
      {
        "duration": 3,
        "start_time": "2024-01-25T19:40:35.950Z"
      },
      {
        "duration": 2800,
        "start_time": "2024-01-25T19:40:35.955Z"
      },
      {
        "duration": 24,
        "start_time": "2024-01-25T19:40:38.756Z"
      },
      {
        "duration": 63,
        "start_time": "2024-01-25T19:40:38.781Z"
      },
      {
        "duration": 24,
        "start_time": "2024-01-25T19:40:38.846Z"
      },
      {
        "duration": 4,
        "start_time": "2024-01-25T19:40:38.872Z"
      },
      {
        "duration": 164,
        "start_time": "2024-01-25T19:40:38.878Z"
      },
      {
        "duration": 409,
        "start_time": "2024-01-25T19:40:39.043Z"
      },
      {
        "duration": 750407,
        "start_time": "2024-01-25T19:41:24.934Z"
      },
      {
        "duration": 136,
        "start_time": "2024-01-25T19:56:26.411Z"
      },
      {
        "duration": 4592,
        "start_time": "2024-01-25T19:56:50.212Z"
      },
      {
        "duration": 4,
        "start_time": "2024-01-25T19:56:54.806Z"
      },
      {
        "duration": 887,
        "start_time": "2024-01-25T19:56:54.812Z"
      },
      {
        "duration": 3,
        "start_time": "2024-01-25T19:56:55.700Z"
      },
      {
        "duration": 2755,
        "start_time": "2024-01-25T19:56:55.704Z"
      },
      {
        "duration": 18,
        "start_time": "2024-01-25T19:56:58.460Z"
      },
      {
        "duration": 55,
        "start_time": "2024-01-25T19:56:58.479Z"
      },
      {
        "duration": 19,
        "start_time": "2024-01-25T19:56:58.536Z"
      },
      {
        "duration": 16,
        "start_time": "2024-01-25T19:56:58.557Z"
      },
      {
        "duration": 146,
        "start_time": "2024-01-25T19:56:58.575Z"
      },
      {
        "duration": 699754,
        "start_time": "2024-01-25T19:57:22.948Z"
      },
      {
        "duration": 26,
        "start_time": "2024-01-25T20:12:26.792Z"
      },
      {
        "duration": 7,
        "start_time": "2024-01-25T20:13:35.480Z"
      },
      {
        "duration": 141,
        "start_time": "2024-01-25T20:13:41.650Z"
      },
      {
        "duration": 700288,
        "start_time": "2024-01-25T20:13:43.156Z"
      },
      {
        "duration": 672,
        "start_time": "2024-01-25T20:25:23.445Z"
      },
      {
        "duration": 4,
        "start_time": "2024-01-25T20:25:24.119Z"
      },
      {
        "duration": 232924,
        "start_time": "2024-01-25T20:25:24.125Z"
      },
      {
        "duration": 209,
        "start_time": "2024-01-25T20:29:17.051Z"
      },
      {
        "duration": 2,
        "start_time": "2024-01-25T20:29:17.261Z"
      },
      {
        "duration": 1364,
        "start_time": "2024-01-25T20:29:17.265Z"
      },
      {
        "duration": 3317,
        "start_time": "2024-01-25T20:31:12.148Z"
      },
      {
        "duration": 1728,
        "start_time": "2024-01-25T20:31:40.297Z"
      },
      {
        "duration": 3159,
        "start_time": "2024-01-25T20:31:43.261Z"
      },
      {
        "duration": 5849,
        "start_time": "2024-01-25T20:32:01.177Z"
      },
      {
        "duration": 2747,
        "start_time": "2024-01-25T20:32:12.554Z"
      },
      {
        "duration": 5537,
        "start_time": "2024-01-25T20:32:33.722Z"
      },
      {
        "duration": 189090,
        "start_time": "2024-01-25T20:32:45.750Z"
      },
      {
        "duration": 150,
        "start_time": "2024-01-25T20:36:32.930Z"
      },
      {
        "duration": 15586,
        "start_time": "2024-01-25T20:56:46.934Z"
      },
      {
        "duration": 65957,
        "start_time": "2024-01-25T20:59:40.662Z"
      },
      {
        "duration": 63836,
        "start_time": "2024-01-25T21:01:24.284Z"
      },
      {
        "duration": 86698,
        "start_time": "2024-01-25T21:05:56.222Z"
      },
      {
        "duration": 3429,
        "start_time": "2024-01-25T21:08:19.390Z"
      },
      {
        "duration": 435,
        "start_time": "2024-01-25T21:08:57.745Z"
      },
      {
        "duration": 3,
        "start_time": "2024-01-25T21:08:58.660Z"
      },
      {
        "duration": 534238,
        "start_time": "2024-01-25T21:09:01.434Z"
      },
      {
        "duration": 4,
        "start_time": "2024-01-25T21:17:55.673Z"
      },
      {
        "duration": 15,
        "start_time": "2024-01-25T21:17:55.678Z"
      },
      {
        "duration": 1900,
        "start_time": "2024-01-25T21:17:55.694Z"
      },
      {
        "duration": 1924,
        "start_time": "2024-01-25T21:17:57.595Z"
      },
      {
        "duration": 349,
        "start_time": "2024-01-25T21:22:57.500Z"
      },
      {
        "duration": 4662,
        "start_time": "2024-01-25T21:23:40.677Z"
      },
      {
        "duration": 4,
        "start_time": "2024-01-25T21:23:45.341Z"
      },
      {
        "duration": 945,
        "start_time": "2024-01-25T21:23:45.347Z"
      },
      {
        "duration": 3,
        "start_time": "2024-01-25T21:23:46.293Z"
      },
      {
        "duration": 2753,
        "start_time": "2024-01-25T21:23:46.297Z"
      },
      {
        "duration": 18,
        "start_time": "2024-01-25T21:23:49.052Z"
      },
      {
        "duration": 48,
        "start_time": "2024-01-25T21:23:49.072Z"
      },
      {
        "duration": 22,
        "start_time": "2024-01-25T21:23:49.121Z"
      },
      {
        "duration": 5,
        "start_time": "2024-01-25T21:23:49.144Z"
      },
      {
        "duration": 147,
        "start_time": "2024-01-25T21:23:49.151Z"
      },
      {
        "duration": 418,
        "start_time": "2024-01-25T21:24:50.853Z"
      },
      {
        "duration": 12,
        "start_time": "2024-01-25T21:26:45.729Z"
      },
      {
        "duration": 4992,
        "start_time": "2024-01-25T21:27:45.301Z"
      },
      {
        "duration": 5,
        "start_time": "2024-01-25T21:27:50.295Z"
      },
      {
        "duration": 983,
        "start_time": "2024-01-25T21:27:50.301Z"
      },
      {
        "duration": 3,
        "start_time": "2024-01-25T21:27:51.286Z"
      },
      {
        "duration": 2973,
        "start_time": "2024-01-25T21:27:51.290Z"
      },
      {
        "duration": 21,
        "start_time": "2024-01-25T21:27:54.265Z"
      },
      {
        "duration": 55,
        "start_time": "2024-01-25T21:27:54.288Z"
      },
      {
        "duration": 25,
        "start_time": "2024-01-25T21:27:54.345Z"
      },
      {
        "duration": 5,
        "start_time": "2024-01-25T21:27:54.371Z"
      },
      {
        "duration": 161,
        "start_time": "2024-01-25T21:27:54.378Z"
      },
      {
        "duration": 26,
        "start_time": "2024-01-25T21:28:05.051Z"
      },
      {
        "duration": 434,
        "start_time": "2024-01-25T21:28:17.412Z"
      },
      {
        "duration": 12,
        "start_time": "2024-01-25T21:28:34.519Z"
      },
      {
        "duration": 5057,
        "start_time": "2024-01-25T21:29:17.026Z"
      },
      {
        "duration": 4,
        "start_time": "2024-01-25T21:29:22.086Z"
      },
      {
        "duration": 976,
        "start_time": "2024-01-25T21:29:22.092Z"
      },
      {
        "duration": 3,
        "start_time": "2024-01-25T21:29:23.070Z"
      },
      {
        "duration": 3014,
        "start_time": "2024-01-25T21:29:23.075Z"
      },
      {
        "duration": 28,
        "start_time": "2024-01-25T21:29:26.090Z"
      },
      {
        "duration": 60,
        "start_time": "2024-01-25T21:29:26.120Z"
      },
      {
        "duration": 36,
        "start_time": "2024-01-25T21:29:26.181Z"
      },
      {
        "duration": 30,
        "start_time": "2024-01-25T21:29:26.219Z"
      },
      {
        "duration": 164,
        "start_time": "2024-01-25T21:29:26.251Z"
      },
      {
        "duration": 213,
        "start_time": "2024-01-25T21:29:26.417Z"
      },
      {
        "duration": 5265,
        "start_time": "2024-01-25T21:31:23.572Z"
      },
      {
        "duration": 5,
        "start_time": "2024-01-25T21:31:28.839Z"
      },
      {
        "duration": 1033,
        "start_time": "2024-01-25T21:31:28.845Z"
      },
      {
        "duration": 3,
        "start_time": "2024-01-25T21:31:29.880Z"
      },
      {
        "duration": 3091,
        "start_time": "2024-01-25T21:31:29.884Z"
      },
      {
        "duration": 25,
        "start_time": "2024-01-25T21:31:32.977Z"
      },
      {
        "duration": 71,
        "start_time": "2024-01-25T21:31:33.004Z"
      },
      {
        "duration": 28,
        "start_time": "2024-01-25T21:31:33.077Z"
      },
      {
        "duration": 11,
        "start_time": "2024-01-25T21:31:33.107Z"
      },
      {
        "duration": 173,
        "start_time": "2024-01-25T21:31:33.121Z"
      },
      {
        "duration": 218,
        "start_time": "2024-01-25T21:31:33.296Z"
      },
      {
        "duration": 228,
        "start_time": "2024-01-25T21:33:12.319Z"
      },
      {
        "duration": 500,
        "start_time": "2024-01-25T21:33:55.333Z"
      },
      {
        "duration": 3,
        "start_time": "2024-01-25T21:33:56.070Z"
      },
      {
        "duration": 4980,
        "start_time": "2024-01-25T22:14:15.007Z"
      },
      {
        "duration": 4242,
        "start_time": "2024-01-25T22:14:19.989Z"
      },
      {
        "duration": 1010,
        "start_time": "2024-01-25T22:14:24.233Z"
      },
      {
        "duration": 4,
        "start_time": "2024-01-25T22:14:25.245Z"
      },
      {
        "duration": 3098,
        "start_time": "2024-01-25T22:14:25.250Z"
      },
      {
        "duration": 23,
        "start_time": "2024-01-25T22:14:28.349Z"
      },
      {
        "duration": 70,
        "start_time": "2024-01-25T22:14:28.373Z"
      },
      {
        "duration": 498,
        "start_time": "2024-01-25T22:14:28.446Z"
      },
      {
        "duration": 3,
        "start_time": "2024-01-25T22:14:28.946Z"
      },
      {
        "duration": 2233511,
        "start_time": "2024-01-25T22:14:28.951Z"
      },
      {
        "duration": 28,
        "start_time": "2024-01-25T22:51:42.464Z"
      },
      {
        "duration": 5,
        "start_time": "2024-01-25T22:51:42.493Z"
      },
      {
        "duration": 182,
        "start_time": "2024-01-25T22:51:42.499Z"
      },
      {
        "duration": 249,
        "start_time": "2024-01-25T22:51:42.684Z"
      },
      {
        "duration": 159,
        "start_time": "2024-01-25T22:51:42.934Z"
      },
      {
        "duration": 3,
        "start_time": "2024-01-25T22:51:43.094Z"
      },
      {
        "duration": 10012,
        "start_time": "2024-01-25T22:51:43.098Z"
      },
      {
        "duration": 22312,
        "start_time": "2024-01-25T22:51:53.111Z"
      },
      {
        "duration": 51105,
        "start_time": "2024-01-25T22:52:15.424Z"
      },
      {
        "duration": 16557,
        "start_time": "2024-01-25T22:53:06.531Z"
      },
      {
        "duration": 4313,
        "start_time": "2024-01-25T23:19:10.653Z"
      },
      {
        "duration": 1028,
        "start_time": "2024-01-25T23:19:14.969Z"
      },
      {
        "duration": 3,
        "start_time": "2024-01-25T23:19:15.999Z"
      },
      {
        "duration": 3085,
        "start_time": "2024-01-25T23:19:16.004Z"
      },
      {
        "duration": 34,
        "start_time": "2024-01-25T23:19:19.091Z"
      },
      {
        "duration": 77,
        "start_time": "2024-01-25T23:19:19.126Z"
      },
      {
        "duration": 519,
        "start_time": "2024-01-25T23:19:19.205Z"
      },
      {
        "duration": 3,
        "start_time": "2024-01-25T23:19:19.726Z"
      },
      {
        "duration": 2232347,
        "start_time": "2024-01-25T23:19:19.730Z"
      },
      {
        "duration": 26,
        "start_time": "2024-01-25T23:56:32.080Z"
      },
      {
        "duration": 33,
        "start_time": "2024-01-25T23:56:32.118Z"
      },
      {
        "duration": 206,
        "start_time": "2024-01-25T23:56:32.152Z"
      },
      {
        "duration": 246,
        "start_time": "2024-01-25T23:56:32.359Z"
      },
      {
        "duration": 148,
        "start_time": "2024-01-25T23:56:32.606Z"
      },
      {
        "duration": 3,
        "start_time": "2024-01-25T23:56:32.755Z"
      },
      {
        "duration": 9722,
        "start_time": "2024-01-25T23:56:32.759Z"
      },
      {
        "duration": 22647,
        "start_time": "2024-01-25T23:56:42.482Z"
      },
      {
        "duration": 49042,
        "start_time": "2024-01-25T23:57:05.218Z"
      },
      {
        "duration": 16560,
        "start_time": "2024-01-25T23:57:54.262Z"
      },
      {
        "duration": 1592310,
        "start_time": "2024-01-25T23:58:10.823Z"
      },
      {
        "duration": 185,
        "start_time": "2024-01-26T00:24:43.135Z"
      },
      {
        "duration": 361,
        "start_time": "2024-01-26T00:24:43.321Z"
      },
      {
        "duration": 0,
        "start_time": "2024-01-26T00:24:43.683Z"
      },
      {
        "duration": 10,
        "start_time": "2024-01-26T00:28:30.911Z"
      },
      {
        "duration": 15,
        "start_time": "2024-01-26T00:28:40.252Z"
      },
      {
        "duration": 50,
        "start_time": "2024-01-26T06:22:54.534Z"
      },
      {
        "duration": 4684,
        "start_time": "2024-01-26T06:23:06.362Z"
      },
      {
        "duration": 2457,
        "start_time": "2024-01-26T06:23:11.048Z"
      },
      {
        "duration": 4,
        "start_time": "2024-01-26T06:23:13.507Z"
      },
      {
        "duration": 3270,
        "start_time": "2024-01-26T06:23:13.514Z"
      },
      {
        "duration": 27,
        "start_time": "2024-01-26T06:23:16.785Z"
      },
      {
        "duration": 63,
        "start_time": "2024-01-26T06:23:16.813Z"
      },
      {
        "duration": 540,
        "start_time": "2024-01-26T06:23:16.878Z"
      },
      {
        "duration": 3,
        "start_time": "2024-01-26T06:23:17.420Z"
      },
      {
        "duration": 2361505,
        "start_time": "2024-01-26T06:23:17.425Z"
      },
      {
        "duration": 28,
        "start_time": "2024-01-26T07:02:38.934Z"
      },
      {
        "duration": 5,
        "start_time": "2024-01-26T07:02:38.963Z"
      },
      {
        "duration": 187,
        "start_time": "2024-01-26T07:02:38.970Z"
      },
      {
        "duration": 261,
        "start_time": "2024-01-26T07:02:39.159Z"
      },
      {
        "duration": 130,
        "start_time": "2024-01-26T07:02:39.423Z"
      },
      {
        "duration": 3,
        "start_time": "2024-01-26T07:02:39.554Z"
      },
      {
        "duration": 10294,
        "start_time": "2024-01-26T07:02:39.558Z"
      },
      {
        "duration": 58575,
        "start_time": "2024-01-26T07:02:49.854Z"
      },
      {
        "duration": 48899,
        "start_time": "2024-01-26T07:03:48.431Z"
      },
      {
        "duration": 16881,
        "start_time": "2024-01-26T07:04:37.332Z"
      },
      {
        "duration": 1657227,
        "start_time": "2024-01-26T07:04:54.214Z"
      },
      {
        "duration": 190,
        "start_time": "2024-01-26T07:32:31.443Z"
      },
      {
        "duration": 10,
        "start_time": "2024-01-26T07:32:31.635Z"
      },
      {
        "duration": 28,
        "start_time": "2024-01-26T07:32:31.647Z"
      },
      {
        "duration": 18,
        "start_time": "2024-01-26T07:32:31.676Z"
      }
    ],
    "kernelspec": {
      "display_name": "Python 3 (ipykernel)",
      "language": "python",
      "name": "python3"
    },
    "language_info": {
      "codemirror_mode": {
        "name": "ipython",
        "version": 3
      },
      "file_extension": ".py",
      "mimetype": "text/x-python",
      "name": "python",
      "nbconvert_exporter": "python",
      "pygments_lexer": "ipython3",
      "version": "3.9.5"
    },
    "toc": {
      "base_numbering": 1,
      "nav_menu": {
        "height": "252px",
        "width": "283px"
      },
      "number_sections": true,
      "sideBar": true,
      "skip_h1_title": true,
      "title_cell": "Содержание",
      "title_sidebar": "Contents",
      "toc_cell": true,
      "toc_position": {
        "height": "calc(100% - 180px)",
        "left": "10px",
        "top": "150px",
        "width": "302.391px"
      },
      "toc_section_display": true,
      "toc_window_display": false
    },
    "colab": {
      "provenance": []
    }
  },
  "nbformat": 4,
  "nbformat_minor": 0
}