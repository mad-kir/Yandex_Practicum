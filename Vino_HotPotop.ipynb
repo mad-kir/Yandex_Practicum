{
  "cells": [
    {
      "cell_type": "markdown",
      "metadata": {
        "toc": true,
        "id": "FK5XRSb1la_q"
      },
      "source": [
        "<h1>Содержание<span class=\"tocSkip\"></span></h1>\n",
        "<div class=\"toc\"><ul class=\"toc-item\"><li><span><a href=\"#Загрузка-данных\" data-toc-modified-id=\"Загрузка-данных-1\"><span class=\"toc-item-num\">1&nbsp;&nbsp;</span>Загрузка данных</a></span><ul class=\"toc-item\"><li><span><a href=\"#NaN-и-явные-дубликаты\" data-toc-modified-id=\"NaN-и-явные-дубликаты-1.1\"><span class=\"toc-item-num\">1.1&nbsp;&nbsp;</span>NaN и явные дубликаты</a></span></li><li><span><a href=\"#Разделение-на-featueres-и-target\" data-toc-modified-id=\"Разделение-на-featueres-и-target-1.2\"><span class=\"toc-item-num\">1.2&nbsp;&nbsp;</span>Разделение на featueres и target</a></span></li><li><span><a href=\"#Промежуточный-вывод\" data-toc-modified-id=\"Промежуточный-вывод-1.3\"><span class=\"toc-item-num\">1.3&nbsp;&nbsp;</span>Промежуточный вывод</a></span></li></ul></li><li><span><a href=\"#Умножение-матриц\" data-toc-modified-id=\"Умножение-матриц-2\"><span class=\"toc-item-num\">2&nbsp;&nbsp;</span>Умножение матриц</a></span><ul class=\"toc-item\"><li><span><a href=\"#Промежуточный-вывод\" data-toc-modified-id=\"Промежуточный-вывод-2.1\"><span class=\"toc-item-num\">2.1&nbsp;&nbsp;</span>Промежуточный вывод</a></span></li></ul></li><li><span><a href=\"#Алгоритм-преобразования\" data-toc-modified-id=\"Алгоритм-преобразования-3\"><span class=\"toc-item-num\">3&nbsp;&nbsp;</span>Алгоритм преобразования</a></span></li><li><span><a href=\"#Проверка-алгоритма\" data-toc-modified-id=\"Проверка-алгоритма-4\"><span class=\"toc-item-num\">4&nbsp;&nbsp;</span>Проверка алгоритма</a></span><ul class=\"toc-item\"><li><span><a href=\"#Промежуточный-вывод\" data-toc-modified-id=\"Промежуточный-вывод-4.1\"><span class=\"toc-item-num\">4.1&nbsp;&nbsp;</span>Промежуточный вывод</a></span></li></ul></li><li><span><a href=\"#Вывод\" data-toc-modified-id=\"Вывод-5\"><span class=\"toc-item-num\">5&nbsp;&nbsp;</span>Вывод</a></span></li><li><span><a href=\"#Чек-лист-проверки\" data-toc-modified-id=\"Чек-лист-проверки-6\"><span class=\"toc-item-num\">6&nbsp;&nbsp;</span>Чек-лист проверки</a></span></li></ul></div>"
      ]
    },
    {
      "cell_type": "markdown",
      "metadata": {
        "id": "SbmYaybLla_x"
      },
      "source": [
        "# Защита персональных данных клиентов"
      ]
    },
    {
      "cell_type": "markdown",
      "metadata": {
        "id": "yaVgSQrola_y"
      },
      "source": [
        "Нужно защитить данные клиентов страховой компании «Хоть потоп», разработав такой метод преобразования данных, чтобы по ним было сложно восстановить персональную информацию.\n",
        "\n",
        "Нужно защитить данные, чтобы при преобразовании качество моделей машинного обучения не ухудшилось, а так же обосновать корректность созданного алгоритма."
      ]
    },
    {
      "cell_type": "code",
      "execution_count": 1,
      "metadata": {
        "id": "8-9i3BkGla_y"
      },
      "outputs": [],
      "source": [
        "#импорт библиотек\n",
        "import warnings\n",
        "warnings.filterwarnings('ignore')\n",
        "\n",
        "import pandas as pd\n",
        "import numpy as np\n",
        "\n",
        "from sklearn.linear_model import LinearRegression\n",
        "from sklearn.metrics import r2_score"
      ]
    },
    {
      "cell_type": "markdown",
      "metadata": {
        "id": "alLVwFTxla_z"
      },
      "source": [
        "## Загрузка данных"
      ]
    },
    {
      "cell_type": "markdown",
      "metadata": {
        "id": "w4MZ9s0fla_0"
      },
      "source": [
        "Для начала, загрузим данные из предоставленного датасета."
      ]
    },
    {
      "cell_type": "code",
      "execution_count": 2,
      "metadata": {
        "colab": {
          "base_uri": "https://localhost:8080/",
          "height": 351
        },
        "id": "LOr3sFynla_1",
        "outputId": "3d0ded83-8a7d-4a49-eb18-53391eda7bfa"
      },
      "outputs": [
        {
          "output_type": "stream",
          "name": "stdout",
          "text": [
            "<class 'pandas.core.frame.DataFrame'>\n",
            "RangeIndex: 5000 entries, 0 to 4999\n",
            "Data columns (total 5 columns):\n",
            " #   Column             Non-Null Count  Dtype  \n",
            "---  ------             --------------  -----  \n",
            " 0   Пол                5000 non-null   int64  \n",
            " 1   Возраст            5000 non-null   float64\n",
            " 2   Зарплата           5000 non-null   float64\n",
            " 3   Члены семьи        5000 non-null   int64  \n",
            " 4   Страховые выплаты  5000 non-null   int64  \n",
            "dtypes: float64(2), int64(3)\n",
            "memory usage: 195.4 KB\n"
          ]
        },
        {
          "output_type": "execute_result",
          "data": {
            "text/plain": [
              "   Пол  Возраст  Зарплата  Члены семьи  Страховые выплаты\n",
              "0    1     41.0   49600.0            1                  0\n",
              "1    0     46.0   38000.0            1                  1\n",
              "2    0     29.0   21000.0            0                  0"
            ],
            "text/html": [
              "\n",
              "  <div id=\"df-520c4132-c64a-4ee8-a3a8-9a5f6f52d324\" class=\"colab-df-container\">\n",
              "    <div>\n",
              "<style scoped>\n",
              "    .dataframe tbody tr th:only-of-type {\n",
              "        vertical-align: middle;\n",
              "    }\n",
              "\n",
              "    .dataframe tbody tr th {\n",
              "        vertical-align: top;\n",
              "    }\n",
              "\n",
              "    .dataframe thead th {\n",
              "        text-align: right;\n",
              "    }\n",
              "</style>\n",
              "<table border=\"1\" class=\"dataframe\">\n",
              "  <thead>\n",
              "    <tr style=\"text-align: right;\">\n",
              "      <th></th>\n",
              "      <th>Пол</th>\n",
              "      <th>Возраст</th>\n",
              "      <th>Зарплата</th>\n",
              "      <th>Члены семьи</th>\n",
              "      <th>Страховые выплаты</th>\n",
              "    </tr>\n",
              "  </thead>\n",
              "  <tbody>\n",
              "    <tr>\n",
              "      <th>0</th>\n",
              "      <td>1</td>\n",
              "      <td>41.0</td>\n",
              "      <td>49600.0</td>\n",
              "      <td>1</td>\n",
              "      <td>0</td>\n",
              "    </tr>\n",
              "    <tr>\n",
              "      <th>1</th>\n",
              "      <td>0</td>\n",
              "      <td>46.0</td>\n",
              "      <td>38000.0</td>\n",
              "      <td>1</td>\n",
              "      <td>1</td>\n",
              "    </tr>\n",
              "    <tr>\n",
              "      <th>2</th>\n",
              "      <td>0</td>\n",
              "      <td>29.0</td>\n",
              "      <td>21000.0</td>\n",
              "      <td>0</td>\n",
              "      <td>0</td>\n",
              "    </tr>\n",
              "  </tbody>\n",
              "</table>\n",
              "</div>\n",
              "    <div class=\"colab-df-buttons\">\n",
              "\n",
              "  <div class=\"colab-df-container\">\n",
              "    <button class=\"colab-df-convert\" onclick=\"convertToInteractive('df-520c4132-c64a-4ee8-a3a8-9a5f6f52d324')\"\n",
              "            title=\"Convert this dataframe to an interactive table.\"\n",
              "            style=\"display:none;\">\n",
              "\n",
              "  <svg xmlns=\"http://www.w3.org/2000/svg\" height=\"24px\" viewBox=\"0 -960 960 960\">\n",
              "    <path d=\"M120-120v-720h720v720H120Zm60-500h600v-160H180v160Zm220 220h160v-160H400v160Zm0 220h160v-160H400v160ZM180-400h160v-160H180v160Zm440 0h160v-160H620v160ZM180-180h160v-160H180v160Zm440 0h160v-160H620v160Z\"/>\n",
              "  </svg>\n",
              "    </button>\n",
              "\n",
              "  <style>\n",
              "    .colab-df-container {\n",
              "      display:flex;\n",
              "      gap: 12px;\n",
              "    }\n",
              "\n",
              "    .colab-df-convert {\n",
              "      background-color: #E8F0FE;\n",
              "      border: none;\n",
              "      border-radius: 50%;\n",
              "      cursor: pointer;\n",
              "      display: none;\n",
              "      fill: #1967D2;\n",
              "      height: 32px;\n",
              "      padding: 0 0 0 0;\n",
              "      width: 32px;\n",
              "    }\n",
              "\n",
              "    .colab-df-convert:hover {\n",
              "      background-color: #E2EBFA;\n",
              "      box-shadow: 0px 1px 2px rgba(60, 64, 67, 0.3), 0px 1px 3px 1px rgba(60, 64, 67, 0.15);\n",
              "      fill: #174EA6;\n",
              "    }\n",
              "\n",
              "    .colab-df-buttons div {\n",
              "      margin-bottom: 4px;\n",
              "    }\n",
              "\n",
              "    [theme=dark] .colab-df-convert {\n",
              "      background-color: #3B4455;\n",
              "      fill: #D2E3FC;\n",
              "    }\n",
              "\n",
              "    [theme=dark] .colab-df-convert:hover {\n",
              "      background-color: #434B5C;\n",
              "      box-shadow: 0px 1px 3px 1px rgba(0, 0, 0, 0.15);\n",
              "      filter: drop-shadow(0px 1px 2px rgba(0, 0, 0, 0.3));\n",
              "      fill: #FFFFFF;\n",
              "    }\n",
              "  </style>\n",
              "\n",
              "    <script>\n",
              "      const buttonEl =\n",
              "        document.querySelector('#df-520c4132-c64a-4ee8-a3a8-9a5f6f52d324 button.colab-df-convert');\n",
              "      buttonEl.style.display =\n",
              "        google.colab.kernel.accessAllowed ? 'block' : 'none';\n",
              "\n",
              "      async function convertToInteractive(key) {\n",
              "        const element = document.querySelector('#df-520c4132-c64a-4ee8-a3a8-9a5f6f52d324');\n",
              "        const dataTable =\n",
              "          await google.colab.kernel.invokeFunction('convertToInteractive',\n",
              "                                                    [key], {});\n",
              "        if (!dataTable) return;\n",
              "\n",
              "        const docLinkHtml = 'Like what you see? Visit the ' +\n",
              "          '<a target=\"_blank\" href=https://colab.research.google.com/notebooks/data_table.ipynb>data table notebook</a>'\n",
              "          + ' to learn more about interactive tables.';\n",
              "        element.innerHTML = '';\n",
              "        dataTable['output_type'] = 'display_data';\n",
              "        await google.colab.output.renderOutput(dataTable, element);\n",
              "        const docLink = document.createElement('div');\n",
              "        docLink.innerHTML = docLinkHtml;\n",
              "        element.appendChild(docLink);\n",
              "      }\n",
              "    </script>\n",
              "  </div>\n",
              "\n",
              "\n",
              "<div id=\"df-9777f30c-8e8a-42d4-86c2-f09107e2684c\">\n",
              "  <button class=\"colab-df-quickchart\" onclick=\"quickchart('df-9777f30c-8e8a-42d4-86c2-f09107e2684c')\"\n",
              "            title=\"Suggest charts\"\n",
              "            style=\"display:none;\">\n",
              "\n",
              "<svg xmlns=\"http://www.w3.org/2000/svg\" height=\"24px\"viewBox=\"0 0 24 24\"\n",
              "     width=\"24px\">\n",
              "    <g>\n",
              "        <path d=\"M19 3H5c-1.1 0-2 .9-2 2v14c0 1.1.9 2 2 2h14c1.1 0 2-.9 2-2V5c0-1.1-.9-2-2-2zM9 17H7v-7h2v7zm4 0h-2V7h2v10zm4 0h-2v-4h2v4z\"/>\n",
              "    </g>\n",
              "</svg>\n",
              "  </button>\n",
              "\n",
              "<style>\n",
              "  .colab-df-quickchart {\n",
              "      --bg-color: #E8F0FE;\n",
              "      --fill-color: #1967D2;\n",
              "      --hover-bg-color: #E2EBFA;\n",
              "      --hover-fill-color: #174EA6;\n",
              "      --disabled-fill-color: #AAA;\n",
              "      --disabled-bg-color: #DDD;\n",
              "  }\n",
              "\n",
              "  [theme=dark] .colab-df-quickchart {\n",
              "      --bg-color: #3B4455;\n",
              "      --fill-color: #D2E3FC;\n",
              "      --hover-bg-color: #434B5C;\n",
              "      --hover-fill-color: #FFFFFF;\n",
              "      --disabled-bg-color: #3B4455;\n",
              "      --disabled-fill-color: #666;\n",
              "  }\n",
              "\n",
              "  .colab-df-quickchart {\n",
              "    background-color: var(--bg-color);\n",
              "    border: none;\n",
              "    border-radius: 50%;\n",
              "    cursor: pointer;\n",
              "    display: none;\n",
              "    fill: var(--fill-color);\n",
              "    height: 32px;\n",
              "    padding: 0;\n",
              "    width: 32px;\n",
              "  }\n",
              "\n",
              "  .colab-df-quickchart:hover {\n",
              "    background-color: var(--hover-bg-color);\n",
              "    box-shadow: 0 1px 2px rgba(60, 64, 67, 0.3), 0 1px 3px 1px rgba(60, 64, 67, 0.15);\n",
              "    fill: var(--button-hover-fill-color);\n",
              "  }\n",
              "\n",
              "  .colab-df-quickchart-complete:disabled,\n",
              "  .colab-df-quickchart-complete:disabled:hover {\n",
              "    background-color: var(--disabled-bg-color);\n",
              "    fill: var(--disabled-fill-color);\n",
              "    box-shadow: none;\n",
              "  }\n",
              "\n",
              "  .colab-df-spinner {\n",
              "    border: 2px solid var(--fill-color);\n",
              "    border-color: transparent;\n",
              "    border-bottom-color: var(--fill-color);\n",
              "    animation:\n",
              "      spin 1s steps(1) infinite;\n",
              "  }\n",
              "\n",
              "  @keyframes spin {\n",
              "    0% {\n",
              "      border-color: transparent;\n",
              "      border-bottom-color: var(--fill-color);\n",
              "      border-left-color: var(--fill-color);\n",
              "    }\n",
              "    20% {\n",
              "      border-color: transparent;\n",
              "      border-left-color: var(--fill-color);\n",
              "      border-top-color: var(--fill-color);\n",
              "    }\n",
              "    30% {\n",
              "      border-color: transparent;\n",
              "      border-left-color: var(--fill-color);\n",
              "      border-top-color: var(--fill-color);\n",
              "      border-right-color: var(--fill-color);\n",
              "    }\n",
              "    40% {\n",
              "      border-color: transparent;\n",
              "      border-right-color: var(--fill-color);\n",
              "      border-top-color: var(--fill-color);\n",
              "    }\n",
              "    60% {\n",
              "      border-color: transparent;\n",
              "      border-right-color: var(--fill-color);\n",
              "    }\n",
              "    80% {\n",
              "      border-color: transparent;\n",
              "      border-right-color: var(--fill-color);\n",
              "      border-bottom-color: var(--fill-color);\n",
              "    }\n",
              "    90% {\n",
              "      border-color: transparent;\n",
              "      border-bottom-color: var(--fill-color);\n",
              "    }\n",
              "  }\n",
              "</style>\n",
              "\n",
              "  <script>\n",
              "    async function quickchart(key) {\n",
              "      const quickchartButtonEl =\n",
              "        document.querySelector('#' + key + ' button');\n",
              "      quickchartButtonEl.disabled = true;  // To prevent multiple clicks.\n",
              "      quickchartButtonEl.classList.add('colab-df-spinner');\n",
              "      try {\n",
              "        const charts = await google.colab.kernel.invokeFunction(\n",
              "            'suggestCharts', [key], {});\n",
              "      } catch (error) {\n",
              "        console.error('Error during call to suggestCharts:', error);\n",
              "      }\n",
              "      quickchartButtonEl.classList.remove('colab-df-spinner');\n",
              "      quickchartButtonEl.classList.add('colab-df-quickchart-complete');\n",
              "    }\n",
              "    (() => {\n",
              "      let quickchartButtonEl =\n",
              "        document.querySelector('#df-9777f30c-8e8a-42d4-86c2-f09107e2684c button');\n",
              "      quickchartButtonEl.style.display =\n",
              "        google.colab.kernel.accessAllowed ? 'block' : 'none';\n",
              "    })();\n",
              "  </script>\n",
              "</div>\n",
              "    </div>\n",
              "  </div>\n"
            ],
            "application/vnd.google.colaboratory.intrinsic+json": {
              "type": "dataframe",
              "variable_name": "data",
              "summary": "{\n  \"name\": \"data\",\n  \"rows\": 5000,\n  \"fields\": [\n    {\n      \"column\": \"\\u041f\\u043e\\u043b\",\n      \"properties\": {\n        \"dtype\": \"number\",\n        \"std\": 0,\n        \"min\": 0,\n        \"max\": 1,\n        \"num_unique_values\": 2,\n        \"samples\": [\n          0,\n          1\n        ],\n        \"semantic_type\": \"\",\n        \"description\": \"\"\n      }\n    },\n    {\n      \"column\": \"\\u0412\\u043e\\u0437\\u0440\\u0430\\u0441\\u0442\",\n      \"properties\": {\n        \"dtype\": \"number\",\n        \"std\": 8.440806928506355,\n        \"min\": 18.0,\n        \"max\": 65.0,\n        \"num_unique_values\": 46,\n        \"samples\": [\n          53.0,\n          18.0\n        ],\n        \"semantic_type\": \"\",\n        \"description\": \"\"\n      }\n    },\n    {\n      \"column\": \"\\u0417\\u0430\\u0440\\u043f\\u043b\\u0430\\u0442\\u0430\",\n      \"properties\": {\n        \"dtype\": \"number\",\n        \"std\": 9900.083569411738,\n        \"min\": 5300.0,\n        \"max\": 79000.0,\n        \"num_unique_values\": 524,\n        \"samples\": [\n          40900.0,\n          71400.0\n        ],\n        \"semantic_type\": \"\",\n        \"description\": \"\"\n      }\n    },\n    {\n      \"column\": \"\\u0427\\u043b\\u0435\\u043d\\u044b \\u0441\\u0435\\u043c\\u044c\\u0438\",\n      \"properties\": {\n        \"dtype\": \"number\",\n        \"std\": 1,\n        \"min\": 0,\n        \"max\": 6,\n        \"num_unique_values\": 7,\n        \"samples\": [\n          1,\n          0\n        ],\n        \"semantic_type\": \"\",\n        \"description\": \"\"\n      }\n    },\n    {\n      \"column\": \"\\u0421\\u0442\\u0440\\u0430\\u0445\\u043e\\u0432\\u044b\\u0435 \\u0432\\u044b\\u043f\\u043b\\u0430\\u0442\\u044b\",\n      \"properties\": {\n        \"dtype\": \"number\",\n        \"std\": 0,\n        \"min\": 0,\n        \"max\": 5,\n        \"num_unique_values\": 6,\n        \"samples\": [\n          0,\n          1\n        ],\n        \"semantic_type\": \"\",\n        \"description\": \"\"\n      }\n    }\n  ]\n}"
            }
          },
          "metadata": {},
          "execution_count": 2
        }
      ],
      "source": [
        "data = pd.read_csv('/datasets/insurance.csv')\n",
        "data.info()\n",
        "data.head(3)"
      ]
    },
    {
      "cell_type": "markdown",
      "metadata": {
        "id": "Ez8l8laXla_2"
      },
      "source": [
        "У нас небольшой датасет: всего 5000 строк и 5 столбцов, все численные.\n",
        "\n",
        "### NaN и явные дубликаты\n",
        "Проверим наличие пропущенных значений."
      ]
    },
    {
      "cell_type": "code",
      "execution_count": 3,
      "metadata": {
        "colab": {
          "base_uri": "https://localhost:8080/"
        },
        "id": "4agIOZVZla_2",
        "outputId": "f3a53dd7-495a-412c-e7f9-dc8bc6339875"
      },
      "outputs": [
        {
          "output_type": "execute_result",
          "data": {
            "text/plain": [
              "Пол                  0\n",
              "Возраст              0\n",
              "Зарплата             0\n",
              "Члены семьи          0\n",
              "Страховые выплаты    0\n",
              "dtype: int64"
            ]
          },
          "metadata": {},
          "execution_count": 3
        }
      ],
      "source": [
        "data.isna().sum()"
      ]
    },
    {
      "cell_type": "markdown",
      "metadata": {
        "id": "yg3Ol4eHla_2"
      },
      "source": [
        "Пропусков в данных нет.Посмотрим, есть ли полные дубликаты."
      ]
    },
    {
      "cell_type": "code",
      "execution_count": 4,
      "metadata": {
        "colab": {
          "base_uri": "https://localhost:8080/"
        },
        "id": "NOThVEIPla_3",
        "outputId": "ffec7fa4-9617-452e-de95-44aae59f5386"
      },
      "outputs": [
        {
          "output_type": "execute_result",
          "data": {
            "text/plain": [
              "153"
            ]
          },
          "metadata": {},
          "execution_count": 4
        }
      ],
      "source": [
        "data.duplicated().sum()"
      ]
    },
    {
      "cell_type": "markdown",
      "metadata": {
        "id": "Y6qjBkOrla_3"
      },
      "source": [
        "Дубликаты присутствуют, их мы удалим за ненадобностью. Иначе они могут повлиять на результаты исследования."
      ]
    },
    {
      "cell_type": "code",
      "execution_count": 5,
      "metadata": {
        "colab": {
          "base_uri": "https://localhost:8080/"
        },
        "id": "HzQLR2JKla_4",
        "outputId": "61b1f070-d542-4272-dae7-0052a2942ed0"
      },
      "outputs": [
        {
          "output_type": "execute_result",
          "data": {
            "text/plain": [
              "0"
            ]
          },
          "metadata": {},
          "execution_count": 5
        }
      ],
      "source": [
        "data = data.drop_duplicates().reset_index(drop=True)\n",
        "data.duplicated().sum()"
      ]
    },
    {
      "cell_type": "markdown",
      "metadata": {
        "id": "vZLWr9q-la_4"
      },
      "source": [
        "### Разделение на featueres и target\n",
        "\n",
        "Отделим целевые признаки от всех остальных."
      ]
    },
    {
      "cell_type": "code",
      "execution_count": 6,
      "metadata": {
        "colab": {
          "base_uri": "https://localhost:8080/"
        },
        "id": "t7wFF5rsla_4",
        "outputId": "51809769-f085-4b8c-8bd1-a7deaa3d8029"
      },
      "outputs": [
        {
          "output_type": "stream",
          "name": "stdout",
          "text": [
            "features shape: (4847, 4)\n",
            "target shape: (4847,)\n"
          ]
        }
      ],
      "source": [
        "# Отделяем целевой признак\n",
        "features = data.drop(['Страховые выплаты'], axis=1)\n",
        "target = data['Страховые выплаты']\n",
        "print('features shape:', features.shape)\n",
        "print('target shape:', target.shape)"
      ]
    },
    {
      "cell_type": "markdown",
      "metadata": {
        "id": "XXk7n-VXla_5"
      },
      "source": [
        "Целевой признак \"Страховые выплаты\" отделён от всех остальных в обеих выборках.\n",
        "\n",
        "### Промежуточный вывод\n",
        "\n",
        "В пункте 1 \"Загрузка данных\" мы загрузили и изучили датасет, провели необходимую предобработку. Теперь данные готовы к дальнейшей работе над ними."
      ]
    },
    {
      "cell_type": "markdown",
      "metadata": {
        "id": "SAJBFHRyla_5"
      },
      "source": [
        "## Умножение матриц"
      ]
    },
    {
      "cell_type": "markdown",
      "metadata": {
        "id": "9SFhnxk0la_5"
      },
      "source": [
        "Целью в данном проекте является составление алгоритма, который позволит зашифровать данные без потери качества линейной регрессии. Для защиты данных мы будем умножать их на матрицу."
      ]
    },
    {
      "cell_type": "markdown",
      "metadata": {
        "id": "XrTejeZSla_5"
      },
      "source": [
        "**Вопрос:** Признаки умножают на обратимую матрицу. Изменится ли качество линейной регрессии?\n",
        "\n",
        "**Ответ:** Не изменится."
      ]
    },
    {
      "cell_type": "markdown",
      "metadata": {
        "id": "C5buauKula_5"
      },
      "source": [
        "**Обоснование:**\n",
        "\n",
        "Обозначения:\n",
        "\n",
        "- $X$ — матрица признаков (нулевой столбец состоит из единиц)\n",
        "\n",
        "- $y$ — вектор целевого признака\n",
        "\n",
        "- $P$ — матрица, на которую умножаются признаки\n",
        "\n",
        "- $w$ — вектор весов линейной регрессии (нулевой элемент равен сдвигу)\n",
        "\n",
        "Предсказания:\n",
        "\n",
        "$$\n",
        "a = Xw\n",
        "$$\n",
        "\n",
        "Функция минимизации потерь:\n",
        "\n",
        "$$\n",
        "w = \\arg\\min_w MSE(Xw, y)\n",
        "$$\n",
        "\n",
        "Формула обучения весов модели линейной регрессии:\n",
        "\n",
        "$$\n",
        "w = (X^T X)^{-1} X^T y\n",
        "$$\n",
        "\n",
        "В формуле обучения, матрицу признаков X умножаем на матрицу для шифрования P:\n",
        "\n",
        "$$\n",
        "w = ((XP)^T (XP))^{-1} (XP)^T y\n",
        "$$\n",
        "\n",
        "По свойствам обратной матрицы $ (AB)^{-1} = A^{-1}B^{-1} $ и транспортированной матрицы $ (AB)^T = A^TB^T $ расскроем скобки:\n",
        "\n",
        "$$\n",
        "w = ((XP)^TXP){-1}(XP)^T y\n",
        "$$\n",
        "\n",
        "Теперь применим свойство обратной матрицы $ AA^{-1} = A^{-1}A = E $, где E — это единичная матрица:\n",
        "\n",
        "$$\n",
        "w = E (X^TX)^{-1}(P^T)^{-1}P^{-1}X^TP^T y\n",
        "$$\n",
        "\n",
        "При этом при умножении E на любую матрицу, получается та же самая матрица $ AE = EA = E $, следовательно:\n",
        "\n",
        "$$\n",
        "w = (X^T)^{-1} X^{-1}P^{-1} X^T y\n",
        "$$\n",
        "\n",
        "Используя ранее обозначенную формулу для обучения весов модели $ w = (X^T X)^{-1} X^T y $ мы можем сжать наше уранение до следующего вида:\n",
        "\n",
        "$$\n",
        "w = P^{-1}w\n",
        "$$\n",
        "\n",
        "Возвращаемся к формуле предсказания $ a = Xw $. Подставим в неё $ X = XP $ и $ w = P^{-1}w $:\n",
        "\n",
        "$$ a_p = XPP^{-1}w = XEw = Xw = a $$"
      ]
    },
    {
      "cell_type": "markdown",
      "metadata": {
        "id": "muCRgFnEla_6"
      },
      "source": [
        "### Промежуточный вывод\n",
        "\n",
        "Поскольку веса в исходной и преобразованной задаче связаны, наличие матрицы шифрования не влияет на качество модели."
      ]
    },
    {
      "cell_type": "markdown",
      "metadata": {
        "id": "FFZ9rrY4la_6"
      },
      "source": [
        "## Алгоритм преобразования"
      ]
    },
    {
      "cell_type": "markdown",
      "metadata": {
        "id": "4f9xgq_Wla_6"
      },
      "source": [
        "**Алгоритм**\n",
        "\n",
        "Алгоритм преобразования простой: в методе fit() класса LinearRegression() мы будем при помощи псевдослучайных чисел создавать обратимую матрицу P размера n на n и на неё перемножать признаки X размера m на n.\n",
        "\n",
        "Дальнейший процесс обучения будет происходить так же, как и в обычной линейной регрессии.\n",
        "\n",
        "При необходимости дешифровки данные можно восстановить, умножив на обратную матрицу $ P^{-1} $: $$XPP^{-1} = XE = X$$"
      ]
    },
    {
      "cell_type": "markdown",
      "metadata": {
        "id": "sK2RO9tula_7"
      },
      "source": [
        "**Обоснование**\n",
        "\n",
        "Исходя из ответа в п.2, в случае умножения признаков на матрицу для шифрования качество модели линейной регрессии измениться не должно."
      ]
    },
    {
      "cell_type": "markdown",
      "metadata": {
        "id": "g-_HU5z8la_7"
      },
      "source": [
        "## Проверка алгоритма"
      ]
    },
    {
      "cell_type": "markdown",
      "metadata": {
        "id": "RD4ZJAUGla_7"
      },
      "source": [
        "Будем обучать сразу две модели линейной регрессии: одну без шифрования, и одну с ним.\n",
        "\n",
        "Для начала, сгенерируем матрицу шифрования и умножим на неё признаки."
      ]
    },
    {
      "cell_type": "code",
      "execution_count": 7,
      "metadata": {
        "colab": {
          "base_uri": "https://localhost:8080/"
        },
        "id": "uUdxfXYPla_7",
        "outputId": "e28f1bdf-f8a9-40e7-edef-619c3e0ecb4e"
      },
      "outputs": [
        {
          "output_type": "stream",
          "name": "stdout",
          "text": [
            "<class 'pandas.core.frame.DataFrame'>\n",
            "RangeIndex: 4847 entries, 0 to 4846\n",
            "Data columns (total 4 columns):\n",
            " #   Column  Non-Null Count  Dtype  \n",
            "---  ------  --------------  -----  \n",
            " 0   0       4847 non-null   float64\n",
            " 1   1       4847 non-null   float64\n",
            " 2   2       4847 non-null   float64\n",
            " 3   3       4847 non-null   float64\n",
            "dtypes: float64(4)\n",
            "memory usage: 151.6 KB\n"
          ]
        }
      ],
      "source": [
        "rnd=np.random.RandomState(12345)\n",
        "det = 0\n",
        "#В цикле повторяем создание матрицы, пока она точно не будет обратимой\n",
        "while det == 0:\n",
        "    encryption_matrix = rnd.randint(0, 1000, size=(features.shape[1], features.shape[1]))\n",
        "    det = np.linalg.det(encryption_matrix)\n",
        "features_encrypted = features @ encryption_matrix\n",
        "features_encrypted.info()"
      ]
    },
    {
      "cell_type": "markdown",
      "metadata": {
        "id": "wEYHgLxylbAG"
      },
      "source": [
        "Теперь у нас есть зашифрованные признаки. Переходим к обучению моделей."
      ]
    },
    {
      "cell_type": "code",
      "execution_count": 8,
      "metadata": {
        "scrolled": true,
        "colab": {
          "base_uri": "https://localhost:8080/"
        },
        "id": "DiNGzoYPlbAG",
        "outputId": "2f419c85-f77f-4c6d-a6df-5acd480b2581"
      },
      "outputs": [
        {
          "output_type": "stream",
          "name": "stdout",
          "text": [
            "R2 метрика без шифрования: 0.4302\n",
            "R2 метрика с шифрованием: 0.4302\n",
            "Разница: 0.0\n"
          ]
        }
      ],
      "source": [
        "#обычная модель\n",
        "model_regular = LinearRegression()\n",
        "model_regular.fit(features, target)\n",
        "predictions_regular = model_regular.predict(features)\n",
        "r2_regular = r2_score(target, predictions_regular)\n",
        "\n",
        "#модель с шифрованием\n",
        "model_encrypted = LinearRegression()\n",
        "model_encrypted.fit(features_encrypted, target)\n",
        "predictions_encrypted = model_encrypted.predict(features_encrypted)\n",
        "r2_encrypted = r2_score(target, predictions_encrypted)\n",
        "\n",
        "print('R2 метрика без шифрования:', r2_regular.round(5))\n",
        "print('R2 метрика с шифрованием:', r2_encrypted.round(5))\n",
        "print('Разница:', (r2_regular - r2_encrypted).round(5))"
      ]
    },
    {
      "cell_type": "markdown",
      "metadata": {
        "id": "GJwP859FlbAH"
      },
      "source": [
        "### Промежуточный вывод\n",
        "\n",
        "Как и ожидалось, разницы в качестве модели с шифрованием и без нет, а это значит, данный метод можно использовать для защиты информации без опаски неработоспособности модели."
      ]
    },
    {
      "cell_type": "markdown",
      "metadata": {
        "id": "25eYMPUnlbAH"
      },
      "source": [
        "## Вывод\n",
        "\n",
        "В данном проекте задачей было разработать алгоритм шифрования данных о клиентах страховой компании без потери качества работы модели линейной регрессии. С этой целью были проведены следующие работы:\n",
        "\n",
        "- Загружены, изучены и предобработаны данные для обучения;\n",
        "- Доказано, что шифрование не влияет на качество модели;\n",
        "- Разработан алгоритм преобразования данных при помощи матрицы шифрования;\n",
        "- Проверена работоспособность алгоритма.\n",
        "\n",
        "Мною было подтверждено, что умножение признаков (данных клиентов) на матрицу шифрования не влияет на качество модели линейной регрессии, а значит, такой способ можно использовать для защиты личной информации клиентов компании, и при этом иметь возможность проводить статистические исследования."
      ]
    }
  ],
  "metadata": {
    "ExecuteTimeLog": [
      {
        "duration": 422,
        "start_time": "2023-12-25T11:36:22.115Z"
      },
      {
        "duration": 93,
        "start_time": "2023-12-25T11:36:59.943Z"
      },
      {
        "duration": 3,
        "start_time": "2023-12-25T11:37:40.612Z"
      },
      {
        "duration": 41,
        "start_time": "2023-12-25T11:37:42.266Z"
      },
      {
        "duration": 7,
        "start_time": "2023-12-25T11:38:55.226Z"
      },
      {
        "duration": 7,
        "start_time": "2023-12-25T11:39:10.887Z"
      },
      {
        "duration": 65,
        "start_time": "2023-12-25T11:39:54.867Z"
      },
      {
        "duration": 6,
        "start_time": "2023-12-25T11:40:00.848Z"
      },
      {
        "duration": 11,
        "start_time": "2023-12-25T11:40:12.935Z"
      },
      {
        "duration": 9,
        "start_time": "2023-12-25T14:57:38.864Z"
      },
      {
        "duration": 861,
        "start_time": "2023-12-25T14:58:30.562Z"
      },
      {
        "duration": 16,
        "start_time": "2023-12-25T14:58:39.427Z"
      },
      {
        "duration": 6,
        "start_time": "2023-12-25T14:58:55.630Z"
      },
      {
        "duration": 6,
        "start_time": "2023-12-25T14:58:57.290Z"
      },
      {
        "duration": 3,
        "start_time": "2023-12-25T15:00:25.164Z"
      },
      {
        "duration": 59,
        "start_time": "2023-12-25T15:00:25.179Z"
      },
      {
        "duration": 8,
        "start_time": "2023-12-25T15:00:25.241Z"
      },
      {
        "duration": 28,
        "start_time": "2023-12-25T15:00:25.259Z"
      },
      {
        "duration": 14,
        "start_time": "2023-12-25T15:00:25.289Z"
      },
      {
        "duration": 5,
        "start_time": "2023-12-25T15:00:44.693Z"
      },
      {
        "duration": 5,
        "start_time": "2023-12-25T15:01:09.606Z"
      },
      {
        "duration": 61,
        "start_time": "2023-12-25T15:01:42.676Z"
      },
      {
        "duration": 19,
        "start_time": "2023-12-25T15:03:01.828Z"
      },
      {
        "duration": 10,
        "start_time": "2023-12-25T15:03:14.600Z"
      },
      {
        "duration": 4,
        "start_time": "2023-12-25T15:03:21.240Z"
      },
      {
        "duration": 40,
        "start_time": "2023-12-25T15:03:21.258Z"
      },
      {
        "duration": 5,
        "start_time": "2023-12-25T15:03:21.300Z"
      },
      {
        "duration": 9,
        "start_time": "2023-12-25T15:03:21.307Z"
      },
      {
        "duration": 7,
        "start_time": "2023-12-25T15:03:21.319Z"
      },
      {
        "duration": 31,
        "start_time": "2023-12-25T15:03:21.337Z"
      },
      {
        "duration": 8,
        "start_time": "2023-12-25T15:12:08.652Z"
      },
      {
        "duration": 7,
        "start_time": "2023-12-25T15:14:43.162Z"
      },
      {
        "duration": 1146,
        "start_time": "2023-12-26T09:17:29.647Z"
      },
      {
        "duration": 110,
        "start_time": "2023-12-26T09:17:30.795Z"
      },
      {
        "duration": 7,
        "start_time": "2023-12-26T09:17:30.907Z"
      },
      {
        "duration": 80,
        "start_time": "2023-12-26T09:17:30.916Z"
      },
      {
        "duration": 17,
        "start_time": "2023-12-26T09:17:30.997Z"
      },
      {
        "duration": 134,
        "start_time": "2023-12-26T09:17:31.016Z"
      },
      {
        "duration": 8,
        "start_time": "2023-12-26T09:17:41.185Z"
      },
      {
        "duration": 9,
        "start_time": "2023-12-26T09:18:44.098Z"
      },
      {
        "duration": 13,
        "start_time": "2023-12-26T09:18:51.271Z"
      },
      {
        "duration": 22,
        "start_time": "2023-12-26T09:20:29.892Z"
      },
      {
        "duration": 3,
        "start_time": "2023-12-26T09:20:47.890Z"
      },
      {
        "duration": 193,
        "start_time": "2023-12-26T09:21:50.333Z"
      },
      {
        "duration": 11,
        "start_time": "2023-12-26T09:21:57.655Z"
      },
      {
        "duration": 10,
        "start_time": "2023-12-26T09:28:56.859Z"
      },
      {
        "duration": 13,
        "start_time": "2023-12-26T09:34:41.596Z"
      },
      {
        "duration": 217,
        "start_time": "2023-12-26T09:34:47.006Z"
      },
      {
        "duration": 11,
        "start_time": "2023-12-26T09:35:05.007Z"
      },
      {
        "duration": 5,
        "start_time": "2023-12-26T09:35:26.864Z"
      },
      {
        "duration": 13,
        "start_time": "2023-12-26T09:35:34.036Z"
      },
      {
        "duration": 4,
        "start_time": "2023-12-26T09:35:34.892Z"
      },
      {
        "duration": 11,
        "start_time": "2023-12-26T09:35:37.187Z"
      },
      {
        "duration": 11,
        "start_time": "2023-12-26T09:35:37.200Z"
      },
      {
        "duration": 11,
        "start_time": "2023-12-26T09:35:39.036Z"
      },
      {
        "duration": 5,
        "start_time": "2023-12-26T09:35:39.905Z"
      },
      {
        "duration": 13,
        "start_time": "2023-12-26T09:35:41.408Z"
      },
      {
        "duration": 6,
        "start_time": "2023-12-26T09:35:41.665Z"
      },
      {
        "duration": 10,
        "start_time": "2023-12-26T09:36:01.587Z"
      },
      {
        "duration": 10,
        "start_time": "2023-12-26T09:36:06.308Z"
      },
      {
        "duration": 10,
        "start_time": "2023-12-26T09:36:16.579Z"
      },
      {
        "duration": 12,
        "start_time": "2023-12-26T09:39:16.644Z"
      },
      {
        "duration": 4,
        "start_time": "2023-12-26T09:39:20.589Z"
      },
      {
        "duration": 13,
        "start_time": "2023-12-26T09:39:23.878Z"
      },
      {
        "duration": 4,
        "start_time": "2023-12-26T09:39:24.606Z"
      },
      {
        "duration": 12,
        "start_time": "2023-12-26T09:39:26.654Z"
      },
      {
        "duration": 5,
        "start_time": "2023-12-26T09:39:27.332Z"
      },
      {
        "duration": 26,
        "start_time": "2023-12-26T09:48:19.909Z"
      },
      {
        "duration": 25,
        "start_time": "2023-12-26T09:48:49.925Z"
      },
      {
        "duration": 20,
        "start_time": "2023-12-26T09:48:58.174Z"
      },
      {
        "duration": 19,
        "start_time": "2023-12-26T09:49:03.676Z"
      },
      {
        "duration": 18,
        "start_time": "2023-12-26T09:49:17.497Z"
      },
      {
        "duration": 59,
        "start_time": "2023-12-26T09:49:28.072Z"
      },
      {
        "duration": 16,
        "start_time": "2023-12-26T09:49:33.893Z"
      },
      {
        "duration": 19,
        "start_time": "2023-12-26T09:49:40.895Z"
      },
      {
        "duration": 19,
        "start_time": "2023-12-26T09:49:49.027Z"
      },
      {
        "duration": 20,
        "start_time": "2023-12-26T09:49:52.657Z"
      },
      {
        "duration": 17,
        "start_time": "2023-12-26T09:49:55.717Z"
      },
      {
        "duration": 97,
        "start_time": "2023-12-26T09:50:00.838Z"
      },
      {
        "duration": 19,
        "start_time": "2023-12-26T09:50:05.833Z"
      },
      {
        "duration": 1162,
        "start_time": "2023-12-26T09:58:58.292Z"
      },
      {
        "duration": 51,
        "start_time": "2023-12-26T09:58:59.457Z"
      },
      {
        "duration": 8,
        "start_time": "2023-12-26T09:58:59.510Z"
      },
      {
        "duration": 17,
        "start_time": "2023-12-26T09:58:59.520Z"
      },
      {
        "duration": 27,
        "start_time": "2023-12-26T09:58:59.540Z"
      },
      {
        "duration": 34,
        "start_time": "2023-12-26T09:58:59.569Z"
      },
      {
        "duration": 333,
        "start_time": "2023-12-26T09:58:59.605Z"
      },
      {
        "duration": 1145,
        "start_time": "2023-12-26T09:59:25.168Z"
      },
      {
        "duration": 52,
        "start_time": "2023-12-26T09:59:26.315Z"
      },
      {
        "duration": 8,
        "start_time": "2023-12-26T09:59:26.369Z"
      },
      {
        "duration": 27,
        "start_time": "2023-12-26T09:59:26.380Z"
      },
      {
        "duration": 39,
        "start_time": "2023-12-26T09:59:26.410Z"
      },
      {
        "duration": 39,
        "start_time": "2023-12-26T09:59:26.452Z"
      },
      {
        "duration": 21,
        "start_time": "2023-12-26T09:59:26.492Z"
      },
      {
        "duration": 38,
        "start_time": "2023-12-26T09:59:26.516Z"
      },
      {
        "duration": 2619,
        "start_time": "2023-12-26T13:20:48.224Z"
      },
      {
        "duration": 97,
        "start_time": "2023-12-26T13:20:50.845Z"
      },
      {
        "duration": 6,
        "start_time": "2023-12-26T13:20:50.943Z"
      },
      {
        "duration": 8,
        "start_time": "2023-12-26T13:20:50.951Z"
      },
      {
        "duration": 20,
        "start_time": "2023-12-26T13:20:50.960Z"
      },
      {
        "duration": 4,
        "start_time": "2023-12-26T13:20:50.982Z"
      },
      {
        "duration": 33,
        "start_time": "2023-12-26T13:20:50.988Z"
      },
      {
        "duration": 70,
        "start_time": "2023-12-26T13:20:51.022Z"
      },
      {
        "duration": 82,
        "start_time": "2023-12-27T09:57:51.975Z"
      },
      {
        "duration": 45,
        "start_time": "2023-12-27T10:02:00.525Z"
      },
      {
        "duration": 1164,
        "start_time": "2023-12-27T10:02:06.203Z"
      },
      {
        "duration": 96,
        "start_time": "2023-12-27T10:02:07.369Z"
      },
      {
        "duration": 5,
        "start_time": "2023-12-27T10:02:07.467Z"
      },
      {
        "duration": 25,
        "start_time": "2023-12-27T10:02:07.474Z"
      },
      {
        "duration": 26,
        "start_time": "2023-12-27T10:02:07.501Z"
      },
      {
        "duration": 29,
        "start_time": "2023-12-27T10:02:07.528Z"
      },
      {
        "duration": 47,
        "start_time": "2023-12-27T10:02:07.558Z"
      },
      {
        "duration": 1180,
        "start_time": "2023-12-27T10:41:32.656Z"
      },
      {
        "duration": 49,
        "start_time": "2023-12-27T10:41:33.838Z"
      },
      {
        "duration": 6,
        "start_time": "2023-12-27T10:41:33.889Z"
      },
      {
        "duration": 18,
        "start_time": "2023-12-27T10:41:33.898Z"
      },
      {
        "duration": 9,
        "start_time": "2023-12-27T10:41:33.917Z"
      },
      {
        "duration": 5,
        "start_time": "2023-12-27T10:41:33.927Z"
      },
      {
        "duration": 121,
        "start_time": "2023-12-27T10:41:33.933Z"
      },
      {
        "duration": 0,
        "start_time": "2023-12-27T10:41:34.055Z"
      },
      {
        "duration": 1196,
        "start_time": "2023-12-27T10:42:19.091Z"
      },
      {
        "duration": 50,
        "start_time": "2023-12-27T10:42:20.288Z"
      },
      {
        "duration": 6,
        "start_time": "2023-12-27T10:42:20.340Z"
      },
      {
        "duration": 46,
        "start_time": "2023-12-27T10:42:20.347Z"
      },
      {
        "duration": 43,
        "start_time": "2023-12-27T10:42:20.395Z"
      },
      {
        "duration": 21,
        "start_time": "2023-12-27T10:42:20.440Z"
      },
      {
        "duration": 39,
        "start_time": "2023-12-27T10:42:20.462Z"
      },
      {
        "duration": 87,
        "start_time": "2023-12-27T10:42:20.503Z"
      }
    ],
    "kernelspec": {
      "display_name": "Python 3 (ipykernel)",
      "language": "python",
      "name": "python3"
    },
    "language_info": {
      "codemirror_mode": {
        "name": "ipython",
        "version": 3
      },
      "file_extension": ".py",
      "mimetype": "text/x-python",
      "name": "python",
      "nbconvert_exporter": "python",
      "pygments_lexer": "ipython3",
      "version": "3.9.5"
    },
    "toc": {
      "base_numbering": 1,
      "nav_menu": {},
      "number_sections": true,
      "sideBar": true,
      "skip_h1_title": true,
      "title_cell": "Содержание",
      "title_sidebar": "Contents",
      "toc_cell": true,
      "toc_position": {
        "height": "calc(100% - 180px)",
        "left": "10px",
        "top": "150px",
        "width": "165px"
      },
      "toc_section_display": true,
      "toc_window_display": true
    },
    "colab": {
      "provenance": []
    }
  },
  "nbformat": 4,
  "nbformat_minor": 0
}