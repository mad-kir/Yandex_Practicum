{
  "cells": [
    {
      "cell_type": "markdown",
      "metadata": {
        "id": "y7hILBGX7Z76"
      },
      "source": [
        "# Выбор локации для скважины"
      ]
    },
    {
      "cell_type": "markdown",
      "metadata": {
        "id": "QnuAJAU77Z76"
      },
      "source": [
        "Компании «ГлавРосГосНефть» нужно решить, где бурить новую скважину.\n",
        "\n",
        "В моём распоряжении пробы нефти в трёх регионах: в каждом 10 000 месторождений, где измерили качество нефти и объём её запасов. Нужно модель машинного обучения, которая поможет определить регион, где добыча принесёт наибольшую прибыль. Проанализировать возможную прибыль и риски необходимо техникой *Bootstrap.*\n",
        "\n",
        "Шаги для выбора локации:\n",
        "\n",
        "- В избранном регионе ищут месторождения, для каждого определяют значения признаков;\n",
        "- Строят модель и оценивают объём запасов;\n",
        "- Выбирают месторождения с самым высокими оценками значений. Количество месторождений зависит от бюджета компании и стоимости разработки одной скважины;\n",
        "- Прибыль равна суммарной прибыли отобранных месторождений."
      ]
    },
    {
      "cell_type": "code",
      "execution_count": 1,
      "metadata": {
        "id": "TbnOny8C7Z77"
      },
      "outputs": [],
      "source": [
        "#импорт библиотек\n",
        "import warnings\n",
        "warnings.filterwarnings('ignore')\n",
        "\n",
        "import pandas as pd\n",
        "import numpy as np\n",
        "from scipy import stats as st\n",
        "\n",
        "from sklearn.model_selection import train_test_split\n",
        "from sklearn.linear_model import LinearRegression\n",
        "from sklearn.metrics import mean_squared_error"
      ]
    },
    {
      "cell_type": "markdown",
      "metadata": {
        "id": "Ei7_qhvC7Z78"
      },
      "source": [
        "## Загрузка и подготовка данных"
      ]
    },
    {
      "cell_type": "markdown",
      "metadata": {
        "id": "LempsmcX7Z79"
      },
      "source": [
        "У меня есть три датасета, каждый из которых описывает отдельный регион. Для начала, загружу предоставленные датасеты и сохраню их как data_0,  data_1 и data_2 соответственно. Выведу размер датасетов и пять верхних строк."
      ]
    },
    {
      "cell_type": "code",
      "execution_count": 2,
      "metadata": {
        "colab": {
          "base_uri": "https://localhost:8080/",
          "height": 223
        },
        "id": "luaYnli27Z79",
        "outputId": "4a890437-4821-4c85-fe69-61dd7fefa51d"
      },
      "outputs": [
        {
          "output_type": "stream",
          "name": "stdout",
          "text": [
            "(100000, 5)\n"
          ]
        },
        {
          "output_type": "execute_result",
          "data": {
            "text/plain": [
              "      id        f0        f1        f2     product\n",
              "0  txEyH  0.705745 -0.497823  1.221170  105.280062\n",
              "1  2acmU  1.334711 -0.340164  4.365080   73.037750\n",
              "2  409Wp  1.022732  0.151990  1.419926   85.265647\n",
              "3  iJLyR -0.032172  0.139033  2.978566  168.620776\n",
              "4  Xdl7t  1.988431  0.155413  4.751769  154.036647"
            ],
            "text/html": [
              "\n",
              "  <div id=\"df-25fcbf0d-bc4f-4dd6-90c1-dc82d5f198bf\" class=\"colab-df-container\">\n",
              "    <div>\n",
              "<style scoped>\n",
              "    .dataframe tbody tr th:only-of-type {\n",
              "        vertical-align: middle;\n",
              "    }\n",
              "\n",
              "    .dataframe tbody tr th {\n",
              "        vertical-align: top;\n",
              "    }\n",
              "\n",
              "    .dataframe thead th {\n",
              "        text-align: right;\n",
              "    }\n",
              "</style>\n",
              "<table border=\"1\" class=\"dataframe\">\n",
              "  <thead>\n",
              "    <tr style=\"text-align: right;\">\n",
              "      <th></th>\n",
              "      <th>id</th>\n",
              "      <th>f0</th>\n",
              "      <th>f1</th>\n",
              "      <th>f2</th>\n",
              "      <th>product</th>\n",
              "    </tr>\n",
              "  </thead>\n",
              "  <tbody>\n",
              "    <tr>\n",
              "      <th>0</th>\n",
              "      <td>txEyH</td>\n",
              "      <td>0.705745</td>\n",
              "      <td>-0.497823</td>\n",
              "      <td>1.221170</td>\n",
              "      <td>105.280062</td>\n",
              "    </tr>\n",
              "    <tr>\n",
              "      <th>1</th>\n",
              "      <td>2acmU</td>\n",
              "      <td>1.334711</td>\n",
              "      <td>-0.340164</td>\n",
              "      <td>4.365080</td>\n",
              "      <td>73.037750</td>\n",
              "    </tr>\n",
              "    <tr>\n",
              "      <th>2</th>\n",
              "      <td>409Wp</td>\n",
              "      <td>1.022732</td>\n",
              "      <td>0.151990</td>\n",
              "      <td>1.419926</td>\n",
              "      <td>85.265647</td>\n",
              "    </tr>\n",
              "    <tr>\n",
              "      <th>3</th>\n",
              "      <td>iJLyR</td>\n",
              "      <td>-0.032172</td>\n",
              "      <td>0.139033</td>\n",
              "      <td>2.978566</td>\n",
              "      <td>168.620776</td>\n",
              "    </tr>\n",
              "    <tr>\n",
              "      <th>4</th>\n",
              "      <td>Xdl7t</td>\n",
              "      <td>1.988431</td>\n",
              "      <td>0.155413</td>\n",
              "      <td>4.751769</td>\n",
              "      <td>154.036647</td>\n",
              "    </tr>\n",
              "  </tbody>\n",
              "</table>\n",
              "</div>\n",
              "    <div class=\"colab-df-buttons\">\n",
              "\n",
              "  <div class=\"colab-df-container\">\n",
              "    <button class=\"colab-df-convert\" onclick=\"convertToInteractive('df-25fcbf0d-bc4f-4dd6-90c1-dc82d5f198bf')\"\n",
              "            title=\"Convert this dataframe to an interactive table.\"\n",
              "            style=\"display:none;\">\n",
              "\n",
              "  <svg xmlns=\"http://www.w3.org/2000/svg\" height=\"24px\" viewBox=\"0 -960 960 960\">\n",
              "    <path d=\"M120-120v-720h720v720H120Zm60-500h600v-160H180v160Zm220 220h160v-160H400v160Zm0 220h160v-160H400v160ZM180-400h160v-160H180v160Zm440 0h160v-160H620v160ZM180-180h160v-160H180v160Zm440 0h160v-160H620v160Z\"/>\n",
              "  </svg>\n",
              "    </button>\n",
              "\n",
              "  <style>\n",
              "    .colab-df-container {\n",
              "      display:flex;\n",
              "      gap: 12px;\n",
              "    }\n",
              "\n",
              "    .colab-df-convert {\n",
              "      background-color: #E8F0FE;\n",
              "      border: none;\n",
              "      border-radius: 50%;\n",
              "      cursor: pointer;\n",
              "      display: none;\n",
              "      fill: #1967D2;\n",
              "      height: 32px;\n",
              "      padding: 0 0 0 0;\n",
              "      width: 32px;\n",
              "    }\n",
              "\n",
              "    .colab-df-convert:hover {\n",
              "      background-color: #E2EBFA;\n",
              "      box-shadow: 0px 1px 2px rgba(60, 64, 67, 0.3), 0px 1px 3px 1px rgba(60, 64, 67, 0.15);\n",
              "      fill: #174EA6;\n",
              "    }\n",
              "\n",
              "    .colab-df-buttons div {\n",
              "      margin-bottom: 4px;\n",
              "    }\n",
              "\n",
              "    [theme=dark] .colab-df-convert {\n",
              "      background-color: #3B4455;\n",
              "      fill: #D2E3FC;\n",
              "    }\n",
              "\n",
              "    [theme=dark] .colab-df-convert:hover {\n",
              "      background-color: #434B5C;\n",
              "      box-shadow: 0px 1px 3px 1px rgba(0, 0, 0, 0.15);\n",
              "      filter: drop-shadow(0px 1px 2px rgba(0, 0, 0, 0.3));\n",
              "      fill: #FFFFFF;\n",
              "    }\n",
              "  </style>\n",
              "\n",
              "    <script>\n",
              "      const buttonEl =\n",
              "        document.querySelector('#df-25fcbf0d-bc4f-4dd6-90c1-dc82d5f198bf button.colab-df-convert');\n",
              "      buttonEl.style.display =\n",
              "        google.colab.kernel.accessAllowed ? 'block' : 'none';\n",
              "\n",
              "      async function convertToInteractive(key) {\n",
              "        const element = document.querySelector('#df-25fcbf0d-bc4f-4dd6-90c1-dc82d5f198bf');\n",
              "        const dataTable =\n",
              "          await google.colab.kernel.invokeFunction('convertToInteractive',\n",
              "                                                    [key], {});\n",
              "        if (!dataTable) return;\n",
              "\n",
              "        const docLinkHtml = 'Like what you see? Visit the ' +\n",
              "          '<a target=\"_blank\" href=https://colab.research.google.com/notebooks/data_table.ipynb>data table notebook</a>'\n",
              "          + ' to learn more about interactive tables.';\n",
              "        element.innerHTML = '';\n",
              "        dataTable['output_type'] = 'display_data';\n",
              "        await google.colab.output.renderOutput(dataTable, element);\n",
              "        const docLink = document.createElement('div');\n",
              "        docLink.innerHTML = docLinkHtml;\n",
              "        element.appendChild(docLink);\n",
              "      }\n",
              "    </script>\n",
              "  </div>\n",
              "\n",
              "\n",
              "<div id=\"df-fa984a7e-14bb-40c9-8530-4f5cd9c798ac\">\n",
              "  <button class=\"colab-df-quickchart\" onclick=\"quickchart('df-fa984a7e-14bb-40c9-8530-4f5cd9c798ac')\"\n",
              "            title=\"Suggest charts\"\n",
              "            style=\"display:none;\">\n",
              "\n",
              "<svg xmlns=\"http://www.w3.org/2000/svg\" height=\"24px\"viewBox=\"0 0 24 24\"\n",
              "     width=\"24px\">\n",
              "    <g>\n",
              "        <path d=\"M19 3H5c-1.1 0-2 .9-2 2v14c0 1.1.9 2 2 2h14c1.1 0 2-.9 2-2V5c0-1.1-.9-2-2-2zM9 17H7v-7h2v7zm4 0h-2V7h2v10zm4 0h-2v-4h2v4z\"/>\n",
              "    </g>\n",
              "</svg>\n",
              "  </button>\n",
              "\n",
              "<style>\n",
              "  .colab-df-quickchart {\n",
              "      --bg-color: #E8F0FE;\n",
              "      --fill-color: #1967D2;\n",
              "      --hover-bg-color: #E2EBFA;\n",
              "      --hover-fill-color: #174EA6;\n",
              "      --disabled-fill-color: #AAA;\n",
              "      --disabled-bg-color: #DDD;\n",
              "  }\n",
              "\n",
              "  [theme=dark] .colab-df-quickchart {\n",
              "      --bg-color: #3B4455;\n",
              "      --fill-color: #D2E3FC;\n",
              "      --hover-bg-color: #434B5C;\n",
              "      --hover-fill-color: #FFFFFF;\n",
              "      --disabled-bg-color: #3B4455;\n",
              "      --disabled-fill-color: #666;\n",
              "  }\n",
              "\n",
              "  .colab-df-quickchart {\n",
              "    background-color: var(--bg-color);\n",
              "    border: none;\n",
              "    border-radius: 50%;\n",
              "    cursor: pointer;\n",
              "    display: none;\n",
              "    fill: var(--fill-color);\n",
              "    height: 32px;\n",
              "    padding: 0;\n",
              "    width: 32px;\n",
              "  }\n",
              "\n",
              "  .colab-df-quickchart:hover {\n",
              "    background-color: var(--hover-bg-color);\n",
              "    box-shadow: 0 1px 2px rgba(60, 64, 67, 0.3), 0 1px 3px 1px rgba(60, 64, 67, 0.15);\n",
              "    fill: var(--button-hover-fill-color);\n",
              "  }\n",
              "\n",
              "  .colab-df-quickchart-complete:disabled,\n",
              "  .colab-df-quickchart-complete:disabled:hover {\n",
              "    background-color: var(--disabled-bg-color);\n",
              "    fill: var(--disabled-fill-color);\n",
              "    box-shadow: none;\n",
              "  }\n",
              "\n",
              "  .colab-df-spinner {\n",
              "    border: 2px solid var(--fill-color);\n",
              "    border-color: transparent;\n",
              "    border-bottom-color: var(--fill-color);\n",
              "    animation:\n",
              "      spin 1s steps(1) infinite;\n",
              "  }\n",
              "\n",
              "  @keyframes spin {\n",
              "    0% {\n",
              "      border-color: transparent;\n",
              "      border-bottom-color: var(--fill-color);\n",
              "      border-left-color: var(--fill-color);\n",
              "    }\n",
              "    20% {\n",
              "      border-color: transparent;\n",
              "      border-left-color: var(--fill-color);\n",
              "      border-top-color: var(--fill-color);\n",
              "    }\n",
              "    30% {\n",
              "      border-color: transparent;\n",
              "      border-left-color: var(--fill-color);\n",
              "      border-top-color: var(--fill-color);\n",
              "      border-right-color: var(--fill-color);\n",
              "    }\n",
              "    40% {\n",
              "      border-color: transparent;\n",
              "      border-right-color: var(--fill-color);\n",
              "      border-top-color: var(--fill-color);\n",
              "    }\n",
              "    60% {\n",
              "      border-color: transparent;\n",
              "      border-right-color: var(--fill-color);\n",
              "    }\n",
              "    80% {\n",
              "      border-color: transparent;\n",
              "      border-right-color: var(--fill-color);\n",
              "      border-bottom-color: var(--fill-color);\n",
              "    }\n",
              "    90% {\n",
              "      border-color: transparent;\n",
              "      border-bottom-color: var(--fill-color);\n",
              "    }\n",
              "  }\n",
              "</style>\n",
              "\n",
              "  <script>\n",
              "    async function quickchart(key) {\n",
              "      const quickchartButtonEl =\n",
              "        document.querySelector('#' + key + ' button');\n",
              "      quickchartButtonEl.disabled = true;  // To prevent multiple clicks.\n",
              "      quickchartButtonEl.classList.add('colab-df-spinner');\n",
              "      try {\n",
              "        const charts = await google.colab.kernel.invokeFunction(\n",
              "            'suggestCharts', [key], {});\n",
              "      } catch (error) {\n",
              "        console.error('Error during call to suggestCharts:', error);\n",
              "      }\n",
              "      quickchartButtonEl.classList.remove('colab-df-spinner');\n",
              "      quickchartButtonEl.classList.add('colab-df-quickchart-complete');\n",
              "    }\n",
              "    (() => {\n",
              "      let quickchartButtonEl =\n",
              "        document.querySelector('#df-fa984a7e-14bb-40c9-8530-4f5cd9c798ac button');\n",
              "      quickchartButtonEl.style.display =\n",
              "        google.colab.kernel.accessAllowed ? 'block' : 'none';\n",
              "    })();\n",
              "  </script>\n",
              "</div>\n",
              "    </div>\n",
              "  </div>\n"
            ],
            "application/vnd.google.colaboratory.intrinsic+json": {
              "type": "dataframe",
              "variable_name": "data_0",
              "summary": "{\n  \"name\": \"data_0\",\n  \"rows\": 100000,\n  \"fields\": [\n    {\n      \"column\": \"id\",\n      \"properties\": {\n        \"dtype\": \"string\",\n        \"num_unique_values\": 99990,\n        \"samples\": [\n          \"qoTP6\",\n          \"fNYo7\",\n          \"KpTZ4\"\n        ],\n        \"semantic_type\": \"\",\n        \"description\": \"\"\n      }\n    },\n    {\n      \"column\": \"f0\",\n      \"properties\": {\n        \"dtype\": \"number\",\n        \"std\": 0.8718320065520426,\n        \"min\": -1.408605306026996,\n        \"max\": 2.362330810854224,\n        \"num_unique_values\": 100000,\n        \"samples\": [\n          0.5992833470636016,\n          0.7390171304947367,\n          1.4227427903541634\n        ],\n        \"semantic_type\": \"\",\n        \"description\": \"\"\n      }\n    },\n    {\n      \"column\": \"f1\",\n      \"properties\": {\n        \"dtype\": \"number\",\n        \"std\": 0.5044326721863985,\n        \"min\": -0.8482184970082173,\n        \"max\": 1.343769333804496,\n        \"num_unique_values\": 100000,\n        \"samples\": [\n          -0.557622621496187,\n          -0.4631556870588676,\n          -0.5349173229848796\n        ],\n        \"semantic_type\": \"\",\n        \"description\": \"\"\n      }\n    },\n    {\n      \"column\": \"f2\",\n      \"properties\": {\n        \"dtype\": \"number\",\n        \"std\": 3.248247649371672,\n        \"min\": -12.08832811806336,\n        \"max\": 16.003790007695365,\n        \"num_unique_values\": 100000,\n        \"samples\": [\n          2.1211866980570746,\n          -1.347584429701692,\n          3.718798000951628\n        ],\n        \"semantic_type\": \"\",\n        \"description\": \"\"\n      }\n    },\n    {\n      \"column\": \"product\",\n      \"properties\": {\n        \"dtype\": \"number\",\n        \"std\": 44.288691136853394,\n        \"min\": 0.0,\n        \"max\": 185.3643474222929,\n        \"num_unique_values\": 100000,\n        \"samples\": [\n          122.073349831204,\n          48.738539618788224,\n          131.33808823812544\n        ],\n        \"semantic_type\": \"\",\n        \"description\": \"\"\n      }\n    }\n  ]\n}"
            }
          },
          "metadata": {},
          "execution_count": 2
        }
      ],
      "source": [
        "data_0 = pd.read_csv('/datasets/geo_data_0.csv')\n",
        "print(data_0.shape)\n",
        "data_0.head()"
      ]
    },
    {
      "cell_type": "code",
      "execution_count": 3,
      "metadata": {
        "colab": {
          "base_uri": "https://localhost:8080/",
          "height": 223
        },
        "id": "3xqwellC7Z8A",
        "outputId": "b1d3d906-ad29-4428-af95-7d2b074e44b6"
      },
      "outputs": [
        {
          "output_type": "stream",
          "name": "stdout",
          "text": [
            "(100000, 5)\n"
          ]
        },
        {
          "output_type": "execute_result",
          "data": {
            "text/plain": [
              "      id         f0         f1        f2     product\n",
              "0  kBEdx -15.001348  -8.276000 -0.005876    3.179103\n",
              "1  62mP7  14.272088  -3.475083  0.999183   26.953261\n",
              "2  vyE1P   6.263187  -5.948386  5.001160  134.766305\n",
              "3  KcrkZ -13.081196 -11.506057  4.999415  137.945408\n",
              "4  AHL4O  12.702195  -8.147433  5.004363  134.766305"
            ],
            "text/html": [
              "\n",
              "  <div id=\"df-a327399f-8ea2-47e3-9c72-16ec085058b2\" class=\"colab-df-container\">\n",
              "    <div>\n",
              "<style scoped>\n",
              "    .dataframe tbody tr th:only-of-type {\n",
              "        vertical-align: middle;\n",
              "    }\n",
              "\n",
              "    .dataframe tbody tr th {\n",
              "        vertical-align: top;\n",
              "    }\n",
              "\n",
              "    .dataframe thead th {\n",
              "        text-align: right;\n",
              "    }\n",
              "</style>\n",
              "<table border=\"1\" class=\"dataframe\">\n",
              "  <thead>\n",
              "    <tr style=\"text-align: right;\">\n",
              "      <th></th>\n",
              "      <th>id</th>\n",
              "      <th>f0</th>\n",
              "      <th>f1</th>\n",
              "      <th>f2</th>\n",
              "      <th>product</th>\n",
              "    </tr>\n",
              "  </thead>\n",
              "  <tbody>\n",
              "    <tr>\n",
              "      <th>0</th>\n",
              "      <td>kBEdx</td>\n",
              "      <td>-15.001348</td>\n",
              "      <td>-8.276000</td>\n",
              "      <td>-0.005876</td>\n",
              "      <td>3.179103</td>\n",
              "    </tr>\n",
              "    <tr>\n",
              "      <th>1</th>\n",
              "      <td>62mP7</td>\n",
              "      <td>14.272088</td>\n",
              "      <td>-3.475083</td>\n",
              "      <td>0.999183</td>\n",
              "      <td>26.953261</td>\n",
              "    </tr>\n",
              "    <tr>\n",
              "      <th>2</th>\n",
              "      <td>vyE1P</td>\n",
              "      <td>6.263187</td>\n",
              "      <td>-5.948386</td>\n",
              "      <td>5.001160</td>\n",
              "      <td>134.766305</td>\n",
              "    </tr>\n",
              "    <tr>\n",
              "      <th>3</th>\n",
              "      <td>KcrkZ</td>\n",
              "      <td>-13.081196</td>\n",
              "      <td>-11.506057</td>\n",
              "      <td>4.999415</td>\n",
              "      <td>137.945408</td>\n",
              "    </tr>\n",
              "    <tr>\n",
              "      <th>4</th>\n",
              "      <td>AHL4O</td>\n",
              "      <td>12.702195</td>\n",
              "      <td>-8.147433</td>\n",
              "      <td>5.004363</td>\n",
              "      <td>134.766305</td>\n",
              "    </tr>\n",
              "  </tbody>\n",
              "</table>\n",
              "</div>\n",
              "    <div class=\"colab-df-buttons\">\n",
              "\n",
              "  <div class=\"colab-df-container\">\n",
              "    <button class=\"colab-df-convert\" onclick=\"convertToInteractive('df-a327399f-8ea2-47e3-9c72-16ec085058b2')\"\n",
              "            title=\"Convert this dataframe to an interactive table.\"\n",
              "            style=\"display:none;\">\n",
              "\n",
              "  <svg xmlns=\"http://www.w3.org/2000/svg\" height=\"24px\" viewBox=\"0 -960 960 960\">\n",
              "    <path d=\"M120-120v-720h720v720H120Zm60-500h600v-160H180v160Zm220 220h160v-160H400v160Zm0 220h160v-160H400v160ZM180-400h160v-160H180v160Zm440 0h160v-160H620v160ZM180-180h160v-160H180v160Zm440 0h160v-160H620v160Z\"/>\n",
              "  </svg>\n",
              "    </button>\n",
              "\n",
              "  <style>\n",
              "    .colab-df-container {\n",
              "      display:flex;\n",
              "      gap: 12px;\n",
              "    }\n",
              "\n",
              "    .colab-df-convert {\n",
              "      background-color: #E8F0FE;\n",
              "      border: none;\n",
              "      border-radius: 50%;\n",
              "      cursor: pointer;\n",
              "      display: none;\n",
              "      fill: #1967D2;\n",
              "      height: 32px;\n",
              "      padding: 0 0 0 0;\n",
              "      width: 32px;\n",
              "    }\n",
              "\n",
              "    .colab-df-convert:hover {\n",
              "      background-color: #E2EBFA;\n",
              "      box-shadow: 0px 1px 2px rgba(60, 64, 67, 0.3), 0px 1px 3px 1px rgba(60, 64, 67, 0.15);\n",
              "      fill: #174EA6;\n",
              "    }\n",
              "\n",
              "    .colab-df-buttons div {\n",
              "      margin-bottom: 4px;\n",
              "    }\n",
              "\n",
              "    [theme=dark] .colab-df-convert {\n",
              "      background-color: #3B4455;\n",
              "      fill: #D2E3FC;\n",
              "    }\n",
              "\n",
              "    [theme=dark] .colab-df-convert:hover {\n",
              "      background-color: #434B5C;\n",
              "      box-shadow: 0px 1px 3px 1px rgba(0, 0, 0, 0.15);\n",
              "      filter: drop-shadow(0px 1px 2px rgba(0, 0, 0, 0.3));\n",
              "      fill: #FFFFFF;\n",
              "    }\n",
              "  </style>\n",
              "\n",
              "    <script>\n",
              "      const buttonEl =\n",
              "        document.querySelector('#df-a327399f-8ea2-47e3-9c72-16ec085058b2 button.colab-df-convert');\n",
              "      buttonEl.style.display =\n",
              "        google.colab.kernel.accessAllowed ? 'block' : 'none';\n",
              "\n",
              "      async function convertToInteractive(key) {\n",
              "        const element = document.querySelector('#df-a327399f-8ea2-47e3-9c72-16ec085058b2');\n",
              "        const dataTable =\n",
              "          await google.colab.kernel.invokeFunction('convertToInteractive',\n",
              "                                                    [key], {});\n",
              "        if (!dataTable) return;\n",
              "\n",
              "        const docLinkHtml = 'Like what you see? Visit the ' +\n",
              "          '<a target=\"_blank\" href=https://colab.research.google.com/notebooks/data_table.ipynb>data table notebook</a>'\n",
              "          + ' to learn more about interactive tables.';\n",
              "        element.innerHTML = '';\n",
              "        dataTable['output_type'] = 'display_data';\n",
              "        await google.colab.output.renderOutput(dataTable, element);\n",
              "        const docLink = document.createElement('div');\n",
              "        docLink.innerHTML = docLinkHtml;\n",
              "        element.appendChild(docLink);\n",
              "      }\n",
              "    </script>\n",
              "  </div>\n",
              "\n",
              "\n",
              "<div id=\"df-7aefa47b-425b-4f2d-8e61-073c1b76b975\">\n",
              "  <button class=\"colab-df-quickchart\" onclick=\"quickchart('df-7aefa47b-425b-4f2d-8e61-073c1b76b975')\"\n",
              "            title=\"Suggest charts\"\n",
              "            style=\"display:none;\">\n",
              "\n",
              "<svg xmlns=\"http://www.w3.org/2000/svg\" height=\"24px\"viewBox=\"0 0 24 24\"\n",
              "     width=\"24px\">\n",
              "    <g>\n",
              "        <path d=\"M19 3H5c-1.1 0-2 .9-2 2v14c0 1.1.9 2 2 2h14c1.1 0 2-.9 2-2V5c0-1.1-.9-2-2-2zM9 17H7v-7h2v7zm4 0h-2V7h2v10zm4 0h-2v-4h2v4z\"/>\n",
              "    </g>\n",
              "</svg>\n",
              "  </button>\n",
              "\n",
              "<style>\n",
              "  .colab-df-quickchart {\n",
              "      --bg-color: #E8F0FE;\n",
              "      --fill-color: #1967D2;\n",
              "      --hover-bg-color: #E2EBFA;\n",
              "      --hover-fill-color: #174EA6;\n",
              "      --disabled-fill-color: #AAA;\n",
              "      --disabled-bg-color: #DDD;\n",
              "  }\n",
              "\n",
              "  [theme=dark] .colab-df-quickchart {\n",
              "      --bg-color: #3B4455;\n",
              "      --fill-color: #D2E3FC;\n",
              "      --hover-bg-color: #434B5C;\n",
              "      --hover-fill-color: #FFFFFF;\n",
              "      --disabled-bg-color: #3B4455;\n",
              "      --disabled-fill-color: #666;\n",
              "  }\n",
              "\n",
              "  .colab-df-quickchart {\n",
              "    background-color: var(--bg-color);\n",
              "    border: none;\n",
              "    border-radius: 50%;\n",
              "    cursor: pointer;\n",
              "    display: none;\n",
              "    fill: var(--fill-color);\n",
              "    height: 32px;\n",
              "    padding: 0;\n",
              "    width: 32px;\n",
              "  }\n",
              "\n",
              "  .colab-df-quickchart:hover {\n",
              "    background-color: var(--hover-bg-color);\n",
              "    box-shadow: 0 1px 2px rgba(60, 64, 67, 0.3), 0 1px 3px 1px rgba(60, 64, 67, 0.15);\n",
              "    fill: var(--button-hover-fill-color);\n",
              "  }\n",
              "\n",
              "  .colab-df-quickchart-complete:disabled,\n",
              "  .colab-df-quickchart-complete:disabled:hover {\n",
              "    background-color: var(--disabled-bg-color);\n",
              "    fill: var(--disabled-fill-color);\n",
              "    box-shadow: none;\n",
              "  }\n",
              "\n",
              "  .colab-df-spinner {\n",
              "    border: 2px solid var(--fill-color);\n",
              "    border-color: transparent;\n",
              "    border-bottom-color: var(--fill-color);\n",
              "    animation:\n",
              "      spin 1s steps(1) infinite;\n",
              "  }\n",
              "\n",
              "  @keyframes spin {\n",
              "    0% {\n",
              "      border-color: transparent;\n",
              "      border-bottom-color: var(--fill-color);\n",
              "      border-left-color: var(--fill-color);\n",
              "    }\n",
              "    20% {\n",
              "      border-color: transparent;\n",
              "      border-left-color: var(--fill-color);\n",
              "      border-top-color: var(--fill-color);\n",
              "    }\n",
              "    30% {\n",
              "      border-color: transparent;\n",
              "      border-left-color: var(--fill-color);\n",
              "      border-top-color: var(--fill-color);\n",
              "      border-right-color: var(--fill-color);\n",
              "    }\n",
              "    40% {\n",
              "      border-color: transparent;\n",
              "      border-right-color: var(--fill-color);\n",
              "      border-top-color: var(--fill-color);\n",
              "    }\n",
              "    60% {\n",
              "      border-color: transparent;\n",
              "      border-right-color: var(--fill-color);\n",
              "    }\n",
              "    80% {\n",
              "      border-color: transparent;\n",
              "      border-right-color: var(--fill-color);\n",
              "      border-bottom-color: var(--fill-color);\n",
              "    }\n",
              "    90% {\n",
              "      border-color: transparent;\n",
              "      border-bottom-color: var(--fill-color);\n",
              "    }\n",
              "  }\n",
              "</style>\n",
              "\n",
              "  <script>\n",
              "    async function quickchart(key) {\n",
              "      const quickchartButtonEl =\n",
              "        document.querySelector('#' + key + ' button');\n",
              "      quickchartButtonEl.disabled = true;  // To prevent multiple clicks.\n",
              "      quickchartButtonEl.classList.add('colab-df-spinner');\n",
              "      try {\n",
              "        const charts = await google.colab.kernel.invokeFunction(\n",
              "            'suggestCharts', [key], {});\n",
              "      } catch (error) {\n",
              "        console.error('Error during call to suggestCharts:', error);\n",
              "      }\n",
              "      quickchartButtonEl.classList.remove('colab-df-spinner');\n",
              "      quickchartButtonEl.classList.add('colab-df-quickchart-complete');\n",
              "    }\n",
              "    (() => {\n",
              "      let quickchartButtonEl =\n",
              "        document.querySelector('#df-7aefa47b-425b-4f2d-8e61-073c1b76b975 button');\n",
              "      quickchartButtonEl.style.display =\n",
              "        google.colab.kernel.accessAllowed ? 'block' : 'none';\n",
              "    })();\n",
              "  </script>\n",
              "</div>\n",
              "    </div>\n",
              "  </div>\n"
            ],
            "application/vnd.google.colaboratory.intrinsic+json": {
              "type": "dataframe",
              "variable_name": "data_1",
              "summary": "{\n  \"name\": \"data_1\",\n  \"rows\": 100000,\n  \"fields\": [\n    {\n      \"column\": \"id\",\n      \"properties\": {\n        \"dtype\": \"string\",\n        \"num_unique_values\": 99996,\n        \"samples\": [\n          \"XObi5\",\n          \"wc1b3\",\n          \"WEK62\"\n        ],\n        \"semantic_type\": \"\",\n        \"description\": \"\"\n      }\n    },\n    {\n      \"column\": \"f0\",\n      \"properties\": {\n        \"dtype\": \"number\",\n        \"std\": 8.965931501139078,\n        \"min\": -31.609576019167687,\n        \"max\": 29.42175461390372,\n        \"num_unique_values\": 100000,\n        \"samples\": [\n          6.078075709566527,\n          16.462385537892867,\n          7.051897841541799\n        ],\n        \"semantic_type\": \"\",\n        \"description\": \"\"\n      }\n    },\n    {\n      \"column\": \"f1\",\n      \"properties\": {\n        \"dtype\": \"number\",\n        \"std\": 5.119871631704783,\n        \"min\": -26.358598008345872,\n        \"max\": 18.73406263373076,\n        \"num_unique_values\": 100000,\n        \"samples\": [\n          0.0845683628900175,\n          2.71294560580949,\n          0.7669833852563661\n        ],\n        \"semantic_type\": \"\",\n        \"description\": \"\"\n      }\n    },\n    {\n      \"column\": \"f2\",\n      \"properties\": {\n        \"dtype\": \"number\",\n        \"std\": 1.7035715179903894,\n        \"min\": -0.0181440867134202,\n        \"max\": 5.019720555223062,\n        \"num_unique_values\": 100000,\n        \"samples\": [\n          0.0029566785007801,\n          1.9930297163985533,\n          4.990194107070545\n        ],\n        \"semantic_type\": \"\",\n        \"description\": \"\"\n      }\n    },\n    {\n      \"column\": \"product\",\n      \"properties\": {\n        \"dtype\": \"number\",\n        \"std\": 45.94442289497512,\n        \"min\": 0.0,\n        \"max\": 137.94540774090564,\n        \"num_unique_values\": 12,\n        \"samples\": [\n          30.132363614746943,\n          57.08562464628662,\n          3.179102583207246\n        ],\n        \"semantic_type\": \"\",\n        \"description\": \"\"\n      }\n    }\n  ]\n}"
            }
          },
          "metadata": {},
          "execution_count": 3
        }
      ],
      "source": [
        "data_1 = pd.read_csv('/datasets/geo_data_1.csv')\n",
        "print(data_1.shape)\n",
        "data_1.head()"
      ]
    },
    {
      "cell_type": "code",
      "execution_count": 4,
      "metadata": {
        "colab": {
          "base_uri": "https://localhost:8080/",
          "height": 223
        },
        "id": "vHuu5w7w7Z8B",
        "outputId": "410ceeb0-69bb-4074-ab4d-c7fa40b76004"
      },
      "outputs": [
        {
          "output_type": "stream",
          "name": "stdout",
          "text": [
            "(100000, 5)\n"
          ]
        },
        {
          "output_type": "execute_result",
          "data": {
            "text/plain": [
              "      id        f0        f1        f2     product\n",
              "0  fwXo0 -1.146987  0.963328 -0.828965   27.758673\n",
              "1  WJtFt  0.262778  0.269839 -2.530187   56.069697\n",
              "2  ovLUW  0.194587  0.289035 -5.586433   62.871910\n",
              "3  q6cA6  2.236060 -0.553760  0.930038  114.572842\n",
              "4  WPMUX -0.515993  1.716266  5.899011  149.600746"
            ],
            "text/html": [
              "\n",
              "  <div id=\"df-0777b4ce-086e-4ca6-8f47-270a3b07a90d\" class=\"colab-df-container\">\n",
              "    <div>\n",
              "<style scoped>\n",
              "    .dataframe tbody tr th:only-of-type {\n",
              "        vertical-align: middle;\n",
              "    }\n",
              "\n",
              "    .dataframe tbody tr th {\n",
              "        vertical-align: top;\n",
              "    }\n",
              "\n",
              "    .dataframe thead th {\n",
              "        text-align: right;\n",
              "    }\n",
              "</style>\n",
              "<table border=\"1\" class=\"dataframe\">\n",
              "  <thead>\n",
              "    <tr style=\"text-align: right;\">\n",
              "      <th></th>\n",
              "      <th>id</th>\n",
              "      <th>f0</th>\n",
              "      <th>f1</th>\n",
              "      <th>f2</th>\n",
              "      <th>product</th>\n",
              "    </tr>\n",
              "  </thead>\n",
              "  <tbody>\n",
              "    <tr>\n",
              "      <th>0</th>\n",
              "      <td>fwXo0</td>\n",
              "      <td>-1.146987</td>\n",
              "      <td>0.963328</td>\n",
              "      <td>-0.828965</td>\n",
              "      <td>27.758673</td>\n",
              "    </tr>\n",
              "    <tr>\n",
              "      <th>1</th>\n",
              "      <td>WJtFt</td>\n",
              "      <td>0.262778</td>\n",
              "      <td>0.269839</td>\n",
              "      <td>-2.530187</td>\n",
              "      <td>56.069697</td>\n",
              "    </tr>\n",
              "    <tr>\n",
              "      <th>2</th>\n",
              "      <td>ovLUW</td>\n",
              "      <td>0.194587</td>\n",
              "      <td>0.289035</td>\n",
              "      <td>-5.586433</td>\n",
              "      <td>62.871910</td>\n",
              "    </tr>\n",
              "    <tr>\n",
              "      <th>3</th>\n",
              "      <td>q6cA6</td>\n",
              "      <td>2.236060</td>\n",
              "      <td>-0.553760</td>\n",
              "      <td>0.930038</td>\n",
              "      <td>114.572842</td>\n",
              "    </tr>\n",
              "    <tr>\n",
              "      <th>4</th>\n",
              "      <td>WPMUX</td>\n",
              "      <td>-0.515993</td>\n",
              "      <td>1.716266</td>\n",
              "      <td>5.899011</td>\n",
              "      <td>149.600746</td>\n",
              "    </tr>\n",
              "  </tbody>\n",
              "</table>\n",
              "</div>\n",
              "    <div class=\"colab-df-buttons\">\n",
              "\n",
              "  <div class=\"colab-df-container\">\n",
              "    <button class=\"colab-df-convert\" onclick=\"convertToInteractive('df-0777b4ce-086e-4ca6-8f47-270a3b07a90d')\"\n",
              "            title=\"Convert this dataframe to an interactive table.\"\n",
              "            style=\"display:none;\">\n",
              "\n",
              "  <svg xmlns=\"http://www.w3.org/2000/svg\" height=\"24px\" viewBox=\"0 -960 960 960\">\n",
              "    <path d=\"M120-120v-720h720v720H120Zm60-500h600v-160H180v160Zm220 220h160v-160H400v160Zm0 220h160v-160H400v160ZM180-400h160v-160H180v160Zm440 0h160v-160H620v160ZM180-180h160v-160H180v160Zm440 0h160v-160H620v160Z\"/>\n",
              "  </svg>\n",
              "    </button>\n",
              "\n",
              "  <style>\n",
              "    .colab-df-container {\n",
              "      display:flex;\n",
              "      gap: 12px;\n",
              "    }\n",
              "\n",
              "    .colab-df-convert {\n",
              "      background-color: #E8F0FE;\n",
              "      border: none;\n",
              "      border-radius: 50%;\n",
              "      cursor: pointer;\n",
              "      display: none;\n",
              "      fill: #1967D2;\n",
              "      height: 32px;\n",
              "      padding: 0 0 0 0;\n",
              "      width: 32px;\n",
              "    }\n",
              "\n",
              "    .colab-df-convert:hover {\n",
              "      background-color: #E2EBFA;\n",
              "      box-shadow: 0px 1px 2px rgba(60, 64, 67, 0.3), 0px 1px 3px 1px rgba(60, 64, 67, 0.15);\n",
              "      fill: #174EA6;\n",
              "    }\n",
              "\n",
              "    .colab-df-buttons div {\n",
              "      margin-bottom: 4px;\n",
              "    }\n",
              "\n",
              "    [theme=dark] .colab-df-convert {\n",
              "      background-color: #3B4455;\n",
              "      fill: #D2E3FC;\n",
              "    }\n",
              "\n",
              "    [theme=dark] .colab-df-convert:hover {\n",
              "      background-color: #434B5C;\n",
              "      box-shadow: 0px 1px 3px 1px rgba(0, 0, 0, 0.15);\n",
              "      filter: drop-shadow(0px 1px 2px rgba(0, 0, 0, 0.3));\n",
              "      fill: #FFFFFF;\n",
              "    }\n",
              "  </style>\n",
              "\n",
              "    <script>\n",
              "      const buttonEl =\n",
              "        document.querySelector('#df-0777b4ce-086e-4ca6-8f47-270a3b07a90d button.colab-df-convert');\n",
              "      buttonEl.style.display =\n",
              "        google.colab.kernel.accessAllowed ? 'block' : 'none';\n",
              "\n",
              "      async function convertToInteractive(key) {\n",
              "        const element = document.querySelector('#df-0777b4ce-086e-4ca6-8f47-270a3b07a90d');\n",
              "        const dataTable =\n",
              "          await google.colab.kernel.invokeFunction('convertToInteractive',\n",
              "                                                    [key], {});\n",
              "        if (!dataTable) return;\n",
              "\n",
              "        const docLinkHtml = 'Like what you see? Visit the ' +\n",
              "          '<a target=\"_blank\" href=https://colab.research.google.com/notebooks/data_table.ipynb>data table notebook</a>'\n",
              "          + ' to learn more about interactive tables.';\n",
              "        element.innerHTML = '';\n",
              "        dataTable['output_type'] = 'display_data';\n",
              "        await google.colab.output.renderOutput(dataTable, element);\n",
              "        const docLink = document.createElement('div');\n",
              "        docLink.innerHTML = docLinkHtml;\n",
              "        element.appendChild(docLink);\n",
              "      }\n",
              "    </script>\n",
              "  </div>\n",
              "\n",
              "\n",
              "<div id=\"df-2af81121-a828-4ec6-abed-1cc4401b9c11\">\n",
              "  <button class=\"colab-df-quickchart\" onclick=\"quickchart('df-2af81121-a828-4ec6-abed-1cc4401b9c11')\"\n",
              "            title=\"Suggest charts\"\n",
              "            style=\"display:none;\">\n",
              "\n",
              "<svg xmlns=\"http://www.w3.org/2000/svg\" height=\"24px\"viewBox=\"0 0 24 24\"\n",
              "     width=\"24px\">\n",
              "    <g>\n",
              "        <path d=\"M19 3H5c-1.1 0-2 .9-2 2v14c0 1.1.9 2 2 2h14c1.1 0 2-.9 2-2V5c0-1.1-.9-2-2-2zM9 17H7v-7h2v7zm4 0h-2V7h2v10zm4 0h-2v-4h2v4z\"/>\n",
              "    </g>\n",
              "</svg>\n",
              "  </button>\n",
              "\n",
              "<style>\n",
              "  .colab-df-quickchart {\n",
              "      --bg-color: #E8F0FE;\n",
              "      --fill-color: #1967D2;\n",
              "      --hover-bg-color: #E2EBFA;\n",
              "      --hover-fill-color: #174EA6;\n",
              "      --disabled-fill-color: #AAA;\n",
              "      --disabled-bg-color: #DDD;\n",
              "  }\n",
              "\n",
              "  [theme=dark] .colab-df-quickchart {\n",
              "      --bg-color: #3B4455;\n",
              "      --fill-color: #D2E3FC;\n",
              "      --hover-bg-color: #434B5C;\n",
              "      --hover-fill-color: #FFFFFF;\n",
              "      --disabled-bg-color: #3B4455;\n",
              "      --disabled-fill-color: #666;\n",
              "  }\n",
              "\n",
              "  .colab-df-quickchart {\n",
              "    background-color: var(--bg-color);\n",
              "    border: none;\n",
              "    border-radius: 50%;\n",
              "    cursor: pointer;\n",
              "    display: none;\n",
              "    fill: var(--fill-color);\n",
              "    height: 32px;\n",
              "    padding: 0;\n",
              "    width: 32px;\n",
              "  }\n",
              "\n",
              "  .colab-df-quickchart:hover {\n",
              "    background-color: var(--hover-bg-color);\n",
              "    box-shadow: 0 1px 2px rgba(60, 64, 67, 0.3), 0 1px 3px 1px rgba(60, 64, 67, 0.15);\n",
              "    fill: var(--button-hover-fill-color);\n",
              "  }\n",
              "\n",
              "  .colab-df-quickchart-complete:disabled,\n",
              "  .colab-df-quickchart-complete:disabled:hover {\n",
              "    background-color: var(--disabled-bg-color);\n",
              "    fill: var(--disabled-fill-color);\n",
              "    box-shadow: none;\n",
              "  }\n",
              "\n",
              "  .colab-df-spinner {\n",
              "    border: 2px solid var(--fill-color);\n",
              "    border-color: transparent;\n",
              "    border-bottom-color: var(--fill-color);\n",
              "    animation:\n",
              "      spin 1s steps(1) infinite;\n",
              "  }\n",
              "\n",
              "  @keyframes spin {\n",
              "    0% {\n",
              "      border-color: transparent;\n",
              "      border-bottom-color: var(--fill-color);\n",
              "      border-left-color: var(--fill-color);\n",
              "    }\n",
              "    20% {\n",
              "      border-color: transparent;\n",
              "      border-left-color: var(--fill-color);\n",
              "      border-top-color: var(--fill-color);\n",
              "    }\n",
              "    30% {\n",
              "      border-color: transparent;\n",
              "      border-left-color: var(--fill-color);\n",
              "      border-top-color: var(--fill-color);\n",
              "      border-right-color: var(--fill-color);\n",
              "    }\n",
              "    40% {\n",
              "      border-color: transparent;\n",
              "      border-right-color: var(--fill-color);\n",
              "      border-top-color: var(--fill-color);\n",
              "    }\n",
              "    60% {\n",
              "      border-color: transparent;\n",
              "      border-right-color: var(--fill-color);\n",
              "    }\n",
              "    80% {\n",
              "      border-color: transparent;\n",
              "      border-right-color: var(--fill-color);\n",
              "      border-bottom-color: var(--fill-color);\n",
              "    }\n",
              "    90% {\n",
              "      border-color: transparent;\n",
              "      border-bottom-color: var(--fill-color);\n",
              "    }\n",
              "  }\n",
              "</style>\n",
              "\n",
              "  <script>\n",
              "    async function quickchart(key) {\n",
              "      const quickchartButtonEl =\n",
              "        document.querySelector('#' + key + ' button');\n",
              "      quickchartButtonEl.disabled = true;  // To prevent multiple clicks.\n",
              "      quickchartButtonEl.classList.add('colab-df-spinner');\n",
              "      try {\n",
              "        const charts = await google.colab.kernel.invokeFunction(\n",
              "            'suggestCharts', [key], {});\n",
              "      } catch (error) {\n",
              "        console.error('Error during call to suggestCharts:', error);\n",
              "      }\n",
              "      quickchartButtonEl.classList.remove('colab-df-spinner');\n",
              "      quickchartButtonEl.classList.add('colab-df-quickchart-complete');\n",
              "    }\n",
              "    (() => {\n",
              "      let quickchartButtonEl =\n",
              "        document.querySelector('#df-2af81121-a828-4ec6-abed-1cc4401b9c11 button');\n",
              "      quickchartButtonEl.style.display =\n",
              "        google.colab.kernel.accessAllowed ? 'block' : 'none';\n",
              "    })();\n",
              "  </script>\n",
              "</div>\n",
              "    </div>\n",
              "  </div>\n"
            ],
            "application/vnd.google.colaboratory.intrinsic+json": {
              "type": "dataframe",
              "variable_name": "data_2",
              "summary": "{\n  \"name\": \"data_2\",\n  \"rows\": 100000,\n  \"fields\": [\n    {\n      \"column\": \"id\",\n      \"properties\": {\n        \"dtype\": \"string\",\n        \"num_unique_values\": 99996,\n        \"samples\": [\n          \"fEtM4\",\n          \"ZUTtd\",\n          \"VtpnE\"\n        ],\n        \"semantic_type\": \"\",\n        \"description\": \"\"\n      }\n    },\n    {\n      \"column\": \"f0\",\n      \"properties\": {\n        \"dtype\": \"number\",\n        \"std\": 1.7320449040867418,\n        \"min\": -8.760003624213763,\n        \"max\": 7.23826247979405,\n        \"num_unique_values\": 100000,\n        \"samples\": [\n          2.111117898033509,\n          0.7347590081285497,\n          -2.513108603822821\n        ],\n        \"semantic_type\": \"\",\n        \"description\": \"\"\n      }\n    },\n    {\n      \"column\": \"f1\",\n      \"properties\": {\n        \"dtype\": \"number\",\n        \"std\": 1.730417084907714,\n        \"min\": -7.084019760867246,\n        \"max\": 7.844801270084258,\n        \"num_unique_values\": 100000,\n        \"samples\": [\n          -1.6797732374363852,\n          0.7477875131081809,\n          0.844631342858016\n        ],\n        \"semantic_type\": \"\",\n        \"description\": \"\"\n      }\n    },\n    {\n      \"column\": \"f2\",\n      \"properties\": {\n        \"dtype\": \"number\",\n        \"std\": 3.4734446226937665,\n        \"min\": -11.97033454147699,\n        \"max\": 16.73940205869952,\n        \"num_unique_values\": 100000,\n        \"samples\": [\n          3.1122396505711434,\n          3.6708794827028193,\n          -4.922889181688791\n        ],\n        \"semantic_type\": \"\",\n        \"description\": \"\"\n      }\n    },\n    {\n      \"column\": \"product\",\n      \"properties\": {\n        \"dtype\": \"number\",\n        \"std\": 44.74992106895218,\n        \"min\": 0.0,\n        \"max\": 190.0298383433513,\n        \"num_unique_values\": 100000,\n        \"samples\": [\n          117.44130066629592,\n          47.84124932400383,\n          45.88348343407696\n        ],\n        \"semantic_type\": \"\",\n        \"description\": \"\"\n      }\n    }\n  ]\n}"
            }
          },
          "metadata": {},
          "execution_count": 4
        }
      ],
      "source": [
        "data_2 = pd.read_csv('/datasets/geo_data_2.csv')\n",
        "print(data_2.shape)\n",
        "data_2.head()"
      ]
    },
    {
      "cell_type": "markdown",
      "metadata": {
        "id": "y3mWoZQR7Z8B"
      },
      "source": [
        "Данные у нас подготовленные заранее, и значения столбцов мне не понятны. Вот какая информация прилагается к датасетам:\n",
        "- id — уникальный идентификатор скважины;\n",
        "- f0, f1, f2 — три признака точек (неважно, что они означают, но сами признаки значимы);\n",
        "- product — объём запасов в скважине (тыс. баррелей).\n",
        "\n",
        "Проверю наличие дубликатов."
      ]
    },
    {
      "cell_type": "code",
      "execution_count": 5,
      "metadata": {
        "colab": {
          "base_uri": "https://localhost:8080/"
        },
        "id": "t7lA4Se67Z8B",
        "outputId": "c59144a8-2f2a-4d2e-dd3a-0b50428bf0fd"
      },
      "outputs": [
        {
          "output_type": "stream",
          "name": "stdout",
          "text": [
            "0\n",
            "0\n",
            "0\n"
          ]
        }
      ],
      "source": [
        "print(data_0.duplicated().sum())\n",
        "print(data_1.duplicated().sum())\n",
        "print(data_2.duplicated().sum())"
      ]
    },
    {
      "cell_type": "markdown",
      "metadata": {
        "id": "3PNlUI9I7Z8C"
      },
      "source": [
        "Теперь посмотрим наличие дубликатов среди именно столбца id, в котором предоставлены уникальные идентификаторы скважин."
      ]
    },
    {
      "cell_type": "code",
      "execution_count": 6,
      "metadata": {
        "colab": {
          "base_uri": "https://localhost:8080/"
        },
        "id": "9MGSSPNh7Z8C",
        "outputId": "aa7413a9-f6d4-4820-de0a-a05960d78940"
      },
      "outputs": [
        {
          "output_type": "stream",
          "name": "stdout",
          "text": [
            "10\n",
            "4\n",
            "4\n"
          ]
        }
      ],
      "source": [
        "print(data_0['id'].duplicated().sum())\n",
        "print(data_1['id'].duplicated().sum())\n",
        "print(data_2['id'].duplicated().sum())"
      ]
    },
    {
      "cell_type": "markdown",
      "metadata": {
        "id": "l7kaxqKa7Z8C"
      },
      "source": [
        "А вот здесь у нас обнаружилось суммарно 18 продублированных значений. Поскольку я не знаю наверняка, какие данные о каждой скважине правдивые, просто удалю эти строки: на датасеты из 100 тыс. строк это не окажет большого влияния."
      ]
    },
    {
      "cell_type": "code",
      "execution_count": 7,
      "metadata": {
        "colab": {
          "base_uri": "https://localhost:8080/"
        },
        "id": "zlmQeD8W7Z8C",
        "outputId": "741f8924-223a-40fb-8a27-25cd980e5192"
      },
      "outputs": [
        {
          "output_type": "stream",
          "name": "stdout",
          "text": [
            "0\n",
            "0\n",
            "0\n"
          ]
        }
      ],
      "source": [
        "data_0 = data_0.drop_duplicates(subset='id').reset_index(drop=True)\n",
        "data_1 = data_1.drop_duplicates(subset='id').reset_index(drop=True)\n",
        "data_2 = data_2.drop_duplicates(subset='id').reset_index(drop=True)\n",
        "print(data_0['id'].duplicated().sum())\n",
        "print(data_1['id'].duplicated().sum())\n",
        "print(data_2['id'].duplicated().sum())"
      ]
    },
    {
      "cell_type": "markdown",
      "metadata": {
        "id": "yY9aNpgI7Z8D"
      },
      "source": [
        "Я удалила дубликаты, теперь проверю пропущенные значения."
      ]
    },
    {
      "cell_type": "code",
      "execution_count": 8,
      "metadata": {
        "scrolled": true,
        "colab": {
          "base_uri": "https://localhost:8080/"
        },
        "id": "ce8ehzgA7Z8D",
        "outputId": "57523c9f-e618-4640-ab07-7ea65d2ebdd5"
      },
      "outputs": [
        {
          "output_type": "stream",
          "name": "stdout",
          "text": [
            "id         0\n",
            "f0         0\n",
            "f1         0\n",
            "f2         0\n",
            "product    0\n",
            "dtype: int64\n",
            "id         0\n",
            "f0         0\n",
            "f1         0\n",
            "f2         0\n",
            "product    0\n",
            "dtype: int64\n",
            "id         0\n",
            "f0         0\n",
            "f1         0\n",
            "f2         0\n",
            "product    0\n",
            "dtype: int64\n"
          ]
        }
      ],
      "source": [
        "print(data_0.isna().sum())\n",
        "print(data_1.isna().sum())\n",
        "print(data_2.isna().sum())"
      ]
    },
    {
      "cell_type": "markdown",
      "metadata": {
        "id": "UsKLkd1r7Z8D"
      },
      "source": [
        "Пропусков также нет, данные были предварительно хорошо почищены.\n",
        "\n",
        "### Промежуточный вывод\n",
        "\n",
        "Я импортировала три датасета, изучила их и убедилась в отсутствии явных дубликатов и пропущенных значений. Удалила неявные дубликаты."
      ]
    },
    {
      "cell_type": "markdown",
      "metadata": {
        "id": "uMGhGI8C7Z8D"
      },
      "source": [
        "## Обучение и проверка модели"
      ]
    },
    {
      "cell_type": "markdown",
      "metadata": {
        "id": "OMVfPTj17Z8D"
      },
      "source": [
        "В этом разделе я буду обучать модель по значениям трёх параметров f0, f1, f2 предсказывать объём сырья product.\n",
        "\n",
        "### Создание выборок\n",
        "\n",
        "Чтобы создать обучающую и валидационную выборки, поделю три датасета на обучающую и валидационную выборки в соотношении 3:1."
      ]
    },
    {
      "cell_type": "code",
      "execution_count": 9,
      "metadata": {
        "colab": {
          "base_uri": "https://localhost:8080/"
        },
        "id": "MGaAGKJq7Z8E",
        "outputId": "63eb843c-8792-4e50-9535-c3f7a3c1d35e"
      },
      "outputs": [
        {
          "output_type": "stream",
          "name": "stdout",
          "text": [
            "Размер тренировочной выборки региона 0: (74992, 5)\n",
            "Размер валидационной выборки региона 0: (24998, 5)\n"
          ]
        }
      ],
      "source": [
        "data_train_0, data_valid_0 = train_test_split(data_0, test_size=0.25, random_state=12345)\n",
        "print('Размер тренировочной выборки региона 0:', data_train_0.shape)\n",
        "print('Размер валидационной выборки региона 0:', data_valid_0.shape)"
      ]
    },
    {
      "cell_type": "code",
      "execution_count": 10,
      "metadata": {
        "colab": {
          "base_uri": "https://localhost:8080/"
        },
        "id": "Ai5rRQpQ7Z8E",
        "outputId": "46502d73-28f5-4ab4-a2f2-ad59770cd914"
      },
      "outputs": [
        {
          "output_type": "stream",
          "name": "stdout",
          "text": [
            "Размер тренировочной выборки региона 1: (74997, 5)\n",
            "Размер валидационной выборки региона 1: (24999, 5)\n"
          ]
        }
      ],
      "source": [
        "data_train_1, data_valid_1 = train_test_split(data_1, test_size=0.25, random_state=12345)\n",
        "print('Размер тренировочной выборки региона 1:', data_train_1.shape)\n",
        "print('Размер валидационной выборки региона 1:', data_valid_1.shape)"
      ]
    },
    {
      "cell_type": "code",
      "execution_count": 11,
      "metadata": {
        "colab": {
          "base_uri": "https://localhost:8080/"
        },
        "id": "DqxPBF2U7Z8E",
        "outputId": "2fc79ce8-f3a2-43bc-c7db-a89e4e8bfb99"
      },
      "outputs": [
        {
          "output_type": "stream",
          "name": "stdout",
          "text": [
            "Размер тренировочной выборки региона 2: (74997, 5)\n",
            "Размер валидационной выборки региона 2: (24999, 5)\n"
          ]
        }
      ],
      "source": [
        "data_train_2, data_valid_2 = train_test_split(data_2, test_size=0.25, random_state=12345)\n",
        "print('Размер тренировочной выборки региона 2:', data_train_2.shape)\n",
        "print('Размер валидационной выборки региона 2:', data_valid_2.shape)"
      ]
    },
    {
      "cell_type": "markdown",
      "metadata": {
        "id": "tLDAxN2I7Z8F"
      },
      "source": [
        "Я успешно создала выборки data_train и data_valid. Теперь разделю их на features и target."
      ]
    },
    {
      "cell_type": "code",
      "execution_count": 12,
      "metadata": {
        "colab": {
          "base_uri": "https://localhost:8080/"
        },
        "id": "dtLqaTBE7Z8F",
        "outputId": "f4dc0a2d-d513-4c58-8e68-6660e8b36d7f"
      },
      "outputs": [
        {
          "output_type": "stream",
          "name": "stdout",
          "text": [
            "Размер features тренировочной выборки 0: (74992, 3)\n",
            "Размер target тренировочной выборки 0: (74992,)\n",
            "Размер features валидационной выборки 0: (24998, 3)\n",
            "Размер target валидационной выборки 0: (24998,)\n"
          ]
        }
      ],
      "source": [
        "features_train_0 = data_train_0.drop(['product'], axis=1)\n",
        "features_train_0 = features_train_0.drop(['id'], axis=1)\n",
        "target_train_0 = data_train_0['product']\n",
        "features_valid_0 = data_valid_0.drop(['product'], axis=1)\n",
        "features_valid_0 = features_valid_0.drop(['id'], axis=1)\n",
        "target_valid_0 = data_valid_0['product']\n",
        "print('Размер features тренировочной выборки 0:', features_train_0.shape)\n",
        "print('Размер target тренировочной выборки 0:', target_train_0.shape)\n",
        "print('Размер features валидационной выборки 0:', features_valid_0.shape)\n",
        "print('Размер target валидационной выборки 0:', target_valid_0.shape)"
      ]
    },
    {
      "cell_type": "code",
      "execution_count": 13,
      "metadata": {
        "colab": {
          "base_uri": "https://localhost:8080/"
        },
        "id": "qokx-7ch7Z8F",
        "outputId": "a060536c-bab4-48d5-fe43-84e2a3469158"
      },
      "outputs": [
        {
          "output_type": "stream",
          "name": "stdout",
          "text": [
            "Размер features тренировочной выборки 1: (74997, 3)\n",
            "Размер target тренировочной выборки 1: (74997,)\n",
            "Размер features валидационной выборки 1: (24999, 3)\n",
            "Размер target валидационной выборки 1: (24999,)\n"
          ]
        }
      ],
      "source": [
        "features_train_1 = data_train_1.drop(['product'], axis=1)\n",
        "features_train_1 = features_train_1.drop(['id'], axis=1)\n",
        "target_train_1 = data_train_1['product']\n",
        "features_valid_1 = data_valid_1.drop(['product'], axis=1)\n",
        "features_valid_1 = features_valid_1.drop(['id'], axis=1)\n",
        "target_valid_1 = data_valid_1['product']\n",
        "print('Размер features тренировочной выборки 1:', features_train_1.shape)\n",
        "print('Размер target тренировочной выборки 1:', target_train_1.shape)\n",
        "print('Размер features валидационной выборки 1:', features_valid_1.shape)\n",
        "print('Размер target валидационной выборки 1:', target_valid_1.shape)"
      ]
    },
    {
      "cell_type": "code",
      "execution_count": 14,
      "metadata": {
        "colab": {
          "base_uri": "https://localhost:8080/"
        },
        "id": "UR2db6iZ7Z8F",
        "outputId": "60bd8193-5904-4191-def6-8abdfd9cd43d"
      },
      "outputs": [
        {
          "output_type": "stream",
          "name": "stdout",
          "text": [
            "Размер features тренировочной выборки 2: (74997, 3)\n",
            "Размер target тренировочной выборки 2: (74997,)\n",
            "Размер features валидационной выборки 2: (24999, 3)\n",
            "Размер target валидационной выборки 2: (24999,)\n"
          ]
        }
      ],
      "source": [
        "features_train_2 = data_train_2.drop(['product'], axis=1)\n",
        "features_train_2 = features_train_2.drop(['id'], axis=1)\n",
        "target_train_2 = data_train_2['product']\n",
        "features_valid_2 = data_valid_2.drop(['product'], axis=1)\n",
        "features_valid_2 = features_valid_2.drop(['id'], axis=1)\n",
        "target_valid_2 = data_valid_2['product']\n",
        "print('Размер features тренировочной выборки 2:', features_train_2.shape)\n",
        "print('Размер target тренировочной выборки 2:', target_train_2.shape)\n",
        "print('Размер features валидационной выборки 2:', features_valid_2.shape)\n",
        "print('Размер target валидационной выборки 2:', target_valid_2.shape)"
      ]
    },
    {
      "cell_type": "markdown",
      "metadata": {
        "id": "JUQbaEOg7Z8F"
      },
      "source": [
        "\n",
        "\n",
        "### Обучение моделей\n",
        "\n",
        "Теперь обучу три модели линейной регрессии, отдельно для каждого региона, и проверю их на валидационных выборках."
      ]
    },
    {
      "cell_type": "code",
      "execution_count": 15,
      "metadata": {
        "colab": {
          "base_uri": "https://localhost:8080/"
        },
        "id": "Zg3Uh6kc7Z8F",
        "outputId": "1e53f0ef-8667-4e8d-ba8e-828033abc0ee"
      },
      "outputs": [
        {
          "output_type": "stream",
          "name": "stdout",
          "text": [
            "RMSE модели 0 = 37.853527328872964\n"
          ]
        }
      ],
      "source": [
        "model_0 = LinearRegression()\n",
        "model_0.fit(features_train_0, target_train_0)\n",
        "predictions_valid_0 = model_0.predict(features_valid_0)\n",
        "print('RMSE модели 0 =', mean_squared_error(target_valid_0, predictions_valid_0)**0.5)"
      ]
    },
    {
      "cell_type": "code",
      "execution_count": 16,
      "metadata": {
        "scrolled": true,
        "colab": {
          "base_uri": "https://localhost:8080/"
        },
        "id": "pk50CUua7Z8G",
        "outputId": "037224f6-bce0-4b8b-c819-2701bbd8d400"
      },
      "outputs": [
        {
          "output_type": "stream",
          "name": "stdout",
          "text": [
            "RMSE модели 1 = 0.8920592647717029\n"
          ]
        }
      ],
      "source": [
        "model_1 = LinearRegression()\n",
        "model_1.fit(features_train_1, target_train_1)\n",
        "predictions_valid_1 = model_1.predict(features_valid_1)\n",
        "print('RMSE модели 1 =', mean_squared_error(target_valid_1, predictions_valid_1)**0.5)"
      ]
    },
    {
      "cell_type": "code",
      "execution_count": 17,
      "metadata": {
        "colab": {
          "base_uri": "https://localhost:8080/"
        },
        "id": "IUHikHYf7Z8G",
        "outputId": "2db5a8b3-32c1-4823-a3ee-e78691118f42"
      },
      "outputs": [
        {
          "output_type": "stream",
          "name": "stdout",
          "text": [
            "RMSE модели 2 = 40.07585073246016\n"
          ]
        }
      ],
      "source": [
        "model_2 = LinearRegression()\n",
        "model_2.fit(features_train_2, target_train_2)\n",
        "predictions_valid_2 = model_2.predict(features_valid_2)\n",
        "print('RMSE модели 2 =', mean_squared_error(target_valid_2, predictions_valid_2)**0.5)"
      ]
    },
    {
      "cell_type": "markdown",
      "metadata": {
        "id": "Op9ZXleR7Z8G"
      },
      "source": [
        "Сами по себе эти цифры мало о чём говорят, нужно сравнить RMSE с общим разбросом целевого признака в target_valid."
      ]
    },
    {
      "cell_type": "code",
      "execution_count": 18,
      "metadata": {
        "scrolled": true,
        "colab": {
          "base_uri": "https://localhost:8080/"
        },
        "id": "fuid9Mhl7Z8G",
        "outputId": "e9157445-4080-476b-bb8b-bfb051416fdd"
      },
      "outputs": [
        {
          "output_type": "stream",
          "name": "stdout",
          "text": [
            "Разброс: 185.3156522711293\n",
            "RMSE 0 составляет 20.43 процентов от разброса\n"
          ]
        }
      ],
      "source": [
        "print('Разброс:', target_valid_0.max() - target_valid_0.min())\n",
        "print('RMSE 0 составляет',\n",
        "      round((mean_squared_error(target_valid_0, predictions_valid_0)**0.5) * 100 /\n",
        "            (target_valid_0.max() - target_valid_0.min()), 2),\n",
        "      'процентов от разброса')"
      ]
    },
    {
      "cell_type": "markdown",
      "metadata": {
        "id": "FfeC4sJ87Z8H"
      },
      "source": [
        "20% отклонения — это не мало, но не слишком критично. Посмотрим на другие модели."
      ]
    },
    {
      "cell_type": "code",
      "execution_count": 19,
      "metadata": {
        "colab": {
          "base_uri": "https://localhost:8080/"
        },
        "id": "vi793u7E7Z8H",
        "outputId": "da39c805-adc6-45f6-9f19-5ec1686a9283"
      },
      "outputs": [
        {
          "output_type": "stream",
          "name": "stdout",
          "text": [
            "Разброс: 137.94540774090564\n",
            "RMSE 1 составляет 0.65 процентов от разброса\n"
          ]
        }
      ],
      "source": [
        "print('Разброс:', target_valid_1.max() - target_valid_1.min())\n",
        "print('RMSE 1 составляет',\n",
        "      round((mean_squared_error(target_valid_1, predictions_valid_1)**0.5) * 100 /\n",
        "            (target_valid_1.max() - target_valid_1.min()), 2),\n",
        "      'процентов от разброса')"
      ]
    },
    {
      "cell_type": "markdown",
      "metadata": {
        "id": "_LMehExs7Z8H"
      },
      "source": [
        "У модели для региона 1 по какой-то причине RMSE совсем низкий. Теперь модель 2:"
      ]
    },
    {
      "cell_type": "code",
      "execution_count": 20,
      "metadata": {
        "colab": {
          "base_uri": "https://localhost:8080/"
        },
        "id": "YaH4Enhn7Z8H",
        "outputId": "2cea93ef-998c-417b-ba6f-898951664491"
      },
      "outputs": [
        {
          "output_type": "stream",
          "name": "stdout",
          "text": [
            "Разброс: 190.02523234331147\n",
            "RMSE 2 составляет 21.09 процентов от разброса\n"
          ]
        }
      ],
      "source": [
        "print('Разброс:', target_valid_2.max() - target_valid_2.min())\n",
        "print('RMSE 2 составляет',\n",
        "      round((mean_squared_error(target_valid_2, predictions_valid_2)**0.5) * 100 /\n",
        "            (target_valid_2.max() - target_valid_2.min()), 2),\n",
        "      'процентов от разброса')"
      ]
    },
    {
      "cell_type": "markdown",
      "metadata": {
        "id": "y3-7gy1-7Z8H"
      },
      "source": [
        "Тут результат примерно схож с моделью 0. Посмотрим, какой средний запас предсказанного сырья нам дают модели."
      ]
    },
    {
      "cell_type": "code",
      "execution_count": 21,
      "metadata": {
        "colab": {
          "base_uri": "https://localhost:8080/"
        },
        "id": "-Oec6q0G7Z8I",
        "outputId": "ab22ebb6-5fae-4428-c8d6-89eb884f9222"
      },
      "outputs": [
        {
          "output_type": "stream",
          "name": "stdout",
          "text": [
            "Средний предсказанный запас для региона 0:  92.79\n",
            "Средний предсказанный запас для региона 1:  69.18\n",
            "Средний предсказанный запас для региона 2:  94.87\n"
          ]
        }
      ],
      "source": [
        "print('Средний предсказанный запас для региона 0: ', round(predictions_valid_0.mean(), 2))\n",
        "print('Средний предсказанный запас для региона 1: ', round(predictions_valid_1.mean(), 2))\n",
        "print('Средний предсказанный запас для региона 2: ', round(predictions_valid_2.mean(), 2))"
      ]
    },
    {
      "cell_type": "markdown",
      "metadata": {
        "id": "v2XgxlmF7Z8I"
      },
      "source": [
        "По условиям задачи, 1 тысяча баррелей приносит прибыль в 450 тысяч рублей. Т.е. 92.79 тысяч баррелей в перспективе принесут 41 755 500 рублей. 69.18 тысяч баррелей — 31 131 000 рублей, а 94.87 тысяч — 42 691 500 рублей.\n",
        "\n",
        "### Промежуточный вывод\n",
        "\n",
        "В данном разделе я разделила все три датасета на обучающую и валидационную выборки. После чего обучила модели линейной регрессии, проверила их на валидационной выборке. Расхождение прогнозируемых значений от фактических я оценила при помощи метрики RMSE, для регионов 0 и 2 оно составило чуть больше 20% от разброса данных, для региона 1 меньше одного процента."
      ]
    },
    {
      "cell_type": "markdown",
      "metadata": {
        "id": "WASultjo7Z8I"
      },
      "source": [
        "## Подготовка к расчёту прибыли"
      ]
    },
    {
      "cell_type": "markdown",
      "metadata": {
        "id": "kpYfH4lQ7Z8I"
      },
      "source": [
        "Теперь нужно определить, сколько минимально сырья должна выдавать скважина, чтобы окупить свою стоимость. Для начала, сохраню переменные: price — цена за 1 тысячу баррелей, total_budget — всего бюджета на разработку в регионе."
      ]
    },
    {
      "cell_type": "code",
      "execution_count": 22,
      "metadata": {
        "id": "B3yw2xqu7Z8I"
      },
      "outputs": [],
      "source": [
        "PRICE = 450000\n",
        "TOTAL_BUDGET = 10_000_000_000"
      ]
    },
    {
      "cell_type": "markdown",
      "metadata": {
        "id": "6ESbl19e7Z8J"
      },
      "source": [
        "В дальнейшем в регионе будет выбрано 200 точек, т.е. для определения бюджета на одну скважину нужно поделить общий бюджет на это колличество. Результат сохраню в budget."
      ]
    },
    {
      "cell_type": "code",
      "execution_count": 23,
      "metadata": {
        "colab": {
          "base_uri": "https://localhost:8080/"
        },
        "id": "v1rJ1pmg7Z8K",
        "outputId": "1a4ec63e-a929-451b-cc63-983182926af5"
      },
      "outputs": [
        {
          "output_type": "execute_result",
          "data": {
            "text/plain": [
              "50000000.0"
            ]
          },
          "metadata": {},
          "execution_count": 23
        }
      ],
      "source": [
        "budget = TOTAL_BUDGET / 200\n",
        "budget"
      ]
    },
    {
      "cell_type": "markdown",
      "metadata": {
        "id": "vRX6irtz7Z8K"
      },
      "source": [
        "Итого, на одну скважину мы можем выделить 50 миллионов. Подсчитаю, сколько минимально нужно добыть сырья, чтобы окупить расходы на скважину."
      ]
    },
    {
      "cell_type": "code",
      "execution_count": 24,
      "metadata": {
        "colab": {
          "base_uri": "https://localhost:8080/"
        },
        "id": "dZ1Z-4zP7Z8K",
        "outputId": "014410b6-d249-4fa5-ca9f-3617a8205042"
      },
      "outputs": [
        {
          "output_type": "execute_result",
          "data": {
            "text/plain": [
              "111.11111111111111"
            ]
          },
          "metadata": {},
          "execution_count": 24
        }
      ],
      "source": [
        "min_product = budget / PRICE\n",
        "min_product"
      ]
    },
    {
      "cell_type": "markdown",
      "metadata": {
        "id": "jezbLrhF7Z8K"
      },
      "source": [
        "Одна скважина должна принести минимум 111,1 тысяч баррелей, чтобы окупить затраты на свою разработку. Сравним эти цифры со средними значениями продуктивности в каждом регионе."
      ]
    },
    {
      "cell_type": "code",
      "execution_count": 25,
      "metadata": {
        "colab": {
          "base_uri": "https://localhost:8080/"
        },
        "id": "0GARLHy97Z8L",
        "outputId": "08bc3f17-0c3e-4121-c648-896d58586fc1"
      },
      "outputs": [
        {
          "output_type": "stream",
          "name": "stdout",
          "text": [
            "Разность средней продуктивности и минимальных затрат в регионе 0: -18.61142689336758\n",
            "Разность средней продуктивности и минимальных затрат в регионе 1: -42.287195193070474\n",
            "Разность средней продуктивности и минимальных затрат в регионе 2: -16.11276899177733\n"
          ]
        }
      ],
      "source": [
        "print('Разность средней продуктивности и минимальных затрат в регионе 0:', data_0['product'].mean() - min_product)\n",
        "print('Разность средней продуктивности и минимальных затрат в регионе 1:', data_1['product'].mean() - min_product)\n",
        "print('Разность средней продуктивности и минимальных затрат в регионе 2:', data_2['product'].mean() - min_product)"
      ]
    },
    {
      "cell_type": "markdown",
      "metadata": {
        "id": "3gwiLcsx7Z8L"
      },
      "source": [
        "### Промежуточный вывод\n",
        "\n",
        "Каждая скважина из двух сотен должна принести хотя бы 111,1 тысяч баррелей, чтобы окупить затраты. При этом, в предыдущем разделе я уже посчитала среднюю добычу: 92.79, 69.18, 94.87 тысяч баррелей. Т.е. в каждом регионе, особенно в регионе 1, бОльшая часть скважин не окупают свои вложения."
      ]
    },
    {
      "cell_type": "markdown",
      "metadata": {
        "id": "dLJezGVy7Z8M"
      },
      "source": [
        "## Расчёт прибыли и рисков\n",
        "\n",
        "### Функция подсчёта прибыли\n",
        "\n",
        "Напишу функцию, которая будет считать прибыль с заданного числа самых продуктивных скважин. Для этого сортирую список скважин по убыванию, выбираю верхние заданного колличества, суммирую между собой и умножаю на 450,000 — стоимость тысячи баррелей. Вычитаю расход на постройку — 50 миллионов рублей."
      ]
    },
    {
      "cell_type": "code",
      "execution_count": 26,
      "metadata": {
        "id": "ZkzVcukk7Z8M"
      },
      "outputs": [],
      "source": [
        "def profit(target, pred, number=1):\n",
        "    pred_sorted = pred.sort_values(ascending=False)\n",
        "    selected = target[pred_sorted.index][:number]\n",
        "    return selected.sum() * PRICE - TOTAL_BUDGET"
      ]
    },
    {
      "cell_type": "markdown",
      "metadata": {
        "id": "0P3xj12A7Z8O"
      },
      "source": [
        "### Bootstrap\n",
        "Далее, применю технику Bootstrap с 1000 выборок, чтобы найти распределение прибыли в этих регионах."
      ]
    },
    {
      "cell_type": "code",
      "execution_count": 27,
      "metadata": {
        "id": "vUu-BHUf7Z8P"
      },
      "outputs": [],
      "source": [
        "values_0 = []\n",
        "state = np.random.RandomState(12345) #задаём рандом_стэйт для повторяемости результатов\n",
        "target_valid_0 = target_valid_0.reset_index(drop=True) #Индексы в таргет_валид могут превышать 25 тыс. Обновляем их, чтобы упорядочить\n",
        "predictions_valid_0 = pd.Series(predictions_valid_0) #Переводим предсказания в Series из списка, чтобы по индексам сопоставлять в методе выше\n",
        "for i in range(1000): #bootstrap региона 0\n",
        "    target_0_sub = target_valid_0.sample(n=500, replace=True, random_state=state)\n",
        "    pred_0_sub = predictions_valid_0[target_0_sub.index]\n",
        "    values_0.append(profit(target_0_sub, pred_0_sub, 200))"
      ]
    },
    {
      "cell_type": "code",
      "execution_count": 28,
      "metadata": {
        "id": "wmevb1Fd7Z8P"
      },
      "outputs": [],
      "source": [
        "values_1 = []\n",
        "target_valid_1 = target_valid_1.reset_index(drop=True)\n",
        "predictions_valid_1 = pd.Series(predictions_valid_1)\n",
        "for i in range(1000): #bootstrap региона 1\n",
        "    target_1_sub = target_valid_1.sample(n=500, replace=True, random_state=state)\n",
        "    pred_1_sub = predictions_valid_1[target_1_sub.index]\n",
        "    values_1.append(profit(target_1_sub, pred_1_sub, 200))"
      ]
    },
    {
      "cell_type": "code",
      "execution_count": 29,
      "metadata": {
        "id": "B4hjG3OB7Z8Q"
      },
      "outputs": [],
      "source": [
        "values_2 = []\n",
        "target_valid_2 = target_valid_2.reset_index(drop=True)\n",
        "predictions_valid_2 = pd.Series(predictions_valid_2)\n",
        "for i in range(1000): #bootstrap региона 2\n",
        "    target_2_sub = target_valid_2.sample(n=500, replace=True, random_state=state)\n",
        "    pred_2_sub = predictions_valid_2[target_2_sub.index]\n",
        "    values_2.append(profit(target_2_sub, pred_2_sub, 200))"
      ]
    },
    {
      "cell_type": "markdown",
      "metadata": {
        "id": "_sqk39PN7Z8Q"
      },
      "source": [
        "### Средняя прибыль и доверительный интервал\n",
        "Далее мне надо найти среднюю прибыль скважины в регионе, 95%-й доверительный интервал и риск убытков. Все эти показатели я буду сравнивать. Начну со средней прибыли и доверительного интервала."
      ]
    },
    {
      "cell_type": "code",
      "execution_count": 30,
      "metadata": {
        "scrolled": true,
        "colab": {
          "base_uri": "https://localhost:8080/"
        },
        "id": "ZKgfvpZc7Z8Q",
        "outputId": "1d2d35c3-ed67-42bd-9cb6-c78d55bc1567"
      },
      "outputs": [
        {
          "output_type": "stream",
          "name": "stdout",
          "text": [
            "Среднее региона 0 равно 409428038.62143606\n",
            "95%-ый доверительный интервал равен [-131536028.70166382, 944395582.7546725]\n"
          ]
        }
      ],
      "source": [
        "values_0 = pd.Series(values_0) #перевод в Series для операций, недоступных для list\n",
        "values_1 = pd.Series(values_1)\n",
        "values_2 = pd.Series(values_2)\n",
        "\n",
        "profit_0_mean = values_0.mean()\n",
        "print('Среднее региона 0 равно', profit_0_mean)\n",
        "\n",
        "interval_0 = [values_0.quantile(0.025), values_0.quantile(0.975)]\n",
        "\n",
        "print(\"95%-ый доверительный интервал равен\", interval_0)"
      ]
    },
    {
      "cell_type": "code",
      "execution_count": 31,
      "metadata": {
        "colab": {
          "base_uri": "https://localhost:8080/"
        },
        "id": "rSMg_62w7Z8S",
        "outputId": "516509c4-db62-4c86-a0e8-21cea0f3272c"
      },
      "outputs": [
        {
          "output_type": "stream",
          "name": "stdout",
          "text": [
            "Среднее региона 1 равно 536400199.43510306\n",
            "95%-ый доверительный интервал равен [112954247.12370124, 998504156.6468805]\n"
          ]
        }
      ],
      "source": [
        "profit_1_mean = values_1.mean()\n",
        "print('Среднее региона 1 равно', profit_1_mean)\n",
        "\n",
        "interval_1 = [values_1.quantile(0.025), values_1.quantile(0.975)]\n",
        "\n",
        "print(\"95%-ый доверительный интервал равен\", interval_1)"
      ]
    },
    {
      "cell_type": "code",
      "execution_count": 32,
      "metadata": {
        "scrolled": true,
        "colab": {
          "base_uri": "https://localhost:8080/"
        },
        "id": "76Fk3jzv7Z8T",
        "outputId": "6ff04ce3-cd47-4f40-f255-21f078539e8c"
      },
      "outputs": [
        {
          "output_type": "stream",
          "name": "stdout",
          "text": [
            "Среднее региона 2 равно 339478034.1977997\n",
            "95%-ый доверительный интервал равен [-224089221.7440758, 847067587.6863929]\n"
          ]
        }
      ],
      "source": [
        "profit_2_mean = values_2.mean()\n",
        "print('Среднее региона 2 равно', profit_2_mean)\n",
        "\n",
        "interval_2 = [values_2.quantile(0.025), values_2.quantile(0.975)]\n",
        "\n",
        "print(\"95%-ый доверительный интервал равен\", interval_2)"
      ]
    },
    {
      "cell_type": "markdown",
      "metadata": {
        "id": "buKpg_6A7Z8T"
      },
      "source": [
        "Самые высокие среднее и доверительный интервал у региона 1. Отстаёт больше всего 2 регион."
      ]
    },
    {
      "cell_type": "code",
      "execution_count": 33,
      "metadata": {
        "colab": {
          "base_uri": "https://localhost:8080/"
        },
        "id": "0jzTIBoq7Z8T",
        "outputId": "6410b5da-9855-4cd7-a812-d6f0390f34aa"
      },
      "outputs": [
        {
          "output_type": "stream",
          "name": "stdout",
          "text": [
            "Риск убытков среди предсказаний в регионе 0: 7.1 %\n"
          ]
        }
      ],
      "source": [
        "pred_loss_0 = values_0.loc[values_0 < 0]\n",
        "print('Риск убытков среди предсказаний в регионе 0:',\n",
        "      round(len(pred_loss_0) * 100 / len(values_0), 3), '%')"
      ]
    },
    {
      "cell_type": "code",
      "execution_count": 34,
      "metadata": {
        "colab": {
          "base_uri": "https://localhost:8080/"
        },
        "id": "SByLX28e7Z8T",
        "outputId": "f3a1b3d3-f835-4be1-fbb9-7b909c359163"
      },
      "outputs": [
        {
          "output_type": "stream",
          "name": "stdout",
          "text": [
            "Риск убытков среди предсказаний в регионе 1: 0.3 %\n"
          ]
        }
      ],
      "source": [
        "pred_loss_1 = values_1.loc[values_1 < 0]\n",
        "print('Риск убытков среди предсказаний в регионе 1:',\n",
        "      round(len(pred_loss_1) * 100 / len(values_1), 3), '%')"
      ]
    },
    {
      "cell_type": "code",
      "execution_count": 35,
      "metadata": {
        "colab": {
          "base_uri": "https://localhost:8080/"
        },
        "id": "bXVgLbuJ7Z8U",
        "outputId": "fbdfe9fb-5907-4fc5-e4c9-04383e85f943"
      },
      "outputs": [
        {
          "output_type": "stream",
          "name": "stdout",
          "text": [
            "Риск убытков среди предсказаний в регионе 2: 11.8 %\n"
          ]
        }
      ],
      "source": [
        "pred_loss_2 = values_2.loc[values_2 < 0]\n",
        "print('Риск убытков среди предсказаний в регионе 2:',\n",
        "      round(len(pred_loss_2) * 100 / len(values_2), 3), '%')"
      ]
    },
    {
      "cell_type": "markdown",
      "metadata": {
        "id": "25X5_E6Z7Z8U"
      },
      "source": [
        "По условию задачи, необходим риск убытков ниже 2,5%, этому соответствует только регион 1 с риском 0,3%.\n",
        "\n",
        "### Промежуточный вывод\n",
        "\n",
        "Самый прибыльный регион под номером 1, у него самая высокая средняя прибыль, доверительный интервал, и минимальные риски убытка."
      ]
    },
    {
      "cell_type": "markdown",
      "metadata": {
        "id": "n3MCNEyg7Z8V"
      },
      "source": [
        "## Вывод\n"
      ]
    },
    {
      "cell_type": "markdown",
      "metadata": {
        "id": "hm80V3wT7Z8V"
      },
      "source": [
        "В данном проекте по машинному обучению задачей было определить регион с наибольшей ожидаемой прибылью.\n",
        "\n",
        "Для выполнения данной задачи я произвела следующие действия:\n",
        "\n",
        "- Загрузила и изучила данные;\n",
        "- Удалила неявные дубликаты;\n",
        "- Обучила три модели линейной регрессии определять продуктивность в каждом регионе;\n",
        "- Сохранила константы по условию задачи;\n",
        "- Написала функцию подсчёта прибыли по внесённым данным о продуктивности и колличеству прибыльных скважин;\n",
        "- Применила метод Bootstrap для определения распределения ожидаемой прибыли в каждом из трёх регионов;\n",
        "- Определила среднее и 95% доверительный диапазон;\n",
        "- Посчитала риски убытков;\n",
        "- Выделила самый прибыльный регион.\n",
        "\n",
        "Я обучила модель линейной регрессии, которая предсказала продуктивность скважин в каждом из трёх регионов, и выбрала регион номер 1 (по рассчёту от 0 до 2), в котором ожидается наибольшая продуктивность."
      ]
    }
  ],
  "metadata": {
    "ExecuteTimeLog": [
      {
        "duration": 405,
        "start_time": "2023-12-03T08:40:12.280Z"
      },
      {
        "duration": 417,
        "start_time": "2023-12-03T08:42:26.673Z"
      },
      {
        "duration": 146,
        "start_time": "2023-12-03T08:42:35.132Z"
      },
      {
        "duration": 221,
        "start_time": "2023-12-03T08:42:55.714Z"
      },
      {
        "duration": 147,
        "start_time": "2023-12-03T08:43:03.772Z"
      },
      {
        "duration": 214,
        "start_time": "2023-12-03T08:43:13.812Z"
      },
      {
        "duration": 8,
        "start_time": "2023-12-03T08:45:07.726Z"
      },
      {
        "duration": 47,
        "start_time": "2023-12-03T08:45:22.697Z"
      },
      {
        "duration": 109,
        "start_time": "2023-12-03T08:45:32.800Z"
      },
      {
        "duration": 27,
        "start_time": "2023-12-03T08:46:25.958Z"
      },
      {
        "duration": 41,
        "start_time": "2023-12-03T08:48:41.440Z"
      },
      {
        "duration": 105,
        "start_time": "2023-12-03T08:48:50.037Z"
      },
      {
        "duration": 33,
        "start_time": "2023-12-03T08:49:57.380Z"
      },
      {
        "duration": 35,
        "start_time": "2023-12-03T08:50:54.237Z"
      },
      {
        "duration": 26,
        "start_time": "2023-12-03T08:51:12.684Z"
      },
      {
        "duration": 60,
        "start_time": "2023-12-03T08:51:16.756Z"
      },
      {
        "duration": 634,
        "start_time": "2023-12-03T08:51:29.154Z"
      },
      {
        "duration": 26,
        "start_time": "2023-12-03T08:51:51.842Z"
      },
      {
        "duration": 57,
        "start_time": "2023-12-03T08:51:55.019Z"
      },
      {
        "duration": 42,
        "start_time": "2023-12-03T08:52:07.722Z"
      },
      {
        "duration": 16,
        "start_time": "2023-12-03T09:12:32.398Z"
      },
      {
        "duration": 8,
        "start_time": "2023-12-03T09:12:41.259Z"
      },
      {
        "duration": 18,
        "start_time": "2023-12-03T09:12:44.840Z"
      },
      {
        "duration": 34,
        "start_time": "2023-12-03T09:13:49.754Z"
      },
      {
        "duration": 104,
        "start_time": "2023-12-03T09:17:31.032Z"
      },
      {
        "duration": 32,
        "start_time": "2023-12-03T09:18:06.328Z"
      },
      {
        "duration": 98,
        "start_time": "2023-12-03T09:18:28.085Z"
      },
      {
        "duration": 21,
        "start_time": "2023-12-03T09:18:32.838Z"
      },
      {
        "duration": 19,
        "start_time": "2023-12-03T09:22:33.650Z"
      },
      {
        "duration": 21,
        "start_time": "2023-12-03T09:22:35.797Z"
      },
      {
        "duration": 8,
        "start_time": "2023-12-03T09:24:37.877Z"
      },
      {
        "duration": 744,
        "start_time": "2023-12-03T09:25:00.258Z"
      },
      {
        "duration": 56,
        "start_time": "2023-12-03T09:25:06.086Z"
      },
      {
        "duration": 24,
        "start_time": "2023-12-03T10:43:14.347Z"
      },
      {
        "duration": 3,
        "start_time": "2023-12-03T10:44:31.118Z"
      },
      {
        "duration": 46,
        "start_time": "2023-12-03T10:44:33.846Z"
      },
      {
        "duration": 16,
        "start_time": "2023-12-03T10:47:26.616Z"
      },
      {
        "duration": 3,
        "start_time": "2023-12-03T10:47:36.392Z"
      },
      {
        "duration": 157,
        "start_time": "2023-12-03T10:47:36.434Z"
      },
      {
        "duration": 133,
        "start_time": "2023-12-03T10:47:36.593Z"
      },
      {
        "duration": 139,
        "start_time": "2023-12-03T10:47:36.728Z"
      },
      {
        "duration": 120,
        "start_time": "2023-12-03T10:47:36.869Z"
      },
      {
        "duration": 36,
        "start_time": "2023-12-03T10:47:36.990Z"
      },
      {
        "duration": 116,
        "start_time": "2023-12-03T10:47:37.028Z"
      },
      {
        "duration": 21,
        "start_time": "2023-12-03T10:47:37.146Z"
      },
      {
        "duration": 19,
        "start_time": "2023-12-03T10:47:37.181Z"
      },
      {
        "duration": 53,
        "start_time": "2023-12-03T10:47:37.202Z"
      },
      {
        "duration": 12,
        "start_time": "2023-12-03T10:47:39.607Z"
      },
      {
        "duration": 27,
        "start_time": "2023-12-03T10:47:50.638Z"
      },
      {
        "duration": 32,
        "start_time": "2023-12-03T10:48:31.691Z"
      },
      {
        "duration": 83,
        "start_time": "2023-12-03T10:48:34.494Z"
      },
      {
        "duration": 34,
        "start_time": "2023-12-03T10:49:16.068Z"
      },
      {
        "duration": 112,
        "start_time": "2023-12-03T10:49:19.674Z"
      },
      {
        "duration": 86,
        "start_time": "2023-12-03T10:50:34.999Z"
      },
      {
        "duration": 100,
        "start_time": "2023-12-03T10:50:40.684Z"
      },
      {
        "duration": 27,
        "start_time": "2023-12-03T10:50:59.913Z"
      },
      {
        "duration": 2,
        "start_time": "2023-12-03T10:51:12.481Z"
      },
      {
        "duration": 23,
        "start_time": "2023-12-03T10:51:17.243Z"
      },
      {
        "duration": 24,
        "start_time": "2023-12-03T10:51:53.604Z"
      },
      {
        "duration": 5,
        "start_time": "2023-12-03T12:13:38.855Z"
      },
      {
        "duration": 4,
        "start_time": "2023-12-03T12:13:44.684Z"
      },
      {
        "duration": 4,
        "start_time": "2023-12-03T13:12:31.344Z"
      },
      {
        "duration": 26,
        "start_time": "2023-12-03T13:12:40.604Z"
      },
      {
        "duration": 22,
        "start_time": "2023-12-03T13:12:56.373Z"
      },
      {
        "duration": 2,
        "start_time": "2023-12-03T13:13:02.415Z"
      },
      {
        "duration": 5,
        "start_time": "2023-12-03T13:22:21.701Z"
      },
      {
        "duration": 6,
        "start_time": "2023-12-03T13:24:12.602Z"
      },
      {
        "duration": 6,
        "start_time": "2023-12-03T13:24:30.812Z"
      },
      {
        "duration": 7,
        "start_time": "2023-12-03T13:24:48.320Z"
      },
      {
        "duration": 9,
        "start_time": "2023-12-03T13:25:37.680Z"
      },
      {
        "duration": 4,
        "start_time": "2023-12-03T13:41:49.453Z"
      },
      {
        "duration": 164,
        "start_time": "2023-12-03T13:41:49.460Z"
      },
      {
        "duration": 152,
        "start_time": "2023-12-03T13:41:49.626Z"
      },
      {
        "duration": 146,
        "start_time": "2023-12-03T13:41:49.782Z"
      },
      {
        "duration": 121,
        "start_time": "2023-12-03T13:41:49.930Z"
      },
      {
        "duration": 47,
        "start_time": "2023-12-03T13:41:50.052Z"
      },
      {
        "duration": 109,
        "start_time": "2023-12-03T13:41:50.100Z"
      },
      {
        "duration": 21,
        "start_time": "2023-12-03T13:41:50.211Z"
      },
      {
        "duration": 18,
        "start_time": "2023-12-03T13:41:50.234Z"
      },
      {
        "duration": 85,
        "start_time": "2023-12-03T13:41:50.254Z"
      },
      {
        "duration": 49,
        "start_time": "2023-12-03T13:41:50.342Z"
      },
      {
        "duration": 29,
        "start_time": "2023-12-03T13:41:50.393Z"
      },
      {
        "duration": 8,
        "start_time": "2023-12-03T13:41:50.483Z"
      },
      {
        "duration": 4,
        "start_time": "2023-12-03T13:44:54.400Z"
      },
      {
        "duration": 4,
        "start_time": "2023-12-03T13:45:05.410Z"
      },
      {
        "duration": 3,
        "start_time": "2023-12-03T14:34:26.972Z"
      },
      {
        "duration": 3,
        "start_time": "2023-12-03T14:36:03.393Z"
      },
      {
        "duration": 3,
        "start_time": "2023-12-03T14:36:09.730Z"
      },
      {
        "duration": 2,
        "start_time": "2023-12-03T14:36:18.396Z"
      },
      {
        "duration": 4,
        "start_time": "2023-12-03T14:36:19.557Z"
      },
      {
        "duration": 3,
        "start_time": "2023-12-03T14:38:19.409Z"
      },
      {
        "duration": 3,
        "start_time": "2023-12-03T14:38:29.554Z"
      },
      {
        "duration": 7,
        "start_time": "2023-12-03T14:42:04.479Z"
      },
      {
        "duration": 1108,
        "start_time": "2023-12-04T09:12:13.786Z"
      },
      {
        "duration": 519,
        "start_time": "2023-12-04T09:12:14.896Z"
      },
      {
        "duration": 580,
        "start_time": "2023-12-04T09:12:15.417Z"
      },
      {
        "duration": 553,
        "start_time": "2023-12-04T09:12:16.000Z"
      },
      {
        "duration": 118,
        "start_time": "2023-12-04T09:12:16.554Z"
      },
      {
        "duration": 47,
        "start_time": "2023-12-04T09:12:16.675Z"
      },
      {
        "duration": 126,
        "start_time": "2023-12-04T09:12:16.723Z"
      },
      {
        "duration": 23,
        "start_time": "2023-12-04T09:12:16.851Z"
      },
      {
        "duration": 40,
        "start_time": "2023-12-04T09:12:16.875Z"
      },
      {
        "duration": 60,
        "start_time": "2023-12-04T09:12:16.917Z"
      },
      {
        "duration": 46,
        "start_time": "2023-12-04T09:12:16.978Z"
      },
      {
        "duration": 76,
        "start_time": "2023-12-04T09:12:17.026Z"
      },
      {
        "duration": 96,
        "start_time": "2023-12-04T09:12:17.104Z"
      },
      {
        "duration": 12,
        "start_time": "2023-12-04T09:12:17.201Z"
      },
      {
        "duration": 5,
        "start_time": "2023-12-04T09:12:17.214Z"
      },
      {
        "duration": 5,
        "start_time": "2023-12-04T09:12:17.220Z"
      },
      {
        "duration": 3,
        "start_time": "2023-12-04T09:12:17.227Z"
      },
      {
        "duration": 3,
        "start_time": "2023-12-04T09:18:09.600Z"
      },
      {
        "duration": 3,
        "start_time": "2023-12-04T09:18:52.924Z"
      },
      {
        "duration": 42,
        "start_time": "2023-12-04T09:19:00.431Z"
      },
      {
        "duration": 37,
        "start_time": "2023-12-04T09:19:12.282Z"
      },
      {
        "duration": 3,
        "start_time": "2023-12-04T09:19:23.243Z"
      },
      {
        "duration": 45,
        "start_time": "2023-12-04T09:19:25.549Z"
      },
      {
        "duration": 35,
        "start_time": "2023-12-04T09:19:29.867Z"
      },
      {
        "duration": 35,
        "start_time": "2023-12-04T09:19:33.767Z"
      },
      {
        "duration": 35,
        "start_time": "2023-12-04T09:19:45.910Z"
      },
      {
        "duration": 3,
        "start_time": "2023-12-04T09:21:50.040Z"
      },
      {
        "duration": 36,
        "start_time": "2023-12-04T09:21:50.328Z"
      },
      {
        "duration": 96,
        "start_time": "2023-12-04T11:37:32.126Z"
      },
      {
        "duration": 5,
        "start_time": "2023-12-04T11:38:09.313Z"
      },
      {
        "duration": 10,
        "start_time": "2023-12-04T11:38:34.805Z"
      },
      {
        "duration": 12,
        "start_time": "2023-12-04T11:39:05.368Z"
      },
      {
        "duration": 9903,
        "start_time": "2023-12-04T11:39:24.927Z"
      },
      {
        "duration": 10,
        "start_time": "2023-12-04T11:40:24.773Z"
      },
      {
        "duration": 3,
        "start_time": "2023-12-04T11:40:36.149Z"
      },
      {
        "duration": 10409,
        "start_time": "2023-12-04T11:40:43.526Z"
      },
      {
        "duration": 9742,
        "start_time": "2023-12-04T11:41:21.888Z"
      },
      {
        "duration": 4,
        "start_time": "2023-12-04T11:41:31.631Z"
      },
      {
        "duration": 89,
        "start_time": "2023-12-04T11:42:51.033Z"
      },
      {
        "duration": 356,
        "start_time": "2023-12-04T11:43:56.335Z"
      },
      {
        "duration": 18,
        "start_time": "2023-12-04T11:44:25.044Z"
      },
      {
        "duration": 1357,
        "start_time": "2023-12-04T11:46:21.163Z"
      },
      {
        "duration": 2,
        "start_time": "2023-12-04T11:46:41.574Z"
      },
      {
        "duration": 1041,
        "start_time": "2023-12-05T08:45:49.774Z"
      },
      {
        "duration": 386,
        "start_time": "2023-12-05T08:45:50.817Z"
      },
      {
        "duration": 197,
        "start_time": "2023-12-05T08:45:51.205Z"
      },
      {
        "duration": 201,
        "start_time": "2023-12-05T08:45:51.404Z"
      },
      {
        "duration": 118,
        "start_time": "2023-12-05T08:45:51.606Z"
      },
      {
        "duration": 47,
        "start_time": "2023-12-05T08:45:51.726Z"
      },
      {
        "duration": 102,
        "start_time": "2023-12-05T08:45:51.775Z"
      },
      {
        "duration": 21,
        "start_time": "2023-12-05T08:45:51.879Z"
      },
      {
        "duration": 17,
        "start_time": "2023-12-05T08:45:51.901Z"
      },
      {
        "duration": 78,
        "start_time": "2023-12-05T08:45:51.920Z"
      },
      {
        "duration": 37,
        "start_time": "2023-12-05T08:45:52.000Z"
      },
      {
        "duration": 112,
        "start_time": "2023-12-05T08:45:52.039Z"
      },
      {
        "duration": 8,
        "start_time": "2023-12-05T08:45:52.154Z"
      },
      {
        "duration": 21,
        "start_time": "2023-12-05T08:45:52.253Z"
      },
      {
        "duration": 6,
        "start_time": "2023-12-05T08:45:52.276Z"
      },
      {
        "duration": 8,
        "start_time": "2023-12-05T08:45:52.284Z"
      },
      {
        "duration": 5,
        "start_time": "2023-12-05T08:45:52.293Z"
      },
      {
        "duration": 3,
        "start_time": "2023-12-05T08:45:52.300Z"
      },
      {
        "duration": 89,
        "start_time": "2023-12-05T08:45:52.304Z"
      },
      {
        "duration": 9081,
        "start_time": "2023-12-05T08:46:36.635Z"
      },
      {
        "duration": 14,
        "start_time": "2023-12-05T08:46:46.905Z"
      },
      {
        "duration": 8,
        "start_time": "2023-12-05T08:47:24.297Z"
      },
      {
        "duration": 3,
        "start_time": "2023-12-05T08:47:32.594Z"
      },
      {
        "duration": 3,
        "start_time": "2023-12-05T08:47:57.864Z"
      },
      {
        "duration": 9229,
        "start_time": "2023-12-05T08:49:46.431Z"
      },
      {
        "duration": 8,
        "start_time": "2023-12-05T08:52:15.077Z"
      },
      {
        "duration": 7,
        "start_time": "2023-12-05T08:52:20.854Z"
      },
      {
        "duration": 3,
        "start_time": "2023-12-05T08:52:31.280Z"
      },
      {
        "duration": 4,
        "start_time": "2023-12-05T08:52:38.858Z"
      },
      {
        "duration": 8,
        "start_time": "2023-12-05T08:55:36.009Z"
      },
      {
        "duration": 8,
        "start_time": "2023-12-05T08:57:42.094Z"
      },
      {
        "duration": 2,
        "start_time": "2023-12-05T08:58:14.822Z"
      },
      {
        "duration": 5,
        "start_time": "2023-12-05T08:58:21.738Z"
      },
      {
        "duration": 12181,
        "start_time": "2023-12-05T10:10:12.585Z"
      },
      {
        "duration": 13112,
        "start_time": "2023-12-05T10:11:48.185Z"
      },
      {
        "duration": 13200,
        "start_time": "2023-12-05T10:13:14.087Z"
      },
      {
        "duration": 11,
        "start_time": "2023-12-05T11:40:03.423Z"
      },
      {
        "duration": 10,
        "start_time": "2023-12-05T11:40:25.646Z"
      },
      {
        "duration": 17,
        "start_time": "2023-12-05T11:40:45.047Z"
      },
      {
        "duration": 11760,
        "start_time": "2023-12-05T11:41:32.385Z"
      },
      {
        "duration": 11941,
        "start_time": "2023-12-05T11:42:17.230Z"
      },
      {
        "duration": 11989,
        "start_time": "2023-12-05T11:42:29.173Z"
      },
      {
        "duration": 11872,
        "start_time": "2023-12-05T11:42:59.839Z"
      },
      {
        "duration": 11876,
        "start_time": "2023-12-05T11:43:11.712Z"
      },
      {
        "duration": 11713,
        "start_time": "2023-12-05T11:43:35.456Z"
      },
      {
        "duration": 6,
        "start_time": "2023-12-05T11:47:42.539Z"
      },
      {
        "duration": 5,
        "start_time": "2023-12-05T11:47:53.655Z"
      },
      {
        "duration": 3,
        "start_time": "2023-12-05T11:47:54.155Z"
      },
      {
        "duration": 6,
        "start_time": "2023-12-05T11:48:32.669Z"
      },
      {
        "duration": 6,
        "start_time": "2023-12-05T11:48:49.305Z"
      },
      {
        "duration": 6,
        "start_time": "2023-12-05T11:49:08.283Z"
      },
      {
        "duration": 6,
        "start_time": "2023-12-05T11:49:22.633Z"
      },
      {
        "duration": 4,
        "start_time": "2023-12-05T13:49:04.422Z"
      },
      {
        "duration": 12,
        "start_time": "2023-12-05T13:49:05.179Z"
      },
      {
        "duration": 11,
        "start_time": "2023-12-05T13:49:07.491Z"
      },
      {
        "duration": 11,
        "start_time": "2023-12-05T13:49:07.652Z"
      },
      {
        "duration": 11595,
        "start_time": "2023-12-05T13:49:08.336Z"
      },
      {
        "duration": 11916,
        "start_time": "2023-12-05T13:49:19.933Z"
      },
      {
        "duration": 11721,
        "start_time": "2023-12-05T13:49:31.850Z"
      },
      {
        "duration": 5,
        "start_time": "2023-12-05T13:49:43.573Z"
      },
      {
        "duration": 6,
        "start_time": "2023-12-05T13:49:43.579Z"
      },
      {
        "duration": 7,
        "start_time": "2023-12-05T13:49:43.586Z"
      },
      {
        "duration": 4,
        "start_time": "2023-12-05T13:50:57.086Z"
      },
      {
        "duration": 17,
        "start_time": "2023-12-05T13:51:19.094Z"
      },
      {
        "duration": 4,
        "start_time": "2023-12-05T13:51:23.686Z"
      },
      {
        "duration": 16,
        "start_time": "2023-12-05T13:51:41.326Z"
      },
      {
        "duration": 20,
        "start_time": "2023-12-05T13:51:52.698Z"
      },
      {
        "duration": 5,
        "start_time": "2023-12-05T13:52:02.892Z"
      },
      {
        "duration": 6,
        "start_time": "2023-12-05T13:52:19.461Z"
      },
      {
        "duration": 6,
        "start_time": "2023-12-05T13:52:22.111Z"
      },
      {
        "duration": 3,
        "start_time": "2023-12-05T13:52:38.045Z"
      },
      {
        "duration": 145,
        "start_time": "2023-12-05T13:52:38.054Z"
      },
      {
        "duration": 127,
        "start_time": "2023-12-05T13:52:38.915Z"
      },
      {
        "duration": 150,
        "start_time": "2023-12-05T13:52:39.044Z"
      },
      {
        "duration": 111,
        "start_time": "2023-12-05T13:52:43.345Z"
      },
      {
        "duration": 36,
        "start_time": "2023-12-05T13:52:43.458Z"
      },
      {
        "duration": 99,
        "start_time": "2023-12-05T13:52:43.496Z"
      },
      {
        "duration": 22,
        "start_time": "2023-12-05T13:52:43.596Z"
      },
      {
        "duration": 37,
        "start_time": "2023-12-05T13:52:43.621Z"
      },
      {
        "duration": 53,
        "start_time": "2023-12-05T13:52:43.659Z"
      },
      {
        "duration": 53,
        "start_time": "2023-12-05T13:52:43.714Z"
      },
      {
        "duration": 83,
        "start_time": "2023-12-05T13:52:43.769Z"
      },
      {
        "duration": 8,
        "start_time": "2023-12-05T13:52:43.854Z"
      },
      {
        "duration": 5,
        "start_time": "2023-12-05T13:52:43.952Z"
      },
      {
        "duration": 2,
        "start_time": "2023-12-05T13:52:43.959Z"
      },
      {
        "duration": 30,
        "start_time": "2023-12-05T13:52:43.962Z"
      },
      {
        "duration": 27,
        "start_time": "2023-12-05T13:52:43.993Z"
      },
      {
        "duration": 2,
        "start_time": "2023-12-05T13:52:44.355Z"
      },
      {
        "duration": 28,
        "start_time": "2023-12-05T13:52:44.360Z"
      },
      {
        "duration": 71,
        "start_time": "2023-12-05T13:52:44.391Z"
      },
      {
        "duration": 101,
        "start_time": "2023-12-05T13:52:44.553Z"
      },
      {
        "duration": 11782,
        "start_time": "2023-12-05T13:52:44.656Z"
      },
      {
        "duration": 11892,
        "start_time": "2023-12-05T13:52:56.440Z"
      },
      {
        "duration": 11611,
        "start_time": "2023-12-05T13:53:08.333Z"
      },
      {
        "duration": 7,
        "start_time": "2023-12-05T13:53:19.946Z"
      },
      {
        "duration": 9,
        "start_time": "2023-12-05T13:53:19.954Z"
      },
      {
        "duration": 7,
        "start_time": "2023-12-05T13:53:19.965Z"
      },
      {
        "duration": 3,
        "start_time": "2023-12-05T14:11:20.251Z"
      },
      {
        "duration": 150,
        "start_time": "2023-12-05T14:11:20.256Z"
      },
      {
        "duration": 130,
        "start_time": "2023-12-05T14:11:20.407Z"
      },
      {
        "duration": 122,
        "start_time": "2023-12-05T14:11:20.539Z"
      },
      {
        "duration": 112,
        "start_time": "2023-12-05T14:11:20.664Z"
      },
      {
        "duration": 36,
        "start_time": "2023-12-05T14:11:20.778Z"
      },
      {
        "duration": 105,
        "start_time": "2023-12-05T14:11:20.815Z"
      },
      {
        "duration": 20,
        "start_time": "2023-12-05T14:11:20.921Z"
      },
      {
        "duration": 16,
        "start_time": "2023-12-05T14:11:20.952Z"
      },
      {
        "duration": 65,
        "start_time": "2023-12-05T14:11:20.970Z"
      },
      {
        "duration": 35,
        "start_time": "2023-12-05T14:11:21.038Z"
      },
      {
        "duration": 82,
        "start_time": "2023-12-05T14:11:21.074Z"
      },
      {
        "duration": 98,
        "start_time": "2023-12-05T14:11:21.158Z"
      },
      {
        "duration": 4,
        "start_time": "2023-12-05T14:11:21.258Z"
      },
      {
        "duration": 7,
        "start_time": "2023-12-05T14:11:21.264Z"
      },
      {
        "duration": 8,
        "start_time": "2023-12-05T14:11:21.272Z"
      },
      {
        "duration": 4,
        "start_time": "2023-12-05T14:11:21.282Z"
      },
      {
        "duration": 2,
        "start_time": "2023-12-05T14:11:34.345Z"
      },
      {
        "duration": 11,
        "start_time": "2023-12-05T14:11:41.198Z"
      },
      {
        "duration": 9,
        "start_time": "2023-12-05T14:11:41.450Z"
      },
      {
        "duration": 9,
        "start_time": "2023-12-05T14:11:41.806Z"
      },
      {
        "duration": 1579,
        "start_time": "2023-12-05T14:11:42.399Z"
      },
      {
        "duration": 1603,
        "start_time": "2023-12-05T14:11:43.980Z"
      },
      {
        "duration": 1536,
        "start_time": "2023-12-05T14:11:45.585Z"
      },
      {
        "duration": 6,
        "start_time": "2023-12-05T14:11:47.123Z"
      },
      {
        "duration": 10,
        "start_time": "2023-12-05T14:11:47.130Z"
      },
      {
        "duration": 6,
        "start_time": "2023-12-05T14:11:47.152Z"
      },
      {
        "duration": 5,
        "start_time": "2023-12-05T14:12:50.535Z"
      },
      {
        "duration": 3,
        "start_time": "2023-12-05T14:13:31.386Z"
      },
      {
        "duration": 11,
        "start_time": "2023-12-05T14:13:32.740Z"
      },
      {
        "duration": 101,
        "start_time": "2023-12-05T14:13:32.854Z"
      },
      {
        "duration": 99,
        "start_time": "2023-12-05T14:13:33.054Z"
      },
      {
        "duration": 11903,
        "start_time": "2023-12-05T14:13:33.253Z"
      },
      {
        "duration": 11859,
        "start_time": "2023-12-05T14:13:45.158Z"
      },
      {
        "duration": 11983,
        "start_time": "2023-12-05T14:13:57.019Z"
      },
      {
        "duration": 6,
        "start_time": "2023-12-05T14:14:09.004Z"
      },
      {
        "duration": 16,
        "start_time": "2023-12-05T14:14:09.012Z"
      },
      {
        "duration": 5,
        "start_time": "2023-12-05T14:14:09.029Z"
      },
      {
        "duration": 15,
        "start_time": "2023-12-05T14:14:09.036Z"
      },
      {
        "duration": 1086,
        "start_time": "2023-12-06T08:53:07.134Z"
      },
      {
        "duration": 348,
        "start_time": "2023-12-06T08:53:08.222Z"
      },
      {
        "duration": 178,
        "start_time": "2023-12-06T08:53:08.571Z"
      },
      {
        "duration": 178,
        "start_time": "2023-12-06T08:53:08.751Z"
      },
      {
        "duration": 102,
        "start_time": "2023-12-06T08:53:08.931Z"
      },
      {
        "duration": 36,
        "start_time": "2023-12-06T08:53:09.034Z"
      },
      {
        "duration": 68,
        "start_time": "2023-12-06T08:53:09.072Z"
      },
      {
        "duration": 15,
        "start_time": "2023-12-06T08:53:09.142Z"
      },
      {
        "duration": 41,
        "start_time": "2023-12-06T08:53:09.169Z"
      },
      {
        "duration": 71,
        "start_time": "2023-12-06T08:53:09.212Z"
      },
      {
        "duration": 39,
        "start_time": "2023-12-06T08:53:09.285Z"
      },
      {
        "duration": 144,
        "start_time": "2023-12-06T08:53:09.326Z"
      },
      {
        "duration": 8,
        "start_time": "2023-12-06T08:53:09.471Z"
      },
      {
        "duration": 4,
        "start_time": "2023-12-06T08:53:09.480Z"
      },
      {
        "duration": 16,
        "start_time": "2023-12-06T08:53:09.485Z"
      },
      {
        "duration": 17,
        "start_time": "2023-12-06T08:53:09.502Z"
      },
      {
        "duration": 52,
        "start_time": "2023-12-06T08:53:09.520Z"
      },
      {
        "duration": 4,
        "start_time": "2023-12-06T08:53:09.574Z"
      },
      {
        "duration": 17,
        "start_time": "2023-12-06T08:53:09.579Z"
      },
      {
        "duration": 80,
        "start_time": "2023-12-06T08:53:09.598Z"
      },
      {
        "duration": 197,
        "start_time": "2023-12-06T08:53:09.679Z"
      },
      {
        "duration": 12506,
        "start_time": "2023-12-06T08:53:09.878Z"
      },
      {
        "duration": 12246,
        "start_time": "2023-12-06T08:53:22.385Z"
      },
      {
        "duration": 12294,
        "start_time": "2023-12-06T08:53:34.632Z"
      },
      {
        "duration": 5,
        "start_time": "2023-12-06T08:53:46.927Z"
      },
      {
        "duration": 13,
        "start_time": "2023-12-06T08:53:46.933Z"
      },
      {
        "duration": 14,
        "start_time": "2023-12-06T08:53:46.947Z"
      },
      {
        "duration": 3,
        "start_time": "2023-12-06T09:08:56.553Z"
      },
      {
        "duration": 4,
        "start_time": "2023-12-06T09:09:01.396Z"
      },
      {
        "duration": 5,
        "start_time": "2023-12-06T09:10:08.885Z"
      },
      {
        "duration": 7,
        "start_time": "2023-12-06T09:10:23.467Z"
      },
      {
        "duration": 6,
        "start_time": "2023-12-06T09:10:34.639Z"
      },
      {
        "duration": 2,
        "start_time": "2023-12-06T09:15:38.533Z"
      },
      {
        "duration": 76,
        "start_time": "2023-12-06T09:15:46.064Z"
      },
      {
        "duration": 4,
        "start_time": "2023-12-06T09:15:47.677Z"
      },
      {
        "duration": 6,
        "start_time": "2023-12-06T09:16:22.569Z"
      },
      {
        "duration": 5,
        "start_time": "2023-12-06T09:16:29.784Z"
      },
      {
        "duration": 6,
        "start_time": "2023-12-06T09:16:34.589Z"
      },
      {
        "duration": 6,
        "start_time": "2023-12-06T09:16:39.157Z"
      },
      {
        "duration": 5,
        "start_time": "2023-12-06T09:17:43.637Z"
      },
      {
        "duration": 6,
        "start_time": "2023-12-06T09:17:48.665Z"
      },
      {
        "duration": 5,
        "start_time": "2023-12-06T09:18:04.279Z"
      },
      {
        "duration": 3,
        "start_time": "2023-12-06T09:18:13.602Z"
      },
      {
        "duration": 5,
        "start_time": "2023-12-06T09:18:34.345Z"
      },
      {
        "duration": 3,
        "start_time": "2023-12-06T09:18:36.167Z"
      },
      {
        "duration": 5,
        "start_time": "2023-12-06T09:36:08.143Z"
      },
      {
        "duration": 2,
        "start_time": "2023-12-06T09:47:34.039Z"
      },
      {
        "duration": 141,
        "start_time": "2023-12-06T09:47:34.047Z"
      },
      {
        "duration": 114,
        "start_time": "2023-12-06T09:47:34.190Z"
      },
      {
        "duration": 114,
        "start_time": "2023-12-06T09:47:34.306Z"
      },
      {
        "duration": 94,
        "start_time": "2023-12-06T09:47:34.421Z"
      },
      {
        "duration": 29,
        "start_time": "2023-12-06T09:47:34.517Z"
      },
      {
        "duration": 82,
        "start_time": "2023-12-06T09:47:34.548Z"
      },
      {
        "duration": 16,
        "start_time": "2023-12-06T09:47:34.631Z"
      },
      {
        "duration": 29,
        "start_time": "2023-12-06T09:47:34.648Z"
      },
      {
        "duration": 34,
        "start_time": "2023-12-06T09:47:34.679Z"
      },
      {
        "duration": 30,
        "start_time": "2023-12-06T09:47:34.715Z"
      },
      {
        "duration": 34,
        "start_time": "2023-12-06T09:47:34.746Z"
      },
      {
        "duration": 88,
        "start_time": "2023-12-06T09:47:34.782Z"
      },
      {
        "duration": 99,
        "start_time": "2023-12-06T09:47:34.871Z"
      },
      {
        "duration": 7,
        "start_time": "2023-12-06T09:47:34.971Z"
      },
      {
        "duration": 19,
        "start_time": "2023-12-06T09:47:34.980Z"
      },
      {
        "duration": 11,
        "start_time": "2023-12-06T09:47:35.000Z"
      },
      {
        "duration": 48,
        "start_time": "2023-12-06T09:47:35.012Z"
      },
      {
        "duration": 28,
        "start_time": "2023-12-06T09:47:35.061Z"
      },
      {
        "duration": 79,
        "start_time": "2023-12-06T09:47:35.091Z"
      },
      {
        "duration": 113,
        "start_time": "2023-12-06T09:47:35.172Z"
      },
      {
        "duration": 12241,
        "start_time": "2023-12-06T09:47:35.371Z"
      },
      {
        "duration": 12122,
        "start_time": "2023-12-06T09:47:47.613Z"
      },
      {
        "duration": 12339,
        "start_time": "2023-12-06T09:47:59.737Z"
      },
      {
        "duration": 5,
        "start_time": "2023-12-06T09:48:12.077Z"
      },
      {
        "duration": 19,
        "start_time": "2023-12-06T09:48:12.083Z"
      },
      {
        "duration": 21,
        "start_time": "2023-12-06T09:48:12.103Z"
      },
      {
        "duration": 42,
        "start_time": "2023-12-07T10:28:00.841Z"
      },
      {
        "duration": 976,
        "start_time": "2023-12-07T10:28:08.447Z"
      },
      {
        "duration": 338,
        "start_time": "2023-12-07T10:28:09.425Z"
      },
      {
        "duration": 176,
        "start_time": "2023-12-07T10:28:09.764Z"
      },
      {
        "duration": 173,
        "start_time": "2023-12-07T10:28:09.942Z"
      },
      {
        "duration": 109,
        "start_time": "2023-12-07T10:28:10.116Z"
      },
      {
        "duration": 37,
        "start_time": "2023-12-07T10:28:10.226Z"
      },
      {
        "duration": 118,
        "start_time": "2023-12-07T10:28:10.265Z"
      },
      {
        "duration": 33,
        "start_time": "2023-12-07T10:28:10.387Z"
      },
      {
        "duration": 13,
        "start_time": "2023-12-07T10:28:12.739Z"
      },
      {
        "duration": 14,
        "start_time": "2023-12-07T10:29:03.924Z"
      },
      {
        "duration": 13,
        "start_time": "2023-12-07T10:29:16.119Z"
      },
      {
        "duration": 14,
        "start_time": "2023-12-07T10:29:32.882Z"
      },
      {
        "duration": 14,
        "start_time": "2023-12-07T10:29:59.007Z"
      },
      {
        "duration": 13,
        "start_time": "2023-12-07T10:32:46.070Z"
      },
      {
        "duration": 16,
        "start_time": "2023-12-07T10:34:10.754Z"
      },
      {
        "duration": 11,
        "start_time": "2023-12-07T10:35:18.170Z"
      },
      {
        "duration": 15,
        "start_time": "2023-12-07T10:35:54.268Z"
      },
      {
        "duration": 12,
        "start_time": "2023-12-07T10:38:28.856Z"
      },
      {
        "duration": 11,
        "start_time": "2023-12-07T10:38:57.385Z"
      },
      {
        "duration": 11,
        "start_time": "2023-12-07T10:39:30.044Z"
      },
      {
        "duration": 7,
        "start_time": "2023-12-07T10:40:44.692Z"
      },
      {
        "duration": 4,
        "start_time": "2023-12-07T10:41:50.918Z"
      },
      {
        "duration": 5,
        "start_time": "2023-12-07T10:42:52.431Z"
      },
      {
        "duration": 3,
        "start_time": "2023-12-07T10:43:59.045Z"
      },
      {
        "duration": 4,
        "start_time": "2023-12-07T10:44:43.566Z"
      },
      {
        "duration": 3,
        "start_time": "2023-12-07T10:50:36.747Z"
      },
      {
        "duration": 2,
        "start_time": "2023-12-07T10:51:04.603Z"
      },
      {
        "duration": 3,
        "start_time": "2023-12-07T10:51:33.025Z"
      },
      {
        "duration": 3,
        "start_time": "2023-12-07T10:51:42.033Z"
      },
      {
        "duration": 3,
        "start_time": "2023-12-07T11:48:28.297Z"
      },
      {
        "duration": 3,
        "start_time": "2023-12-07T11:48:48.492Z"
      },
      {
        "duration": 4,
        "start_time": "2023-12-07T11:48:52.994Z"
      },
      {
        "duration": 5,
        "start_time": "2023-12-07T11:49:13.854Z"
      },
      {
        "duration": 57,
        "start_time": "2023-12-07T12:18:35.616Z"
      },
      {
        "duration": 10,
        "start_time": "2023-12-07T12:18:36.546Z"
      },
      {
        "duration": 9,
        "start_time": "2023-12-07T12:18:37.103Z"
      },
      {
        "duration": 3,
        "start_time": "2023-12-07T12:18:40.847Z"
      },
      {
        "duration": 139,
        "start_time": "2023-12-07T12:18:40.851Z"
      },
      {
        "duration": 111,
        "start_time": "2023-12-07T12:18:40.992Z"
      },
      {
        "duration": 111,
        "start_time": "2023-12-07T12:18:41.115Z"
      },
      {
        "duration": 112,
        "start_time": "2023-12-07T12:18:41.228Z"
      },
      {
        "duration": 34,
        "start_time": "2023-12-07T12:18:41.342Z"
      },
      {
        "duration": 86,
        "start_time": "2023-12-07T12:18:41.377Z"
      },
      {
        "duration": 18,
        "start_time": "2023-12-07T12:18:41.464Z"
      },
      {
        "duration": 32,
        "start_time": "2023-12-07T12:18:41.484Z"
      },
      {
        "duration": 15,
        "start_time": "2023-12-07T12:18:41.517Z"
      },
      {
        "duration": 14,
        "start_time": "2023-12-07T12:18:41.533Z"
      },
      {
        "duration": 21,
        "start_time": "2023-12-07T12:18:41.549Z"
      },
      {
        "duration": 19,
        "start_time": "2023-12-07T12:18:41.571Z"
      },
      {
        "duration": 24,
        "start_time": "2023-12-07T12:18:41.592Z"
      },
      {
        "duration": 17,
        "start_time": "2023-12-07T12:18:41.618Z"
      },
      {
        "duration": 181,
        "start_time": "2023-12-07T12:18:41.636Z"
      },
      {
        "duration": 99,
        "start_time": "2023-12-07T12:18:41.819Z"
      },
      {
        "duration": 5,
        "start_time": "2023-12-07T12:18:41.920Z"
      },
      {
        "duration": 90,
        "start_time": "2023-12-07T12:18:41.927Z"
      },
      {
        "duration": 7,
        "start_time": "2023-12-07T12:18:42.019Z"
      },
      {
        "duration": 4,
        "start_time": "2023-12-07T12:18:42.115Z"
      },
      {
        "duration": 4,
        "start_time": "2023-12-07T12:18:42.121Z"
      },
      {
        "duration": 6,
        "start_time": "2023-12-07T12:18:42.126Z"
      },
      {
        "duration": 4,
        "start_time": "2023-12-07T12:18:42.134Z"
      },
      {
        "duration": 6,
        "start_time": "2023-12-07T12:18:42.139Z"
      },
      {
        "duration": 13,
        "start_time": "2023-12-07T12:18:42.146Z"
      },
      {
        "duration": 33,
        "start_time": "2023-12-07T12:18:42.160Z"
      },
      {
        "duration": 0,
        "start_time": "2023-12-07T12:18:42.194Z"
      },
      {
        "duration": 0,
        "start_time": "2023-12-07T12:18:42.196Z"
      },
      {
        "duration": 0,
        "start_time": "2023-12-07T12:18:42.197Z"
      },
      {
        "duration": 0,
        "start_time": "2023-12-07T12:18:42.199Z"
      },
      {
        "duration": 0,
        "start_time": "2023-12-07T12:18:42.200Z"
      },
      {
        "duration": 3,
        "start_time": "2023-12-07T12:19:26.553Z"
      },
      {
        "duration": 138,
        "start_time": "2023-12-07T12:19:26.558Z"
      },
      {
        "duration": 111,
        "start_time": "2023-12-07T12:19:26.698Z"
      },
      {
        "duration": 121,
        "start_time": "2023-12-07T12:19:26.810Z"
      },
      {
        "duration": 107,
        "start_time": "2023-12-07T12:19:26.932Z"
      },
      {
        "duration": 33,
        "start_time": "2023-12-07T12:19:27.040Z"
      },
      {
        "duration": 87,
        "start_time": "2023-12-07T12:19:27.075Z"
      },
      {
        "duration": 18,
        "start_time": "2023-12-07T12:19:27.163Z"
      },
      {
        "duration": 12,
        "start_time": "2023-12-07T12:19:27.184Z"
      },
      {
        "duration": 29,
        "start_time": "2023-12-07T12:19:27.198Z"
      },
      {
        "duration": 15,
        "start_time": "2023-12-07T12:19:27.229Z"
      },
      {
        "duration": 14,
        "start_time": "2023-12-07T12:19:27.245Z"
      },
      {
        "duration": 16,
        "start_time": "2023-12-07T12:19:27.260Z"
      },
      {
        "duration": 40,
        "start_time": "2023-12-07T12:19:27.277Z"
      },
      {
        "duration": 24,
        "start_time": "2023-12-07T12:19:27.318Z"
      },
      {
        "duration": 172,
        "start_time": "2023-12-07T12:19:27.343Z"
      },
      {
        "duration": 100,
        "start_time": "2023-12-07T12:19:27.521Z"
      },
      {
        "duration": 97,
        "start_time": "2023-12-07T12:19:27.626Z"
      },
      {
        "duration": 88,
        "start_time": "2023-12-07T12:19:27.728Z"
      },
      {
        "duration": 8,
        "start_time": "2023-12-07T12:19:27.817Z"
      },
      {
        "duration": 18,
        "start_time": "2023-12-07T12:19:27.826Z"
      },
      {
        "duration": 3,
        "start_time": "2023-12-07T12:19:27.846Z"
      },
      {
        "duration": 4,
        "start_time": "2023-12-07T12:19:27.851Z"
      },
      {
        "duration": 3,
        "start_time": "2023-12-07T12:19:27.858Z"
      },
      {
        "duration": 16,
        "start_time": "2023-12-07T12:19:27.862Z"
      },
      {
        "duration": 31,
        "start_time": "2023-12-07T12:19:27.880Z"
      },
      {
        "duration": 12825,
        "start_time": "2023-12-07T12:19:27.913Z"
      },
      {
        "duration": 6751,
        "start_time": "2023-12-07T12:19:40.740Z"
      },
      {
        "duration": 12605,
        "start_time": "2023-12-07T12:19:47.493Z"
      },
      {
        "duration": 7,
        "start_time": "2023-12-07T12:20:24.783Z"
      },
      {
        "duration": 6,
        "start_time": "2023-12-07T12:20:32.819Z"
      },
      {
        "duration": 4,
        "start_time": "2023-12-07T12:20:45.930Z"
      },
      {
        "duration": 3,
        "start_time": "2023-12-07T12:20:58.381Z"
      },
      {
        "duration": 3,
        "start_time": "2023-12-07T12:21:00.075Z"
      },
      {
        "duration": 4,
        "start_time": "2023-12-07T12:21:02.516Z"
      },
      {
        "duration": 1090,
        "start_time": "2023-12-07T16:59:17.659Z"
      },
      {
        "duration": 96,
        "start_time": "2023-12-07T16:59:39.920Z"
      },
      {
        "duration": 3,
        "start_time": "2023-12-07T16:59:43.357Z"
      },
      {
        "duration": 378,
        "start_time": "2023-12-07T16:59:43.373Z"
      },
      {
        "duration": 209,
        "start_time": "2023-12-07T16:59:43.753Z"
      },
      {
        "duration": 216,
        "start_time": "2023-12-07T16:59:43.963Z"
      },
      {
        "duration": 150,
        "start_time": "2023-12-07T16:59:44.181Z"
      },
      {
        "duration": 49,
        "start_time": "2023-12-07T16:59:44.333Z"
      },
      {
        "duration": 113,
        "start_time": "2023-12-07T16:59:44.383Z"
      },
      {
        "duration": 21,
        "start_time": "2023-12-07T16:59:44.498Z"
      },
      {
        "duration": 32,
        "start_time": "2023-12-07T16:59:44.521Z"
      },
      {
        "duration": 18,
        "start_time": "2023-12-07T16:59:44.554Z"
      },
      {
        "duration": 20,
        "start_time": "2023-12-07T16:59:44.575Z"
      },
      {
        "duration": 16,
        "start_time": "2023-12-07T16:59:44.597Z"
      },
      {
        "duration": 40,
        "start_time": "2023-12-07T16:59:44.615Z"
      },
      {
        "duration": 15,
        "start_time": "2023-12-07T16:59:44.657Z"
      },
      {
        "duration": 70,
        "start_time": "2023-12-07T16:59:44.674Z"
      },
      {
        "duration": 108,
        "start_time": "2023-12-07T16:59:44.746Z"
      },
      {
        "duration": 190,
        "start_time": "2023-12-07T16:59:44.856Z"
      },
      {
        "duration": 96,
        "start_time": "2023-12-07T16:59:45.048Z"
      },
      {
        "duration": 101,
        "start_time": "2023-12-07T16:59:45.146Z"
      },
      {
        "duration": 13,
        "start_time": "2023-12-07T16:59:45.248Z"
      },
      {
        "duration": 17,
        "start_time": "2023-12-07T16:59:45.262Z"
      },
      {
        "duration": 4,
        "start_time": "2023-12-07T16:59:45.281Z"
      },
      {
        "duration": 8,
        "start_time": "2023-12-07T16:59:45.287Z"
      },
      {
        "duration": 5,
        "start_time": "2023-12-07T16:59:45.296Z"
      },
      {
        "duration": 17,
        "start_time": "2023-12-07T16:59:45.302Z"
      },
      {
        "duration": 4,
        "start_time": "2023-12-07T16:59:45.320Z"
      },
      {
        "duration": 436,
        "start_time": "2023-12-07T16:59:45.326Z"
      },
      {
        "duration": 7193,
        "start_time": "2023-12-07T16:59:45.764Z"
      },
      {
        "duration": 13212,
        "start_time": "2023-12-07T16:59:52.959Z"
      },
      {
        "duration": 4,
        "start_time": "2023-12-07T17:00:06.173Z"
      },
      {
        "duration": 381,
        "start_time": "2023-12-07T17:01:18.021Z"
      },
      {
        "duration": 370,
        "start_time": "2023-12-07T17:01:19.190Z"
      },
      {
        "duration": 408,
        "start_time": "2023-12-07T17:01:19.561Z"
      },
      {
        "duration": 384,
        "start_time": "2023-12-07T17:02:52.076Z"
      },
      {
        "duration": 400,
        "start_time": "2023-12-07T17:02:52.922Z"
      },
      {
        "duration": 397,
        "start_time": "2023-12-07T17:02:53.324Z"
      },
      {
        "duration": 3,
        "start_time": "2023-12-07T17:11:01.914Z"
      },
      {
        "duration": 10,
        "start_time": "2023-12-07T17:11:04.019Z"
      },
      {
        "duration": 9,
        "start_time": "2023-12-07T17:11:24.146Z"
      },
      {
        "duration": 4,
        "start_time": "2023-12-07T17:12:07.907Z"
      },
      {
        "duration": 3,
        "start_time": "2023-12-07T17:12:14.215Z"
      },
      {
        "duration": 3,
        "start_time": "2023-12-07T17:12:26.589Z"
      },
      {
        "duration": 12,
        "start_time": "2023-12-07T17:16:38.171Z"
      },
      {
        "duration": 5,
        "start_time": "2023-12-07T17:19:32.498Z"
      },
      {
        "duration": 4,
        "start_time": "2023-12-07T17:19:45.700Z"
      },
      {
        "duration": 2590,
        "start_time": "2023-12-07T17:20:20.890Z"
      },
      {
        "duration": 1277,
        "start_time": "2023-12-07T17:20:36.279Z"
      },
      {
        "duration": 1260,
        "start_time": "2023-12-07T17:22:54.111Z"
      },
      {
        "duration": 3,
        "start_time": "2023-12-07T17:23:04.437Z"
      },
      {
        "duration": 1241,
        "start_time": "2023-12-07T17:23:56.768Z"
      },
      {
        "duration": 17,
        "start_time": "2023-12-07T17:24:26.945Z"
      },
      {
        "duration": 14,
        "start_time": "2023-12-07T17:25:27.323Z"
      },
      {
        "duration": 18,
        "start_time": "2023-12-07T17:26:26.359Z"
      },
      {
        "duration": 1333,
        "start_time": "2023-12-07T17:26:53.158Z"
      },
      {
        "duration": 1334,
        "start_time": "2023-12-07T17:27:06.561Z"
      },
      {
        "duration": 1304,
        "start_time": "2023-12-07T17:27:16.726Z"
      },
      {
        "duration": 1294,
        "start_time": "2023-12-07T17:27:22.664Z"
      },
      {
        "duration": 1269,
        "start_time": "2023-12-07T17:27:36.388Z"
      },
      {
        "duration": 11,
        "start_time": "2023-12-07T17:51:30.748Z"
      },
      {
        "duration": 9,
        "start_time": "2023-12-07T17:51:41.623Z"
      },
      {
        "duration": 12,
        "start_time": "2023-12-07T17:52:40.523Z"
      },
      {
        "duration": 11,
        "start_time": "2023-12-07T17:53:17.618Z"
      },
      {
        "duration": 6,
        "start_time": "2023-12-07T17:53:20.751Z"
      },
      {
        "duration": 6,
        "start_time": "2023-12-07T17:53:56.646Z"
      },
      {
        "duration": 6,
        "start_time": "2023-12-07T17:54:36.062Z"
      },
      {
        "duration": 6,
        "start_time": "2023-12-07T17:55:04.446Z"
      },
      {
        "duration": 7,
        "start_time": "2023-12-07T18:09:53.043Z"
      },
      {
        "duration": 82,
        "start_time": "2023-12-07T18:13:50.852Z"
      },
      {
        "duration": 11,
        "start_time": "2023-12-07T18:14:06.140Z"
      },
      {
        "duration": 8,
        "start_time": "2023-12-07T18:14:32.179Z"
      },
      {
        "duration": 7,
        "start_time": "2023-12-07T18:14:41.246Z"
      },
      {
        "duration": 9,
        "start_time": "2023-12-07T18:14:52.461Z"
      },
      {
        "duration": 8,
        "start_time": "2023-12-07T18:15:00.811Z"
      },
      {
        "duration": 9,
        "start_time": "2023-12-07T18:15:03.146Z"
      },
      {
        "duration": 8,
        "start_time": "2023-12-07T18:15:11.328Z"
      },
      {
        "duration": 7,
        "start_time": "2023-12-07T18:17:00.317Z"
      },
      {
        "duration": 5,
        "start_time": "2023-12-07T18:17:21.641Z"
      },
      {
        "duration": 5,
        "start_time": "2023-12-07T18:17:32.232Z"
      },
      {
        "duration": 5,
        "start_time": "2023-12-07T18:18:15.445Z"
      },
      {
        "duration": 6,
        "start_time": "2023-12-07T18:18:28.884Z"
      },
      {
        "duration": 5,
        "start_time": "2023-12-07T18:18:43.208Z"
      },
      {
        "duration": 4,
        "start_time": "2023-12-07T18:19:40.291Z"
      },
      {
        "duration": 77,
        "start_time": "2023-12-07T18:21:42.224Z"
      },
      {
        "duration": 4,
        "start_time": "2023-12-07T18:21:48.363Z"
      },
      {
        "duration": 4,
        "start_time": "2023-12-07T18:22:07.381Z"
      },
      {
        "duration": 5,
        "start_time": "2023-12-07T18:22:29.134Z"
      },
      {
        "duration": 4,
        "start_time": "2023-12-07T18:22:33.490Z"
      },
      {
        "duration": 5,
        "start_time": "2023-12-07T18:22:39.844Z"
      },
      {
        "duration": 5,
        "start_time": "2023-12-07T18:22:43.681Z"
      },
      {
        "duration": 5,
        "start_time": "2023-12-07T18:22:53.801Z"
      },
      {
        "duration": 5,
        "start_time": "2023-12-07T18:23:04.985Z"
      },
      {
        "duration": 7,
        "start_time": "2023-12-07T18:23:05.008Z"
      },
      {
        "duration": 5,
        "start_time": "2023-12-07T18:23:07.164Z"
      },
      {
        "duration": 5,
        "start_time": "2023-12-07T18:23:13.475Z"
      },
      {
        "duration": 5,
        "start_time": "2023-12-07T18:23:15.489Z"
      },
      {
        "duration": 7,
        "start_time": "2023-12-07T18:23:17.855Z"
      },
      {
        "duration": 5,
        "start_time": "2023-12-07T18:23:47.848Z"
      },
      {
        "duration": 4,
        "start_time": "2023-12-07T18:24:24.469Z"
      },
      {
        "duration": 5,
        "start_time": "2023-12-07T18:24:55.575Z"
      },
      {
        "duration": 4,
        "start_time": "2023-12-07T18:25:08.979Z"
      },
      {
        "duration": 9,
        "start_time": "2023-12-07T18:26:03.402Z"
      },
      {
        "duration": 5,
        "start_time": "2023-12-07T18:26:21.582Z"
      },
      {
        "duration": 4,
        "start_time": "2023-12-07T18:26:25.101Z"
      },
      {
        "duration": 5,
        "start_time": "2023-12-07T18:26:28.191Z"
      },
      {
        "duration": 11,
        "start_time": "2023-12-07T18:27:21.260Z"
      },
      {
        "duration": 5,
        "start_time": "2023-12-07T18:27:50.169Z"
      },
      {
        "duration": 9,
        "start_time": "2023-12-07T18:28:10.438Z"
      },
      {
        "duration": 5,
        "start_time": "2023-12-07T18:28:17.655Z"
      },
      {
        "duration": 6,
        "start_time": "2023-12-07T18:28:29.359Z"
      },
      {
        "duration": 5,
        "start_time": "2023-12-07T18:28:34.464Z"
      },
      {
        "duration": 5,
        "start_time": "2023-12-07T18:29:00.272Z"
      },
      {
        "duration": 4,
        "start_time": "2023-12-07T18:29:10.149Z"
      },
      {
        "duration": 5,
        "start_time": "2023-12-07T18:29:38.518Z"
      },
      {
        "duration": 5,
        "start_time": "2023-12-07T19:20:45.489Z"
      },
      {
        "duration": 4,
        "start_time": "2023-12-07T19:20:47.936Z"
      },
      {
        "duration": 5,
        "start_time": "2023-12-07T19:21:00.993Z"
      },
      {
        "duration": 4,
        "start_time": "2023-12-07T19:21:20.074Z"
      },
      {
        "duration": 5,
        "start_time": "2023-12-07T19:21:48.779Z"
      },
      {
        "duration": 6,
        "start_time": "2023-12-07T19:21:48.944Z"
      },
      {
        "duration": 4,
        "start_time": "2023-12-07T19:21:49.061Z"
      },
      {
        "duration": 4,
        "start_time": "2023-12-07T19:22:21.211Z"
      },
      {
        "duration": 5,
        "start_time": "2023-12-07T19:22:33.647Z"
      },
      {
        "duration": 4,
        "start_time": "2023-12-07T19:26:18.716Z"
      },
      {
        "duration": 4,
        "start_time": "2023-12-07T19:26:19.268Z"
      },
      {
        "duration": 4,
        "start_time": "2023-12-07T19:26:19.680Z"
      },
      {
        "duration": 5,
        "start_time": "2023-12-07T19:26:25.675Z"
      },
      {
        "duration": 5,
        "start_time": "2023-12-07T19:26:25.948Z"
      },
      {
        "duration": 4,
        "start_time": "2023-12-07T19:26:26.143Z"
      },
      {
        "duration": 1043,
        "start_time": "2023-12-09T15:55:51.112Z"
      },
      {
        "duration": 497,
        "start_time": "2023-12-09T15:55:52.157Z"
      },
      {
        "duration": 579,
        "start_time": "2023-12-09T15:55:52.656Z"
      },
      {
        "duration": 557,
        "start_time": "2023-12-09T15:55:53.237Z"
      },
      {
        "duration": 132,
        "start_time": "2023-12-09T15:55:53.796Z"
      },
      {
        "duration": 44,
        "start_time": "2023-12-09T15:55:53.930Z"
      },
      {
        "duration": 118,
        "start_time": "2023-12-09T15:55:53.975Z"
      },
      {
        "duration": 21,
        "start_time": "2023-12-09T15:55:54.098Z"
      },
      {
        "duration": 22,
        "start_time": "2023-12-09T15:55:54.120Z"
      },
      {
        "duration": 21,
        "start_time": "2023-12-09T15:55:54.145Z"
      },
      {
        "duration": 41,
        "start_time": "2023-12-09T15:55:54.168Z"
      },
      {
        "duration": 16,
        "start_time": "2023-12-09T15:55:54.210Z"
      },
      {
        "duration": 17,
        "start_time": "2023-12-09T15:55:54.228Z"
      },
      {
        "duration": 18,
        "start_time": "2023-12-09T15:55:54.246Z"
      },
      {
        "duration": 136,
        "start_time": "2023-12-09T15:55:54.265Z"
      },
      {
        "duration": 106,
        "start_time": "2023-12-09T15:55:54.404Z"
      },
      {
        "duration": 194,
        "start_time": "2023-12-09T15:55:54.512Z"
      },
      {
        "duration": 94,
        "start_time": "2023-12-09T15:55:54.708Z"
      },
      {
        "duration": 6,
        "start_time": "2023-12-09T15:55:54.803Z"
      },
      {
        "duration": 5,
        "start_time": "2023-12-09T15:55:54.810Z"
      },
      {
        "duration": 4,
        "start_time": "2023-12-09T15:55:54.817Z"
      },
      {
        "duration": 3,
        "start_time": "2023-12-09T15:55:54.822Z"
      },
      {
        "duration": 4,
        "start_time": "2023-12-09T15:55:54.826Z"
      },
      {
        "duration": 6,
        "start_time": "2023-12-09T15:55:54.831Z"
      },
      {
        "duration": 6,
        "start_time": "2023-12-09T15:55:54.838Z"
      },
      {
        "duration": 3,
        "start_time": "2023-12-09T15:56:00.422Z"
      },
      {
        "duration": 3,
        "start_time": "2023-12-09T15:57:31.628Z"
      },
      {
        "duration": 169,
        "start_time": "2023-12-09T15:57:31.640Z"
      },
      {
        "duration": 131,
        "start_time": "2023-12-09T15:57:31.811Z"
      },
      {
        "duration": 130,
        "start_time": "2023-12-09T15:57:31.943Z"
      },
      {
        "duration": 124,
        "start_time": "2023-12-09T15:57:32.075Z"
      },
      {
        "duration": 41,
        "start_time": "2023-12-09T15:57:32.200Z"
      },
      {
        "duration": 107,
        "start_time": "2023-12-09T15:57:32.243Z"
      },
      {
        "duration": 20,
        "start_time": "2023-12-09T15:57:32.352Z"
      },
      {
        "duration": 30,
        "start_time": "2023-12-09T15:57:32.373Z"
      },
      {
        "duration": 23,
        "start_time": "2023-12-09T15:57:32.405Z"
      },
      {
        "duration": 21,
        "start_time": "2023-12-09T15:57:32.430Z"
      },
      {
        "duration": 15,
        "start_time": "2023-12-09T15:57:32.452Z"
      },
      {
        "duration": 50,
        "start_time": "2023-12-09T15:57:32.468Z"
      },
      {
        "duration": 33,
        "start_time": "2023-12-09T15:57:32.519Z"
      },
      {
        "duration": 25,
        "start_time": "2023-12-09T15:57:32.554Z"
      },
      {
        "duration": 127,
        "start_time": "2023-12-09T15:57:32.580Z"
      },
      {
        "duration": 203,
        "start_time": "2023-12-09T15:57:32.709Z"
      },
      {
        "duration": 106,
        "start_time": "2023-12-09T15:57:32.914Z"
      },
      {
        "duration": 13,
        "start_time": "2023-12-09T15:57:33.022Z"
      },
      {
        "duration": 6,
        "start_time": "2023-12-09T15:57:33.036Z"
      },
      {
        "duration": 5,
        "start_time": "2023-12-09T15:57:33.044Z"
      },
      {
        "duration": 2,
        "start_time": "2023-12-09T15:57:33.050Z"
      },
      {
        "duration": 7,
        "start_time": "2023-12-09T15:57:33.054Z"
      },
      {
        "duration": 38,
        "start_time": "2023-12-09T15:57:33.062Z"
      },
      {
        "duration": 6,
        "start_time": "2023-12-09T15:57:33.101Z"
      },
      {
        "duration": 2,
        "start_time": "2023-12-09T15:57:33.109Z"
      },
      {
        "duration": 1244,
        "start_time": "2023-12-09T15:57:33.113Z"
      },
      {
        "duration": 1206,
        "start_time": "2023-12-09T15:57:34.359Z"
      },
      {
        "duration": 1187,
        "start_time": "2023-12-09T15:57:35.568Z"
      },
      {
        "duration": 108,
        "start_time": "2023-12-09T16:14:51.401Z"
      },
      {
        "duration": 12,
        "start_time": "2023-12-09T16:15:23.915Z"
      },
      {
        "duration": 14,
        "start_time": "2023-12-09T16:15:30.469Z"
      },
      {
        "duration": 9,
        "start_time": "2023-12-09T16:15:36.405Z"
      },
      {
        "duration": 9,
        "start_time": "2023-12-09T16:15:49.049Z"
      },
      {
        "duration": 7,
        "start_time": "2023-12-09T16:16:45.627Z"
      },
      {
        "duration": 3,
        "start_time": "2023-12-09T16:17:18.941Z"
      },
      {
        "duration": 144,
        "start_time": "2023-12-09T16:17:18.946Z"
      },
      {
        "duration": 142,
        "start_time": "2023-12-09T16:17:19.091Z"
      },
      {
        "duration": 134,
        "start_time": "2023-12-09T16:17:19.235Z"
      },
      {
        "duration": 112,
        "start_time": "2023-12-09T16:17:19.371Z"
      },
      {
        "duration": 46,
        "start_time": "2023-12-09T16:17:19.484Z"
      },
      {
        "duration": 95,
        "start_time": "2023-12-09T16:17:19.531Z"
      },
      {
        "duration": 19,
        "start_time": "2023-12-09T16:17:19.627Z"
      },
      {
        "duration": 16,
        "start_time": "2023-12-09T16:17:19.648Z"
      },
      {
        "duration": 41,
        "start_time": "2023-12-09T16:17:19.665Z"
      },
      {
        "duration": 18,
        "start_time": "2023-12-09T16:17:19.709Z"
      },
      {
        "duration": 14,
        "start_time": "2023-12-09T16:17:19.729Z"
      },
      {
        "duration": 13,
        "start_time": "2023-12-09T16:17:19.745Z"
      },
      {
        "duration": 42,
        "start_time": "2023-12-09T16:17:19.759Z"
      },
      {
        "duration": 19,
        "start_time": "2023-12-09T16:17:19.803Z"
      },
      {
        "duration": 179,
        "start_time": "2023-12-09T16:17:19.823Z"
      },
      {
        "duration": 101,
        "start_time": "2023-12-09T16:17:20.004Z"
      },
      {
        "duration": 92,
        "start_time": "2023-12-09T16:17:20.108Z"
      },
      {
        "duration": 100,
        "start_time": "2023-12-09T16:17:20.202Z"
      },
      {
        "duration": 6,
        "start_time": "2023-12-09T16:17:20.304Z"
      },
      {
        "duration": 16,
        "start_time": "2023-12-09T16:17:20.312Z"
      },
      {
        "duration": 3,
        "start_time": "2023-12-09T16:17:20.330Z"
      },
      {
        "duration": 13,
        "start_time": "2023-12-09T16:17:20.335Z"
      },
      {
        "duration": 7,
        "start_time": "2023-12-09T16:17:20.350Z"
      },
      {
        "duration": 8,
        "start_time": "2023-12-09T16:17:20.358Z"
      },
      {
        "duration": 6,
        "start_time": "2023-12-09T16:17:20.367Z"
      },
      {
        "duration": 1195,
        "start_time": "2023-12-09T16:17:20.375Z"
      },
      {
        "duration": 1208,
        "start_time": "2023-12-09T16:17:21.571Z"
      },
      {
        "duration": 1250,
        "start_time": "2023-12-09T16:17:22.781Z"
      },
      {
        "duration": 8,
        "start_time": "2023-12-09T16:17:30.343Z"
      },
      {
        "duration": 7,
        "start_time": "2023-12-09T16:59:23.859Z"
      },
      {
        "duration": 6,
        "start_time": "2023-12-09T16:59:44.309Z"
      },
      {
        "duration": 7,
        "start_time": "2023-12-09T17:02:12.879Z"
      },
      {
        "duration": 4,
        "start_time": "2023-12-09T17:02:33.277Z"
      },
      {
        "duration": 4,
        "start_time": "2023-12-09T17:02:40.921Z"
      },
      {
        "duration": 4,
        "start_time": "2023-12-09T17:02:47.762Z"
      },
      {
        "duration": 8,
        "start_time": "2023-12-09T17:53:52.889Z"
      },
      {
        "duration": 4,
        "start_time": "2023-12-09T17:54:41.749Z"
      },
      {
        "duration": 6,
        "start_time": "2023-12-09T17:54:57.509Z"
      },
      {
        "duration": 5,
        "start_time": "2023-12-09T17:55:19.079Z"
      },
      {
        "duration": 5,
        "start_time": "2023-12-09T17:55:35.248Z"
      },
      {
        "duration": 5,
        "start_time": "2023-12-09T17:55:48.274Z"
      },
      {
        "duration": 4,
        "start_time": "2023-12-09T17:56:06.736Z"
      },
      {
        "duration": 4,
        "start_time": "2023-12-09T17:56:20.777Z"
      },
      {
        "duration": 5,
        "start_time": "2023-12-09T17:56:21.999Z"
      },
      {
        "duration": 5,
        "start_time": "2023-12-09T17:56:37.181Z"
      },
      {
        "duration": 3352,
        "start_time": "2023-12-09T22:25:06.985Z"
      },
      {
        "duration": 356,
        "start_time": "2023-12-09T22:25:10.339Z"
      },
      {
        "duration": 168,
        "start_time": "2023-12-09T22:25:10.696Z"
      },
      {
        "duration": 170,
        "start_time": "2023-12-09T22:25:10.866Z"
      },
      {
        "duration": 102,
        "start_time": "2023-12-09T22:25:11.038Z"
      },
      {
        "duration": 33,
        "start_time": "2023-12-09T22:25:11.141Z"
      },
      {
        "duration": 96,
        "start_time": "2023-12-09T22:25:11.175Z"
      },
      {
        "duration": 17,
        "start_time": "2023-12-09T22:25:11.272Z"
      },
      {
        "duration": 28,
        "start_time": "2023-12-09T22:25:11.291Z"
      },
      {
        "duration": 17,
        "start_time": "2023-12-09T22:25:11.320Z"
      },
      {
        "duration": 16,
        "start_time": "2023-12-09T22:25:11.339Z"
      },
      {
        "duration": 14,
        "start_time": "2023-12-09T22:25:11.356Z"
      },
      {
        "duration": 13,
        "start_time": "2023-12-09T22:25:11.371Z"
      },
      {
        "duration": 39,
        "start_time": "2023-12-09T22:25:11.386Z"
      },
      {
        "duration": 90,
        "start_time": "2023-12-09T22:25:11.426Z"
      },
      {
        "duration": 98,
        "start_time": "2023-12-09T22:25:11.521Z"
      },
      {
        "duration": 97,
        "start_time": "2023-12-09T22:25:11.620Z"
      },
      {
        "duration": 5,
        "start_time": "2023-12-09T22:25:11.719Z"
      },
      {
        "duration": 6,
        "start_time": "2023-12-09T22:25:11.815Z"
      },
      {
        "duration": 5,
        "start_time": "2023-12-09T22:25:11.822Z"
      },
      {
        "duration": 4,
        "start_time": "2023-12-09T22:25:11.828Z"
      },
      {
        "duration": 3,
        "start_time": "2023-12-09T22:25:11.834Z"
      },
      {
        "duration": 79,
        "start_time": "2023-12-09T22:25:11.838Z"
      },
      {
        "duration": 7,
        "start_time": "2023-12-09T22:25:11.918Z"
      },
      {
        "duration": 6,
        "start_time": "2023-12-09T22:25:11.927Z"
      },
      {
        "duration": 3,
        "start_time": "2023-12-09T22:25:11.934Z"
      },
      {
        "duration": 991,
        "start_time": "2023-12-09T22:25:11.938Z"
      },
      {
        "duration": 949,
        "start_time": "2023-12-09T22:25:12.931Z"
      },
      {
        "duration": 951,
        "start_time": "2023-12-09T22:25:13.882Z"
      },
      {
        "duration": 6,
        "start_time": "2023-12-09T22:25:14.835Z"
      },
      {
        "duration": 11,
        "start_time": "2023-12-09T22:25:14.842Z"
      },
      {
        "duration": 9,
        "start_time": "2023-12-09T22:25:14.855Z"
      },
      {
        "duration": 6,
        "start_time": "2023-12-09T22:25:14.865Z"
      },
      {
        "duration": 4,
        "start_time": "2023-12-09T22:25:14.872Z"
      },
      {
        "duration": 7,
        "start_time": "2023-12-09T22:25:14.877Z"
      },
      {
        "duration": 5,
        "start_time": "2023-12-09T22:25:57.590Z"
      },
      {
        "duration": 2,
        "start_time": "2023-12-09T22:26:07.831Z"
      },
      {
        "duration": 3,
        "start_time": "2023-12-09T22:26:11.797Z"
      },
      {
        "duration": 3,
        "start_time": "2023-12-09T22:26:20.445Z"
      },
      {
        "duration": 2,
        "start_time": "2023-12-09T22:26:22.467Z"
      },
      {
        "duration": 979,
        "start_time": "2023-12-09T22:26:24.123Z"
      },
      {
        "duration": 965,
        "start_time": "2023-12-09T22:26:25.106Z"
      },
      {
        "duration": 958,
        "start_time": "2023-12-09T22:26:26.072Z"
      },
      {
        "duration": 5,
        "start_time": "2023-12-09T22:26:27.031Z"
      },
      {
        "duration": 5,
        "start_time": "2023-12-09T22:26:28.803Z"
      },
      {
        "duration": 5,
        "start_time": "2023-12-09T22:26:28.967Z"
      },
      {
        "duration": 4,
        "start_time": "2023-12-09T22:26:29.345Z"
      },
      {
        "duration": 4,
        "start_time": "2023-12-09T22:26:29.547Z"
      },
      {
        "duration": 4,
        "start_time": "2023-12-09T22:26:29.723Z"
      },
      {
        "duration": 4,
        "start_time": "2023-12-09T22:27:36.800Z"
      },
      {
        "duration": 4,
        "start_time": "2023-12-09T22:27:38.501Z"
      },
      {
        "duration": 3,
        "start_time": "2023-12-09T22:27:40.149Z"
      },
      {
        "duration": 4,
        "start_time": "2023-12-09T22:27:43.655Z"
      },
      {
        "duration": 3,
        "start_time": "2023-12-09T22:27:46.377Z"
      },
      {
        "duration": 4,
        "start_time": "2023-12-09T22:27:48.721Z"
      },
      {
        "duration": 1153,
        "start_time": "2023-12-10T19:46:46.861Z"
      },
      {
        "duration": 408,
        "start_time": "2023-12-10T19:46:48.016Z"
      },
      {
        "duration": 215,
        "start_time": "2023-12-10T19:46:48.426Z"
      },
      {
        "duration": 211,
        "start_time": "2023-12-10T19:46:48.643Z"
      },
      {
        "duration": 139,
        "start_time": "2023-12-10T19:46:48.856Z"
      },
      {
        "duration": 45,
        "start_time": "2023-12-10T19:46:48.996Z"
      },
      {
        "duration": 127,
        "start_time": "2023-12-10T19:46:49.043Z"
      },
      {
        "duration": 22,
        "start_time": "2023-12-10T19:46:49.172Z"
      },
      {
        "duration": 16,
        "start_time": "2023-12-10T19:46:49.196Z"
      },
      {
        "duration": 46,
        "start_time": "2023-12-10T19:46:49.214Z"
      },
      {
        "duration": 20,
        "start_time": "2023-12-10T19:46:49.262Z"
      },
      {
        "duration": 18,
        "start_time": "2023-12-10T19:46:49.284Z"
      },
      {
        "duration": 17,
        "start_time": "2023-12-10T19:46:49.304Z"
      },
      {
        "duration": 50,
        "start_time": "2023-12-10T19:46:49.323Z"
      },
      {
        "duration": 90,
        "start_time": "2023-12-10T19:46:49.375Z"
      },
      {
        "duration": 99,
        "start_time": "2023-12-10T19:46:49.467Z"
      },
      {
        "duration": 187,
        "start_time": "2023-12-10T19:46:49.568Z"
      },
      {
        "duration": 6,
        "start_time": "2023-12-10T19:46:49.758Z"
      },
      {
        "duration": 7,
        "start_time": "2023-12-10T19:46:49.852Z"
      },
      {
        "duration": 7,
        "start_time": "2023-12-10T19:46:49.861Z"
      },
      {
        "duration": 10,
        "start_time": "2023-12-10T19:46:49.869Z"
      },
      {
        "duration": 5,
        "start_time": "2023-12-10T19:46:49.881Z"
      },
      {
        "duration": 15,
        "start_time": "2023-12-10T19:46:49.887Z"
      },
      {
        "duration": 5,
        "start_time": "2023-12-10T19:46:49.951Z"
      },
      {
        "duration": 21,
        "start_time": "2023-12-10T19:46:49.957Z"
      },
      {
        "duration": 2,
        "start_time": "2023-12-10T19:46:49.980Z"
      },
      {
        "duration": 1314,
        "start_time": "2023-12-10T19:46:49.984Z"
      },
      {
        "duration": 1283,
        "start_time": "2023-12-10T19:46:51.301Z"
      },
      {
        "duration": 1299,
        "start_time": "2023-12-10T19:46:52.586Z"
      },
      {
        "duration": 8,
        "start_time": "2023-12-10T19:47:00.335Z"
      },
      {
        "duration": 3,
        "start_time": "2023-12-10T19:48:05.472Z"
      },
      {
        "duration": 169,
        "start_time": "2023-12-10T19:48:05.484Z"
      },
      {
        "duration": 144,
        "start_time": "2023-12-10T19:48:05.655Z"
      },
      {
        "duration": 135,
        "start_time": "2023-12-10T19:48:05.801Z"
      },
      {
        "duration": 135,
        "start_time": "2023-12-10T19:48:05.938Z"
      },
      {
        "duration": 43,
        "start_time": "2023-12-10T19:48:06.075Z"
      },
      {
        "duration": 126,
        "start_time": "2023-12-10T19:48:06.120Z"
      },
      {
        "duration": 23,
        "start_time": "2023-12-10T19:48:06.251Z"
      },
      {
        "duration": 17,
        "start_time": "2023-12-10T19:48:06.276Z"
      },
      {
        "duration": 20,
        "start_time": "2023-12-10T19:48:06.295Z"
      },
      {
        "duration": 46,
        "start_time": "2023-12-10T19:48:06.319Z"
      },
      {
        "duration": 16,
        "start_time": "2023-12-10T19:48:06.366Z"
      },
      {
        "duration": 34,
        "start_time": "2023-12-10T19:48:06.384Z"
      },
      {
        "duration": 23,
        "start_time": "2023-12-10T19:48:06.419Z"
      },
      {
        "duration": 108,
        "start_time": "2023-12-10T19:48:06.444Z"
      },
      {
        "duration": 105,
        "start_time": "2023-12-10T19:48:06.555Z"
      },
      {
        "duration": 222,
        "start_time": "2023-12-10T19:48:06.662Z"
      },
      {
        "duration": 73,
        "start_time": "2023-12-10T19:48:06.887Z"
      },
      {
        "duration": 92,
        "start_time": "2023-12-10T19:48:06.962Z"
      },
      {
        "duration": 6,
        "start_time": "2023-12-10T19:48:07.055Z"
      },
      {
        "duration": 4,
        "start_time": "2023-12-10T19:48:07.063Z"
      },
      {
        "duration": 9,
        "start_time": "2023-12-10T19:48:07.069Z"
      },
      {
        "duration": 16,
        "start_time": "2023-12-10T19:48:07.080Z"
      },
      {
        "duration": 4,
        "start_time": "2023-12-10T19:48:07.098Z"
      },
      {
        "duration": 7,
        "start_time": "2023-12-10T19:48:07.104Z"
      },
      {
        "duration": 5,
        "start_time": "2023-12-10T19:48:07.113Z"
      },
      {
        "duration": 1331,
        "start_time": "2023-12-10T19:48:07.151Z"
      },
      {
        "duration": 1277,
        "start_time": "2023-12-10T19:48:08.483Z"
      },
      {
        "duration": 1316,
        "start_time": "2023-12-10T19:48:09.763Z"
      },
      {
        "duration": 8,
        "start_time": "2023-12-10T19:48:11.080Z"
      },
      {
        "duration": 29,
        "start_time": "2023-12-10T19:48:11.089Z"
      },
      {
        "duration": 9,
        "start_time": "2023-12-10T19:48:11.120Z"
      },
      {
        "duration": 6,
        "start_time": "2023-12-10T19:48:13.930Z"
      },
      {
        "duration": 5,
        "start_time": "2023-12-10T19:48:14.508Z"
      },
      {
        "duration": 6,
        "start_time": "2023-12-10T19:48:15.137Z"
      }
    ],
    "kernelspec": {
      "display_name": "Python 3 (ipykernel)",
      "language": "python",
      "name": "python3"
    },
    "language_info": {
      "codemirror_mode": {
        "name": "ipython",
        "version": 3
      },
      "file_extension": ".py",
      "mimetype": "text/x-python",
      "name": "python",
      "nbconvert_exporter": "python",
      "pygments_lexer": "ipython3",
      "version": "3.9.5"
    },
    "toc": {
      "base_numbering": 1,
      "nav_menu": {
        "height": "273px",
        "width": "300.8px"
      },
      "number_sections": true,
      "sideBar": true,
      "skip_h1_title": true,
      "title_cell": "Table of Contents",
      "title_sidebar": "Contents",
      "toc_cell": false,
      "toc_position": {},
      "toc_section_display": true,
      "toc_window_display": false
    },
    "colab": {
      "provenance": []
    }
  },
  "nbformat": 4,
  "nbformat_minor": 0
}