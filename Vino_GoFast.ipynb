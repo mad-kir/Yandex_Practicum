{
  "cells": [
    {
      "cell_type": "markdown",
      "id": "13d2fbd8",
      "metadata": {
        "id": "13d2fbd8"
      },
      "source": [
        "#Статистический анализ пользователей сервиса аренды самокатов\n",
        "\n",
        "В данном проекте я буду анализировать данные сервиса аренды самокатов GoFast. Мне доступно три датасета:\n",
        "- users_go.csv — Хранит данные о пользователях (user_id, name, age, city, subscription_type)\n",
        "- rides_go.csv — Данные о поездках, совершённых пользователями (user_id, distance, duration, date)\n",
        "- subscriptions_go.csv — Типы подписок (subscription_type, minute_price, start_ride_price, subscription_fee)\n",
        "\n",
        "Я произведу анализ доступных данных, чтобы ответить на следующие вопросы:\n",
        "- Тратят ли пользователи с подпиской больше времени на поездки?\n",
        "- Превышает ли средняя дальность поездки оптимальную с точки зрения износа самокатов?\n",
        "- Приносят ли пользователи с подпиской больше выручки, чем без неё?"
      ]
    },
    {
      "cell_type": "code",
      "execution_count": 1,
      "id": "72576667",
      "metadata": {
        "id": "72576667"
      },
      "outputs": [],
      "source": [
        "#импорт библиотек\n",
        "import os\n",
        "import warnings\n",
        "warnings.filterwarnings('ignore')\n",
        "\n",
        "import pandas as pd\n",
        "import numpy as np\n",
        "from scipy import stats as st\n",
        "\n",
        "import matplotlib.pyplot as plt\n",
        "import matplotlib as mpl"
      ]
    },
    {
      "cell_type": "code",
      "source": [
        "#задание стиля диаграмм\n",
        "mpl.style.use(['Solarize_Light2'])"
      ],
      "metadata": {
        "id": "zLA28F4SKVd9"
      },
      "id": "zLA28F4SKVd9",
      "execution_count": 2,
      "outputs": []
    },
    {
      "cell_type": "markdown",
      "id": "c42cbe00",
      "metadata": {
        "id": "c42cbe00"
      },
      "source": [
        "## Загрузка данных"
      ]
    },
    {
      "cell_type": "markdown",
      "id": "31adb437",
      "metadata": {
        "id": "31adb437"
      },
      "source": [
        "Сохраню датасеты в соответствующие переменные:"
      ]
    },
    {
      "cell_type": "code",
      "execution_count": 3,
      "id": "eff9f206",
      "metadata": {
        "id": "eff9f206"
      },
      "outputs": [],
      "source": [
        "users = pd.read_csv('/datasets/users_go.csv')\n",
        "rides = pd.read_csv('/datasets/rides_go.csv')\n",
        "subscriptions = pd.read_csv('/datasets/subscriptions_go.csv')"
      ]
    },
    {
      "cell_type": "markdown",
      "id": "43077a1f",
      "metadata": {
        "id": "43077a1f"
      },
      "source": [
        "### Датасет users\n",
        "\n",
        "Посмотрим на каждый из датасетов по отдельности. Начнём с пользователей:"
      ]
    },
    {
      "cell_type": "code",
      "execution_count": 4,
      "id": "edce5509",
      "metadata": {
        "colab": {
          "base_uri": "https://localhost:8080/",
          "height": 206
        },
        "id": "edce5509",
        "outputId": "d62c393c-d46a-47ca-837c-7b4c39f34c2e"
      },
      "outputs": [
        {
          "output_type": "execute_result",
          "data": {
            "text/plain": [
              "   user_id        name  age            city subscription_type\n",
              "0        1        Кира   22          Тюмень             ultra\n",
              "1        2   Станислав   31            Омск             ultra\n",
              "2        3     Алексей   20          Москва             ultra\n",
              "3        4  Константин   26  Ростов-на-Дону             ultra\n",
              "4        5       Адель   28            Омск             ultra"
            ],
            "text/html": [
              "\n",
              "  <div id=\"df-04c06ea8-097a-408f-af4c-2c688f13b4bd\" class=\"colab-df-container\">\n",
              "    <div>\n",
              "<style scoped>\n",
              "    .dataframe tbody tr th:only-of-type {\n",
              "        vertical-align: middle;\n",
              "    }\n",
              "\n",
              "    .dataframe tbody tr th {\n",
              "        vertical-align: top;\n",
              "    }\n",
              "\n",
              "    .dataframe thead th {\n",
              "        text-align: right;\n",
              "    }\n",
              "</style>\n",
              "<table border=\"1\" class=\"dataframe\">\n",
              "  <thead>\n",
              "    <tr style=\"text-align: right;\">\n",
              "      <th></th>\n",
              "      <th>user_id</th>\n",
              "      <th>name</th>\n",
              "      <th>age</th>\n",
              "      <th>city</th>\n",
              "      <th>subscription_type</th>\n",
              "    </tr>\n",
              "  </thead>\n",
              "  <tbody>\n",
              "    <tr>\n",
              "      <th>0</th>\n",
              "      <td>1</td>\n",
              "      <td>Кира</td>\n",
              "      <td>22</td>\n",
              "      <td>Тюмень</td>\n",
              "      <td>ultra</td>\n",
              "    </tr>\n",
              "    <tr>\n",
              "      <th>1</th>\n",
              "      <td>2</td>\n",
              "      <td>Станислав</td>\n",
              "      <td>31</td>\n",
              "      <td>Омск</td>\n",
              "      <td>ultra</td>\n",
              "    </tr>\n",
              "    <tr>\n",
              "      <th>2</th>\n",
              "      <td>3</td>\n",
              "      <td>Алексей</td>\n",
              "      <td>20</td>\n",
              "      <td>Москва</td>\n",
              "      <td>ultra</td>\n",
              "    </tr>\n",
              "    <tr>\n",
              "      <th>3</th>\n",
              "      <td>4</td>\n",
              "      <td>Константин</td>\n",
              "      <td>26</td>\n",
              "      <td>Ростов-на-Дону</td>\n",
              "      <td>ultra</td>\n",
              "    </tr>\n",
              "    <tr>\n",
              "      <th>4</th>\n",
              "      <td>5</td>\n",
              "      <td>Адель</td>\n",
              "      <td>28</td>\n",
              "      <td>Омск</td>\n",
              "      <td>ultra</td>\n",
              "    </tr>\n",
              "  </tbody>\n",
              "</table>\n",
              "</div>\n",
              "    <div class=\"colab-df-buttons\">\n",
              "\n",
              "  <div class=\"colab-df-container\">\n",
              "    <button class=\"colab-df-convert\" onclick=\"convertToInteractive('df-04c06ea8-097a-408f-af4c-2c688f13b4bd')\"\n",
              "            title=\"Convert this dataframe to an interactive table.\"\n",
              "            style=\"display:none;\">\n",
              "\n",
              "  <svg xmlns=\"http://www.w3.org/2000/svg\" height=\"24px\" viewBox=\"0 -960 960 960\">\n",
              "    <path d=\"M120-120v-720h720v720H120Zm60-500h600v-160H180v160Zm220 220h160v-160H400v160Zm0 220h160v-160H400v160ZM180-400h160v-160H180v160Zm440 0h160v-160H620v160ZM180-180h160v-160H180v160Zm440 0h160v-160H620v160Z\"/>\n",
              "  </svg>\n",
              "    </button>\n",
              "\n",
              "  <style>\n",
              "    .colab-df-container {\n",
              "      display:flex;\n",
              "      gap: 12px;\n",
              "    }\n",
              "\n",
              "    .colab-df-convert {\n",
              "      background-color: #E8F0FE;\n",
              "      border: none;\n",
              "      border-radius: 50%;\n",
              "      cursor: pointer;\n",
              "      display: none;\n",
              "      fill: #1967D2;\n",
              "      height: 32px;\n",
              "      padding: 0 0 0 0;\n",
              "      width: 32px;\n",
              "    }\n",
              "\n",
              "    .colab-df-convert:hover {\n",
              "      background-color: #E2EBFA;\n",
              "      box-shadow: 0px 1px 2px rgba(60, 64, 67, 0.3), 0px 1px 3px 1px rgba(60, 64, 67, 0.15);\n",
              "      fill: #174EA6;\n",
              "    }\n",
              "\n",
              "    .colab-df-buttons div {\n",
              "      margin-bottom: 4px;\n",
              "    }\n",
              "\n",
              "    [theme=dark] .colab-df-convert {\n",
              "      background-color: #3B4455;\n",
              "      fill: #D2E3FC;\n",
              "    }\n",
              "\n",
              "    [theme=dark] .colab-df-convert:hover {\n",
              "      background-color: #434B5C;\n",
              "      box-shadow: 0px 1px 3px 1px rgba(0, 0, 0, 0.15);\n",
              "      filter: drop-shadow(0px 1px 2px rgba(0, 0, 0, 0.3));\n",
              "      fill: #FFFFFF;\n",
              "    }\n",
              "  </style>\n",
              "\n",
              "    <script>\n",
              "      const buttonEl =\n",
              "        document.querySelector('#df-04c06ea8-097a-408f-af4c-2c688f13b4bd button.colab-df-convert');\n",
              "      buttonEl.style.display =\n",
              "        google.colab.kernel.accessAllowed ? 'block' : 'none';\n",
              "\n",
              "      async function convertToInteractive(key) {\n",
              "        const element = document.querySelector('#df-04c06ea8-097a-408f-af4c-2c688f13b4bd');\n",
              "        const dataTable =\n",
              "          await google.colab.kernel.invokeFunction('convertToInteractive',\n",
              "                                                    [key], {});\n",
              "        if (!dataTable) return;\n",
              "\n",
              "        const docLinkHtml = 'Like what you see? Visit the ' +\n",
              "          '<a target=\"_blank\" href=https://colab.research.google.com/notebooks/data_table.ipynb>data table notebook</a>'\n",
              "          + ' to learn more about interactive tables.';\n",
              "        element.innerHTML = '';\n",
              "        dataTable['output_type'] = 'display_data';\n",
              "        await google.colab.output.renderOutput(dataTable, element);\n",
              "        const docLink = document.createElement('div');\n",
              "        docLink.innerHTML = docLinkHtml;\n",
              "        element.appendChild(docLink);\n",
              "      }\n",
              "    </script>\n",
              "  </div>\n",
              "\n",
              "\n",
              "<div id=\"df-005e3427-cc65-4c89-9cf4-661c350a5851\">\n",
              "  <button class=\"colab-df-quickchart\" onclick=\"quickchart('df-005e3427-cc65-4c89-9cf4-661c350a5851')\"\n",
              "            title=\"Suggest charts\"\n",
              "            style=\"display:none;\">\n",
              "\n",
              "<svg xmlns=\"http://www.w3.org/2000/svg\" height=\"24px\"viewBox=\"0 0 24 24\"\n",
              "     width=\"24px\">\n",
              "    <g>\n",
              "        <path d=\"M19 3H5c-1.1 0-2 .9-2 2v14c0 1.1.9 2 2 2h14c1.1 0 2-.9 2-2V5c0-1.1-.9-2-2-2zM9 17H7v-7h2v7zm4 0h-2V7h2v10zm4 0h-2v-4h2v4z\"/>\n",
              "    </g>\n",
              "</svg>\n",
              "  </button>\n",
              "\n",
              "<style>\n",
              "  .colab-df-quickchart {\n",
              "      --bg-color: #E8F0FE;\n",
              "      --fill-color: #1967D2;\n",
              "      --hover-bg-color: #E2EBFA;\n",
              "      --hover-fill-color: #174EA6;\n",
              "      --disabled-fill-color: #AAA;\n",
              "      --disabled-bg-color: #DDD;\n",
              "  }\n",
              "\n",
              "  [theme=dark] .colab-df-quickchart {\n",
              "      --bg-color: #3B4455;\n",
              "      --fill-color: #D2E3FC;\n",
              "      --hover-bg-color: #434B5C;\n",
              "      --hover-fill-color: #FFFFFF;\n",
              "      --disabled-bg-color: #3B4455;\n",
              "      --disabled-fill-color: #666;\n",
              "  }\n",
              "\n",
              "  .colab-df-quickchart {\n",
              "    background-color: var(--bg-color);\n",
              "    border: none;\n",
              "    border-radius: 50%;\n",
              "    cursor: pointer;\n",
              "    display: none;\n",
              "    fill: var(--fill-color);\n",
              "    height: 32px;\n",
              "    padding: 0;\n",
              "    width: 32px;\n",
              "  }\n",
              "\n",
              "  .colab-df-quickchart:hover {\n",
              "    background-color: var(--hover-bg-color);\n",
              "    box-shadow: 0 1px 2px rgba(60, 64, 67, 0.3), 0 1px 3px 1px rgba(60, 64, 67, 0.15);\n",
              "    fill: var(--button-hover-fill-color);\n",
              "  }\n",
              "\n",
              "  .colab-df-quickchart-complete:disabled,\n",
              "  .colab-df-quickchart-complete:disabled:hover {\n",
              "    background-color: var(--disabled-bg-color);\n",
              "    fill: var(--disabled-fill-color);\n",
              "    box-shadow: none;\n",
              "  }\n",
              "\n",
              "  .colab-df-spinner {\n",
              "    border: 2px solid var(--fill-color);\n",
              "    border-color: transparent;\n",
              "    border-bottom-color: var(--fill-color);\n",
              "    animation:\n",
              "      spin 1s steps(1) infinite;\n",
              "  }\n",
              "\n",
              "  @keyframes spin {\n",
              "    0% {\n",
              "      border-color: transparent;\n",
              "      border-bottom-color: var(--fill-color);\n",
              "      border-left-color: var(--fill-color);\n",
              "    }\n",
              "    20% {\n",
              "      border-color: transparent;\n",
              "      border-left-color: var(--fill-color);\n",
              "      border-top-color: var(--fill-color);\n",
              "    }\n",
              "    30% {\n",
              "      border-color: transparent;\n",
              "      border-left-color: var(--fill-color);\n",
              "      border-top-color: var(--fill-color);\n",
              "      border-right-color: var(--fill-color);\n",
              "    }\n",
              "    40% {\n",
              "      border-color: transparent;\n",
              "      border-right-color: var(--fill-color);\n",
              "      border-top-color: var(--fill-color);\n",
              "    }\n",
              "    60% {\n",
              "      border-color: transparent;\n",
              "      border-right-color: var(--fill-color);\n",
              "    }\n",
              "    80% {\n",
              "      border-color: transparent;\n",
              "      border-right-color: var(--fill-color);\n",
              "      border-bottom-color: var(--fill-color);\n",
              "    }\n",
              "    90% {\n",
              "      border-color: transparent;\n",
              "      border-bottom-color: var(--fill-color);\n",
              "    }\n",
              "  }\n",
              "</style>\n",
              "\n",
              "  <script>\n",
              "    async function quickchart(key) {\n",
              "      const quickchartButtonEl =\n",
              "        document.querySelector('#' + key + ' button');\n",
              "      quickchartButtonEl.disabled = true;  // To prevent multiple clicks.\n",
              "      quickchartButtonEl.classList.add('colab-df-spinner');\n",
              "      try {\n",
              "        const charts = await google.colab.kernel.invokeFunction(\n",
              "            'suggestCharts', [key], {});\n",
              "      } catch (error) {\n",
              "        console.error('Error during call to suggestCharts:', error);\n",
              "      }\n",
              "      quickchartButtonEl.classList.remove('colab-df-spinner');\n",
              "      quickchartButtonEl.classList.add('colab-df-quickchart-complete');\n",
              "    }\n",
              "    (() => {\n",
              "      let quickchartButtonEl =\n",
              "        document.querySelector('#df-005e3427-cc65-4c89-9cf4-661c350a5851 button');\n",
              "      quickchartButtonEl.style.display =\n",
              "        google.colab.kernel.accessAllowed ? 'block' : 'none';\n",
              "    })();\n",
              "  </script>\n",
              "</div>\n",
              "    </div>\n",
              "  </div>\n"
            ],
            "application/vnd.google.colaboratory.intrinsic+json": {
              "type": "dataframe",
              "variable_name": "users",
              "summary": "{\n  \"name\": \"users\",\n  \"rows\": 1565,\n  \"fields\": [\n    {\n      \"column\": \"user_id\",\n      \"properties\": {\n        \"dtype\": \"number\",\n        \"std\": 443,\n        \"min\": 1,\n        \"max\": 1534,\n        \"num_unique_values\": 1534,\n        \"samples\": [\n          1365,\n          77,\n          317\n        ],\n        \"semantic_type\": \"\",\n        \"description\": \"\"\n      }\n    },\n    {\n      \"column\": \"name\",\n      \"properties\": {\n        \"dtype\": \"category\",\n        \"num_unique_values\": 194,\n        \"samples\": [\n          \"\\u042d\\u043c\\u0438\\u043b\\u0438\\u044f\",\n          \"\\u0414\\u0430\\u043d\\u0438\\u0438\\u043b\",\n          \"\\u042e\\u043b\\u0438\\u044f\"\n        ],\n        \"semantic_type\": \"\",\n        \"description\": \"\"\n      }\n    },\n    {\n      \"column\": \"age\",\n      \"properties\": {\n        \"dtype\": \"number\",\n        \"std\": 4,\n        \"min\": 12,\n        \"max\": 43,\n        \"num_unique_values\": 29,\n        \"samples\": [\n          39,\n          17,\n          32\n        ],\n        \"semantic_type\": \"\",\n        \"description\": \"\"\n      }\n    },\n    {\n      \"column\": \"city\",\n      \"properties\": {\n        \"dtype\": \"category\",\n        \"num_unique_values\": 8,\n        \"samples\": [\n          \"\\u041e\\u043c\\u0441\\u043a\",\n          \"\\u041f\\u044f\\u0442\\u0438\\u0433\\u043e\\u0440\\u0441\\u043a\",\n          \"\\u0422\\u044e\\u043c\\u0435\\u043d\\u044c\"\n        ],\n        \"semantic_type\": \"\",\n        \"description\": \"\"\n      }\n    },\n    {\n      \"column\": \"subscription_type\",\n      \"properties\": {\n        \"dtype\": \"category\",\n        \"num_unique_values\": 2,\n        \"samples\": [\n          \"free\",\n          \"ultra\"\n        ],\n        \"semantic_type\": \"\",\n        \"description\": \"\"\n      }\n    }\n  ]\n}"
            }
          },
          "metadata": {},
          "execution_count": 4
        }
      ],
      "source": [
        "users.head()"
      ]
    },
    {
      "cell_type": "markdown",
      "id": "da77c223",
      "metadata": {
        "id": "da77c223"
      },
      "source": [
        "В столбце \"user_id\" У нас уникальные упорядоченные идентификаторы для каждого пользователя. Также здесь есть имя каждого человека, его возраст и город. В \"subscription_type\" указан тип подписки: free или ultra, подробнее о типах подписок в датасете subscriptions."
      ]
    },
    {
      "cell_type": "code",
      "execution_count": 5,
      "id": "2b13fde7",
      "metadata": {
        "colab": {
          "base_uri": "https://localhost:8080/"
        },
        "id": "2b13fde7",
        "outputId": "3cab1f24-2d8a-43da-cb1e-fa7f2d7be6bd"
      },
      "outputs": [
        {
          "output_type": "stream",
          "name": "stdout",
          "text": [
            "<class 'pandas.core.frame.DataFrame'>\n",
            "RangeIndex: 1565 entries, 0 to 1564\n",
            "Data columns (total 5 columns):\n",
            " #   Column             Non-Null Count  Dtype \n",
            "---  ------             --------------  ----- \n",
            " 0   user_id            1565 non-null   int64 \n",
            " 1   name               1565 non-null   object\n",
            " 2   age                1565 non-null   int64 \n",
            " 3   city               1565 non-null   object\n",
            " 4   subscription_type  1565 non-null   object\n",
            "dtypes: int64(2), object(3)\n",
            "memory usage: 458.7 KB\n"
          ]
        }
      ],
      "source": [
        "users.info(memory_usage='deep')"
      ]
    },
    {
      "cell_type": "markdown",
      "id": "bf5980a5",
      "metadata": {
        "id": "bf5980a5"
      },
      "source": [
        "По своим размерам датасет небольшой: всего 1565 строк и пять столбцов.\n",
        "\n",
        "### Датасет rides\n",
        "\n",
        "Теперь посмотрим на первые пять строк таблицы rides, отражающей поезки, совершённые пользователями."
      ]
    },
    {
      "cell_type": "code",
      "execution_count": 6,
      "id": "dee7d790",
      "metadata": {
        "colab": {
          "base_uri": "https://localhost:8080/",
          "height": 206
        },
        "id": "dee7d790",
        "outputId": "fafa8de2-dac2-4a1d-dfdd-c83e902e045e"
      },
      "outputs": [
        {
          "output_type": "execute_result",
          "data": {
            "text/plain": [
              "   user_id     distance   duration        date\n",
              "0        1  4409.919140  25.599769  2021-01-01\n",
              "1        1  2617.592153  15.816871  2021-01-18\n",
              "2        1   754.159807   6.232113  2021-04-20\n",
              "3        1  2694.783254  18.511000  2021-08-11\n",
              "4        1  4028.687306  26.265803  2021-08-28"
            ],
            "text/html": [
              "\n",
              "  <div id=\"df-2fe7e1c8-edd4-4277-8d77-388a8772ad65\" class=\"colab-df-container\">\n",
              "    <div>\n",
              "<style scoped>\n",
              "    .dataframe tbody tr th:only-of-type {\n",
              "        vertical-align: middle;\n",
              "    }\n",
              "\n",
              "    .dataframe tbody tr th {\n",
              "        vertical-align: top;\n",
              "    }\n",
              "\n",
              "    .dataframe thead th {\n",
              "        text-align: right;\n",
              "    }\n",
              "</style>\n",
              "<table border=\"1\" class=\"dataframe\">\n",
              "  <thead>\n",
              "    <tr style=\"text-align: right;\">\n",
              "      <th></th>\n",
              "      <th>user_id</th>\n",
              "      <th>distance</th>\n",
              "      <th>duration</th>\n",
              "      <th>date</th>\n",
              "    </tr>\n",
              "  </thead>\n",
              "  <tbody>\n",
              "    <tr>\n",
              "      <th>0</th>\n",
              "      <td>1</td>\n",
              "      <td>4409.919140</td>\n",
              "      <td>25.599769</td>\n",
              "      <td>2021-01-01</td>\n",
              "    </tr>\n",
              "    <tr>\n",
              "      <th>1</th>\n",
              "      <td>1</td>\n",
              "      <td>2617.592153</td>\n",
              "      <td>15.816871</td>\n",
              "      <td>2021-01-18</td>\n",
              "    </tr>\n",
              "    <tr>\n",
              "      <th>2</th>\n",
              "      <td>1</td>\n",
              "      <td>754.159807</td>\n",
              "      <td>6.232113</td>\n",
              "      <td>2021-04-20</td>\n",
              "    </tr>\n",
              "    <tr>\n",
              "      <th>3</th>\n",
              "      <td>1</td>\n",
              "      <td>2694.783254</td>\n",
              "      <td>18.511000</td>\n",
              "      <td>2021-08-11</td>\n",
              "    </tr>\n",
              "    <tr>\n",
              "      <th>4</th>\n",
              "      <td>1</td>\n",
              "      <td>4028.687306</td>\n",
              "      <td>26.265803</td>\n",
              "      <td>2021-08-28</td>\n",
              "    </tr>\n",
              "  </tbody>\n",
              "</table>\n",
              "</div>\n",
              "    <div class=\"colab-df-buttons\">\n",
              "\n",
              "  <div class=\"colab-df-container\">\n",
              "    <button class=\"colab-df-convert\" onclick=\"convertToInteractive('df-2fe7e1c8-edd4-4277-8d77-388a8772ad65')\"\n",
              "            title=\"Convert this dataframe to an interactive table.\"\n",
              "            style=\"display:none;\">\n",
              "\n",
              "  <svg xmlns=\"http://www.w3.org/2000/svg\" height=\"24px\" viewBox=\"0 -960 960 960\">\n",
              "    <path d=\"M120-120v-720h720v720H120Zm60-500h600v-160H180v160Zm220 220h160v-160H400v160Zm0 220h160v-160H400v160ZM180-400h160v-160H180v160Zm440 0h160v-160H620v160ZM180-180h160v-160H180v160Zm440 0h160v-160H620v160Z\"/>\n",
              "  </svg>\n",
              "    </button>\n",
              "\n",
              "  <style>\n",
              "    .colab-df-container {\n",
              "      display:flex;\n",
              "      gap: 12px;\n",
              "    }\n",
              "\n",
              "    .colab-df-convert {\n",
              "      background-color: #E8F0FE;\n",
              "      border: none;\n",
              "      border-radius: 50%;\n",
              "      cursor: pointer;\n",
              "      display: none;\n",
              "      fill: #1967D2;\n",
              "      height: 32px;\n",
              "      padding: 0 0 0 0;\n",
              "      width: 32px;\n",
              "    }\n",
              "\n",
              "    .colab-df-convert:hover {\n",
              "      background-color: #E2EBFA;\n",
              "      box-shadow: 0px 1px 2px rgba(60, 64, 67, 0.3), 0px 1px 3px 1px rgba(60, 64, 67, 0.15);\n",
              "      fill: #174EA6;\n",
              "    }\n",
              "\n",
              "    .colab-df-buttons div {\n",
              "      margin-bottom: 4px;\n",
              "    }\n",
              "\n",
              "    [theme=dark] .colab-df-convert {\n",
              "      background-color: #3B4455;\n",
              "      fill: #D2E3FC;\n",
              "    }\n",
              "\n",
              "    [theme=dark] .colab-df-convert:hover {\n",
              "      background-color: #434B5C;\n",
              "      box-shadow: 0px 1px 3px 1px rgba(0, 0, 0, 0.15);\n",
              "      filter: drop-shadow(0px 1px 2px rgba(0, 0, 0, 0.3));\n",
              "      fill: #FFFFFF;\n",
              "    }\n",
              "  </style>\n",
              "\n",
              "    <script>\n",
              "      const buttonEl =\n",
              "        document.querySelector('#df-2fe7e1c8-edd4-4277-8d77-388a8772ad65 button.colab-df-convert');\n",
              "      buttonEl.style.display =\n",
              "        google.colab.kernel.accessAllowed ? 'block' : 'none';\n",
              "\n",
              "      async function convertToInteractive(key) {\n",
              "        const element = document.querySelector('#df-2fe7e1c8-edd4-4277-8d77-388a8772ad65');\n",
              "        const dataTable =\n",
              "          await google.colab.kernel.invokeFunction('convertToInteractive',\n",
              "                                                    [key], {});\n",
              "        if (!dataTable) return;\n",
              "\n",
              "        const docLinkHtml = 'Like what you see? Visit the ' +\n",
              "          '<a target=\"_blank\" href=https://colab.research.google.com/notebooks/data_table.ipynb>data table notebook</a>'\n",
              "          + ' to learn more about interactive tables.';\n",
              "        element.innerHTML = '';\n",
              "        dataTable['output_type'] = 'display_data';\n",
              "        await google.colab.output.renderOutput(dataTable, element);\n",
              "        const docLink = document.createElement('div');\n",
              "        docLink.innerHTML = docLinkHtml;\n",
              "        element.appendChild(docLink);\n",
              "      }\n",
              "    </script>\n",
              "  </div>\n",
              "\n",
              "\n",
              "<div id=\"df-63ebc798-7a12-473d-92c1-ccc633de4e16\">\n",
              "  <button class=\"colab-df-quickchart\" onclick=\"quickchart('df-63ebc798-7a12-473d-92c1-ccc633de4e16')\"\n",
              "            title=\"Suggest charts\"\n",
              "            style=\"display:none;\">\n",
              "\n",
              "<svg xmlns=\"http://www.w3.org/2000/svg\" height=\"24px\"viewBox=\"0 0 24 24\"\n",
              "     width=\"24px\">\n",
              "    <g>\n",
              "        <path d=\"M19 3H5c-1.1 0-2 .9-2 2v14c0 1.1.9 2 2 2h14c1.1 0 2-.9 2-2V5c0-1.1-.9-2-2-2zM9 17H7v-7h2v7zm4 0h-2V7h2v10zm4 0h-2v-4h2v4z\"/>\n",
              "    </g>\n",
              "</svg>\n",
              "  </button>\n",
              "\n",
              "<style>\n",
              "  .colab-df-quickchart {\n",
              "      --bg-color: #E8F0FE;\n",
              "      --fill-color: #1967D2;\n",
              "      --hover-bg-color: #E2EBFA;\n",
              "      --hover-fill-color: #174EA6;\n",
              "      --disabled-fill-color: #AAA;\n",
              "      --disabled-bg-color: #DDD;\n",
              "  }\n",
              "\n",
              "  [theme=dark] .colab-df-quickchart {\n",
              "      --bg-color: #3B4455;\n",
              "      --fill-color: #D2E3FC;\n",
              "      --hover-bg-color: #434B5C;\n",
              "      --hover-fill-color: #FFFFFF;\n",
              "      --disabled-bg-color: #3B4455;\n",
              "      --disabled-fill-color: #666;\n",
              "  }\n",
              "\n",
              "  .colab-df-quickchart {\n",
              "    background-color: var(--bg-color);\n",
              "    border: none;\n",
              "    border-radius: 50%;\n",
              "    cursor: pointer;\n",
              "    display: none;\n",
              "    fill: var(--fill-color);\n",
              "    height: 32px;\n",
              "    padding: 0;\n",
              "    width: 32px;\n",
              "  }\n",
              "\n",
              "  .colab-df-quickchart:hover {\n",
              "    background-color: var(--hover-bg-color);\n",
              "    box-shadow: 0 1px 2px rgba(60, 64, 67, 0.3), 0 1px 3px 1px rgba(60, 64, 67, 0.15);\n",
              "    fill: var(--button-hover-fill-color);\n",
              "  }\n",
              "\n",
              "  .colab-df-quickchart-complete:disabled,\n",
              "  .colab-df-quickchart-complete:disabled:hover {\n",
              "    background-color: var(--disabled-bg-color);\n",
              "    fill: var(--disabled-fill-color);\n",
              "    box-shadow: none;\n",
              "  }\n",
              "\n",
              "  .colab-df-spinner {\n",
              "    border: 2px solid var(--fill-color);\n",
              "    border-color: transparent;\n",
              "    border-bottom-color: var(--fill-color);\n",
              "    animation:\n",
              "      spin 1s steps(1) infinite;\n",
              "  }\n",
              "\n",
              "  @keyframes spin {\n",
              "    0% {\n",
              "      border-color: transparent;\n",
              "      border-bottom-color: var(--fill-color);\n",
              "      border-left-color: var(--fill-color);\n",
              "    }\n",
              "    20% {\n",
              "      border-color: transparent;\n",
              "      border-left-color: var(--fill-color);\n",
              "      border-top-color: var(--fill-color);\n",
              "    }\n",
              "    30% {\n",
              "      border-color: transparent;\n",
              "      border-left-color: var(--fill-color);\n",
              "      border-top-color: var(--fill-color);\n",
              "      border-right-color: var(--fill-color);\n",
              "    }\n",
              "    40% {\n",
              "      border-color: transparent;\n",
              "      border-right-color: var(--fill-color);\n",
              "      border-top-color: var(--fill-color);\n",
              "    }\n",
              "    60% {\n",
              "      border-color: transparent;\n",
              "      border-right-color: var(--fill-color);\n",
              "    }\n",
              "    80% {\n",
              "      border-color: transparent;\n",
              "      border-right-color: var(--fill-color);\n",
              "      border-bottom-color: var(--fill-color);\n",
              "    }\n",
              "    90% {\n",
              "      border-color: transparent;\n",
              "      border-bottom-color: var(--fill-color);\n",
              "    }\n",
              "  }\n",
              "</style>\n",
              "\n",
              "  <script>\n",
              "    async function quickchart(key) {\n",
              "      const quickchartButtonEl =\n",
              "        document.querySelector('#' + key + ' button');\n",
              "      quickchartButtonEl.disabled = true;  // To prevent multiple clicks.\n",
              "      quickchartButtonEl.classList.add('colab-df-spinner');\n",
              "      try {\n",
              "        const charts = await google.colab.kernel.invokeFunction(\n",
              "            'suggestCharts', [key], {});\n",
              "      } catch (error) {\n",
              "        console.error('Error during call to suggestCharts:', error);\n",
              "      }\n",
              "      quickchartButtonEl.classList.remove('colab-df-spinner');\n",
              "      quickchartButtonEl.classList.add('colab-df-quickchart-complete');\n",
              "    }\n",
              "    (() => {\n",
              "      let quickchartButtonEl =\n",
              "        document.querySelector('#df-63ebc798-7a12-473d-92c1-ccc633de4e16 button');\n",
              "      quickchartButtonEl.style.display =\n",
              "        google.colab.kernel.accessAllowed ? 'block' : 'none';\n",
              "    })();\n",
              "  </script>\n",
              "</div>\n",
              "    </div>\n",
              "  </div>\n"
            ],
            "application/vnd.google.colaboratory.intrinsic+json": {
              "type": "dataframe",
              "variable_name": "rides",
              "repr_error": "'str' object has no attribute 'empty'"
            }
          },
          "metadata": {},
          "execution_count": 6
        }
      ],
      "source": [
        "rides.head()"
      ]
    },
    {
      "cell_type": "markdown",
      "id": "f2cbd81a",
      "metadata": {
        "id": "f2cbd81a"
      },
      "source": [
        "Данный датасет также как и users упорядочен по user_id. В этом случае благодаря этому столбцу я смогу соединить каждую конкретную поездку с пользователем, совершившим её."
      ]
    },
    {
      "cell_type": "code",
      "execution_count": 7,
      "id": "2f857aa6",
      "metadata": {
        "colab": {
          "base_uri": "https://localhost:8080/"
        },
        "id": "2f857aa6",
        "outputId": "5f8540ce-f36a-491f-be70-1af5061728e4"
      },
      "outputs": [
        {
          "output_type": "stream",
          "name": "stdout",
          "text": [
            "<class 'pandas.core.frame.DataFrame'>\n",
            "RangeIndex: 18068 entries, 0 to 18067\n",
            "Data columns (total 4 columns):\n",
            " #   Column    Non-Null Count  Dtype  \n",
            "---  ------    --------------  -----  \n",
            " 0   user_id   18068 non-null  int64  \n",
            " 1   distance  18068 non-null  float64\n",
            " 2   duration  18068 non-null  float64\n",
            " 3   date      18068 non-null  object \n",
            "dtypes: float64(2), int64(1), object(1)\n",
            "memory usage: 1.6 MB\n"
          ]
        }
      ],
      "source": [
        "rides.info(memory_usage='deep')"
      ]
    },
    {
      "cell_type": "markdown",
      "id": "c5debe19",
      "metadata": {
        "id": "c5debe19"
      },
      "source": [
        "Видно, что эта таблица уже заметно больше, чем предыдущая. Поездок в нашем датасете было совершено 18068.\n",
        "\n",
        "### Датасет subscriptions\n",
        "\n",
        "В этом датасете хранятся подписки. Посмотрим на них:"
      ]
    },
    {
      "cell_type": "code",
      "execution_count": 8,
      "id": "2dad8512",
      "metadata": {
        "scrolled": false,
        "colab": {
          "base_uri": "https://localhost:8080/",
          "height": 112
        },
        "id": "2dad8512",
        "outputId": "9fe518cc-db2d-44b0-d68f-b516e55d9a9c"
      },
      "outputs": [
        {
          "output_type": "execute_result",
          "data": {
            "text/plain": [
              "  subscription_type  minute_price  start_ride_price  subscription_fee\n",
              "0              free             8                50                 0\n",
              "1             ultra             6                 0               199"
            ],
            "text/html": [
              "\n",
              "  <div id=\"df-666a3d28-2073-4335-8efd-0e7505ed972c\" class=\"colab-df-container\">\n",
              "    <div>\n",
              "<style scoped>\n",
              "    .dataframe tbody tr th:only-of-type {\n",
              "        vertical-align: middle;\n",
              "    }\n",
              "\n",
              "    .dataframe tbody tr th {\n",
              "        vertical-align: top;\n",
              "    }\n",
              "\n",
              "    .dataframe thead th {\n",
              "        text-align: right;\n",
              "    }\n",
              "</style>\n",
              "<table border=\"1\" class=\"dataframe\">\n",
              "  <thead>\n",
              "    <tr style=\"text-align: right;\">\n",
              "      <th></th>\n",
              "      <th>subscription_type</th>\n",
              "      <th>minute_price</th>\n",
              "      <th>start_ride_price</th>\n",
              "      <th>subscription_fee</th>\n",
              "    </tr>\n",
              "  </thead>\n",
              "  <tbody>\n",
              "    <tr>\n",
              "      <th>0</th>\n",
              "      <td>free</td>\n",
              "      <td>8</td>\n",
              "      <td>50</td>\n",
              "      <td>0</td>\n",
              "    </tr>\n",
              "    <tr>\n",
              "      <th>1</th>\n",
              "      <td>ultra</td>\n",
              "      <td>6</td>\n",
              "      <td>0</td>\n",
              "      <td>199</td>\n",
              "    </tr>\n",
              "  </tbody>\n",
              "</table>\n",
              "</div>\n",
              "    <div class=\"colab-df-buttons\">\n",
              "\n",
              "  <div class=\"colab-df-container\">\n",
              "    <button class=\"colab-df-convert\" onclick=\"convertToInteractive('df-666a3d28-2073-4335-8efd-0e7505ed972c')\"\n",
              "            title=\"Convert this dataframe to an interactive table.\"\n",
              "            style=\"display:none;\">\n",
              "\n",
              "  <svg xmlns=\"http://www.w3.org/2000/svg\" height=\"24px\" viewBox=\"0 -960 960 960\">\n",
              "    <path d=\"M120-120v-720h720v720H120Zm60-500h600v-160H180v160Zm220 220h160v-160H400v160Zm0 220h160v-160H400v160ZM180-400h160v-160H180v160Zm440 0h160v-160H620v160ZM180-180h160v-160H180v160Zm440 0h160v-160H620v160Z\"/>\n",
              "  </svg>\n",
              "    </button>\n",
              "\n",
              "  <style>\n",
              "    .colab-df-container {\n",
              "      display:flex;\n",
              "      gap: 12px;\n",
              "    }\n",
              "\n",
              "    .colab-df-convert {\n",
              "      background-color: #E8F0FE;\n",
              "      border: none;\n",
              "      border-radius: 50%;\n",
              "      cursor: pointer;\n",
              "      display: none;\n",
              "      fill: #1967D2;\n",
              "      height: 32px;\n",
              "      padding: 0 0 0 0;\n",
              "      width: 32px;\n",
              "    }\n",
              "\n",
              "    .colab-df-convert:hover {\n",
              "      background-color: #E2EBFA;\n",
              "      box-shadow: 0px 1px 2px rgba(60, 64, 67, 0.3), 0px 1px 3px 1px rgba(60, 64, 67, 0.15);\n",
              "      fill: #174EA6;\n",
              "    }\n",
              "\n",
              "    .colab-df-buttons div {\n",
              "      margin-bottom: 4px;\n",
              "    }\n",
              "\n",
              "    [theme=dark] .colab-df-convert {\n",
              "      background-color: #3B4455;\n",
              "      fill: #D2E3FC;\n",
              "    }\n",
              "\n",
              "    [theme=dark] .colab-df-convert:hover {\n",
              "      background-color: #434B5C;\n",
              "      box-shadow: 0px 1px 3px 1px rgba(0, 0, 0, 0.15);\n",
              "      filter: drop-shadow(0px 1px 2px rgba(0, 0, 0, 0.3));\n",
              "      fill: #FFFFFF;\n",
              "    }\n",
              "  </style>\n",
              "\n",
              "    <script>\n",
              "      const buttonEl =\n",
              "        document.querySelector('#df-666a3d28-2073-4335-8efd-0e7505ed972c button.colab-df-convert');\n",
              "      buttonEl.style.display =\n",
              "        google.colab.kernel.accessAllowed ? 'block' : 'none';\n",
              "\n",
              "      async function convertToInteractive(key) {\n",
              "        const element = document.querySelector('#df-666a3d28-2073-4335-8efd-0e7505ed972c');\n",
              "        const dataTable =\n",
              "          await google.colab.kernel.invokeFunction('convertToInteractive',\n",
              "                                                    [key], {});\n",
              "        if (!dataTable) return;\n",
              "\n",
              "        const docLinkHtml = 'Like what you see? Visit the ' +\n",
              "          '<a target=\"_blank\" href=https://colab.research.google.com/notebooks/data_table.ipynb>data table notebook</a>'\n",
              "          + ' to learn more about interactive tables.';\n",
              "        element.innerHTML = '';\n",
              "        dataTable['output_type'] = 'display_data';\n",
              "        await google.colab.output.renderOutput(dataTable, element);\n",
              "        const docLink = document.createElement('div');\n",
              "        docLink.innerHTML = docLinkHtml;\n",
              "        element.appendChild(docLink);\n",
              "      }\n",
              "    </script>\n",
              "  </div>\n",
              "\n",
              "\n",
              "<div id=\"df-0ed93780-e64c-4eae-9014-c9fd07e2eecd\">\n",
              "  <button class=\"colab-df-quickchart\" onclick=\"quickchart('df-0ed93780-e64c-4eae-9014-c9fd07e2eecd')\"\n",
              "            title=\"Suggest charts\"\n",
              "            style=\"display:none;\">\n",
              "\n",
              "<svg xmlns=\"http://www.w3.org/2000/svg\" height=\"24px\"viewBox=\"0 0 24 24\"\n",
              "     width=\"24px\">\n",
              "    <g>\n",
              "        <path d=\"M19 3H5c-1.1 0-2 .9-2 2v14c0 1.1.9 2 2 2h14c1.1 0 2-.9 2-2V5c0-1.1-.9-2-2-2zM9 17H7v-7h2v7zm4 0h-2V7h2v10zm4 0h-2v-4h2v4z\"/>\n",
              "    </g>\n",
              "</svg>\n",
              "  </button>\n",
              "\n",
              "<style>\n",
              "  .colab-df-quickchart {\n",
              "      --bg-color: #E8F0FE;\n",
              "      --fill-color: #1967D2;\n",
              "      --hover-bg-color: #E2EBFA;\n",
              "      --hover-fill-color: #174EA6;\n",
              "      --disabled-fill-color: #AAA;\n",
              "      --disabled-bg-color: #DDD;\n",
              "  }\n",
              "\n",
              "  [theme=dark] .colab-df-quickchart {\n",
              "      --bg-color: #3B4455;\n",
              "      --fill-color: #D2E3FC;\n",
              "      --hover-bg-color: #434B5C;\n",
              "      --hover-fill-color: #FFFFFF;\n",
              "      --disabled-bg-color: #3B4455;\n",
              "      --disabled-fill-color: #666;\n",
              "  }\n",
              "\n",
              "  .colab-df-quickchart {\n",
              "    background-color: var(--bg-color);\n",
              "    border: none;\n",
              "    border-radius: 50%;\n",
              "    cursor: pointer;\n",
              "    display: none;\n",
              "    fill: var(--fill-color);\n",
              "    height: 32px;\n",
              "    padding: 0;\n",
              "    width: 32px;\n",
              "  }\n",
              "\n",
              "  .colab-df-quickchart:hover {\n",
              "    background-color: var(--hover-bg-color);\n",
              "    box-shadow: 0 1px 2px rgba(60, 64, 67, 0.3), 0 1px 3px 1px rgba(60, 64, 67, 0.15);\n",
              "    fill: var(--button-hover-fill-color);\n",
              "  }\n",
              "\n",
              "  .colab-df-quickchart-complete:disabled,\n",
              "  .colab-df-quickchart-complete:disabled:hover {\n",
              "    background-color: var(--disabled-bg-color);\n",
              "    fill: var(--disabled-fill-color);\n",
              "    box-shadow: none;\n",
              "  }\n",
              "\n",
              "  .colab-df-spinner {\n",
              "    border: 2px solid var(--fill-color);\n",
              "    border-color: transparent;\n",
              "    border-bottom-color: var(--fill-color);\n",
              "    animation:\n",
              "      spin 1s steps(1) infinite;\n",
              "  }\n",
              "\n",
              "  @keyframes spin {\n",
              "    0% {\n",
              "      border-color: transparent;\n",
              "      border-bottom-color: var(--fill-color);\n",
              "      border-left-color: var(--fill-color);\n",
              "    }\n",
              "    20% {\n",
              "      border-color: transparent;\n",
              "      border-left-color: var(--fill-color);\n",
              "      border-top-color: var(--fill-color);\n",
              "    }\n",
              "    30% {\n",
              "      border-color: transparent;\n",
              "      border-left-color: var(--fill-color);\n",
              "      border-top-color: var(--fill-color);\n",
              "      border-right-color: var(--fill-color);\n",
              "    }\n",
              "    40% {\n",
              "      border-color: transparent;\n",
              "      border-right-color: var(--fill-color);\n",
              "      border-top-color: var(--fill-color);\n",
              "    }\n",
              "    60% {\n",
              "      border-color: transparent;\n",
              "      border-right-color: var(--fill-color);\n",
              "    }\n",
              "    80% {\n",
              "      border-color: transparent;\n",
              "      border-right-color: var(--fill-color);\n",
              "      border-bottom-color: var(--fill-color);\n",
              "    }\n",
              "    90% {\n",
              "      border-color: transparent;\n",
              "      border-bottom-color: var(--fill-color);\n",
              "    }\n",
              "  }\n",
              "</style>\n",
              "\n",
              "  <script>\n",
              "    async function quickchart(key) {\n",
              "      const quickchartButtonEl =\n",
              "        document.querySelector('#' + key + ' button');\n",
              "      quickchartButtonEl.disabled = true;  // To prevent multiple clicks.\n",
              "      quickchartButtonEl.classList.add('colab-df-spinner');\n",
              "      try {\n",
              "        const charts = await google.colab.kernel.invokeFunction(\n",
              "            'suggestCharts', [key], {});\n",
              "      } catch (error) {\n",
              "        console.error('Error during call to suggestCharts:', error);\n",
              "      }\n",
              "      quickchartButtonEl.classList.remove('colab-df-spinner');\n",
              "      quickchartButtonEl.classList.add('colab-df-quickchart-complete');\n",
              "    }\n",
              "    (() => {\n",
              "      let quickchartButtonEl =\n",
              "        document.querySelector('#df-0ed93780-e64c-4eae-9014-c9fd07e2eecd button');\n",
              "      quickchartButtonEl.style.display =\n",
              "        google.colab.kernel.accessAllowed ? 'block' : 'none';\n",
              "    })();\n",
              "  </script>\n",
              "</div>\n",
              "    </div>\n",
              "  </div>\n"
            ],
            "application/vnd.google.colaboratory.intrinsic+json": {
              "type": "dataframe",
              "variable_name": "subscriptions",
              "summary": "{\n  \"name\": \"subscriptions\",\n  \"rows\": 2,\n  \"fields\": [\n    {\n      \"column\": \"subscription_type\",\n      \"properties\": {\n        \"dtype\": \"string\",\n        \"num_unique_values\": 2,\n        \"samples\": [\n          \"ultra\",\n          \"free\"\n        ],\n        \"semantic_type\": \"\",\n        \"description\": \"\"\n      }\n    },\n    {\n      \"column\": \"minute_price\",\n      \"properties\": {\n        \"dtype\": \"number\",\n        \"std\": 1,\n        \"min\": 6,\n        \"max\": 8,\n        \"num_unique_values\": 2,\n        \"samples\": [\n          6,\n          8\n        ],\n        \"semantic_type\": \"\",\n        \"description\": \"\"\n      }\n    },\n    {\n      \"column\": \"start_ride_price\",\n      \"properties\": {\n        \"dtype\": \"number\",\n        \"std\": 35,\n        \"min\": 0,\n        \"max\": 50,\n        \"num_unique_values\": 2,\n        \"samples\": [\n          0,\n          50\n        ],\n        \"semantic_type\": \"\",\n        \"description\": \"\"\n      }\n    },\n    {\n      \"column\": \"subscription_fee\",\n      \"properties\": {\n        \"dtype\": \"number\",\n        \"std\": 140,\n        \"min\": 0,\n        \"max\": 199,\n        \"num_unique_values\": 2,\n        \"samples\": [\n          199,\n          0\n        ],\n        \"semantic_type\": \"\",\n        \"description\": \"\"\n      }\n    }\n  ]\n}"
            }
          },
          "metadata": {},
          "execution_count": 8
        }
      ],
      "source": [
        "subscriptions"
      ]
    },
    {
      "cell_type": "code",
      "execution_count": 9,
      "id": "96f36867",
      "metadata": {
        "colab": {
          "base_uri": "https://localhost:8080/"
        },
        "id": "96f36867",
        "outputId": "a6987a29-51a4-4e06-c076-eaaef2e4106b"
      },
      "outputs": [
        {
          "output_type": "stream",
          "name": "stdout",
          "text": [
            "<class 'pandas.core.frame.DataFrame'>\n",
            "RangeIndex: 2 entries, 0 to 1\n",
            "Data columns (total 4 columns):\n",
            " #   Column             Non-Null Count  Dtype \n",
            "---  ------             --------------  ----- \n",
            " 0   subscription_type  2 non-null      object\n",
            " 1   minute_price       2 non-null      int64 \n",
            " 2   start_ride_price   2 non-null      int64 \n",
            " 3   subscription_fee   2 non-null      int64 \n",
            "dtypes: int64(3), object(1)\n",
            "memory usage: 192.0+ bytes\n"
          ]
        }
      ],
      "source": [
        "subscriptions.info()"
      ]
    },
    {
      "cell_type": "markdown",
      "id": "ee19f3fa",
      "metadata": {
        "id": "ee19f3fa"
      },
      "source": [
        "В этом датасете всего две строки, определяющие, что даёт каждая из двух имеющихся вариантов подписки: бесплатная и ультра.\n",
        "\n",
        "Бесплатная:\n",
        "- абонентская плата отсутствует;\n",
        "- стоимость одной минуты поездки — 8 рублей;\n",
        "- стоимость старта — 50 рублей.\n",
        "\n",
        "Ultra:\n",
        "- абонентская плата — 199 рублей в месяц;\n",
        "- стоимость одной минуты поездки — 6 рублей;\n",
        "- стоимость старта — бесплатно."
      ]
    },
    {
      "cell_type": "markdown",
      "id": "fbbf4934",
      "metadata": {
        "id": "fbbf4934"
      },
      "source": [
        "### Промежуточный вывод\n",
        "\n",
        "Имеющиеся три датасета связаны между собой: в таблице с пользователями у каждого из них указан тип подписки, описанный в таблице с подписками, а каждая поездка относится к определённому уникальному идентификационному номеру пользователя, её совершившего."
      ]
    },
    {
      "cell_type": "markdown",
      "id": "e95ebca7",
      "metadata": {
        "id": "e95ebca7"
      },
      "source": [
        "## Предобработка данных"
      ]
    },
    {
      "cell_type": "markdown",
      "id": "15dd1608",
      "metadata": {
        "id": "15dd1608"
      },
      "source": [
        "### Привести столбец с датой к типу datetime из библиотеки pandas\n",
        "\n",
        "В датасете с поездками есть столбец date, отражающий дату поездки. По умолчанию, при импорте его тип установился как object, которым в pandas обозначаются строковые данные. Приведу столбец к подходящему типу."
      ]
    },
    {
      "cell_type": "code",
      "execution_count": 10,
      "id": "ced2249b",
      "metadata": {
        "scrolled": true,
        "colab": {
          "base_uri": "https://localhost:8080/"
        },
        "id": "ced2249b",
        "outputId": "aeef7377-eebc-42a4-d6b4-60a7a30bef70"
      },
      "outputs": [
        {
          "output_type": "execute_result",
          "data": {
            "text/plain": [
              "0   2021-01-01\n",
              "Name: date, dtype: datetime64[ns]"
            ]
          },
          "metadata": {},
          "execution_count": 10
        }
      ],
      "source": [
        "rides['date'] = pd.to_datetime(rides['date'])\n",
        "rides['date'].head(1)"
      ]
    },
    {
      "cell_type": "markdown",
      "id": "846fd2bd",
      "metadata": {
        "id": "846fd2bd"
      },
      "source": [
        "Как видно, тип данных теперь datetime."
      ]
    },
    {
      "cell_type": "markdown",
      "id": "d2a85353",
      "metadata": {
        "id": "d2a85353"
      },
      "source": [
        "\n",
        "\n",
        "##### Создать столбец с месяцем\n",
        "\n",
        "Теперь использую изменённый ранее столбец date.Извлеку из него информацию о месяце и сохраню её в новый столбец month."
      ]
    },
    {
      "cell_type": "code",
      "execution_count": 11,
      "id": "a7aa2351",
      "metadata": {
        "scrolled": false,
        "colab": {
          "base_uri": "https://localhost:8080/",
          "height": 206
        },
        "id": "a7aa2351",
        "outputId": "bbcb0260-2256-429f-8bad-88ee728e703c"
      },
      "outputs": [
        {
          "output_type": "execute_result",
          "data": {
            "text/plain": [
              "   user_id     distance   duration       date  month\n",
              "0        1  4409.919140  25.599769 2021-01-01      1\n",
              "1        1  2617.592153  15.816871 2021-01-18      1\n",
              "2        1   754.159807   6.232113 2021-04-20      4\n",
              "3        1  2694.783254  18.511000 2021-08-11      8\n",
              "4        1  4028.687306  26.265803 2021-08-28      8"
            ],
            "text/html": [
              "\n",
              "  <div id=\"df-21b913b5-376d-4c0c-a779-bbe60a2422e1\" class=\"colab-df-container\">\n",
              "    <div>\n",
              "<style scoped>\n",
              "    .dataframe tbody tr th:only-of-type {\n",
              "        vertical-align: middle;\n",
              "    }\n",
              "\n",
              "    .dataframe tbody tr th {\n",
              "        vertical-align: top;\n",
              "    }\n",
              "\n",
              "    .dataframe thead th {\n",
              "        text-align: right;\n",
              "    }\n",
              "</style>\n",
              "<table border=\"1\" class=\"dataframe\">\n",
              "  <thead>\n",
              "    <tr style=\"text-align: right;\">\n",
              "      <th></th>\n",
              "      <th>user_id</th>\n",
              "      <th>distance</th>\n",
              "      <th>duration</th>\n",
              "      <th>date</th>\n",
              "      <th>month</th>\n",
              "    </tr>\n",
              "  </thead>\n",
              "  <tbody>\n",
              "    <tr>\n",
              "      <th>0</th>\n",
              "      <td>1</td>\n",
              "      <td>4409.919140</td>\n",
              "      <td>25.599769</td>\n",
              "      <td>2021-01-01</td>\n",
              "      <td>1</td>\n",
              "    </tr>\n",
              "    <tr>\n",
              "      <th>1</th>\n",
              "      <td>1</td>\n",
              "      <td>2617.592153</td>\n",
              "      <td>15.816871</td>\n",
              "      <td>2021-01-18</td>\n",
              "      <td>1</td>\n",
              "    </tr>\n",
              "    <tr>\n",
              "      <th>2</th>\n",
              "      <td>1</td>\n",
              "      <td>754.159807</td>\n",
              "      <td>6.232113</td>\n",
              "      <td>2021-04-20</td>\n",
              "      <td>4</td>\n",
              "    </tr>\n",
              "    <tr>\n",
              "      <th>3</th>\n",
              "      <td>1</td>\n",
              "      <td>2694.783254</td>\n",
              "      <td>18.511000</td>\n",
              "      <td>2021-08-11</td>\n",
              "      <td>8</td>\n",
              "    </tr>\n",
              "    <tr>\n",
              "      <th>4</th>\n",
              "      <td>1</td>\n",
              "      <td>4028.687306</td>\n",
              "      <td>26.265803</td>\n",
              "      <td>2021-08-28</td>\n",
              "      <td>8</td>\n",
              "    </tr>\n",
              "  </tbody>\n",
              "</table>\n",
              "</div>\n",
              "    <div class=\"colab-df-buttons\">\n",
              "\n",
              "  <div class=\"colab-df-container\">\n",
              "    <button class=\"colab-df-convert\" onclick=\"convertToInteractive('df-21b913b5-376d-4c0c-a779-bbe60a2422e1')\"\n",
              "            title=\"Convert this dataframe to an interactive table.\"\n",
              "            style=\"display:none;\">\n",
              "\n",
              "  <svg xmlns=\"http://www.w3.org/2000/svg\" height=\"24px\" viewBox=\"0 -960 960 960\">\n",
              "    <path d=\"M120-120v-720h720v720H120Zm60-500h600v-160H180v160Zm220 220h160v-160H400v160Zm0 220h160v-160H400v160ZM180-400h160v-160H180v160Zm440 0h160v-160H620v160ZM180-180h160v-160H180v160Zm440 0h160v-160H620v160Z\"/>\n",
              "  </svg>\n",
              "    </button>\n",
              "\n",
              "  <style>\n",
              "    .colab-df-container {\n",
              "      display:flex;\n",
              "      gap: 12px;\n",
              "    }\n",
              "\n",
              "    .colab-df-convert {\n",
              "      background-color: #E8F0FE;\n",
              "      border: none;\n",
              "      border-radius: 50%;\n",
              "      cursor: pointer;\n",
              "      display: none;\n",
              "      fill: #1967D2;\n",
              "      height: 32px;\n",
              "      padding: 0 0 0 0;\n",
              "      width: 32px;\n",
              "    }\n",
              "\n",
              "    .colab-df-convert:hover {\n",
              "      background-color: #E2EBFA;\n",
              "      box-shadow: 0px 1px 2px rgba(60, 64, 67, 0.3), 0px 1px 3px 1px rgba(60, 64, 67, 0.15);\n",
              "      fill: #174EA6;\n",
              "    }\n",
              "\n",
              "    .colab-df-buttons div {\n",
              "      margin-bottom: 4px;\n",
              "    }\n",
              "\n",
              "    [theme=dark] .colab-df-convert {\n",
              "      background-color: #3B4455;\n",
              "      fill: #D2E3FC;\n",
              "    }\n",
              "\n",
              "    [theme=dark] .colab-df-convert:hover {\n",
              "      background-color: #434B5C;\n",
              "      box-shadow: 0px 1px 3px 1px rgba(0, 0, 0, 0.15);\n",
              "      filter: drop-shadow(0px 1px 2px rgba(0, 0, 0, 0.3));\n",
              "      fill: #FFFFFF;\n",
              "    }\n",
              "  </style>\n",
              "\n",
              "    <script>\n",
              "      const buttonEl =\n",
              "        document.querySelector('#df-21b913b5-376d-4c0c-a779-bbe60a2422e1 button.colab-df-convert');\n",
              "      buttonEl.style.display =\n",
              "        google.colab.kernel.accessAllowed ? 'block' : 'none';\n",
              "\n",
              "      async function convertToInteractive(key) {\n",
              "        const element = document.querySelector('#df-21b913b5-376d-4c0c-a779-bbe60a2422e1');\n",
              "        const dataTable =\n",
              "          await google.colab.kernel.invokeFunction('convertToInteractive',\n",
              "                                                    [key], {});\n",
              "        if (!dataTable) return;\n",
              "\n",
              "        const docLinkHtml = 'Like what you see? Visit the ' +\n",
              "          '<a target=\"_blank\" href=https://colab.research.google.com/notebooks/data_table.ipynb>data table notebook</a>'\n",
              "          + ' to learn more about interactive tables.';\n",
              "        element.innerHTML = '';\n",
              "        dataTable['output_type'] = 'display_data';\n",
              "        await google.colab.output.renderOutput(dataTable, element);\n",
              "        const docLink = document.createElement('div');\n",
              "        docLink.innerHTML = docLinkHtml;\n",
              "        element.appendChild(docLink);\n",
              "      }\n",
              "    </script>\n",
              "  </div>\n",
              "\n",
              "\n",
              "<div id=\"df-afd13d39-49cf-4a46-9ae6-a1bd7a11971c\">\n",
              "  <button class=\"colab-df-quickchart\" onclick=\"quickchart('df-afd13d39-49cf-4a46-9ae6-a1bd7a11971c')\"\n",
              "            title=\"Suggest charts\"\n",
              "            style=\"display:none;\">\n",
              "\n",
              "<svg xmlns=\"http://www.w3.org/2000/svg\" height=\"24px\"viewBox=\"0 0 24 24\"\n",
              "     width=\"24px\">\n",
              "    <g>\n",
              "        <path d=\"M19 3H5c-1.1 0-2 .9-2 2v14c0 1.1.9 2 2 2h14c1.1 0 2-.9 2-2V5c0-1.1-.9-2-2-2zM9 17H7v-7h2v7zm4 0h-2V7h2v10zm4 0h-2v-4h2v4z\"/>\n",
              "    </g>\n",
              "</svg>\n",
              "  </button>\n",
              "\n",
              "<style>\n",
              "  .colab-df-quickchart {\n",
              "      --bg-color: #E8F0FE;\n",
              "      --fill-color: #1967D2;\n",
              "      --hover-bg-color: #E2EBFA;\n",
              "      --hover-fill-color: #174EA6;\n",
              "      --disabled-fill-color: #AAA;\n",
              "      --disabled-bg-color: #DDD;\n",
              "  }\n",
              "\n",
              "  [theme=dark] .colab-df-quickchart {\n",
              "      --bg-color: #3B4455;\n",
              "      --fill-color: #D2E3FC;\n",
              "      --hover-bg-color: #434B5C;\n",
              "      --hover-fill-color: #FFFFFF;\n",
              "      --disabled-bg-color: #3B4455;\n",
              "      --disabled-fill-color: #666;\n",
              "  }\n",
              "\n",
              "  .colab-df-quickchart {\n",
              "    background-color: var(--bg-color);\n",
              "    border: none;\n",
              "    border-radius: 50%;\n",
              "    cursor: pointer;\n",
              "    display: none;\n",
              "    fill: var(--fill-color);\n",
              "    height: 32px;\n",
              "    padding: 0;\n",
              "    width: 32px;\n",
              "  }\n",
              "\n",
              "  .colab-df-quickchart:hover {\n",
              "    background-color: var(--hover-bg-color);\n",
              "    box-shadow: 0 1px 2px rgba(60, 64, 67, 0.3), 0 1px 3px 1px rgba(60, 64, 67, 0.15);\n",
              "    fill: var(--button-hover-fill-color);\n",
              "  }\n",
              "\n",
              "  .colab-df-quickchart-complete:disabled,\n",
              "  .colab-df-quickchart-complete:disabled:hover {\n",
              "    background-color: var(--disabled-bg-color);\n",
              "    fill: var(--disabled-fill-color);\n",
              "    box-shadow: none;\n",
              "  }\n",
              "\n",
              "  .colab-df-spinner {\n",
              "    border: 2px solid var(--fill-color);\n",
              "    border-color: transparent;\n",
              "    border-bottom-color: var(--fill-color);\n",
              "    animation:\n",
              "      spin 1s steps(1) infinite;\n",
              "  }\n",
              "\n",
              "  @keyframes spin {\n",
              "    0% {\n",
              "      border-color: transparent;\n",
              "      border-bottom-color: var(--fill-color);\n",
              "      border-left-color: var(--fill-color);\n",
              "    }\n",
              "    20% {\n",
              "      border-color: transparent;\n",
              "      border-left-color: var(--fill-color);\n",
              "      border-top-color: var(--fill-color);\n",
              "    }\n",
              "    30% {\n",
              "      border-color: transparent;\n",
              "      border-left-color: var(--fill-color);\n",
              "      border-top-color: var(--fill-color);\n",
              "      border-right-color: var(--fill-color);\n",
              "    }\n",
              "    40% {\n",
              "      border-color: transparent;\n",
              "      border-right-color: var(--fill-color);\n",
              "      border-top-color: var(--fill-color);\n",
              "    }\n",
              "    60% {\n",
              "      border-color: transparent;\n",
              "      border-right-color: var(--fill-color);\n",
              "    }\n",
              "    80% {\n",
              "      border-color: transparent;\n",
              "      border-right-color: var(--fill-color);\n",
              "      border-bottom-color: var(--fill-color);\n",
              "    }\n",
              "    90% {\n",
              "      border-color: transparent;\n",
              "      border-bottom-color: var(--fill-color);\n",
              "    }\n",
              "  }\n",
              "</style>\n",
              "\n",
              "  <script>\n",
              "    async function quickchart(key) {\n",
              "      const quickchartButtonEl =\n",
              "        document.querySelector('#' + key + ' button');\n",
              "      quickchartButtonEl.disabled = true;  // To prevent multiple clicks.\n",
              "      quickchartButtonEl.classList.add('colab-df-spinner');\n",
              "      try {\n",
              "        const charts = await google.colab.kernel.invokeFunction(\n",
              "            'suggestCharts', [key], {});\n",
              "      } catch (error) {\n",
              "        console.error('Error during call to suggestCharts:', error);\n",
              "      }\n",
              "      quickchartButtonEl.classList.remove('colab-df-spinner');\n",
              "      quickchartButtonEl.classList.add('colab-df-quickchart-complete');\n",
              "    }\n",
              "    (() => {\n",
              "      let quickchartButtonEl =\n",
              "        document.querySelector('#df-afd13d39-49cf-4a46-9ae6-a1bd7a11971c button');\n",
              "      quickchartButtonEl.style.display =\n",
              "        google.colab.kernel.accessAllowed ? 'block' : 'none';\n",
              "    })();\n",
              "  </script>\n",
              "</div>\n",
              "    </div>\n",
              "  </div>\n"
            ],
            "application/vnd.google.colaboratory.intrinsic+json": {
              "type": "dataframe",
              "variable_name": "rides",
              "summary": "{\n  \"name\": \"rides\",\n  \"rows\": 18068,\n  \"fields\": [\n    {\n      \"column\": \"user_id\",\n      \"properties\": {\n        \"dtype\": \"number\",\n        \"std\": 434,\n        \"min\": 1,\n        \"max\": 1534,\n        \"num_unique_values\": 1534,\n        \"samples\": [\n          1365,\n          77,\n          317\n        ],\n        \"semantic_type\": \"\",\n        \"description\": \"\"\n      }\n    },\n    {\n      \"column\": \"distance\",\n      \"properties\": {\n        \"dtype\": \"number\",\n        \"std\": 1116.8312086098706,\n        \"min\": 0.855682925681208,\n        \"max\": 7211.007744598519,\n        \"num_unique_values\": 18068,\n        \"samples\": [\n          634.9375002523072,\n          3245.352628435748,\n          2838.9435824451866\n        ],\n        \"semantic_type\": \"\",\n        \"description\": \"\"\n      }\n    },\n    {\n      \"column\": \"duration\",\n      \"properties\": {\n        \"dtype\": \"number\",\n        \"std\": 6.091051375341689,\n        \"min\": 0.5,\n        \"max\": 40.82396261922424,\n        \"num_unique_values\": 17974,\n        \"samples\": [\n          21.697919865043986,\n          13.465792601074444,\n          27.458957553479525\n        ],\n        \"semantic_type\": \"\",\n        \"description\": \"\"\n      }\n    },\n    {\n      \"column\": \"date\",\n      \"properties\": {\n        \"dtype\": \"date\",\n        \"min\": \"2021-01-01 00:00:00\",\n        \"max\": \"2021-12-30 00:00:00\",\n        \"num_unique_values\": 364,\n        \"samples\": [\n          \"2021-12-24 00:00:00\",\n          \"2021-09-04 00:00:00\",\n          \"2021-04-08 00:00:00\"\n        ],\n        \"semantic_type\": \"\",\n        \"description\": \"\"\n      }\n    },\n    {\n      \"column\": \"month\",\n      \"properties\": {\n        \"dtype\": \"number\",\n        \"std\": 3,\n        \"min\": 1,\n        \"max\": 12,\n        \"num_unique_values\": 12,\n        \"samples\": [\n          5,\n          2,\n          1\n        ],\n        \"semantic_type\": \"\",\n        \"description\": \"\"\n      }\n    }\n  ]\n}"
            }
          },
          "metadata": {},
          "execution_count": 11
        }
      ],
      "source": [
        "rides['month'] = rides['date'].dt.month\n",
        "rides.head()"
      ]
    },
    {
      "cell_type": "markdown",
      "id": "070e5f0b",
      "metadata": {
        "id": "070e5f0b"
      },
      "source": [
        "Как видим, номер месяца теперь отображается в виде отдельного столбца. Он нам потребуется в дальнейшем анализе.\n"
      ]
    },
    {
      "cell_type": "markdown",
      "id": "689504f4",
      "metadata": {
        "id": "689504f4"
      },
      "source": [
        "\n",
        "### Обработка пропущенных значений\n",
        "\n",
        "Проверю, есть ли в наших данных пропуски:"
      ]
    },
    {
      "cell_type": "code",
      "execution_count": 12,
      "id": "9e3bc15e",
      "metadata": {
        "scrolled": true,
        "colab": {
          "base_uri": "https://localhost:8080/"
        },
        "id": "9e3bc15e",
        "outputId": "12526c49-6e48-4ddf-8f6a-729a8911aedc"
      },
      "outputs": [
        {
          "output_type": "execute_result",
          "data": {
            "text/plain": [
              "user_id              0\n",
              "name                 0\n",
              "age                  0\n",
              "city                 0\n",
              "subscription_type    0\n",
              "dtype: int64"
            ]
          },
          "metadata": {},
          "execution_count": 12
        }
      ],
      "source": [
        "users.isna().sum()"
      ]
    },
    {
      "cell_type": "code",
      "execution_count": 13,
      "id": "cc84d398",
      "metadata": {
        "colab": {
          "base_uri": "https://localhost:8080/"
        },
        "id": "cc84d398",
        "outputId": "1d8947c6-cca3-4e8f-a1f5-50d9754dffb4"
      },
      "outputs": [
        {
          "output_type": "execute_result",
          "data": {
            "text/plain": [
              "user_id     0\n",
              "distance    0\n",
              "duration    0\n",
              "date        0\n",
              "month       0\n",
              "dtype: int64"
            ]
          },
          "metadata": {},
          "execution_count": 13
        }
      ],
      "source": [
        "rides.isna().sum()"
      ]
    },
    {
      "cell_type": "markdown",
      "id": "9a73c6bb",
      "metadata": {
        "id": "9a73c6bb"
      },
      "source": [
        "Как ни странно, пропущенных значений в данных не обнаружено. Подписки в проверке не нуждаются, так как в них всего две строки."
      ]
    },
    {
      "cell_type": "markdown",
      "id": "e3a0db38",
      "metadata": {
        "id": "e3a0db38"
      },
      "source": [
        "### Обработка дубликатов\n",
        "\n",
        "В данном подразделе я буду искать дубликаты и устранять их, если найду. Начнём с подсчёта явных дубликатов."
      ]
    },
    {
      "cell_type": "code",
      "execution_count": 14,
      "id": "df48c357",
      "metadata": {
        "colab": {
          "base_uri": "https://localhost:8080/"
        },
        "id": "df48c357",
        "outputId": "cb5a95ac-e2b2-4466-8631-be14da516223"
      },
      "outputs": [
        {
          "output_type": "execute_result",
          "data": {
            "text/plain": [
              "31"
            ]
          },
          "metadata": {},
          "execution_count": 14
        }
      ],
      "source": [
        "users.duplicated().sum() #Пользователи"
      ]
    },
    {
      "cell_type": "code",
      "execution_count": 15,
      "id": "aa1b4cef",
      "metadata": {
        "colab": {
          "base_uri": "https://localhost:8080/"
        },
        "id": "aa1b4cef",
        "outputId": "8b77c68a-ca2d-47c0-ae1c-d6ba92e6b8de"
      },
      "outputs": [
        {
          "output_type": "execute_result",
          "data": {
            "text/plain": [
              "0"
            ]
          },
          "metadata": {},
          "execution_count": 15
        }
      ],
      "source": [
        "rides.duplicated().sum() #Поездки"
      ]
    },
    {
      "cell_type": "markdown",
      "id": "562c9117",
      "metadata": {
        "id": "562c9117"
      },
      "source": [
        "Как видим, у нас есть дубликаты в датасете с пользователями. В поездках их не оказалось, что не может не радовать.\n",
        "Удалим явные дубликаты из столбца с пользователями."
      ]
    },
    {
      "cell_type": "code",
      "execution_count": 16,
      "id": "5f36930a",
      "metadata": {
        "scrolled": true,
        "colab": {
          "base_uri": "https://localhost:8080/"
        },
        "id": "5f36930a",
        "outputId": "470486a5-9f13-4ebf-d0c4-c4e7d29f73c2"
      },
      "outputs": [
        {
          "output_type": "execute_result",
          "data": {
            "text/plain": [
              "0"
            ]
          },
          "metadata": {},
          "execution_count": 16
        }
      ],
      "source": [
        "users = users.drop_duplicates()\n",
        "users.duplicated().sum()"
      ]
    },
    {
      "cell_type": "markdown",
      "id": "6c238037",
      "metadata": {
        "id": "6c238037"
      },
      "source": [
        "Наличие неявных дубликатов мы проверить не можем, так как люди с одним и тем же именем, возрастом и городом не исключены."
      ]
    },
    {
      "cell_type": "markdown",
      "id": "3709394c",
      "metadata": {
        "id": "3709394c"
      },
      "source": [
        "##### Промежуточный вывод\n",
        "\n",
        "В разделе предобработки данных я:\n",
        "- Сменила тип столбца с датой поездки с object на datetime;\n",
        "- Добавила новый столбец с  месяцем поездки;\n",
        "- Убедилась в отсутствии пропусков и удалила дубликаты."
      ]
    },
    {
      "cell_type": "markdown",
      "id": "212593c7",
      "metadata": {
        "id": "212593c7"
      },
      "source": [
        "## Исследовательский анализ данных"
      ]
    },
    {
      "cell_type": "markdown",
      "id": "9f9de048",
      "metadata": {
        "id": "9f9de048"
      },
      "source": [
        "В данном разделе я рассмотрю предложенные параметры и визуализирую их для наглядности.\n",
        "\n",
        "### Частота встречаемости городов\n",
        "\n",
        "Чтобы проанализировать популярность городов, создам сводную таблицу, в которой будут подсчитаны все города."
      ]
    },
    {
      "cell_type": "code",
      "execution_count": 17,
      "id": "9658fabb",
      "metadata": {
        "colab": {
          "base_uri": "https://localhost:8080/",
          "height": 792
        },
        "id": "9658fabb",
        "outputId": "add5bf75-c192-4afa-aad0-f14e1ef6c3e2"
      },
      "outputs": [
        {
          "output_type": "execute_result",
          "data": {
            "text/plain": [
              "                user_id\n",
              "city                   \n",
              "Пятигорск           219\n",
              "Екатеринбург        204\n",
              "Ростов-на-Дону      198\n",
              "Краснодар           193\n",
              "Сочи                189\n",
              "Омск                183\n",
              "Тюмень              180\n",
              "Москва              168"
            ],
            "text/html": [
              "\n",
              "  <div id=\"df-574c8a65-d3b4-4d4f-b851-c48f38228a1c\" class=\"colab-df-container\">\n",
              "    <div>\n",
              "<style scoped>\n",
              "    .dataframe tbody tr th:only-of-type {\n",
              "        vertical-align: middle;\n",
              "    }\n",
              "\n",
              "    .dataframe tbody tr th {\n",
              "        vertical-align: top;\n",
              "    }\n",
              "\n",
              "    .dataframe thead th {\n",
              "        text-align: right;\n",
              "    }\n",
              "</style>\n",
              "<table border=\"1\" class=\"dataframe\">\n",
              "  <thead>\n",
              "    <tr style=\"text-align: right;\">\n",
              "      <th></th>\n",
              "      <th>user_id</th>\n",
              "    </tr>\n",
              "    <tr>\n",
              "      <th>city</th>\n",
              "      <th></th>\n",
              "    </tr>\n",
              "  </thead>\n",
              "  <tbody>\n",
              "    <tr>\n",
              "      <th>Пятигорск</th>\n",
              "      <td>219</td>\n",
              "    </tr>\n",
              "    <tr>\n",
              "      <th>Екатеринбург</th>\n",
              "      <td>204</td>\n",
              "    </tr>\n",
              "    <tr>\n",
              "      <th>Ростов-на-Дону</th>\n",
              "      <td>198</td>\n",
              "    </tr>\n",
              "    <tr>\n",
              "      <th>Краснодар</th>\n",
              "      <td>193</td>\n",
              "    </tr>\n",
              "    <tr>\n",
              "      <th>Сочи</th>\n",
              "      <td>189</td>\n",
              "    </tr>\n",
              "    <tr>\n",
              "      <th>Омск</th>\n",
              "      <td>183</td>\n",
              "    </tr>\n",
              "    <tr>\n",
              "      <th>Тюмень</th>\n",
              "      <td>180</td>\n",
              "    </tr>\n",
              "    <tr>\n",
              "      <th>Москва</th>\n",
              "      <td>168</td>\n",
              "    </tr>\n",
              "  </tbody>\n",
              "</table>\n",
              "</div>\n",
              "    <div class=\"colab-df-buttons\">\n",
              "\n",
              "  <div class=\"colab-df-container\">\n",
              "    <button class=\"colab-df-convert\" onclick=\"convertToInteractive('df-574c8a65-d3b4-4d4f-b851-c48f38228a1c')\"\n",
              "            title=\"Convert this dataframe to an interactive table.\"\n",
              "            style=\"display:none;\">\n",
              "\n",
              "  <svg xmlns=\"http://www.w3.org/2000/svg\" height=\"24px\" viewBox=\"0 -960 960 960\">\n",
              "    <path d=\"M120-120v-720h720v720H120Zm60-500h600v-160H180v160Zm220 220h160v-160H400v160Zm0 220h160v-160H400v160ZM180-400h160v-160H180v160Zm440 0h160v-160H620v160ZM180-180h160v-160H180v160Zm440 0h160v-160H620v160Z\"/>\n",
              "  </svg>\n",
              "    </button>\n",
              "\n",
              "  <style>\n",
              "    .colab-df-container {\n",
              "      display:flex;\n",
              "      gap: 12px;\n",
              "    }\n",
              "\n",
              "    .colab-df-convert {\n",
              "      background-color: #E8F0FE;\n",
              "      border: none;\n",
              "      border-radius: 50%;\n",
              "      cursor: pointer;\n",
              "      display: none;\n",
              "      fill: #1967D2;\n",
              "      height: 32px;\n",
              "      padding: 0 0 0 0;\n",
              "      width: 32px;\n",
              "    }\n",
              "\n",
              "    .colab-df-convert:hover {\n",
              "      background-color: #E2EBFA;\n",
              "      box-shadow: 0px 1px 2px rgba(60, 64, 67, 0.3), 0px 1px 3px 1px rgba(60, 64, 67, 0.15);\n",
              "      fill: #174EA6;\n",
              "    }\n",
              "\n",
              "    .colab-df-buttons div {\n",
              "      margin-bottom: 4px;\n",
              "    }\n",
              "\n",
              "    [theme=dark] .colab-df-convert {\n",
              "      background-color: #3B4455;\n",
              "      fill: #D2E3FC;\n",
              "    }\n",
              "\n",
              "    [theme=dark] .colab-df-convert:hover {\n",
              "      background-color: #434B5C;\n",
              "      box-shadow: 0px 1px 3px 1px rgba(0, 0, 0, 0.15);\n",
              "      filter: drop-shadow(0px 1px 2px rgba(0, 0, 0, 0.3));\n",
              "      fill: #FFFFFF;\n",
              "    }\n",
              "  </style>\n",
              "\n",
              "    <script>\n",
              "      const buttonEl =\n",
              "        document.querySelector('#df-574c8a65-d3b4-4d4f-b851-c48f38228a1c button.colab-df-convert');\n",
              "      buttonEl.style.display =\n",
              "        google.colab.kernel.accessAllowed ? 'block' : 'none';\n",
              "\n",
              "      async function convertToInteractive(key) {\n",
              "        const element = document.querySelector('#df-574c8a65-d3b4-4d4f-b851-c48f38228a1c');\n",
              "        const dataTable =\n",
              "          await google.colab.kernel.invokeFunction('convertToInteractive',\n",
              "                                                    [key], {});\n",
              "        if (!dataTable) return;\n",
              "\n",
              "        const docLinkHtml = 'Like what you see? Visit the ' +\n",
              "          '<a target=\"_blank\" href=https://colab.research.google.com/notebooks/data_table.ipynb>data table notebook</a>'\n",
              "          + ' to learn more about interactive tables.';\n",
              "        element.innerHTML = '';\n",
              "        dataTable['output_type'] = 'display_data';\n",
              "        await google.colab.output.renderOutput(dataTable, element);\n",
              "        const docLink = document.createElement('div');\n",
              "        docLink.innerHTML = docLinkHtml;\n",
              "        element.appendChild(docLink);\n",
              "      }\n",
              "    </script>\n",
              "  </div>\n",
              "\n",
              "\n",
              "<div id=\"df-745519ab-97b0-45e5-a976-c06ce88864c2\">\n",
              "  <button class=\"colab-df-quickchart\" onclick=\"quickchart('df-745519ab-97b0-45e5-a976-c06ce88864c2')\"\n",
              "            title=\"Suggest charts\"\n",
              "            style=\"display:none;\">\n",
              "\n",
              "<svg xmlns=\"http://www.w3.org/2000/svg\" height=\"24px\"viewBox=\"0 0 24 24\"\n",
              "     width=\"24px\">\n",
              "    <g>\n",
              "        <path d=\"M19 3H5c-1.1 0-2 .9-2 2v14c0 1.1.9 2 2 2h14c1.1 0 2-.9 2-2V5c0-1.1-.9-2-2-2zM9 17H7v-7h2v7zm4 0h-2V7h2v10zm4 0h-2v-4h2v4z\"/>\n",
              "    </g>\n",
              "</svg>\n",
              "  </button>\n",
              "\n",
              "<style>\n",
              "  .colab-df-quickchart {\n",
              "      --bg-color: #E8F0FE;\n",
              "      --fill-color: #1967D2;\n",
              "      --hover-bg-color: #E2EBFA;\n",
              "      --hover-fill-color: #174EA6;\n",
              "      --disabled-fill-color: #AAA;\n",
              "      --disabled-bg-color: #DDD;\n",
              "  }\n",
              "\n",
              "  [theme=dark] .colab-df-quickchart {\n",
              "      --bg-color: #3B4455;\n",
              "      --fill-color: #D2E3FC;\n",
              "      --hover-bg-color: #434B5C;\n",
              "      --hover-fill-color: #FFFFFF;\n",
              "      --disabled-bg-color: #3B4455;\n",
              "      --disabled-fill-color: #666;\n",
              "  }\n",
              "\n",
              "  .colab-df-quickchart {\n",
              "    background-color: var(--bg-color);\n",
              "    border: none;\n",
              "    border-radius: 50%;\n",
              "    cursor: pointer;\n",
              "    display: none;\n",
              "    fill: var(--fill-color);\n",
              "    height: 32px;\n",
              "    padding: 0;\n",
              "    width: 32px;\n",
              "  }\n",
              "\n",
              "  .colab-df-quickchart:hover {\n",
              "    background-color: var(--hover-bg-color);\n",
              "    box-shadow: 0 1px 2px rgba(60, 64, 67, 0.3), 0 1px 3px 1px rgba(60, 64, 67, 0.15);\n",
              "    fill: var(--button-hover-fill-color);\n",
              "  }\n",
              "\n",
              "  .colab-df-quickchart-complete:disabled,\n",
              "  .colab-df-quickchart-complete:disabled:hover {\n",
              "    background-color: var(--disabled-bg-color);\n",
              "    fill: var(--disabled-fill-color);\n",
              "    box-shadow: none;\n",
              "  }\n",
              "\n",
              "  .colab-df-spinner {\n",
              "    border: 2px solid var(--fill-color);\n",
              "    border-color: transparent;\n",
              "    border-bottom-color: var(--fill-color);\n",
              "    animation:\n",
              "      spin 1s steps(1) infinite;\n",
              "  }\n",
              "\n",
              "  @keyframes spin {\n",
              "    0% {\n",
              "      border-color: transparent;\n",
              "      border-bottom-color: var(--fill-color);\n",
              "      border-left-color: var(--fill-color);\n",
              "    }\n",
              "    20% {\n",
              "      border-color: transparent;\n",
              "      border-left-color: var(--fill-color);\n",
              "      border-top-color: var(--fill-color);\n",
              "    }\n",
              "    30% {\n",
              "      border-color: transparent;\n",
              "      border-left-color: var(--fill-color);\n",
              "      border-top-color: var(--fill-color);\n",
              "      border-right-color: var(--fill-color);\n",
              "    }\n",
              "    40% {\n",
              "      border-color: transparent;\n",
              "      border-right-color: var(--fill-color);\n",
              "      border-top-color: var(--fill-color);\n",
              "    }\n",
              "    60% {\n",
              "      border-color: transparent;\n",
              "      border-right-color: var(--fill-color);\n",
              "    }\n",
              "    80% {\n",
              "      border-color: transparent;\n",
              "      border-right-color: var(--fill-color);\n",
              "      border-bottom-color: var(--fill-color);\n",
              "    }\n",
              "    90% {\n",
              "      border-color: transparent;\n",
              "      border-bottom-color: var(--fill-color);\n",
              "    }\n",
              "  }\n",
              "</style>\n",
              "\n",
              "  <script>\n",
              "    async function quickchart(key) {\n",
              "      const quickchartButtonEl =\n",
              "        document.querySelector('#' + key + ' button');\n",
              "      quickchartButtonEl.disabled = true;  // To prevent multiple clicks.\n",
              "      quickchartButtonEl.classList.add('colab-df-spinner');\n",
              "      try {\n",
              "        const charts = await google.colab.kernel.invokeFunction(\n",
              "            'suggestCharts', [key], {});\n",
              "      } catch (error) {\n",
              "        console.error('Error during call to suggestCharts:', error);\n",
              "      }\n",
              "      quickchartButtonEl.classList.remove('colab-df-spinner');\n",
              "      quickchartButtonEl.classList.add('colab-df-quickchart-complete');\n",
              "    }\n",
              "    (() => {\n",
              "      let quickchartButtonEl =\n",
              "        document.querySelector('#df-745519ab-97b0-45e5-a976-c06ce88864c2 button');\n",
              "      quickchartButtonEl.style.display =\n",
              "        google.colab.kernel.accessAllowed ? 'block' : 'none';\n",
              "    })();\n",
              "  </script>\n",
              "</div>\n",
              "    </div>\n",
              "  </div>\n"
            ],
            "application/vnd.google.colaboratory.intrinsic+json": {
              "type": "dataframe",
              "summary": "{\n  \"name\": \"city_pivot\",\n  \"rows\": 8,\n  \"fields\": [\n    {\n      \"column\": \"user_id\",\n      \"properties\": {\n        \"dtype\": \"number\",\n        \"std\": 15,\n        \"min\": 168,\n        \"max\": 219,\n        \"num_unique_values\": 8,\n        \"samples\": [\n          204,\n          183,\n          219\n        ],\n        \"semantic_type\": \"\",\n        \"description\": \"\"\n      }\n    }\n  ]\n}"
            }
          },
          "metadata": {},
          "execution_count": 17
        },
        {
          "output_type": "display_data",
          "data": {
            "text/plain": [
              "<Figure size 640x480 with 1 Axes>"
            ],
            "image/png": "[encoded data removed]"
          },
          "metadata": {}
        }
      ],
      "source": [
        "city_pivot = users.pivot_table(index='city', values='user_id', aggfunc='count')\n",
        "city_pivot.sort_values(by='user_id').plot(kind='barh', grid=True, title='Число пользователей в каждом городе', xlabel='Названия городов');\n",
        "city_pivot.sort_values(by='user_id', ascending=False)"
      ]
    },
    {
      "cell_type": "markdown",
      "id": "b812b3ec",
      "metadata": {
        "id": "b812b3ec"
      },
      "source": [
        "Как видно по таблице и графику, в нашей выборке больше всего пользователей находятся в Пятигорске (219 человек) и меньше всего — в Москве (168 человек)."
      ]
    },
    {
      "cell_type": "markdown",
      "id": "5ed94dee",
      "metadata": {
        "id": "5ed94dee"
      },
      "source": [
        "\n",
        "\n",
        "### Соотношение пользователей с подпиской и без подписки\n",
        "\n",
        "Создам сводную таблицу из users по параметру subscription_type — тип подписки — и визуализирую её."
      ]
    },
    {
      "cell_type": "code",
      "execution_count": 18,
      "id": "557a6e43",
      "metadata": {
        "scrolled": false,
        "colab": {
          "base_uri": "https://localhost:8080/",
          "height": 556
        },
        "id": "557a6e43",
        "outputId": "f4c6c1a6-0cac-4cbe-f60f-fb1b780f6193"
      },
      "outputs": [
        {
          "output_type": "execute_result",
          "data": {
            "text/plain": [
              "                   count_of_users\n",
              "subscription_type                \n",
              "free                          835\n",
              "ultra                         699"
            ],
            "text/html": [
              "\n",
              "  <div id=\"df-90f2c419-2a92-4572-91c1-18f23e64085f\" class=\"colab-df-container\">\n",
              "    <div>\n",
              "<style scoped>\n",
              "    .dataframe tbody tr th:only-of-type {\n",
              "        vertical-align: middle;\n",
              "    }\n",
              "\n",
              "    .dataframe tbody tr th {\n",
              "        vertical-align: top;\n",
              "    }\n",
              "\n",
              "    .dataframe thead th {\n",
              "        text-align: right;\n",
              "    }\n",
              "</style>\n",
              "<table border=\"1\" class=\"dataframe\">\n",
              "  <thead>\n",
              "    <tr style=\"text-align: right;\">\n",
              "      <th></th>\n",
              "      <th>count_of_users</th>\n",
              "    </tr>\n",
              "    <tr>\n",
              "      <th>subscription_type</th>\n",
              "      <th></th>\n",
              "    </tr>\n",
              "  </thead>\n",
              "  <tbody>\n",
              "    <tr>\n",
              "      <th>free</th>\n",
              "      <td>835</td>\n",
              "    </tr>\n",
              "    <tr>\n",
              "      <th>ultra</th>\n",
              "      <td>699</td>\n",
              "    </tr>\n",
              "  </tbody>\n",
              "</table>\n",
              "</div>\n",
              "    <div class=\"colab-df-buttons\">\n",
              "\n",
              "  <div class=\"colab-df-container\">\n",
              "    <button class=\"colab-df-convert\" onclick=\"convertToInteractive('df-90f2c419-2a92-4572-91c1-18f23e64085f')\"\n",
              "            title=\"Convert this dataframe to an interactive table.\"\n",
              "            style=\"display:none;\">\n",
              "\n",
              "  <svg xmlns=\"http://www.w3.org/2000/svg\" height=\"24px\" viewBox=\"0 -960 960 960\">\n",
              "    <path d=\"M120-120v-720h720v720H120Zm60-500h600v-160H180v160Zm220 220h160v-160H400v160Zm0 220h160v-160H400v160ZM180-400h160v-160H180v160Zm440 0h160v-160H620v160ZM180-180h160v-160H180v160Zm440 0h160v-160H620v160Z\"/>\n",
              "  </svg>\n",
              "    </button>\n",
              "\n",
              "  <style>\n",
              "    .colab-df-container {\n",
              "      display:flex;\n",
              "      gap: 12px;\n",
              "    }\n",
              "\n",
              "    .colab-df-convert {\n",
              "      background-color: #E8F0FE;\n",
              "      border: none;\n",
              "      border-radius: 50%;\n",
              "      cursor: pointer;\n",
              "      display: none;\n",
              "      fill: #1967D2;\n",
              "      height: 32px;\n",
              "      padding: 0 0 0 0;\n",
              "      width: 32px;\n",
              "    }\n",
              "\n",
              "    .colab-df-convert:hover {\n",
              "      background-color: #E2EBFA;\n",
              "      box-shadow: 0px 1px 2px rgba(60, 64, 67, 0.3), 0px 1px 3px 1px rgba(60, 64, 67, 0.15);\n",
              "      fill: #174EA6;\n",
              "    }\n",
              "\n",
              "    .colab-df-buttons div {\n",
              "      margin-bottom: 4px;\n",
              "    }\n",
              "\n",
              "    [theme=dark] .colab-df-convert {\n",
              "      background-color: #3B4455;\n",
              "      fill: #D2E3FC;\n",
              "    }\n",
              "\n",
              "    [theme=dark] .colab-df-convert:hover {\n",
              "      background-color: #434B5C;\n",
              "      box-shadow: 0px 1px 3px 1px rgba(0, 0, 0, 0.15);\n",
              "      filter: drop-shadow(0px 1px 2px rgba(0, 0, 0, 0.3));\n",
              "      fill: #FFFFFF;\n",
              "    }\n",
              "  </style>\n",
              "\n",
              "    <script>\n",
              "      const buttonEl =\n",
              "        document.querySelector('#df-90f2c419-2a92-4572-91c1-18f23e64085f button.colab-df-convert');\n",
              "      buttonEl.style.display =\n",
              "        google.colab.kernel.accessAllowed ? 'block' : 'none';\n",
              "\n",
              "      async function convertToInteractive(key) {\n",
              "        const element = document.querySelector('#df-90f2c419-2a92-4572-91c1-18f23e64085f');\n",
              "        const dataTable =\n",
              "          await google.colab.kernel.invokeFunction('convertToInteractive',\n",
              "                                                    [key], {});\n",
              "        if (!dataTable) return;\n",
              "\n",
              "        const docLinkHtml = 'Like what you see? Visit the ' +\n",
              "          '<a target=\"_blank\" href=https://colab.research.google.com/notebooks/data_table.ipynb>data table notebook</a>'\n",
              "          + ' to learn more about interactive tables.';\n",
              "        element.innerHTML = '';\n",
              "        dataTable['output_type'] = 'display_data';\n",
              "        await google.colab.output.renderOutput(dataTable, element);\n",
              "        const docLink = document.createElement('div');\n",
              "        docLink.innerHTML = docLinkHtml;\n",
              "        element.appendChild(docLink);\n",
              "      }\n",
              "    </script>\n",
              "  </div>\n",
              "\n",
              "\n",
              "<div id=\"df-738e85a0-258c-443f-8590-c83cc55a9917\">\n",
              "  <button class=\"colab-df-quickchart\" onclick=\"quickchart('df-738e85a0-258c-443f-8590-c83cc55a9917')\"\n",
              "            title=\"Suggest charts\"\n",
              "            style=\"display:none;\">\n",
              "\n",
              "<svg xmlns=\"http://www.w3.org/2000/svg\" height=\"24px\"viewBox=\"0 0 24 24\"\n",
              "     width=\"24px\">\n",
              "    <g>\n",
              "        <path d=\"M19 3H5c-1.1 0-2 .9-2 2v14c0 1.1.9 2 2 2h14c1.1 0 2-.9 2-2V5c0-1.1-.9-2-2-2zM9 17H7v-7h2v7zm4 0h-2V7h2v10zm4 0h-2v-4h2v4z\"/>\n",
              "    </g>\n",
              "</svg>\n",
              "  </button>\n",
              "\n",
              "<style>\n",
              "  .colab-df-quickchart {\n",
              "      --bg-color: #E8F0FE;\n",
              "      --fill-color: #1967D2;\n",
              "      --hover-bg-color: #E2EBFA;\n",
              "      --hover-fill-color: #174EA6;\n",
              "      --disabled-fill-color: #AAA;\n",
              "      --disabled-bg-color: #DDD;\n",
              "  }\n",
              "\n",
              "  [theme=dark] .colab-df-quickchart {\n",
              "      --bg-color: #3B4455;\n",
              "      --fill-color: #D2E3FC;\n",
              "      --hover-bg-color: #434B5C;\n",
              "      --hover-fill-color: #FFFFFF;\n",
              "      --disabled-bg-color: #3B4455;\n",
              "      --disabled-fill-color: #666;\n",
              "  }\n",
              "\n",
              "  .colab-df-quickchart {\n",
              "    background-color: var(--bg-color);\n",
              "    border: none;\n",
              "    border-radius: 50%;\n",
              "    cursor: pointer;\n",
              "    display: none;\n",
              "    fill: var(--fill-color);\n",
              "    height: 32px;\n",
              "    padding: 0;\n",
              "    width: 32px;\n",
              "  }\n",
              "\n",
              "  .colab-df-quickchart:hover {\n",
              "    background-color: var(--hover-bg-color);\n",
              "    box-shadow: 0 1px 2px rgba(60, 64, 67, 0.3), 0 1px 3px 1px rgba(60, 64, 67, 0.15);\n",
              "    fill: var(--button-hover-fill-color);\n",
              "  }\n",
              "\n",
              "  .colab-df-quickchart-complete:disabled,\n",
              "  .colab-df-quickchart-complete:disabled:hover {\n",
              "    background-color: var(--disabled-bg-color);\n",
              "    fill: var(--disabled-fill-color);\n",
              "    box-shadow: none;\n",
              "  }\n",
              "\n",
              "  .colab-df-spinner {\n",
              "    border: 2px solid var(--fill-color);\n",
              "    border-color: transparent;\n",
              "    border-bottom-color: var(--fill-color);\n",
              "    animation:\n",
              "      spin 1s steps(1) infinite;\n",
              "  }\n",
              "\n",
              "  @keyframes spin {\n",
              "    0% {\n",
              "      border-color: transparent;\n",
              "      border-bottom-color: var(--fill-color);\n",
              "      border-left-color: var(--fill-color);\n",
              "    }\n",
              "    20% {\n",
              "      border-color: transparent;\n",
              "      border-left-color: var(--fill-color);\n",
              "      border-top-color: var(--fill-color);\n",
              "    }\n",
              "    30% {\n",
              "      border-color: transparent;\n",
              "      border-left-color: var(--fill-color);\n",
              "      border-top-color: var(--fill-color);\n",
              "      border-right-color: var(--fill-color);\n",
              "    }\n",
              "    40% {\n",
              "      border-color: transparent;\n",
              "      border-right-color: var(--fill-color);\n",
              "      border-top-color: var(--fill-color);\n",
              "    }\n",
              "    60% {\n",
              "      border-color: transparent;\n",
              "      border-right-color: var(--fill-color);\n",
              "    }\n",
              "    80% {\n",
              "      border-color: transparent;\n",
              "      border-right-color: var(--fill-color);\n",
              "      border-bottom-color: var(--fill-color);\n",
              "    }\n",
              "    90% {\n",
              "      border-color: transparent;\n",
              "      border-bottom-color: var(--fill-color);\n",
              "    }\n",
              "  }\n",
              "</style>\n",
              "\n",
              "  <script>\n",
              "    async function quickchart(key) {\n",
              "      const quickchartButtonEl =\n",
              "        document.querySelector('#' + key + ' button');\n",
              "      quickchartButtonEl.disabled = true;  // To prevent multiple clicks.\n",
              "      quickchartButtonEl.classList.add('colab-df-spinner');\n",
              "      try {\n",
              "        const charts = await google.colab.kernel.invokeFunction(\n",
              "            'suggestCharts', [key], {});\n",
              "      } catch (error) {\n",
              "        console.error('Error during call to suggestCharts:', error);\n",
              "      }\n",
              "      quickchartButtonEl.classList.remove('colab-df-spinner');\n",
              "      quickchartButtonEl.classList.add('colab-df-quickchart-complete');\n",
              "    }\n",
              "    (() => {\n",
              "      let quickchartButtonEl =\n",
              "        document.querySelector('#df-738e85a0-258c-443f-8590-c83cc55a9917 button');\n",
              "      quickchartButtonEl.style.display =\n",
              "        google.colab.kernel.accessAllowed ? 'block' : 'none';\n",
              "    })();\n",
              "  </script>\n",
              "</div>\n",
              "    </div>\n",
              "  </div>\n"
            ],
            "application/vnd.google.colaboratory.intrinsic+json": {
              "type": "dataframe",
              "variable_name": "subs_pivot",
              "summary": "{\n  \"name\": \"subs_pivot\",\n  \"rows\": 2,\n  \"fields\": [\n    {\n      \"column\": \"count_of_users\",\n      \"properties\": {\n        \"dtype\": \"number\",\n        \"std\": 96,\n        \"min\": 699,\n        \"max\": 835,\n        \"num_unique_values\": 2,\n        \"samples\": [\n          699,\n          835\n        ],\n        \"semantic_type\": \"\",\n        \"description\": \"\"\n      }\n    }\n  ]\n}"
            }
          },
          "metadata": {},
          "execution_count": 18
        },
        {
          "output_type": "display_data",
          "data": {
            "text/plain": [
              "<Figure size 640x480 with 1 Axes>"
            ],
            "image/png": "[encoded data removed]"
          },
          "metadata": {}
        }
      ],
      "source": [
        "subs_pivot = users.pivot_table(index='subscription_type', values='user_id', aggfunc='count')\n",
        "subs_pivot.columns = ['count_of_users']\n",
        "subs_pivot.plot(y='count_of_users', kind='pie', grid=True, title='Соотношение пользователей с подпиской Ultra и без');\n",
        "subs_pivot"
      ]
    },
    {
      "cell_type": "markdown",
      "id": "526e754a",
      "metadata": {
        "id": "526e754a"
      },
      "source": [
        "По графику видно, что пользователей без приобретённой подписки \"Ultra\" не намного больше, чем с ней.\n"
      ]
    },
    {
      "cell_type": "markdown",
      "id": "8ffb1d81",
      "metadata": {
        "id": "8ffb1d81"
      },
      "source": [
        "\n",
        "### Возраст пользователей\n",
        "\n",
        "Построю гистограмму чтобы оценить разброс пользователей по возрасту, а также выведу среднее, минимальное и максимальное значения."
      ]
    },
    {
      "cell_type": "code",
      "execution_count": 19,
      "id": "d70d4fd1",
      "metadata": {
        "colab": {
          "base_uri": "https://localhost:8080/",
          "height": 571
        },
        "id": "d70d4fd1",
        "outputId": "a4fec0ca-27c4-4a4f-e85a-6b7392026da0"
      },
      "outputs": [
        {
          "output_type": "stream",
          "name": "stdout",
          "text": [
            "Среднее = 24.903520208604956 \n",
            "Минимум = 12 \n",
            "Максимум = 43\n"
          ]
        },
        {
          "output_type": "display_data",
          "data": {
            "text/plain": [
              "<Figure size 1000x500 with 1 Axes>"
            ],
            "image/png": "[encoded data removed]"
          },
          "metadata": {}
        }
      ],
      "source": [
        "fig, axes = plt.subplots(1,figsize=(10,5))\n",
        "axes.hist(users['age'], bins=30, color='g')\n",
        "fig.suptitle('Распределение пользователей по возрасту');\n",
        "axes.set_ylabel('Кол-во пользователей')\n",
        "axes.set_xlabel('Возрастной диапазон')\n",
        "print ('Среднее =', users['age'].mean(), '\\nМинимум =', users['age'].min(), '\\nМаксимум =', users['age'].max())"
      ]
    },
    {
      "cell_type": "markdown",
      "id": "c6f26b30",
      "metadata": {
        "id": "c6f26b30"
      },
      "source": [
        "Распределение близко к нормальному, а потому и среднее должно быть приближено к медиане. Самому младшему пользователю сервиса 12 лет, самому старшему 43."
      ]
    },
    {
      "cell_type": "markdown",
      "id": "42d4839b",
      "metadata": {
        "id": "42d4839b"
      },
      "source": [
        "\n",
        "\n",
        "### Расстояние, которое пользователь преодолел за одну поездку\n",
        "\n",
        "Чтобы оценить расстояние каждой поездки мы вновь используем гистограмму."
      ]
    },
    {
      "cell_type": "code",
      "execution_count": 20,
      "id": "8e76dab3",
      "metadata": {
        "colab": {
          "base_uri": "https://localhost:8080/",
          "height": 571
        },
        "id": "8e76dab3",
        "outputId": "79261183-43ea-4034-f879-8f1f216b4d22"
      },
      "outputs": [
        {
          "output_type": "stream",
          "name": "stdout",
          "text": [
            "Среднее = 3070.66 \n",
            "Минимум = 0.86 \n",
            "Максимум = 7211.01\n"
          ]
        },
        {
          "output_type": "display_data",
          "data": {
            "text/plain": [
              "<Figure size 1000x500 with 1 Axes>"
            ],
            "image/png": "[encoded data removed]"
          },
          "metadata": {}
        }
      ],
      "source": [
        "fig, axes = plt.subplots(1,figsize=(10,5))\n",
        "axes.hist(rides['distance'], bins=30)\n",
        "fig.suptitle('Распределение поездок по расстоянию');\n",
        "axes.set_ylabel('Кол-во поездок')\n",
        "axes.set_xlabel('Расстояние за одну поездку')\n",
        "print ('Среднее =', rides['distance'].mean().round(2), '\\nМинимум =', rides['distance'].min().round(2), '\\nМаксимум =', rides['distance'].max().round(2))"
      ]
    },
    {
      "cell_type": "markdown",
      "id": "931fb298",
      "metadata": {
        "id": "931fb298"
      },
      "source": [
        "В среднем, пользователи проезжают на самокате чуть больше трёх километров за раз. Также виден небольшой пик в районе приблизительно 600 метров. Самые короткие поездки — меньше метра, то есть, иногда люди берут самокат и тут же его сдают."
      ]
    },
    {
      "cell_type": "markdown",
      "id": "bf180d51",
      "metadata": {
        "id": "bf180d51"
      },
      "source": [
        "\n",
        "\n",
        "### Продолжительность поездок\n",
        "\n",
        "Данный параметр описан в столбце duration таблицы rides. Построим для него гистограмму."
      ]
    },
    {
      "cell_type": "code",
      "execution_count": 21,
      "id": "22bcd93b",
      "metadata": {
        "colab": {
          "base_uri": "https://localhost:8080/",
          "height": 571
        },
        "id": "22bcd93b",
        "outputId": "fb6a5f46-5c89-4b9c-b7c4-84235d1ea9b9"
      },
      "outputs": [
        {
          "output_type": "stream",
          "name": "stdout",
          "text": [
            "Среднее = 17.81 \n",
            "Минимум = 0.5 \n",
            "Максимум = 40.82\n"
          ]
        },
        {
          "output_type": "display_data",
          "data": {
            "text/plain": [
              "<Figure size 1000x500 with 1 Axes>"
            ],
            "image/png": "[encoded data removed]"
          },
          "metadata": {}
        }
      ],
      "source": [
        "fig, axes = plt.subplots(1,figsize=(10,5))\n",
        "axes.hist(rides['duration'], bins=30, color='y')\n",
        "fig.suptitle('Распределение поездок по продолжительности');\n",
        "axes.set_ylabel('Кол-во поездок')\n",
        "axes.set_xlabel('Время в минутах, затраченное на поездку')\n",
        "print ('Среднее =', rides['duration'].mean().round(2), '\\nМинимум =', rides['duration'].min().round(2), '\\nМаксимум =', rides['duration'].max().round(2))"
      ]
    },
    {
      "cell_type": "markdown",
      "id": "ff3620fc",
      "metadata": {
        "id": "ff3620fc"
      },
      "source": [
        "В нашей выборке, поездки продолжаются не более сорока минут. В среднем, люди ездят около 18 минут."
      ]
    },
    {
      "cell_type": "markdown",
      "id": "52d2ab40",
      "metadata": {
        "id": "52d2ab40"
      },
      "source": [
        "### Промежуточный вывод\n",
        "\n",
        "На третьем шаге я проводила исследовательский анализ данных и вывела следующие закономерности:\n",
        "\n",
        "- Самый популярный по нашей выборке город — Пятигорск, Москва же находится на последнем месте;\n",
        "- Большинство пользователей не приобретают подписку;\n",
        "- Самый распространённый возраст пользователей — 25 лет;\n",
        "- Некоторые поездки имеют совсем низкие расстояние и продолжительность: вероятно, пользователи берут самокат по ошибке, либо находят с ним какую-то неисправность, после чего тут же отменяют поездку;\n",
        "- Большинство поездок длятся примерно 18 минут, за которые пользователи проезжают примерно 3 километра."
      ]
    },
    {
      "cell_type": "markdown",
      "id": "4ef51331",
      "metadata": {
        "id": "4ef51331"
      },
      "source": [
        "## Объединение данных"
      ]
    },
    {
      "cell_type": "markdown",
      "id": "49b1f9c9",
      "metadata": {
        "id": "49b1f9c9"
      },
      "source": [
        "### Объединение трёх датафреймов в один\n",
        "\n",
        "Необходимо объединить данные о пользователях, их поездках и подписках в один датайрейм. Для этого я воспользуюсь методом merge(). Создам датафрейм total_data, в него передам датафрейм rides, к которому присоединю users."
      ]
    },
    {
      "cell_type": "code",
      "execution_count": 22,
      "id": "0c353d72",
      "metadata": {
        "scrolled": false,
        "colab": {
          "base_uri": "https://localhost:8080/",
          "height": 423
        },
        "id": "0c353d72",
        "outputId": "807aaf65-d015-406e-ecd7-73db597ab7bd"
      },
      "outputs": [
        {
          "output_type": "execute_result",
          "data": {
            "text/plain": [
              "       user_id     distance   duration       date  month     name  age  \\\n",
              "0            1  4409.919140  25.599769 2021-01-01      1     Кира   22   \n",
              "1            1  2617.592153  15.816871 2021-01-18      1     Кира   22   \n",
              "2            1   754.159807   6.232113 2021-04-20      4     Кира   22   \n",
              "3            1  2694.783254  18.511000 2021-08-11      8     Кира   22   \n",
              "4            1  4028.687306  26.265803 2021-08-28      8     Кира   22   \n",
              "...        ...          ...        ...        ...    ...      ...  ...   \n",
              "18063     1534  3781.098080  19.822962 2021-11-04     11  Альберт   25   \n",
              "18064     1534  2840.423057  21.409799 2021-11-16     11  Альберт   25   \n",
              "18065     1534  3826.185507  18.435051 2021-11-18     11  Альберт   25   \n",
              "18066     1534  2902.308661  16.674362 2021-11-27     11  Альберт   25   \n",
              "18067     1534  2371.711192  15.893917 2021-12-29     12  Альберт   25   \n",
              "\n",
              "            city subscription_type  \n",
              "0         Тюмень             ultra  \n",
              "1         Тюмень             ultra  \n",
              "2         Тюмень             ultra  \n",
              "3         Тюмень             ultra  \n",
              "4         Тюмень             ultra  \n",
              "...          ...               ...  \n",
              "18063  Краснодар              free  \n",
              "18064  Краснодар              free  \n",
              "18065  Краснодар              free  \n",
              "18066  Краснодар              free  \n",
              "18067  Краснодар              free  \n",
              "\n",
              "[18068 rows x 9 columns]"
            ],
            "text/html": [
              "\n",
              "  <div id=\"df-5c43e78d-e386-4f3e-93e1-865d4ddc18eb\" class=\"colab-df-container\">\n",
              "    <div>\n",
              "<style scoped>\n",
              "    .dataframe tbody tr th:only-of-type {\n",
              "        vertical-align: middle;\n",
              "    }\n",
              "\n",
              "    .dataframe tbody tr th {\n",
              "        vertical-align: top;\n",
              "    }\n",
              "\n",
              "    .dataframe thead th {\n",
              "        text-align: right;\n",
              "    }\n",
              "</style>\n",
              "<table border=\"1\" class=\"dataframe\">\n",
              "  <thead>\n",
              "    <tr style=\"text-align: right;\">\n",
              "      <th></th>\n",
              "      <th>user_id</th>\n",
              "      <th>distance</th>\n",
              "      <th>duration</th>\n",
              "      <th>date</th>\n",
              "      <th>month</th>\n",
              "      <th>name</th>\n",
              "      <th>age</th>\n",
              "      <th>city</th>\n",
              "      <th>subscription_type</th>\n",
              "    </tr>\n",
              "  </thead>\n",
              "  <tbody>\n",
              "    <tr>\n",
              "      <th>0</th>\n",
              "      <td>1</td>\n",
              "      <td>4409.919140</td>\n",
              "      <td>25.599769</td>\n",
              "      <td>2021-01-01</td>\n",
              "      <td>1</td>\n",
              "      <td>Кира</td>\n",
              "      <td>22</td>\n",
              "      <td>Тюмень</td>\n",
              "      <td>ultra</td>\n",
              "    </tr>\n",
              "    <tr>\n",
              "      <th>1</th>\n",
              "      <td>1</td>\n",
              "      <td>2617.592153</td>\n",
              "      <td>15.816871</td>\n",
              "      <td>2021-01-18</td>\n",
              "      <td>1</td>\n",
              "      <td>Кира</td>\n",
              "      <td>22</td>\n",
              "      <td>Тюмень</td>\n",
              "      <td>ultra</td>\n",
              "    </tr>\n",
              "    <tr>\n",
              "      <th>2</th>\n",
              "      <td>1</td>\n",
              "      <td>754.159807</td>\n",
              "      <td>6.232113</td>\n",
              "      <td>2021-04-20</td>\n",
              "      <td>4</td>\n",
              "      <td>Кира</td>\n",
              "      <td>22</td>\n",
              "      <td>Тюмень</td>\n",
              "      <td>ultra</td>\n",
              "    </tr>\n",
              "    <tr>\n",
              "      <th>3</th>\n",
              "      <td>1</td>\n",
              "      <td>2694.783254</td>\n",
              "      <td>18.511000</td>\n",
              "      <td>2021-08-11</td>\n",
              "      <td>8</td>\n",
              "      <td>Кира</td>\n",
              "      <td>22</td>\n",
              "      <td>Тюмень</td>\n",
              "      <td>ultra</td>\n",
              "    </tr>\n",
              "    <tr>\n",
              "      <th>4</th>\n",
              "      <td>1</td>\n",
              "      <td>4028.687306</td>\n",
              "      <td>26.265803</td>\n",
              "      <td>2021-08-28</td>\n",
              "      <td>8</td>\n",
              "      <td>Кира</td>\n",
              "      <td>22</td>\n",
              "      <td>Тюмень</td>\n",
              "      <td>ultra</td>\n",
              "    </tr>\n",
              "    <tr>\n",
              "      <th>...</th>\n",
              "      <td>...</td>\n",
              "      <td>...</td>\n",
              "      <td>...</td>\n",
              "      <td>...</td>\n",
              "      <td>...</td>\n",
              "      <td>...</td>\n",
              "      <td>...</td>\n",
              "      <td>...</td>\n",
              "      <td>...</td>\n",
              "    </tr>\n",
              "    <tr>\n",
              "      <th>18063</th>\n",
              "      <td>1534</td>\n",
              "      <td>3781.098080</td>\n",
              "      <td>19.822962</td>\n",
              "      <td>2021-11-04</td>\n",
              "      <td>11</td>\n",
              "      <td>Альберт</td>\n",
              "      <td>25</td>\n",
              "      <td>Краснодар</td>\n",
              "      <td>free</td>\n",
              "    </tr>\n",
              "    <tr>\n",
              "      <th>18064</th>\n",
              "      <td>1534</td>\n",
              "      <td>2840.423057</td>\n",
              "      <td>21.409799</td>\n",
              "      <td>2021-11-16</td>\n",
              "      <td>11</td>\n",
              "      <td>Альберт</td>\n",
              "      <td>25</td>\n",
              "      <td>Краснодар</td>\n",
              "      <td>free</td>\n",
              "    </tr>\n",
              "    <tr>\n",
              "      <th>18065</th>\n",
              "      <td>1534</td>\n",
              "      <td>3826.185507</td>\n",
              "      <td>18.435051</td>\n",
              "      <td>2021-11-18</td>\n",
              "      <td>11</td>\n",
              "      <td>Альберт</td>\n",
              "      <td>25</td>\n",
              "      <td>Краснодар</td>\n",
              "      <td>free</td>\n",
              "    </tr>\n",
              "    <tr>\n",
              "      <th>18066</th>\n",
              "      <td>1534</td>\n",
              "      <td>2902.308661</td>\n",
              "      <td>16.674362</td>\n",
              "      <td>2021-11-27</td>\n",
              "      <td>11</td>\n",
              "      <td>Альберт</td>\n",
              "      <td>25</td>\n",
              "      <td>Краснодар</td>\n",
              "      <td>free</td>\n",
              "    </tr>\n",
              "    <tr>\n",
              "      <th>18067</th>\n",
              "      <td>1534</td>\n",
              "      <td>2371.711192</td>\n",
              "      <td>15.893917</td>\n",
              "      <td>2021-12-29</td>\n",
              "      <td>12</td>\n",
              "      <td>Альберт</td>\n",
              "      <td>25</td>\n",
              "      <td>Краснодар</td>\n",
              "      <td>free</td>\n",
              "    </tr>\n",
              "  </tbody>\n",
              "</table>\n",
              "<p>18068 rows × 9 columns</p>\n",
              "</div>\n",
              "    <div class=\"colab-df-buttons\">\n",
              "\n",
              "  <div class=\"colab-df-container\">\n",
              "    <button class=\"colab-df-convert\" onclick=\"convertToInteractive('df-5c43e78d-e386-4f3e-93e1-865d4ddc18eb')\"\n",
              "            title=\"Convert this dataframe to an interactive table.\"\n",
              "            style=\"display:none;\">\n",
              "\n",
              "  <svg xmlns=\"http://www.w3.org/2000/svg\" height=\"24px\" viewBox=\"0 -960 960 960\">\n",
              "    <path d=\"M120-120v-720h720v720H120Zm60-500h600v-160H180v160Zm220 220h160v-160H400v160Zm0 220h160v-160H400v160ZM180-400h160v-160H180v160Zm440 0h160v-160H620v160ZM180-180h160v-160H180v160Zm440 0h160v-160H620v160Z\"/>\n",
              "  </svg>\n",
              "    </button>\n",
              "\n",
              "  <style>\n",
              "    .colab-df-container {\n",
              "      display:flex;\n",
              "      gap: 12px;\n",
              "    }\n",
              "\n",
              "    .colab-df-convert {\n",
              "      background-color: #E8F0FE;\n",
              "      border: none;\n",
              "      border-radius: 50%;\n",
              "      cursor: pointer;\n",
              "      display: none;\n",
              "      fill: #1967D2;\n",
              "      height: 32px;\n",
              "      padding: 0 0 0 0;\n",
              "      width: 32px;\n",
              "    }\n",
              "\n",
              "    .colab-df-convert:hover {\n",
              "      background-color: #E2EBFA;\n",
              "      box-shadow: 0px 1px 2px rgba(60, 64, 67, 0.3), 0px 1px 3px 1px rgba(60, 64, 67, 0.15);\n",
              "      fill: #174EA6;\n",
              "    }\n",
              "\n",
              "    .colab-df-buttons div {\n",
              "      margin-bottom: 4px;\n",
              "    }\n",
              "\n",
              "    [theme=dark] .colab-df-convert {\n",
              "      background-color: #3B4455;\n",
              "      fill: #D2E3FC;\n",
              "    }\n",
              "\n",
              "    [theme=dark] .colab-df-convert:hover {\n",
              "      background-color: #434B5C;\n",
              "      box-shadow: 0px 1px 3px 1px rgba(0, 0, 0, 0.15);\n",
              "      filter: drop-shadow(0px 1px 2px rgba(0, 0, 0, 0.3));\n",
              "      fill: #FFFFFF;\n",
              "    }\n",
              "  </style>\n",
              "\n",
              "    <script>\n",
              "      const buttonEl =\n",
              "        document.querySelector('#df-5c43e78d-e386-4f3e-93e1-865d4ddc18eb button.colab-df-convert');\n",
              "      buttonEl.style.display =\n",
              "        google.colab.kernel.accessAllowed ? 'block' : 'none';\n",
              "\n",
              "      async function convertToInteractive(key) {\n",
              "        const element = document.querySelector('#df-5c43e78d-e386-4f3e-93e1-865d4ddc18eb');\n",
              "        const dataTable =\n",
              "          await google.colab.kernel.invokeFunction('convertToInteractive',\n",
              "                                                    [key], {});\n",
              "        if (!dataTable) return;\n",
              "\n",
              "        const docLinkHtml = 'Like what you see? Visit the ' +\n",
              "          '<a target=\"_blank\" href=https://colab.research.google.com/notebooks/data_table.ipynb>data table notebook</a>'\n",
              "          + ' to learn more about interactive tables.';\n",
              "        element.innerHTML = '';\n",
              "        dataTable['output_type'] = 'display_data';\n",
              "        await google.colab.output.renderOutput(dataTable, element);\n",
              "        const docLink = document.createElement('div');\n",
              "        docLink.innerHTML = docLinkHtml;\n",
              "        element.appendChild(docLink);\n",
              "      }\n",
              "    </script>\n",
              "  </div>\n",
              "\n",
              "\n",
              "<div id=\"df-ff8b9f69-cdea-4358-995d-ba5e71340108\">\n",
              "  <button class=\"colab-df-quickchart\" onclick=\"quickchart('df-ff8b9f69-cdea-4358-995d-ba5e71340108')\"\n",
              "            title=\"Suggest charts\"\n",
              "            style=\"display:none;\">\n",
              "\n",
              "<svg xmlns=\"http://www.w3.org/2000/svg\" height=\"24px\"viewBox=\"0 0 24 24\"\n",
              "     width=\"24px\">\n",
              "    <g>\n",
              "        <path d=\"M19 3H5c-1.1 0-2 .9-2 2v14c0 1.1.9 2 2 2h14c1.1 0 2-.9 2-2V5c0-1.1-.9-2-2-2zM9 17H7v-7h2v7zm4 0h-2V7h2v10zm4 0h-2v-4h2v4z\"/>\n",
              "    </g>\n",
              "</svg>\n",
              "  </button>\n",
              "\n",
              "<style>\n",
              "  .colab-df-quickchart {\n",
              "      --bg-color: #E8F0FE;\n",
              "      --fill-color: #1967D2;\n",
              "      --hover-bg-color: #E2EBFA;\n",
              "      --hover-fill-color: #174EA6;\n",
              "      --disabled-fill-color: #AAA;\n",
              "      --disabled-bg-color: #DDD;\n",
              "  }\n",
              "\n",
              "  [theme=dark] .colab-df-quickchart {\n",
              "      --bg-color: #3B4455;\n",
              "      --fill-color: #D2E3FC;\n",
              "      --hover-bg-color: #434B5C;\n",
              "      --hover-fill-color: #FFFFFF;\n",
              "      --disabled-bg-color: #3B4455;\n",
              "      --disabled-fill-color: #666;\n",
              "  }\n",
              "\n",
              "  .colab-df-quickchart {\n",
              "    background-color: var(--bg-color);\n",
              "    border: none;\n",
              "    border-radius: 50%;\n",
              "    cursor: pointer;\n",
              "    display: none;\n",
              "    fill: var(--fill-color);\n",
              "    height: 32px;\n",
              "    padding: 0;\n",
              "    width: 32px;\n",
              "  }\n",
              "\n",
              "  .colab-df-quickchart:hover {\n",
              "    background-color: var(--hover-bg-color);\n",
              "    box-shadow: 0 1px 2px rgba(60, 64, 67, 0.3), 0 1px 3px 1px rgba(60, 64, 67, 0.15);\n",
              "    fill: var(--button-hover-fill-color);\n",
              "  }\n",
              "\n",
              "  .colab-df-quickchart-complete:disabled,\n",
              "  .colab-df-quickchart-complete:disabled:hover {\n",
              "    background-color: var(--disabled-bg-color);\n",
              "    fill: var(--disabled-fill-color);\n",
              "    box-shadow: none;\n",
              "  }\n",
              "\n",
              "  .colab-df-spinner {\n",
              "    border: 2px solid var(--fill-color);\n",
              "    border-color: transparent;\n",
              "    border-bottom-color: var(--fill-color);\n",
              "    animation:\n",
              "      spin 1s steps(1) infinite;\n",
              "  }\n",
              "\n",
              "  @keyframes spin {\n",
              "    0% {\n",
              "      border-color: transparent;\n",
              "      border-bottom-color: var(--fill-color);\n",
              "      border-left-color: var(--fill-color);\n",
              "    }\n",
              "    20% {\n",
              "      border-color: transparent;\n",
              "      border-left-color: var(--fill-color);\n",
              "      border-top-color: var(--fill-color);\n",
              "    }\n",
              "    30% {\n",
              "      border-color: transparent;\n",
              "      border-left-color: var(--fill-color);\n",
              "      border-top-color: var(--fill-color);\n",
              "      border-right-color: var(--fill-color);\n",
              "    }\n",
              "    40% {\n",
              "      border-color: transparent;\n",
              "      border-right-color: var(--fill-color);\n",
              "      border-top-color: var(--fill-color);\n",
              "    }\n",
              "    60% {\n",
              "      border-color: transparent;\n",
              "      border-right-color: var(--fill-color);\n",
              "    }\n",
              "    80% {\n",
              "      border-color: transparent;\n",
              "      border-right-color: var(--fill-color);\n",
              "      border-bottom-color: var(--fill-color);\n",
              "    }\n",
              "    90% {\n",
              "      border-color: transparent;\n",
              "      border-bottom-color: var(--fill-color);\n",
              "    }\n",
              "  }\n",
              "</style>\n",
              "\n",
              "  <script>\n",
              "    async function quickchart(key) {\n",
              "      const quickchartButtonEl =\n",
              "        document.querySelector('#' + key + ' button');\n",
              "      quickchartButtonEl.disabled = true;  // To prevent multiple clicks.\n",
              "      quickchartButtonEl.classList.add('colab-df-spinner');\n",
              "      try {\n",
              "        const charts = await google.colab.kernel.invokeFunction(\n",
              "            'suggestCharts', [key], {});\n",
              "      } catch (error) {\n",
              "        console.error('Error during call to suggestCharts:', error);\n",
              "      }\n",
              "      quickchartButtonEl.classList.remove('colab-df-spinner');\n",
              "      quickchartButtonEl.classList.add('colab-df-quickchart-complete');\n",
              "    }\n",
              "    (() => {\n",
              "      let quickchartButtonEl =\n",
              "        document.querySelector('#df-ff8b9f69-cdea-4358-995d-ba5e71340108 button');\n",
              "      quickchartButtonEl.style.display =\n",
              "        google.colab.kernel.accessAllowed ? 'block' : 'none';\n",
              "    })();\n",
              "  </script>\n",
              "</div>\n",
              "    </div>\n",
              "  </div>\n"
            ],
            "application/vnd.google.colaboratory.intrinsic+json": {
              "type": "dataframe",
              "variable_name": "total_data",
              "summary": "{\n  \"name\": \"total_data\",\n  \"rows\": 18068,\n  \"fields\": [\n    {\n      \"column\": \"user_id\",\n      \"properties\": {\n        \"dtype\": \"number\",\n        \"std\": 434,\n        \"min\": 1,\n        \"max\": 1534,\n        \"num_unique_values\": 1534,\n        \"samples\": [\n          1365,\n          77,\n          317\n        ],\n        \"semantic_type\": \"\",\n        \"description\": \"\"\n      }\n    },\n    {\n      \"column\": \"distance\",\n      \"properties\": {\n        \"dtype\": \"number\",\n        \"std\": 1116.8312086098706,\n        \"min\": 0.855682925681208,\n        \"max\": 7211.007744598519,\n        \"num_unique_values\": 18068,\n        \"samples\": [\n          634.9375002523072,\n          3245.352628435748,\n          2838.9435824451866\n        ],\n        \"semantic_type\": \"\",\n        \"description\": \"\"\n      }\n    },\n    {\n      \"column\": \"duration\",\n      \"properties\": {\n        \"dtype\": \"number\",\n        \"std\": 6.091051375341689,\n        \"min\": 0.5,\n        \"max\": 40.82396261922424,\n        \"num_unique_values\": 17974,\n        \"samples\": [\n          21.697919865043986,\n          13.465792601074444,\n          27.458957553479525\n        ],\n        \"semantic_type\": \"\",\n        \"description\": \"\"\n      }\n    },\n    {\n      \"column\": \"date\",\n      \"properties\": {\n        \"dtype\": \"date\",\n        \"min\": \"2021-01-01 00:00:00\",\n        \"max\": \"2021-12-30 00:00:00\",\n        \"num_unique_values\": 364,\n        \"samples\": [\n          \"2021-12-24 00:00:00\",\n          \"2021-09-04 00:00:00\",\n          \"2021-04-08 00:00:00\"\n        ],\n        \"semantic_type\": \"\",\n        \"description\": \"\"\n      }\n    },\n    {\n      \"column\": \"month\",\n      \"properties\": {\n        \"dtype\": \"number\",\n        \"std\": 3,\n        \"min\": 1,\n        \"max\": 12,\n        \"num_unique_values\": 12,\n        \"samples\": [\n          5,\n          2,\n          1\n        ],\n        \"semantic_type\": \"\",\n        \"description\": \"\"\n      }\n    },\n    {\n      \"column\": \"name\",\n      \"properties\": {\n        \"dtype\": \"category\",\n        \"num_unique_values\": 194,\n        \"samples\": [\n          \"\\u042d\\u043c\\u0438\\u043b\\u0438\\u044f\",\n          \"\\u0414\\u0430\\u043d\\u0438\\u0438\\u043b\",\n          \"\\u042e\\u043b\\u0438\\u044f\"\n        ],\n        \"semantic_type\": \"\",\n        \"description\": \"\"\n      }\n    },\n    {\n      \"column\": \"age\",\n      \"properties\": {\n        \"dtype\": \"number\",\n        \"std\": 4,\n        \"min\": 12,\n        \"max\": 43,\n        \"num_unique_values\": 29,\n        \"samples\": [\n          39,\n          17,\n          32\n        ],\n        \"semantic_type\": \"\",\n        \"description\": \"\"\n      }\n    },\n    {\n      \"column\": \"city\",\n      \"properties\": {\n        \"dtype\": \"category\",\n        \"num_unique_values\": 8,\n        \"samples\": [\n          \"\\u041e\\u043c\\u0441\\u043a\",\n          \"\\u041f\\u044f\\u0442\\u0438\\u0433\\u043e\\u0440\\u0441\\u043a\",\n          \"\\u0422\\u044e\\u043c\\u0435\\u043d\\u044c\"\n        ],\n        \"semantic_type\": \"\",\n        \"description\": \"\"\n      }\n    },\n    {\n      \"column\": \"subscription_type\",\n      \"properties\": {\n        \"dtype\": \"category\",\n        \"num_unique_values\": 2,\n        \"samples\": [\n          \"free\",\n          \"ultra\"\n        ],\n        \"semantic_type\": \"\",\n        \"description\": \"\"\n      }\n    }\n  ]\n}"
            }
          },
          "metadata": {},
          "execution_count": 22
        }
      ],
      "source": [
        "total_data = rides.merge(users, on='user_id', how='left')\n",
        "total_data"
      ]
    },
    {
      "cell_type": "markdown",
      "id": "8591fa92",
      "metadata": {
        "id": "8591fa92"
      },
      "source": [
        "Датафреймы с поездками и пользователями успешно объединились, теперь мы видим, какую поездку кто совершал. Присоединю также подробную информацию об их подписках."
      ]
    },
    {
      "cell_type": "code",
      "execution_count": 23,
      "id": "5c5c2cdb",
      "metadata": {
        "scrolled": true,
        "colab": {
          "base_uri": "https://localhost:8080/",
          "height": 617
        },
        "id": "5c5c2cdb",
        "outputId": "67ded873-60ef-48f1-f79e-f35506ac7bf1"
      },
      "outputs": [
        {
          "output_type": "execute_result",
          "data": {
            "text/plain": [
              "       user_id     distance   duration       date  month     name  age  \\\n",
              "0            1  4409.919140  25.599769 2021-01-01      1     Кира   22   \n",
              "1            1  2617.592153  15.816871 2021-01-18      1     Кира   22   \n",
              "2            1   754.159807   6.232113 2021-04-20      4     Кира   22   \n",
              "3            1  2694.783254  18.511000 2021-08-11      8     Кира   22   \n",
              "4            1  4028.687306  26.265803 2021-08-28      8     Кира   22   \n",
              "...        ...          ...        ...        ...    ...      ...  ...   \n",
              "18063     1534  3781.098080  19.822962 2021-11-04     11  Альберт   25   \n",
              "18064     1534  2840.423057  21.409799 2021-11-16     11  Альберт   25   \n",
              "18065     1534  3826.185507  18.435051 2021-11-18     11  Альберт   25   \n",
              "18066     1534  2902.308661  16.674362 2021-11-27     11  Альберт   25   \n",
              "18067     1534  2371.711192  15.893917 2021-12-29     12  Альберт   25   \n",
              "\n",
              "            city subscription_type  minute_price  start_ride_price  \\\n",
              "0         Тюмень             ultra             6                 0   \n",
              "1         Тюмень             ultra             6                 0   \n",
              "2         Тюмень             ultra             6                 0   \n",
              "3         Тюмень             ultra             6                 0   \n",
              "4         Тюмень             ultra             6                 0   \n",
              "...          ...               ...           ...               ...   \n",
              "18063  Краснодар              free             8                50   \n",
              "18064  Краснодар              free             8                50   \n",
              "18065  Краснодар              free             8                50   \n",
              "18066  Краснодар              free             8                50   \n",
              "18067  Краснодар              free             8                50   \n",
              "\n",
              "       subscription_fee  \n",
              "0                   199  \n",
              "1                   199  \n",
              "2                   199  \n",
              "3                   199  \n",
              "4                   199  \n",
              "...                 ...  \n",
              "18063                 0  \n",
              "18064                 0  \n",
              "18065                 0  \n",
              "18066                 0  \n",
              "18067                 0  \n",
              "\n",
              "[18068 rows x 12 columns]"
            ],
            "text/html": [
              "\n",
              "  <div id=\"df-1336e656-cdfa-411d-9e67-8d8c6a79a4d7\" class=\"colab-df-container\">\n",
              "    <div>\n",
              "<style scoped>\n",
              "    .dataframe tbody tr th:only-of-type {\n",
              "        vertical-align: middle;\n",
              "    }\n",
              "\n",
              "    .dataframe tbody tr th {\n",
              "        vertical-align: top;\n",
              "    }\n",
              "\n",
              "    .dataframe thead th {\n",
              "        text-align: right;\n",
              "    }\n",
              "</style>\n",
              "<table border=\"1\" class=\"dataframe\">\n",
              "  <thead>\n",
              "    <tr style=\"text-align: right;\">\n",
              "      <th></th>\n",
              "      <th>user_id</th>\n",
              "      <th>distance</th>\n",
              "      <th>duration</th>\n",
              "      <th>date</th>\n",
              "      <th>month</th>\n",
              "      <th>name</th>\n",
              "      <th>age</th>\n",
              "      <th>city</th>\n",
              "      <th>subscription_type</th>\n",
              "      <th>minute_price</th>\n",
              "      <th>start_ride_price</th>\n",
              "      <th>subscription_fee</th>\n",
              "    </tr>\n",
              "  </thead>\n",
              "  <tbody>\n",
              "    <tr>\n",
              "      <th>0</th>\n",
              "      <td>1</td>\n",
              "      <td>4409.919140</td>\n",
              "      <td>25.599769</td>\n",
              "      <td>2021-01-01</td>\n",
              "      <td>1</td>\n",
              "      <td>Кира</td>\n",
              "      <td>22</td>\n",
              "      <td>Тюмень</td>\n",
              "      <td>ultra</td>\n",
              "      <td>6</td>\n",
              "      <td>0</td>\n",
              "      <td>199</td>\n",
              "    </tr>\n",
              "    <tr>\n",
              "      <th>1</th>\n",
              "      <td>1</td>\n",
              "      <td>2617.592153</td>\n",
              "      <td>15.816871</td>\n",
              "      <td>2021-01-18</td>\n",
              "      <td>1</td>\n",
              "      <td>Кира</td>\n",
              "      <td>22</td>\n",
              "      <td>Тюмень</td>\n",
              "      <td>ultra</td>\n",
              "      <td>6</td>\n",
              "      <td>0</td>\n",
              "      <td>199</td>\n",
              "    </tr>\n",
              "    <tr>\n",
              "      <th>2</th>\n",
              "      <td>1</td>\n",
              "      <td>754.159807</td>\n",
              "      <td>6.232113</td>\n",
              "      <td>2021-04-20</td>\n",
              "      <td>4</td>\n",
              "      <td>Кира</td>\n",
              "      <td>22</td>\n",
              "      <td>Тюмень</td>\n",
              "      <td>ultra</td>\n",
              "      <td>6</td>\n",
              "      <td>0</td>\n",
              "      <td>199</td>\n",
              "    </tr>\n",
              "    <tr>\n",
              "      <th>3</th>\n",
              "      <td>1</td>\n",
              "      <td>2694.783254</td>\n",
              "      <td>18.511000</td>\n",
              "      <td>2021-08-11</td>\n",
              "      <td>8</td>\n",
              "      <td>Кира</td>\n",
              "      <td>22</td>\n",
              "      <td>Тюмень</td>\n",
              "      <td>ultra</td>\n",
              "      <td>6</td>\n",
              "      <td>0</td>\n",
              "      <td>199</td>\n",
              "    </tr>\n",
              "    <tr>\n",
              "      <th>4</th>\n",
              "      <td>1</td>\n",
              "      <td>4028.687306</td>\n",
              "      <td>26.265803</td>\n",
              "      <td>2021-08-28</td>\n",
              "      <td>8</td>\n",
              "      <td>Кира</td>\n",
              "      <td>22</td>\n",
              "      <td>Тюмень</td>\n",
              "      <td>ultra</td>\n",
              "      <td>6</td>\n",
              "      <td>0</td>\n",
              "      <td>199</td>\n",
              "    </tr>\n",
              "    <tr>\n",
              "      <th>...</th>\n",
              "      <td>...</td>\n",
              "      <td>...</td>\n",
              "      <td>...</td>\n",
              "      <td>...</td>\n",
              "      <td>...</td>\n",
              "      <td>...</td>\n",
              "      <td>...</td>\n",
              "      <td>...</td>\n",
              "      <td>...</td>\n",
              "      <td>...</td>\n",
              "      <td>...</td>\n",
              "      <td>...</td>\n",
              "    </tr>\n",
              "    <tr>\n",
              "      <th>18063</th>\n",
              "      <td>1534</td>\n",
              "      <td>3781.098080</td>\n",
              "      <td>19.822962</td>\n",
              "      <td>2021-11-04</td>\n",
              "      <td>11</td>\n",
              "      <td>Альберт</td>\n",
              "      <td>25</td>\n",
              "      <td>Краснодар</td>\n",
              "      <td>free</td>\n",
              "      <td>8</td>\n",
              "      <td>50</td>\n",
              "      <td>0</td>\n",
              "    </tr>\n",
              "    <tr>\n",
              "      <th>18064</th>\n",
              "      <td>1534</td>\n",
              "      <td>2840.423057</td>\n",
              "      <td>21.409799</td>\n",
              "      <td>2021-11-16</td>\n",
              "      <td>11</td>\n",
              "      <td>Альберт</td>\n",
              "      <td>25</td>\n",
              "      <td>Краснодар</td>\n",
              "      <td>free</td>\n",
              "      <td>8</td>\n",
              "      <td>50</td>\n",
              "      <td>0</td>\n",
              "    </tr>\n",
              "    <tr>\n",
              "      <th>18065</th>\n",
              "      <td>1534</td>\n",
              "      <td>3826.185507</td>\n",
              "      <td>18.435051</td>\n",
              "      <td>2021-11-18</td>\n",
              "      <td>11</td>\n",
              "      <td>Альберт</td>\n",
              "      <td>25</td>\n",
              "      <td>Краснодар</td>\n",
              "      <td>free</td>\n",
              "      <td>8</td>\n",
              "      <td>50</td>\n",
              "      <td>0</td>\n",
              "    </tr>\n",
              "    <tr>\n",
              "      <th>18066</th>\n",
              "      <td>1534</td>\n",
              "      <td>2902.308661</td>\n",
              "      <td>16.674362</td>\n",
              "      <td>2021-11-27</td>\n",
              "      <td>11</td>\n",
              "      <td>Альберт</td>\n",
              "      <td>25</td>\n",
              "      <td>Краснодар</td>\n",
              "      <td>free</td>\n",
              "      <td>8</td>\n",
              "      <td>50</td>\n",
              "      <td>0</td>\n",
              "    </tr>\n",
              "    <tr>\n",
              "      <th>18067</th>\n",
              "      <td>1534</td>\n",
              "      <td>2371.711192</td>\n",
              "      <td>15.893917</td>\n",
              "      <td>2021-12-29</td>\n",
              "      <td>12</td>\n",
              "      <td>Альберт</td>\n",
              "      <td>25</td>\n",
              "      <td>Краснодар</td>\n",
              "      <td>free</td>\n",
              "      <td>8</td>\n",
              "      <td>50</td>\n",
              "      <td>0</td>\n",
              "    </tr>\n",
              "  </tbody>\n",
              "</table>\n",
              "<p>18068 rows × 12 columns</p>\n",
              "</div>\n",
              "    <div class=\"colab-df-buttons\">\n",
              "\n",
              "  <div class=\"colab-df-container\">\n",
              "    <button class=\"colab-df-convert\" onclick=\"convertToInteractive('df-1336e656-cdfa-411d-9e67-8d8c6a79a4d7')\"\n",
              "            title=\"Convert this dataframe to an interactive table.\"\n",
              "            style=\"display:none;\">\n",
              "\n",
              "  <svg xmlns=\"http://www.w3.org/2000/svg\" height=\"24px\" viewBox=\"0 -960 960 960\">\n",
              "    <path d=\"M120-120v-720h720v720H120Zm60-500h600v-160H180v160Zm220 220h160v-160H400v160Zm0 220h160v-160H400v160ZM180-400h160v-160H180v160Zm440 0h160v-160H620v160ZM180-180h160v-160H180v160Zm440 0h160v-160H620v160Z\"/>\n",
              "  </svg>\n",
              "    </button>\n",
              "\n",
              "  <style>\n",
              "    .colab-df-container {\n",
              "      display:flex;\n",
              "      gap: 12px;\n",
              "    }\n",
              "\n",
              "    .colab-df-convert {\n",
              "      background-color: #E8F0FE;\n",
              "      border: none;\n",
              "      border-radius: 50%;\n",
              "      cursor: pointer;\n",
              "      display: none;\n",
              "      fill: #1967D2;\n",
              "      height: 32px;\n",
              "      padding: 0 0 0 0;\n",
              "      width: 32px;\n",
              "    }\n",
              "\n",
              "    .colab-df-convert:hover {\n",
              "      background-color: #E2EBFA;\n",
              "      box-shadow: 0px 1px 2px rgba(60, 64, 67, 0.3), 0px 1px 3px 1px rgba(60, 64, 67, 0.15);\n",
              "      fill: #174EA6;\n",
              "    }\n",
              "\n",
              "    .colab-df-buttons div {\n",
              "      margin-bottom: 4px;\n",
              "    }\n",
              "\n",
              "    [theme=dark] .colab-df-convert {\n",
              "      background-color: #3B4455;\n",
              "      fill: #D2E3FC;\n",
              "    }\n",
              "\n",
              "    [theme=dark] .colab-df-convert:hover {\n",
              "      background-color: #434B5C;\n",
              "      box-shadow: 0px 1px 3px 1px rgba(0, 0, 0, 0.15);\n",
              "      filter: drop-shadow(0px 1px 2px rgba(0, 0, 0, 0.3));\n",
              "      fill: #FFFFFF;\n",
              "    }\n",
              "  </style>\n",
              "\n",
              "    <script>\n",
              "      const buttonEl =\n",
              "        document.querySelector('#df-1336e656-cdfa-411d-9e67-8d8c6a79a4d7 button.colab-df-convert');\n",
              "      buttonEl.style.display =\n",
              "        google.colab.kernel.accessAllowed ? 'block' : 'none';\n",
              "\n",
              "      async function convertToInteractive(key) {\n",
              "        const element = document.querySelector('#df-1336e656-cdfa-411d-9e67-8d8c6a79a4d7');\n",
              "        const dataTable =\n",
              "          await google.colab.kernel.invokeFunction('convertToInteractive',\n",
              "                                                    [key], {});\n",
              "        if (!dataTable) return;\n",
              "\n",
              "        const docLinkHtml = 'Like what you see? Visit the ' +\n",
              "          '<a target=\"_blank\" href=https://colab.research.google.com/notebooks/data_table.ipynb>data table notebook</a>'\n",
              "          + ' to learn more about interactive tables.';\n",
              "        element.innerHTML = '';\n",
              "        dataTable['output_type'] = 'display_data';\n",
              "        await google.colab.output.renderOutput(dataTable, element);\n",
              "        const docLink = document.createElement('div');\n",
              "        docLink.innerHTML = docLinkHtml;\n",
              "        element.appendChild(docLink);\n",
              "      }\n",
              "    </script>\n",
              "  </div>\n",
              "\n",
              "\n",
              "<div id=\"df-c20045b2-f956-4c04-97d5-30867255976b\">\n",
              "  <button class=\"colab-df-quickchart\" onclick=\"quickchart('df-c20045b2-f956-4c04-97d5-30867255976b')\"\n",
              "            title=\"Suggest charts\"\n",
              "            style=\"display:none;\">\n",
              "\n",
              "<svg xmlns=\"http://www.w3.org/2000/svg\" height=\"24px\"viewBox=\"0 0 24 24\"\n",
              "     width=\"24px\">\n",
              "    <g>\n",
              "        <path d=\"M19 3H5c-1.1 0-2 .9-2 2v14c0 1.1.9 2 2 2h14c1.1 0 2-.9 2-2V5c0-1.1-.9-2-2-2zM9 17H7v-7h2v7zm4 0h-2V7h2v10zm4 0h-2v-4h2v4z\"/>\n",
              "    </g>\n",
              "</svg>\n",
              "  </button>\n",
              "\n",
              "<style>\n",
              "  .colab-df-quickchart {\n",
              "      --bg-color: #E8F0FE;\n",
              "      --fill-color: #1967D2;\n",
              "      --hover-bg-color: #E2EBFA;\n",
              "      --hover-fill-color: #174EA6;\n",
              "      --disabled-fill-color: #AAA;\n",
              "      --disabled-bg-color: #DDD;\n",
              "  }\n",
              "\n",
              "  [theme=dark] .colab-df-quickchart {\n",
              "      --bg-color: #3B4455;\n",
              "      --fill-color: #D2E3FC;\n",
              "      --hover-bg-color: #434B5C;\n",
              "      --hover-fill-color: #FFFFFF;\n",
              "      --disabled-bg-color: #3B4455;\n",
              "      --disabled-fill-color: #666;\n",
              "  }\n",
              "\n",
              "  .colab-df-quickchart {\n",
              "    background-color: var(--bg-color);\n",
              "    border: none;\n",
              "    border-radius: 50%;\n",
              "    cursor: pointer;\n",
              "    display: none;\n",
              "    fill: var(--fill-color);\n",
              "    height: 32px;\n",
              "    padding: 0;\n",
              "    width: 32px;\n",
              "  }\n",
              "\n",
              "  .colab-df-quickchart:hover {\n",
              "    background-color: var(--hover-bg-color);\n",
              "    box-shadow: 0 1px 2px rgba(60, 64, 67, 0.3), 0 1px 3px 1px rgba(60, 64, 67, 0.15);\n",
              "    fill: var(--button-hover-fill-color);\n",
              "  }\n",
              "\n",
              "  .colab-df-quickchart-complete:disabled,\n",
              "  .colab-df-quickchart-complete:disabled:hover {\n",
              "    background-color: var(--disabled-bg-color);\n",
              "    fill: var(--disabled-fill-color);\n",
              "    box-shadow: none;\n",
              "  }\n",
              "\n",
              "  .colab-df-spinner {\n",
              "    border: 2px solid var(--fill-color);\n",
              "    border-color: transparent;\n",
              "    border-bottom-color: var(--fill-color);\n",
              "    animation:\n",
              "      spin 1s steps(1) infinite;\n",
              "  }\n",
              "\n",
              "  @keyframes spin {\n",
              "    0% {\n",
              "      border-color: transparent;\n",
              "      border-bottom-color: var(--fill-color);\n",
              "      border-left-color: var(--fill-color);\n",
              "    }\n",
              "    20% {\n",
              "      border-color: transparent;\n",
              "      border-left-color: var(--fill-color);\n",
              "      border-top-color: var(--fill-color);\n",
              "    }\n",
              "    30% {\n",
              "      border-color: transparent;\n",
              "      border-left-color: var(--fill-color);\n",
              "      border-top-color: var(--fill-color);\n",
              "      border-right-color: var(--fill-color);\n",
              "    }\n",
              "    40% {\n",
              "      border-color: transparent;\n",
              "      border-right-color: var(--fill-color);\n",
              "      border-top-color: var(--fill-color);\n",
              "    }\n",
              "    60% {\n",
              "      border-color: transparent;\n",
              "      border-right-color: var(--fill-color);\n",
              "    }\n",
              "    80% {\n",
              "      border-color: transparent;\n",
              "      border-right-color: var(--fill-color);\n",
              "      border-bottom-color: var(--fill-color);\n",
              "    }\n",
              "    90% {\n",
              "      border-color: transparent;\n",
              "      border-bottom-color: var(--fill-color);\n",
              "    }\n",
              "  }\n",
              "</style>\n",
              "\n",
              "  <script>\n",
              "    async function quickchart(key) {\n",
              "      const quickchartButtonEl =\n",
              "        document.querySelector('#' + key + ' button');\n",
              "      quickchartButtonEl.disabled = true;  // To prevent multiple clicks.\n",
              "      quickchartButtonEl.classList.add('colab-df-spinner');\n",
              "      try {\n",
              "        const charts = await google.colab.kernel.invokeFunction(\n",
              "            'suggestCharts', [key], {});\n",
              "      } catch (error) {\n",
              "        console.error('Error during call to suggestCharts:', error);\n",
              "      }\n",
              "      quickchartButtonEl.classList.remove('colab-df-spinner');\n",
              "      quickchartButtonEl.classList.add('colab-df-quickchart-complete');\n",
              "    }\n",
              "    (() => {\n",
              "      let quickchartButtonEl =\n",
              "        document.querySelector('#df-c20045b2-f956-4c04-97d5-30867255976b button');\n",
              "      quickchartButtonEl.style.display =\n",
              "        google.colab.kernel.accessAllowed ? 'block' : 'none';\n",
              "    })();\n",
              "  </script>\n",
              "</div>\n",
              "    </div>\n",
              "  </div>\n"
            ],
            "application/vnd.google.colaboratory.intrinsic+json": {
              "type": "dataframe",
              "variable_name": "total_data",
              "summary": "{\n  \"name\": \"total_data\",\n  \"rows\": 18068,\n  \"fields\": [\n    {\n      \"column\": \"user_id\",\n      \"properties\": {\n        \"dtype\": \"number\",\n        \"std\": 434,\n        \"min\": 1,\n        \"max\": 1534,\n        \"num_unique_values\": 1534,\n        \"samples\": [\n          1365,\n          77,\n          317\n        ],\n        \"semantic_type\": \"\",\n        \"description\": \"\"\n      }\n    },\n    {\n      \"column\": \"distance\",\n      \"properties\": {\n        \"dtype\": \"number\",\n        \"std\": 1116.8312086098706,\n        \"min\": 0.855682925681208,\n        \"max\": 7211.007744598519,\n        \"num_unique_values\": 18068,\n        \"samples\": [\n          634.9375002523072,\n          3245.352628435748,\n          2838.9435824451866\n        ],\n        \"semantic_type\": \"\",\n        \"description\": \"\"\n      }\n    },\n    {\n      \"column\": \"duration\",\n      \"properties\": {\n        \"dtype\": \"number\",\n        \"std\": 6.091051375341689,\n        \"min\": 0.5,\n        \"max\": 40.82396261922424,\n        \"num_unique_values\": 17974,\n        \"samples\": [\n          21.697919865043986,\n          13.465792601074444,\n          27.458957553479525\n        ],\n        \"semantic_type\": \"\",\n        \"description\": \"\"\n      }\n    },\n    {\n      \"column\": \"date\",\n      \"properties\": {\n        \"dtype\": \"date\",\n        \"min\": \"2021-01-01 00:00:00\",\n        \"max\": \"2021-12-30 00:00:00\",\n        \"num_unique_values\": 364,\n        \"samples\": [\n          \"2021-12-24 00:00:00\",\n          \"2021-09-04 00:00:00\",\n          \"2021-04-08 00:00:00\"\n        ],\n        \"semantic_type\": \"\",\n        \"description\": \"\"\n      }\n    },\n    {\n      \"column\": \"month\",\n      \"properties\": {\n        \"dtype\": \"number\",\n        \"std\": 3,\n        \"min\": 1,\n        \"max\": 12,\n        \"num_unique_values\": 12,\n        \"samples\": [\n          5,\n          2,\n          1\n        ],\n        \"semantic_type\": \"\",\n        \"description\": \"\"\n      }\n    },\n    {\n      \"column\": \"name\",\n      \"properties\": {\n        \"dtype\": \"category\",\n        \"num_unique_values\": 194,\n        \"samples\": [\n          \"\\u042d\\u043c\\u0438\\u043b\\u0438\\u044f\",\n          \"\\u0414\\u0430\\u043d\\u0438\\u0438\\u043b\",\n          \"\\u042e\\u043b\\u0438\\u044f\"\n        ],\n        \"semantic_type\": \"\",\n        \"description\": \"\"\n      }\n    },\n    {\n      \"column\": \"age\",\n      \"properties\": {\n        \"dtype\": \"number\",\n        \"std\": 4,\n        \"min\": 12,\n        \"max\": 43,\n        \"num_unique_values\": 29,\n        \"samples\": [\n          39,\n          17,\n          32\n        ],\n        \"semantic_type\": \"\",\n        \"description\": \"\"\n      }\n    },\n    {\n      \"column\": \"city\",\n      \"properties\": {\n        \"dtype\": \"category\",\n        \"num_unique_values\": 8,\n        \"samples\": [\n          \"\\u041e\\u043c\\u0441\\u043a\",\n          \"\\u041f\\u044f\\u0442\\u0438\\u0433\\u043e\\u0440\\u0441\\u043a\",\n          \"\\u0422\\u044e\\u043c\\u0435\\u043d\\u044c\"\n        ],\n        \"semantic_type\": \"\",\n        \"description\": \"\"\n      }\n    },\n    {\n      \"column\": \"subscription_type\",\n      \"properties\": {\n        \"dtype\": \"category\",\n        \"num_unique_values\": 2,\n        \"samples\": [\n          \"free\",\n          \"ultra\"\n        ],\n        \"semantic_type\": \"\",\n        \"description\": \"\"\n      }\n    },\n    {\n      \"column\": \"minute_price\",\n      \"properties\": {\n        \"dtype\": \"number\",\n        \"std\": 0,\n        \"min\": 6,\n        \"max\": 8,\n        \"num_unique_values\": 2,\n        \"samples\": [\n          8,\n          6\n        ],\n        \"semantic_type\": \"\",\n        \"description\": \"\"\n      }\n    },\n    {\n      \"column\": \"start_ride_price\",\n      \"properties\": {\n        \"dtype\": \"number\",\n        \"std\": 23,\n        \"min\": 0,\n        \"max\": 50,\n        \"num_unique_values\": 2,\n        \"samples\": [\n          50,\n          0\n        ],\n        \"semantic_type\": \"\",\n        \"description\": \"\"\n      }\n    },\n    {\n      \"column\": \"subscription_fee\",\n      \"properties\": {\n        \"dtype\": \"number\",\n        \"std\": 95,\n        \"min\": 0,\n        \"max\": 199,\n        \"num_unique_values\": 2,\n        \"samples\": [\n          0,\n          199\n        ],\n        \"semantic_type\": \"\",\n        \"description\": \"\"\n      }\n    }\n  ]\n}"
            }
          },
          "metadata": {},
          "execution_count": 23
        }
      ],
      "source": [
        "total_data = total_data.merge(subscriptions, on='subscription_type', how='left')\n",
        "total_data"
      ]
    },
    {
      "cell_type": "markdown",
      "id": "3717c95d",
      "metadata": {
        "id": "3717c95d"
      },
      "source": [
        "Теперь мы видим не только какой пользователь совершил поездку, но и в подробностях его подписку: бесплатную или ультра."
      ]
    },
    {
      "cell_type": "markdown",
      "id": "d0282a0f",
      "metadata": {
        "id": "d0282a0f"
      },
      "source": [
        "### Датафреймы о пользователях с подпиской и без неё\n",
        "\n",
        "Необходимо разделить получившийся датафрейм total_data на два: в один войдут только пользователи с подпиской ultra, в другой без неё. Для этого, *воспользуюсь* методом query():"
      ]
    },
    {
      "cell_type": "code",
      "execution_count": 24,
      "id": "30ed2761",
      "metadata": {
        "scrolled": false,
        "colab": {
          "base_uri": "https://localhost:8080/",
          "height": 617
        },
        "id": "30ed2761",
        "outputId": "8e483bc3-96f9-4201-9e55-e96a52967502"
      },
      "outputs": [
        {
          "output_type": "execute_result",
          "data": {
            "text/plain": [
              "      user_id     distance   duration       date  month    name  age    city  \\\n",
              "0           1  4409.919140  25.599769 2021-01-01      1    Кира   22  Тюмень   \n",
              "1           1  2617.592153  15.816871 2021-01-18      1    Кира   22  Тюмень   \n",
              "2           1   754.159807   6.232113 2021-04-20      4    Кира   22  Тюмень   \n",
              "3           1  2694.783254  18.511000 2021-08-11      8    Кира   22  Тюмень   \n",
              "4           1  4028.687306  26.265803 2021-08-28      8    Кира   22  Тюмень   \n",
              "...       ...          ...        ...        ...    ...     ...  ...     ...   \n",
              "6495      699  3973.046497  24.671163 2021-08-29      8  Оксана   22  Москва   \n",
              "6496      699  3288.702563  15.892886 2021-09-12      9  Оксана   22  Москва   \n",
              "6497      699  3076.159348  14.389525 2021-09-26      9  Оксана   22  Москва   \n",
              "6498      699  4707.845501  15.839579 2021-10-17     10  Оксана   22  Москва   \n",
              "6499      699  3202.890770  25.217345 2021-12-03     12  Оксана   22  Москва   \n",
              "\n",
              "     subscription_type  minute_price  start_ride_price  subscription_fee  \n",
              "0                ultra             6                 0               199  \n",
              "1                ultra             6                 0               199  \n",
              "2                ultra             6                 0               199  \n",
              "3                ultra             6                 0               199  \n",
              "4                ultra             6                 0               199  \n",
              "...                ...           ...               ...               ...  \n",
              "6495             ultra             6                 0               199  \n",
              "6496             ultra             6                 0               199  \n",
              "6497             ultra             6                 0               199  \n",
              "6498             ultra             6                 0               199  \n",
              "6499             ultra             6                 0               199  \n",
              "\n",
              "[6500 rows x 12 columns]"
            ],
            "text/html": [
              "\n",
              "  <div id=\"df-3b21e71c-e084-456e-97a1-314126eacf1a\" class=\"colab-df-container\">\n",
              "    <div>\n",
              "<style scoped>\n",
              "    .dataframe tbody tr th:only-of-type {\n",
              "        vertical-align: middle;\n",
              "    }\n",
              "\n",
              "    .dataframe tbody tr th {\n",
              "        vertical-align: top;\n",
              "    }\n",
              "\n",
              "    .dataframe thead th {\n",
              "        text-align: right;\n",
              "    }\n",
              "</style>\n",
              "<table border=\"1\" class=\"dataframe\">\n",
              "  <thead>\n",
              "    <tr style=\"text-align: right;\">\n",
              "      <th></th>\n",
              "      <th>user_id</th>\n",
              "      <th>distance</th>\n",
              "      <th>duration</th>\n",
              "      <th>date</th>\n",
              "      <th>month</th>\n",
              "      <th>name</th>\n",
              "      <th>age</th>\n",
              "      <th>city</th>\n",
              "      <th>subscription_type</th>\n",
              "      <th>minute_price</th>\n",
              "      <th>start_ride_price</th>\n",
              "      <th>subscription_fee</th>\n",
              "    </tr>\n",
              "  </thead>\n",
              "  <tbody>\n",
              "    <tr>\n",
              "      <th>0</th>\n",
              "      <td>1</td>\n",
              "      <td>4409.919140</td>\n",
              "      <td>25.599769</td>\n",
              "      <td>2021-01-01</td>\n",
              "      <td>1</td>\n",
              "      <td>Кира</td>\n",
              "      <td>22</td>\n",
              "      <td>Тюмень</td>\n",
              "      <td>ultra</td>\n",
              "      <td>6</td>\n",
              "      <td>0</td>\n",
              "      <td>199</td>\n",
              "    </tr>\n",
              "    <tr>\n",
              "      <th>1</th>\n",
              "      <td>1</td>\n",
              "      <td>2617.592153</td>\n",
              "      <td>15.816871</td>\n",
              "      <td>2021-01-18</td>\n",
              "      <td>1</td>\n",
              "      <td>Кира</td>\n",
              "      <td>22</td>\n",
              "      <td>Тюмень</td>\n",
              "      <td>ultra</td>\n",
              "      <td>6</td>\n",
              "      <td>0</td>\n",
              "      <td>199</td>\n",
              "    </tr>\n",
              "    <tr>\n",
              "      <th>2</th>\n",
              "      <td>1</td>\n",
              "      <td>754.159807</td>\n",
              "      <td>6.232113</td>\n",
              "      <td>2021-04-20</td>\n",
              "      <td>4</td>\n",
              "      <td>Кира</td>\n",
              "      <td>22</td>\n",
              "      <td>Тюмень</td>\n",
              "      <td>ultra</td>\n",
              "      <td>6</td>\n",
              "      <td>0</td>\n",
              "      <td>199</td>\n",
              "    </tr>\n",
              "    <tr>\n",
              "      <th>3</th>\n",
              "      <td>1</td>\n",
              "      <td>2694.783254</td>\n",
              "      <td>18.511000</td>\n",
              "      <td>2021-08-11</td>\n",
              "      <td>8</td>\n",
              "      <td>Кира</td>\n",
              "      <td>22</td>\n",
              "      <td>Тюмень</td>\n",
              "      <td>ultra</td>\n",
              "      <td>6</td>\n",
              "      <td>0</td>\n",
              "      <td>199</td>\n",
              "    </tr>\n",
              "    <tr>\n",
              "      <th>4</th>\n",
              "      <td>1</td>\n",
              "      <td>4028.687306</td>\n",
              "      <td>26.265803</td>\n",
              "      <td>2021-08-28</td>\n",
              "      <td>8</td>\n",
              "      <td>Кира</td>\n",
              "      <td>22</td>\n",
              "      <td>Тюмень</td>\n",
              "      <td>ultra</td>\n",
              "      <td>6</td>\n",
              "      <td>0</td>\n",
              "      <td>199</td>\n",
              "    </tr>\n",
              "    <tr>\n",
              "      <th>...</th>\n",
              "      <td>...</td>\n",
              "      <td>...</td>\n",
              "      <td>...</td>\n",
              "      <td>...</td>\n",
              "      <td>...</td>\n",
              "      <td>...</td>\n",
              "      <td>...</td>\n",
              "      <td>...</td>\n",
              "      <td>...</td>\n",
              "      <td>...</td>\n",
              "      <td>...</td>\n",
              "      <td>...</td>\n",
              "    </tr>\n",
              "    <tr>\n",
              "      <th>6495</th>\n",
              "      <td>699</td>\n",
              "      <td>3973.046497</td>\n",
              "      <td>24.671163</td>\n",
              "      <td>2021-08-29</td>\n",
              "      <td>8</td>\n",
              "      <td>Оксана</td>\n",
              "      <td>22</td>\n",
              "      <td>Москва</td>\n",
              "      <td>ultra</td>\n",
              "      <td>6</td>\n",
              "      <td>0</td>\n",
              "      <td>199</td>\n",
              "    </tr>\n",
              "    <tr>\n",
              "      <th>6496</th>\n",
              "      <td>699</td>\n",
              "      <td>3288.702563</td>\n",
              "      <td>15.892886</td>\n",
              "      <td>2021-09-12</td>\n",
              "      <td>9</td>\n",
              "      <td>Оксана</td>\n",
              "      <td>22</td>\n",
              "      <td>Москва</td>\n",
              "      <td>ultra</td>\n",
              "      <td>6</td>\n",
              "      <td>0</td>\n",
              "      <td>199</td>\n",
              "    </tr>\n",
              "    <tr>\n",
              "      <th>6497</th>\n",
              "      <td>699</td>\n",
              "      <td>3076.159348</td>\n",
              "      <td>14.389525</td>\n",
              "      <td>2021-09-26</td>\n",
              "      <td>9</td>\n",
              "      <td>Оксана</td>\n",
              "      <td>22</td>\n",
              "      <td>Москва</td>\n",
              "      <td>ultra</td>\n",
              "      <td>6</td>\n",
              "      <td>0</td>\n",
              "      <td>199</td>\n",
              "    </tr>\n",
              "    <tr>\n",
              "      <th>6498</th>\n",
              "      <td>699</td>\n",
              "      <td>4707.845501</td>\n",
              "      <td>15.839579</td>\n",
              "      <td>2021-10-17</td>\n",
              "      <td>10</td>\n",
              "      <td>Оксана</td>\n",
              "      <td>22</td>\n",
              "      <td>Москва</td>\n",
              "      <td>ultra</td>\n",
              "      <td>6</td>\n",
              "      <td>0</td>\n",
              "      <td>199</td>\n",
              "    </tr>\n",
              "    <tr>\n",
              "      <th>6499</th>\n",
              "      <td>699</td>\n",
              "      <td>3202.890770</td>\n",
              "      <td>25.217345</td>\n",
              "      <td>2021-12-03</td>\n",
              "      <td>12</td>\n",
              "      <td>Оксана</td>\n",
              "      <td>22</td>\n",
              "      <td>Москва</td>\n",
              "      <td>ultra</td>\n",
              "      <td>6</td>\n",
              "      <td>0</td>\n",
              "      <td>199</td>\n",
              "    </tr>\n",
              "  </tbody>\n",
              "</table>\n",
              "<p>6500 rows × 12 columns</p>\n",
              "</div>\n",
              "    <div class=\"colab-df-buttons\">\n",
              "\n",
              "  <div class=\"colab-df-container\">\n",
              "    <button class=\"colab-df-convert\" onclick=\"convertToInteractive('df-3b21e71c-e084-456e-97a1-314126eacf1a')\"\n",
              "            title=\"Convert this dataframe to an interactive table.\"\n",
              "            style=\"display:none;\">\n",
              "\n",
              "  <svg xmlns=\"http://www.w3.org/2000/svg\" height=\"24px\" viewBox=\"0 -960 960 960\">\n",
              "    <path d=\"M120-120v-720h720v720H120Zm60-500h600v-160H180v160Zm220 220h160v-160H400v160Zm0 220h160v-160H400v160ZM180-400h160v-160H180v160Zm440 0h160v-160H620v160ZM180-180h160v-160H180v160Zm440 0h160v-160H620v160Z\"/>\n",
              "  </svg>\n",
              "    </button>\n",
              "\n",
              "  <style>\n",
              "    .colab-df-container {\n",
              "      display:flex;\n",
              "      gap: 12px;\n",
              "    }\n",
              "\n",
              "    .colab-df-convert {\n",
              "      background-color: #E8F0FE;\n",
              "      border: none;\n",
              "      border-radius: 50%;\n",
              "      cursor: pointer;\n",
              "      display: none;\n",
              "      fill: #1967D2;\n",
              "      height: 32px;\n",
              "      padding: 0 0 0 0;\n",
              "      width: 32px;\n",
              "    }\n",
              "\n",
              "    .colab-df-convert:hover {\n",
              "      background-color: #E2EBFA;\n",
              "      box-shadow: 0px 1px 2px rgba(60, 64, 67, 0.3), 0px 1px 3px 1px rgba(60, 64, 67, 0.15);\n",
              "      fill: #174EA6;\n",
              "    }\n",
              "\n",
              "    .colab-df-buttons div {\n",
              "      margin-bottom: 4px;\n",
              "    }\n",
              "\n",
              "    [theme=dark] .colab-df-convert {\n",
              "      background-color: #3B4455;\n",
              "      fill: #D2E3FC;\n",
              "    }\n",
              "\n",
              "    [theme=dark] .colab-df-convert:hover {\n",
              "      background-color: #434B5C;\n",
              "      box-shadow: 0px 1px 3px 1px rgba(0, 0, 0, 0.15);\n",
              "      filter: drop-shadow(0px 1px 2px rgba(0, 0, 0, 0.3));\n",
              "      fill: #FFFFFF;\n",
              "    }\n",
              "  </style>\n",
              "\n",
              "    <script>\n",
              "      const buttonEl =\n",
              "        document.querySelector('#df-3b21e71c-e084-456e-97a1-314126eacf1a button.colab-df-convert');\n",
              "      buttonEl.style.display =\n",
              "        google.colab.kernel.accessAllowed ? 'block' : 'none';\n",
              "\n",
              "      async function convertToInteractive(key) {\n",
              "        const element = document.querySelector('#df-3b21e71c-e084-456e-97a1-314126eacf1a');\n",
              "        const dataTable =\n",
              "          await google.colab.kernel.invokeFunction('convertToInteractive',\n",
              "                                                    [key], {});\n",
              "        if (!dataTable) return;\n",
              "\n",
              "        const docLinkHtml = 'Like what you see? Visit the ' +\n",
              "          '<a target=\"_blank\" href=https://colab.research.google.com/notebooks/data_table.ipynb>data table notebook</a>'\n",
              "          + ' to learn more about interactive tables.';\n",
              "        element.innerHTML = '';\n",
              "        dataTable['output_type'] = 'display_data';\n",
              "        await google.colab.output.renderOutput(dataTable, element);\n",
              "        const docLink = document.createElement('div');\n",
              "        docLink.innerHTML = docLinkHtml;\n",
              "        element.appendChild(docLink);\n",
              "      }\n",
              "    </script>\n",
              "  </div>\n",
              "\n",
              "\n",
              "<div id=\"df-3396dad5-a0d0-4ddf-9cf4-358b777a9943\">\n",
              "  <button class=\"colab-df-quickchart\" onclick=\"quickchart('df-3396dad5-a0d0-4ddf-9cf4-358b777a9943')\"\n",
              "            title=\"Suggest charts\"\n",
              "            style=\"display:none;\">\n",
              "\n",
              "<svg xmlns=\"http://www.w3.org/2000/svg\" height=\"24px\"viewBox=\"0 0 24 24\"\n",
              "     width=\"24px\">\n",
              "    <g>\n",
              "        <path d=\"M19 3H5c-1.1 0-2 .9-2 2v14c0 1.1.9 2 2 2h14c1.1 0 2-.9 2-2V5c0-1.1-.9-2-2-2zM9 17H7v-7h2v7zm4 0h-2V7h2v10zm4 0h-2v-4h2v4z\"/>\n",
              "    </g>\n",
              "</svg>\n",
              "  </button>\n",
              "\n",
              "<style>\n",
              "  .colab-df-quickchart {\n",
              "      --bg-color: #E8F0FE;\n",
              "      --fill-color: #1967D2;\n",
              "      --hover-bg-color: #E2EBFA;\n",
              "      --hover-fill-color: #174EA6;\n",
              "      --disabled-fill-color: #AAA;\n",
              "      --disabled-bg-color: #DDD;\n",
              "  }\n",
              "\n",
              "  [theme=dark] .colab-df-quickchart {\n",
              "      --bg-color: #3B4455;\n",
              "      --fill-color: #D2E3FC;\n",
              "      --hover-bg-color: #434B5C;\n",
              "      --hover-fill-color: #FFFFFF;\n",
              "      --disabled-bg-color: #3B4455;\n",
              "      --disabled-fill-color: #666;\n",
              "  }\n",
              "\n",
              "  .colab-df-quickchart {\n",
              "    background-color: var(--bg-color);\n",
              "    border: none;\n",
              "    border-radius: 50%;\n",
              "    cursor: pointer;\n",
              "    display: none;\n",
              "    fill: var(--fill-color);\n",
              "    height: 32px;\n",
              "    padding: 0;\n",
              "    width: 32px;\n",
              "  }\n",
              "\n",
              "  .colab-df-quickchart:hover {\n",
              "    background-color: var(--hover-bg-color);\n",
              "    box-shadow: 0 1px 2px rgba(60, 64, 67, 0.3), 0 1px 3px 1px rgba(60, 64, 67, 0.15);\n",
              "    fill: var(--button-hover-fill-color);\n",
              "  }\n",
              "\n",
              "  .colab-df-quickchart-complete:disabled,\n",
              "  .colab-df-quickchart-complete:disabled:hover {\n",
              "    background-color: var(--disabled-bg-color);\n",
              "    fill: var(--disabled-fill-color);\n",
              "    box-shadow: none;\n",
              "  }\n",
              "\n",
              "  .colab-df-spinner {\n",
              "    border: 2px solid var(--fill-color);\n",
              "    border-color: transparent;\n",
              "    border-bottom-color: var(--fill-color);\n",
              "    animation:\n",
              "      spin 1s steps(1) infinite;\n",
              "  }\n",
              "\n",
              "  @keyframes spin {\n",
              "    0% {\n",
              "      border-color: transparent;\n",
              "      border-bottom-color: var(--fill-color);\n",
              "      border-left-color: var(--fill-color);\n",
              "    }\n",
              "    20% {\n",
              "      border-color: transparent;\n",
              "      border-left-color: var(--fill-color);\n",
              "      border-top-color: var(--fill-color);\n",
              "    }\n",
              "    30% {\n",
              "      border-color: transparent;\n",
              "      border-left-color: var(--fill-color);\n",
              "      border-top-color: var(--fill-color);\n",
              "      border-right-color: var(--fill-color);\n",
              "    }\n",
              "    40% {\n",
              "      border-color: transparent;\n",
              "      border-right-color: var(--fill-color);\n",
              "      border-top-color: var(--fill-color);\n",
              "    }\n",
              "    60% {\n",
              "      border-color: transparent;\n",
              "      border-right-color: var(--fill-color);\n",
              "    }\n",
              "    80% {\n",
              "      border-color: transparent;\n",
              "      border-right-color: var(--fill-color);\n",
              "      border-bottom-color: var(--fill-color);\n",
              "    }\n",
              "    90% {\n",
              "      border-color: transparent;\n",
              "      border-bottom-color: var(--fill-color);\n",
              "    }\n",
              "  }\n",
              "</style>\n",
              "\n",
              "  <script>\n",
              "    async function quickchart(key) {\n",
              "      const quickchartButtonEl =\n",
              "        document.querySelector('#' + key + ' button');\n",
              "      quickchartButtonEl.disabled = true;  // To prevent multiple clicks.\n",
              "      quickchartButtonEl.classList.add('colab-df-spinner');\n",
              "      try {\n",
              "        const charts = await google.colab.kernel.invokeFunction(\n",
              "            'suggestCharts', [key], {});\n",
              "      } catch (error) {\n",
              "        console.error('Error during call to suggestCharts:', error);\n",
              "      }\n",
              "      quickchartButtonEl.classList.remove('colab-df-spinner');\n",
              "      quickchartButtonEl.classList.add('colab-df-quickchart-complete');\n",
              "    }\n",
              "    (() => {\n",
              "      let quickchartButtonEl =\n",
              "        document.querySelector('#df-3396dad5-a0d0-4ddf-9cf4-358b777a9943 button');\n",
              "      quickchartButtonEl.style.display =\n",
              "        google.colab.kernel.accessAllowed ? 'block' : 'none';\n",
              "    })();\n",
              "  </script>\n",
              "</div>\n",
              "    </div>\n",
              "  </div>\n"
            ],
            "application/vnd.google.colaboratory.intrinsic+json": {
              "type": "dataframe",
              "variable_name": "data_ultra",
              "summary": "{\n  \"name\": \"data_ultra\",\n  \"rows\": 6500,\n  \"fields\": [\n    {\n      \"column\": \"user_id\",\n      \"properties\": {\n        \"dtype\": \"number\",\n        \"std\": 201,\n        \"min\": 1,\n        \"max\": 699,\n        \"num_unique_values\": 699,\n        \"samples\": [\n          159,\n          500,\n          397\n        ],\n        \"semantic_type\": \"\",\n        \"description\": \"\"\n      }\n    },\n    {\n      \"column\": \"distance\",\n      \"properties\": {\n        \"dtype\": \"number\",\n        \"std\": 836.8953302010374,\n        \"min\": 244.21043833522924,\n        \"max\": 5699.769662039453,\n        \"num_unique_values\": 6500,\n        \"samples\": [\n          2819.0961160924285,\n          2966.979532281833,\n          3988.515963384312\n        ],\n        \"semantic_type\": \"\",\n        \"description\": \"\"\n      }\n    },\n    {\n      \"column\": \"duration\",\n      \"properties\": {\n        \"dtype\": \"number\",\n        \"std\": 5.572048329261366,\n        \"min\": 3.760352854281739,\n        \"max\": 40.82396261922424,\n        \"num_unique_values\": 6500,\n        \"samples\": [\n          16.264658035760952,\n          17.693751687454615,\n          17.252101993208917\n        ],\n        \"semantic_type\": \"\",\n        \"description\": \"\"\n      }\n    },\n    {\n      \"column\": \"date\",\n      \"properties\": {\n        \"dtype\": \"date\",\n        \"min\": \"2021-01-01 00:00:00\",\n        \"max\": \"2021-12-30 00:00:00\",\n        \"num_unique_values\": 364,\n        \"samples\": [\n          \"2021-12-24 00:00:00\",\n          \"2021-09-04 00:00:00\",\n          \"2021-04-08 00:00:00\"\n        ],\n        \"semantic_type\": \"\",\n        \"description\": \"\"\n      }\n    },\n    {\n      \"column\": \"month\",\n      \"properties\": {\n        \"dtype\": \"number\",\n        \"std\": 3,\n        \"min\": 1,\n        \"max\": 12,\n        \"num_unique_values\": 12,\n        \"samples\": [\n          5,\n          2,\n          1\n        ],\n        \"semantic_type\": \"\",\n        \"description\": \"\"\n      }\n    },\n    {\n      \"column\": \"name\",\n      \"properties\": {\n        \"dtype\": \"category\",\n        \"num_unique_values\": 186,\n        \"samples\": [\n          \"\\u0422\\u0430\\u0442\\u044c\\u044f\\u043d\\u0430\",\n          \"\\u0412\\u0438\\u043a\\u0442\\u043e\\u0440\",\n          \"\\u042d\\u043b\\u044c\\u043c\\u0438\\u0440\\u0430\"\n        ],\n        \"semantic_type\": \"\",\n        \"description\": \"\"\n      }\n    },\n    {\n      \"column\": \"age\",\n      \"properties\": {\n        \"dtype\": \"number\",\n        \"std\": 4,\n        \"min\": 12,\n        \"max\": 38,\n        \"num_unique_values\": 27,\n        \"samples\": [\n          18,\n          14,\n          27\n        ],\n        \"semantic_type\": \"\",\n        \"description\": \"\"\n      }\n    },\n    {\n      \"column\": \"city\",\n      \"properties\": {\n        \"dtype\": \"category\",\n        \"num_unique_values\": 8,\n        \"samples\": [\n          \"\\u041e\\u043c\\u0441\\u043a\",\n          \"\\u041f\\u044f\\u0442\\u0438\\u0433\\u043e\\u0440\\u0441\\u043a\",\n          \"\\u0422\\u044e\\u043c\\u0435\\u043d\\u044c\"\n        ],\n        \"semantic_type\": \"\",\n        \"description\": \"\"\n      }\n    },\n    {\n      \"column\": \"subscription_type\",\n      \"properties\": {\n        \"dtype\": \"category\",\n        \"num_unique_values\": 1,\n        \"samples\": [\n          \"ultra\"\n        ],\n        \"semantic_type\": \"\",\n        \"description\": \"\"\n      }\n    },\n    {\n      \"column\": \"minute_price\",\n      \"properties\": {\n        \"dtype\": \"number\",\n        \"std\": 0,\n        \"min\": 6,\n        \"max\": 6,\n        \"num_unique_values\": 1,\n        \"samples\": [\n          6\n        ],\n        \"semantic_type\": \"\",\n        \"description\": \"\"\n      }\n    },\n    {\n      \"column\": \"start_ride_price\",\n      \"properties\": {\n        \"dtype\": \"number\",\n        \"std\": 0,\n        \"min\": 0,\n        \"max\": 0,\n        \"num_unique_values\": 1,\n        \"samples\": [\n          0\n        ],\n        \"semantic_type\": \"\",\n        \"description\": \"\"\n      }\n    },\n    {\n      \"column\": \"subscription_fee\",\n      \"properties\": {\n        \"dtype\": \"number\",\n        \"std\": 0,\n        \"min\": 199,\n        \"max\": 199,\n        \"num_unique_values\": 1,\n        \"samples\": [\n          199\n        ],\n        \"semantic_type\": \"\",\n        \"description\": \"\"\n      }\n    }\n  ]\n}"
            }
          },
          "metadata": {},
          "execution_count": 24
        }
      ],
      "source": [
        "data_ultra = total_data.query('subscription_type == \"ultra\"')\n",
        "data_ultra"
      ]
    },
    {
      "cell_type": "markdown",
      "id": "e86aa6dc",
      "metadata": {
        "id": "e86aa6dc"
      },
      "source": [
        "Выше я создала датафрейм data_ultra. Как видно по выведенной таблице, пользователи там исключительно те, которые имеют подписку ultra. Сделаю такую же, но только с бесплатными пользователями."
      ]
    },
    {
      "cell_type": "code",
      "execution_count": 25,
      "id": "1d92c4cd",
      "metadata": {
        "scrolled": false,
        "colab": {
          "base_uri": "https://localhost:8080/",
          "height": 617
        },
        "id": "1d92c4cd",
        "outputId": "b21ab0d7-f496-4f35-ffff-a6e6ad8b04c2"
      },
      "outputs": [
        {
          "output_type": "execute_result",
          "data": {
            "text/plain": [
              "       user_id     distance   duration       date  month     name  age  \\\n",
              "6500       700  2515.690719  14.944286 2021-01-02      1    Айдар   22   \n",
              "6501       700   846.932642  16.234663 2021-02-01      2    Айдар   22   \n",
              "6502       700  4004.434142  20.016628 2021-02-04      2    Айдар   22   \n",
              "6503       700  1205.911290   9.782872 2021-02-10      2    Айдар   22   \n",
              "6504       700  3047.379435  17.427673 2021-02-14      2    Айдар   22   \n",
              "...        ...          ...        ...        ...    ...      ...  ...   \n",
              "18063     1534  3781.098080  19.822962 2021-11-04     11  Альберт   25   \n",
              "18064     1534  2840.423057  21.409799 2021-11-16     11  Альберт   25   \n",
              "18065     1534  3826.185507  18.435051 2021-11-18     11  Альберт   25   \n",
              "18066     1534  2902.308661  16.674362 2021-11-27     11  Альберт   25   \n",
              "18067     1534  2371.711192  15.893917 2021-12-29     12  Альберт   25   \n",
              "\n",
              "            city subscription_type  minute_price  start_ride_price  \\\n",
              "6500        Омск              free             8                50   \n",
              "6501        Омск              free             8                50   \n",
              "6502        Омск              free             8                50   \n",
              "6503        Омск              free             8                50   \n",
              "6504        Омск              free             8                50   \n",
              "...          ...               ...           ...               ...   \n",
              "18063  Краснодар              free             8                50   \n",
              "18064  Краснодар              free             8                50   \n",
              "18065  Краснодар              free             8                50   \n",
              "18066  Краснодар              free             8                50   \n",
              "18067  Краснодар              free             8                50   \n",
              "\n",
              "       subscription_fee  \n",
              "6500                  0  \n",
              "6501                  0  \n",
              "6502                  0  \n",
              "6503                  0  \n",
              "6504                  0  \n",
              "...                 ...  \n",
              "18063                 0  \n",
              "18064                 0  \n",
              "18065                 0  \n",
              "18066                 0  \n",
              "18067                 0  \n",
              "\n",
              "[11568 rows x 12 columns]"
            ],
            "text/html": [
              "\n",
              "  <div id=\"df-515e68a4-62da-4c60-ab50-b20b01fd0f3e\" class=\"colab-df-container\">\n",
              "    <div>\n",
              "<style scoped>\n",
              "    .dataframe tbody tr th:only-of-type {\n",
              "        vertical-align: middle;\n",
              "    }\n",
              "\n",
              "    .dataframe tbody tr th {\n",
              "        vertical-align: top;\n",
              "    }\n",
              "\n",
              "    .dataframe thead th {\n",
              "        text-align: right;\n",
              "    }\n",
              "</style>\n",
              "<table border=\"1\" class=\"dataframe\">\n",
              "  <thead>\n",
              "    <tr style=\"text-align: right;\">\n",
              "      <th></th>\n",
              "      <th>user_id</th>\n",
              "      <th>distance</th>\n",
              "      <th>duration</th>\n",
              "      <th>date</th>\n",
              "      <th>month</th>\n",
              "      <th>name</th>\n",
              "      <th>age</th>\n",
              "      <th>city</th>\n",
              "      <th>subscription_type</th>\n",
              "      <th>minute_price</th>\n",
              "      <th>start_ride_price</th>\n",
              "      <th>subscription_fee</th>\n",
              "    </tr>\n",
              "  </thead>\n",
              "  <tbody>\n",
              "    <tr>\n",
              "      <th>6500</th>\n",
              "      <td>700</td>\n",
              "      <td>2515.690719</td>\n",
              "      <td>14.944286</td>\n",
              "      <td>2021-01-02</td>\n",
              "      <td>1</td>\n",
              "      <td>Айдар</td>\n",
              "      <td>22</td>\n",
              "      <td>Омск</td>\n",
              "      <td>free</td>\n",
              "      <td>8</td>\n",
              "      <td>50</td>\n",
              "      <td>0</td>\n",
              "    </tr>\n",
              "    <tr>\n",
              "      <th>6501</th>\n",
              "      <td>700</td>\n",
              "      <td>846.932642</td>\n",
              "      <td>16.234663</td>\n",
              "      <td>2021-02-01</td>\n",
              "      <td>2</td>\n",
              "      <td>Айдар</td>\n",
              "      <td>22</td>\n",
              "      <td>Омск</td>\n",
              "      <td>free</td>\n",
              "      <td>8</td>\n",
              "      <td>50</td>\n",
              "      <td>0</td>\n",
              "    </tr>\n",
              "    <tr>\n",
              "      <th>6502</th>\n",
              "      <td>700</td>\n",
              "      <td>4004.434142</td>\n",
              "      <td>20.016628</td>\n",
              "      <td>2021-02-04</td>\n",
              "      <td>2</td>\n",
              "      <td>Айдар</td>\n",
              "      <td>22</td>\n",
              "      <td>Омск</td>\n",
              "      <td>free</td>\n",
              "      <td>8</td>\n",
              "      <td>50</td>\n",
              "      <td>0</td>\n",
              "    </tr>\n",
              "    <tr>\n",
              "      <th>6503</th>\n",
              "      <td>700</td>\n",
              "      <td>1205.911290</td>\n",
              "      <td>9.782872</td>\n",
              "      <td>2021-02-10</td>\n",
              "      <td>2</td>\n",
              "      <td>Айдар</td>\n",
              "      <td>22</td>\n",
              "      <td>Омск</td>\n",
              "      <td>free</td>\n",
              "      <td>8</td>\n",
              "      <td>50</td>\n",
              "      <td>0</td>\n",
              "    </tr>\n",
              "    <tr>\n",
              "      <th>6504</th>\n",
              "      <td>700</td>\n",
              "      <td>3047.379435</td>\n",
              "      <td>17.427673</td>\n",
              "      <td>2021-02-14</td>\n",
              "      <td>2</td>\n",
              "      <td>Айдар</td>\n",
              "      <td>22</td>\n",
              "      <td>Омск</td>\n",
              "      <td>free</td>\n",
              "      <td>8</td>\n",
              "      <td>50</td>\n",
              "      <td>0</td>\n",
              "    </tr>\n",
              "    <tr>\n",
              "      <th>...</th>\n",
              "      <td>...</td>\n",
              "      <td>...</td>\n",
              "      <td>...</td>\n",
              "      <td>...</td>\n",
              "      <td>...</td>\n",
              "      <td>...</td>\n",
              "      <td>...</td>\n",
              "      <td>...</td>\n",
              "      <td>...</td>\n",
              "      <td>...</td>\n",
              "      <td>...</td>\n",
              "      <td>...</td>\n",
              "    </tr>\n",
              "    <tr>\n",
              "      <th>18063</th>\n",
              "      <td>1534</td>\n",
              "      <td>3781.098080</td>\n",
              "      <td>19.822962</td>\n",
              "      <td>2021-11-04</td>\n",
              "      <td>11</td>\n",
              "      <td>Альберт</td>\n",
              "      <td>25</td>\n",
              "      <td>Краснодар</td>\n",
              "      <td>free</td>\n",
              "      <td>8</td>\n",
              "      <td>50</td>\n",
              "      <td>0</td>\n",
              "    </tr>\n",
              "    <tr>\n",
              "      <th>18064</th>\n",
              "      <td>1534</td>\n",
              "      <td>2840.423057</td>\n",
              "      <td>21.409799</td>\n",
              "      <td>2021-11-16</td>\n",
              "      <td>11</td>\n",
              "      <td>Альберт</td>\n",
              "      <td>25</td>\n",
              "      <td>Краснодар</td>\n",
              "      <td>free</td>\n",
              "      <td>8</td>\n",
              "      <td>50</td>\n",
              "      <td>0</td>\n",
              "    </tr>\n",
              "    <tr>\n",
              "      <th>18065</th>\n",
              "      <td>1534</td>\n",
              "      <td>3826.185507</td>\n",
              "      <td>18.435051</td>\n",
              "      <td>2021-11-18</td>\n",
              "      <td>11</td>\n",
              "      <td>Альберт</td>\n",
              "      <td>25</td>\n",
              "      <td>Краснодар</td>\n",
              "      <td>free</td>\n",
              "      <td>8</td>\n",
              "      <td>50</td>\n",
              "      <td>0</td>\n",
              "    </tr>\n",
              "    <tr>\n",
              "      <th>18066</th>\n",
              "      <td>1534</td>\n",
              "      <td>2902.308661</td>\n",
              "      <td>16.674362</td>\n",
              "      <td>2021-11-27</td>\n",
              "      <td>11</td>\n",
              "      <td>Альберт</td>\n",
              "      <td>25</td>\n",
              "      <td>Краснодар</td>\n",
              "      <td>free</td>\n",
              "      <td>8</td>\n",
              "      <td>50</td>\n",
              "      <td>0</td>\n",
              "    </tr>\n",
              "    <tr>\n",
              "      <th>18067</th>\n",
              "      <td>1534</td>\n",
              "      <td>2371.711192</td>\n",
              "      <td>15.893917</td>\n",
              "      <td>2021-12-29</td>\n",
              "      <td>12</td>\n",
              "      <td>Альберт</td>\n",
              "      <td>25</td>\n",
              "      <td>Краснодар</td>\n",
              "      <td>free</td>\n",
              "      <td>8</td>\n",
              "      <td>50</td>\n",
              "      <td>0</td>\n",
              "    </tr>\n",
              "  </tbody>\n",
              "</table>\n",
              "<p>11568 rows × 12 columns</p>\n",
              "</div>\n",
              "    <div class=\"colab-df-buttons\">\n",
              "\n",
              "  <div class=\"colab-df-container\">\n",
              "    <button class=\"colab-df-convert\" onclick=\"convertToInteractive('df-515e68a4-62da-4c60-ab50-b20b01fd0f3e')\"\n",
              "            title=\"Convert this dataframe to an interactive table.\"\n",
              "            style=\"display:none;\">\n",
              "\n",
              "  <svg xmlns=\"http://www.w3.org/2000/svg\" height=\"24px\" viewBox=\"0 -960 960 960\">\n",
              "    <path d=\"M120-120v-720h720v720H120Zm60-500h600v-160H180v160Zm220 220h160v-160H400v160Zm0 220h160v-160H400v160ZM180-400h160v-160H180v160Zm440 0h160v-160H620v160ZM180-180h160v-160H180v160Zm440 0h160v-160H620v160Z\"/>\n",
              "  </svg>\n",
              "    </button>\n",
              "\n",
              "  <style>\n",
              "    .colab-df-container {\n",
              "      display:flex;\n",
              "      gap: 12px;\n",
              "    }\n",
              "\n",
              "    .colab-df-convert {\n",
              "      background-color: #E8F0FE;\n",
              "      border: none;\n",
              "      border-radius: 50%;\n",
              "      cursor: pointer;\n",
              "      display: none;\n",
              "      fill: #1967D2;\n",
              "      height: 32px;\n",
              "      padding: 0 0 0 0;\n",
              "      width: 32px;\n",
              "    }\n",
              "\n",
              "    .colab-df-convert:hover {\n",
              "      background-color: #E2EBFA;\n",
              "      box-shadow: 0px 1px 2px rgba(60, 64, 67, 0.3), 0px 1px 3px 1px rgba(60, 64, 67, 0.15);\n",
              "      fill: #174EA6;\n",
              "    }\n",
              "\n",
              "    .colab-df-buttons div {\n",
              "      margin-bottom: 4px;\n",
              "    }\n",
              "\n",
              "    [theme=dark] .colab-df-convert {\n",
              "      background-color: #3B4455;\n",
              "      fill: #D2E3FC;\n",
              "    }\n",
              "\n",
              "    [theme=dark] .colab-df-convert:hover {\n",
              "      background-color: #434B5C;\n",
              "      box-shadow: 0px 1px 3px 1px rgba(0, 0, 0, 0.15);\n",
              "      filter: drop-shadow(0px 1px 2px rgba(0, 0, 0, 0.3));\n",
              "      fill: #FFFFFF;\n",
              "    }\n",
              "  </style>\n",
              "\n",
              "    <script>\n",
              "      const buttonEl =\n",
              "        document.querySelector('#df-515e68a4-62da-4c60-ab50-b20b01fd0f3e button.colab-df-convert');\n",
              "      buttonEl.style.display =\n",
              "        google.colab.kernel.accessAllowed ? 'block' : 'none';\n",
              "\n",
              "      async function convertToInteractive(key) {\n",
              "        const element = document.querySelector('#df-515e68a4-62da-4c60-ab50-b20b01fd0f3e');\n",
              "        const dataTable =\n",
              "          await google.colab.kernel.invokeFunction('convertToInteractive',\n",
              "                                                    [key], {});\n",
              "        if (!dataTable) return;\n",
              "\n",
              "        const docLinkHtml = 'Like what you see? Visit the ' +\n",
              "          '<a target=\"_blank\" href=https://colab.research.google.com/notebooks/data_table.ipynb>data table notebook</a>'\n",
              "          + ' to learn more about interactive tables.';\n",
              "        element.innerHTML = '';\n",
              "        dataTable['output_type'] = 'display_data';\n",
              "        await google.colab.output.renderOutput(dataTable, element);\n",
              "        const docLink = document.createElement('div');\n",
              "        docLink.innerHTML = docLinkHtml;\n",
              "        element.appendChild(docLink);\n",
              "      }\n",
              "    </script>\n",
              "  </div>\n",
              "\n",
              "\n",
              "<div id=\"df-ca15becf-cb0b-47a9-930c-3a15d3fef4ff\">\n",
              "  <button class=\"colab-df-quickchart\" onclick=\"quickchart('df-ca15becf-cb0b-47a9-930c-3a15d3fef4ff')\"\n",
              "            title=\"Suggest charts\"\n",
              "            style=\"display:none;\">\n",
              "\n",
              "<svg xmlns=\"http://www.w3.org/2000/svg\" height=\"24px\"viewBox=\"0 0 24 24\"\n",
              "     width=\"24px\">\n",
              "    <g>\n",
              "        <path d=\"M19 3H5c-1.1 0-2 .9-2 2v14c0 1.1.9 2 2 2h14c1.1 0 2-.9 2-2V5c0-1.1-.9-2-2-2zM9 17H7v-7h2v7zm4 0h-2V7h2v10zm4 0h-2v-4h2v4z\"/>\n",
              "    </g>\n",
              "</svg>\n",
              "  </button>\n",
              "\n",
              "<style>\n",
              "  .colab-df-quickchart {\n",
              "      --bg-color: #E8F0FE;\n",
              "      --fill-color: #1967D2;\n",
              "      --hover-bg-color: #E2EBFA;\n",
              "      --hover-fill-color: #174EA6;\n",
              "      --disabled-fill-color: #AAA;\n",
              "      --disabled-bg-color: #DDD;\n",
              "  }\n",
              "\n",
              "  [theme=dark] .colab-df-quickchart {\n",
              "      --bg-color: #3B4455;\n",
              "      --fill-color: #D2E3FC;\n",
              "      --hover-bg-color: #434B5C;\n",
              "      --hover-fill-color: #FFFFFF;\n",
              "      --disabled-bg-color: #3B4455;\n",
              "      --disabled-fill-color: #666;\n",
              "  }\n",
              "\n",
              "  .colab-df-quickchart {\n",
              "    background-color: var(--bg-color);\n",
              "    border: none;\n",
              "    border-radius: 50%;\n",
              "    cursor: pointer;\n",
              "    display: none;\n",
              "    fill: var(--fill-color);\n",
              "    height: 32px;\n",
              "    padding: 0;\n",
              "    width: 32px;\n",
              "  }\n",
              "\n",
              "  .colab-df-quickchart:hover {\n",
              "    background-color: var(--hover-bg-color);\n",
              "    box-shadow: 0 1px 2px rgba(60, 64, 67, 0.3), 0 1px 3px 1px rgba(60, 64, 67, 0.15);\n",
              "    fill: var(--button-hover-fill-color);\n",
              "  }\n",
              "\n",
              "  .colab-df-quickchart-complete:disabled,\n",
              "  .colab-df-quickchart-complete:disabled:hover {\n",
              "    background-color: var(--disabled-bg-color);\n",
              "    fill: var(--disabled-fill-color);\n",
              "    box-shadow: none;\n",
              "  }\n",
              "\n",
              "  .colab-df-spinner {\n",
              "    border: 2px solid var(--fill-color);\n",
              "    border-color: transparent;\n",
              "    border-bottom-color: var(--fill-color);\n",
              "    animation:\n",
              "      spin 1s steps(1) infinite;\n",
              "  }\n",
              "\n",
              "  @keyframes spin {\n",
              "    0% {\n",
              "      border-color: transparent;\n",
              "      border-bottom-color: var(--fill-color);\n",
              "      border-left-color: var(--fill-color);\n",
              "    }\n",
              "    20% {\n",
              "      border-color: transparent;\n",
              "      border-left-color: var(--fill-color);\n",
              "      border-top-color: var(--fill-color);\n",
              "    }\n",
              "    30% {\n",
              "      border-color: transparent;\n",
              "      border-left-color: var(--fill-color);\n",
              "      border-top-color: var(--fill-color);\n",
              "      border-right-color: var(--fill-color);\n",
              "    }\n",
              "    40% {\n",
              "      border-color: transparent;\n",
              "      border-right-color: var(--fill-color);\n",
              "      border-top-color: var(--fill-color);\n",
              "    }\n",
              "    60% {\n",
              "      border-color: transparent;\n",
              "      border-right-color: var(--fill-color);\n",
              "    }\n",
              "    80% {\n",
              "      border-color: transparent;\n",
              "      border-right-color: var(--fill-color);\n",
              "      border-bottom-color: var(--fill-color);\n",
              "    }\n",
              "    90% {\n",
              "      border-color: transparent;\n",
              "      border-bottom-color: var(--fill-color);\n",
              "    }\n",
              "  }\n",
              "</style>\n",
              "\n",
              "  <script>\n",
              "    async function quickchart(key) {\n",
              "      const quickchartButtonEl =\n",
              "        document.querySelector('#' + key + ' button');\n",
              "      quickchartButtonEl.disabled = true;  // To prevent multiple clicks.\n",
              "      quickchartButtonEl.classList.add('colab-df-spinner');\n",
              "      try {\n",
              "        const charts = await google.colab.kernel.invokeFunction(\n",
              "            'suggestCharts', [key], {});\n",
              "      } catch (error) {\n",
              "        console.error('Error during call to suggestCharts:', error);\n",
              "      }\n",
              "      quickchartButtonEl.classList.remove('colab-df-spinner');\n",
              "      quickchartButtonEl.classList.add('colab-df-quickchart-complete');\n",
              "    }\n",
              "    (() => {\n",
              "      let quickchartButtonEl =\n",
              "        document.querySelector('#df-ca15becf-cb0b-47a9-930c-3a15d3fef4ff button');\n",
              "      quickchartButtonEl.style.display =\n",
              "        google.colab.kernel.accessAllowed ? 'block' : 'none';\n",
              "    })();\n",
              "  </script>\n",
              "</div>\n",
              "    </div>\n",
              "  </div>\n"
            ],
            "application/vnd.google.colaboratory.intrinsic+json": {
              "type": "dataframe",
              "variable_name": "data_free",
              "summary": "{\n  \"name\": \"data_free\",\n  \"rows\": 11568,\n  \"fields\": [\n    {\n      \"column\": \"user_id\",\n      \"properties\": {\n        \"dtype\": \"number\",\n        \"std\": 241,\n        \"min\": 700,\n        \"max\": 1534,\n        \"num_unique_values\": 835,\n        \"samples\": [\n          1311,\n          1522,\n          990\n        ],\n        \"semantic_type\": \"\",\n        \"description\": \"\"\n      }\n    },\n    {\n      \"column\": \"distance\",\n      \"properties\": {\n        \"dtype\": \"number\",\n        \"std\": 1246.1738059036938,\n        \"min\": 0.855682925681208,\n        \"max\": 7211.007744598519,\n        \"num_unique_values\": 11568,\n        \"samples\": [\n          3767.770897975378,\n          270.2893869188026,\n          4918.195322420392\n        ],\n        \"semantic_type\": \"\",\n        \"description\": \"\"\n      }\n    },\n    {\n      \"column\": \"duration\",\n      \"properties\": {\n        \"dtype\": \"number\",\n        \"std\": 6.326802859586482,\n        \"min\": 0.5,\n        \"max\": 34.948498234556965,\n        \"num_unique_values\": 11474,\n        \"samples\": [\n          33.022762789127846,\n          14.818713331424773,\n          23.65115665362108\n        ],\n        \"semantic_type\": \"\",\n        \"description\": \"\"\n      }\n    },\n    {\n      \"column\": \"date\",\n      \"properties\": {\n        \"dtype\": \"date\",\n        \"min\": \"2021-01-01 00:00:00\",\n        \"max\": \"2021-12-30 00:00:00\",\n        \"num_unique_values\": 364,\n        \"samples\": [\n          \"2021-01-26 00:00:00\",\n          \"2021-10-27 00:00:00\",\n          \"2021-11-03 00:00:00\"\n        ],\n        \"semantic_type\": \"\",\n        \"description\": \"\"\n      }\n    },\n    {\n      \"column\": \"month\",\n      \"properties\": {\n        \"dtype\": \"number\",\n        \"std\": 3,\n        \"min\": 1,\n        \"max\": 12,\n        \"num_unique_values\": 12,\n        \"samples\": [\n          9,\n          5,\n          1\n        ],\n        \"semantic_type\": \"\",\n        \"description\": \"\"\n      }\n    },\n    {\n      \"column\": \"name\",\n      \"properties\": {\n        \"dtype\": \"category\",\n        \"num_unique_values\": 190,\n        \"samples\": [\n          \"\\u0410\\u043d\\u0433\\u0435\\u043b\\u0438\\u043d\\u0430\",\n          \"\\u0420\\u043e\\u043c\\u0430\\u043d\",\n          \"\\u041d\\u0430\\u0442\\u0430\\u0448\\u0430\"\n        ],\n        \"semantic_type\": \"\",\n        \"description\": \"\"\n      }\n    },\n    {\n      \"column\": \"age\",\n      \"properties\": {\n        \"dtype\": \"number\",\n        \"std\": 4,\n        \"min\": 12,\n        \"max\": 43,\n        \"num_unique_values\": 29,\n        \"samples\": [\n          16,\n          18,\n          26\n        ],\n        \"semantic_type\": \"\",\n        \"description\": \"\"\n      }\n    },\n    {\n      \"column\": \"city\",\n      \"properties\": {\n        \"dtype\": \"category\",\n        \"num_unique_values\": 8,\n        \"samples\": [\n          \"\\u0415\\u043a\\u0430\\u0442\\u0435\\u0440\\u0438\\u043d\\u0431\\u0443\\u0440\\u0433\",\n          \"\\u0421\\u043e\\u0447\\u0438\",\n          \"\\u041e\\u043c\\u0441\\u043a\"\n        ],\n        \"semantic_type\": \"\",\n        \"description\": \"\"\n      }\n    },\n    {\n      \"column\": \"subscription_type\",\n      \"properties\": {\n        \"dtype\": \"category\",\n        \"num_unique_values\": 1,\n        \"samples\": [\n          \"free\"\n        ],\n        \"semantic_type\": \"\",\n        \"description\": \"\"\n      }\n    },\n    {\n      \"column\": \"minute_price\",\n      \"properties\": {\n        \"dtype\": \"number\",\n        \"std\": 0,\n        \"min\": 8,\n        \"max\": 8,\n        \"num_unique_values\": 1,\n        \"samples\": [\n          8\n        ],\n        \"semantic_type\": \"\",\n        \"description\": \"\"\n      }\n    },\n    {\n      \"column\": \"start_ride_price\",\n      \"properties\": {\n        \"dtype\": \"number\",\n        \"std\": 0,\n        \"min\": 50,\n        \"max\": 50,\n        \"num_unique_values\": 1,\n        \"samples\": [\n          50\n        ],\n        \"semantic_type\": \"\",\n        \"description\": \"\"\n      }\n    },\n    {\n      \"column\": \"subscription_fee\",\n      \"properties\": {\n        \"dtype\": \"number\",\n        \"std\": 0,\n        \"min\": 0,\n        \"max\": 0,\n        \"num_unique_values\": 1,\n        \"samples\": [\n          0\n        ],\n        \"semantic_type\": \"\",\n        \"description\": \"\"\n      }\n    }\n  ]\n}"
            }
          },
          "metadata": {},
          "execution_count": 25
        }
      ],
      "source": [
        "data_free = total_data.query('subscription_type == \"free\"')\n",
        "data_free"
      ]
    },
    {
      "cell_type": "markdown",
      "id": "9df208b7",
      "metadata": {
        "id": "9df208b7"
      },
      "source": [
        "#### Данные о поездках пользователей с подпиской и без\n",
        "\n",
        "Визуализирую данные о дальности и длительности поездок из созданных двух датасетов. Начну с дальности:"
      ]
    },
    {
      "cell_type": "code",
      "execution_count": 26,
      "id": "5923425e",
      "metadata": {
        "scrolled": true,
        "colab": {
          "base_uri": "https://localhost:8080/",
          "height": 422
        },
        "id": "5923425e",
        "outputId": "2f644383-d141-444b-d265-33e6726c3761"
      },
      "outputs": [
        {
          "output_type": "display_data",
          "data": {
            "text/plain": [
              "<Figure size 1600x500 with 2 Axes>"
            ],
            "image/png": "[encoded data removed]"
          },
          "metadata": {}
        }
      ],
      "source": [
        "fig, axes = plt.subplots(1,2,figsize=(16,5))\n",
        "axes[0].hist(data_ultra['distance'], bins=30, color='y')\n",
        "axes[1].hist(data_free['distance'], bins=30, color='g')\n",
        "axes[0].set_ylabel('Кол-во поездок с подпиской ultra')\n",
        "axes[0].set_xlabel('Расстояние за одну поездку с подпиской')\n",
        "axes[1].set_ylabel('Кол-во поездок с бесплатной подпиской')\n",
        "axes[1].set_xlabel('Расстояние за одну поездку без подписки')\n",
        "fig.suptitle('Расстояние с подпиской Ultra  и без');"
      ]
    },
    {
      "cell_type": "markdown",
      "id": "27f91bad",
      "metadata": {
        "id": "27f91bad"
      },
      "source": [
        "Несмотря на то, что гистограмма без подписки имеет больший хвост в дальнюю сторону (свыше 7 км против 5,5 км с подпиской), отчётливо видна смещённая мода (самое частое значение). Выведем среднее обоих графиков, чтобы знать наверняка:"
      ]
    },
    {
      "cell_type": "code",
      "execution_count": 27,
      "id": "293c2595",
      "metadata": {
        "colab": {
          "base_uri": "https://localhost:8080/"
        },
        "id": "293c2595",
        "outputId": "fe263bcd-1ac7-4b35-d545-10005dc9ef7c"
      },
      "outputs": [
        {
          "output_type": "stream",
          "name": "stdout",
          "text": [
            "Среднее с подпиской: 3115.45\n",
            "Без подписки: 3045.5\n"
          ]
        }
      ],
      "source": [
        "print('Среднее с подпиской:', data_ultra['distance'].mean().round(2))\n",
        "print('Без подписки:', data_free['distance'].mean().round(2))"
      ]
    },
    {
      "cell_type": "markdown",
      "id": "6cd78735",
      "metadata": {
        "id": "6cd78735"
      },
      "source": [
        "Действительно, видно, что люди без подписки имеют тенденцию совершать более короткие поездки, чем с подпиской.\n",
        "\n",
        "Теперь оценим длительность."
      ]
    },
    {
      "cell_type": "code",
      "execution_count": 28,
      "id": "c4ec1ba1",
      "metadata": {
        "scrolled": true,
        "colab": {
          "base_uri": "https://localhost:8080/",
          "height": 422
        },
        "id": "c4ec1ba1",
        "outputId": "ee52e110-8ecb-4278-e06e-9e027f6dd4bb"
      },
      "outputs": [
        {
          "output_type": "display_data",
          "data": {
            "text/plain": [
              "<Figure size 1600x500 with 2 Axes>"
            ],
            "image/png": "[encoded data removed]"
          },
          "metadata": {}
        }
      ],
      "source": [
        "fig, axes = plt.subplots(1,2,figsize=(16,5))\n",
        "axes[0].hist(data_ultra['duration'], bins=30, color='y')\n",
        "axes[1].hist(data_free['duration'], bins=30, color='g')\n",
        "axes[0].set_ylabel('Кол-во поездок с подпиской ultra')\n",
        "axes[0].set_xlabel('Время, затраченное на поездку с подпиской')\n",
        "axes[1].set_ylabel('Кол-во поездок с бесплатной подпиской')\n",
        "axes[1].set_xlabel('Время, затраченное на поездку без подписки')\n",
        "fig.suptitle('Длительность поездок с подпиской Ultra  и без');"
      ]
    },
    {
      "cell_type": "markdown",
      "id": "3b6ae68d",
      "metadata": {
        "id": "3b6ae68d"
      },
      "source": [
        "Сами по себе эти графики не такие наглядные, разве что интересно выглядит резкий подъём около нуля в длительности поездок без подписки. Сравним средние:"
      ]
    },
    {
      "cell_type": "code",
      "execution_count": 29,
      "id": "9b34f609",
      "metadata": {
        "colab": {
          "base_uri": "https://localhost:8080/"
        },
        "id": "9b34f609",
        "outputId": "9bafae81-1160-4197-8127-bcc326073837"
      },
      "outputs": [
        {
          "output_type": "stream",
          "name": "stdout",
          "text": [
            "Среднее с подпиской: 18.54\n",
            "Без подписки: 17.39\n"
          ]
        }
      ],
      "source": [
        "print('Среднее с подпиской:', data_ultra['duration'].mean().round(2))\n",
        "print('Без подписки:', data_free['duration'].mean().round(2))"
      ]
    },
    {
      "cell_type": "markdown",
      "id": "1f80565e",
      "metadata": {
        "id": "1f80565e"
      },
      "source": [
        "Как видно, и тут значение без подписки ниже, чем с подпиской."
      ]
    },
    {
      "cell_type": "markdown",
      "id": "16618309",
      "metadata": {
        "id": "16618309"
      },
      "source": [
        "### Промежуточный вывод\n",
        "\n",
        "На этом шаге мы объединили данные из трёх датасетов, а затем разделили их по признаку наличия или отсутствия у пользователя подписки ultra.\n",
        "\n",
        "После этого мы проанализировали информацию о времени поездок и расстоянии, которое пользователь преодолел за одну поездку.\n",
        "\n",
        "Cуммируя результаты анализа обоих параметров дальности и длительности можно сказать, что пользователи, которые не покупают подписку ultra ездят более короткие поездки. Возможно, это связано со стоимостью: в подписке ultra стоимость одной минуты езды составляет всего 6 рублей, тогда как без подписки приходится платить 8 рублей."
      ]
    },
    {
      "cell_type": "markdown",
      "id": "402d620f",
      "metadata": {
        "id": "402d620f"
      },
      "source": [
        "## Подсчёт выручки"
      ]
    },
    {
      "cell_type": "markdown",
      "id": "eb370e9a",
      "metadata": {
        "id": "eb370e9a"
      },
      "source": [
        "### Группировка по пользователям и месяцам\n",
        "\n",
        "В предыдущем шаге я создавала общий датафрейм из трёх исходных, назвав его total_data. Теперь нужно сгруппировать данные из него по пользователям и месяцам.\n",
        "\n",
        "Сперва округлю значения дистанции и продолжительности до целых значений. Затем подсчитаю суммарные расстояния и длительности поездок для каждого отдельного пользователя."
      ]
    },
    {
      "cell_type": "code",
      "execution_count": 30,
      "id": "fe224db6",
      "metadata": {
        "id": "fe224db6"
      },
      "outputs": [],
      "source": [
        "total_data[['distance', 'duration']] = np.ceil(total_data[['distance', 'duration']]) #округление"
      ]
    },
    {
      "cell_type": "code",
      "execution_count": 31,
      "id": "c6c33514",
      "metadata": {
        "colab": {
          "base_uri": "https://localhost:8080/",
          "height": 455
        },
        "id": "c6c33514",
        "outputId": "be95310a-3058-4756-95db-a36f376c353b"
      },
      "outputs": [
        {
          "output_type": "execute_result",
          "data": {
            "text/plain": [
              "               distance  duration\n",
              "user_id month                    \n",
              "1       1        7028.0      42.0\n",
              "        4         755.0       7.0\n",
              "        8        6724.0      46.0\n",
              "        10       5811.0      32.0\n",
              "        11       7005.0      56.0\n",
              "...                 ...       ...\n",
              "1534    6        3411.0      26.0\n",
              "        8        7623.0      48.0\n",
              "        9        4929.0      23.0\n",
              "        11      13353.0      78.0\n",
              "        12       2372.0      16.0\n",
              "\n",
              "[11331 rows x 2 columns]"
            ],
            "text/html": [
              "\n",
              "  <div id=\"df-1c34a49a-21d3-4ff8-b793-6ba8209bae21\" class=\"colab-df-container\">\n",
              "    <div>\n",
              "<style scoped>\n",
              "    .dataframe tbody tr th:only-of-type {\n",
              "        vertical-align: middle;\n",
              "    }\n",
              "\n",
              "    .dataframe tbody tr th {\n",
              "        vertical-align: top;\n",
              "    }\n",
              "\n",
              "    .dataframe thead th {\n",
              "        text-align: right;\n",
              "    }\n",
              "</style>\n",
              "<table border=\"1\" class=\"dataframe\">\n",
              "  <thead>\n",
              "    <tr style=\"text-align: right;\">\n",
              "      <th></th>\n",
              "      <th></th>\n",
              "      <th>distance</th>\n",
              "      <th>duration</th>\n",
              "    </tr>\n",
              "    <tr>\n",
              "      <th>user_id</th>\n",
              "      <th>month</th>\n",
              "      <th></th>\n",
              "      <th></th>\n",
              "    </tr>\n",
              "  </thead>\n",
              "  <tbody>\n",
              "    <tr>\n",
              "      <th rowspan=\"5\" valign=\"top\">1</th>\n",
              "      <th>1</th>\n",
              "      <td>7028.0</td>\n",
              "      <td>42.0</td>\n",
              "    </tr>\n",
              "    <tr>\n",
              "      <th>4</th>\n",
              "      <td>755.0</td>\n",
              "      <td>7.0</td>\n",
              "    </tr>\n",
              "    <tr>\n",
              "      <th>8</th>\n",
              "      <td>6724.0</td>\n",
              "      <td>46.0</td>\n",
              "    </tr>\n",
              "    <tr>\n",
              "      <th>10</th>\n",
              "      <td>5811.0</td>\n",
              "      <td>32.0</td>\n",
              "    </tr>\n",
              "    <tr>\n",
              "      <th>11</th>\n",
              "      <td>7005.0</td>\n",
              "      <td>56.0</td>\n",
              "    </tr>\n",
              "    <tr>\n",
              "      <th>...</th>\n",
              "      <th>...</th>\n",
              "      <td>...</td>\n",
              "      <td>...</td>\n",
              "    </tr>\n",
              "    <tr>\n",
              "      <th rowspan=\"5\" valign=\"top\">1534</th>\n",
              "      <th>6</th>\n",
              "      <td>3411.0</td>\n",
              "      <td>26.0</td>\n",
              "    </tr>\n",
              "    <tr>\n",
              "      <th>8</th>\n",
              "      <td>7623.0</td>\n",
              "      <td>48.0</td>\n",
              "    </tr>\n",
              "    <tr>\n",
              "      <th>9</th>\n",
              "      <td>4929.0</td>\n",
              "      <td>23.0</td>\n",
              "    </tr>\n",
              "    <tr>\n",
              "      <th>11</th>\n",
              "      <td>13353.0</td>\n",
              "      <td>78.0</td>\n",
              "    </tr>\n",
              "    <tr>\n",
              "      <th>12</th>\n",
              "      <td>2372.0</td>\n",
              "      <td>16.0</td>\n",
              "    </tr>\n",
              "  </tbody>\n",
              "</table>\n",
              "<p>11331 rows × 2 columns</p>\n",
              "</div>\n",
              "    <div class=\"colab-df-buttons\">\n",
              "\n",
              "  <div class=\"colab-df-container\">\n",
              "    <button class=\"colab-df-convert\" onclick=\"convertToInteractive('df-1c34a49a-21d3-4ff8-b793-6ba8209bae21')\"\n",
              "            title=\"Convert this dataframe to an interactive table.\"\n",
              "            style=\"display:none;\">\n",
              "\n",
              "  <svg xmlns=\"http://www.w3.org/2000/svg\" height=\"24px\" viewBox=\"0 -960 960 960\">\n",
              "    <path d=\"M120-120v-720h720v720H120Zm60-500h600v-160H180v160Zm220 220h160v-160H400v160Zm0 220h160v-160H400v160ZM180-400h160v-160H180v160Zm440 0h160v-160H620v160ZM180-180h160v-160H180v160Zm440 0h160v-160H620v160Z\"/>\n",
              "  </svg>\n",
              "    </button>\n",
              "\n",
              "  <style>\n",
              "    .colab-df-container {\n",
              "      display:flex;\n",
              "      gap: 12px;\n",
              "    }\n",
              "\n",
              "    .colab-df-convert {\n",
              "      background-color: #E8F0FE;\n",
              "      border: none;\n",
              "      border-radius: 50%;\n",
              "      cursor: pointer;\n",
              "      display: none;\n",
              "      fill: #1967D2;\n",
              "      height: 32px;\n",
              "      padding: 0 0 0 0;\n",
              "      width: 32px;\n",
              "    }\n",
              "\n",
              "    .colab-df-convert:hover {\n",
              "      background-color: #E2EBFA;\n",
              "      box-shadow: 0px 1px 2px rgba(60, 64, 67, 0.3), 0px 1px 3px 1px rgba(60, 64, 67, 0.15);\n",
              "      fill: #174EA6;\n",
              "    }\n",
              "\n",
              "    .colab-df-buttons div {\n",
              "      margin-bottom: 4px;\n",
              "    }\n",
              "\n",
              "    [theme=dark] .colab-df-convert {\n",
              "      background-color: #3B4455;\n",
              "      fill: #D2E3FC;\n",
              "    }\n",
              "\n",
              "    [theme=dark] .colab-df-convert:hover {\n",
              "      background-color: #434B5C;\n",
              "      box-shadow: 0px 1px 3px 1px rgba(0, 0, 0, 0.15);\n",
              "      filter: drop-shadow(0px 1px 2px rgba(0, 0, 0, 0.3));\n",
              "      fill: #FFFFFF;\n",
              "    }\n",
              "  </style>\n",
              "\n",
              "    <script>\n",
              "      const buttonEl =\n",
              "        document.querySelector('#df-1c34a49a-21d3-4ff8-b793-6ba8209bae21 button.colab-df-convert');\n",
              "      buttonEl.style.display =\n",
              "        google.colab.kernel.accessAllowed ? 'block' : 'none';\n",
              "\n",
              "      async function convertToInteractive(key) {\n",
              "        const element = document.querySelector('#df-1c34a49a-21d3-4ff8-b793-6ba8209bae21');\n",
              "        const dataTable =\n",
              "          await google.colab.kernel.invokeFunction('convertToInteractive',\n",
              "                                                    [key], {});\n",
              "        if (!dataTable) return;\n",
              "\n",
              "        const docLinkHtml = 'Like what you see? Visit the ' +\n",
              "          '<a target=\"_blank\" href=https://colab.research.google.com/notebooks/data_table.ipynb>data table notebook</a>'\n",
              "          + ' to learn more about interactive tables.';\n",
              "        element.innerHTML = '';\n",
              "        dataTable['output_type'] = 'display_data';\n",
              "        await google.colab.output.renderOutput(dataTable, element);\n",
              "        const docLink = document.createElement('div');\n",
              "        docLink.innerHTML = docLinkHtml;\n",
              "        element.appendChild(docLink);\n",
              "      }\n",
              "    </script>\n",
              "  </div>\n",
              "\n",
              "\n",
              "<div id=\"df-0dab8b5f-b06f-4bcb-b0b1-4903436ac027\">\n",
              "  <button class=\"colab-df-quickchart\" onclick=\"quickchart('df-0dab8b5f-b06f-4bcb-b0b1-4903436ac027')\"\n",
              "            title=\"Suggest charts\"\n",
              "            style=\"display:none;\">\n",
              "\n",
              "<svg xmlns=\"http://www.w3.org/2000/svg\" height=\"24px\"viewBox=\"0 0 24 24\"\n",
              "     width=\"24px\">\n",
              "    <g>\n",
              "        <path d=\"M19 3H5c-1.1 0-2 .9-2 2v14c0 1.1.9 2 2 2h14c1.1 0 2-.9 2-2V5c0-1.1-.9-2-2-2zM9 17H7v-7h2v7zm4 0h-2V7h2v10zm4 0h-2v-4h2v4z\"/>\n",
              "    </g>\n",
              "</svg>\n",
              "  </button>\n",
              "\n",
              "<style>\n",
              "  .colab-df-quickchart {\n",
              "      --bg-color: #E8F0FE;\n",
              "      --fill-color: #1967D2;\n",
              "      --hover-bg-color: #E2EBFA;\n",
              "      --hover-fill-color: #174EA6;\n",
              "      --disabled-fill-color: #AAA;\n",
              "      --disabled-bg-color: #DDD;\n",
              "  }\n",
              "\n",
              "  [theme=dark] .colab-df-quickchart {\n",
              "      --bg-color: #3B4455;\n",
              "      --fill-color: #D2E3FC;\n",
              "      --hover-bg-color: #434B5C;\n",
              "      --hover-fill-color: #FFFFFF;\n",
              "      --disabled-bg-color: #3B4455;\n",
              "      --disabled-fill-color: #666;\n",
              "  }\n",
              "\n",
              "  .colab-df-quickchart {\n",
              "    background-color: var(--bg-color);\n",
              "    border: none;\n",
              "    border-radius: 50%;\n",
              "    cursor: pointer;\n",
              "    display: none;\n",
              "    fill: var(--fill-color);\n",
              "    height: 32px;\n",
              "    padding: 0;\n",
              "    width: 32px;\n",
              "  }\n",
              "\n",
              "  .colab-df-quickchart:hover {\n",
              "    background-color: var(--hover-bg-color);\n",
              "    box-shadow: 0 1px 2px rgba(60, 64, 67, 0.3), 0 1px 3px 1px rgba(60, 64, 67, 0.15);\n",
              "    fill: var(--button-hover-fill-color);\n",
              "  }\n",
              "\n",
              "  .colab-df-quickchart-complete:disabled,\n",
              "  .colab-df-quickchart-complete:disabled:hover {\n",
              "    background-color: var(--disabled-bg-color);\n",
              "    fill: var(--disabled-fill-color);\n",
              "    box-shadow: none;\n",
              "  }\n",
              "\n",
              "  .colab-df-spinner {\n",
              "    border: 2px solid var(--fill-color);\n",
              "    border-color: transparent;\n",
              "    border-bottom-color: var(--fill-color);\n",
              "    animation:\n",
              "      spin 1s steps(1) infinite;\n",
              "  }\n",
              "\n",
              "  @keyframes spin {\n",
              "    0% {\n",
              "      border-color: transparent;\n",
              "      border-bottom-color: var(--fill-color);\n",
              "      border-left-color: var(--fill-color);\n",
              "    }\n",
              "    20% {\n",
              "      border-color: transparent;\n",
              "      border-left-color: var(--fill-color);\n",
              "      border-top-color: var(--fill-color);\n",
              "    }\n",
              "    30% {\n",
              "      border-color: transparent;\n",
              "      border-left-color: var(--fill-color);\n",
              "      border-top-color: var(--fill-color);\n",
              "      border-right-color: var(--fill-color);\n",
              "    }\n",
              "    40% {\n",
              "      border-color: transparent;\n",
              "      border-right-color: var(--fill-color);\n",
              "      border-top-color: var(--fill-color);\n",
              "    }\n",
              "    60% {\n",
              "      border-color: transparent;\n",
              "      border-right-color: var(--fill-color);\n",
              "    }\n",
              "    80% {\n",
              "      border-color: transparent;\n",
              "      border-right-color: var(--fill-color);\n",
              "      border-bottom-color: var(--fill-color);\n",
              "    }\n",
              "    90% {\n",
              "      border-color: transparent;\n",
              "      border-bottom-color: var(--fill-color);\n",
              "    }\n",
              "  }\n",
              "</style>\n",
              "\n",
              "  <script>\n",
              "    async function quickchart(key) {\n",
              "      const quickchartButtonEl =\n",
              "        document.querySelector('#' + key + ' button');\n",
              "      quickchartButtonEl.disabled = true;  // To prevent multiple clicks.\n",
              "      quickchartButtonEl.classList.add('colab-df-spinner');\n",
              "      try {\n",
              "        const charts = await google.colab.kernel.invokeFunction(\n",
              "            'suggestCharts', [key], {});\n",
              "      } catch (error) {\n",
              "        console.error('Error during call to suggestCharts:', error);\n",
              "      }\n",
              "      quickchartButtonEl.classList.remove('colab-df-spinner');\n",
              "      quickchartButtonEl.classList.add('colab-df-quickchart-complete');\n",
              "    }\n",
              "    (() => {\n",
              "      let quickchartButtonEl =\n",
              "        document.querySelector('#df-0dab8b5f-b06f-4bcb-b0b1-4903436ac027 button');\n",
              "      quickchartButtonEl.style.display =\n",
              "        google.colab.kernel.accessAllowed ? 'block' : 'none';\n",
              "    })();\n",
              "  </script>\n",
              "</div>\n",
              "    </div>\n",
              "  </div>\n"
            ],
            "application/vnd.google.colaboratory.intrinsic+json": {
              "type": "dataframe",
              "variable_name": "dist_dur_pivot",
              "summary": "{\n  \"name\": \"dist_dur_pivot\",\n  \"rows\": 11331,\n  \"fields\": [\n    {\n      \"column\": \"distance\",\n      \"properties\": {\n        \"dtype\": \"number\",\n        \"std\": 2911.8777703928527,\n        \"min\": 3.0,\n        \"max\": 23432.0,\n        \"num_unique_values\": 6279,\n        \"samples\": [\n          13896.0,\n          9552.0,\n          7300.0\n        ],\n        \"semantic_type\": \"\",\n        \"description\": \"\"\n      }\n    },\n    {\n      \"column\": \"duration\",\n      \"properties\": {\n        \"dtype\": \"number\",\n        \"std\": 16.752464110077828,\n        \"min\": 1.0,\n        \"max\": 143.0,\n        \"num_unique_values\": 119,\n        \"samples\": [\n          61.0,\n          93.0,\n          56.0\n        ],\n        \"semantic_type\": \"\",\n        \"description\": \"\"\n      }\n    }\n  ]\n}"
            }
          },
          "metadata": {},
          "execution_count": 31
        }
      ],
      "source": [
        "dist_dur_pivot = total_data.pivot_table(index=['user_id', 'month'], values=['distance', 'duration'], aggfunc='sum')\n",
        "dist_dur_pivot"
      ]
    },
    {
      "cell_type": "markdown",
      "id": "bcf4aa2e",
      "metadata": {
        "id": "bcf4aa2e"
      },
      "source": [
        "Теперь сделаю ещё одну сводную таблицу, которая будет хранить количество поездок."
      ]
    },
    {
      "cell_type": "code",
      "execution_count": 32,
      "id": "c30b82e9",
      "metadata": {
        "colab": {
          "base_uri": "https://localhost:8080/",
          "height": 455
        },
        "id": "c30b82e9",
        "outputId": "a0a2fc1a-7dfe-4eea-c1c0-e5ef18541c1d"
      },
      "outputs": [
        {
          "output_type": "execute_result",
          "data": {
            "text/plain": [
              "               count_of_rides\n",
              "user_id month                \n",
              "1       1                   2\n",
              "        4                   1\n",
              "        8                   2\n",
              "        10                  2\n",
              "        11                  3\n",
              "...                       ...\n",
              "1534    6                   2\n",
              "        8                   2\n",
              "        9                   1\n",
              "        11                  4\n",
              "        12                  1\n",
              "\n",
              "[11331 rows x 1 columns]"
            ],
            "text/html": [
              "\n",
              "  <div id=\"df-62b20d6e-978f-415a-9cfc-8cb9db2e3c5b\" class=\"colab-df-container\">\n",
              "    <div>\n",
              "<style scoped>\n",
              "    .dataframe tbody tr th:only-of-type {\n",
              "        vertical-align: middle;\n",
              "    }\n",
              "\n",
              "    .dataframe tbody tr th {\n",
              "        vertical-align: top;\n",
              "    }\n",
              "\n",
              "    .dataframe thead th {\n",
              "        text-align: right;\n",
              "    }\n",
              "</style>\n",
              "<table border=\"1\" class=\"dataframe\">\n",
              "  <thead>\n",
              "    <tr style=\"text-align: right;\">\n",
              "      <th></th>\n",
              "      <th></th>\n",
              "      <th>count_of_rides</th>\n",
              "    </tr>\n",
              "    <tr>\n",
              "      <th>user_id</th>\n",
              "      <th>month</th>\n",
              "      <th></th>\n",
              "    </tr>\n",
              "  </thead>\n",
              "  <tbody>\n",
              "    <tr>\n",
              "      <th rowspan=\"5\" valign=\"top\">1</th>\n",
              "      <th>1</th>\n",
              "      <td>2</td>\n",
              "    </tr>\n",
              "    <tr>\n",
              "      <th>4</th>\n",
              "      <td>1</td>\n",
              "    </tr>\n",
              "    <tr>\n",
              "      <th>8</th>\n",
              "      <td>2</td>\n",
              "    </tr>\n",
              "    <tr>\n",
              "      <th>10</th>\n",
              "      <td>2</td>\n",
              "    </tr>\n",
              "    <tr>\n",
              "      <th>11</th>\n",
              "      <td>3</td>\n",
              "    </tr>\n",
              "    <tr>\n",
              "      <th>...</th>\n",
              "      <th>...</th>\n",
              "      <td>...</td>\n",
              "    </tr>\n",
              "    <tr>\n",
              "      <th rowspan=\"5\" valign=\"top\">1534</th>\n",
              "      <th>6</th>\n",
              "      <td>2</td>\n",
              "    </tr>\n",
              "    <tr>\n",
              "      <th>8</th>\n",
              "      <td>2</td>\n",
              "    </tr>\n",
              "    <tr>\n",
              "      <th>9</th>\n",
              "      <td>1</td>\n",
              "    </tr>\n",
              "    <tr>\n",
              "      <th>11</th>\n",
              "      <td>4</td>\n",
              "    </tr>\n",
              "    <tr>\n",
              "      <th>12</th>\n",
              "      <td>1</td>\n",
              "    </tr>\n",
              "  </tbody>\n",
              "</table>\n",
              "<p>11331 rows × 1 columns</p>\n",
              "</div>\n",
              "    <div class=\"colab-df-buttons\">\n",
              "\n",
              "  <div class=\"colab-df-container\">\n",
              "    <button class=\"colab-df-convert\" onclick=\"convertToInteractive('df-62b20d6e-978f-415a-9cfc-8cb9db2e3c5b')\"\n",
              "            title=\"Convert this dataframe to an interactive table.\"\n",
              "            style=\"display:none;\">\n",
              "\n",
              "  <svg xmlns=\"http://www.w3.org/2000/svg\" height=\"24px\" viewBox=\"0 -960 960 960\">\n",
              "    <path d=\"M120-120v-720h720v720H120Zm60-500h600v-160H180v160Zm220 220h160v-160H400v160Zm0 220h160v-160H400v160ZM180-400h160v-160H180v160Zm440 0h160v-160H620v160ZM180-180h160v-160H180v160Zm440 0h160v-160H620v160Z\"/>\n",
              "  </svg>\n",
              "    </button>\n",
              "\n",
              "  <style>\n",
              "    .colab-df-container {\n",
              "      display:flex;\n",
              "      gap: 12px;\n",
              "    }\n",
              "\n",
              "    .colab-df-convert {\n",
              "      background-color: #E8F0FE;\n",
              "      border: none;\n",
              "      border-radius: 50%;\n",
              "      cursor: pointer;\n",
              "      display: none;\n",
              "      fill: #1967D2;\n",
              "      height: 32px;\n",
              "      padding: 0 0 0 0;\n",
              "      width: 32px;\n",
              "    }\n",
              "\n",
              "    .colab-df-convert:hover {\n",
              "      background-color: #E2EBFA;\n",
              "      box-shadow: 0px 1px 2px rgba(60, 64, 67, 0.3), 0px 1px 3px 1px rgba(60, 64, 67, 0.15);\n",
              "      fill: #174EA6;\n",
              "    }\n",
              "\n",
              "    .colab-df-buttons div {\n",
              "      margin-bottom: 4px;\n",
              "    }\n",
              "\n",
              "    [theme=dark] .colab-df-convert {\n",
              "      background-color: #3B4455;\n",
              "      fill: #D2E3FC;\n",
              "    }\n",
              "\n",
              "    [theme=dark] .colab-df-convert:hover {\n",
              "      background-color: #434B5C;\n",
              "      box-shadow: 0px 1px 3px 1px rgba(0, 0, 0, 0.15);\n",
              "      filter: drop-shadow(0px 1px 2px rgba(0, 0, 0, 0.3));\n",
              "      fill: #FFFFFF;\n",
              "    }\n",
              "  </style>\n",
              "\n",
              "    <script>\n",
              "      const buttonEl =\n",
              "        document.querySelector('#df-62b20d6e-978f-415a-9cfc-8cb9db2e3c5b button.colab-df-convert');\n",
              "      buttonEl.style.display =\n",
              "        google.colab.kernel.accessAllowed ? 'block' : 'none';\n",
              "\n",
              "      async function convertToInteractive(key) {\n",
              "        const element = document.querySelector('#df-62b20d6e-978f-415a-9cfc-8cb9db2e3c5b');\n",
              "        const dataTable =\n",
              "          await google.colab.kernel.invokeFunction('convertToInteractive',\n",
              "                                                    [key], {});\n",
              "        if (!dataTable) return;\n",
              "\n",
              "        const docLinkHtml = 'Like what you see? Visit the ' +\n",
              "          '<a target=\"_blank\" href=https://colab.research.google.com/notebooks/data_table.ipynb>data table notebook</a>'\n",
              "          + ' to learn more about interactive tables.';\n",
              "        element.innerHTML = '';\n",
              "        dataTable['output_type'] = 'display_data';\n",
              "        await google.colab.output.renderOutput(dataTable, element);\n",
              "        const docLink = document.createElement('div');\n",
              "        docLink.innerHTML = docLinkHtml;\n",
              "        element.appendChild(docLink);\n",
              "      }\n",
              "    </script>\n",
              "  </div>\n",
              "\n",
              "\n",
              "<div id=\"df-7b15cad0-c9fa-4f62-955b-47d3e7cc5d77\">\n",
              "  <button class=\"colab-df-quickchart\" onclick=\"quickchart('df-7b15cad0-c9fa-4f62-955b-47d3e7cc5d77')\"\n",
              "            title=\"Suggest charts\"\n",
              "            style=\"display:none;\">\n",
              "\n",
              "<svg xmlns=\"http://www.w3.org/2000/svg\" height=\"24px\"viewBox=\"0 0 24 24\"\n",
              "     width=\"24px\">\n",
              "    <g>\n",
              "        <path d=\"M19 3H5c-1.1 0-2 .9-2 2v14c0 1.1.9 2 2 2h14c1.1 0 2-.9 2-2V5c0-1.1-.9-2-2-2zM9 17H7v-7h2v7zm4 0h-2V7h2v10zm4 0h-2v-4h2v4z\"/>\n",
              "    </g>\n",
              "</svg>\n",
              "  </button>\n",
              "\n",
              "<style>\n",
              "  .colab-df-quickchart {\n",
              "      --bg-color: #E8F0FE;\n",
              "      --fill-color: #1967D2;\n",
              "      --hover-bg-color: #E2EBFA;\n",
              "      --hover-fill-color: #174EA6;\n",
              "      --disabled-fill-color: #AAA;\n",
              "      --disabled-bg-color: #DDD;\n",
              "  }\n",
              "\n",
              "  [theme=dark] .colab-df-quickchart {\n",
              "      --bg-color: #3B4455;\n",
              "      --fill-color: #D2E3FC;\n",
              "      --hover-bg-color: #434B5C;\n",
              "      --hover-fill-color: #FFFFFF;\n",
              "      --disabled-bg-color: #3B4455;\n",
              "      --disabled-fill-color: #666;\n",
              "  }\n",
              "\n",
              "  .colab-df-quickchart {\n",
              "    background-color: var(--bg-color);\n",
              "    border: none;\n",
              "    border-radius: 50%;\n",
              "    cursor: pointer;\n",
              "    display: none;\n",
              "    fill: var(--fill-color);\n",
              "    height: 32px;\n",
              "    padding: 0;\n",
              "    width: 32px;\n",
              "  }\n",
              "\n",
              "  .colab-df-quickchart:hover {\n",
              "    background-color: var(--hover-bg-color);\n",
              "    box-shadow: 0 1px 2px rgba(60, 64, 67, 0.3), 0 1px 3px 1px rgba(60, 64, 67, 0.15);\n",
              "    fill: var(--button-hover-fill-color);\n",
              "  }\n",
              "\n",
              "  .colab-df-quickchart-complete:disabled,\n",
              "  .colab-df-quickchart-complete:disabled:hover {\n",
              "    background-color: var(--disabled-bg-color);\n",
              "    fill: var(--disabled-fill-color);\n",
              "    box-shadow: none;\n",
              "  }\n",
              "\n",
              "  .colab-df-spinner {\n",
              "    border: 2px solid var(--fill-color);\n",
              "    border-color: transparent;\n",
              "    border-bottom-color: var(--fill-color);\n",
              "    animation:\n",
              "      spin 1s steps(1) infinite;\n",
              "  }\n",
              "\n",
              "  @keyframes spin {\n",
              "    0% {\n",
              "      border-color: transparent;\n",
              "      border-bottom-color: var(--fill-color);\n",
              "      border-left-color: var(--fill-color);\n",
              "    }\n",
              "    20% {\n",
              "      border-color: transparent;\n",
              "      border-left-color: var(--fill-color);\n",
              "      border-top-color: var(--fill-color);\n",
              "    }\n",
              "    30% {\n",
              "      border-color: transparent;\n",
              "      border-left-color: var(--fill-color);\n",
              "      border-top-color: var(--fill-color);\n",
              "      border-right-color: var(--fill-color);\n",
              "    }\n",
              "    40% {\n",
              "      border-color: transparent;\n",
              "      border-right-color: var(--fill-color);\n",
              "      border-top-color: var(--fill-color);\n",
              "    }\n",
              "    60% {\n",
              "      border-color: transparent;\n",
              "      border-right-color: var(--fill-color);\n",
              "    }\n",
              "    80% {\n",
              "      border-color: transparent;\n",
              "      border-right-color: var(--fill-color);\n",
              "      border-bottom-color: var(--fill-color);\n",
              "    }\n",
              "    90% {\n",
              "      border-color: transparent;\n",
              "      border-bottom-color: var(--fill-color);\n",
              "    }\n",
              "  }\n",
              "</style>\n",
              "\n",
              "  <script>\n",
              "    async function quickchart(key) {\n",
              "      const quickchartButtonEl =\n",
              "        document.querySelector('#' + key + ' button');\n",
              "      quickchartButtonEl.disabled = true;  // To prevent multiple clicks.\n",
              "      quickchartButtonEl.classList.add('colab-df-spinner');\n",
              "      try {\n",
              "        const charts = await google.colab.kernel.invokeFunction(\n",
              "            'suggestCharts', [key], {});\n",
              "      } catch (error) {\n",
              "        console.error('Error during call to suggestCharts:', error);\n",
              "      }\n",
              "      quickchartButtonEl.classList.remove('colab-df-spinner');\n",
              "      quickchartButtonEl.classList.add('colab-df-quickchart-complete');\n",
              "    }\n",
              "    (() => {\n",
              "      let quickchartButtonEl =\n",
              "        document.querySelector('#df-7b15cad0-c9fa-4f62-955b-47d3e7cc5d77 button');\n",
              "      quickchartButtonEl.style.display =\n",
              "        google.colab.kernel.accessAllowed ? 'block' : 'none';\n",
              "    })();\n",
              "  </script>\n",
              "</div>\n",
              "    </div>\n",
              "  </div>\n"
            ],
            "application/vnd.google.colaboratory.intrinsic+json": {
              "type": "dataframe",
              "variable_name": "count_pivot",
              "summary": "{\n  \"name\": \"count_pivot\",\n  \"rows\": 11331,\n  \"fields\": [\n    {\n      \"column\": \"count_of_rides\",\n      \"properties\": {\n        \"dtype\": \"number\",\n        \"std\": 0,\n        \"min\": 1,\n        \"max\": 7,\n        \"num_unique_values\": 7,\n        \"samples\": [\n          2,\n          1,\n          6\n        ],\n        \"semantic_type\": \"\",\n        \"description\": \"\"\n      }\n    }\n  ]\n}"
            }
          },
          "metadata": {},
          "execution_count": 32
        }
      ],
      "source": [
        "count_pivot = total_data.pivot_table(index=['user_id', 'month'], values='date', aggfunc='count')\n",
        "count_pivot.columns = ['count_of_rides']\n",
        "count_pivot"
      ]
    },
    {
      "cell_type": "markdown",
      "id": "175be87f",
      "metadata": {
        "id": "175be87f"
      },
      "source": [
        "Объединю две получившиеся таблицы."
      ]
    },
    {
      "cell_type": "code",
      "execution_count": 33,
      "id": "c0339d7e",
      "metadata": {
        "scrolled": true,
        "colab": {
          "base_uri": "https://localhost:8080/",
          "height": 455
        },
        "id": "c0339d7e",
        "outputId": "943db2d5-58de-4a7a-b812-83503e0e08f7"
      },
      "outputs": [
        {
          "output_type": "execute_result",
          "data": {
            "text/plain": [
              "               distance  duration  count_of_rides\n",
              "user_id month                                    \n",
              "1       1        7028.0      42.0               2\n",
              "        4         755.0       7.0               1\n",
              "        8        6724.0      46.0               2\n",
              "        10       5811.0      32.0               2\n",
              "        11       7005.0      56.0               3\n",
              "...                 ...       ...             ...\n",
              "1534    6        3411.0      26.0               2\n",
              "        8        7623.0      48.0               2\n",
              "        9        4929.0      23.0               1\n",
              "        11      13353.0      78.0               4\n",
              "        12       2372.0      16.0               1\n",
              "\n",
              "[11331 rows x 3 columns]"
            ],
            "text/html": [
              "\n",
              "  <div id=\"df-0e5f9076-6600-4248-bde7-fbff6137b8d0\" class=\"colab-df-container\">\n",
              "    <div>\n",
              "<style scoped>\n",
              "    .dataframe tbody tr th:only-of-type {\n",
              "        vertical-align: middle;\n",
              "    }\n",
              "\n",
              "    .dataframe tbody tr th {\n",
              "        vertical-align: top;\n",
              "    }\n",
              "\n",
              "    .dataframe thead th {\n",
              "        text-align: right;\n",
              "    }\n",
              "</style>\n",
              "<table border=\"1\" class=\"dataframe\">\n",
              "  <thead>\n",
              "    <tr style=\"text-align: right;\">\n",
              "      <th></th>\n",
              "      <th></th>\n",
              "      <th>distance</th>\n",
              "      <th>duration</th>\n",
              "      <th>count_of_rides</th>\n",
              "    </tr>\n",
              "    <tr>\n",
              "      <th>user_id</th>\n",
              "      <th>month</th>\n",
              "      <th></th>\n",
              "      <th></th>\n",
              "      <th></th>\n",
              "    </tr>\n",
              "  </thead>\n",
              "  <tbody>\n",
              "    <tr>\n",
              "      <th rowspan=\"5\" valign=\"top\">1</th>\n",
              "      <th>1</th>\n",
              "      <td>7028.0</td>\n",
              "      <td>42.0</td>\n",
              "      <td>2</td>\n",
              "    </tr>\n",
              "    <tr>\n",
              "      <th>4</th>\n",
              "      <td>755.0</td>\n",
              "      <td>7.0</td>\n",
              "      <td>1</td>\n",
              "    </tr>\n",
              "    <tr>\n",
              "      <th>8</th>\n",
              "      <td>6724.0</td>\n",
              "      <td>46.0</td>\n",
              "      <td>2</td>\n",
              "    </tr>\n",
              "    <tr>\n",
              "      <th>10</th>\n",
              "      <td>5811.0</td>\n",
              "      <td>32.0</td>\n",
              "      <td>2</td>\n",
              "    </tr>\n",
              "    <tr>\n",
              "      <th>11</th>\n",
              "      <td>7005.0</td>\n",
              "      <td>56.0</td>\n",
              "      <td>3</td>\n",
              "    </tr>\n",
              "    <tr>\n",
              "      <th>...</th>\n",
              "      <th>...</th>\n",
              "      <td>...</td>\n",
              "      <td>...</td>\n",
              "      <td>...</td>\n",
              "    </tr>\n",
              "    <tr>\n",
              "      <th rowspan=\"5\" valign=\"top\">1534</th>\n",
              "      <th>6</th>\n",
              "      <td>3411.0</td>\n",
              "      <td>26.0</td>\n",
              "      <td>2</td>\n",
              "    </tr>\n",
              "    <tr>\n",
              "      <th>8</th>\n",
              "      <td>7623.0</td>\n",
              "      <td>48.0</td>\n",
              "      <td>2</td>\n",
              "    </tr>\n",
              "    <tr>\n",
              "      <th>9</th>\n",
              "      <td>4929.0</td>\n",
              "      <td>23.0</td>\n",
              "      <td>1</td>\n",
              "    </tr>\n",
              "    <tr>\n",
              "      <th>11</th>\n",
              "      <td>13353.0</td>\n",
              "      <td>78.0</td>\n",
              "      <td>4</td>\n",
              "    </tr>\n",
              "    <tr>\n",
              "      <th>12</th>\n",
              "      <td>2372.0</td>\n",
              "      <td>16.0</td>\n",
              "      <td>1</td>\n",
              "    </tr>\n",
              "  </tbody>\n",
              "</table>\n",
              "<p>11331 rows × 3 columns</p>\n",
              "</div>\n",
              "    <div class=\"colab-df-buttons\">\n",
              "\n",
              "  <div class=\"colab-df-container\">\n",
              "    <button class=\"colab-df-convert\" onclick=\"convertToInteractive('df-0e5f9076-6600-4248-bde7-fbff6137b8d0')\"\n",
              "            title=\"Convert this dataframe to an interactive table.\"\n",
              "            style=\"display:none;\">\n",
              "\n",
              "  <svg xmlns=\"http://www.w3.org/2000/svg\" height=\"24px\" viewBox=\"0 -960 960 960\">\n",
              "    <path d=\"M120-120v-720h720v720H120Zm60-500h600v-160H180v160Zm220 220h160v-160H400v160Zm0 220h160v-160H400v160ZM180-400h160v-160H180v160Zm440 0h160v-160H620v160ZM180-180h160v-160H180v160Zm440 0h160v-160H620v160Z\"/>\n",
              "  </svg>\n",
              "    </button>\n",
              "\n",
              "  <style>\n",
              "    .colab-df-container {\n",
              "      display:flex;\n",
              "      gap: 12px;\n",
              "    }\n",
              "\n",
              "    .colab-df-convert {\n",
              "      background-color: #E8F0FE;\n",
              "      border: none;\n",
              "      border-radius: 50%;\n",
              "      cursor: pointer;\n",
              "      display: none;\n",
              "      fill: #1967D2;\n",
              "      height: 32px;\n",
              "      padding: 0 0 0 0;\n",
              "      width: 32px;\n",
              "    }\n",
              "\n",
              "    .colab-df-convert:hover {\n",
              "      background-color: #E2EBFA;\n",
              "      box-shadow: 0px 1px 2px rgba(60, 64, 67, 0.3), 0px 1px 3px 1px rgba(60, 64, 67, 0.15);\n",
              "      fill: #174EA6;\n",
              "    }\n",
              "\n",
              "    .colab-df-buttons div {\n",
              "      margin-bottom: 4px;\n",
              "    }\n",
              "\n",
              "    [theme=dark] .colab-df-convert {\n",
              "      background-color: #3B4455;\n",
              "      fill: #D2E3FC;\n",
              "    }\n",
              "\n",
              "    [theme=dark] .colab-df-convert:hover {\n",
              "      background-color: #434B5C;\n",
              "      box-shadow: 0px 1px 3px 1px rgba(0, 0, 0, 0.15);\n",
              "      filter: drop-shadow(0px 1px 2px rgba(0, 0, 0, 0.3));\n",
              "      fill: #FFFFFF;\n",
              "    }\n",
              "  </style>\n",
              "\n",
              "    <script>\n",
              "      const buttonEl =\n",
              "        document.querySelector('#df-0e5f9076-6600-4248-bde7-fbff6137b8d0 button.colab-df-convert');\n",
              "      buttonEl.style.display =\n",
              "        google.colab.kernel.accessAllowed ? 'block' : 'none';\n",
              "\n",
              "      async function convertToInteractive(key) {\n",
              "        const element = document.querySelector('#df-0e5f9076-6600-4248-bde7-fbff6137b8d0');\n",
              "        const dataTable =\n",
              "          await google.colab.kernel.invokeFunction('convertToInteractive',\n",
              "                                                    [key], {});\n",
              "        if (!dataTable) return;\n",
              "\n",
              "        const docLinkHtml = 'Like what you see? Visit the ' +\n",
              "          '<a target=\"_blank\" href=https://colab.research.google.com/notebooks/data_table.ipynb>data table notebook</a>'\n",
              "          + ' to learn more about interactive tables.';\n",
              "        element.innerHTML = '';\n",
              "        dataTable['output_type'] = 'display_data';\n",
              "        await google.colab.output.renderOutput(dataTable, element);\n",
              "        const docLink = document.createElement('div');\n",
              "        docLink.innerHTML = docLinkHtml;\n",
              "        element.appendChild(docLink);\n",
              "      }\n",
              "    </script>\n",
              "  </div>\n",
              "\n",
              "\n",
              "<div id=\"df-eadcfc13-7ad4-4a0a-a3bd-ac41c1108ed3\">\n",
              "  <button class=\"colab-df-quickchart\" onclick=\"quickchart('df-eadcfc13-7ad4-4a0a-a3bd-ac41c1108ed3')\"\n",
              "            title=\"Suggest charts\"\n",
              "            style=\"display:none;\">\n",
              "\n",
              "<svg xmlns=\"http://www.w3.org/2000/svg\" height=\"24px\"viewBox=\"0 0 24 24\"\n",
              "     width=\"24px\">\n",
              "    <g>\n",
              "        <path d=\"M19 3H5c-1.1 0-2 .9-2 2v14c0 1.1.9 2 2 2h14c1.1 0 2-.9 2-2V5c0-1.1-.9-2-2-2zM9 17H7v-7h2v7zm4 0h-2V7h2v10zm4 0h-2v-4h2v4z\"/>\n",
              "    </g>\n",
              "</svg>\n",
              "  </button>\n",
              "\n",
              "<style>\n",
              "  .colab-df-quickchart {\n",
              "      --bg-color: #E8F0FE;\n",
              "      --fill-color: #1967D2;\n",
              "      --hover-bg-color: #E2EBFA;\n",
              "      --hover-fill-color: #174EA6;\n",
              "      --disabled-fill-color: #AAA;\n",
              "      --disabled-bg-color: #DDD;\n",
              "  }\n",
              "\n",
              "  [theme=dark] .colab-df-quickchart {\n",
              "      --bg-color: #3B4455;\n",
              "      --fill-color: #D2E3FC;\n",
              "      --hover-bg-color: #434B5C;\n",
              "      --hover-fill-color: #FFFFFF;\n",
              "      --disabled-bg-color: #3B4455;\n",
              "      --disabled-fill-color: #666;\n",
              "  }\n",
              "\n",
              "  .colab-df-quickchart {\n",
              "    background-color: var(--bg-color);\n",
              "    border: none;\n",
              "    border-radius: 50%;\n",
              "    cursor: pointer;\n",
              "    display: none;\n",
              "    fill: var(--fill-color);\n",
              "    height: 32px;\n",
              "    padding: 0;\n",
              "    width: 32px;\n",
              "  }\n",
              "\n",
              "  .colab-df-quickchart:hover {\n",
              "    background-color: var(--hover-bg-color);\n",
              "    box-shadow: 0 1px 2px rgba(60, 64, 67, 0.3), 0 1px 3px 1px rgba(60, 64, 67, 0.15);\n",
              "    fill: var(--button-hover-fill-color);\n",
              "  }\n",
              "\n",
              "  .colab-df-quickchart-complete:disabled,\n",
              "  .colab-df-quickchart-complete:disabled:hover {\n",
              "    background-color: var(--disabled-bg-color);\n",
              "    fill: var(--disabled-fill-color);\n",
              "    box-shadow: none;\n",
              "  }\n",
              "\n",
              "  .colab-df-spinner {\n",
              "    border: 2px solid var(--fill-color);\n",
              "    border-color: transparent;\n",
              "    border-bottom-color: var(--fill-color);\n",
              "    animation:\n",
              "      spin 1s steps(1) infinite;\n",
              "  }\n",
              "\n",
              "  @keyframes spin {\n",
              "    0% {\n",
              "      border-color: transparent;\n",
              "      border-bottom-color: var(--fill-color);\n",
              "      border-left-color: var(--fill-color);\n",
              "    }\n",
              "    20% {\n",
              "      border-color: transparent;\n",
              "      border-left-color: var(--fill-color);\n",
              "      border-top-color: var(--fill-color);\n",
              "    }\n",
              "    30% {\n",
              "      border-color: transparent;\n",
              "      border-left-color: var(--fill-color);\n",
              "      border-top-color: var(--fill-color);\n",
              "      border-right-color: var(--fill-color);\n",
              "    }\n",
              "    40% {\n",
              "      border-color: transparent;\n",
              "      border-right-color: var(--fill-color);\n",
              "      border-top-color: var(--fill-color);\n",
              "    }\n",
              "    60% {\n",
              "      border-color: transparent;\n",
              "      border-right-color: var(--fill-color);\n",
              "    }\n",
              "    80% {\n",
              "      border-color: transparent;\n",
              "      border-right-color: var(--fill-color);\n",
              "      border-bottom-color: var(--fill-color);\n",
              "    }\n",
              "    90% {\n",
              "      border-color: transparent;\n",
              "      border-bottom-color: var(--fill-color);\n",
              "    }\n",
              "  }\n",
              "</style>\n",
              "\n",
              "  <script>\n",
              "    async function quickchart(key) {\n",
              "      const quickchartButtonEl =\n",
              "        document.querySelector('#' + key + ' button');\n",
              "      quickchartButtonEl.disabled = true;  // To prevent multiple clicks.\n",
              "      quickchartButtonEl.classList.add('colab-df-spinner');\n",
              "      try {\n",
              "        const charts = await google.colab.kernel.invokeFunction(\n",
              "            'suggestCharts', [key], {});\n",
              "      } catch (error) {\n",
              "        console.error('Error during call to suggestCharts:', error);\n",
              "      }\n",
              "      quickchartButtonEl.classList.remove('colab-df-spinner');\n",
              "      quickchartButtonEl.classList.add('colab-df-quickchart-complete');\n",
              "    }\n",
              "    (() => {\n",
              "      let quickchartButtonEl =\n",
              "        document.querySelector('#df-eadcfc13-7ad4-4a0a-a3bd-ac41c1108ed3 button');\n",
              "      quickchartButtonEl.style.display =\n",
              "        google.colab.kernel.accessAllowed ? 'block' : 'none';\n",
              "    })();\n",
              "  </script>\n",
              "</div>\n",
              "    </div>\n",
              "  </div>\n"
            ],
            "application/vnd.google.colaboratory.intrinsic+json": {
              "type": "dataframe",
              "variable_name": "total_grouped",
              "summary": "{\n  \"name\": \"total_grouped\",\n  \"rows\": 11331,\n  \"fields\": [\n    {\n      \"column\": \"distance\",\n      \"properties\": {\n        \"dtype\": \"number\",\n        \"std\": 2911.8777703928527,\n        \"min\": 3.0,\n        \"max\": 23432.0,\n        \"num_unique_values\": 6279,\n        \"samples\": [\n          13896.0,\n          9552.0,\n          7300.0\n        ],\n        \"semantic_type\": \"\",\n        \"description\": \"\"\n      }\n    },\n    {\n      \"column\": \"duration\",\n      \"properties\": {\n        \"dtype\": \"number\",\n        \"std\": 16.752464110077828,\n        \"min\": 1.0,\n        \"max\": 143.0,\n        \"num_unique_values\": 119,\n        \"samples\": [\n          61.0,\n          93.0,\n          56.0\n        ],\n        \"semantic_type\": \"\",\n        \"description\": \"\"\n      }\n    },\n    {\n      \"column\": \"count_of_rides\",\n      \"properties\": {\n        \"dtype\": \"number\",\n        \"std\": 0,\n        \"min\": 1,\n        \"max\": 7,\n        \"num_unique_values\": 7,\n        \"samples\": [\n          2,\n          1,\n          6\n        ],\n        \"semantic_type\": \"\",\n        \"description\": \"\"\n      }\n    }\n  ]\n}"
            }
          },
          "metadata": {},
          "execution_count": 33
        }
      ],
      "source": [
        "total_grouped = dist_dur_pivot.merge(count_pivot, on=['user_id', 'month'], how='left')\n",
        "total_grouped"
      ]
    },
    {
      "cell_type": "markdown",
      "id": "33d5bae5",
      "metadata": {
        "id": "33d5bae5"
      },
      "source": [
        "К полученному датафрейму прибавлю из исходного информацию о стоимости минуты, старта и подписки. Они потребуются мне для дальнейших подсчётов."
      ]
    },
    {
      "cell_type": "code",
      "execution_count": 34,
      "id": "061ca77b",
      "metadata": {
        "colab": {
          "base_uri": "https://localhost:8080/",
          "height": 423
        },
        "id": "061ca77b",
        "outputId": "a9f73521-6a00-4176-becd-c57ae8f83928"
      },
      "outputs": [
        {
          "output_type": "execute_result",
          "data": {
            "text/plain": [
              "       user_id  month  distance  duration  count_of_rides  minute_price  \\\n",
              "0            1      1    7028.0      42.0               2             6   \n",
              "1            1      4     755.0       7.0               1             6   \n",
              "2            1      8    6724.0      46.0               2             6   \n",
              "3            1     10    5811.0      32.0               2             6   \n",
              "4            1     11    7005.0      56.0               3             6   \n",
              "...        ...    ...       ...       ...             ...           ...   \n",
              "11326     1534      6    3411.0      26.0               2             8   \n",
              "11327     1534      8    7623.0      48.0               2             8   \n",
              "11328     1534      9    4929.0      23.0               1             8   \n",
              "11329     1534     11   13353.0      78.0               4             8   \n",
              "11330     1534     12    2372.0      16.0               1             8   \n",
              "\n",
              "       start_ride_price  subscription_fee  \n",
              "0                     0               199  \n",
              "1                     0               199  \n",
              "2                     0               199  \n",
              "3                     0               199  \n",
              "4                     0               199  \n",
              "...                 ...               ...  \n",
              "11326                50                 0  \n",
              "11327                50                 0  \n",
              "11328                50                 0  \n",
              "11329                50                 0  \n",
              "11330                50                 0  \n",
              "\n",
              "[11331 rows x 8 columns]"
            ],
            "text/html": [
              "\n",
              "  <div id=\"df-a15e6b44-1256-4046-bee4-7e786b6c1925\" class=\"colab-df-container\">\n",
              "    <div>\n",
              "<style scoped>\n",
              "    .dataframe tbody tr th:only-of-type {\n",
              "        vertical-align: middle;\n",
              "    }\n",
              "\n",
              "    .dataframe tbody tr th {\n",
              "        vertical-align: top;\n",
              "    }\n",
              "\n",
              "    .dataframe thead th {\n",
              "        text-align: right;\n",
              "    }\n",
              "</style>\n",
              "<table border=\"1\" class=\"dataframe\">\n",
              "  <thead>\n",
              "    <tr style=\"text-align: right;\">\n",
              "      <th></th>\n",
              "      <th>user_id</th>\n",
              "      <th>month</th>\n",
              "      <th>distance</th>\n",
              "      <th>duration</th>\n",
              "      <th>count_of_rides</th>\n",
              "      <th>minute_price</th>\n",
              "      <th>start_ride_price</th>\n",
              "      <th>subscription_fee</th>\n",
              "    </tr>\n",
              "  </thead>\n",
              "  <tbody>\n",
              "    <tr>\n",
              "      <th>0</th>\n",
              "      <td>1</td>\n",
              "      <td>1</td>\n",
              "      <td>7028.0</td>\n",
              "      <td>42.0</td>\n",
              "      <td>2</td>\n",
              "      <td>6</td>\n",
              "      <td>0</td>\n",
              "      <td>199</td>\n",
              "    </tr>\n",
              "    <tr>\n",
              "      <th>1</th>\n",
              "      <td>1</td>\n",
              "      <td>4</td>\n",
              "      <td>755.0</td>\n",
              "      <td>7.0</td>\n",
              "      <td>1</td>\n",
              "      <td>6</td>\n",
              "      <td>0</td>\n",
              "      <td>199</td>\n",
              "    </tr>\n",
              "    <tr>\n",
              "      <th>2</th>\n",
              "      <td>1</td>\n",
              "      <td>8</td>\n",
              "      <td>6724.0</td>\n",
              "      <td>46.0</td>\n",
              "      <td>2</td>\n",
              "      <td>6</td>\n",
              "      <td>0</td>\n",
              "      <td>199</td>\n",
              "    </tr>\n",
              "    <tr>\n",
              "      <th>3</th>\n",
              "      <td>1</td>\n",
              "      <td>10</td>\n",
              "      <td>5811.0</td>\n",
              "      <td>32.0</td>\n",
              "      <td>2</td>\n",
              "      <td>6</td>\n",
              "      <td>0</td>\n",
              "      <td>199</td>\n",
              "    </tr>\n",
              "    <tr>\n",
              "      <th>4</th>\n",
              "      <td>1</td>\n",
              "      <td>11</td>\n",
              "      <td>7005.0</td>\n",
              "      <td>56.0</td>\n",
              "      <td>3</td>\n",
              "      <td>6</td>\n",
              "      <td>0</td>\n",
              "      <td>199</td>\n",
              "    </tr>\n",
              "    <tr>\n",
              "      <th>...</th>\n",
              "      <td>...</td>\n",
              "      <td>...</td>\n",
              "      <td>...</td>\n",
              "      <td>...</td>\n",
              "      <td>...</td>\n",
              "      <td>...</td>\n",
              "      <td>...</td>\n",
              "      <td>...</td>\n",
              "    </tr>\n",
              "    <tr>\n",
              "      <th>11326</th>\n",
              "      <td>1534</td>\n",
              "      <td>6</td>\n",
              "      <td>3411.0</td>\n",
              "      <td>26.0</td>\n",
              "      <td>2</td>\n",
              "      <td>8</td>\n",
              "      <td>50</td>\n",
              "      <td>0</td>\n",
              "    </tr>\n",
              "    <tr>\n",
              "      <th>11327</th>\n",
              "      <td>1534</td>\n",
              "      <td>8</td>\n",
              "      <td>7623.0</td>\n",
              "      <td>48.0</td>\n",
              "      <td>2</td>\n",
              "      <td>8</td>\n",
              "      <td>50</td>\n",
              "      <td>0</td>\n",
              "    </tr>\n",
              "    <tr>\n",
              "      <th>11328</th>\n",
              "      <td>1534</td>\n",
              "      <td>9</td>\n",
              "      <td>4929.0</td>\n",
              "      <td>23.0</td>\n",
              "      <td>1</td>\n",
              "      <td>8</td>\n",
              "      <td>50</td>\n",
              "      <td>0</td>\n",
              "    </tr>\n",
              "    <tr>\n",
              "      <th>11329</th>\n",
              "      <td>1534</td>\n",
              "      <td>11</td>\n",
              "      <td>13353.0</td>\n",
              "      <td>78.0</td>\n",
              "      <td>4</td>\n",
              "      <td>8</td>\n",
              "      <td>50</td>\n",
              "      <td>0</td>\n",
              "    </tr>\n",
              "    <tr>\n",
              "      <th>11330</th>\n",
              "      <td>1534</td>\n",
              "      <td>12</td>\n",
              "      <td>2372.0</td>\n",
              "      <td>16.0</td>\n",
              "      <td>1</td>\n",
              "      <td>8</td>\n",
              "      <td>50</td>\n",
              "      <td>0</td>\n",
              "    </tr>\n",
              "  </tbody>\n",
              "</table>\n",
              "<p>11331 rows × 8 columns</p>\n",
              "</div>\n",
              "    <div class=\"colab-df-buttons\">\n",
              "\n",
              "  <div class=\"colab-df-container\">\n",
              "    <button class=\"colab-df-convert\" onclick=\"convertToInteractive('df-a15e6b44-1256-4046-bee4-7e786b6c1925')\"\n",
              "            title=\"Convert this dataframe to an interactive table.\"\n",
              "            style=\"display:none;\">\n",
              "\n",
              "  <svg xmlns=\"http://www.w3.org/2000/svg\" height=\"24px\" viewBox=\"0 -960 960 960\">\n",
              "    <path d=\"M120-120v-720h720v720H120Zm60-500h600v-160H180v160Zm220 220h160v-160H400v160Zm0 220h160v-160H400v160ZM180-400h160v-160H180v160Zm440 0h160v-160H620v160ZM180-180h160v-160H180v160Zm440 0h160v-160H620v160Z\"/>\n",
              "  </svg>\n",
              "    </button>\n",
              "\n",
              "  <style>\n",
              "    .colab-df-container {\n",
              "      display:flex;\n",
              "      gap: 12px;\n",
              "    }\n",
              "\n",
              "    .colab-df-convert {\n",
              "      background-color: #E8F0FE;\n",
              "      border: none;\n",
              "      border-radius: 50%;\n",
              "      cursor: pointer;\n",
              "      display: none;\n",
              "      fill: #1967D2;\n",
              "      height: 32px;\n",
              "      padding: 0 0 0 0;\n",
              "      width: 32px;\n",
              "    }\n",
              "\n",
              "    .colab-df-convert:hover {\n",
              "      background-color: #E2EBFA;\n",
              "      box-shadow: 0px 1px 2px rgba(60, 64, 67, 0.3), 0px 1px 3px 1px rgba(60, 64, 67, 0.15);\n",
              "      fill: #174EA6;\n",
              "    }\n",
              "\n",
              "    .colab-df-buttons div {\n",
              "      margin-bottom: 4px;\n",
              "    }\n",
              "\n",
              "    [theme=dark] .colab-df-convert {\n",
              "      background-color: #3B4455;\n",
              "      fill: #D2E3FC;\n",
              "    }\n",
              "\n",
              "    [theme=dark] .colab-df-convert:hover {\n",
              "      background-color: #434B5C;\n",
              "      box-shadow: 0px 1px 3px 1px rgba(0, 0, 0, 0.15);\n",
              "      filter: drop-shadow(0px 1px 2px rgba(0, 0, 0, 0.3));\n",
              "      fill: #FFFFFF;\n",
              "    }\n",
              "  </style>\n",
              "\n",
              "    <script>\n",
              "      const buttonEl =\n",
              "        document.querySelector('#df-a15e6b44-1256-4046-bee4-7e786b6c1925 button.colab-df-convert');\n",
              "      buttonEl.style.display =\n",
              "        google.colab.kernel.accessAllowed ? 'block' : 'none';\n",
              "\n",
              "      async function convertToInteractive(key) {\n",
              "        const element = document.querySelector('#df-a15e6b44-1256-4046-bee4-7e786b6c1925');\n",
              "        const dataTable =\n",
              "          await google.colab.kernel.invokeFunction('convertToInteractive',\n",
              "                                                    [key], {});\n",
              "        if (!dataTable) return;\n",
              "\n",
              "        const docLinkHtml = 'Like what you see? Visit the ' +\n",
              "          '<a target=\"_blank\" href=https://colab.research.google.com/notebooks/data_table.ipynb>data table notebook</a>'\n",
              "          + ' to learn more about interactive tables.';\n",
              "        element.innerHTML = '';\n",
              "        dataTable['output_type'] = 'display_data';\n",
              "        await google.colab.output.renderOutput(dataTable, element);\n",
              "        const docLink = document.createElement('div');\n",
              "        docLink.innerHTML = docLinkHtml;\n",
              "        element.appendChild(docLink);\n",
              "      }\n",
              "    </script>\n",
              "  </div>\n",
              "\n",
              "\n",
              "<div id=\"df-d047278f-2a21-4399-96ac-dd8613d0fc5d\">\n",
              "  <button class=\"colab-df-quickchart\" onclick=\"quickchart('df-d047278f-2a21-4399-96ac-dd8613d0fc5d')\"\n",
              "            title=\"Suggest charts\"\n",
              "            style=\"display:none;\">\n",
              "\n",
              "<svg xmlns=\"http://www.w3.org/2000/svg\" height=\"24px\"viewBox=\"0 0 24 24\"\n",
              "     width=\"24px\">\n",
              "    <g>\n",
              "        <path d=\"M19 3H5c-1.1 0-2 .9-2 2v14c0 1.1.9 2 2 2h14c1.1 0 2-.9 2-2V5c0-1.1-.9-2-2-2zM9 17H7v-7h2v7zm4 0h-2V7h2v10zm4 0h-2v-4h2v4z\"/>\n",
              "    </g>\n",
              "</svg>\n",
              "  </button>\n",
              "\n",
              "<style>\n",
              "  .colab-df-quickchart {\n",
              "      --bg-color: #E8F0FE;\n",
              "      --fill-color: #1967D2;\n",
              "      --hover-bg-color: #E2EBFA;\n",
              "      --hover-fill-color: #174EA6;\n",
              "      --disabled-fill-color: #AAA;\n",
              "      --disabled-bg-color: #DDD;\n",
              "  }\n",
              "\n",
              "  [theme=dark] .colab-df-quickchart {\n",
              "      --bg-color: #3B4455;\n",
              "      --fill-color: #D2E3FC;\n",
              "      --hover-bg-color: #434B5C;\n",
              "      --hover-fill-color: #FFFFFF;\n",
              "      --disabled-bg-color: #3B4455;\n",
              "      --disabled-fill-color: #666;\n",
              "  }\n",
              "\n",
              "  .colab-df-quickchart {\n",
              "    background-color: var(--bg-color);\n",
              "    border: none;\n",
              "    border-radius: 50%;\n",
              "    cursor: pointer;\n",
              "    display: none;\n",
              "    fill: var(--fill-color);\n",
              "    height: 32px;\n",
              "    padding: 0;\n",
              "    width: 32px;\n",
              "  }\n",
              "\n",
              "  .colab-df-quickchart:hover {\n",
              "    background-color: var(--hover-bg-color);\n",
              "    box-shadow: 0 1px 2px rgba(60, 64, 67, 0.3), 0 1px 3px 1px rgba(60, 64, 67, 0.15);\n",
              "    fill: var(--button-hover-fill-color);\n",
              "  }\n",
              "\n",
              "  .colab-df-quickchart-complete:disabled,\n",
              "  .colab-df-quickchart-complete:disabled:hover {\n",
              "    background-color: var(--disabled-bg-color);\n",
              "    fill: var(--disabled-fill-color);\n",
              "    box-shadow: none;\n",
              "  }\n",
              "\n",
              "  .colab-df-spinner {\n",
              "    border: 2px solid var(--fill-color);\n",
              "    border-color: transparent;\n",
              "    border-bottom-color: var(--fill-color);\n",
              "    animation:\n",
              "      spin 1s steps(1) infinite;\n",
              "  }\n",
              "\n",
              "  @keyframes spin {\n",
              "    0% {\n",
              "      border-color: transparent;\n",
              "      border-bottom-color: var(--fill-color);\n",
              "      border-left-color: var(--fill-color);\n",
              "    }\n",
              "    20% {\n",
              "      border-color: transparent;\n",
              "      border-left-color: var(--fill-color);\n",
              "      border-top-color: var(--fill-color);\n",
              "    }\n",
              "    30% {\n",
              "      border-color: transparent;\n",
              "      border-left-color: var(--fill-color);\n",
              "      border-top-color: var(--fill-color);\n",
              "      border-right-color: var(--fill-color);\n",
              "    }\n",
              "    40% {\n",
              "      border-color: transparent;\n",
              "      border-right-color: var(--fill-color);\n",
              "      border-top-color: var(--fill-color);\n",
              "    }\n",
              "    60% {\n",
              "      border-color: transparent;\n",
              "      border-right-color: var(--fill-color);\n",
              "    }\n",
              "    80% {\n",
              "      border-color: transparent;\n",
              "      border-right-color: var(--fill-color);\n",
              "      border-bottom-color: var(--fill-color);\n",
              "    }\n",
              "    90% {\n",
              "      border-color: transparent;\n",
              "      border-bottom-color: var(--fill-color);\n",
              "    }\n",
              "  }\n",
              "</style>\n",
              "\n",
              "  <script>\n",
              "    async function quickchart(key) {\n",
              "      const quickchartButtonEl =\n",
              "        document.querySelector('#' + key + ' button');\n",
              "      quickchartButtonEl.disabled = true;  // To prevent multiple clicks.\n",
              "      quickchartButtonEl.classList.add('colab-df-spinner');\n",
              "      try {\n",
              "        const charts = await google.colab.kernel.invokeFunction(\n",
              "            'suggestCharts', [key], {});\n",
              "      } catch (error) {\n",
              "        console.error('Error during call to suggestCharts:', error);\n",
              "      }\n",
              "      quickchartButtonEl.classList.remove('colab-df-spinner');\n",
              "      quickchartButtonEl.classList.add('colab-df-quickchart-complete');\n",
              "    }\n",
              "    (() => {\n",
              "      let quickchartButtonEl =\n",
              "        document.querySelector('#df-d047278f-2a21-4399-96ac-dd8613d0fc5d button');\n",
              "      quickchartButtonEl.style.display =\n",
              "        google.colab.kernel.accessAllowed ? 'block' : 'none';\n",
              "    })();\n",
              "  </script>\n",
              "</div>\n",
              "    </div>\n",
              "  </div>\n"
            ],
            "application/vnd.google.colaboratory.intrinsic+json": {
              "type": "dataframe",
              "variable_name": "total_grouped",
              "summary": "{\n  \"name\": \"total_grouped\",\n  \"rows\": 11331,\n  \"fields\": [\n    {\n      \"column\": \"user_id\",\n      \"properties\": {\n        \"dtype\": \"number\",\n        \"std\": 440,\n        \"min\": 1,\n        \"max\": 1534,\n        \"num_unique_values\": 1534,\n        \"samples\": [\n          1365,\n          77,\n          317\n        ],\n        \"semantic_type\": \"\",\n        \"description\": \"\"\n      }\n    },\n    {\n      \"column\": \"month\",\n      \"properties\": {\n        \"dtype\": \"number\",\n        \"std\": 3,\n        \"min\": 1,\n        \"max\": 12,\n        \"num_unique_values\": 12,\n        \"samples\": [\n          5,\n          2,\n          1\n        ],\n        \"semantic_type\": \"\",\n        \"description\": \"\"\n      }\n    },\n    {\n      \"column\": \"distance\",\n      \"properties\": {\n        \"dtype\": \"number\",\n        \"std\": 2911.8777703928527,\n        \"min\": 3.0,\n        \"max\": 23432.0,\n        \"num_unique_values\": 6279,\n        \"samples\": [\n          13896.0,\n          9552.0,\n          7300.0\n        ],\n        \"semantic_type\": \"\",\n        \"description\": \"\"\n      }\n    },\n    {\n      \"column\": \"duration\",\n      \"properties\": {\n        \"dtype\": \"number\",\n        \"std\": 16.752464110077828,\n        \"min\": 1.0,\n        \"max\": 143.0,\n        \"num_unique_values\": 119,\n        \"samples\": [\n          61.0,\n          93.0,\n          56.0\n        ],\n        \"semantic_type\": \"\",\n        \"description\": \"\"\n      }\n    },\n    {\n      \"column\": \"count_of_rides\",\n      \"properties\": {\n        \"dtype\": \"number\",\n        \"std\": 0,\n        \"min\": 1,\n        \"max\": 7,\n        \"num_unique_values\": 7,\n        \"samples\": [\n          2,\n          1,\n          6\n        ],\n        \"semantic_type\": \"\",\n        \"description\": \"\"\n      }\n    },\n    {\n      \"column\": \"minute_price\",\n      \"properties\": {\n        \"dtype\": \"number\",\n        \"std\": 0,\n        \"min\": 6,\n        \"max\": 8,\n        \"num_unique_values\": 2,\n        \"samples\": [\n          8,\n          6\n        ],\n        \"semantic_type\": \"\",\n        \"description\": \"\"\n      }\n    },\n    {\n      \"column\": \"start_ride_price\",\n      \"properties\": {\n        \"dtype\": \"number\",\n        \"std\": 24,\n        \"min\": 0,\n        \"max\": 50,\n        \"num_unique_values\": 2,\n        \"samples\": [\n          50,\n          0\n        ],\n        \"semantic_type\": \"\",\n        \"description\": \"\"\n      }\n    },\n    {\n      \"column\": \"subscription_fee\",\n      \"properties\": {\n        \"dtype\": \"number\",\n        \"std\": 97,\n        \"min\": 0,\n        \"max\": 199,\n        \"num_unique_values\": 2,\n        \"samples\": [\n          0,\n          199\n        ],\n        \"semantic_type\": \"\",\n        \"description\": \"\"\n      }\n    }\n  ]\n}"
            }
          },
          "metadata": {},
          "execution_count": 34
        }
      ],
      "source": [
        "total_grouped = total_grouped.merge(total_data[['user_id', 'month', 'minute_price',\n",
        "                                                'start_ride_price', 'subscription_fee']], on=['user_id', 'month'])\n",
        "total_grouped = total_grouped.drop_duplicates().reset_index(drop=True)\n",
        "total_grouped"
      ]
    },
    {
      "cell_type": "markdown",
      "id": "a988aa2d",
      "metadata": {
        "id": "a988aa2d"
      },
      "source": [
        "### Подсчёт выручки с каждого пользователя за месяц\n"
      ]
    },
    {
      "cell_type": "markdown",
      "id": "7ae3d051",
      "metadata": {
        "id": "7ae3d051"
      },
      "source": [
        "Добавлю столбец gain, в котором подсчитаю прибыль с каждого отдельного пользователя по следующей формуле:\n",
        "\n",
        "(продолжительность * стоимость_минуты) + (кол-во_поездок * стоимость старта) + стоимость_подписки"
      ]
    },
    {
      "cell_type": "code",
      "execution_count": 35,
      "id": "24cc4a05",
      "metadata": {
        "colab": {
          "base_uri": "https://localhost:8080/",
          "height": 423
        },
        "id": "24cc4a05",
        "outputId": "ac78a27d-a2eb-430d-d6dd-04e096758fb5"
      },
      "outputs": [
        {
          "output_type": "execute_result",
          "data": {
            "text/plain": [
              "       user_id  month  distance  duration  count_of_rides  minute_price  \\\n",
              "0            1      1    7028.0      42.0               2             6   \n",
              "1            1      4     755.0       7.0               1             6   \n",
              "2            1      8    6724.0      46.0               2             6   \n",
              "3            1     10    5811.0      32.0               2             6   \n",
              "4            1     11    7005.0      56.0               3             6   \n",
              "...        ...    ...       ...       ...             ...           ...   \n",
              "11326     1534      6    3411.0      26.0               2             8   \n",
              "11327     1534      8    7623.0      48.0               2             8   \n",
              "11328     1534      9    4929.0      23.0               1             8   \n",
              "11329     1534     11   13353.0      78.0               4             8   \n",
              "11330     1534     12    2372.0      16.0               1             8   \n",
              "\n",
              "       start_ride_price  subscription_fee   gain  \n",
              "0                     0               199  451.0  \n",
              "1                     0               199  241.0  \n",
              "2                     0               199  475.0  \n",
              "3                     0               199  391.0  \n",
              "4                     0               199  535.0  \n",
              "...                 ...               ...    ...  \n",
              "11326                50                 0  308.0  \n",
              "11327                50                 0  484.0  \n",
              "11328                50                 0  234.0  \n",
              "11329                50                 0  824.0  \n",
              "11330                50                 0  178.0  \n",
              "\n",
              "[11331 rows x 9 columns]"
            ],
            "text/html": [
              "\n",
              "  <div id=\"df-9e426d92-23f2-44c5-b3bf-b4ee6ff320b6\" class=\"colab-df-container\">\n",
              "    <div>\n",
              "<style scoped>\n",
              "    .dataframe tbody tr th:only-of-type {\n",
              "        vertical-align: middle;\n",
              "    }\n",
              "\n",
              "    .dataframe tbody tr th {\n",
              "        vertical-align: top;\n",
              "    }\n",
              "\n",
              "    .dataframe thead th {\n",
              "        text-align: right;\n",
              "    }\n",
              "</style>\n",
              "<table border=\"1\" class=\"dataframe\">\n",
              "  <thead>\n",
              "    <tr style=\"text-align: right;\">\n",
              "      <th></th>\n",
              "      <th>user_id</th>\n",
              "      <th>month</th>\n",
              "      <th>distance</th>\n",
              "      <th>duration</th>\n",
              "      <th>count_of_rides</th>\n",
              "      <th>minute_price</th>\n",
              "      <th>start_ride_price</th>\n",
              "      <th>subscription_fee</th>\n",
              "      <th>gain</th>\n",
              "    </tr>\n",
              "  </thead>\n",
              "  <tbody>\n",
              "    <tr>\n",
              "      <th>0</th>\n",
              "      <td>1</td>\n",
              "      <td>1</td>\n",
              "      <td>7028.0</td>\n",
              "      <td>42.0</td>\n",
              "      <td>2</td>\n",
              "      <td>6</td>\n",
              "      <td>0</td>\n",
              "      <td>199</td>\n",
              "      <td>451.0</td>\n",
              "    </tr>\n",
              "    <tr>\n",
              "      <th>1</th>\n",
              "      <td>1</td>\n",
              "      <td>4</td>\n",
              "      <td>755.0</td>\n",
              "      <td>7.0</td>\n",
              "      <td>1</td>\n",
              "      <td>6</td>\n",
              "      <td>0</td>\n",
              "      <td>199</td>\n",
              "      <td>241.0</td>\n",
              "    </tr>\n",
              "    <tr>\n",
              "      <th>2</th>\n",
              "      <td>1</td>\n",
              "      <td>8</td>\n",
              "      <td>6724.0</td>\n",
              "      <td>46.0</td>\n",
              "      <td>2</td>\n",
              "      <td>6</td>\n",
              "      <td>0</td>\n",
              "      <td>199</td>\n",
              "      <td>475.0</td>\n",
              "    </tr>\n",
              "    <tr>\n",
              "      <th>3</th>\n",
              "      <td>1</td>\n",
              "      <td>10</td>\n",
              "      <td>5811.0</td>\n",
              "      <td>32.0</td>\n",
              "      <td>2</td>\n",
              "      <td>6</td>\n",
              "      <td>0</td>\n",
              "      <td>199</td>\n",
              "      <td>391.0</td>\n",
              "    </tr>\n",
              "    <tr>\n",
              "      <th>4</th>\n",
              "      <td>1</td>\n",
              "      <td>11</td>\n",
              "      <td>7005.0</td>\n",
              "      <td>56.0</td>\n",
              "      <td>3</td>\n",
              "      <td>6</td>\n",
              "      <td>0</td>\n",
              "      <td>199</td>\n",
              "      <td>535.0</td>\n",
              "    </tr>\n",
              "    <tr>\n",
              "      <th>...</th>\n",
              "      <td>...</td>\n",
              "      <td>...</td>\n",
              "      <td>...</td>\n",
              "      <td>...</td>\n",
              "      <td>...</td>\n",
              "      <td>...</td>\n",
              "      <td>...</td>\n",
              "      <td>...</td>\n",
              "      <td>...</td>\n",
              "    </tr>\n",
              "    <tr>\n",
              "      <th>11326</th>\n",
              "      <td>1534</td>\n",
              "      <td>6</td>\n",
              "      <td>3411.0</td>\n",
              "      <td>26.0</td>\n",
              "      <td>2</td>\n",
              "      <td>8</td>\n",
              "      <td>50</td>\n",
              "      <td>0</td>\n",
              "      <td>308.0</td>\n",
              "    </tr>\n",
              "    <tr>\n",
              "      <th>11327</th>\n",
              "      <td>1534</td>\n",
              "      <td>8</td>\n",
              "      <td>7623.0</td>\n",
              "      <td>48.0</td>\n",
              "      <td>2</td>\n",
              "      <td>8</td>\n",
              "      <td>50</td>\n",
              "      <td>0</td>\n",
              "      <td>484.0</td>\n",
              "    </tr>\n",
              "    <tr>\n",
              "      <th>11328</th>\n",
              "      <td>1534</td>\n",
              "      <td>9</td>\n",
              "      <td>4929.0</td>\n",
              "      <td>23.0</td>\n",
              "      <td>1</td>\n",
              "      <td>8</td>\n",
              "      <td>50</td>\n",
              "      <td>0</td>\n",
              "      <td>234.0</td>\n",
              "    </tr>\n",
              "    <tr>\n",
              "      <th>11329</th>\n",
              "      <td>1534</td>\n",
              "      <td>11</td>\n",
              "      <td>13353.0</td>\n",
              "      <td>78.0</td>\n",
              "      <td>4</td>\n",
              "      <td>8</td>\n",
              "      <td>50</td>\n",
              "      <td>0</td>\n",
              "      <td>824.0</td>\n",
              "    </tr>\n",
              "    <tr>\n",
              "      <th>11330</th>\n",
              "      <td>1534</td>\n",
              "      <td>12</td>\n",
              "      <td>2372.0</td>\n",
              "      <td>16.0</td>\n",
              "      <td>1</td>\n",
              "      <td>8</td>\n",
              "      <td>50</td>\n",
              "      <td>0</td>\n",
              "      <td>178.0</td>\n",
              "    </tr>\n",
              "  </tbody>\n",
              "</table>\n",
              "<p>11331 rows × 9 columns</p>\n",
              "</div>\n",
              "    <div class=\"colab-df-buttons\">\n",
              "\n",
              "  <div class=\"colab-df-container\">\n",
              "    <button class=\"colab-df-convert\" onclick=\"convertToInteractive('df-9e426d92-23f2-44c5-b3bf-b4ee6ff320b6')\"\n",
              "            title=\"Convert this dataframe to an interactive table.\"\n",
              "            style=\"display:none;\">\n",
              "\n",
              "  <svg xmlns=\"http://www.w3.org/2000/svg\" height=\"24px\" viewBox=\"0 -960 960 960\">\n",
              "    <path d=\"M120-120v-720h720v720H120Zm60-500h600v-160H180v160Zm220 220h160v-160H400v160Zm0 220h160v-160H400v160ZM180-400h160v-160H180v160Zm440 0h160v-160H620v160ZM180-180h160v-160H180v160Zm440 0h160v-160H620v160Z\"/>\n",
              "  </svg>\n",
              "    </button>\n",
              "\n",
              "  <style>\n",
              "    .colab-df-container {\n",
              "      display:flex;\n",
              "      gap: 12px;\n",
              "    }\n",
              "\n",
              "    .colab-df-convert {\n",
              "      background-color: #E8F0FE;\n",
              "      border: none;\n",
              "      border-radius: 50%;\n",
              "      cursor: pointer;\n",
              "      display: none;\n",
              "      fill: #1967D2;\n",
              "      height: 32px;\n",
              "      padding: 0 0 0 0;\n",
              "      width: 32px;\n",
              "    }\n",
              "\n",
              "    .colab-df-convert:hover {\n",
              "      background-color: #E2EBFA;\n",
              "      box-shadow: 0px 1px 2px rgba(60, 64, 67, 0.3), 0px 1px 3px 1px rgba(60, 64, 67, 0.15);\n",
              "      fill: #174EA6;\n",
              "    }\n",
              "\n",
              "    .colab-df-buttons div {\n",
              "      margin-bottom: 4px;\n",
              "    }\n",
              "\n",
              "    [theme=dark] .colab-df-convert {\n",
              "      background-color: #3B4455;\n",
              "      fill: #D2E3FC;\n",
              "    }\n",
              "\n",
              "    [theme=dark] .colab-df-convert:hover {\n",
              "      background-color: #434B5C;\n",
              "      box-shadow: 0px 1px 3px 1px rgba(0, 0, 0, 0.15);\n",
              "      filter: drop-shadow(0px 1px 2px rgba(0, 0, 0, 0.3));\n",
              "      fill: #FFFFFF;\n",
              "    }\n",
              "  </style>\n",
              "\n",
              "    <script>\n",
              "      const buttonEl =\n",
              "        document.querySelector('#df-9e426d92-23f2-44c5-b3bf-b4ee6ff320b6 button.colab-df-convert');\n",
              "      buttonEl.style.display =\n",
              "        google.colab.kernel.accessAllowed ? 'block' : 'none';\n",
              "\n",
              "      async function convertToInteractive(key) {\n",
              "        const element = document.querySelector('#df-9e426d92-23f2-44c5-b3bf-b4ee6ff320b6');\n",
              "        const dataTable =\n",
              "          await google.colab.kernel.invokeFunction('convertToInteractive',\n",
              "                                                    [key], {});\n",
              "        if (!dataTable) return;\n",
              "\n",
              "        const docLinkHtml = 'Like what you see? Visit the ' +\n",
              "          '<a target=\"_blank\" href=https://colab.research.google.com/notebooks/data_table.ipynb>data table notebook</a>'\n",
              "          + ' to learn more about interactive tables.';\n",
              "        element.innerHTML = '';\n",
              "        dataTable['output_type'] = 'display_data';\n",
              "        await google.colab.output.renderOutput(dataTable, element);\n",
              "        const docLink = document.createElement('div');\n",
              "        docLink.innerHTML = docLinkHtml;\n",
              "        element.appendChild(docLink);\n",
              "      }\n",
              "    </script>\n",
              "  </div>\n",
              "\n",
              "\n",
              "<div id=\"df-6507a98e-3d08-49b7-83a2-879f811b270e\">\n",
              "  <button class=\"colab-df-quickchart\" onclick=\"quickchart('df-6507a98e-3d08-49b7-83a2-879f811b270e')\"\n",
              "            title=\"Suggest charts\"\n",
              "            style=\"display:none;\">\n",
              "\n",
              "<svg xmlns=\"http://www.w3.org/2000/svg\" height=\"24px\"viewBox=\"0 0 24 24\"\n",
              "     width=\"24px\">\n",
              "    <g>\n",
              "        <path d=\"M19 3H5c-1.1 0-2 .9-2 2v14c0 1.1.9 2 2 2h14c1.1 0 2-.9 2-2V5c0-1.1-.9-2-2-2zM9 17H7v-7h2v7zm4 0h-2V7h2v10zm4 0h-2v-4h2v4z\"/>\n",
              "    </g>\n",
              "</svg>\n",
              "  </button>\n",
              "\n",
              "<style>\n",
              "  .colab-df-quickchart {\n",
              "      --bg-color: #E8F0FE;\n",
              "      --fill-color: #1967D2;\n",
              "      --hover-bg-color: #E2EBFA;\n",
              "      --hover-fill-color: #174EA6;\n",
              "      --disabled-fill-color: #AAA;\n",
              "      --disabled-bg-color: #DDD;\n",
              "  }\n",
              "\n",
              "  [theme=dark] .colab-df-quickchart {\n",
              "      --bg-color: #3B4455;\n",
              "      --fill-color: #D2E3FC;\n",
              "      --hover-bg-color: #434B5C;\n",
              "      --hover-fill-color: #FFFFFF;\n",
              "      --disabled-bg-color: #3B4455;\n",
              "      --disabled-fill-color: #666;\n",
              "  }\n",
              "\n",
              "  .colab-df-quickchart {\n",
              "    background-color: var(--bg-color);\n",
              "    border: none;\n",
              "    border-radius: 50%;\n",
              "    cursor: pointer;\n",
              "    display: none;\n",
              "    fill: var(--fill-color);\n",
              "    height: 32px;\n",
              "    padding: 0;\n",
              "    width: 32px;\n",
              "  }\n",
              "\n",
              "  .colab-df-quickchart:hover {\n",
              "    background-color: var(--hover-bg-color);\n",
              "    box-shadow: 0 1px 2px rgba(60, 64, 67, 0.3), 0 1px 3px 1px rgba(60, 64, 67, 0.15);\n",
              "    fill: var(--button-hover-fill-color);\n",
              "  }\n",
              "\n",
              "  .colab-df-quickchart-complete:disabled,\n",
              "  .colab-df-quickchart-complete:disabled:hover {\n",
              "    background-color: var(--disabled-bg-color);\n",
              "    fill: var(--disabled-fill-color);\n",
              "    box-shadow: none;\n",
              "  }\n",
              "\n",
              "  .colab-df-spinner {\n",
              "    border: 2px solid var(--fill-color);\n",
              "    border-color: transparent;\n",
              "    border-bottom-color: var(--fill-color);\n",
              "    animation:\n",
              "      spin 1s steps(1) infinite;\n",
              "  }\n",
              "\n",
              "  @keyframes spin {\n",
              "    0% {\n",
              "      border-color: transparent;\n",
              "      border-bottom-color: var(--fill-color);\n",
              "      border-left-color: var(--fill-color);\n",
              "    }\n",
              "    20% {\n",
              "      border-color: transparent;\n",
              "      border-left-color: var(--fill-color);\n",
              "      border-top-color: var(--fill-color);\n",
              "    }\n",
              "    30% {\n",
              "      border-color: transparent;\n",
              "      border-left-color: var(--fill-color);\n",
              "      border-top-color: var(--fill-color);\n",
              "      border-right-color: var(--fill-color);\n",
              "    }\n",
              "    40% {\n",
              "      border-color: transparent;\n",
              "      border-right-color: var(--fill-color);\n",
              "      border-top-color: var(--fill-color);\n",
              "    }\n",
              "    60% {\n",
              "      border-color: transparent;\n",
              "      border-right-color: var(--fill-color);\n",
              "    }\n",
              "    80% {\n",
              "      border-color: transparent;\n",
              "      border-right-color: var(--fill-color);\n",
              "      border-bottom-color: var(--fill-color);\n",
              "    }\n",
              "    90% {\n",
              "      border-color: transparent;\n",
              "      border-bottom-color: var(--fill-color);\n",
              "    }\n",
              "  }\n",
              "</style>\n",
              "\n",
              "  <script>\n",
              "    async function quickchart(key) {\n",
              "      const quickchartButtonEl =\n",
              "        document.querySelector('#' + key + ' button');\n",
              "      quickchartButtonEl.disabled = true;  // To prevent multiple clicks.\n",
              "      quickchartButtonEl.classList.add('colab-df-spinner');\n",
              "      try {\n",
              "        const charts = await google.colab.kernel.invokeFunction(\n",
              "            'suggestCharts', [key], {});\n",
              "      } catch (error) {\n",
              "        console.error('Error during call to suggestCharts:', error);\n",
              "      }\n",
              "      quickchartButtonEl.classList.remove('colab-df-spinner');\n",
              "      quickchartButtonEl.classList.add('colab-df-quickchart-complete');\n",
              "    }\n",
              "    (() => {\n",
              "      let quickchartButtonEl =\n",
              "        document.querySelector('#df-6507a98e-3d08-49b7-83a2-879f811b270e button');\n",
              "      quickchartButtonEl.style.display =\n",
              "        google.colab.kernel.accessAllowed ? 'block' : 'none';\n",
              "    })();\n",
              "  </script>\n",
              "</div>\n",
              "    </div>\n",
              "  </div>\n"
            ],
            "application/vnd.google.colaboratory.intrinsic+json": {
              "type": "dataframe",
              "variable_name": "total_grouped",
              "summary": "{\n  \"name\": \"total_grouped\",\n  \"rows\": 11331,\n  \"fields\": [\n    {\n      \"column\": \"user_id\",\n      \"properties\": {\n        \"dtype\": \"number\",\n        \"std\": 440,\n        \"min\": 1,\n        \"max\": 1534,\n        \"num_unique_values\": 1534,\n        \"samples\": [\n          1365,\n          77,\n          317\n        ],\n        \"semantic_type\": \"\",\n        \"description\": \"\"\n      }\n    },\n    {\n      \"column\": \"month\",\n      \"properties\": {\n        \"dtype\": \"number\",\n        \"std\": 3,\n        \"min\": 1,\n        \"max\": 12,\n        \"num_unique_values\": 12,\n        \"samples\": [\n          5,\n          2,\n          1\n        ],\n        \"semantic_type\": \"\",\n        \"description\": \"\"\n      }\n    },\n    {\n      \"column\": \"distance\",\n      \"properties\": {\n        \"dtype\": \"number\",\n        \"std\": 2911.8777703928527,\n        \"min\": 3.0,\n        \"max\": 23432.0,\n        \"num_unique_values\": 6279,\n        \"samples\": [\n          13896.0,\n          9552.0,\n          7300.0\n        ],\n        \"semantic_type\": \"\",\n        \"description\": \"\"\n      }\n    },\n    {\n      \"column\": \"duration\",\n      \"properties\": {\n        \"dtype\": \"number\",\n        \"std\": 16.752464110077828,\n        \"min\": 1.0,\n        \"max\": 143.0,\n        \"num_unique_values\": 119,\n        \"samples\": [\n          61.0,\n          93.0,\n          56.0\n        ],\n        \"semantic_type\": \"\",\n        \"description\": \"\"\n      }\n    },\n    {\n      \"column\": \"count_of_rides\",\n      \"properties\": {\n        \"dtype\": \"number\",\n        \"std\": 0,\n        \"min\": 1,\n        \"max\": 7,\n        \"num_unique_values\": 7,\n        \"samples\": [\n          2,\n          1,\n          6\n        ],\n        \"semantic_type\": \"\",\n        \"description\": \"\"\n      }\n    },\n    {\n      \"column\": \"minute_price\",\n      \"properties\": {\n        \"dtype\": \"number\",\n        \"std\": 0,\n        \"min\": 6,\n        \"max\": 8,\n        \"num_unique_values\": 2,\n        \"samples\": [\n          8,\n          6\n        ],\n        \"semantic_type\": \"\",\n        \"description\": \"\"\n      }\n    },\n    {\n      \"column\": \"start_ride_price\",\n      \"properties\": {\n        \"dtype\": \"number\",\n        \"std\": 24,\n        \"min\": 0,\n        \"max\": 50,\n        \"num_unique_values\": 2,\n        \"samples\": [\n          50,\n          0\n        ],\n        \"semantic_type\": \"\",\n        \"description\": \"\"\n      }\n    },\n    {\n      \"column\": \"subscription_fee\",\n      \"properties\": {\n        \"dtype\": \"number\",\n        \"std\": 97,\n        \"min\": 0,\n        \"max\": 199,\n        \"num_unique_values\": 2,\n        \"samples\": [\n          0,\n          199\n        ],\n        \"semantic_type\": \"\",\n        \"description\": \"\"\n      }\n    },\n    {\n      \"column\": \"gain\",\n      \"properties\": {\n        \"dtype\": \"number\",\n        \"std\": 153.87534565094316,\n        \"min\": 58.0,\n        \"max\": 1444.0,\n        \"num_unique_values\": 346,\n        \"samples\": [\n          162.0,\n          1058.0\n        ],\n        \"semantic_type\": \"\",\n        \"description\": \"\"\n      }\n    }\n  ]\n}"
            }
          },
          "metadata": {},
          "execution_count": 35
        }
      ],
      "source": [
        "total_grouped['gain'] = total_grouped['duration'] * total_grouped['minute_price'] + total_grouped['count_of_rides'] * total_grouped['start_ride_price'] + total_grouped['subscription_fee']\n",
        "total_grouped"
      ]
    },
    {
      "cell_type": "markdown",
      "id": "0b630dbb",
      "metadata": {
        "id": "0b630dbb"
      },
      "source": [
        "### Промежуточный вывод\n",
        "\n",
        "На данном шаге мною были сгруппированы данные по признакам id пользователей и номера месяца. Для каждого месяца была подсчитана сумма проеханных метров и минут, количество поездок. Вся эта информация была использована для подсчёта выручки, полученной с каждого человека в конкретный месяц."
      ]
    },
    {
      "cell_type": "markdown",
      "id": "41545ac0",
      "metadata": {
        "id": "41545ac0"
      },
      "source": [
        "## Проверка гипотез"
      ]
    },
    {
      "cell_type": "markdown",
      "id": "b63b0981",
      "metadata": {
        "id": "b63b0981"
      },
      "source": [
        "### Тратят ли пользователи с подпиской больше времени на поездки\n",
        "\n",
        "Гипотеза: Пользователи с подпиской тратят на поездки столько же времени, сколько и пользователи без подписки\n",
        "\n",
        "Альтернативная гипотеза: Пользователи с подпиской тратят на поездки больше времени"
      ]
    },
    {
      "cell_type": "code",
      "execution_count": 36,
      "id": "23ea867b",
      "metadata": {
        "colab": {
          "base_uri": "https://localhost:8080/"
        },
        "id": "23ea867b",
        "outputId": "0009b313-248d-4b2a-9414-9f9784c04277"
      },
      "outputs": [
        {
          "output_type": "stream",
          "name": "stdout",
          "text": [
            "p-значение: 2.4959453720736625e-34\n",
            "Отвергаем нулевую гипотезу: пользователи с подпиской ездят больше времени, чем без неё\n"
          ]
        }
      ],
      "source": [
        "alpha = 0.05 #уровень статистической значимости\n",
        "\n",
        "results = st.ttest_ind(total_data.query('subscription_type == \"ultra\"')['duration'], total_data.query('subscription_type == \"free\"')['duration'], alternative='greater')\n",
        "\n",
        "print('p-значение:', results.pvalue)\n",
        "\n",
        "if results.pvalue < alpha:\n",
        "    print('Отвергаем нулевую гипотезу: пользователи с подпиской ездят больше времени, чем без неё')\n",
        "else:\n",
        "    print('Не получилось отвергнуть нулевую гипотезу: пользователи с подпиской ездят столько же, сколько без подписки')"
      ]
    },
    {
      "cell_type": "markdown",
      "id": "17d0c75d",
      "metadata": {
        "id": "17d0c75d"
      },
      "source": [
        "### Превышает ли средняя дальность поездки 3130 метров\n",
        "\n",
        "Гипотеза: Средняя дальность поездки равна 3130 метров\n",
        "\n",
        "Альтернативная гипотеза: Средняя дальность поездки больше 3130 метров"
      ]
    },
    {
      "cell_type": "code",
      "execution_count": 37,
      "id": "cda05ef8",
      "metadata": {
        "scrolled": true,
        "colab": {
          "base_uri": "https://localhost:8080/"
        },
        "id": "cda05ef8",
        "outputId": "2d01ecc0-5707-4d3b-f2c3-2158fc51c767"
      },
      "outputs": [
        {
          "output_type": "stream",
          "name": "stdout",
          "text": [
            "p-значение: 0.9195368847849785\n",
            "Не получилось отвергнуть нулевую гипотезу: Средняя дальность поездки не превышает 3130 метров\n"
          ]
        }
      ],
      "source": [
        "alpha = 0.05\n",
        "\n",
        "value = 3130\n",
        "\n",
        "results = st.ttest_1samp(data_ultra['distance'], value, alternative='greater')\n",
        "\n",
        "print('p-значение:', results.pvalue)\n",
        "\n",
        "if results.pvalue < alpha:\n",
        "    print('Отвергаем нулевую гипотезу: Средняя дальность поездки превышает порог в 3130 метров')\n",
        "else:\n",
        "    print('Не получилось отвергнуть нулевую гипотезу: Средняя дальность поездки не превышает 3130 метров')"
      ]
    },
    {
      "cell_type": "markdown",
      "id": "51928575",
      "metadata": {
        "id": "51928575"
      },
      "source": [
        "### Будет ли помесячная выручка от пользователей с подпиской выше, чем без неё\n",
        "\n",
        "Гипотеза: Выручка от пользователей с подпиской равна выручке от пользователей без подписки\n",
        "\n",
        "Альтернативная гипотеза: Выручка выше от пользователей без подписки"
      ]
    },
    {
      "cell_type": "code",
      "execution_count": 38,
      "id": "2359baa4",
      "metadata": {
        "colab": {
          "base_uri": "https://localhost:8080/"
        },
        "id": "2359baa4",
        "outputId": "e0454522-80b5-4a11-fbce-be45ca6734c3"
      },
      "outputs": [
        {
          "output_type": "stream",
          "name": "stdout",
          "text": [
            "p-значение: 1.8850394384715216e-31\n",
            "Отвергаем нулевую гипотезу: Выручка от пользователей без подписки выше\n"
          ]
        }
      ],
      "source": [
        "alpha = 0.05 #уровень статистической значимости\n",
        "\n",
        "results = st.ttest_ind(total_grouped.query('subscription_fee == 199')['gain'], total_grouped.query('subscription_fee == 0')['gain'], alternative='greater')\n",
        "\n",
        "print('p-значение:', results.pvalue)\n",
        "\n",
        "if results.pvalue < alpha:\n",
        "    print('Отвергаем нулевую гипотезу: Выручка от пользователей без подписки выше')\n",
        "else:\n",
        "    print('Не получилось отвергнуть нулевую гипотезу: Выручка от пользователей с подпиской ultra равна выручке без неё')"
      ]
    },
    {
      "cell_type": "markdown",
      "id": "eb8ff360",
      "metadata": {
        "id": "eb8ff360"
      },
      "source": [
        "Как видно, пользователи с подпиской не приносят больше прибыли, чем пользователи без неё."
      ]
    },
    {
      "cell_type": "markdown",
      "id": "94df87aa",
      "metadata": {
        "id": "94df87aa"
      },
      "source": [
        "\n",
        "\n",
        "### Ответ на вопрос\n",
        "\n",
        "Вопрос: Представьте такую ситуацию: техническая команда сервиса обновила сервера, с которыми взаимодействует мобильное приложение. Она надеется, что из-за этого количество обращений в техподдержку значимо снизилось. Некоторый файл содержит для каждого пользователя данные о количестве обращений до обновления и после него. Какой тест вам понадобился бы для проверки этой гипотезы?\n",
        "\n",
        "Ответ: Поскольку нужно сравнить две связанные между собой генеральные совокупности, я воспользовалась бы методом ttest_rel()."
      ]
    },
    {
      "cell_type": "markdown",
      "id": "61213c5e",
      "metadata": {
        "id": "61213c5e"
      },
      "source": [
        "## Вывод"
      ]
    },
    {
      "cell_type": "markdown",
      "id": "1d08f76f",
      "metadata": {
        "id": "1d08f76f"
      },
      "source": [
        "В данном проекте я провела следующую работу над данными:\n",
        "\n",
        "- Предобработка данных: мною были импортированы три датасета, изменён тип столбца с датой поездки на datetime, выведен месяц поездки в отдельный столбец month, обработаны пропущенные значения и дубликаты;\n",
        "- Исследовательский анализ данных: проанализированы популярность городов, соотношение пользователей с подписками ultra и free, возрастной разброс пользователей, расстояние и продолжительность их поездок;\n",
        "- Объединение данных: три исходных датафрейма я объединила в общий, затем разделила его на два: поездки пользователей с подпиской и без неё;\n",
        "- Подсчёт выручки: на данном этапе я собрала данные поездок по пользователям, совершившим их, затем высчитала суммарные дальность и продолжительность, количество поездок и тип подписки. Всю эту информацию я использовала для подсчёта выручки по каждому отдельно взятому пользователю;\n",
        "- Проверка гипотез: на последнем шаге проекта я использовала работу, проделанную на предыдущих этапах, чтобы ответить на вопросы, поставленные в самом начале.\n",
        "\n",
        "И вывела следующие гипотезы:\n",
        "\n",
        "- Пользователи с подпиской ultra действительно тратят больше времени в поездках, чем пользователи без подписки;\n",
        "- Средняя дальность поездки не превышает 3130 метров — рекомендуемой дальности поездки с точки зрения износа самоката;\n",
        "- Выручка от пользователей с подпиской ultra оказалась ниже, чем от пользователей без подписки. Вероятно, это связано с большей стоимостью каждой минуты и самого старта."
      ]
    }
  ],
  "metadata": {
    "ExecuteTimeLog": [
      {
        "duration": 349,
        "start_time": "2023-10-28T13:22:04.769Z"
      },
      {
        "duration": 200,
        "start_time": "2023-10-28T13:24:17.997Z"
      },
      {
        "duration": 66,
        "start_time": "2023-10-28T13:24:31.604Z"
      },
      {
        "duration": 74,
        "start_time": "2023-10-28T13:24:42.520Z"
      },
      {
        "duration": 16,
        "start_time": "2023-10-28T13:24:43.403Z"
      },
      {
        "duration": 10,
        "start_time": "2023-10-28T13:24:59.251Z"
      },
      {
        "duration": 8,
        "start_time": "2023-10-28T13:25:05.733Z"
      },
      {
        "duration": 7,
        "start_time": "2023-10-28T13:34:36.509Z"
      },
      {
        "duration": 7,
        "start_time": "2023-10-28T13:36:57.949Z"
      },
      {
        "duration": 11,
        "start_time": "2023-10-28T13:37:05.594Z"
      },
      {
        "duration": 9,
        "start_time": "2023-10-28T13:37:16.910Z"
      },
      {
        "duration": 8,
        "start_time": "2023-10-28T13:37:43.334Z"
      },
      {
        "duration": 9,
        "start_time": "2023-10-28T13:37:47.678Z"
      },
      {
        "duration": 567,
        "start_time": "2023-10-28T13:39:37.919Z"
      },
      {
        "duration": 224,
        "start_time": "2023-10-28T13:39:53.132Z"
      },
      {
        "duration": 11,
        "start_time": "2023-10-28T13:42:04.221Z"
      },
      {
        "duration": 11,
        "start_time": "2023-10-28T13:44:05.970Z"
      },
      {
        "duration": 7,
        "start_time": "2023-10-28T13:45:30.229Z"
      },
      {
        "duration": 6,
        "start_time": "2023-10-28T13:45:36.104Z"
      },
      {
        "duration": 6,
        "start_time": "2023-10-28T13:45:38.096Z"
      },
      {
        "duration": 10,
        "start_time": "2023-10-28T13:46:06.455Z"
      },
      {
        "duration": 58,
        "start_time": "2023-10-28T14:11:44.387Z"
      },
      {
        "duration": 17,
        "start_time": "2023-10-28T14:12:25.378Z"
      },
      {
        "duration": 15,
        "start_time": "2023-10-28T14:12:32.215Z"
      },
      {
        "duration": 23,
        "start_time": "2023-10-28T14:12:41.624Z"
      },
      {
        "duration": 23,
        "start_time": "2023-10-28T14:12:53.778Z"
      },
      {
        "duration": 27,
        "start_time": "2023-10-28T14:13:41.655Z"
      },
      {
        "duration": 14,
        "start_time": "2023-10-28T14:13:45.497Z"
      },
      {
        "duration": 303,
        "start_time": "2023-10-28T14:14:47.096Z"
      },
      {
        "duration": 24,
        "start_time": "2023-10-28T14:14:50.683Z"
      },
      {
        "duration": 11,
        "start_time": "2023-10-28T14:14:57.537Z"
      },
      {
        "duration": 11,
        "start_time": "2023-10-28T14:15:07.169Z"
      },
      {
        "duration": 2,
        "start_time": "2023-10-28T14:15:17.739Z"
      },
      {
        "duration": 68,
        "start_time": "2023-10-28T14:15:17.742Z"
      },
      {
        "duration": 8,
        "start_time": "2023-10-28T14:15:17.811Z"
      },
      {
        "duration": 8,
        "start_time": "2023-10-28T14:15:17.820Z"
      },
      {
        "duration": 10,
        "start_time": "2023-10-28T14:15:17.830Z"
      },
      {
        "duration": 15,
        "start_time": "2023-10-28T14:15:17.841Z"
      },
      {
        "duration": 7,
        "start_time": "2023-10-28T14:15:17.858Z"
      },
      {
        "duration": 12,
        "start_time": "2023-10-28T14:15:17.867Z"
      },
      {
        "duration": 5,
        "start_time": "2023-10-28T14:15:24.901Z"
      },
      {
        "duration": 13,
        "start_time": "2023-10-28T14:15:34.523Z"
      },
      {
        "duration": 7,
        "start_time": "2023-10-28T14:19:10.965Z"
      },
      {
        "duration": 9,
        "start_time": "2023-10-28T14:19:25.456Z"
      },
      {
        "duration": 8,
        "start_time": "2023-10-28T14:21:56.421Z"
      },
      {
        "duration": 7,
        "start_time": "2023-10-28T14:22:01.799Z"
      },
      {
        "duration": 9,
        "start_time": "2023-10-28T14:22:46.807Z"
      },
      {
        "duration": 12,
        "start_time": "2023-10-28T14:24:37.560Z"
      },
      {
        "duration": 6,
        "start_time": "2023-10-28T14:24:46.583Z"
      },
      {
        "duration": 7,
        "start_time": "2023-10-28T14:24:53.654Z"
      },
      {
        "duration": 8,
        "start_time": "2023-10-28T14:30:16.244Z"
      },
      {
        "duration": 7,
        "start_time": "2023-10-28T14:30:22.001Z"
      },
      {
        "duration": 8,
        "start_time": "2023-10-28T14:30:43.088Z"
      },
      {
        "duration": 5,
        "start_time": "2023-10-28T14:32:42.734Z"
      },
      {
        "duration": 6,
        "start_time": "2023-10-28T14:33:00.010Z"
      },
      {
        "duration": 7,
        "start_time": "2023-10-28T14:33:11.818Z"
      },
      {
        "duration": 4,
        "start_time": "2023-10-28T14:59:03.427Z"
      },
      {
        "duration": 12,
        "start_time": "2023-10-28T15:01:04.881Z"
      },
      {
        "duration": 127,
        "start_time": "2023-10-28T15:01:40.068Z"
      },
      {
        "duration": 155,
        "start_time": "2023-10-28T15:01:46.217Z"
      },
      {
        "duration": 102,
        "start_time": "2023-10-28T15:02:35.162Z"
      },
      {
        "duration": 151,
        "start_time": "2023-10-28T15:03:04.028Z"
      },
      {
        "duration": 126,
        "start_time": "2023-10-28T15:03:45.502Z"
      },
      {
        "duration": 103,
        "start_time": "2023-10-28T15:04:01.264Z"
      },
      {
        "duration": 127,
        "start_time": "2023-10-28T15:04:10.933Z"
      },
      {
        "duration": 131,
        "start_time": "2023-10-28T15:04:15.987Z"
      },
      {
        "duration": 71,
        "start_time": "2023-10-28T15:04:33.330Z"
      },
      {
        "duration": 123,
        "start_time": "2023-10-28T15:04:35.386Z"
      },
      {
        "duration": 140,
        "start_time": "2023-10-28T15:05:07.628Z"
      },
      {
        "duration": 127,
        "start_time": "2023-10-28T15:05:14.591Z"
      },
      {
        "duration": 133,
        "start_time": "2023-10-28T15:05:26.942Z"
      },
      {
        "duration": 131,
        "start_time": "2023-10-28T15:05:30.996Z"
      },
      {
        "duration": 92,
        "start_time": "2023-10-28T15:11:14.331Z"
      },
      {
        "duration": 16964,
        "start_time": "2023-10-28T15:11:21.331Z"
      },
      {
        "duration": 6,
        "start_time": "2023-10-28T15:12:41.182Z"
      },
      {
        "duration": 7,
        "start_time": "2023-10-28T15:12:46.071Z"
      },
      {
        "duration": 138,
        "start_time": "2023-10-28T15:13:04.546Z"
      },
      {
        "duration": 126,
        "start_time": "2023-10-28T15:13:22.608Z"
      },
      {
        "duration": 110,
        "start_time": "2023-10-28T15:13:45.069Z"
      },
      {
        "duration": 151,
        "start_time": "2023-10-28T15:13:52.428Z"
      },
      {
        "duration": 147,
        "start_time": "2023-10-28T15:14:10.059Z"
      },
      {
        "duration": 7,
        "start_time": "2023-10-28T15:15:56.587Z"
      },
      {
        "duration": 122,
        "start_time": "2023-10-28T15:16:51.549Z"
      },
      {
        "duration": 114,
        "start_time": "2023-10-28T15:18:28.649Z"
      },
      {
        "duration": 198,
        "start_time": "2023-10-28T15:19:06.281Z"
      },
      {
        "duration": 124,
        "start_time": "2023-10-28T15:19:26.351Z"
      },
      {
        "duration": 102,
        "start_time": "2023-10-28T15:19:31.930Z"
      },
      {
        "duration": 127,
        "start_time": "2023-10-28T15:19:58.252Z"
      },
      {
        "duration": 306,
        "start_time": "2023-10-28T15:20:08.546Z"
      },
      {
        "duration": 228,
        "start_time": "2023-10-28T15:20:19.578Z"
      },
      {
        "duration": 115,
        "start_time": "2023-10-28T15:20:49.075Z"
      },
      {
        "duration": 226,
        "start_time": "2023-10-28T15:21:06.628Z"
      },
      {
        "duration": 14456,
        "start_time": "2023-10-28T15:21:27.524Z"
      },
      {
        "duration": 122,
        "start_time": "2023-10-28T15:21:44.433Z"
      },
      {
        "duration": 188,
        "start_time": "2023-10-28T15:21:53.390Z"
      },
      {
        "duration": 129,
        "start_time": "2023-10-28T15:22:00.255Z"
      },
      {
        "duration": 185,
        "start_time": "2023-10-28T15:22:08.674Z"
      },
      {
        "duration": 161,
        "start_time": "2023-10-28T15:22:13.738Z"
      },
      {
        "duration": 373,
        "start_time": "2023-10-28T15:22:20.984Z"
      },
      {
        "duration": 143,
        "start_time": "2023-10-28T15:22:24.539Z"
      },
      {
        "duration": 139,
        "start_time": "2023-10-28T15:23:39.257Z"
      },
      {
        "duration": 139,
        "start_time": "2023-10-28T15:24:57.004Z"
      },
      {
        "duration": 138,
        "start_time": "2023-10-28T15:25:13.019Z"
      },
      {
        "duration": 129,
        "start_time": "2023-10-28T15:31:25.165Z"
      },
      {
        "duration": 148,
        "start_time": "2023-10-28T15:34:39.710Z"
      },
      {
        "duration": 149,
        "start_time": "2023-10-28T15:34:44.181Z"
      },
      {
        "duration": 138,
        "start_time": "2023-10-28T15:34:50.449Z"
      },
      {
        "duration": 136,
        "start_time": "2023-10-28T15:35:04.380Z"
      },
      {
        "duration": 139,
        "start_time": "2023-10-28T15:35:12.943Z"
      },
      {
        "duration": 139,
        "start_time": "2023-10-28T15:35:24.812Z"
      },
      {
        "duration": 184,
        "start_time": "2023-10-28T15:35:52.438Z"
      },
      {
        "duration": 144,
        "start_time": "2023-10-28T15:36:10.101Z"
      },
      {
        "duration": 155,
        "start_time": "2023-10-28T15:36:30.833Z"
      },
      {
        "duration": 424,
        "start_time": "2023-10-30T11:46:52.122Z"
      },
      {
        "duration": 519,
        "start_time": "2023-10-30T11:46:52.548Z"
      },
      {
        "duration": 14,
        "start_time": "2023-10-30T11:46:53.069Z"
      },
      {
        "duration": 9,
        "start_time": "2023-10-30T11:46:53.086Z"
      },
      {
        "duration": 10,
        "start_time": "2023-10-30T11:46:53.097Z"
      },
      {
        "duration": 17,
        "start_time": "2023-10-30T11:46:53.109Z"
      },
      {
        "duration": 6,
        "start_time": "2023-10-30T11:46:53.128Z"
      },
      {
        "duration": 19,
        "start_time": "2023-10-30T11:46:53.136Z"
      },
      {
        "duration": 12,
        "start_time": "2023-10-30T11:46:53.156Z"
      },
      {
        "duration": 13,
        "start_time": "2023-10-30T11:46:53.171Z"
      },
      {
        "duration": 5,
        "start_time": "2023-10-30T11:46:53.185Z"
      },
      {
        "duration": 30,
        "start_time": "2023-10-30T11:46:53.191Z"
      },
      {
        "duration": 4,
        "start_time": "2023-10-30T11:46:53.223Z"
      },
      {
        "duration": 8,
        "start_time": "2023-10-30T11:46:53.229Z"
      },
      {
        "duration": 23,
        "start_time": "2023-10-30T11:46:53.238Z"
      },
      {
        "duration": 620,
        "start_time": "2023-10-30T11:46:53.262Z"
      },
      {
        "duration": 140,
        "start_time": "2023-10-30T11:46:53.884Z"
      },
      {
        "duration": 201,
        "start_time": "2023-10-30T11:46:54.026Z"
      },
      {
        "duration": 177,
        "start_time": "2023-10-30T11:46:57.611Z"
      },
      {
        "duration": 221,
        "start_time": "2023-10-30T11:50:46.061Z"
      },
      {
        "duration": 179,
        "start_time": "2023-10-30T11:51:08.720Z"
      },
      {
        "duration": 169,
        "start_time": "2023-10-30T11:51:25.888Z"
      },
      {
        "duration": 171,
        "start_time": "2023-10-30T11:51:29.773Z"
      },
      {
        "duration": 3,
        "start_time": "2023-10-30T13:01:04.219Z"
      },
      {
        "duration": 66,
        "start_time": "2023-10-30T13:01:04.315Z"
      },
      {
        "duration": 7,
        "start_time": "2023-10-30T13:01:04.383Z"
      },
      {
        "duration": 25,
        "start_time": "2023-10-30T13:01:04.392Z"
      },
      {
        "duration": 48,
        "start_time": "2023-10-30T13:01:04.419Z"
      },
      {
        "duration": 28,
        "start_time": "2023-10-30T13:01:04.469Z"
      },
      {
        "duration": 21,
        "start_time": "2023-10-30T13:01:04.499Z"
      },
      {
        "duration": 11,
        "start_time": "2023-10-30T13:01:04.521Z"
      },
      {
        "duration": 20,
        "start_time": "2023-10-30T13:01:04.534Z"
      },
      {
        "duration": 30,
        "start_time": "2023-10-30T13:01:04.556Z"
      },
      {
        "duration": 23,
        "start_time": "2023-10-30T13:01:04.588Z"
      },
      {
        "duration": 28,
        "start_time": "2023-10-30T13:01:04.613Z"
      },
      {
        "duration": 23,
        "start_time": "2023-10-30T13:01:04.644Z"
      },
      {
        "duration": 34,
        "start_time": "2023-10-30T13:01:04.669Z"
      },
      {
        "duration": 29,
        "start_time": "2023-10-30T13:01:04.706Z"
      },
      {
        "duration": 179,
        "start_time": "2023-10-30T13:01:04.737Z"
      },
      {
        "duration": 169,
        "start_time": "2023-10-30T13:01:04.917Z"
      },
      {
        "duration": 176,
        "start_time": "2023-10-30T13:01:05.088Z"
      },
      {
        "duration": 206,
        "start_time": "2023-10-30T13:01:05.266Z"
      },
      {
        "duration": 195,
        "start_time": "2023-10-30T13:01:05.474Z"
      },
      {
        "duration": 18,
        "start_time": "2023-10-30T13:05:36.902Z"
      },
      {
        "duration": 20,
        "start_time": "2023-10-30T13:05:45.673Z"
      },
      {
        "duration": 19,
        "start_time": "2023-10-30T13:06:51.531Z"
      },
      {
        "duration": 19,
        "start_time": "2023-10-30T13:08:10.780Z"
      },
      {
        "duration": 18,
        "start_time": "2023-10-30T13:08:18.287Z"
      },
      {
        "duration": 16,
        "start_time": "2023-10-30T13:08:26.718Z"
      },
      {
        "duration": 19,
        "start_time": "2023-10-30T13:09:15.433Z"
      },
      {
        "duration": 18,
        "start_time": "2023-10-30T13:34:02.370Z"
      },
      {
        "duration": 6,
        "start_time": "2023-10-30T13:34:16.515Z"
      },
      {
        "duration": 15,
        "start_time": "2023-10-30T13:34:52.677Z"
      },
      {
        "duration": 17,
        "start_time": "2023-10-30T13:36:25.632Z"
      },
      {
        "duration": 18,
        "start_time": "2023-10-30T13:36:30.145Z"
      },
      {
        "duration": 16,
        "start_time": "2023-10-30T13:36:34.790Z"
      },
      {
        "duration": 118,
        "start_time": "2023-10-30T14:27:43.887Z"
      },
      {
        "duration": 145,
        "start_time": "2023-10-30T14:27:52.841Z"
      },
      {
        "duration": 260,
        "start_time": "2023-10-30T14:28:21.831Z"
      },
      {
        "duration": 217,
        "start_time": "2023-10-30T14:28:31.894Z"
      },
      {
        "duration": 232,
        "start_time": "2023-10-30T14:28:34.136Z"
      },
      {
        "duration": 176,
        "start_time": "2023-10-30T14:28:38.629Z"
      },
      {
        "duration": 132,
        "start_time": "2023-10-30T14:28:57.877Z"
      },
      {
        "duration": 133,
        "start_time": "2023-10-30T14:29:01.348Z"
      },
      {
        "duration": 140,
        "start_time": "2023-10-30T14:29:04.637Z"
      },
      {
        "duration": 143,
        "start_time": "2023-10-30T14:29:35.637Z"
      },
      {
        "duration": 232,
        "start_time": "2023-10-30T14:29:44.512Z"
      },
      {
        "duration": 143,
        "start_time": "2023-10-30T14:30:10.075Z"
      },
      {
        "duration": 136,
        "start_time": "2023-10-30T14:30:12.471Z"
      },
      {
        "duration": 147,
        "start_time": "2023-10-30T14:30:13.129Z"
      },
      {
        "duration": 141,
        "start_time": "2023-10-30T14:30:51.910Z"
      },
      {
        "duration": 137,
        "start_time": "2023-10-30T14:30:54.761Z"
      },
      {
        "duration": 7,
        "start_time": "2023-10-30T14:34:35.436Z"
      },
      {
        "duration": 9,
        "start_time": "2023-10-30T14:34:54.237Z"
      },
      {
        "duration": 8,
        "start_time": "2023-10-30T14:34:59.399Z"
      },
      {
        "duration": 6,
        "start_time": "2023-10-30T14:35:17.954Z"
      },
      {
        "duration": 10,
        "start_time": "2023-10-30T14:36:01.570Z"
      },
      {
        "duration": 8,
        "start_time": "2023-10-30T14:36:11.847Z"
      },
      {
        "duration": 5,
        "start_time": "2023-10-30T14:36:53.692Z"
      },
      {
        "duration": 5,
        "start_time": "2023-10-30T14:37:04.352Z"
      },
      {
        "duration": 4,
        "start_time": "2023-10-30T14:37:10.206Z"
      },
      {
        "duration": 5,
        "start_time": "2023-10-30T14:37:35.229Z"
      },
      {
        "duration": 5,
        "start_time": "2023-10-30T14:38:02.234Z"
      },
      {
        "duration": 155,
        "start_time": "2023-10-30T14:39:41.440Z"
      },
      {
        "duration": 158,
        "start_time": "2023-10-30T14:40:06.041Z"
      },
      {
        "duration": 150,
        "start_time": "2023-10-30T14:40:43.034Z"
      },
      {
        "duration": 5,
        "start_time": "2023-10-30T14:42:33.476Z"
      },
      {
        "duration": 7,
        "start_time": "2023-10-30T14:42:45.151Z"
      },
      {
        "duration": 5,
        "start_time": "2023-10-30T14:42:51.553Z"
      },
      {
        "duration": 5,
        "start_time": "2023-10-30T14:43:10.721Z"
      },
      {
        "duration": 63,
        "start_time": "2023-10-30T18:02:42.035Z"
      },
      {
        "duration": 400,
        "start_time": "2023-10-30T18:02:48.700Z"
      },
      {
        "duration": 611,
        "start_time": "2023-10-30T18:02:49.102Z"
      },
      {
        "duration": 14,
        "start_time": "2023-10-30T18:02:49.715Z"
      },
      {
        "duration": 9,
        "start_time": "2023-10-30T18:02:49.730Z"
      },
      {
        "duration": 14,
        "start_time": "2023-10-30T18:02:49.741Z"
      },
      {
        "duration": 18,
        "start_time": "2023-10-30T18:02:49.757Z"
      },
      {
        "duration": 6,
        "start_time": "2023-10-30T18:02:49.777Z"
      },
      {
        "duration": 26,
        "start_time": "2023-10-30T18:02:49.785Z"
      },
      {
        "duration": 12,
        "start_time": "2023-10-30T18:02:49.813Z"
      },
      {
        "duration": 21,
        "start_time": "2023-10-30T18:02:49.828Z"
      },
      {
        "duration": 8,
        "start_time": "2023-10-30T18:02:49.851Z"
      },
      {
        "duration": 9,
        "start_time": "2023-10-30T18:02:49.861Z"
      },
      {
        "duration": 14,
        "start_time": "2023-10-30T18:02:49.871Z"
      },
      {
        "duration": 14,
        "start_time": "2023-10-30T18:02:49.887Z"
      },
      {
        "duration": 17,
        "start_time": "2023-10-30T18:02:49.902Z"
      },
      {
        "duration": 674,
        "start_time": "2023-10-30T18:02:49.921Z"
      },
      {
        "duration": 169,
        "start_time": "2023-10-30T18:02:50.597Z"
      },
      {
        "duration": 160,
        "start_time": "2023-10-30T18:02:50.768Z"
      },
      {
        "duration": 222,
        "start_time": "2023-10-30T18:02:50.930Z"
      },
      {
        "duration": 238,
        "start_time": "2023-10-30T18:02:51.156Z"
      },
      {
        "duration": 19,
        "start_time": "2023-10-30T18:02:51.396Z"
      },
      {
        "duration": 47,
        "start_time": "2023-10-30T18:02:51.416Z"
      },
      {
        "duration": 21,
        "start_time": "2023-10-30T18:02:51.465Z"
      },
      {
        "duration": 15,
        "start_time": "2023-10-30T18:02:51.487Z"
      },
      {
        "duration": 163,
        "start_time": "2023-10-30T18:02:51.504Z"
      },
      {
        "duration": 154,
        "start_time": "2023-10-30T18:02:51.669Z"
      },
      {
        "duration": 5,
        "start_time": "2023-10-30T18:02:51.825Z"
      },
      {
        "duration": 196,
        "start_time": "2023-10-30T18:02:51.833Z"
      },
      {
        "duration": 176,
        "start_time": "2023-10-30T18:02:52.031Z"
      },
      {
        "duration": 4,
        "start_time": "2023-10-30T18:02:52.209Z"
      },
      {
        "duration": 5,
        "start_time": "2023-10-30T18:02:55.784Z"
      },
      {
        "duration": 12,
        "start_time": "2023-10-30T18:04:16.222Z"
      },
      {
        "duration": 544,
        "start_time": "2023-10-30T18:09:41.833Z"
      },
      {
        "duration": 47,
        "start_time": "2023-10-30T18:10:10.134Z"
      },
      {
        "duration": 30,
        "start_time": "2023-10-30T18:10:23.506Z"
      },
      {
        "duration": 137,
        "start_time": "2023-10-30T18:10:54.364Z"
      },
      {
        "duration": 22,
        "start_time": "2023-10-30T18:11:00.467Z"
      },
      {
        "duration": 21,
        "start_time": "2023-10-30T18:11:14.823Z"
      },
      {
        "duration": 17,
        "start_time": "2023-10-30T18:11:18.788Z"
      },
      {
        "duration": 15,
        "start_time": "2023-10-30T18:11:35.422Z"
      },
      {
        "duration": 17,
        "start_time": "2023-10-30T18:11:44.873Z"
      },
      {
        "duration": 6,
        "start_time": "2023-10-30T18:15:52.554Z"
      },
      {
        "duration": 15,
        "start_time": "2023-10-30T18:16:01.284Z"
      },
      {
        "duration": 6,
        "start_time": "2023-10-30T18:18:33.702Z"
      },
      {
        "duration": 36,
        "start_time": "2023-10-30T18:18:59.060Z"
      },
      {
        "duration": 1330,
        "start_time": "2023-10-30T18:19:03.664Z"
      },
      {
        "duration": 17,
        "start_time": "2023-10-30T18:19:29.926Z"
      },
      {
        "duration": 10,
        "start_time": "2023-10-30T18:22:02.565Z"
      },
      {
        "duration": 3,
        "start_time": "2023-10-30T18:22:22.793Z"
      },
      {
        "duration": 8,
        "start_time": "2023-10-30T18:22:28.099Z"
      },
      {
        "duration": 4,
        "start_time": "2023-10-30T18:22:47.115Z"
      },
      {
        "duration": 12,
        "start_time": "2023-10-30T18:22:51.225Z"
      },
      {
        "duration": 3,
        "start_time": "2023-10-30T18:23:07.102Z"
      },
      {
        "duration": 74,
        "start_time": "2023-10-30T18:23:07.123Z"
      },
      {
        "duration": 8,
        "start_time": "2023-10-30T18:23:07.199Z"
      },
      {
        "duration": 17,
        "start_time": "2023-10-30T18:23:07.208Z"
      },
      {
        "duration": 9,
        "start_time": "2023-10-30T18:23:07.226Z"
      },
      {
        "duration": 13,
        "start_time": "2023-10-30T18:23:07.237Z"
      },
      {
        "duration": 14,
        "start_time": "2023-10-30T18:23:07.252Z"
      },
      {
        "duration": 15,
        "start_time": "2023-10-30T18:23:07.268Z"
      },
      {
        "duration": 13,
        "start_time": "2023-10-30T18:23:07.284Z"
      },
      {
        "duration": 13,
        "start_time": "2023-10-30T18:23:07.298Z"
      },
      {
        "duration": 5,
        "start_time": "2023-10-30T18:23:07.313Z"
      },
      {
        "duration": 17,
        "start_time": "2023-10-30T18:23:07.320Z"
      },
      {
        "duration": 6,
        "start_time": "2023-10-30T18:23:07.344Z"
      },
      {
        "duration": 8,
        "start_time": "2023-10-30T18:23:07.422Z"
      },
      {
        "duration": 7,
        "start_time": "2023-10-30T18:23:07.432Z"
      },
      {
        "duration": 168,
        "start_time": "2023-10-30T18:23:07.440Z"
      },
      {
        "duration": 152,
        "start_time": "2023-10-30T18:23:07.610Z"
      },
      {
        "duration": 161,
        "start_time": "2023-10-30T18:23:07.765Z"
      },
      {
        "duration": 188,
        "start_time": "2023-10-30T18:23:07.927Z"
      },
      {
        "duration": 193,
        "start_time": "2023-10-30T18:23:08.117Z"
      },
      {
        "duration": 16,
        "start_time": "2023-10-30T18:23:08.312Z"
      },
      {
        "duration": 176,
        "start_time": "2023-10-30T18:23:08.330Z"
      },
      {
        "duration": 18,
        "start_time": "2023-10-30T18:23:08.507Z"
      },
      {
        "duration": 16,
        "start_time": "2023-10-30T18:23:08.526Z"
      },
      {
        "duration": 160,
        "start_time": "2023-10-30T18:23:08.543Z"
      },
      {
        "duration": 246,
        "start_time": "2023-10-30T18:23:08.705Z"
      },
      {
        "duration": 6,
        "start_time": "2023-10-30T18:23:08.954Z"
      },
      {
        "duration": 173,
        "start_time": "2023-10-30T18:23:08.962Z"
      },
      {
        "duration": 184,
        "start_time": "2023-10-30T18:23:09.137Z"
      },
      {
        "duration": 5,
        "start_time": "2023-10-30T18:23:09.322Z"
      },
      {
        "duration": 12,
        "start_time": "2023-10-30T18:23:14.505Z"
      },
      {
        "duration": 4,
        "start_time": "2023-10-30T18:23:18.878Z"
      },
      {
        "duration": 13,
        "start_time": "2023-10-30T18:23:22.463Z"
      },
      {
        "duration": 3,
        "start_time": "2023-10-30T18:24:01.641Z"
      },
      {
        "duration": 67,
        "start_time": "2023-10-30T18:24:01.751Z"
      },
      {
        "duration": 8,
        "start_time": "2023-10-30T18:24:01.820Z"
      },
      {
        "duration": 10,
        "start_time": "2023-10-30T18:24:02.372Z"
      },
      {
        "duration": 74,
        "start_time": "2023-10-30T18:24:02.384Z"
      },
      {
        "duration": 63,
        "start_time": "2023-10-30T18:24:02.461Z"
      },
      {
        "duration": 44,
        "start_time": "2023-10-30T18:24:02.544Z"
      },
      {
        "duration": 38,
        "start_time": "2023-10-30T18:24:02.590Z"
      },
      {
        "duration": 35,
        "start_time": "2023-10-30T18:24:02.630Z"
      },
      {
        "duration": 11,
        "start_time": "2023-10-30T18:24:02.667Z"
      },
      {
        "duration": 11,
        "start_time": "2023-10-30T18:24:02.679Z"
      },
      {
        "duration": 9,
        "start_time": "2023-10-30T18:24:02.691Z"
      },
      {
        "duration": 15,
        "start_time": "2023-10-30T18:24:02.701Z"
      },
      {
        "duration": 9,
        "start_time": "2023-10-30T18:24:02.719Z"
      },
      {
        "duration": 23,
        "start_time": "2023-10-30T18:24:02.730Z"
      },
      {
        "duration": 170,
        "start_time": "2023-10-30T18:24:02.755Z"
      },
      {
        "duration": 152,
        "start_time": "2023-10-30T18:24:02.926Z"
      },
      {
        "duration": 149,
        "start_time": "2023-10-30T18:24:03.079Z"
      },
      {
        "duration": 204,
        "start_time": "2023-10-30T18:24:03.229Z"
      },
      {
        "duration": 198,
        "start_time": "2023-10-30T18:24:03.435Z"
      },
      {
        "duration": 32,
        "start_time": "2023-10-30T18:24:03.635Z"
      },
      {
        "duration": 16,
        "start_time": "2023-10-30T18:24:03.669Z"
      },
      {
        "duration": 21,
        "start_time": "2023-10-30T18:24:03.687Z"
      },
      {
        "duration": 20,
        "start_time": "2023-10-30T18:24:03.710Z"
      },
      {
        "duration": 153,
        "start_time": "2023-10-30T18:24:03.744Z"
      },
      {
        "duration": 169,
        "start_time": "2023-10-30T18:24:03.899Z"
      },
      {
        "duration": 7,
        "start_time": "2023-10-30T18:24:04.070Z"
      },
      {
        "duration": 225,
        "start_time": "2023-10-30T18:24:04.079Z"
      },
      {
        "duration": 280,
        "start_time": "2023-10-30T18:24:04.306Z"
      },
      {
        "duration": 4,
        "start_time": "2023-10-30T18:24:04.588Z"
      },
      {
        "duration": 13,
        "start_time": "2023-10-30T18:24:40.754Z"
      },
      {
        "duration": 11,
        "start_time": "2023-10-30T18:26:26.706Z"
      },
      {
        "duration": 8,
        "start_time": "2023-10-30T18:26:37.863Z"
      },
      {
        "duration": 15,
        "start_time": "2023-10-30T18:29:14.649Z"
      },
      {
        "duration": 9,
        "start_time": "2023-10-30T18:29:39.986Z"
      },
      {
        "duration": 11,
        "start_time": "2023-10-30T18:29:53.315Z"
      },
      {
        "duration": 9,
        "start_time": "2023-10-30T18:44:12.623Z"
      },
      {
        "duration": 16,
        "start_time": "2023-10-30T18:46:08.835Z"
      },
      {
        "duration": 18,
        "start_time": "2023-10-30T18:47:11.575Z"
      },
      {
        "duration": 23,
        "start_time": "2023-10-30T18:48:24.138Z"
      },
      {
        "duration": 19,
        "start_time": "2023-10-30T18:48:39.606Z"
      },
      {
        "duration": 26,
        "start_time": "2023-10-30T18:48:49.526Z"
      },
      {
        "duration": 20,
        "start_time": "2023-10-30T18:51:09.531Z"
      },
      {
        "duration": 17,
        "start_time": "2023-10-30T18:51:29.828Z"
      },
      {
        "duration": 38,
        "start_time": "2023-10-30T18:51:48.746Z"
      },
      {
        "duration": 22,
        "start_time": "2023-10-30T18:52:01.465Z"
      },
      {
        "duration": 26,
        "start_time": "2023-10-30T18:52:05.838Z"
      },
      {
        "duration": 21,
        "start_time": "2023-10-30T18:52:10.983Z"
      },
      {
        "duration": 26,
        "start_time": "2023-10-30T18:52:14.195Z"
      },
      {
        "duration": 38,
        "start_time": "2023-10-30T18:59:06.329Z"
      },
      {
        "duration": 26,
        "start_time": "2023-10-30T19:00:12.468Z"
      },
      {
        "duration": 30,
        "start_time": "2023-10-30T19:00:25.955Z"
      },
      {
        "duration": 31,
        "start_time": "2023-10-30T19:00:33.865Z"
      },
      {
        "duration": 21,
        "start_time": "2023-10-30T19:00:58.425Z"
      },
      {
        "duration": 21,
        "start_time": "2023-10-30T19:01:09.772Z"
      },
      {
        "duration": 30,
        "start_time": "2023-10-30T19:01:12.933Z"
      },
      {
        "duration": 12,
        "start_time": "2023-10-30T19:01:37.208Z"
      },
      {
        "duration": 27,
        "start_time": "2023-10-30T19:01:55.011Z"
      },
      {
        "duration": 39,
        "start_time": "2023-10-30T19:02:03.232Z"
      },
      {
        "duration": 35,
        "start_time": "2023-10-30T19:02:10.741Z"
      },
      {
        "duration": 29,
        "start_time": "2023-10-30T19:02:26.059Z"
      },
      {
        "duration": 16,
        "start_time": "2023-10-30T19:08:55.025Z"
      },
      {
        "duration": 17,
        "start_time": "2023-10-30T19:10:43.169Z"
      },
      {
        "duration": 8,
        "start_time": "2023-10-30T19:12:52.504Z"
      },
      {
        "duration": 12,
        "start_time": "2023-10-30T19:13:00.657Z"
      },
      {
        "duration": 11,
        "start_time": "2023-10-30T19:14:25.050Z"
      },
      {
        "duration": 11,
        "start_time": "2023-10-30T19:14:34.909Z"
      },
      {
        "duration": 10,
        "start_time": "2023-10-30T19:15:22.781Z"
      },
      {
        "duration": 23,
        "start_time": "2023-10-30T19:16:22.309Z"
      },
      {
        "duration": 52,
        "start_time": "2023-10-30T19:17:43.850Z"
      },
      {
        "duration": 24,
        "start_time": "2023-10-30T19:20:19.888Z"
      },
      {
        "duration": 14,
        "start_time": "2023-10-30T19:20:30.849Z"
      },
      {
        "duration": 14,
        "start_time": "2023-10-30T19:20:39.553Z"
      },
      {
        "duration": 14,
        "start_time": "2023-10-30T19:53:52.309Z"
      },
      {
        "duration": 16,
        "start_time": "2023-10-30T19:53:56.014Z"
      },
      {
        "duration": 11,
        "start_time": "2023-10-30T19:53:58.600Z"
      },
      {
        "duration": 13,
        "start_time": "2023-10-30T19:54:54.679Z"
      },
      {
        "duration": 80,
        "start_time": "2023-10-30T19:55:43.596Z"
      },
      {
        "duration": 13,
        "start_time": "2023-10-30T19:56:14.210Z"
      },
      {
        "duration": 18,
        "start_time": "2023-10-30T19:56:17.597Z"
      },
      {
        "duration": 23,
        "start_time": "2023-10-30T19:56:36.866Z"
      },
      {
        "duration": 12,
        "start_time": "2023-10-30T19:56:39.392Z"
      },
      {
        "duration": 19,
        "start_time": "2023-10-30T19:56:41.509Z"
      },
      {
        "duration": 13,
        "start_time": "2023-10-30T19:56:44.559Z"
      },
      {
        "duration": 13,
        "start_time": "2023-10-30T19:56:57.966Z"
      },
      {
        "duration": 18,
        "start_time": "2023-10-30T19:56:59.233Z"
      },
      {
        "duration": 11,
        "start_time": "2023-10-30T19:57:02.070Z"
      },
      {
        "duration": 12,
        "start_time": "2023-10-30T19:57:04.915Z"
      },
      {
        "duration": 12,
        "start_time": "2023-10-30T20:00:56.710Z"
      },
      {
        "duration": 5,
        "start_time": "2023-10-30T20:01:34.372Z"
      },
      {
        "duration": 391,
        "start_time": "2023-10-30T20:24:25.294Z"
      },
      {
        "duration": 34,
        "start_time": "2023-10-30T20:31:14.316Z"
      },
      {
        "duration": 23,
        "start_time": "2023-10-30T20:31:22.836Z"
      },
      {
        "duration": 139,
        "start_time": "2023-10-30T20:31:55.324Z"
      },
      {
        "duration": 10,
        "start_time": "2023-10-30T20:32:01.672Z"
      },
      {
        "duration": 10,
        "start_time": "2023-10-30T20:32:08.770Z"
      },
      {
        "duration": 12,
        "start_time": "2023-10-30T20:32:14.011Z"
      },
      {
        "duration": 12,
        "start_time": "2023-10-30T20:32:16.525Z"
      },
      {
        "duration": 11,
        "start_time": "2023-10-30T20:32:20.046Z"
      },
      {
        "duration": 15,
        "start_time": "2023-10-30T20:32:24.044Z"
      },
      {
        "duration": 8,
        "start_time": "2023-10-30T20:32:26.928Z"
      },
      {
        "duration": 9,
        "start_time": "2023-10-30T20:36:24.001Z"
      },
      {
        "duration": 10,
        "start_time": "2023-10-30T20:36:40.473Z"
      },
      {
        "duration": 9,
        "start_time": "2023-10-30T20:36:50.932Z"
      },
      {
        "duration": 10,
        "start_time": "2023-10-30T20:36:58.192Z"
      },
      {
        "duration": 9,
        "start_time": "2023-10-30T20:36:59.775Z"
      },
      {
        "duration": 9,
        "start_time": "2023-10-30T20:37:52.273Z"
      },
      {
        "duration": 8,
        "start_time": "2023-10-30T20:37:59.083Z"
      },
      {
        "duration": 9,
        "start_time": "2023-10-30T20:38:10.072Z"
      },
      {
        "duration": 10,
        "start_time": "2023-10-30T20:38:20.475Z"
      },
      {
        "duration": 5,
        "start_time": "2023-10-30T20:38:33.077Z"
      },
      {
        "duration": 5,
        "start_time": "2023-10-30T20:39:34.988Z"
      },
      {
        "duration": 5,
        "start_time": "2023-10-30T20:41:30.630Z"
      },
      {
        "duration": 9,
        "start_time": "2023-10-30T20:41:53.788Z"
      },
      {
        "duration": 12,
        "start_time": "2023-10-30T20:42:12.348Z"
      },
      {
        "duration": 9,
        "start_time": "2023-10-30T20:42:30.555Z"
      },
      {
        "duration": 5,
        "start_time": "2023-10-30T20:42:44.806Z"
      },
      {
        "duration": 6,
        "start_time": "2023-10-30T20:42:54.203Z"
      },
      {
        "duration": 7,
        "start_time": "2023-10-30T20:42:59.561Z"
      },
      {
        "duration": 5,
        "start_time": "2023-10-30T20:43:38.343Z"
      },
      {
        "duration": 11,
        "start_time": "2023-10-30T20:44:06.388Z"
      },
      {
        "duration": 11,
        "start_time": "2023-10-30T20:45:00.926Z"
      },
      {
        "duration": 5,
        "start_time": "2023-10-30T20:45:24.422Z"
      },
      {
        "duration": 5,
        "start_time": "2023-10-30T20:45:44.877Z"
      },
      {
        "duration": 6,
        "start_time": "2023-10-30T20:46:12.030Z"
      },
      {
        "duration": 6,
        "start_time": "2023-10-30T20:46:27.427Z"
      },
      {
        "duration": 38,
        "start_time": "2023-10-30T20:50:19.152Z"
      },
      {
        "duration": 10,
        "start_time": "2023-10-30T20:50:40.904Z"
      },
      {
        "duration": 7,
        "start_time": "2023-10-30T20:52:05.588Z"
      },
      {
        "duration": 7,
        "start_time": "2023-10-30T20:52:19.830Z"
      },
      {
        "duration": 867,
        "start_time": "2023-10-30T23:10:45.385Z"
      },
      {
        "duration": 194,
        "start_time": "2023-10-30T23:10:46.254Z"
      },
      {
        "duration": 21,
        "start_time": "2023-10-30T23:10:46.450Z"
      },
      {
        "duration": 846,
        "start_time": "2023-10-31T05:19:14.952Z"
      },
      {
        "duration": 207,
        "start_time": "2023-10-31T05:19:15.800Z"
      },
      {
        "duration": 19,
        "start_time": "2023-10-31T05:19:16.008Z"
      },
      {
        "duration": 13,
        "start_time": "2023-10-31T05:19:16.029Z"
      },
      {
        "duration": 22,
        "start_time": "2023-10-31T05:19:16.044Z"
      },
      {
        "duration": 22,
        "start_time": "2023-10-31T05:19:16.068Z"
      },
      {
        "duration": 36,
        "start_time": "2023-10-31T05:19:16.093Z"
      },
      {
        "duration": 12,
        "start_time": "2023-10-31T05:19:16.131Z"
      },
      {
        "duration": 31,
        "start_time": "2023-10-31T05:19:16.145Z"
      },
      {
        "duration": 11,
        "start_time": "2023-10-31T05:19:16.178Z"
      },
      {
        "duration": 21,
        "start_time": "2023-10-31T05:19:16.190Z"
      },
      {
        "duration": 10,
        "start_time": "2023-10-31T05:19:16.213Z"
      },
      {
        "duration": 15,
        "start_time": "2023-10-31T05:19:16.226Z"
      },
      {
        "duration": 19,
        "start_time": "2023-10-31T05:19:16.245Z"
      },
      {
        "duration": 18,
        "start_time": "2023-10-31T05:19:16.267Z"
      },
      {
        "duration": 645,
        "start_time": "2023-10-31T05:19:16.287Z"
      },
      {
        "duration": 170,
        "start_time": "2023-10-31T05:19:16.934Z"
      },
      {
        "duration": 177,
        "start_time": "2023-10-31T05:19:17.106Z"
      },
      {
        "duration": 205,
        "start_time": "2023-10-31T05:19:17.284Z"
      },
      {
        "duration": 222,
        "start_time": "2023-10-31T05:19:17.491Z"
      },
      {
        "duration": 30,
        "start_time": "2023-10-31T05:19:17.715Z"
      },
      {
        "duration": 19,
        "start_time": "2023-10-31T05:19:17.747Z"
      },
      {
        "duration": 25,
        "start_time": "2023-10-31T05:19:17.768Z"
      },
      {
        "duration": 18,
        "start_time": "2023-10-31T05:19:17.795Z"
      },
      {
        "duration": 198,
        "start_time": "2023-10-31T05:19:17.815Z"
      },
      {
        "duration": 169,
        "start_time": "2023-10-31T05:19:18.015Z"
      },
      {
        "duration": 7,
        "start_time": "2023-10-31T05:19:18.186Z"
      },
      {
        "duration": 179,
        "start_time": "2023-10-31T05:19:18.197Z"
      },
      {
        "duration": 175,
        "start_time": "2023-10-31T05:19:18.378Z"
      },
      {
        "duration": 6,
        "start_time": "2023-10-31T05:19:18.555Z"
      },
      {
        "duration": 27,
        "start_time": "2023-10-31T05:19:18.563Z"
      },
      {
        "duration": 13,
        "start_time": "2023-10-31T05:19:18.592Z"
      },
      {
        "duration": 38,
        "start_time": "2023-10-31T05:19:18.607Z"
      },
      {
        "duration": 23,
        "start_time": "2023-10-31T05:19:18.647Z"
      },
      {
        "duration": 11,
        "start_time": "2023-10-31T05:19:18.673Z"
      },
      {
        "duration": 158,
        "start_time": "2023-10-31T05:19:18.687Z"
      },
      {
        "duration": 24,
        "start_time": "2023-10-31T05:19:18.847Z"
      },
      {
        "duration": 42,
        "start_time": "2023-10-31T05:19:18.874Z"
      },
      {
        "duration": 12,
        "start_time": "2023-10-31T05:19:18.919Z"
      },
      {
        "duration": 29,
        "start_time": "2023-10-31T05:19:18.935Z"
      },
      {
        "duration": 32,
        "start_time": "2023-10-31T05:21:37.069Z"
      },
      {
        "duration": 29,
        "start_time": "2023-10-31T05:21:49.885Z"
      },
      {
        "duration": 28,
        "start_time": "2023-10-31T05:21:55.478Z"
      },
      {
        "duration": 106,
        "start_time": "2023-10-31T05:22:53.356Z"
      },
      {
        "duration": 911,
        "start_time": "2023-10-31T05:23:23.016Z"
      },
      {
        "duration": 67,
        "start_time": "2023-10-31T05:23:23.930Z"
      },
      {
        "duration": 16,
        "start_time": "2023-10-31T05:23:23.999Z"
      },
      {
        "duration": 17,
        "start_time": "2023-10-31T05:23:24.017Z"
      },
      {
        "duration": 12,
        "start_time": "2023-10-31T05:23:24.036Z"
      },
      {
        "duration": 11,
        "start_time": "2023-10-31T05:23:24.050Z"
      },
      {
        "duration": 9,
        "start_time": "2023-10-31T05:23:24.063Z"
      },
      {
        "duration": 14,
        "start_time": "2023-10-31T05:23:24.075Z"
      },
      {
        "duration": 17,
        "start_time": "2023-10-31T05:23:24.091Z"
      },
      {
        "duration": 40,
        "start_time": "2023-10-31T05:23:24.112Z"
      },
      {
        "duration": 8,
        "start_time": "2023-10-31T05:23:24.154Z"
      },
      {
        "duration": 11,
        "start_time": "2023-10-31T05:23:24.164Z"
      },
      {
        "duration": 10,
        "start_time": "2023-10-31T05:23:24.178Z"
      },
      {
        "duration": 19,
        "start_time": "2023-10-31T05:23:24.190Z"
      },
      {
        "duration": 37,
        "start_time": "2023-10-31T05:23:24.211Z"
      },
      {
        "duration": 602,
        "start_time": "2023-10-31T05:23:24.250Z"
      },
      {
        "duration": 155,
        "start_time": "2023-10-31T05:23:24.854Z"
      },
      {
        "duration": 190,
        "start_time": "2023-10-31T05:23:25.011Z"
      },
      {
        "duration": 281,
        "start_time": "2023-10-31T05:23:25.203Z"
      },
      {
        "duration": 207,
        "start_time": "2023-10-31T05:23:25.486Z"
      },
      {
        "duration": 23,
        "start_time": "2023-10-31T05:23:25.696Z"
      },
      {
        "duration": 42,
        "start_time": "2023-10-31T05:23:25.721Z"
      },
      {
        "duration": 29,
        "start_time": "2023-10-31T05:23:25.764Z"
      },
      {
        "duration": 26,
        "start_time": "2023-10-31T05:23:25.796Z"
      },
      {
        "duration": 219,
        "start_time": "2023-10-31T05:23:25.845Z"
      },
      {
        "duration": 172,
        "start_time": "2023-10-31T05:23:26.066Z"
      },
      {
        "duration": 6,
        "start_time": "2023-10-31T05:23:26.240Z"
      },
      {
        "duration": 184,
        "start_time": "2023-10-31T05:23:26.250Z"
      },
      {
        "duration": 212,
        "start_time": "2023-10-31T05:23:26.436Z"
      },
      {
        "duration": 5,
        "start_time": "2023-10-31T05:23:26.650Z"
      },
      {
        "duration": 48,
        "start_time": "2023-10-31T05:23:26.657Z"
      },
      {
        "duration": 121,
        "start_time": "2023-10-31T05:23:26.708Z"
      },
      {
        "duration": 0,
        "start_time": "2023-10-31T05:23:26.831Z"
      },
      {
        "duration": 0,
        "start_time": "2023-10-31T05:23:26.833Z"
      },
      {
        "duration": 0,
        "start_time": "2023-10-31T05:23:26.834Z"
      },
      {
        "duration": 0,
        "start_time": "2023-10-31T05:23:26.835Z"
      },
      {
        "duration": 0,
        "start_time": "2023-10-31T05:23:26.836Z"
      },
      {
        "duration": 0,
        "start_time": "2023-10-31T05:23:26.837Z"
      },
      {
        "duration": 0,
        "start_time": "2023-10-31T05:23:26.837Z"
      },
      {
        "duration": 0,
        "start_time": "2023-10-31T05:23:26.845Z"
      },
      {
        "duration": 0,
        "start_time": "2023-10-31T05:23:26.846Z"
      },
      {
        "duration": 0,
        "start_time": "2023-10-31T05:23:26.847Z"
      },
      {
        "duration": 18,
        "start_time": "2023-10-31T05:23:38.478Z"
      },
      {
        "duration": 9,
        "start_time": "2023-10-31T05:23:41.992Z"
      },
      {
        "duration": 15,
        "start_time": "2023-10-31T05:23:44.604Z"
      },
      {
        "duration": 10,
        "start_time": "2023-10-31T05:23:46.930Z"
      },
      {
        "duration": 16,
        "start_time": "2023-10-31T05:23:52.405Z"
      },
      {
        "duration": 1072,
        "start_time": "2023-10-31T05:24:49.666Z"
      },
      {
        "duration": 95,
        "start_time": "2023-10-31T05:24:50.741Z"
      },
      {
        "duration": 27,
        "start_time": "2023-10-31T05:24:50.838Z"
      },
      {
        "duration": 26,
        "start_time": "2023-10-31T05:24:50.867Z"
      },
      {
        "duration": 39,
        "start_time": "2023-10-31T05:24:50.895Z"
      },
      {
        "duration": 23,
        "start_time": "2023-10-31T05:24:50.936Z"
      },
      {
        "duration": 22,
        "start_time": "2023-10-31T05:24:50.962Z"
      },
      {
        "duration": 49,
        "start_time": "2023-10-31T05:24:50.986Z"
      },
      {
        "duration": 33,
        "start_time": "2023-10-31T05:24:51.037Z"
      },
      {
        "duration": 40,
        "start_time": "2023-10-31T05:24:51.073Z"
      },
      {
        "duration": 16,
        "start_time": "2023-10-31T05:24:51.115Z"
      },
      {
        "duration": 24,
        "start_time": "2023-10-31T05:24:51.133Z"
      },
      {
        "duration": 21,
        "start_time": "2023-10-31T05:24:51.159Z"
      },
      {
        "duration": 44,
        "start_time": "2023-10-31T05:24:51.184Z"
      },
      {
        "duration": 29,
        "start_time": "2023-10-31T05:24:51.230Z"
      },
      {
        "duration": 509,
        "start_time": "2023-10-31T05:24:51.262Z"
      },
      {
        "duration": 179,
        "start_time": "2023-10-31T05:24:51.774Z"
      },
      {
        "duration": 208,
        "start_time": "2023-10-31T05:24:51.956Z"
      },
      {
        "duration": 216,
        "start_time": "2023-10-31T05:24:52.166Z"
      },
      {
        "duration": 231,
        "start_time": "2023-10-31T05:24:52.383Z"
      },
      {
        "duration": 32,
        "start_time": "2023-10-31T05:24:52.616Z"
      },
      {
        "duration": 27,
        "start_time": "2023-10-31T05:24:52.650Z"
      },
      {
        "duration": 46,
        "start_time": "2023-10-31T05:24:52.679Z"
      },
      {
        "duration": 28,
        "start_time": "2023-10-31T05:24:52.727Z"
      },
      {
        "duration": 197,
        "start_time": "2023-10-31T05:24:52.757Z"
      },
      {
        "duration": 190,
        "start_time": "2023-10-31T05:24:52.956Z"
      },
      {
        "duration": 6,
        "start_time": "2023-10-31T05:24:53.149Z"
      },
      {
        "duration": 217,
        "start_time": "2023-10-31T05:24:53.157Z"
      },
      {
        "duration": 205,
        "start_time": "2023-10-31T05:24:53.375Z"
      },
      {
        "duration": 6,
        "start_time": "2023-10-31T05:24:53.582Z"
      },
      {
        "duration": 55,
        "start_time": "2023-10-31T05:24:53.590Z"
      },
      {
        "duration": 32,
        "start_time": "2023-10-31T05:24:53.647Z"
      },
      {
        "duration": 16,
        "start_time": "2023-10-31T05:24:53.681Z"
      },
      {
        "duration": 37,
        "start_time": "2023-10-31T05:24:53.699Z"
      },
      {
        "duration": 14,
        "start_time": "2023-10-31T05:24:53.744Z"
      },
      {
        "duration": 36,
        "start_time": "2023-10-31T05:24:53.763Z"
      },
      {
        "duration": 25,
        "start_time": "2023-10-31T05:24:53.801Z"
      },
      {
        "duration": 65,
        "start_time": "2023-10-31T05:24:53.828Z"
      },
      {
        "duration": 12,
        "start_time": "2023-10-31T05:24:53.895Z"
      },
      {
        "duration": 31,
        "start_time": "2023-10-31T05:24:53.909Z"
      },
      {
        "duration": 107,
        "start_time": "2023-10-31T05:27:41.126Z"
      },
      {
        "duration": 13,
        "start_time": "2023-10-31T05:29:17.960Z"
      },
      {
        "duration": 1,
        "start_time": "2023-10-31T08:45:15.679Z"
      },
      {
        "duration": 9,
        "start_time": "2023-10-31T08:45:15.880Z"
      },
      {
        "duration": 8,
        "start_time": "2023-10-31T08:45:16.516Z"
      },
      {
        "duration": 0,
        "start_time": "2023-10-31T08:45:16.526Z"
      },
      {
        "duration": 0,
        "start_time": "2023-10-31T08:45:16.527Z"
      },
      {
        "duration": 0,
        "start_time": "2023-10-31T08:45:16.528Z"
      },
      {
        "duration": 77,
        "start_time": "2023-10-31T11:06:08.581Z"
      },
      {
        "duration": 908,
        "start_time": "2023-10-31T11:06:18.346Z"
      },
      {
        "duration": 209,
        "start_time": "2023-10-31T11:06:19.256Z"
      },
      {
        "duration": 15,
        "start_time": "2023-10-31T11:06:19.467Z"
      },
      {
        "duration": 11,
        "start_time": "2023-10-31T11:06:19.485Z"
      },
      {
        "duration": 26,
        "start_time": "2023-10-31T11:06:19.498Z"
      },
      {
        "duration": 42,
        "start_time": "2023-10-31T11:06:19.526Z"
      },
      {
        "duration": 8,
        "start_time": "2023-10-31T11:06:19.570Z"
      },
      {
        "duration": 12,
        "start_time": "2023-10-31T11:06:19.579Z"
      },
      {
        "duration": 10,
        "start_time": "2023-10-31T11:06:19.593Z"
      },
      {
        "duration": 21,
        "start_time": "2023-10-31T11:06:19.606Z"
      },
      {
        "duration": 6,
        "start_time": "2023-10-31T11:06:19.629Z"
      },
      {
        "duration": 17,
        "start_time": "2023-10-31T11:06:19.637Z"
      },
      {
        "duration": 38,
        "start_time": "2023-10-31T11:06:19.656Z"
      },
      {
        "duration": 28,
        "start_time": "2023-10-31T11:06:19.696Z"
      },
      {
        "duration": 8,
        "start_time": "2023-10-31T11:06:19.726Z"
      },
      {
        "duration": 656,
        "start_time": "2023-10-31T11:06:19.736Z"
      },
      {
        "duration": 146,
        "start_time": "2023-10-31T11:06:29.444Z"
      },
      {
        "duration": 161,
        "start_time": "2023-10-31T11:08:51.279Z"
      },
      {
        "duration": 189,
        "start_time": "2023-10-31T11:08:54.783Z"
      },
      {
        "duration": 186,
        "start_time": "2023-10-31T11:08:58.715Z"
      },
      {
        "duration": 20,
        "start_time": "2023-10-31T11:09:05.375Z"
      },
      {
        "duration": 20,
        "start_time": "2023-10-31T11:09:06.791Z"
      },
      {
        "duration": 23,
        "start_time": "2023-10-31T11:09:12.559Z"
      },
      {
        "duration": 19,
        "start_time": "2023-10-31T11:09:14.494Z"
      },
      {
        "duration": 149,
        "start_time": "2023-10-31T11:09:18.139Z"
      },
      {
        "duration": 154,
        "start_time": "2023-10-31T11:09:19.035Z"
      },
      {
        "duration": 5,
        "start_time": "2023-10-31T11:09:21.840Z"
      },
      {
        "duration": 165,
        "start_time": "2023-10-31T11:09:23.796Z"
      },
      {
        "duration": 171,
        "start_time": "2023-10-31T11:09:25.176Z"
      },
      {
        "duration": 6,
        "start_time": "2023-10-31T11:09:29.334Z"
      },
      {
        "duration": 17,
        "start_time": "2023-10-31T11:09:34.441Z"
      },
      {
        "duration": 13,
        "start_time": "2023-10-31T11:09:35.343Z"
      },
      {
        "duration": 12,
        "start_time": "2023-10-31T11:09:35.551Z"
      },
      {
        "duration": 22,
        "start_time": "2023-10-31T11:09:35.894Z"
      },
      {
        "duration": 11,
        "start_time": "2023-10-31T11:09:36.506Z"
      },
      {
        "duration": 19,
        "start_time": "2023-10-31T11:10:32.943Z"
      },
      {
        "duration": 3,
        "start_time": "2023-10-31T11:10:37.882Z"
      },
      {
        "duration": 77,
        "start_time": "2023-10-31T11:10:37.908Z"
      },
      {
        "duration": 9,
        "start_time": "2023-10-31T11:10:37.987Z"
      },
      {
        "duration": 136,
        "start_time": "2023-10-31T11:10:37.998Z"
      },
      {
        "duration": 29,
        "start_time": "2023-10-31T11:10:38.137Z"
      },
      {
        "duration": 29,
        "start_time": "2023-10-31T11:10:38.168Z"
      },
      {
        "duration": 32,
        "start_time": "2023-10-31T11:10:38.199Z"
      },
      {
        "duration": 37,
        "start_time": "2023-10-31T11:10:38.234Z"
      },
      {
        "duration": 57,
        "start_time": "2023-10-31T11:10:38.273Z"
      },
      {
        "duration": 54,
        "start_time": "2023-10-31T11:10:38.332Z"
      },
      {
        "duration": 14,
        "start_time": "2023-10-31T11:10:38.389Z"
      },
      {
        "duration": 34,
        "start_time": "2023-10-31T11:10:38.404Z"
      },
      {
        "duration": 21,
        "start_time": "2023-10-31T11:10:38.439Z"
      },
      {
        "duration": 21,
        "start_time": "2023-10-31T11:10:38.461Z"
      },
      {
        "duration": 22,
        "start_time": "2023-10-31T11:10:38.484Z"
      },
      {
        "duration": 188,
        "start_time": "2023-10-31T11:10:38.507Z"
      },
      {
        "duration": 154,
        "start_time": "2023-10-31T11:10:38.697Z"
      },
      {
        "duration": 170,
        "start_time": "2023-10-31T11:10:38.853Z"
      },
      {
        "duration": 202,
        "start_time": "2023-10-31T11:10:39.025Z"
      },
      {
        "duration": 196,
        "start_time": "2023-10-31T11:10:39.229Z"
      },
      {
        "duration": 27,
        "start_time": "2023-10-31T11:10:53.062Z"
      },
      {
        "duration": 24,
        "start_time": "2023-10-31T11:11:37.977Z"
      },
      {
        "duration": 25,
        "start_time": "2023-10-31T11:11:47.060Z"
      },
      {
        "duration": 24,
        "start_time": "2023-10-31T11:13:51.226Z"
      },
      {
        "duration": 17,
        "start_time": "2023-10-31T11:14:08.502Z"
      },
      {
        "duration": 15,
        "start_time": "2023-10-31T11:14:14.120Z"
      },
      {
        "duration": 14,
        "start_time": "2023-10-31T11:14:18.504Z"
      },
      {
        "duration": 25,
        "start_time": "2023-10-31T11:14:25.343Z"
      },
      {
        "duration": 17,
        "start_time": "2023-10-31T11:14:35.742Z"
      },
      {
        "duration": 20,
        "start_time": "2023-10-31T11:14:39.840Z"
      },
      {
        "duration": 4,
        "start_time": "2023-10-31T11:14:44.071Z"
      },
      {
        "duration": 3,
        "start_time": "2023-10-31T11:43:38.625Z"
      },
      {
        "duration": 207,
        "start_time": "2023-10-31T11:44:16.822Z"
      },
      {
        "duration": 307,
        "start_time": "2023-10-31T11:44:22.121Z"
      },
      {
        "duration": 3,
        "start_time": "2023-10-31T11:46:56.465Z"
      },
      {
        "duration": 199,
        "start_time": "2023-10-31T11:47:03.582Z"
      },
      {
        "duration": 400,
        "start_time": "2023-10-31T11:47:10.679Z"
      },
      {
        "duration": 171,
        "start_time": "2023-10-31T11:49:24.231Z"
      },
      {
        "duration": 166,
        "start_time": "2023-10-31T11:49:37.815Z"
      },
      {
        "duration": 172,
        "start_time": "2023-10-31T11:49:47.438Z"
      },
      {
        "duration": 178,
        "start_time": "2023-10-31T11:50:36.118Z"
      },
      {
        "duration": 120,
        "start_time": "2023-10-31T11:51:07.502Z"
      },
      {
        "duration": 173,
        "start_time": "2023-10-31T11:51:21.280Z"
      },
      {
        "duration": 181,
        "start_time": "2023-10-31T11:51:31.980Z"
      },
      {
        "duration": 184,
        "start_time": "2023-10-31T11:51:38.995Z"
      },
      {
        "duration": 267,
        "start_time": "2023-10-31T11:51:53.244Z"
      },
      {
        "duration": 174,
        "start_time": "2023-10-31T11:52:02.351Z"
      },
      {
        "duration": 112,
        "start_time": "2023-10-31T11:52:08.479Z"
      },
      {
        "duration": 189,
        "start_time": "2023-10-31T11:52:12.485Z"
      },
      {
        "duration": 117,
        "start_time": "2023-10-31T11:52:16.021Z"
      },
      {
        "duration": 168,
        "start_time": "2023-10-31T11:52:19.881Z"
      },
      {
        "duration": 177,
        "start_time": "2023-10-31T11:52:21.735Z"
      },
      {
        "duration": 117,
        "start_time": "2023-10-31T11:52:26.629Z"
      },
      {
        "duration": 175,
        "start_time": "2023-10-31T11:52:29.280Z"
      },
      {
        "duration": 184,
        "start_time": "2023-10-31T11:52:33.636Z"
      },
      {
        "duration": 112,
        "start_time": "2023-10-31T11:52:38.042Z"
      },
      {
        "duration": 235,
        "start_time": "2023-10-31T11:52:41.839Z"
      },
      {
        "duration": 186,
        "start_time": "2023-10-31T11:52:43.900Z"
      },
      {
        "duration": 166,
        "start_time": "2023-10-31T11:52:48.105Z"
      },
      {
        "duration": 224,
        "start_time": "2023-10-31T11:53:10.076Z"
      },
      {
        "duration": 218,
        "start_time": "2023-10-31T11:54:41.023Z"
      },
      {
        "duration": 219,
        "start_time": "2023-10-31T11:54:44.706Z"
      },
      {
        "duration": 220,
        "start_time": "2023-10-31T11:54:49.234Z"
      },
      {
        "duration": 334,
        "start_time": "2023-10-31T11:55:14.131Z"
      },
      {
        "duration": 250,
        "start_time": "2023-10-31T11:55:58.083Z"
      },
      {
        "duration": 231,
        "start_time": "2023-10-31T11:56:19.234Z"
      },
      {
        "duration": 128,
        "start_time": "2023-10-31T11:56:39.265Z"
      },
      {
        "duration": 229,
        "start_time": "2023-10-31T11:56:47.988Z"
      },
      {
        "duration": 223,
        "start_time": "2023-10-31T11:58:59.044Z"
      },
      {
        "duration": 344,
        "start_time": "2023-10-31T11:59:41.099Z"
      },
      {
        "duration": 80,
        "start_time": "2023-10-31T12:01:42.134Z"
      },
      {
        "duration": 32,
        "start_time": "2023-10-31T12:01:46.383Z"
      },
      {
        "duration": 230,
        "start_time": "2023-10-31T12:01:50.393Z"
      },
      {
        "duration": 239,
        "start_time": "2023-10-31T12:05:40.095Z"
      },
      {
        "duration": 224,
        "start_time": "2023-10-31T12:05:55.064Z"
      },
      {
        "duration": 233,
        "start_time": "2023-10-31T12:06:36.815Z"
      },
      {
        "duration": 236,
        "start_time": "2023-10-31T12:07:15.838Z"
      },
      {
        "duration": 379,
        "start_time": "2023-10-31T12:07:38.269Z"
      },
      {
        "duration": 275,
        "start_time": "2023-10-31T12:07:47.344Z"
      },
      {
        "duration": 241,
        "start_time": "2023-10-31T12:07:56.875Z"
      },
      {
        "duration": 237,
        "start_time": "2023-10-31T12:08:00.823Z"
      },
      {
        "duration": 15,
        "start_time": "2023-10-31T12:08:12.073Z"
      },
      {
        "duration": 238,
        "start_time": "2023-10-31T12:08:33.537Z"
      },
      {
        "duration": 343,
        "start_time": "2023-10-31T12:08:44.633Z"
      },
      {
        "duration": 246,
        "start_time": "2023-10-31T12:08:49.016Z"
      },
      {
        "duration": 232,
        "start_time": "2023-10-31T12:08:51.830Z"
      },
      {
        "duration": 250,
        "start_time": "2023-10-31T12:09:05.775Z"
      },
      {
        "duration": 242,
        "start_time": "2023-10-31T12:10:43.425Z"
      },
      {
        "duration": 247,
        "start_time": "2023-10-31T12:11:07.602Z"
      },
      {
        "duration": 365,
        "start_time": "2023-10-31T12:11:19.135Z"
      },
      {
        "duration": 256,
        "start_time": "2023-10-31T12:11:22.404Z"
      },
      {
        "duration": 235,
        "start_time": "2023-10-31T12:11:28.499Z"
      },
      {
        "duration": 240,
        "start_time": "2023-10-31T12:11:33.051Z"
      },
      {
        "duration": 258,
        "start_time": "2023-10-31T12:12:45.962Z"
      },
      {
        "duration": 279,
        "start_time": "2023-10-31T12:13:04.137Z"
      },
      {
        "duration": 408,
        "start_time": "2023-10-31T12:13:06.893Z"
      },
      {
        "duration": 272,
        "start_time": "2023-10-31T12:13:11.882Z"
      },
      {
        "duration": 328,
        "start_time": "2023-10-31T12:13:15.377Z"
      },
      {
        "duration": 297,
        "start_time": "2023-10-31T12:13:18.500Z"
      },
      {
        "duration": 5,
        "start_time": "2023-10-31T12:21:59.178Z"
      },
      {
        "duration": 5,
        "start_time": "2023-10-31T12:22:16.509Z"
      },
      {
        "duration": 18,
        "start_time": "2023-10-31T12:22:27.936Z"
      },
      {
        "duration": 3,
        "start_time": "2023-10-31T12:22:36.628Z"
      },
      {
        "duration": 81,
        "start_time": "2023-10-31T12:22:36.633Z"
      },
      {
        "duration": 9,
        "start_time": "2023-10-31T12:22:36.715Z"
      },
      {
        "duration": 13,
        "start_time": "2023-10-31T12:22:36.726Z"
      },
      {
        "duration": 16,
        "start_time": "2023-10-31T12:22:36.741Z"
      },
      {
        "duration": 12,
        "start_time": "2023-10-31T12:22:36.759Z"
      },
      {
        "duration": 7,
        "start_time": "2023-10-31T12:22:36.773Z"
      },
      {
        "duration": 39,
        "start_time": "2023-10-31T12:22:36.781Z"
      },
      {
        "duration": 11,
        "start_time": "2023-10-31T12:22:36.822Z"
      },
      {
        "duration": 12,
        "start_time": "2023-10-31T12:22:36.835Z"
      },
      {
        "duration": 6,
        "start_time": "2023-10-31T12:22:36.851Z"
      },
      {
        "duration": 7,
        "start_time": "2023-10-31T12:22:36.859Z"
      },
      {
        "duration": 47,
        "start_time": "2023-10-31T12:22:36.868Z"
      },
      {
        "duration": 9,
        "start_time": "2023-10-31T12:22:36.918Z"
      },
      {
        "duration": 10,
        "start_time": "2023-10-31T12:22:36.929Z"
      },
      {
        "duration": 173,
        "start_time": "2023-10-31T12:22:37.268Z"
      },
      {
        "duration": 185,
        "start_time": "2023-10-31T12:22:37.444Z"
      },
      {
        "duration": 170,
        "start_time": "2023-10-31T12:22:37.630Z"
      },
      {
        "duration": 315,
        "start_time": "2023-10-31T12:22:37.802Z"
      },
      {
        "duration": 241,
        "start_time": "2023-10-31T12:22:38.120Z"
      },
      {
        "duration": 26,
        "start_time": "2023-10-31T12:22:38.362Z"
      },
      {
        "duration": 42,
        "start_time": "2023-10-31T12:22:38.389Z"
      },
      {
        "duration": 24,
        "start_time": "2023-10-31T12:22:38.433Z"
      },
      {
        "duration": 24,
        "start_time": "2023-10-31T12:22:38.459Z"
      },
      {
        "duration": 341,
        "start_time": "2023-10-31T12:22:38.485Z"
      },
      {
        "duration": 5,
        "start_time": "2023-10-31T12:22:38.827Z"
      },
      {
        "duration": 355,
        "start_time": "2023-10-31T12:22:38.834Z"
      },
      {
        "duration": 5,
        "start_time": "2023-10-31T12:22:39.191Z"
      },
      {
        "duration": 5,
        "start_time": "2023-10-31T12:22:43.137Z"
      },
      {
        "duration": 18,
        "start_time": "2023-10-31T12:22:44.340Z"
      },
      {
        "duration": 24,
        "start_time": "2023-10-31T12:23:31.931Z"
      },
      {
        "duration": 27,
        "start_time": "2023-10-31T12:23:58.235Z"
      },
      {
        "duration": 750,
        "start_time": "2023-10-31T12:24:14.996Z"
      },
      {
        "duration": 22,
        "start_time": "2023-10-31T12:24:36.782Z"
      },
      {
        "duration": 31,
        "start_time": "2023-10-31T12:25:29.780Z"
      },
      {
        "duration": 18,
        "start_time": "2023-10-31T12:26:30.111Z"
      },
      {
        "duration": 30,
        "start_time": "2023-10-31T12:26:52.304Z"
      },
      {
        "duration": 17,
        "start_time": "2023-10-31T12:26:59.071Z"
      },
      {
        "duration": 595,
        "start_time": "2023-10-31T12:27:18.552Z"
      },
      {
        "duration": 34,
        "start_time": "2023-10-31T12:27:25.193Z"
      },
      {
        "duration": 1194,
        "start_time": "2023-10-31T12:29:13.169Z"
      },
      {
        "duration": 4,
        "start_time": "2023-10-31T13:45:32.345Z"
      },
      {
        "duration": 79,
        "start_time": "2023-10-31T13:45:33.160Z"
      },
      {
        "duration": 10,
        "start_time": "2023-10-31T13:45:34.557Z"
      },
      {
        "duration": 14,
        "start_time": "2023-10-31T13:45:34.569Z"
      },
      {
        "duration": 18,
        "start_time": "2023-10-31T13:45:34.584Z"
      },
      {
        "duration": 13,
        "start_time": "2023-10-31T13:45:34.604Z"
      },
      {
        "duration": 7,
        "start_time": "2023-10-31T13:45:35.160Z"
      },
      {
        "duration": 20,
        "start_time": "2023-10-31T13:45:35.170Z"
      },
      {
        "duration": 22,
        "start_time": "2023-10-31T13:45:35.192Z"
      },
      {
        "duration": 11,
        "start_time": "2023-10-31T13:45:35.395Z"
      },
      {
        "duration": 17,
        "start_time": "2023-10-31T13:45:35.408Z"
      },
      {
        "duration": 30,
        "start_time": "2023-10-31T13:45:35.427Z"
      },
      {
        "duration": 33,
        "start_time": "2023-10-31T13:45:35.459Z"
      },
      {
        "duration": 24,
        "start_time": "2023-10-31T13:45:35.495Z"
      },
      {
        "duration": 36,
        "start_time": "2023-10-31T13:45:35.522Z"
      },
      {
        "duration": 248,
        "start_time": "2023-10-31T13:45:35.560Z"
      },
      {
        "duration": 169,
        "start_time": "2023-10-31T13:45:35.810Z"
      },
      {
        "duration": 190,
        "start_time": "2023-10-31T13:45:35.981Z"
      },
      {
        "duration": 212,
        "start_time": "2023-10-31T13:45:36.238Z"
      },
      {
        "duration": 199,
        "start_time": "2023-10-31T13:45:36.793Z"
      },
      {
        "duration": 41,
        "start_time": "2023-10-31T13:45:36.994Z"
      },
      {
        "duration": 25,
        "start_time": "2023-10-31T13:45:37.037Z"
      },
      {
        "duration": 24,
        "start_time": "2023-10-31T13:45:37.063Z"
      },
      {
        "duration": 48,
        "start_time": "2023-10-31T13:45:37.089Z"
      },
      {
        "duration": 497,
        "start_time": "2023-10-31T13:45:37.139Z"
      },
      {
        "duration": 6,
        "start_time": "2023-10-31T13:45:37.638Z"
      },
      {
        "duration": 350,
        "start_time": "2023-10-31T13:45:37.646Z"
      },
      {
        "duration": 5,
        "start_time": "2023-10-31T13:45:37.998Z"
      },
      {
        "duration": 33,
        "start_time": "2023-10-31T13:45:38.005Z"
      },
      {
        "duration": 33,
        "start_time": "2023-10-31T13:45:38.040Z"
      },
      {
        "duration": 20,
        "start_time": "2023-10-31T13:45:38.075Z"
      },
      {
        "duration": 32,
        "start_time": "2023-10-31T13:45:38.096Z"
      },
      {
        "duration": 29,
        "start_time": "2023-10-31T13:45:38.131Z"
      },
      {
        "duration": 23,
        "start_time": "2023-10-31T13:45:38.162Z"
      },
      {
        "duration": 48,
        "start_time": "2023-10-31T13:45:38.188Z"
      },
      {
        "duration": 15,
        "start_time": "2023-10-31T13:50:11.121Z"
      },
      {
        "duration": 13,
        "start_time": "2023-10-31T13:50:28.985Z"
      },
      {
        "duration": 6,
        "start_time": "2023-10-31T13:55:27.581Z"
      },
      {
        "duration": 12,
        "start_time": "2023-10-31T13:57:12.773Z"
      },
      {
        "duration": 7,
        "start_time": "2023-10-31T13:57:32.574Z"
      },
      {
        "duration": 11,
        "start_time": "2023-10-31T13:58:35.635Z"
      },
      {
        "duration": 194,
        "start_time": "2023-10-31T14:01:48.335Z"
      },
      {
        "duration": 170,
        "start_time": "2023-10-31T14:02:04.837Z"
      },
      {
        "duration": 175,
        "start_time": "2023-10-31T14:02:15.353Z"
      },
      {
        "duration": 169,
        "start_time": "2023-10-31T14:02:21.286Z"
      },
      {
        "duration": 188,
        "start_time": "2023-10-31T14:03:16.007Z"
      },
      {
        "duration": 175,
        "start_time": "2023-10-31T14:03:28.613Z"
      },
      {
        "duration": 171,
        "start_time": "2023-10-31T14:03:45.095Z"
      },
      {
        "duration": 295,
        "start_time": "2023-10-31T14:07:38.367Z"
      },
      {
        "duration": 187,
        "start_time": "2023-10-31T14:09:09.604Z"
      },
      {
        "duration": 182,
        "start_time": "2023-10-31T14:10:01.853Z"
      },
      {
        "duration": 173,
        "start_time": "2023-10-31T14:10:09.313Z"
      },
      {
        "duration": 161,
        "start_time": "2023-10-31T14:11:15.619Z"
      },
      {
        "duration": 170,
        "start_time": "2023-10-31T14:11:44.760Z"
      },
      {
        "duration": 173,
        "start_time": "2023-10-31T14:11:51.040Z"
      },
      {
        "duration": 168,
        "start_time": "2023-10-31T14:14:49.841Z"
      },
      {
        "duration": 187,
        "start_time": "2023-10-31T14:14:57.565Z"
      },
      {
        "duration": 171,
        "start_time": "2023-10-31T14:15:02.858Z"
      },
      {
        "duration": 175,
        "start_time": "2023-10-31T14:16:07.914Z"
      },
      {
        "duration": 307,
        "start_time": "2023-10-31T14:16:34.571Z"
      },
      {
        "duration": 179,
        "start_time": "2023-10-31T14:16:46.154Z"
      },
      {
        "duration": 185,
        "start_time": "2023-10-31T14:17:52.226Z"
      },
      {
        "duration": 181,
        "start_time": "2023-10-31T14:19:35.320Z"
      },
      {
        "duration": 184,
        "start_time": "2023-10-31T14:19:58.857Z"
      },
      {
        "duration": 205,
        "start_time": "2023-10-31T14:21:06.877Z"
      },
      {
        "duration": 209,
        "start_time": "2023-10-31T14:22:02.269Z"
      },
      {
        "duration": 207,
        "start_time": "2023-10-31T14:22:21.500Z"
      },
      {
        "duration": 277,
        "start_time": "2023-10-31T14:23:18.825Z"
      },
      {
        "duration": 449,
        "start_time": "2023-10-31T14:23:31.978Z"
      },
      {
        "duration": 291,
        "start_time": "2023-10-31T14:24:16.979Z"
      },
      {
        "duration": 310,
        "start_time": "2023-10-31T14:24:40.219Z"
      },
      {
        "duration": 326,
        "start_time": "2023-10-31T14:25:25.467Z"
      },
      {
        "duration": 315,
        "start_time": "2023-10-31T14:25:32.197Z"
      },
      {
        "duration": 11,
        "start_time": "2023-10-31T14:28:26.821Z"
      },
      {
        "duration": 12,
        "start_time": "2023-10-31T14:29:31.640Z"
      },
      {
        "duration": 3,
        "start_time": "2023-10-31T14:31:17.049Z"
      },
      {
        "duration": 72,
        "start_time": "2023-10-31T14:31:17.301Z"
      },
      {
        "duration": 13,
        "start_time": "2023-10-31T14:31:18.340Z"
      },
      {
        "duration": 36,
        "start_time": "2023-10-31T14:31:18.356Z"
      },
      {
        "duration": 27,
        "start_time": "2023-10-31T14:31:18.395Z"
      },
      {
        "duration": 21,
        "start_time": "2023-10-31T14:31:18.425Z"
      },
      {
        "duration": 7,
        "start_time": "2023-10-31T14:31:18.630Z"
      },
      {
        "duration": 18,
        "start_time": "2023-10-31T14:31:18.639Z"
      },
      {
        "duration": 10,
        "start_time": "2023-10-31T14:31:18.659Z"
      },
      {
        "duration": 11,
        "start_time": "2023-10-31T14:31:21.564Z"
      },
      {
        "duration": 6,
        "start_time": "2023-10-31T14:31:21.577Z"
      },
      {
        "duration": 15,
        "start_time": "2023-10-31T14:31:21.585Z"
      },
      {
        "duration": 16,
        "start_time": "2023-10-31T14:31:21.602Z"
      },
      {
        "duration": 15,
        "start_time": "2023-10-31T14:31:21.620Z"
      },
      {
        "duration": 8,
        "start_time": "2023-10-31T14:31:21.637Z"
      },
      {
        "duration": 189,
        "start_time": "2023-10-31T14:31:21.647Z"
      },
      {
        "duration": 158,
        "start_time": "2023-10-31T14:31:21.837Z"
      },
      {
        "duration": 329,
        "start_time": "2023-10-31T14:31:21.996Z"
      },
      {
        "duration": 207,
        "start_time": "2023-10-31T14:31:30.196Z"
      },
      {
        "duration": 209,
        "start_time": "2023-10-31T14:31:30.948Z"
      },
      {
        "duration": 26,
        "start_time": "2023-10-31T14:31:31.160Z"
      },
      {
        "duration": 45,
        "start_time": "2023-10-31T14:31:31.187Z"
      },
      {
        "duration": 30,
        "start_time": "2023-10-31T14:31:31.234Z"
      },
      {
        "duration": 47,
        "start_time": "2023-10-31T14:31:31.266Z"
      },
      {
        "duration": 340,
        "start_time": "2023-10-31T14:31:31.315Z"
      },
      {
        "duration": 5,
        "start_time": "2023-10-31T14:31:31.656Z"
      },
      {
        "duration": 342,
        "start_time": "2023-10-31T14:31:31.663Z"
      },
      {
        "duration": 8,
        "start_time": "2023-10-31T14:31:32.006Z"
      },
      {
        "duration": 20,
        "start_time": "2023-10-31T14:31:32.016Z"
      },
      {
        "duration": 43,
        "start_time": "2023-10-31T14:31:32.038Z"
      },
      {
        "duration": 21,
        "start_time": "2023-10-31T14:31:32.083Z"
      },
      {
        "duration": 23,
        "start_time": "2023-10-31T14:31:32.106Z"
      },
      {
        "duration": 28,
        "start_time": "2023-10-31T14:31:32.133Z"
      },
      {
        "duration": 19,
        "start_time": "2023-10-31T14:31:32.163Z"
      },
      {
        "duration": 40,
        "start_time": "2023-10-31T14:31:32.184Z"
      },
      {
        "duration": 28,
        "start_time": "2023-10-31T14:31:32.226Z"
      },
      {
        "duration": 26,
        "start_time": "2023-10-31T14:31:32.256Z"
      },
      {
        "duration": 129,
        "start_time": "2023-10-31T14:33:37.300Z"
      },
      {
        "duration": 128,
        "start_time": "2023-10-31T14:33:49.734Z"
      },
      {
        "duration": 134,
        "start_time": "2023-10-31T14:33:55.899Z"
      },
      {
        "duration": 139,
        "start_time": "2023-10-31T14:34:12.701Z"
      },
      {
        "duration": 311,
        "start_time": "2023-10-31T14:34:38.861Z"
      },
      {
        "duration": 172,
        "start_time": "2023-10-31T14:35:36.931Z"
      },
      {
        "duration": 1095,
        "start_time": "2023-10-31T16:03:59.055Z"
      },
      {
        "duration": 133,
        "start_time": "2023-10-31T16:04:00.152Z"
      },
      {
        "duration": 13,
        "start_time": "2023-10-31T16:04:00.287Z"
      },
      {
        "duration": 198,
        "start_time": "2023-10-31T16:04:00.301Z"
      },
      {
        "duration": 354,
        "start_time": "2023-10-31T16:04:00.502Z"
      },
      {
        "duration": 146,
        "start_time": "2023-10-31T16:04:00.858Z"
      },
      {
        "duration": 60,
        "start_time": "2023-10-31T16:04:01.006Z"
      },
      {
        "duration": 55,
        "start_time": "2023-10-31T16:04:01.068Z"
      },
      {
        "duration": 83,
        "start_time": "2023-10-31T16:04:01.125Z"
      },
      {
        "duration": 90,
        "start_time": "2023-10-31T16:04:01.210Z"
      },
      {
        "duration": 62,
        "start_time": "2023-10-31T16:04:01.302Z"
      },
      {
        "duration": 136,
        "start_time": "2023-10-31T16:04:01.367Z"
      },
      {
        "duration": 509,
        "start_time": "2023-10-31T16:04:01.505Z"
      },
      {
        "duration": 373,
        "start_time": "2023-10-31T16:04:02.017Z"
      },
      {
        "duration": 170,
        "start_time": "2023-10-31T16:04:02.392Z"
      },
      {
        "duration": 319,
        "start_time": "2023-10-31T16:04:02.564Z"
      },
      {
        "duration": 160,
        "start_time": "2023-10-31T16:04:02.885Z"
      },
      {
        "duration": 197,
        "start_time": "2023-10-31T16:04:03.047Z"
      },
      {
        "duration": 212,
        "start_time": "2023-10-31T16:04:03.245Z"
      },
      {
        "duration": 215,
        "start_time": "2023-10-31T16:04:03.459Z"
      },
      {
        "duration": 37,
        "start_time": "2023-10-31T16:04:03.675Z"
      },
      {
        "duration": 27,
        "start_time": "2023-10-31T16:04:03.714Z"
      },
      {
        "duration": 42,
        "start_time": "2023-10-31T16:04:03.742Z"
      },
      {
        "duration": 31,
        "start_time": "2023-10-31T16:04:03.786Z"
      },
      {
        "duration": 329,
        "start_time": "2023-10-31T16:04:03.820Z"
      },
      {
        "duration": 6,
        "start_time": "2023-10-31T16:04:04.151Z"
      },
      {
        "duration": 364,
        "start_time": "2023-10-31T16:04:04.160Z"
      },
      {
        "duration": 5,
        "start_time": "2023-10-31T16:04:04.526Z"
      },
      {
        "duration": 55,
        "start_time": "2023-10-31T16:04:04.533Z"
      },
      {
        "duration": 41,
        "start_time": "2023-10-31T16:04:04.590Z"
      },
      {
        "duration": 21,
        "start_time": "2023-10-31T16:04:04.633Z"
      },
      {
        "duration": 27,
        "start_time": "2023-10-31T16:04:04.656Z"
      },
      {
        "duration": 43,
        "start_time": "2023-10-31T16:04:04.685Z"
      },
      {
        "duration": 27,
        "start_time": "2023-10-31T16:04:04.730Z"
      },
      {
        "duration": 16,
        "start_time": "2023-10-31T16:04:04.759Z"
      },
      {
        "duration": 6,
        "start_time": "2023-10-31T16:04:04.802Z"
      },
      {
        "duration": 28,
        "start_time": "2023-10-31T16:04:04.810Z"
      },
      {
        "duration": 100,
        "start_time": "2023-10-31T16:09:21.361Z"
      },
      {
        "duration": 20,
        "start_time": "2023-10-31T16:09:26.245Z"
      }
    ],
    "kernelspec": {
      "display_name": "Python 3 (ipykernel)",
      "language": "python",
      "name": "python3"
    },
    "language_info": {
      "codemirror_mode": {
        "name": "ipython",
        "version": 3
      },
      "file_extension": ".py",
      "mimetype": "text/x-python",
      "name": "python",
      "nbconvert_exporter": "python",
      "pygments_lexer": "ipython3",
      "version": "3.9.5"
    },
    "toc": {
      "base_numbering": 1,
      "nav_menu": {
        "height": "228px",
        "width": "303px"
      },
      "number_sections": true,
      "sideBar": true,
      "skip_h1_title": true,
      "title_cell": "Table of Contents",
      "title_sidebar": "Contents",
      "toc_cell": false,
      "toc_position": {},
      "toc_section_display": true,
      "toc_window_display": false
    },
    "colab": {
      "provenance": []
    }
  },
  "nbformat": 4,
  "nbformat_minor": 5
}