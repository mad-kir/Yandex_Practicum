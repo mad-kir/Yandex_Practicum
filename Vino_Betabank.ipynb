{
  "cells": [
    {
      "cell_type": "markdown",
      "metadata": {
        "toc": true,
        "id": "Weu56NerbnjU"
      },
      "source": [
        "<h1>Содержание<span class=\"tocSkip\"></span></h1>\n",
        "<div class=\"toc\"><ul class=\"toc-item\"><li><span><a href=\"#Подготовка-данных\" data-toc-modified-id=\"Подготовка-данных-1\"><span class=\"toc-item-num\">1&nbsp;&nbsp;</span>Подготовка данных</a></span><ul class=\"toc-item\"><li><span><a href=\"#Ознакомление-с-данными\" data-toc-modified-id=\"Ознакомление-с-данными-1.1\"><span class=\"toc-item-num\">1.1&nbsp;&nbsp;</span>Ознакомление с данными</a></span></li><li><span><a href=\"#Обработка-дубликатов-и-пропусков\" data-toc-modified-id=\"Обработка-дубликатов-и-пропусков-1.2\"><span class=\"toc-item-num\">1.2&nbsp;&nbsp;</span>Обработка дубликатов и пропусков</a></span></li><li><span><a href=\"#Изменение-типов-данных\" data-toc-modified-id=\"Изменение-типов-данных-1.3\"><span class=\"toc-item-num\">1.3&nbsp;&nbsp;</span>Изменение типов данных</a></span></li><li><span><a href=\"#Категориальные-переменные\" data-toc-modified-id=\"Категориальные-переменные-1.4\"><span class=\"toc-item-num\">1.4&nbsp;&nbsp;</span>Категориальные переменные</a></span></li><li><span><a href=\"#Разделение-на-выборки\" data-toc-modified-id=\"Разделение-на-выборки-1.5\"><span class=\"toc-item-num\">1.5&nbsp;&nbsp;</span>Разделение на выборки</a></span></li><li><span><a href=\"#Стандартизация-численных-значений\" data-toc-modified-id=\"Стандартизация-численных-значений-1.6\"><span class=\"toc-item-num\">1.6&nbsp;&nbsp;</span>Стандартизация численных значений</a></span></li><li><span><a href=\"#Промежуточный-вывод\" data-toc-modified-id=\"Промежуточный-вывод-1.7\"><span class=\"toc-item-num\">1.7&nbsp;&nbsp;</span>Промежуточный вывод</a></span></li></ul></li><li><span><a href=\"#Исследование-задачи\" data-toc-modified-id=\"Исследование-задачи-2\"><span class=\"toc-item-num\">2&nbsp;&nbsp;</span>Исследование задачи</a></span><ul class=\"toc-item\"><li><span><a href=\"#Решающее-дерево\" data-toc-modified-id=\"Решающее-дерево-2.1\"><span class=\"toc-item-num\">2.1&nbsp;&nbsp;</span>Решающее дерево</a></span></li><li><span><a href=\"#Случайный-лес\" data-toc-modified-id=\"Случайный-лес-2.2\"><span class=\"toc-item-num\">2.2&nbsp;&nbsp;</span>Случайный лес</a></span></li><li><span><a href=\"#Логическая-регрессия\" data-toc-modified-id=\"Логическая-регрессия-2.3\"><span class=\"toc-item-num\">2.3&nbsp;&nbsp;</span>Логическая регрессия</a></span></li><li><span><a href=\"#Промежуточный-вывод\" data-toc-modified-id=\"Промежуточный-вывод-2.4\"><span class=\"toc-item-num\">2.4&nbsp;&nbsp;</span>Промежуточный вывод</a></span></li></ul></li><li><span><a href=\"#Борьба-с-дисбалансом\" data-toc-modified-id=\"Борьба-с-дисбалансом-3\"><span class=\"toc-item-num\">3&nbsp;&nbsp;</span>Борьба с дисбалансом</a></span><ul class=\"toc-item\"><li><span><a href=\"#Дерево-решений\" data-toc-modified-id=\"Дерево-решений-3.1\"><span class=\"toc-item-num\">3.1&nbsp;&nbsp;</span>Дерево решений</a></span><ul class=\"toc-item\"><li><span><a href=\"#Изменение-веса-меньшего-класса\" data-toc-modified-id=\"Изменение-веса-меньшего-класса-3.1.1\"><span class=\"toc-item-num\">3.1.1&nbsp;&nbsp;</span>Изменение веса меньшего класса</a></span></li><li><span><a href=\"#Увеличение-количества-меньшей-категории\" data-toc-modified-id=\"Увеличение-количества-меньшей-категории-3.1.2\"><span class=\"toc-item-num\">3.1.2&nbsp;&nbsp;</span>Увеличение количества меньшей категории</a></span></li><li><span><a href=\"#Уменьшение-количества-большей-категории\" data-toc-modified-id=\"Уменьшение-количества-большей-категории-3.1.3\"><span class=\"toc-item-num\">3.1.3&nbsp;&nbsp;</span>Уменьшение количества большей категории</a></span></li></ul></li><li><span><a href=\"#Случайный-лес\" data-toc-modified-id=\"Случайный-лес-3.2\"><span class=\"toc-item-num\">3.2&nbsp;&nbsp;</span>Случайный лес</a></span><ul class=\"toc-item\"><li><span><a href=\"#Изменение-веса-меньшего-класса\" data-toc-modified-id=\"Изменение-веса-меньшего-класса-3.2.1\"><span class=\"toc-item-num\">3.2.1&nbsp;&nbsp;</span>Изменение веса меньшего класса</a></span></li><li><span><a href=\"#Увеличение-количества-меньшей-категории\" data-toc-modified-id=\"Увеличение-количества-меньшей-категории-3.2.2\"><span class=\"toc-item-num\">3.2.2&nbsp;&nbsp;</span>Увеличение количества меньшей категории</a></span></li><li><span><a href=\"#Уменьшение-количества-большей-категории\" data-toc-modified-id=\"Уменьшение-количества-большей-категории-3.2.3\"><span class=\"toc-item-num\">3.2.3&nbsp;&nbsp;</span>Уменьшение количества большей категории</a></span></li></ul></li><li><span><a href=\"#Логическая-регрессия\" data-toc-modified-id=\"Логическая-регрессия-3.3\"><span class=\"toc-item-num\">3.3&nbsp;&nbsp;</span>Логическая регрессия</a></span><ul class=\"toc-item\"><li><span><a href=\"#Изменение-веса-меньшего-класса\" data-toc-modified-id=\"Изменение-веса-меньшего-класса-3.3.1\"><span class=\"toc-item-num\">3.3.1&nbsp;&nbsp;</span>Изменение веса меньшего класса</a></span></li><li><span><a href=\"#Увеличение-количества-меньшей-категории\" data-toc-modified-id=\"Увеличение-количества-меньшей-категории-3.3.2\"><span class=\"toc-item-num\">3.3.2&nbsp;&nbsp;</span>Увеличение количества меньшей категории</a></span></li><li><span><a href=\"#Уменьшение-количества-большей-категории\" data-toc-modified-id=\"Уменьшение-количества-большей-категории-3.3.3\"><span class=\"toc-item-num\">3.3.3&nbsp;&nbsp;</span>Уменьшение количества большей категории</a></span></li></ul></li><li><span><a href=\"#Промежуточный-вывод\" data-toc-modified-id=\"Промежуточный-вывод-3.4\"><span class=\"toc-item-num\">3.4&nbsp;&nbsp;</span>Промежуточный вывод</a></span></li><li><span><a href=\"#Промежуточный-вывод\" data-toc-modified-id=\"Промежуточный-вывод-3.5\"><span class=\"toc-item-num\">3.5&nbsp;&nbsp;</span>Промежуточный вывод</a></span></li></ul></li><li><span><a href=\"#Тестирование-модели\" data-toc-modified-id=\"Тестирование-модели-4\"><span class=\"toc-item-num\">4&nbsp;&nbsp;</span>Тестирование модели</a></span></li><li><span><a href=\"#Вывод\" data-toc-modified-id=\"Вывод-5\"><span class=\"toc-item-num\">5&nbsp;&nbsp;</span>Вывод</a></span></li><li><span><a href=\"#Чек-лист-готовности-проекта\" data-toc-modified-id=\"Чек-лист-готовности-проекта-6\"><span class=\"toc-item-num\">6&nbsp;&nbsp;</span>Чек-лист готовности проекта</a></span></li></ul></div>"
      ]
    },
    {
      "cell_type": "markdown",
      "metadata": {
        "id": "TMasBFbBbnjV"
      },
      "source": [
        "# Отток клиентов"
      ]
    },
    {
      "cell_type": "markdown",
      "metadata": {
        "id": "ZFZV6JUzbnjW"
      },
      "source": [
        "Из «Бета-Банка» стали уходить клиенты. Банковские маркетологи посчитали: сохранять текущих клиентов дешевле, чем привлекать новых.\n",
        "\n",
        "Нужно спрогнозировать, уйдёт клиент из банка в ближайшее время или нет. Вам предоставлены исторические данные о поведении клиентов и расторжении договоров с банком.\n",
        "\n",
        "Необходимо построить модель с предельно большим значением *F1*-меры (минимально нужно довести метрику до 0.59)\n",
        "\n",
        "Источник данных: [https://www.kaggle.com/barelydedicated/bank-customer-churn-modeling](https://www.kaggle.com/barelydedicated/bank-customer-churn-modeling)"
      ]
    },
    {
      "cell_type": "markdown",
      "metadata": {
        "id": "8SgIxyNWbnjW"
      },
      "source": [
        "## Предобработка данных"
      ]
    },
    {
      "cell_type": "code",
      "execution_count": 1,
      "metadata": {
        "colab": {
          "base_uri": "https://localhost:8080/"
        },
        "id": "OQDP2Da9bnjX",
        "outputId": "c2329277-b504-46b0-e216-bbf26eee577d"
      },
      "outputs": [
        {
          "output_type": "stream",
          "name": "stdout",
          "text": [
            "Collecting scikit-learn==1.1.3\n",
            "  Downloading scikit_learn-1.1.3-cp310-cp310-manylinux_2_17_x86_64.manylinux2014_x86_64.whl (30.5 MB)\n",
            "\u001b[2K     \u001b[90m━━━━━━━━━━━━━━━━━━━━━━━━━━━━━━━━━━━━━━━━\u001b[0m \u001b[32m30.5/30.5 MB\u001b[0m \u001b[31m33.8 MB/s\u001b[0m eta \u001b[36m0:00:00\u001b[0m\n",
            "\u001b[?25hRequirement already satisfied: numpy>=1.17.3 in /usr/local/lib/python3.10/dist-packages (from scikit-learn==1.1.3) (1.25.2)\n",
            "Requirement already satisfied: scipy>=1.3.2 in /usr/local/lib/python3.10/dist-packages (from scikit-learn==1.1.3) (1.11.4)\n",
            "Requirement already satisfied: joblib>=1.0.0 in /usr/local/lib/python3.10/dist-packages (from scikit-learn==1.1.3) (1.3.2)\n",
            "Requirement already satisfied: threadpoolctl>=2.0.0 in /usr/local/lib/python3.10/dist-packages (from scikit-learn==1.1.3) (3.3.0)\n",
            "Installing collected packages: scikit-learn\n",
            "  Attempting uninstall: scikit-learn\n",
            "    Found existing installation: scikit-learn 1.2.2\n",
            "    Uninstalling scikit-learn-1.2.2:\n",
            "      Successfully uninstalled scikit-learn-1.2.2\n",
            "\u001b[31mERROR: pip's dependency resolver does not currently take into account all the packages that are installed. This behaviour is the source of the following dependency conflicts.\n",
            "bigframes 0.21.0 requires scikit-learn>=1.2.2, but you have scikit-learn 1.1.3 which is incompatible.\u001b[0m\u001b[31m\n",
            "\u001b[0mSuccessfully installed scikit-learn-1.1.3\n",
            "Collecting imblearn\n",
            "  Downloading imblearn-0.0-py2.py3-none-any.whl (1.9 kB)\n",
            "Requirement already satisfied: imbalanced-learn in /usr/local/lib/python3.10/dist-packages (from imblearn) (0.10.1)\n",
            "Requirement already satisfied: numpy>=1.17.3 in /usr/local/lib/python3.10/dist-packages (from imbalanced-learn->imblearn) (1.25.2)\n",
            "Requirement already satisfied: scipy>=1.3.2 in /usr/local/lib/python3.10/dist-packages (from imbalanced-learn->imblearn) (1.11.4)\n",
            "Requirement already satisfied: scikit-learn>=1.0.2 in /usr/local/lib/python3.10/dist-packages (from imbalanced-learn->imblearn) (1.1.3)\n",
            "Requirement already satisfied: joblib>=1.1.1 in /usr/local/lib/python3.10/dist-packages (from imbalanced-learn->imblearn) (1.3.2)\n",
            "Requirement already satisfied: threadpoolctl>=2.0.0 in /usr/local/lib/python3.10/dist-packages (from imbalanced-learn->imblearn) (3.3.0)\n",
            "Installing collected packages: imblearn\n",
            "Successfully installed imblearn-0.0\n"
          ]
        }
      ],
      "source": [
        "#проверка нужных обновлений библиотек\n",
        "!pip install scikit-learn==1.1.3\n",
        "!pip install imblearn"
      ]
    },
    {
      "cell_type": "code",
      "execution_count": 2,
      "metadata": {
        "id": "PdgpjS7ebnja"
      },
      "outputs": [],
      "source": [
        "#импорт библиотек\n",
        "import warnings\n",
        "warnings.filterwarnings('ignore')\n",
        "\n",
        "import pandas as pd\n",
        "\n",
        "from sklearn.model_selection import train_test_split\n",
        "from sklearn.utils import shuffle\n",
        "from sklearn.preprocessing import StandardScaler\n",
        "from imblearn.over_sampling import SMOTE\n",
        "from imblearn.under_sampling import RandomUnderSampler\n",
        "\n",
        "from sklearn.tree import DecisionTreeClassifier\n",
        "from sklearn.ensemble import RandomForestClassifier\n",
        "from sklearn.linear_model import LogisticRegression\n",
        "\n",
        "from sklearn.metrics import (\n",
        "    accuracy_score,\n",
        "    confusion_matrix,\n",
        "    f1_score,\n",
        "    roc_auc_score)"
      ]
    },
    {
      "cell_type": "markdown",
      "metadata": {
        "id": "RR-wffItbnjb"
      },
      "source": [
        "### Ознакомление с данными\n",
        "\n",
        "Для начала, загружу предоставленный датасет и сохраню его в data. Выведу размер датасета и пять верхних строк."
      ]
    },
    {
      "cell_type": "code",
      "execution_count": 3,
      "metadata": {
        "colab": {
          "base_uri": "https://localhost:8080/",
          "height": 243
        },
        "id": "zzuT9V3wbnjb",
        "outputId": "f90802f1-1de4-4999-93f5-c408284929f1"
      },
      "outputs": [
        {
          "output_type": "stream",
          "name": "stdout",
          "text": [
            "(10000, 14)\n"
          ]
        },
        {
          "output_type": "execute_result",
          "data": {
            "text/plain": [
              "   RowNumber  CustomerId   Surname  CreditScore Geography  Gender  Age  \\\n",
              "0          1    15634602  Hargrave          619    France  Female   42   \n",
              "1          2    15647311      Hill          608     Spain  Female   41   \n",
              "2          3    15619304      Onio          502    France  Female   42   \n",
              "3          4    15701354      Boni          699    France  Female   39   \n",
              "4          5    15737888  Mitchell          850     Spain  Female   43   \n",
              "\n",
              "   Tenure    Balance  NumOfProducts  HasCrCard  IsActiveMember  \\\n",
              "0     2.0       0.00              1          1               1   \n",
              "1     1.0   83807.86              1          0               1   \n",
              "2     8.0  159660.80              3          1               0   \n",
              "3     1.0       0.00              2          0               0   \n",
              "4     2.0  125510.82              1          1               1   \n",
              "\n",
              "   EstimatedSalary  Exited  \n",
              "0        101348.88       1  \n",
              "1        112542.58       0  \n",
              "2        113931.57       1  \n",
              "3         93826.63       0  \n",
              "4         79084.10       0  "
            ],
            "text/html": [
              "\n",
              "  <div id=\"df-54a91d88-7748-4eb2-8bce-eb328bbbf25e\" class=\"colab-df-container\">\n",
              "    <div>\n",
              "<style scoped>\n",
              "    .dataframe tbody tr th:only-of-type {\n",
              "        vertical-align: middle;\n",
              "    }\n",
              "\n",
              "    .dataframe tbody tr th {\n",
              "        vertical-align: top;\n",
              "    }\n",
              "\n",
              "    .dataframe thead th {\n",
              "        text-align: right;\n",
              "    }\n",
              "</style>\n",
              "<table border=\"1\" class=\"dataframe\">\n",
              "  <thead>\n",
              "    <tr style=\"text-align: right;\">\n",
              "      <th></th>\n",
              "      <th>RowNumber</th>\n",
              "      <th>CustomerId</th>\n",
              "      <th>Surname</th>\n",
              "      <th>CreditScore</th>\n",
              "      <th>Geography</th>\n",
              "      <th>Gender</th>\n",
              "      <th>Age</th>\n",
              "      <th>Tenure</th>\n",
              "      <th>Balance</th>\n",
              "      <th>NumOfProducts</th>\n",
              "      <th>HasCrCard</th>\n",
              "      <th>IsActiveMember</th>\n",
              "      <th>EstimatedSalary</th>\n",
              "      <th>Exited</th>\n",
              "    </tr>\n",
              "  </thead>\n",
              "  <tbody>\n",
              "    <tr>\n",
              "      <th>0</th>\n",
              "      <td>1</td>\n",
              "      <td>15634602</td>\n",
              "      <td>Hargrave</td>\n",
              "      <td>619</td>\n",
              "      <td>France</td>\n",
              "      <td>Female</td>\n",
              "      <td>42</td>\n",
              "      <td>2.0</td>\n",
              "      <td>0.00</td>\n",
              "      <td>1</td>\n",
              "      <td>1</td>\n",
              "      <td>1</td>\n",
              "      <td>101348.88</td>\n",
              "      <td>1</td>\n",
              "    </tr>\n",
              "    <tr>\n",
              "      <th>1</th>\n",
              "      <td>2</td>\n",
              "      <td>15647311</td>\n",
              "      <td>Hill</td>\n",
              "      <td>608</td>\n",
              "      <td>Spain</td>\n",
              "      <td>Female</td>\n",
              "      <td>41</td>\n",
              "      <td>1.0</td>\n",
              "      <td>83807.86</td>\n",
              "      <td>1</td>\n",
              "      <td>0</td>\n",
              "      <td>1</td>\n",
              "      <td>112542.58</td>\n",
              "      <td>0</td>\n",
              "    </tr>\n",
              "    <tr>\n",
              "      <th>2</th>\n",
              "      <td>3</td>\n",
              "      <td>15619304</td>\n",
              "      <td>Onio</td>\n",
              "      <td>502</td>\n",
              "      <td>France</td>\n",
              "      <td>Female</td>\n",
              "      <td>42</td>\n",
              "      <td>8.0</td>\n",
              "      <td>159660.80</td>\n",
              "      <td>3</td>\n",
              "      <td>1</td>\n",
              "      <td>0</td>\n",
              "      <td>113931.57</td>\n",
              "      <td>1</td>\n",
              "    </tr>\n",
              "    <tr>\n",
              "      <th>3</th>\n",
              "      <td>4</td>\n",
              "      <td>15701354</td>\n",
              "      <td>Boni</td>\n",
              "      <td>699</td>\n",
              "      <td>France</td>\n",
              "      <td>Female</td>\n",
              "      <td>39</td>\n",
              "      <td>1.0</td>\n",
              "      <td>0.00</td>\n",
              "      <td>2</td>\n",
              "      <td>0</td>\n",
              "      <td>0</td>\n",
              "      <td>93826.63</td>\n",
              "      <td>0</td>\n",
              "    </tr>\n",
              "    <tr>\n",
              "      <th>4</th>\n",
              "      <td>5</td>\n",
              "      <td>15737888</td>\n",
              "      <td>Mitchell</td>\n",
              "      <td>850</td>\n",
              "      <td>Spain</td>\n",
              "      <td>Female</td>\n",
              "      <td>43</td>\n",
              "      <td>2.0</td>\n",
              "      <td>125510.82</td>\n",
              "      <td>1</td>\n",
              "      <td>1</td>\n",
              "      <td>1</td>\n",
              "      <td>79084.10</td>\n",
              "      <td>0</td>\n",
              "    </tr>\n",
              "  </tbody>\n",
              "</table>\n",
              "</div>\n",
              "    <div class=\"colab-df-buttons\">\n",
              "\n",
              "  <div class=\"colab-df-container\">\n",
              "    <button class=\"colab-df-convert\" onclick=\"convertToInteractive('df-54a91d88-7748-4eb2-8bce-eb328bbbf25e')\"\n",
              "            title=\"Convert this dataframe to an interactive table.\"\n",
              "            style=\"display:none;\">\n",
              "\n",
              "  <svg xmlns=\"http://www.w3.org/2000/svg\" height=\"24px\" viewBox=\"0 -960 960 960\">\n",
              "    <path d=\"M120-120v-720h720v720H120Zm60-500h600v-160H180v160Zm220 220h160v-160H400v160Zm0 220h160v-160H400v160ZM180-400h160v-160H180v160Zm440 0h160v-160H620v160ZM180-180h160v-160H180v160Zm440 0h160v-160H620v160Z\"/>\n",
              "  </svg>\n",
              "    </button>\n",
              "\n",
              "  <style>\n",
              "    .colab-df-container {\n",
              "      display:flex;\n",
              "      gap: 12px;\n",
              "    }\n",
              "\n",
              "    .colab-df-convert {\n",
              "      background-color: #E8F0FE;\n",
              "      border: none;\n",
              "      border-radius: 50%;\n",
              "      cursor: pointer;\n",
              "      display: none;\n",
              "      fill: #1967D2;\n",
              "      height: 32px;\n",
              "      padding: 0 0 0 0;\n",
              "      width: 32px;\n",
              "    }\n",
              "\n",
              "    .colab-df-convert:hover {\n",
              "      background-color: #E2EBFA;\n",
              "      box-shadow: 0px 1px 2px rgba(60, 64, 67, 0.3), 0px 1px 3px 1px rgba(60, 64, 67, 0.15);\n",
              "      fill: #174EA6;\n",
              "    }\n",
              "\n",
              "    .colab-df-buttons div {\n",
              "      margin-bottom: 4px;\n",
              "    }\n",
              "\n",
              "    [theme=dark] .colab-df-convert {\n",
              "      background-color: #3B4455;\n",
              "      fill: #D2E3FC;\n",
              "    }\n",
              "\n",
              "    [theme=dark] .colab-df-convert:hover {\n",
              "      background-color: #434B5C;\n",
              "      box-shadow: 0px 1px 3px 1px rgba(0, 0, 0, 0.15);\n",
              "      filter: drop-shadow(0px 1px 2px rgba(0, 0, 0, 0.3));\n",
              "      fill: #FFFFFF;\n",
              "    }\n",
              "  </style>\n",
              "\n",
              "    <script>\n",
              "      const buttonEl =\n",
              "        document.querySelector('#df-54a91d88-7748-4eb2-8bce-eb328bbbf25e button.colab-df-convert');\n",
              "      buttonEl.style.display =\n",
              "        google.colab.kernel.accessAllowed ? 'block' : 'none';\n",
              "\n",
              "      async function convertToInteractive(key) {\n",
              "        const element = document.querySelector('#df-54a91d88-7748-4eb2-8bce-eb328bbbf25e');\n",
              "        const dataTable =\n",
              "          await google.colab.kernel.invokeFunction('convertToInteractive',\n",
              "                                                    [key], {});\n",
              "        if (!dataTable) return;\n",
              "\n",
              "        const docLinkHtml = 'Like what you see? Visit the ' +\n",
              "          '<a target=\"_blank\" href=https://colab.research.google.com/notebooks/data_table.ipynb>data table notebook</a>'\n",
              "          + ' to learn more about interactive tables.';\n",
              "        element.innerHTML = '';\n",
              "        dataTable['output_type'] = 'display_data';\n",
              "        await google.colab.output.renderOutput(dataTable, element);\n",
              "        const docLink = document.createElement('div');\n",
              "        docLink.innerHTML = docLinkHtml;\n",
              "        element.appendChild(docLink);\n",
              "      }\n",
              "    </script>\n",
              "  </div>\n",
              "\n",
              "\n",
              "<div id=\"df-7b7fef7b-446b-4410-9ce0-215965415f12\">\n",
              "  <button class=\"colab-df-quickchart\" onclick=\"quickchart('df-7b7fef7b-446b-4410-9ce0-215965415f12')\"\n",
              "            title=\"Suggest charts\"\n",
              "            style=\"display:none;\">\n",
              "\n",
              "<svg xmlns=\"http://www.w3.org/2000/svg\" height=\"24px\"viewBox=\"0 0 24 24\"\n",
              "     width=\"24px\">\n",
              "    <g>\n",
              "        <path d=\"M19 3H5c-1.1 0-2 .9-2 2v14c0 1.1.9 2 2 2h14c1.1 0 2-.9 2-2V5c0-1.1-.9-2-2-2zM9 17H7v-7h2v7zm4 0h-2V7h2v10zm4 0h-2v-4h2v4z\"/>\n",
              "    </g>\n",
              "</svg>\n",
              "  </button>\n",
              "\n",
              "<style>\n",
              "  .colab-df-quickchart {\n",
              "      --bg-color: #E8F0FE;\n",
              "      --fill-color: #1967D2;\n",
              "      --hover-bg-color: #E2EBFA;\n",
              "      --hover-fill-color: #174EA6;\n",
              "      --disabled-fill-color: #AAA;\n",
              "      --disabled-bg-color: #DDD;\n",
              "  }\n",
              "\n",
              "  [theme=dark] .colab-df-quickchart {\n",
              "      --bg-color: #3B4455;\n",
              "      --fill-color: #D2E3FC;\n",
              "      --hover-bg-color: #434B5C;\n",
              "      --hover-fill-color: #FFFFFF;\n",
              "      --disabled-bg-color: #3B4455;\n",
              "      --disabled-fill-color: #666;\n",
              "  }\n",
              "\n",
              "  .colab-df-quickchart {\n",
              "    background-color: var(--bg-color);\n",
              "    border: none;\n",
              "    border-radius: 50%;\n",
              "    cursor: pointer;\n",
              "    display: none;\n",
              "    fill: var(--fill-color);\n",
              "    height: 32px;\n",
              "    padding: 0;\n",
              "    width: 32px;\n",
              "  }\n",
              "\n",
              "  .colab-df-quickchart:hover {\n",
              "    background-color: var(--hover-bg-color);\n",
              "    box-shadow: 0 1px 2px rgba(60, 64, 67, 0.3), 0 1px 3px 1px rgba(60, 64, 67, 0.15);\n",
              "    fill: var(--button-hover-fill-color);\n",
              "  }\n",
              "\n",
              "  .colab-df-quickchart-complete:disabled,\n",
              "  .colab-df-quickchart-complete:disabled:hover {\n",
              "    background-color: var(--disabled-bg-color);\n",
              "    fill: var(--disabled-fill-color);\n",
              "    box-shadow: none;\n",
              "  }\n",
              "\n",
              "  .colab-df-spinner {\n",
              "    border: 2px solid var(--fill-color);\n",
              "    border-color: transparent;\n",
              "    border-bottom-color: var(--fill-color);\n",
              "    animation:\n",
              "      spin 1s steps(1) infinite;\n",
              "  }\n",
              "\n",
              "  @keyframes spin {\n",
              "    0% {\n",
              "      border-color: transparent;\n",
              "      border-bottom-color: var(--fill-color);\n",
              "      border-left-color: var(--fill-color);\n",
              "    }\n",
              "    20% {\n",
              "      border-color: transparent;\n",
              "      border-left-color: var(--fill-color);\n",
              "      border-top-color: var(--fill-color);\n",
              "    }\n",
              "    30% {\n",
              "      border-color: transparent;\n",
              "      border-left-color: var(--fill-color);\n",
              "      border-top-color: var(--fill-color);\n",
              "      border-right-color: var(--fill-color);\n",
              "    }\n",
              "    40% {\n",
              "      border-color: transparent;\n",
              "      border-right-color: var(--fill-color);\n",
              "      border-top-color: var(--fill-color);\n",
              "    }\n",
              "    60% {\n",
              "      border-color: transparent;\n",
              "      border-right-color: var(--fill-color);\n",
              "    }\n",
              "    80% {\n",
              "      border-color: transparent;\n",
              "      border-right-color: var(--fill-color);\n",
              "      border-bottom-color: var(--fill-color);\n",
              "    }\n",
              "    90% {\n",
              "      border-color: transparent;\n",
              "      border-bottom-color: var(--fill-color);\n",
              "    }\n",
              "  }\n",
              "</style>\n",
              "\n",
              "  <script>\n",
              "    async function quickchart(key) {\n",
              "      const quickchartButtonEl =\n",
              "        document.querySelector('#' + key + ' button');\n",
              "      quickchartButtonEl.disabled = true;  // To prevent multiple clicks.\n",
              "      quickchartButtonEl.classList.add('colab-df-spinner');\n",
              "      try {\n",
              "        const charts = await google.colab.kernel.invokeFunction(\n",
              "            'suggestCharts', [key], {});\n",
              "      } catch (error) {\n",
              "        console.error('Error during call to suggestCharts:', error);\n",
              "      }\n",
              "      quickchartButtonEl.classList.remove('colab-df-spinner');\n",
              "      quickchartButtonEl.classList.add('colab-df-quickchart-complete');\n",
              "    }\n",
              "    (() => {\n",
              "      let quickchartButtonEl =\n",
              "        document.querySelector('#df-7b7fef7b-446b-4410-9ce0-215965415f12 button');\n",
              "      quickchartButtonEl.style.display =\n",
              "        google.colab.kernel.accessAllowed ? 'block' : 'none';\n",
              "    })();\n",
              "  </script>\n",
              "</div>\n",
              "    </div>\n",
              "  </div>\n"
            ],
            "application/vnd.google.colaboratory.intrinsic+json": {
              "type": "dataframe",
              "variable_name": "data",
              "summary": "{\n  \"name\": \"data\",\n  \"rows\": 10000,\n  \"fields\": [\n    {\n      \"column\": \"RowNumber\",\n      \"properties\": {\n        \"dtype\": \"number\",\n        \"std\": 2886,\n        \"min\": 1,\n        \"max\": 10000,\n        \"num_unique_values\": 10000,\n        \"samples\": [\n          6253,\n          4685,\n          1732\n        ],\n        \"semantic_type\": \"\",\n        \"description\": \"\"\n      }\n    },\n    {\n      \"column\": \"CustomerId\",\n      \"properties\": {\n        \"dtype\": \"number\",\n        \"std\": 71936,\n        \"min\": 15565701,\n        \"max\": 15815690,\n        \"num_unique_values\": 10000,\n        \"samples\": [\n          15687492,\n          15736963,\n          15721730\n        ],\n        \"semantic_type\": \"\",\n        \"description\": \"\"\n      }\n    },\n    {\n      \"column\": \"Surname\",\n      \"properties\": {\n        \"dtype\": \"category\",\n        \"num_unique_values\": 2932,\n        \"samples\": [\n          \"McGuirk\",\n          \"Torkelson\",\n          \"Rapuluchukwu\"\n        ],\n        \"semantic_type\": \"\",\n        \"description\": \"\"\n      }\n    },\n    {\n      \"column\": \"CreditScore\",\n      \"properties\": {\n        \"dtype\": \"number\",\n        \"std\": 96,\n        \"min\": 350,\n        \"max\": 850,\n        \"num_unique_values\": 460,\n        \"samples\": [\n          754,\n          533,\n          744\n        ],\n        \"semantic_type\": \"\",\n        \"description\": \"\"\n      }\n    },\n    {\n      \"column\": \"Geography\",\n      \"properties\": {\n        \"dtype\": \"category\",\n        \"num_unique_values\": 3,\n        \"samples\": [\n          \"France\",\n          \"Spain\",\n          \"Germany\"\n        ],\n        \"semantic_type\": \"\",\n        \"description\": \"\"\n      }\n    },\n    {\n      \"column\": \"Gender\",\n      \"properties\": {\n        \"dtype\": \"category\",\n        \"num_unique_values\": 2,\n        \"samples\": [\n          \"Male\",\n          \"Female\"\n        ],\n        \"semantic_type\": \"\",\n        \"description\": \"\"\n      }\n    },\n    {\n      \"column\": \"Age\",\n      \"properties\": {\n        \"dtype\": \"number\",\n        \"std\": 10,\n        \"min\": 18,\n        \"max\": 92,\n        \"num_unique_values\": 70,\n        \"samples\": [\n          61,\n          42\n        ],\n        \"semantic_type\": \"\",\n        \"description\": \"\"\n      }\n    },\n    {\n      \"column\": \"Tenure\",\n      \"properties\": {\n        \"dtype\": \"number\",\n        \"std\": 2.894723234821247,\n        \"min\": 0.0,\n        \"max\": 10.0,\n        \"num_unique_values\": 11,\n        \"samples\": [\n          6.0,\n          2.0\n        ],\n        \"semantic_type\": \"\",\n        \"description\": \"\"\n      }\n    },\n    {\n      \"column\": \"Balance\",\n      \"properties\": {\n        \"dtype\": \"number\",\n        \"std\": 62397.405202385955,\n        \"min\": 0.0,\n        \"max\": 250898.09,\n        \"num_unique_values\": 6382,\n        \"samples\": [\n          117707.18,\n          133050.97\n        ],\n        \"semantic_type\": \"\",\n        \"description\": \"\"\n      }\n    },\n    {\n      \"column\": \"NumOfProducts\",\n      \"properties\": {\n        \"dtype\": \"number\",\n        \"std\": 0,\n        \"min\": 1,\n        \"max\": 4,\n        \"num_unique_values\": 4,\n        \"samples\": [\n          3,\n          4\n        ],\n        \"semantic_type\": \"\",\n        \"description\": \"\"\n      }\n    },\n    {\n      \"column\": \"HasCrCard\",\n      \"properties\": {\n        \"dtype\": \"number\",\n        \"std\": 0,\n        \"min\": 0,\n        \"max\": 1,\n        \"num_unique_values\": 2,\n        \"samples\": [\n          0,\n          1\n        ],\n        \"semantic_type\": \"\",\n        \"description\": \"\"\n      }\n    },\n    {\n      \"column\": \"IsActiveMember\",\n      \"properties\": {\n        \"dtype\": \"number\",\n        \"std\": 0,\n        \"min\": 0,\n        \"max\": 1,\n        \"num_unique_values\": 2,\n        \"samples\": [\n          0,\n          1\n        ],\n        \"semantic_type\": \"\",\n        \"description\": \"\"\n      }\n    },\n    {\n      \"column\": \"EstimatedSalary\",\n      \"properties\": {\n        \"dtype\": \"number\",\n        \"std\": 57510.49281769816,\n        \"min\": 11.58,\n        \"max\": 199992.48,\n        \"num_unique_values\": 9999,\n        \"samples\": [\n          100809.99,\n          95273.73\n        ],\n        \"semantic_type\": \"\",\n        \"description\": \"\"\n      }\n    },\n    {\n      \"column\": \"Exited\",\n      \"properties\": {\n        \"dtype\": \"number\",\n        \"std\": 0,\n        \"min\": 0,\n        \"max\": 1,\n        \"num_unique_values\": 2,\n        \"samples\": [\n          0,\n          1\n        ],\n        \"semantic_type\": \"\",\n        \"description\": \"\"\n      }\n    }\n  ]\n}"
            }
          },
          "metadata": {},
          "execution_count": 3
        }
      ],
      "source": [
        "data = pd.read_csv('/datasets/Churn.csv')\n",
        "print(data.shape)\n",
        "data.head()"
      ]
    },
    {
      "cell_type": "markdown",
      "metadata": {
        "id": "mnR5mOo4bnjc"
      },
      "source": [
        "У нас есть 10 тыс. строк и 14 столбцов. Первое, что мне хотелось бы сделать — это привести названия столбцов к стилю snake_case, который можно назвать общепринятым в python."
      ]
    },
    {
      "cell_type": "code",
      "execution_count": 4,
      "metadata": {
        "colab": {
          "base_uri": "https://localhost:8080/",
          "height": 163
        },
        "id": "JVnK3YaObnjc",
        "outputId": "0b3cddaf-86cb-4161-ff0d-c7ba58ea760a"
      },
      "outputs": [
        {
          "output_type": "execute_result",
          "data": {
            "text/plain": [
              "   row_number  customer_id   surname  credit_score geography  gender  age  \\\n",
              "0           1     15634602  Hargrave           619    France  Female   42   \n",
              "1           2     15647311      Hill           608     Spain  Female   41   \n",
              "2           3     15619304      Onio           502    France  Female   42   \n",
              "\n",
              "   tenure    balance  number_of_products  has_credit_card  is_active_member  \\\n",
              "0     2.0       0.00                   1                1                 1   \n",
              "1     1.0   83807.86                   1                0                 1   \n",
              "2     8.0  159660.80                   3                1                 0   \n",
              "\n",
              "   estimated_salary  exited  \n",
              "0         101348.88       1  \n",
              "1         112542.58       0  \n",
              "2         113931.57       1  "
            ],
            "text/html": [
              "\n",
              "  <div id=\"df-99512c27-ce38-46cf-bdc1-40f67d731aa0\" class=\"colab-df-container\">\n",
              "    <div>\n",
              "<style scoped>\n",
              "    .dataframe tbody tr th:only-of-type {\n",
              "        vertical-align: middle;\n",
              "    }\n",
              "\n",
              "    .dataframe tbody tr th {\n",
              "        vertical-align: top;\n",
              "    }\n",
              "\n",
              "    .dataframe thead th {\n",
              "        text-align: right;\n",
              "    }\n",
              "</style>\n",
              "<table border=\"1\" class=\"dataframe\">\n",
              "  <thead>\n",
              "    <tr style=\"text-align: right;\">\n",
              "      <th></th>\n",
              "      <th>row_number</th>\n",
              "      <th>customer_id</th>\n",
              "      <th>surname</th>\n",
              "      <th>credit_score</th>\n",
              "      <th>geography</th>\n",
              "      <th>gender</th>\n",
              "      <th>age</th>\n",
              "      <th>tenure</th>\n",
              "      <th>balance</th>\n",
              "      <th>number_of_products</th>\n",
              "      <th>has_credit_card</th>\n",
              "      <th>is_active_member</th>\n",
              "      <th>estimated_salary</th>\n",
              "      <th>exited</th>\n",
              "    </tr>\n",
              "  </thead>\n",
              "  <tbody>\n",
              "    <tr>\n",
              "      <th>0</th>\n",
              "      <td>1</td>\n",
              "      <td>15634602</td>\n",
              "      <td>Hargrave</td>\n",
              "      <td>619</td>\n",
              "      <td>France</td>\n",
              "      <td>Female</td>\n",
              "      <td>42</td>\n",
              "      <td>2.0</td>\n",
              "      <td>0.00</td>\n",
              "      <td>1</td>\n",
              "      <td>1</td>\n",
              "      <td>1</td>\n",
              "      <td>101348.88</td>\n",
              "      <td>1</td>\n",
              "    </tr>\n",
              "    <tr>\n",
              "      <th>1</th>\n",
              "      <td>2</td>\n",
              "      <td>15647311</td>\n",
              "      <td>Hill</td>\n",
              "      <td>608</td>\n",
              "      <td>Spain</td>\n",
              "      <td>Female</td>\n",
              "      <td>41</td>\n",
              "      <td>1.0</td>\n",
              "      <td>83807.86</td>\n",
              "      <td>1</td>\n",
              "      <td>0</td>\n",
              "      <td>1</td>\n",
              "      <td>112542.58</td>\n",
              "      <td>0</td>\n",
              "    </tr>\n",
              "    <tr>\n",
              "      <th>2</th>\n",
              "      <td>3</td>\n",
              "      <td>15619304</td>\n",
              "      <td>Onio</td>\n",
              "      <td>502</td>\n",
              "      <td>France</td>\n",
              "      <td>Female</td>\n",
              "      <td>42</td>\n",
              "      <td>8.0</td>\n",
              "      <td>159660.80</td>\n",
              "      <td>3</td>\n",
              "      <td>1</td>\n",
              "      <td>0</td>\n",
              "      <td>113931.57</td>\n",
              "      <td>1</td>\n",
              "    </tr>\n",
              "  </tbody>\n",
              "</table>\n",
              "</div>\n",
              "    <div class=\"colab-df-buttons\">\n",
              "\n",
              "  <div class=\"colab-df-container\">\n",
              "    <button class=\"colab-df-convert\" onclick=\"convertToInteractive('df-99512c27-ce38-46cf-bdc1-40f67d731aa0')\"\n",
              "            title=\"Convert this dataframe to an interactive table.\"\n",
              "            style=\"display:none;\">\n",
              "\n",
              "  <svg xmlns=\"http://www.w3.org/2000/svg\" height=\"24px\" viewBox=\"0 -960 960 960\">\n",
              "    <path d=\"M120-120v-720h720v720H120Zm60-500h600v-160H180v160Zm220 220h160v-160H400v160Zm0 220h160v-160H400v160ZM180-400h160v-160H180v160Zm440 0h160v-160H620v160ZM180-180h160v-160H180v160Zm440 0h160v-160H620v160Z\"/>\n",
              "  </svg>\n",
              "    </button>\n",
              "\n",
              "  <style>\n",
              "    .colab-df-container {\n",
              "      display:flex;\n",
              "      gap: 12px;\n",
              "    }\n",
              "\n",
              "    .colab-df-convert {\n",
              "      background-color: #E8F0FE;\n",
              "      border: none;\n",
              "      border-radius: 50%;\n",
              "      cursor: pointer;\n",
              "      display: none;\n",
              "      fill: #1967D2;\n",
              "      height: 32px;\n",
              "      padding: 0 0 0 0;\n",
              "      width: 32px;\n",
              "    }\n",
              "\n",
              "    .colab-df-convert:hover {\n",
              "      background-color: #E2EBFA;\n",
              "      box-shadow: 0px 1px 2px rgba(60, 64, 67, 0.3), 0px 1px 3px 1px rgba(60, 64, 67, 0.15);\n",
              "      fill: #174EA6;\n",
              "    }\n",
              "\n",
              "    .colab-df-buttons div {\n",
              "      margin-bottom: 4px;\n",
              "    }\n",
              "\n",
              "    [theme=dark] .colab-df-convert {\n",
              "      background-color: #3B4455;\n",
              "      fill: #D2E3FC;\n",
              "    }\n",
              "\n",
              "    [theme=dark] .colab-df-convert:hover {\n",
              "      background-color: #434B5C;\n",
              "      box-shadow: 0px 1px 3px 1px rgba(0, 0, 0, 0.15);\n",
              "      filter: drop-shadow(0px 1px 2px rgba(0, 0, 0, 0.3));\n",
              "      fill: #FFFFFF;\n",
              "    }\n",
              "  </style>\n",
              "\n",
              "    <script>\n",
              "      const buttonEl =\n",
              "        document.querySelector('#df-99512c27-ce38-46cf-bdc1-40f67d731aa0 button.colab-df-convert');\n",
              "      buttonEl.style.display =\n",
              "        google.colab.kernel.accessAllowed ? 'block' : 'none';\n",
              "\n",
              "      async function convertToInteractive(key) {\n",
              "        const element = document.querySelector('#df-99512c27-ce38-46cf-bdc1-40f67d731aa0');\n",
              "        const dataTable =\n",
              "          await google.colab.kernel.invokeFunction('convertToInteractive',\n",
              "                                                    [key], {});\n",
              "        if (!dataTable) return;\n",
              "\n",
              "        const docLinkHtml = 'Like what you see? Visit the ' +\n",
              "          '<a target=\"_blank\" href=https://colab.research.google.com/notebooks/data_table.ipynb>data table notebook</a>'\n",
              "          + ' to learn more about interactive tables.';\n",
              "        element.innerHTML = '';\n",
              "        dataTable['output_type'] = 'display_data';\n",
              "        await google.colab.output.renderOutput(dataTable, element);\n",
              "        const docLink = document.createElement('div');\n",
              "        docLink.innerHTML = docLinkHtml;\n",
              "        element.appendChild(docLink);\n",
              "      }\n",
              "    </script>\n",
              "  </div>\n",
              "\n",
              "\n",
              "<div id=\"df-b5960189-b173-4437-a072-ebfac8deb96f\">\n",
              "  <button class=\"colab-df-quickchart\" onclick=\"quickchart('df-b5960189-b173-4437-a072-ebfac8deb96f')\"\n",
              "            title=\"Suggest charts\"\n",
              "            style=\"display:none;\">\n",
              "\n",
              "<svg xmlns=\"http://www.w3.org/2000/svg\" height=\"24px\"viewBox=\"0 0 24 24\"\n",
              "     width=\"24px\">\n",
              "    <g>\n",
              "        <path d=\"M19 3H5c-1.1 0-2 .9-2 2v14c0 1.1.9 2 2 2h14c1.1 0 2-.9 2-2V5c0-1.1-.9-2-2-2zM9 17H7v-7h2v7zm4 0h-2V7h2v10zm4 0h-2v-4h2v4z\"/>\n",
              "    </g>\n",
              "</svg>\n",
              "  </button>\n",
              "\n",
              "<style>\n",
              "  .colab-df-quickchart {\n",
              "      --bg-color: #E8F0FE;\n",
              "      --fill-color: #1967D2;\n",
              "      --hover-bg-color: #E2EBFA;\n",
              "      --hover-fill-color: #174EA6;\n",
              "      --disabled-fill-color: #AAA;\n",
              "      --disabled-bg-color: #DDD;\n",
              "  }\n",
              "\n",
              "  [theme=dark] .colab-df-quickchart {\n",
              "      --bg-color: #3B4455;\n",
              "      --fill-color: #D2E3FC;\n",
              "      --hover-bg-color: #434B5C;\n",
              "      --hover-fill-color: #FFFFFF;\n",
              "      --disabled-bg-color: #3B4455;\n",
              "      --disabled-fill-color: #666;\n",
              "  }\n",
              "\n",
              "  .colab-df-quickchart {\n",
              "    background-color: var(--bg-color);\n",
              "    border: none;\n",
              "    border-radius: 50%;\n",
              "    cursor: pointer;\n",
              "    display: none;\n",
              "    fill: var(--fill-color);\n",
              "    height: 32px;\n",
              "    padding: 0;\n",
              "    width: 32px;\n",
              "  }\n",
              "\n",
              "  .colab-df-quickchart:hover {\n",
              "    background-color: var(--hover-bg-color);\n",
              "    box-shadow: 0 1px 2px rgba(60, 64, 67, 0.3), 0 1px 3px 1px rgba(60, 64, 67, 0.15);\n",
              "    fill: var(--button-hover-fill-color);\n",
              "  }\n",
              "\n",
              "  .colab-df-quickchart-complete:disabled,\n",
              "  .colab-df-quickchart-complete:disabled:hover {\n",
              "    background-color: var(--disabled-bg-color);\n",
              "    fill: var(--disabled-fill-color);\n",
              "    box-shadow: none;\n",
              "  }\n",
              "\n",
              "  .colab-df-spinner {\n",
              "    border: 2px solid var(--fill-color);\n",
              "    border-color: transparent;\n",
              "    border-bottom-color: var(--fill-color);\n",
              "    animation:\n",
              "      spin 1s steps(1) infinite;\n",
              "  }\n",
              "\n",
              "  @keyframes spin {\n",
              "    0% {\n",
              "      border-color: transparent;\n",
              "      border-bottom-color: var(--fill-color);\n",
              "      border-left-color: var(--fill-color);\n",
              "    }\n",
              "    20% {\n",
              "      border-color: transparent;\n",
              "      border-left-color: var(--fill-color);\n",
              "      border-top-color: var(--fill-color);\n",
              "    }\n",
              "    30% {\n",
              "      border-color: transparent;\n",
              "      border-left-color: var(--fill-color);\n",
              "      border-top-color: var(--fill-color);\n",
              "      border-right-color: var(--fill-color);\n",
              "    }\n",
              "    40% {\n",
              "      border-color: transparent;\n",
              "      border-right-color: var(--fill-color);\n",
              "      border-top-color: var(--fill-color);\n",
              "    }\n",
              "    60% {\n",
              "      border-color: transparent;\n",
              "      border-right-color: var(--fill-color);\n",
              "    }\n",
              "    80% {\n",
              "      border-color: transparent;\n",
              "      border-right-color: var(--fill-color);\n",
              "      border-bottom-color: var(--fill-color);\n",
              "    }\n",
              "    90% {\n",
              "      border-color: transparent;\n",
              "      border-bottom-color: var(--fill-color);\n",
              "    }\n",
              "  }\n",
              "</style>\n",
              "\n",
              "  <script>\n",
              "    async function quickchart(key) {\n",
              "      const quickchartButtonEl =\n",
              "        document.querySelector('#' + key + ' button');\n",
              "      quickchartButtonEl.disabled = true;  // To prevent multiple clicks.\n",
              "      quickchartButtonEl.classList.add('colab-df-spinner');\n",
              "      try {\n",
              "        const charts = await google.colab.kernel.invokeFunction(\n",
              "            'suggestCharts', [key], {});\n",
              "      } catch (error) {\n",
              "        console.error('Error during call to suggestCharts:', error);\n",
              "      }\n",
              "      quickchartButtonEl.classList.remove('colab-df-spinner');\n",
              "      quickchartButtonEl.classList.add('colab-df-quickchart-complete');\n",
              "    }\n",
              "    (() => {\n",
              "      let quickchartButtonEl =\n",
              "        document.querySelector('#df-b5960189-b173-4437-a072-ebfac8deb96f button');\n",
              "      quickchartButtonEl.style.display =\n",
              "        google.colab.kernel.accessAllowed ? 'block' : 'none';\n",
              "    })();\n",
              "  </script>\n",
              "</div>\n",
              "    </div>\n",
              "  </div>\n"
            ],
            "application/vnd.google.colaboratory.intrinsic+json": {
              "type": "dataframe",
              "variable_name": "data",
              "summary": "{\n  \"name\": \"data\",\n  \"rows\": 10000,\n  \"fields\": [\n    {\n      \"column\": \"row_number\",\n      \"properties\": {\n        \"dtype\": \"number\",\n        \"std\": 2886,\n        \"min\": 1,\n        \"max\": 10000,\n        \"num_unique_values\": 10000,\n        \"samples\": [\n          6253,\n          4685,\n          1732\n        ],\n        \"semantic_type\": \"\",\n        \"description\": \"\"\n      }\n    },\n    {\n      \"column\": \"customer_id\",\n      \"properties\": {\n        \"dtype\": \"number\",\n        \"std\": 71936,\n        \"min\": 15565701,\n        \"max\": 15815690,\n        \"num_unique_values\": 10000,\n        \"samples\": [\n          15687492,\n          15736963,\n          15721730\n        ],\n        \"semantic_type\": \"\",\n        \"description\": \"\"\n      }\n    },\n    {\n      \"column\": \"surname\",\n      \"properties\": {\n        \"dtype\": \"category\",\n        \"num_unique_values\": 2932,\n        \"samples\": [\n          \"McGuirk\",\n          \"Torkelson\",\n          \"Rapuluchukwu\"\n        ],\n        \"semantic_type\": \"\",\n        \"description\": \"\"\n      }\n    },\n    {\n      \"column\": \"credit_score\",\n      \"properties\": {\n        \"dtype\": \"number\",\n        \"std\": 96,\n        \"min\": 350,\n        \"max\": 850,\n        \"num_unique_values\": 460,\n        \"samples\": [\n          754,\n          533,\n          744\n        ],\n        \"semantic_type\": \"\",\n        \"description\": \"\"\n      }\n    },\n    {\n      \"column\": \"geography\",\n      \"properties\": {\n        \"dtype\": \"category\",\n        \"num_unique_values\": 3,\n        \"samples\": [\n          \"France\",\n          \"Spain\",\n          \"Germany\"\n        ],\n        \"semantic_type\": \"\",\n        \"description\": \"\"\n      }\n    },\n    {\n      \"column\": \"gender\",\n      \"properties\": {\n        \"dtype\": \"category\",\n        \"num_unique_values\": 2,\n        \"samples\": [\n          \"Male\",\n          \"Female\"\n        ],\n        \"semantic_type\": \"\",\n        \"description\": \"\"\n      }\n    },\n    {\n      \"column\": \"age\",\n      \"properties\": {\n        \"dtype\": \"number\",\n        \"std\": 10,\n        \"min\": 18,\n        \"max\": 92,\n        \"num_unique_values\": 70,\n        \"samples\": [\n          61,\n          42\n        ],\n        \"semantic_type\": \"\",\n        \"description\": \"\"\n      }\n    },\n    {\n      \"column\": \"tenure\",\n      \"properties\": {\n        \"dtype\": \"number\",\n        \"std\": 2.894723234821247,\n        \"min\": 0.0,\n        \"max\": 10.0,\n        \"num_unique_values\": 11,\n        \"samples\": [\n          6.0,\n          2.0\n        ],\n        \"semantic_type\": \"\",\n        \"description\": \"\"\n      }\n    },\n    {\n      \"column\": \"balance\",\n      \"properties\": {\n        \"dtype\": \"number\",\n        \"std\": 62397.405202385955,\n        \"min\": 0.0,\n        \"max\": 250898.09,\n        \"num_unique_values\": 6382,\n        \"samples\": [\n          117707.18,\n          133050.97\n        ],\n        \"semantic_type\": \"\",\n        \"description\": \"\"\n      }\n    },\n    {\n      \"column\": \"number_of_products\",\n      \"properties\": {\n        \"dtype\": \"number\",\n        \"std\": 0,\n        \"min\": 1,\n        \"max\": 4,\n        \"num_unique_values\": 4,\n        \"samples\": [\n          3,\n          4\n        ],\n        \"semantic_type\": \"\",\n        \"description\": \"\"\n      }\n    },\n    {\n      \"column\": \"has_credit_card\",\n      \"properties\": {\n        \"dtype\": \"number\",\n        \"std\": 0,\n        \"min\": 0,\n        \"max\": 1,\n        \"num_unique_values\": 2,\n        \"samples\": [\n          0,\n          1\n        ],\n        \"semantic_type\": \"\",\n        \"description\": \"\"\n      }\n    },\n    {\n      \"column\": \"is_active_member\",\n      \"properties\": {\n        \"dtype\": \"number\",\n        \"std\": 0,\n        \"min\": 0,\n        \"max\": 1,\n        \"num_unique_values\": 2,\n        \"samples\": [\n          0,\n          1\n        ],\n        \"semantic_type\": \"\",\n        \"description\": \"\"\n      }\n    },\n    {\n      \"column\": \"estimated_salary\",\n      \"properties\": {\n        \"dtype\": \"number\",\n        \"std\": 57510.49281769816,\n        \"min\": 11.58,\n        \"max\": 199992.48,\n        \"num_unique_values\": 9999,\n        \"samples\": [\n          100809.99,\n          95273.73\n        ],\n        \"semantic_type\": \"\",\n        \"description\": \"\"\n      }\n    },\n    {\n      \"column\": \"exited\",\n      \"properties\": {\n        \"dtype\": \"number\",\n        \"std\": 0,\n        \"min\": 0,\n        \"max\": 1,\n        \"num_unique_values\": 2,\n        \"samples\": [\n          0,\n          1\n        ],\n        \"semantic_type\": \"\",\n        \"description\": \"\"\n      }\n    }\n  ]\n}"
            }
          },
          "metadata": {},
          "execution_count": 4
        }
      ],
      "source": [
        "data = data.rename(columns={'RowNumber' : 'row_number',\n",
        "                            'CustomerId' : 'customer_id',\n",
        "                            'CreditScore' : 'credit_score',\n",
        "                            'NumOfProducts' : 'number_of_products',\n",
        "                            'HasCrCard' : 'has_credit_card',\n",
        "                            'IsActiveMember' : 'is_active_member',\n",
        "                            'EstimatedSalary' : 'estimated_salary'})\n",
        "data.columns = data.columns.str.lower()\n",
        "data.head(3)"
      ]
    },
    {
      "cell_type": "markdown",
      "metadata": {
        "id": "tLjfIi-Kbnjc"
      },
      "source": [
        "Итак, я перевела все названия столбцов в нижний регистр и отдельно переписала те столбцы, в которых нужно было также добавить _ между словами. Теперь все названия столбцов в нижнем регистре.\n",
        "\n",
        "### Обработка дубликатов и пропусков\n",
        "Проверю наличие явных дубликатов в нашем датасете."
      ]
    },
    {
      "cell_type": "code",
      "execution_count": 5,
      "metadata": {
        "colab": {
          "base_uri": "https://localhost:8080/"
        },
        "id": "KmqCufMcbnjc",
        "outputId": "f14b3a7c-8952-4af2-c357-0173e34107fd"
      },
      "outputs": [
        {
          "output_type": "execute_result",
          "data": {
            "text/plain": [
              "0"
            ]
          },
          "metadata": {},
          "execution_count": 5
        }
      ],
      "source": [
        "data.duplicated().sum()"
      ]
    },
    {
      "cell_type": "markdown",
      "metadata": {
        "id": "nz5UCLRabnjd"
      },
      "source": [
        "Явных дубликатов нет, теперь посмотрим, есть ли у нас пропущенные значения."
      ]
    },
    {
      "cell_type": "code",
      "execution_count": 6,
      "metadata": {
        "colab": {
          "base_uri": "https://localhost:8080/"
        },
        "id": "tX1mPdA_bnjd",
        "outputId": "279b9c08-d209-46ae-8294-17908d4e29ba"
      },
      "outputs": [
        {
          "output_type": "execute_result",
          "data": {
            "text/plain": [
              "row_number              0\n",
              "customer_id             0\n",
              "surname                 0\n",
              "credit_score            0\n",
              "geography               0\n",
              "gender                  0\n",
              "age                     0\n",
              "tenure                909\n",
              "balance                 0\n",
              "number_of_products      0\n",
              "has_credit_card         0\n",
              "is_active_member        0\n",
              "estimated_salary        0\n",
              "exited                  0\n",
              "dtype: int64"
            ]
          },
          "metadata": {},
          "execution_count": 6
        }
      ],
      "source": [
        "data.isna().sum()"
      ]
    },
    {
      "cell_type": "markdown",
      "metadata": {
        "id": "dwEmhaRFbnjd"
      },
      "source": [
        "Есть проблемный столбец tenure, в котором 909 пропусков. Этот параметр отражает сколько лет человек является клиентом банка. К сожалению, определить наверняка какие именно данные пропущены не представляется возможным, а потому остаётся только удалить строки с ними."
      ]
    },
    {
      "cell_type": "code",
      "execution_count": 7,
      "metadata": {
        "colab": {
          "base_uri": "https://localhost:8080/"
        },
        "id": "5SrZgToIbnjd",
        "outputId": "989155ac-c807-4bd4-acb7-a0a578afa6e0"
      },
      "outputs": [
        {
          "output_type": "execute_result",
          "data": {
            "text/plain": [
              "row_number            0\n",
              "customer_id           0\n",
              "surname               0\n",
              "credit_score          0\n",
              "geography             0\n",
              "gender                0\n",
              "age                   0\n",
              "tenure                0\n",
              "balance               0\n",
              "number_of_products    0\n",
              "has_credit_card       0\n",
              "is_active_member      0\n",
              "estimated_salary      0\n",
              "exited                0\n",
              "dtype: int64"
            ]
          },
          "metadata": {},
          "execution_count": 7
        }
      ],
      "source": [
        "data = data.dropna(subset=['tenure']).reset_index(drop=True)\n",
        "data.isna().sum()"
      ]
    },
    {
      "cell_type": "markdown",
      "metadata": {
        "id": "V1Yg578obnjd"
      },
      "source": [
        "### Изменение типов данных\n",
        "\n",
        "Теперь разберёмся с типами данных. Всё тот же столбец tenure имеет численный тип данных с плавающей точкой. Года в данном случае являются целочисленной величиной, нет варианта, что человек может быть клиентом 1.5 года, только 1, 2 и т.д. Потому переведу его из float в int."
      ]
    },
    {
      "cell_type": "code",
      "execution_count": 8,
      "metadata": {
        "scrolled": false,
        "colab": {
          "base_uri": "https://localhost:8080/",
          "height": 163
        },
        "id": "UrwTQrj-bnjd",
        "outputId": "55f1f424-9b23-4735-e14b-fcf7873e05ff"
      },
      "outputs": [
        {
          "output_type": "execute_result",
          "data": {
            "text/plain": [
              "   row_number  customer_id   surname  credit_score geography  gender  age  \\\n",
              "0           1     15634602  Hargrave           619    France  Female   42   \n",
              "1           2     15647311      Hill           608     Spain  Female   41   \n",
              "2           3     15619304      Onio           502    France  Female   42   \n",
              "\n",
              "   tenure    balance  number_of_products  has_credit_card  is_active_member  \\\n",
              "0       2       0.00                   1                1                 1   \n",
              "1       1   83807.86                   1                0                 1   \n",
              "2       8  159660.80                   3                1                 0   \n",
              "\n",
              "   estimated_salary  exited  \n",
              "0         101348.88       1  \n",
              "1         112542.58       0  \n",
              "2         113931.57       1  "
            ],
            "text/html": [
              "\n",
              "  <div id=\"df-528f77d7-15ff-4b48-9b22-01b780bd477a\" class=\"colab-df-container\">\n",
              "    <div>\n",
              "<style scoped>\n",
              "    .dataframe tbody tr th:only-of-type {\n",
              "        vertical-align: middle;\n",
              "    }\n",
              "\n",
              "    .dataframe tbody tr th {\n",
              "        vertical-align: top;\n",
              "    }\n",
              "\n",
              "    .dataframe thead th {\n",
              "        text-align: right;\n",
              "    }\n",
              "</style>\n",
              "<table border=\"1\" class=\"dataframe\">\n",
              "  <thead>\n",
              "    <tr style=\"text-align: right;\">\n",
              "      <th></th>\n",
              "      <th>row_number</th>\n",
              "      <th>customer_id</th>\n",
              "      <th>surname</th>\n",
              "      <th>credit_score</th>\n",
              "      <th>geography</th>\n",
              "      <th>gender</th>\n",
              "      <th>age</th>\n",
              "      <th>tenure</th>\n",
              "      <th>balance</th>\n",
              "      <th>number_of_products</th>\n",
              "      <th>has_credit_card</th>\n",
              "      <th>is_active_member</th>\n",
              "      <th>estimated_salary</th>\n",
              "      <th>exited</th>\n",
              "    </tr>\n",
              "  </thead>\n",
              "  <tbody>\n",
              "    <tr>\n",
              "      <th>0</th>\n",
              "      <td>1</td>\n",
              "      <td>15634602</td>\n",
              "      <td>Hargrave</td>\n",
              "      <td>619</td>\n",
              "      <td>France</td>\n",
              "      <td>Female</td>\n",
              "      <td>42</td>\n",
              "      <td>2</td>\n",
              "      <td>0.00</td>\n",
              "      <td>1</td>\n",
              "      <td>1</td>\n",
              "      <td>1</td>\n",
              "      <td>101348.88</td>\n",
              "      <td>1</td>\n",
              "    </tr>\n",
              "    <tr>\n",
              "      <th>1</th>\n",
              "      <td>2</td>\n",
              "      <td>15647311</td>\n",
              "      <td>Hill</td>\n",
              "      <td>608</td>\n",
              "      <td>Spain</td>\n",
              "      <td>Female</td>\n",
              "      <td>41</td>\n",
              "      <td>1</td>\n",
              "      <td>83807.86</td>\n",
              "      <td>1</td>\n",
              "      <td>0</td>\n",
              "      <td>1</td>\n",
              "      <td>112542.58</td>\n",
              "      <td>0</td>\n",
              "    </tr>\n",
              "    <tr>\n",
              "      <th>2</th>\n",
              "      <td>3</td>\n",
              "      <td>15619304</td>\n",
              "      <td>Onio</td>\n",
              "      <td>502</td>\n",
              "      <td>France</td>\n",
              "      <td>Female</td>\n",
              "      <td>42</td>\n",
              "      <td>8</td>\n",
              "      <td>159660.80</td>\n",
              "      <td>3</td>\n",
              "      <td>1</td>\n",
              "      <td>0</td>\n",
              "      <td>113931.57</td>\n",
              "      <td>1</td>\n",
              "    </tr>\n",
              "  </tbody>\n",
              "</table>\n",
              "</div>\n",
              "    <div class=\"colab-df-buttons\">\n",
              "\n",
              "  <div class=\"colab-df-container\">\n",
              "    <button class=\"colab-df-convert\" onclick=\"convertToInteractive('df-528f77d7-15ff-4b48-9b22-01b780bd477a')\"\n",
              "            title=\"Convert this dataframe to an interactive table.\"\n",
              "            style=\"display:none;\">\n",
              "\n",
              "  <svg xmlns=\"http://www.w3.org/2000/svg\" height=\"24px\" viewBox=\"0 -960 960 960\">\n",
              "    <path d=\"M120-120v-720h720v720H120Zm60-500h600v-160H180v160Zm220 220h160v-160H400v160Zm0 220h160v-160H400v160ZM180-400h160v-160H180v160Zm440 0h160v-160H620v160ZM180-180h160v-160H180v160Zm440 0h160v-160H620v160Z\"/>\n",
              "  </svg>\n",
              "    </button>\n",
              "\n",
              "  <style>\n",
              "    .colab-df-container {\n",
              "      display:flex;\n",
              "      gap: 12px;\n",
              "    }\n",
              "\n",
              "    .colab-df-convert {\n",
              "      background-color: #E8F0FE;\n",
              "      border: none;\n",
              "      border-radius: 50%;\n",
              "      cursor: pointer;\n",
              "      display: none;\n",
              "      fill: #1967D2;\n",
              "      height: 32px;\n",
              "      padding: 0 0 0 0;\n",
              "      width: 32px;\n",
              "    }\n",
              "\n",
              "    .colab-df-convert:hover {\n",
              "      background-color: #E2EBFA;\n",
              "      box-shadow: 0px 1px 2px rgba(60, 64, 67, 0.3), 0px 1px 3px 1px rgba(60, 64, 67, 0.15);\n",
              "      fill: #174EA6;\n",
              "    }\n",
              "\n",
              "    .colab-df-buttons div {\n",
              "      margin-bottom: 4px;\n",
              "    }\n",
              "\n",
              "    [theme=dark] .colab-df-convert {\n",
              "      background-color: #3B4455;\n",
              "      fill: #D2E3FC;\n",
              "    }\n",
              "\n",
              "    [theme=dark] .colab-df-convert:hover {\n",
              "      background-color: #434B5C;\n",
              "      box-shadow: 0px 1px 3px 1px rgba(0, 0, 0, 0.15);\n",
              "      filter: drop-shadow(0px 1px 2px rgba(0, 0, 0, 0.3));\n",
              "      fill: #FFFFFF;\n",
              "    }\n",
              "  </style>\n",
              "\n",
              "    <script>\n",
              "      const buttonEl =\n",
              "        document.querySelector('#df-528f77d7-15ff-4b48-9b22-01b780bd477a button.colab-df-convert');\n",
              "      buttonEl.style.display =\n",
              "        google.colab.kernel.accessAllowed ? 'block' : 'none';\n",
              "\n",
              "      async function convertToInteractive(key) {\n",
              "        const element = document.querySelector('#df-528f77d7-15ff-4b48-9b22-01b780bd477a');\n",
              "        const dataTable =\n",
              "          await google.colab.kernel.invokeFunction('convertToInteractive',\n",
              "                                                    [key], {});\n",
              "        if (!dataTable) return;\n",
              "\n",
              "        const docLinkHtml = 'Like what you see? Visit the ' +\n",
              "          '<a target=\"_blank\" href=https://colab.research.google.com/notebooks/data_table.ipynb>data table notebook</a>'\n",
              "          + ' to learn more about interactive tables.';\n",
              "        element.innerHTML = '';\n",
              "        dataTable['output_type'] = 'display_data';\n",
              "        await google.colab.output.renderOutput(dataTable, element);\n",
              "        const docLink = document.createElement('div');\n",
              "        docLink.innerHTML = docLinkHtml;\n",
              "        element.appendChild(docLink);\n",
              "      }\n",
              "    </script>\n",
              "  </div>\n",
              "\n",
              "\n",
              "<div id=\"df-a271cba6-bf1d-4664-b089-cd4d6afeb785\">\n",
              "  <button class=\"colab-df-quickchart\" onclick=\"quickchart('df-a271cba6-bf1d-4664-b089-cd4d6afeb785')\"\n",
              "            title=\"Suggest charts\"\n",
              "            style=\"display:none;\">\n",
              "\n",
              "<svg xmlns=\"http://www.w3.org/2000/svg\" height=\"24px\"viewBox=\"0 0 24 24\"\n",
              "     width=\"24px\">\n",
              "    <g>\n",
              "        <path d=\"M19 3H5c-1.1 0-2 .9-2 2v14c0 1.1.9 2 2 2h14c1.1 0 2-.9 2-2V5c0-1.1-.9-2-2-2zM9 17H7v-7h2v7zm4 0h-2V7h2v10zm4 0h-2v-4h2v4z\"/>\n",
              "    </g>\n",
              "</svg>\n",
              "  </button>\n",
              "\n",
              "<style>\n",
              "  .colab-df-quickchart {\n",
              "      --bg-color: #E8F0FE;\n",
              "      --fill-color: #1967D2;\n",
              "      --hover-bg-color: #E2EBFA;\n",
              "      --hover-fill-color: #174EA6;\n",
              "      --disabled-fill-color: #AAA;\n",
              "      --disabled-bg-color: #DDD;\n",
              "  }\n",
              "\n",
              "  [theme=dark] .colab-df-quickchart {\n",
              "      --bg-color: #3B4455;\n",
              "      --fill-color: #D2E3FC;\n",
              "      --hover-bg-color: #434B5C;\n",
              "      --hover-fill-color: #FFFFFF;\n",
              "      --disabled-bg-color: #3B4455;\n",
              "      --disabled-fill-color: #666;\n",
              "  }\n",
              "\n",
              "  .colab-df-quickchart {\n",
              "    background-color: var(--bg-color);\n",
              "    border: none;\n",
              "    border-radius: 50%;\n",
              "    cursor: pointer;\n",
              "    display: none;\n",
              "    fill: var(--fill-color);\n",
              "    height: 32px;\n",
              "    padding: 0;\n",
              "    width: 32px;\n",
              "  }\n",
              "\n",
              "  .colab-df-quickchart:hover {\n",
              "    background-color: var(--hover-bg-color);\n",
              "    box-shadow: 0 1px 2px rgba(60, 64, 67, 0.3), 0 1px 3px 1px rgba(60, 64, 67, 0.15);\n",
              "    fill: var(--button-hover-fill-color);\n",
              "  }\n",
              "\n",
              "  .colab-df-quickchart-complete:disabled,\n",
              "  .colab-df-quickchart-complete:disabled:hover {\n",
              "    background-color: var(--disabled-bg-color);\n",
              "    fill: var(--disabled-fill-color);\n",
              "    box-shadow: none;\n",
              "  }\n",
              "\n",
              "  .colab-df-spinner {\n",
              "    border: 2px solid var(--fill-color);\n",
              "    border-color: transparent;\n",
              "    border-bottom-color: var(--fill-color);\n",
              "    animation:\n",
              "      spin 1s steps(1) infinite;\n",
              "  }\n",
              "\n",
              "  @keyframes spin {\n",
              "    0% {\n",
              "      border-color: transparent;\n",
              "      border-bottom-color: var(--fill-color);\n",
              "      border-left-color: var(--fill-color);\n",
              "    }\n",
              "    20% {\n",
              "      border-color: transparent;\n",
              "      border-left-color: var(--fill-color);\n",
              "      border-top-color: var(--fill-color);\n",
              "    }\n",
              "    30% {\n",
              "      border-color: transparent;\n",
              "      border-left-color: var(--fill-color);\n",
              "      border-top-color: var(--fill-color);\n",
              "      border-right-color: var(--fill-color);\n",
              "    }\n",
              "    40% {\n",
              "      border-color: transparent;\n",
              "      border-right-color: var(--fill-color);\n",
              "      border-top-color: var(--fill-color);\n",
              "    }\n",
              "    60% {\n",
              "      border-color: transparent;\n",
              "      border-right-color: var(--fill-color);\n",
              "    }\n",
              "    80% {\n",
              "      border-color: transparent;\n",
              "      border-right-color: var(--fill-color);\n",
              "      border-bottom-color: var(--fill-color);\n",
              "    }\n",
              "    90% {\n",
              "      border-color: transparent;\n",
              "      border-bottom-color: var(--fill-color);\n",
              "    }\n",
              "  }\n",
              "</style>\n",
              "\n",
              "  <script>\n",
              "    async function quickchart(key) {\n",
              "      const quickchartButtonEl =\n",
              "        document.querySelector('#' + key + ' button');\n",
              "      quickchartButtonEl.disabled = true;  // To prevent multiple clicks.\n",
              "      quickchartButtonEl.classList.add('colab-df-spinner');\n",
              "      try {\n",
              "        const charts = await google.colab.kernel.invokeFunction(\n",
              "            'suggestCharts', [key], {});\n",
              "      } catch (error) {\n",
              "        console.error('Error during call to suggestCharts:', error);\n",
              "      }\n",
              "      quickchartButtonEl.classList.remove('colab-df-spinner');\n",
              "      quickchartButtonEl.classList.add('colab-df-quickchart-complete');\n",
              "    }\n",
              "    (() => {\n",
              "      let quickchartButtonEl =\n",
              "        document.querySelector('#df-a271cba6-bf1d-4664-b089-cd4d6afeb785 button');\n",
              "      quickchartButtonEl.style.display =\n",
              "        google.colab.kernel.accessAllowed ? 'block' : 'none';\n",
              "    })();\n",
              "  </script>\n",
              "</div>\n",
              "    </div>\n",
              "  </div>\n"
            ],
            "application/vnd.google.colaboratory.intrinsic+json": {
              "type": "dataframe",
              "variable_name": "data",
              "summary": "{\n  \"name\": \"data\",\n  \"rows\": 9091,\n  \"fields\": [\n    {\n      \"column\": \"row_number\",\n      \"properties\": {\n        \"dtype\": \"number\",\n        \"std\": 2884,\n        \"min\": 1,\n        \"max\": 9999,\n        \"num_unique_values\": 9091,\n        \"samples\": [\n          3640,\n          2836,\n          3379\n        ],\n        \"semantic_type\": \"\",\n        \"description\": \"\"\n      }\n    },\n    {\n      \"column\": \"customer_id\",\n      \"properties\": {\n        \"dtype\": \"number\",\n        \"std\": 71614,\n        \"min\": 15565701,\n        \"max\": 15815660,\n        \"num_unique_values\": 9091,\n        \"samples\": [\n          15793049,\n          15812917,\n          15571302\n        ],\n        \"semantic_type\": \"\",\n        \"description\": \"\"\n      }\n    },\n    {\n      \"column\": \"surname\",\n      \"properties\": {\n        \"dtype\": \"category\",\n        \"num_unique_values\": 2787,\n        \"samples\": [\n          \"Kamdibe\",\n          \"Dwyer\",\n          \"Folliero\"\n        ],\n        \"semantic_type\": \"\",\n        \"description\": \"\"\n      }\n    },\n    {\n      \"column\": \"credit_score\",\n      \"properties\": {\n        \"dtype\": \"number\",\n        \"std\": 96,\n        \"min\": 350,\n        \"max\": 850,\n        \"num_unique_values\": 458,\n        \"samples\": [\n          786,\n          556,\n          444\n        ],\n        \"semantic_type\": \"\",\n        \"description\": \"\"\n      }\n    },\n    {\n      \"column\": \"geography\",\n      \"properties\": {\n        \"dtype\": \"category\",\n        \"num_unique_values\": 3,\n        \"samples\": [\n          \"France\",\n          \"Spain\",\n          \"Germany\"\n        ],\n        \"semantic_type\": \"\",\n        \"description\": \"\"\n      }\n    },\n    {\n      \"column\": \"gender\",\n      \"properties\": {\n        \"dtype\": \"category\",\n        \"num_unique_values\": 2,\n        \"samples\": [\n          \"Male\",\n          \"Female\"\n        ],\n        \"semantic_type\": \"\",\n        \"description\": \"\"\n      }\n    },\n    {\n      \"column\": \"age\",\n      \"properties\": {\n        \"dtype\": \"number\",\n        \"std\": 10,\n        \"min\": 18,\n        \"max\": 92,\n        \"num_unique_values\": 70,\n        \"samples\": [\n          61,\n          42\n        ],\n        \"semantic_type\": \"\",\n        \"description\": \"\"\n      }\n    },\n    {\n      \"column\": \"tenure\",\n      \"properties\": {\n        \"dtype\": \"number\",\n        \"std\": 2,\n        \"min\": 0,\n        \"max\": 10,\n        \"num_unique_values\": 11,\n        \"samples\": [\n          6,\n          2\n        ],\n        \"semantic_type\": \"\",\n        \"description\": \"\"\n      }\n    },\n    {\n      \"column\": \"balance\",\n      \"properties\": {\n        \"dtype\": \"number\",\n        \"std\": 62329.52857648129,\n        \"min\": 0.0,\n        \"max\": 250898.09,\n        \"num_unique_values\": 5807,\n        \"samples\": [\n          117301.66,\n          135658.73\n        ],\n        \"semantic_type\": \"\",\n        \"description\": \"\"\n      }\n    },\n    {\n      \"column\": \"number_of_products\",\n      \"properties\": {\n        \"dtype\": \"number\",\n        \"std\": 0,\n        \"min\": 1,\n        \"max\": 4,\n        \"num_unique_values\": 4,\n        \"samples\": [\n          3,\n          4\n        ],\n        \"semantic_type\": \"\",\n        \"description\": \"\"\n      }\n    },\n    {\n      \"column\": \"has_credit_card\",\n      \"properties\": {\n        \"dtype\": \"number\",\n        \"std\": 0,\n        \"min\": 0,\n        \"max\": 1,\n        \"num_unique_values\": 2,\n        \"samples\": [\n          0,\n          1\n        ],\n        \"semantic_type\": \"\",\n        \"description\": \"\"\n      }\n    },\n    {\n      \"column\": \"is_active_member\",\n      \"properties\": {\n        \"dtype\": \"number\",\n        \"std\": 0,\n        \"min\": 0,\n        \"max\": 1,\n        \"num_unique_values\": 2,\n        \"samples\": [\n          0,\n          1\n        ],\n        \"semantic_type\": \"\",\n        \"description\": \"\"\n      }\n    },\n    {\n      \"column\": \"estimated_salary\",\n      \"properties\": {\n        \"dtype\": \"number\",\n        \"std\": 57624.75564747154,\n        \"min\": 11.58,\n        \"max\": 199992.48,\n        \"num_unique_values\": 9090,\n        \"samples\": [\n          95007.8,\n          23864.21\n        ],\n        \"semantic_type\": \"\",\n        \"description\": \"\"\n      }\n    },\n    {\n      \"column\": \"exited\",\n      \"properties\": {\n        \"dtype\": \"number\",\n        \"std\": 0,\n        \"min\": 0,\n        \"max\": 1,\n        \"num_unique_values\": 2,\n        \"samples\": [\n          0,\n          1\n        ],\n        \"semantic_type\": \"\",\n        \"description\": \"\"\n      }\n    }\n  ]\n}"
            }
          },
          "metadata": {},
          "execution_count": 8
        }
      ],
      "source": [
        "data['tenure'] = data['tenure'].astype('int64')\n",
        "data.head(3)"
      ]
    },
    {
      "cell_type": "markdown",
      "metadata": {
        "id": "XN2YmJj1bnje"
      },
      "source": [
        "В данных много численных типов. Последнее, что хотелось бы сделать на этапе предобработки данных — это оптимизировать хранение численных типов, чтобы они занимали только то пространство, которое им необходимо. Машинное обучение само по себе требует много вычислительной мощности для рассчётов и занимает много времени. Важно уменьшать объём занимаемых данных, если это возможно."
      ]
    },
    {
      "cell_type": "code",
      "execution_count": 9,
      "metadata": {
        "colab": {
          "base_uri": "https://localhost:8080/"
        },
        "id": "R0WCzymubnje",
        "outputId": "0cd15c24-14fd-4c1a-eccc-9065322a4870"
      },
      "outputs": [
        {
          "output_type": "stream",
          "name": "stdout",
          "text": [
            "<class 'pandas.core.frame.DataFrame'>\n",
            "RangeIndex: 9091 entries, 0 to 9090\n",
            "Data columns (total 14 columns):\n",
            " #   Column              Non-Null Count  Dtype  \n",
            "---  ------              --------------  -----  \n",
            " 0   row_number          9091 non-null   int64  \n",
            " 1   customer_id         9091 non-null   int64  \n",
            " 2   surname             9091 non-null   object \n",
            " 3   credit_score        9091 non-null   int64  \n",
            " 4   geography           9091 non-null   object \n",
            " 5   gender              9091 non-null   object \n",
            " 6   age                 9091 non-null   int64  \n",
            " 7   tenure              9091 non-null   int64  \n",
            " 8   balance             9091 non-null   float64\n",
            " 9   number_of_products  9091 non-null   int64  \n",
            " 10  has_credit_card     9091 non-null   int64  \n",
            " 11  is_active_member    9091 non-null   int64  \n",
            " 12  estimated_salary    9091 non-null   float64\n",
            " 13  exited              9091 non-null   int64  \n",
            "dtypes: float64(2), int64(9), object(3)\n",
            "memory usage: 2.4 MB\n"
          ]
        }
      ],
      "source": [
        "data.info(memory_usage='deep') #текущие типы и занимаемая память"
      ]
    },
    {
      "cell_type": "code",
      "execution_count": 10,
      "metadata": {
        "id": "Vzb-1NSLbnje"
      },
      "outputs": [],
      "source": [
        "cols_to_float = ['balance', 'estimated_salary'] #обработка столбцов типа float\n",
        "for col in cols_to_float:\n",
        "    data[col] = pd.to_numeric(data[col], downcast='float')"
      ]
    },
    {
      "cell_type": "code",
      "execution_count": 11,
      "metadata": {
        "colab": {
          "base_uri": "https://localhost:8080/"
        },
        "id": "dUYhX2O0bnje",
        "outputId": "fcffd2ce-4287-45c8-e2f2-4305b06577e3"
      },
      "outputs": [
        {
          "output_type": "stream",
          "name": "stdout",
          "text": [
            "<class 'pandas.core.frame.DataFrame'>\n",
            "RangeIndex: 9091 entries, 0 to 9090\n",
            "Data columns (total 14 columns):\n",
            " #   Column              Non-Null Count  Dtype  \n",
            "---  ------              --------------  -----  \n",
            " 0   row_number          9091 non-null   int16  \n",
            " 1   customer_id         9091 non-null   int32  \n",
            " 2   surname             9091 non-null   object \n",
            " 3   credit_score        9091 non-null   int16  \n",
            " 4   geography           9091 non-null   object \n",
            " 5   gender              9091 non-null   object \n",
            " 6   age                 9091 non-null   int8   \n",
            " 7   tenure              9091 non-null   int8   \n",
            " 8   balance             9091 non-null   float64\n",
            " 9   number_of_products  9091 non-null   int8   \n",
            " 10  has_credit_card     9091 non-null   int8   \n",
            " 11  is_active_member    9091 non-null   int8   \n",
            " 12  estimated_salary    9091 non-null   float64\n",
            " 13  exited              9091 non-null   int8   \n",
            "dtypes: float64(2), int16(2), int32(1), int8(6), object(3)\n",
            "memory usage: 1.9 MB\n"
          ]
        }
      ],
      "source": [
        "cols_to_int = ['row_number', 'customer_id', 'credit_score', 'age', #обработка столбцов типа int\n",
        "               'tenure', 'number_of_products', 'has_credit_card',\n",
        "               'is_active_member', 'exited']\n",
        "for col in cols_to_int:\n",
        "    data[col] = pd.to_numeric(data[col], downcast='integer')\n",
        "data.info(memory_usage='deep') #вывод обновлённых данных о таблице"
      ]
    },
    {
      "cell_type": "markdown",
      "metadata": {
        "id": "A9yznKXxbnje"
      },
      "source": [
        "Я понизила все численные типы и уменьшила использование памяти с 2.4 МБ до 1.8 МБ без потери информации.\n",
        "\n",
        "### Категориальные переменные\n",
        "\n",
        "Поскольку в машинном обучении используются математические операции, текстовые данные для него не подходят. Потому, текстовые значения, которые я хочу оставить и использовать в обучении, такие как Geography и Gender, я переведу в численные при помощи метода .get_dummies() из библиотеки pandas.\n",
        "\n",
        "Но перед этим удалю первые три столбца — row_number, customer_id и surname. Первые два пусть и являются численными, не являются вещественными: нельзя сказать, что пользователь с id 20 больше чем пользователь с id 12. То же касается фамилии: она не несёт в себе информации, которая бы влияла на целевой признак exited."
      ]
    },
    {
      "cell_type": "code",
      "execution_count": 12,
      "metadata": {
        "scrolled": true,
        "colab": {
          "base_uri": "https://localhost:8080/",
          "height": 163
        },
        "id": "lPl2ZDoHbnjf",
        "outputId": "7325c82e-0a44-4ea2-93ba-edabd2c9bd9c"
      },
      "outputs": [
        {
          "output_type": "execute_result",
          "data": {
            "text/plain": [
              "   credit_score geography  gender  age  tenure    balance  number_of_products  \\\n",
              "0           619    France  Female   42       2       0.00                   1   \n",
              "1           608     Spain  Female   41       1   83807.86                   1   \n",
              "2           502    France  Female   42       8  159660.80                   3   \n",
              "\n",
              "   has_credit_card  is_active_member  estimated_salary  exited  \n",
              "0                1                 1         101348.88       1  \n",
              "1                0                 1         112542.58       0  \n",
              "2                1                 0         113931.57       1  "
            ],
            "text/html": [
              "\n",
              "  <div id=\"df-661f1cd7-ba0c-4c57-88cf-cc25f2095cf1\" class=\"colab-df-container\">\n",
              "    <div>\n",
              "<style scoped>\n",
              "    .dataframe tbody tr th:only-of-type {\n",
              "        vertical-align: middle;\n",
              "    }\n",
              "\n",
              "    .dataframe tbody tr th {\n",
              "        vertical-align: top;\n",
              "    }\n",
              "\n",
              "    .dataframe thead th {\n",
              "        text-align: right;\n",
              "    }\n",
              "</style>\n",
              "<table border=\"1\" class=\"dataframe\">\n",
              "  <thead>\n",
              "    <tr style=\"text-align: right;\">\n",
              "      <th></th>\n",
              "      <th>credit_score</th>\n",
              "      <th>geography</th>\n",
              "      <th>gender</th>\n",
              "      <th>age</th>\n",
              "      <th>tenure</th>\n",
              "      <th>balance</th>\n",
              "      <th>number_of_products</th>\n",
              "      <th>has_credit_card</th>\n",
              "      <th>is_active_member</th>\n",
              "      <th>estimated_salary</th>\n",
              "      <th>exited</th>\n",
              "    </tr>\n",
              "  </thead>\n",
              "  <tbody>\n",
              "    <tr>\n",
              "      <th>0</th>\n",
              "      <td>619</td>\n",
              "      <td>France</td>\n",
              "      <td>Female</td>\n",
              "      <td>42</td>\n",
              "      <td>2</td>\n",
              "      <td>0.00</td>\n",
              "      <td>1</td>\n",
              "      <td>1</td>\n",
              "      <td>1</td>\n",
              "      <td>101348.88</td>\n",
              "      <td>1</td>\n",
              "    </tr>\n",
              "    <tr>\n",
              "      <th>1</th>\n",
              "      <td>608</td>\n",
              "      <td>Spain</td>\n",
              "      <td>Female</td>\n",
              "      <td>41</td>\n",
              "      <td>1</td>\n",
              "      <td>83807.86</td>\n",
              "      <td>1</td>\n",
              "      <td>0</td>\n",
              "      <td>1</td>\n",
              "      <td>112542.58</td>\n",
              "      <td>0</td>\n",
              "    </tr>\n",
              "    <tr>\n",
              "      <th>2</th>\n",
              "      <td>502</td>\n",
              "      <td>France</td>\n",
              "      <td>Female</td>\n",
              "      <td>42</td>\n",
              "      <td>8</td>\n",
              "      <td>159660.80</td>\n",
              "      <td>3</td>\n",
              "      <td>1</td>\n",
              "      <td>0</td>\n",
              "      <td>113931.57</td>\n",
              "      <td>1</td>\n",
              "    </tr>\n",
              "  </tbody>\n",
              "</table>\n",
              "</div>\n",
              "    <div class=\"colab-df-buttons\">\n",
              "\n",
              "  <div class=\"colab-df-container\">\n",
              "    <button class=\"colab-df-convert\" onclick=\"convertToInteractive('df-661f1cd7-ba0c-4c57-88cf-cc25f2095cf1')\"\n",
              "            title=\"Convert this dataframe to an interactive table.\"\n",
              "            style=\"display:none;\">\n",
              "\n",
              "  <svg xmlns=\"http://www.w3.org/2000/svg\" height=\"24px\" viewBox=\"0 -960 960 960\">\n",
              "    <path d=\"M120-120v-720h720v720H120Zm60-500h600v-160H180v160Zm220 220h160v-160H400v160Zm0 220h160v-160H400v160ZM180-400h160v-160H180v160Zm440 0h160v-160H620v160ZM180-180h160v-160H180v160Zm440 0h160v-160H620v160Z\"/>\n",
              "  </svg>\n",
              "    </button>\n",
              "\n",
              "  <style>\n",
              "    .colab-df-container {\n",
              "      display:flex;\n",
              "      gap: 12px;\n",
              "    }\n",
              "\n",
              "    .colab-df-convert {\n",
              "      background-color: #E8F0FE;\n",
              "      border: none;\n",
              "      border-radius: 50%;\n",
              "      cursor: pointer;\n",
              "      display: none;\n",
              "      fill: #1967D2;\n",
              "      height: 32px;\n",
              "      padding: 0 0 0 0;\n",
              "      width: 32px;\n",
              "    }\n",
              "\n",
              "    .colab-df-convert:hover {\n",
              "      background-color: #E2EBFA;\n",
              "      box-shadow: 0px 1px 2px rgba(60, 64, 67, 0.3), 0px 1px 3px 1px rgba(60, 64, 67, 0.15);\n",
              "      fill: #174EA6;\n",
              "    }\n",
              "\n",
              "    .colab-df-buttons div {\n",
              "      margin-bottom: 4px;\n",
              "    }\n",
              "\n",
              "    [theme=dark] .colab-df-convert {\n",
              "      background-color: #3B4455;\n",
              "      fill: #D2E3FC;\n",
              "    }\n",
              "\n",
              "    [theme=dark] .colab-df-convert:hover {\n",
              "      background-color: #434B5C;\n",
              "      box-shadow: 0px 1px 3px 1px rgba(0, 0, 0, 0.15);\n",
              "      filter: drop-shadow(0px 1px 2px rgba(0, 0, 0, 0.3));\n",
              "      fill: #FFFFFF;\n",
              "    }\n",
              "  </style>\n",
              "\n",
              "    <script>\n",
              "      const buttonEl =\n",
              "        document.querySelector('#df-661f1cd7-ba0c-4c57-88cf-cc25f2095cf1 button.colab-df-convert');\n",
              "      buttonEl.style.display =\n",
              "        google.colab.kernel.accessAllowed ? 'block' : 'none';\n",
              "\n",
              "      async function convertToInteractive(key) {\n",
              "        const element = document.querySelector('#df-661f1cd7-ba0c-4c57-88cf-cc25f2095cf1');\n",
              "        const dataTable =\n",
              "          await google.colab.kernel.invokeFunction('convertToInteractive',\n",
              "                                                    [key], {});\n",
              "        if (!dataTable) return;\n",
              "\n",
              "        const docLinkHtml = 'Like what you see? Visit the ' +\n",
              "          '<a target=\"_blank\" href=https://colab.research.google.com/notebooks/data_table.ipynb>data table notebook</a>'\n",
              "          + ' to learn more about interactive tables.';\n",
              "        element.innerHTML = '';\n",
              "        dataTable['output_type'] = 'display_data';\n",
              "        await google.colab.output.renderOutput(dataTable, element);\n",
              "        const docLink = document.createElement('div');\n",
              "        docLink.innerHTML = docLinkHtml;\n",
              "        element.appendChild(docLink);\n",
              "      }\n",
              "    </script>\n",
              "  </div>\n",
              "\n",
              "\n",
              "<div id=\"df-a84cbac8-d1bb-4b56-a427-9da2e80d0b64\">\n",
              "  <button class=\"colab-df-quickchart\" onclick=\"quickchart('df-a84cbac8-d1bb-4b56-a427-9da2e80d0b64')\"\n",
              "            title=\"Suggest charts\"\n",
              "            style=\"display:none;\">\n",
              "\n",
              "<svg xmlns=\"http://www.w3.org/2000/svg\" height=\"24px\"viewBox=\"0 0 24 24\"\n",
              "     width=\"24px\">\n",
              "    <g>\n",
              "        <path d=\"M19 3H5c-1.1 0-2 .9-2 2v14c0 1.1.9 2 2 2h14c1.1 0 2-.9 2-2V5c0-1.1-.9-2-2-2zM9 17H7v-7h2v7zm4 0h-2V7h2v10zm4 0h-2v-4h2v4z\"/>\n",
              "    </g>\n",
              "</svg>\n",
              "  </button>\n",
              "\n",
              "<style>\n",
              "  .colab-df-quickchart {\n",
              "      --bg-color: #E8F0FE;\n",
              "      --fill-color: #1967D2;\n",
              "      --hover-bg-color: #E2EBFA;\n",
              "      --hover-fill-color: #174EA6;\n",
              "      --disabled-fill-color: #AAA;\n",
              "      --disabled-bg-color: #DDD;\n",
              "  }\n",
              "\n",
              "  [theme=dark] .colab-df-quickchart {\n",
              "      --bg-color: #3B4455;\n",
              "      --fill-color: #D2E3FC;\n",
              "      --hover-bg-color: #434B5C;\n",
              "      --hover-fill-color: #FFFFFF;\n",
              "      --disabled-bg-color: #3B4455;\n",
              "      --disabled-fill-color: #666;\n",
              "  }\n",
              "\n",
              "  .colab-df-quickchart {\n",
              "    background-color: var(--bg-color);\n",
              "    border: none;\n",
              "    border-radius: 50%;\n",
              "    cursor: pointer;\n",
              "    display: none;\n",
              "    fill: var(--fill-color);\n",
              "    height: 32px;\n",
              "    padding: 0;\n",
              "    width: 32px;\n",
              "  }\n",
              "\n",
              "  .colab-df-quickchart:hover {\n",
              "    background-color: var(--hover-bg-color);\n",
              "    box-shadow: 0 1px 2px rgba(60, 64, 67, 0.3), 0 1px 3px 1px rgba(60, 64, 67, 0.15);\n",
              "    fill: var(--button-hover-fill-color);\n",
              "  }\n",
              "\n",
              "  .colab-df-quickchart-complete:disabled,\n",
              "  .colab-df-quickchart-complete:disabled:hover {\n",
              "    background-color: var(--disabled-bg-color);\n",
              "    fill: var(--disabled-fill-color);\n",
              "    box-shadow: none;\n",
              "  }\n",
              "\n",
              "  .colab-df-spinner {\n",
              "    border: 2px solid var(--fill-color);\n",
              "    border-color: transparent;\n",
              "    border-bottom-color: var(--fill-color);\n",
              "    animation:\n",
              "      spin 1s steps(1) infinite;\n",
              "  }\n",
              "\n",
              "  @keyframes spin {\n",
              "    0% {\n",
              "      border-color: transparent;\n",
              "      border-bottom-color: var(--fill-color);\n",
              "      border-left-color: var(--fill-color);\n",
              "    }\n",
              "    20% {\n",
              "      border-color: transparent;\n",
              "      border-left-color: var(--fill-color);\n",
              "      border-top-color: var(--fill-color);\n",
              "    }\n",
              "    30% {\n",
              "      border-color: transparent;\n",
              "      border-left-color: var(--fill-color);\n",
              "      border-top-color: var(--fill-color);\n",
              "      border-right-color: var(--fill-color);\n",
              "    }\n",
              "    40% {\n",
              "      border-color: transparent;\n",
              "      border-right-color: var(--fill-color);\n",
              "      border-top-color: var(--fill-color);\n",
              "    }\n",
              "    60% {\n",
              "      border-color: transparent;\n",
              "      border-right-color: var(--fill-color);\n",
              "    }\n",
              "    80% {\n",
              "      border-color: transparent;\n",
              "      border-right-color: var(--fill-color);\n",
              "      border-bottom-color: var(--fill-color);\n",
              "    }\n",
              "    90% {\n",
              "      border-color: transparent;\n",
              "      border-bottom-color: var(--fill-color);\n",
              "    }\n",
              "  }\n",
              "</style>\n",
              "\n",
              "  <script>\n",
              "    async function quickchart(key) {\n",
              "      const quickchartButtonEl =\n",
              "        document.querySelector('#' + key + ' button');\n",
              "      quickchartButtonEl.disabled = true;  // To prevent multiple clicks.\n",
              "      quickchartButtonEl.classList.add('colab-df-spinner');\n",
              "      try {\n",
              "        const charts = await google.colab.kernel.invokeFunction(\n",
              "            'suggestCharts', [key], {});\n",
              "      } catch (error) {\n",
              "        console.error('Error during call to suggestCharts:', error);\n",
              "      }\n",
              "      quickchartButtonEl.classList.remove('colab-df-spinner');\n",
              "      quickchartButtonEl.classList.add('colab-df-quickchart-complete');\n",
              "    }\n",
              "    (() => {\n",
              "      let quickchartButtonEl =\n",
              "        document.querySelector('#df-a84cbac8-d1bb-4b56-a427-9da2e80d0b64 button');\n",
              "      quickchartButtonEl.style.display =\n",
              "        google.colab.kernel.accessAllowed ? 'block' : 'none';\n",
              "    })();\n",
              "  </script>\n",
              "</div>\n",
              "    </div>\n",
              "  </div>\n"
            ],
            "application/vnd.google.colaboratory.intrinsic+json": {
              "type": "dataframe",
              "variable_name": "data_clear",
              "summary": "{\n  \"name\": \"data_clear\",\n  \"rows\": 9091,\n  \"fields\": [\n    {\n      \"column\": \"credit_score\",\n      \"properties\": {\n        \"dtype\": \"int16\",\n        \"num_unique_values\": 458,\n        \"samples\": [\n          786,\n          556,\n          444\n        ],\n        \"semantic_type\": \"\",\n        \"description\": \"\"\n      }\n    },\n    {\n      \"column\": \"geography\",\n      \"properties\": {\n        \"dtype\": \"category\",\n        \"num_unique_values\": 3,\n        \"samples\": [\n          \"France\",\n          \"Spain\",\n          \"Germany\"\n        ],\n        \"semantic_type\": \"\",\n        \"description\": \"\"\n      }\n    },\n    {\n      \"column\": \"gender\",\n      \"properties\": {\n        \"dtype\": \"category\",\n        \"num_unique_values\": 2,\n        \"samples\": [\n          \"Male\",\n          \"Female\"\n        ],\n        \"semantic_type\": \"\",\n        \"description\": \"\"\n      }\n    },\n    {\n      \"column\": \"age\",\n      \"properties\": {\n        \"dtype\": \"int8\",\n        \"num_unique_values\": 70,\n        \"samples\": [\n          61,\n          42\n        ],\n        \"semantic_type\": \"\",\n        \"description\": \"\"\n      }\n    },\n    {\n      \"column\": \"tenure\",\n      \"properties\": {\n        \"dtype\": \"int8\",\n        \"num_unique_values\": 11,\n        \"samples\": [\n          6,\n          2\n        ],\n        \"semantic_type\": \"\",\n        \"description\": \"\"\n      }\n    },\n    {\n      \"column\": \"balance\",\n      \"properties\": {\n        \"dtype\": \"number\",\n        \"std\": 62329.52857648129,\n        \"min\": 0.0,\n        \"max\": 250898.09,\n        \"num_unique_values\": 5807,\n        \"samples\": [\n          117301.66,\n          135658.73\n        ],\n        \"semantic_type\": \"\",\n        \"description\": \"\"\n      }\n    },\n    {\n      \"column\": \"number_of_products\",\n      \"properties\": {\n        \"dtype\": \"int8\",\n        \"num_unique_values\": 4,\n        \"samples\": [\n          3,\n          4\n        ],\n        \"semantic_type\": \"\",\n        \"description\": \"\"\n      }\n    },\n    {\n      \"column\": \"has_credit_card\",\n      \"properties\": {\n        \"dtype\": \"int8\",\n        \"num_unique_values\": 2,\n        \"samples\": [\n          0,\n          1\n        ],\n        \"semantic_type\": \"\",\n        \"description\": \"\"\n      }\n    },\n    {\n      \"column\": \"is_active_member\",\n      \"properties\": {\n        \"dtype\": \"int8\",\n        \"num_unique_values\": 2,\n        \"samples\": [\n          0,\n          1\n        ],\n        \"semantic_type\": \"\",\n        \"description\": \"\"\n      }\n    },\n    {\n      \"column\": \"estimated_salary\",\n      \"properties\": {\n        \"dtype\": \"number\",\n        \"std\": 57624.75564747154,\n        \"min\": 11.58,\n        \"max\": 199992.48,\n        \"num_unique_values\": 9090,\n        \"samples\": [\n          95007.8,\n          23864.21\n        ],\n        \"semantic_type\": \"\",\n        \"description\": \"\"\n      }\n    },\n    {\n      \"column\": \"exited\",\n      \"properties\": {\n        \"dtype\": \"int8\",\n        \"num_unique_values\": 2,\n        \"samples\": [\n          0,\n          1\n        ],\n        \"semantic_type\": \"\",\n        \"description\": \"\"\n      }\n    }\n  ]\n}"
            }
          },
          "metadata": {},
          "execution_count": 12
        }
      ],
      "source": [
        "data_clear = data.drop(['row_number'], axis=1)\n",
        "data_clear = data_clear.drop(['customer_id'], axis=1)\n",
        "data_clear = data_clear.drop(['surname'], axis=1)\n",
        "data_clear.head(3)"
      ]
    },
    {
      "cell_type": "markdown",
      "metadata": {
        "id": "dc2Pd6cdbnjf"
      },
      "source": [
        "Теперь, когда ненужных столбцов у нас нет, оставшиеся два типа object мы трансформируем в численный формат. Метод .get_dummies() позволяет создать отдельные столбцы для каждой категории в категориальной переменной, где отношение к этой категории будет обозначено как 1, в противном случае 0. Столбцов нам нужно по колличеству категорий - 1, поскольку эта последняя категория не будет нести в себе как таковой информации (на отношение к ней указывает не отношение к остальным категориям) и её обозначение может привести к неточностям в обучении модели."
      ]
    },
    {
      "cell_type": "code",
      "execution_count": 13,
      "metadata": {
        "scrolled": true,
        "colab": {
          "base_uri": "https://localhost:8080/",
          "height": 163
        },
        "id": "JIwD_rHAbnjf",
        "outputId": "353ad898-926f-4b61-e6be-ee267e7ae279"
      },
      "outputs": [
        {
          "output_type": "execute_result",
          "data": {
            "text/plain": [
              "   credit_score  age  tenure    balance  number_of_products  has_credit_card  \\\n",
              "0           619   42       2       0.00                   1                1   \n",
              "1           608   41       1   83807.86                   1                0   \n",
              "2           502   42       8  159660.80                   3                1   \n",
              "\n",
              "   is_active_member  estimated_salary  exited  geography_Germany  \\\n",
              "0                 1         101348.88       1                  0   \n",
              "1                 1         112542.58       0                  0   \n",
              "2                 0         113931.57       1                  0   \n",
              "\n",
              "   geography_Spain  gender_Male  \n",
              "0                0            0  \n",
              "1                1            0  \n",
              "2                0            0  "
            ],
            "text/html": [
              "\n",
              "  <div id=\"df-a8ffc60b-a912-42b7-a200-cd6e6014cc0a\" class=\"colab-df-container\">\n",
              "    <div>\n",
              "<style scoped>\n",
              "    .dataframe tbody tr th:only-of-type {\n",
              "        vertical-align: middle;\n",
              "    }\n",
              "\n",
              "    .dataframe tbody tr th {\n",
              "        vertical-align: top;\n",
              "    }\n",
              "\n",
              "    .dataframe thead th {\n",
              "        text-align: right;\n",
              "    }\n",
              "</style>\n",
              "<table border=\"1\" class=\"dataframe\">\n",
              "  <thead>\n",
              "    <tr style=\"text-align: right;\">\n",
              "      <th></th>\n",
              "      <th>credit_score</th>\n",
              "      <th>age</th>\n",
              "      <th>tenure</th>\n",
              "      <th>balance</th>\n",
              "      <th>number_of_products</th>\n",
              "      <th>has_credit_card</th>\n",
              "      <th>is_active_member</th>\n",
              "      <th>estimated_salary</th>\n",
              "      <th>exited</th>\n",
              "      <th>geography_Germany</th>\n",
              "      <th>geography_Spain</th>\n",
              "      <th>gender_Male</th>\n",
              "    </tr>\n",
              "  </thead>\n",
              "  <tbody>\n",
              "    <tr>\n",
              "      <th>0</th>\n",
              "      <td>619</td>\n",
              "      <td>42</td>\n",
              "      <td>2</td>\n",
              "      <td>0.00</td>\n",
              "      <td>1</td>\n",
              "      <td>1</td>\n",
              "      <td>1</td>\n",
              "      <td>101348.88</td>\n",
              "      <td>1</td>\n",
              "      <td>0</td>\n",
              "      <td>0</td>\n",
              "      <td>0</td>\n",
              "    </tr>\n",
              "    <tr>\n",
              "      <th>1</th>\n",
              "      <td>608</td>\n",
              "      <td>41</td>\n",
              "      <td>1</td>\n",
              "      <td>83807.86</td>\n",
              "      <td>1</td>\n",
              "      <td>0</td>\n",
              "      <td>1</td>\n",
              "      <td>112542.58</td>\n",
              "      <td>0</td>\n",
              "      <td>0</td>\n",
              "      <td>1</td>\n",
              "      <td>0</td>\n",
              "    </tr>\n",
              "    <tr>\n",
              "      <th>2</th>\n",
              "      <td>502</td>\n",
              "      <td>42</td>\n",
              "      <td>8</td>\n",
              "      <td>159660.80</td>\n",
              "      <td>3</td>\n",
              "      <td>1</td>\n",
              "      <td>0</td>\n",
              "      <td>113931.57</td>\n",
              "      <td>1</td>\n",
              "      <td>0</td>\n",
              "      <td>0</td>\n",
              "      <td>0</td>\n",
              "    </tr>\n",
              "  </tbody>\n",
              "</table>\n",
              "</div>\n",
              "    <div class=\"colab-df-buttons\">\n",
              "\n",
              "  <div class=\"colab-df-container\">\n",
              "    <button class=\"colab-df-convert\" onclick=\"convertToInteractive('df-a8ffc60b-a912-42b7-a200-cd6e6014cc0a')\"\n",
              "            title=\"Convert this dataframe to an interactive table.\"\n",
              "            style=\"display:none;\">\n",
              "\n",
              "  <svg xmlns=\"http://www.w3.org/2000/svg\" height=\"24px\" viewBox=\"0 -960 960 960\">\n",
              "    <path d=\"M120-120v-720h720v720H120Zm60-500h600v-160H180v160Zm220 220h160v-160H400v160Zm0 220h160v-160H400v160ZM180-400h160v-160H180v160Zm440 0h160v-160H620v160ZM180-180h160v-160H180v160Zm440 0h160v-160H620v160Z\"/>\n",
              "  </svg>\n",
              "    </button>\n",
              "\n",
              "  <style>\n",
              "    .colab-df-container {\n",
              "      display:flex;\n",
              "      gap: 12px;\n",
              "    }\n",
              "\n",
              "    .colab-df-convert {\n",
              "      background-color: #E8F0FE;\n",
              "      border: none;\n",
              "      border-radius: 50%;\n",
              "      cursor: pointer;\n",
              "      display: none;\n",
              "      fill: #1967D2;\n",
              "      height: 32px;\n",
              "      padding: 0 0 0 0;\n",
              "      width: 32px;\n",
              "    }\n",
              "\n",
              "    .colab-df-convert:hover {\n",
              "      background-color: #E2EBFA;\n",
              "      box-shadow: 0px 1px 2px rgba(60, 64, 67, 0.3), 0px 1px 3px 1px rgba(60, 64, 67, 0.15);\n",
              "      fill: #174EA6;\n",
              "    }\n",
              "\n",
              "    .colab-df-buttons div {\n",
              "      margin-bottom: 4px;\n",
              "    }\n",
              "\n",
              "    [theme=dark] .colab-df-convert {\n",
              "      background-color: #3B4455;\n",
              "      fill: #D2E3FC;\n",
              "    }\n",
              "\n",
              "    [theme=dark] .colab-df-convert:hover {\n",
              "      background-color: #434B5C;\n",
              "      box-shadow: 0px 1px 3px 1px rgba(0, 0, 0, 0.15);\n",
              "      filter: drop-shadow(0px 1px 2px rgba(0, 0, 0, 0.3));\n",
              "      fill: #FFFFFF;\n",
              "    }\n",
              "  </style>\n",
              "\n",
              "    <script>\n",
              "      const buttonEl =\n",
              "        document.querySelector('#df-a8ffc60b-a912-42b7-a200-cd6e6014cc0a button.colab-df-convert');\n",
              "      buttonEl.style.display =\n",
              "        google.colab.kernel.accessAllowed ? 'block' : 'none';\n",
              "\n",
              "      async function convertToInteractive(key) {\n",
              "        const element = document.querySelector('#df-a8ffc60b-a912-42b7-a200-cd6e6014cc0a');\n",
              "        const dataTable =\n",
              "          await google.colab.kernel.invokeFunction('convertToInteractive',\n",
              "                                                    [key], {});\n",
              "        if (!dataTable) return;\n",
              "\n",
              "        const docLinkHtml = 'Like what you see? Visit the ' +\n",
              "          '<a target=\"_blank\" href=https://colab.research.google.com/notebooks/data_table.ipynb>data table notebook</a>'\n",
              "          + ' to learn more about interactive tables.';\n",
              "        element.innerHTML = '';\n",
              "        dataTable['output_type'] = 'display_data';\n",
              "        await google.colab.output.renderOutput(dataTable, element);\n",
              "        const docLink = document.createElement('div');\n",
              "        docLink.innerHTML = docLinkHtml;\n",
              "        element.appendChild(docLink);\n",
              "      }\n",
              "    </script>\n",
              "  </div>\n",
              "\n",
              "\n",
              "<div id=\"df-e0b30e6e-8fa0-44a2-8676-505307b273b3\">\n",
              "  <button class=\"colab-df-quickchart\" onclick=\"quickchart('df-e0b30e6e-8fa0-44a2-8676-505307b273b3')\"\n",
              "            title=\"Suggest charts\"\n",
              "            style=\"display:none;\">\n",
              "\n",
              "<svg xmlns=\"http://www.w3.org/2000/svg\" height=\"24px\"viewBox=\"0 0 24 24\"\n",
              "     width=\"24px\">\n",
              "    <g>\n",
              "        <path d=\"M19 3H5c-1.1 0-2 .9-2 2v14c0 1.1.9 2 2 2h14c1.1 0 2-.9 2-2V5c0-1.1-.9-2-2-2zM9 17H7v-7h2v7zm4 0h-2V7h2v10zm4 0h-2v-4h2v4z\"/>\n",
              "    </g>\n",
              "</svg>\n",
              "  </button>\n",
              "\n",
              "<style>\n",
              "  .colab-df-quickchart {\n",
              "      --bg-color: #E8F0FE;\n",
              "      --fill-color: #1967D2;\n",
              "      --hover-bg-color: #E2EBFA;\n",
              "      --hover-fill-color: #174EA6;\n",
              "      --disabled-fill-color: #AAA;\n",
              "      --disabled-bg-color: #DDD;\n",
              "  }\n",
              "\n",
              "  [theme=dark] .colab-df-quickchart {\n",
              "      --bg-color: #3B4455;\n",
              "      --fill-color: #D2E3FC;\n",
              "      --hover-bg-color: #434B5C;\n",
              "      --hover-fill-color: #FFFFFF;\n",
              "      --disabled-bg-color: #3B4455;\n",
              "      --disabled-fill-color: #666;\n",
              "  }\n",
              "\n",
              "  .colab-df-quickchart {\n",
              "    background-color: var(--bg-color);\n",
              "    border: none;\n",
              "    border-radius: 50%;\n",
              "    cursor: pointer;\n",
              "    display: none;\n",
              "    fill: var(--fill-color);\n",
              "    height: 32px;\n",
              "    padding: 0;\n",
              "    width: 32px;\n",
              "  }\n",
              "\n",
              "  .colab-df-quickchart:hover {\n",
              "    background-color: var(--hover-bg-color);\n",
              "    box-shadow: 0 1px 2px rgba(60, 64, 67, 0.3), 0 1px 3px 1px rgba(60, 64, 67, 0.15);\n",
              "    fill: var(--button-hover-fill-color);\n",
              "  }\n",
              "\n",
              "  .colab-df-quickchart-complete:disabled,\n",
              "  .colab-df-quickchart-complete:disabled:hover {\n",
              "    background-color: var(--disabled-bg-color);\n",
              "    fill: var(--disabled-fill-color);\n",
              "    box-shadow: none;\n",
              "  }\n",
              "\n",
              "  .colab-df-spinner {\n",
              "    border: 2px solid var(--fill-color);\n",
              "    border-color: transparent;\n",
              "    border-bottom-color: var(--fill-color);\n",
              "    animation:\n",
              "      spin 1s steps(1) infinite;\n",
              "  }\n",
              "\n",
              "  @keyframes spin {\n",
              "    0% {\n",
              "      border-color: transparent;\n",
              "      border-bottom-color: var(--fill-color);\n",
              "      border-left-color: var(--fill-color);\n",
              "    }\n",
              "    20% {\n",
              "      border-color: transparent;\n",
              "      border-left-color: var(--fill-color);\n",
              "      border-top-color: var(--fill-color);\n",
              "    }\n",
              "    30% {\n",
              "      border-color: transparent;\n",
              "      border-left-color: var(--fill-color);\n",
              "      border-top-color: var(--fill-color);\n",
              "      border-right-color: var(--fill-color);\n",
              "    }\n",
              "    40% {\n",
              "      border-color: transparent;\n",
              "      border-right-color: var(--fill-color);\n",
              "      border-top-color: var(--fill-color);\n",
              "    }\n",
              "    60% {\n",
              "      border-color: transparent;\n",
              "      border-right-color: var(--fill-color);\n",
              "    }\n",
              "    80% {\n",
              "      border-color: transparent;\n",
              "      border-right-color: var(--fill-color);\n",
              "      border-bottom-color: var(--fill-color);\n",
              "    }\n",
              "    90% {\n",
              "      border-color: transparent;\n",
              "      border-bottom-color: var(--fill-color);\n",
              "    }\n",
              "  }\n",
              "</style>\n",
              "\n",
              "  <script>\n",
              "    async function quickchart(key) {\n",
              "      const quickchartButtonEl =\n",
              "        document.querySelector('#' + key + ' button');\n",
              "      quickchartButtonEl.disabled = true;  // To prevent multiple clicks.\n",
              "      quickchartButtonEl.classList.add('colab-df-spinner');\n",
              "      try {\n",
              "        const charts = await google.colab.kernel.invokeFunction(\n",
              "            'suggestCharts', [key], {});\n",
              "      } catch (error) {\n",
              "        console.error('Error during call to suggestCharts:', error);\n",
              "      }\n",
              "      quickchartButtonEl.classList.remove('colab-df-spinner');\n",
              "      quickchartButtonEl.classList.add('colab-df-quickchart-complete');\n",
              "    }\n",
              "    (() => {\n",
              "      let quickchartButtonEl =\n",
              "        document.querySelector('#df-e0b30e6e-8fa0-44a2-8676-505307b273b3 button');\n",
              "      quickchartButtonEl.style.display =\n",
              "        google.colab.kernel.accessAllowed ? 'block' : 'none';\n",
              "    })();\n",
              "  </script>\n",
              "</div>\n",
              "    </div>\n",
              "  </div>\n"
            ],
            "application/vnd.google.colaboratory.intrinsic+json": {
              "type": "dataframe",
              "variable_name": "data_ohe",
              "summary": "{\n  \"name\": \"data_ohe\",\n  \"rows\": 9091,\n  \"fields\": [\n    {\n      \"column\": \"credit_score\",\n      \"properties\": {\n        \"dtype\": \"int16\",\n        \"num_unique_values\": 458,\n        \"samples\": [\n          786,\n          556,\n          444\n        ],\n        \"semantic_type\": \"\",\n        \"description\": \"\"\n      }\n    },\n    {\n      \"column\": \"age\",\n      \"properties\": {\n        \"dtype\": \"int8\",\n        \"num_unique_values\": 70,\n        \"samples\": [\n          61,\n          42,\n          68\n        ],\n        \"semantic_type\": \"\",\n        \"description\": \"\"\n      }\n    },\n    {\n      \"column\": \"tenure\",\n      \"properties\": {\n        \"dtype\": \"int8\",\n        \"num_unique_values\": 11,\n        \"samples\": [\n          6,\n          2,\n          9\n        ],\n        \"semantic_type\": \"\",\n        \"description\": \"\"\n      }\n    },\n    {\n      \"column\": \"balance\",\n      \"properties\": {\n        \"dtype\": \"number\",\n        \"std\": 62329.52857648129,\n        \"min\": 0.0,\n        \"max\": 250898.09,\n        \"num_unique_values\": 5807,\n        \"samples\": [\n          117301.66,\n          135658.73,\n          157960.49\n        ],\n        \"semantic_type\": \"\",\n        \"description\": \"\"\n      }\n    },\n    {\n      \"column\": \"number_of_products\",\n      \"properties\": {\n        \"dtype\": \"int8\",\n        \"num_unique_values\": 4,\n        \"samples\": [\n          3,\n          4,\n          1\n        ],\n        \"semantic_type\": \"\",\n        \"description\": \"\"\n      }\n    },\n    {\n      \"column\": \"has_credit_card\",\n      \"properties\": {\n        \"dtype\": \"int8\",\n        \"num_unique_values\": 2,\n        \"samples\": [\n          0,\n          1\n        ],\n        \"semantic_type\": \"\",\n        \"description\": \"\"\n      }\n    },\n    {\n      \"column\": \"is_active_member\",\n      \"properties\": {\n        \"dtype\": \"int8\",\n        \"num_unique_values\": 2,\n        \"samples\": [\n          0,\n          1\n        ],\n        \"semantic_type\": \"\",\n        \"description\": \"\"\n      }\n    },\n    {\n      \"column\": \"estimated_salary\",\n      \"properties\": {\n        \"dtype\": \"number\",\n        \"std\": 57624.75564747154,\n        \"min\": 11.58,\n        \"max\": 199992.48,\n        \"num_unique_values\": 9090,\n        \"samples\": [\n          95007.8,\n          23864.21\n        ],\n        \"semantic_type\": \"\",\n        \"description\": \"\"\n      }\n    },\n    {\n      \"column\": \"exited\",\n      \"properties\": {\n        \"dtype\": \"int8\",\n        \"num_unique_values\": 2,\n        \"samples\": [\n          0,\n          1\n        ],\n        \"semantic_type\": \"\",\n        \"description\": \"\"\n      }\n    },\n    {\n      \"column\": \"geography_Germany\",\n      \"properties\": {\n        \"dtype\": \"uint8\",\n        \"num_unique_values\": 2,\n        \"samples\": [\n          1,\n          0\n        ],\n        \"semantic_type\": \"\",\n        \"description\": \"\"\n      }\n    },\n    {\n      \"column\": \"geography_Spain\",\n      \"properties\": {\n        \"dtype\": \"uint8\",\n        \"num_unique_values\": 2,\n        \"samples\": [\n          1,\n          0\n        ],\n        \"semantic_type\": \"\",\n        \"description\": \"\"\n      }\n    },\n    {\n      \"column\": \"gender_Male\",\n      \"properties\": {\n        \"dtype\": \"uint8\",\n        \"num_unique_values\": 2,\n        \"samples\": [\n          1,\n          0\n        ],\n        \"semantic_type\": \"\",\n        \"description\": \"\"\n      }\n    }\n  ]\n}"
            }
          },
          "metadata": {},
          "execution_count": 13
        }
      ],
      "source": [
        "data_ohe = pd.get_dummies(data_clear, drop_first=True)\n",
        "data_ohe.head(3)"
      ]
    },
    {
      "cell_type": "markdown",
      "metadata": {
        "id": "MI_fIs-Zbnjg"
      },
      "source": [
        "Как видим, столбцы geography и gender преобразовались в три новых: geography_Germany, geography_Spain, gender_Male. Первые два обозначены единицами в случае если человек находится в Германии или Испании, третий — если его пол мужской. Отброшенные у нас здесь категории Франция и женский пол, отношение к ним по умолчанию если в других категориях стоят нули.\n",
        "\n",
        "### Разделение на выборки\n",
        "Теперь с данными всё в порядке и они готовы к их подготовке непосредственно к обучению. Выделим из исходного датасета обучающую, валидационную и тестовую выборки.\n",
        "\n",
        "Обучающая выборка используется для обучения, валидационная для настройки гиперпараметров, а по тестовой я буду уже непосредственно проверять результат обучения."
      ]
    },
    {
      "cell_type": "code",
      "execution_count": 14,
      "metadata": {
        "colab": {
          "base_uri": "https://localhost:8080/"
        },
        "id": "TE_YtKDYbnjg",
        "outputId": "97e996e5-9370-4144-b866-4eb10ab6da63"
      },
      "outputs": [
        {
          "output_type": "stream",
          "name": "stdout",
          "text": [
            "data_train shape: (5454, 12)\n",
            "data_valid shape: (1818, 12)\n",
            "data_test shape: (1819, 12)\n"
          ]
        }
      ],
      "source": [
        "#Отделяем 1/5 под тестовую выборку\n",
        "data_train_valid, data_test = train_test_split(data_ohe, test_size=0.2, random_state=12345)\n",
        "#1/5 от исходного сета под валидационную выборку и 3/5 под обучающую\n",
        "data_train, data_valid = train_test_split(data_train_valid, test_size=0.25, random_state=12345)\n",
        "print('data_train shape:', data_train.shape)\n",
        "print('data_valid shape:', data_valid.shape)\n",
        "print('data_test shape:', data_test.shape)"
      ]
    },
    {
      "cell_type": "markdown",
      "metadata": {
        "id": "S_z_44N2bnjg"
      },
      "source": [
        "Я разделила исходный датасет на три выборки в соотношении 3 : 1 : 1 — обучающую, валидационную и тестовую.\n",
        "\n",
        "Теперь выделю их features (параметры) и target (целевой параметр). Целевым здесь является столбец exited, поскольку я определяю, ушёл ли клиент банка или остался. Я буду учить модель определять целевой параметр по всем остальным."
      ]
    },
    {
      "cell_type": "code",
      "execution_count": 15,
      "metadata": {
        "id": "qwTC6q5lbnjh"
      },
      "outputs": [],
      "source": [
        "features_train = data_train.drop(['exited'], axis=1)\n",
        "target_train = data_train['exited']\n",
        "features_valid = data_valid.drop(['exited'], axis=1)\n",
        "target_valid = data_valid['exited']\n",
        "features_test = data_test.drop(['exited'], axis=1)\n",
        "target_test = data_test['exited']"
      ]
    },
    {
      "cell_type": "markdown",
      "metadata": {
        "id": "s4-hvR1Tbnjh"
      },
      "source": [
        "Мы разделили выборки на признаки, по которым будет идти проверка, и цель, которую в ходе проверки машина будет определять.\n",
        "\n",
        "### Стандартизация численных значений\n",
        "\n",
        "Все столбцы, которые являются численными, необходимо привести к единому размеру. Это важно, потому что в противном случае при работе с логической регрессией параметры, которые имеют в себе бОльшие числа будут иметь и бОльший вес для модели, т.е. сильнее влиять на результат. Стандартизация подразумевает, что я приведу все численные столбцы к такому формату, что их среднее будет равно 0, а стандартное отклонение примерно 1."
      ]
    },
    {
      "cell_type": "code",
      "execution_count": 16,
      "metadata": {
        "scrolled": false,
        "colab": {
          "base_uri": "https://localhost:8080/",
          "height": 226
        },
        "id": "A0Mvp5zVbnjh",
        "outputId": "9673cf5d-c1db-4798-e4a5-92f199ce43d5"
      },
      "outputs": [
        {
          "output_type": "execute_result",
          "data": {
            "text/plain": [
              "      credit_score       age    tenure   balance  number_of_products  \\\n",
              "3353     -0.203819  0.471273  0.352316  0.786022            0.782369   \n",
              "6176     -0.357513 -0.384930 -1.373506 -1.230577            0.782369   \n",
              "4020      0.175290 -0.289797 -0.683177 -1.230577            0.782369   \n",
              "535       0.349476  1.708010  0.007151  1.379462           -0.914942   \n",
              "1661      0.902771 -0.289797  1.387809 -1.230577           -0.914942   \n",
              "\n",
              "      has_credit_card  is_active_member  estimated_salary  geography_Germany  \\\n",
              "3353                0                 0         -0.357205                  0   \n",
              "6176                1                 1         -1.671048                  0   \n",
              "4020                1                 0         -1.119181                  0   \n",
              "535                 0                 0         -1.569064                  1   \n",
              "1661                0                 1          1.543790                  0   \n",
              "\n",
              "      geography_Spain  gender_Male  \n",
              "3353                1            0  \n",
              "6176                0            0  \n",
              "4020                0            1  \n",
              "535                 0            0  \n",
              "1661                0            1  "
            ],
            "text/html": [
              "\n",
              "  <div id=\"df-a953ec10-4836-465c-9676-81dad8078d76\" class=\"colab-df-container\">\n",
              "    <div>\n",
              "<style scoped>\n",
              "    .dataframe tbody tr th:only-of-type {\n",
              "        vertical-align: middle;\n",
              "    }\n",
              "\n",
              "    .dataframe tbody tr th {\n",
              "        vertical-align: top;\n",
              "    }\n",
              "\n",
              "    .dataframe thead th {\n",
              "        text-align: right;\n",
              "    }\n",
              "</style>\n",
              "<table border=\"1\" class=\"dataframe\">\n",
              "  <thead>\n",
              "    <tr style=\"text-align: right;\">\n",
              "      <th></th>\n",
              "      <th>credit_score</th>\n",
              "      <th>age</th>\n",
              "      <th>tenure</th>\n",
              "      <th>balance</th>\n",
              "      <th>number_of_products</th>\n",
              "      <th>has_credit_card</th>\n",
              "      <th>is_active_member</th>\n",
              "      <th>estimated_salary</th>\n",
              "      <th>geography_Germany</th>\n",
              "      <th>geography_Spain</th>\n",
              "      <th>gender_Male</th>\n",
              "    </tr>\n",
              "  </thead>\n",
              "  <tbody>\n",
              "    <tr>\n",
              "      <th>3353</th>\n",
              "      <td>-0.203819</td>\n",
              "      <td>0.471273</td>\n",
              "      <td>0.352316</td>\n",
              "      <td>0.786022</td>\n",
              "      <td>0.782369</td>\n",
              "      <td>0</td>\n",
              "      <td>0</td>\n",
              "      <td>-0.357205</td>\n",
              "      <td>0</td>\n",
              "      <td>1</td>\n",
              "      <td>0</td>\n",
              "    </tr>\n",
              "    <tr>\n",
              "      <th>6176</th>\n",
              "      <td>-0.357513</td>\n",
              "      <td>-0.384930</td>\n",
              "      <td>-1.373506</td>\n",
              "      <td>-1.230577</td>\n",
              "      <td>0.782369</td>\n",
              "      <td>1</td>\n",
              "      <td>1</td>\n",
              "      <td>-1.671048</td>\n",
              "      <td>0</td>\n",
              "      <td>0</td>\n",
              "      <td>0</td>\n",
              "    </tr>\n",
              "    <tr>\n",
              "      <th>4020</th>\n",
              "      <td>0.175290</td>\n",
              "      <td>-0.289797</td>\n",
              "      <td>-0.683177</td>\n",
              "      <td>-1.230577</td>\n",
              "      <td>0.782369</td>\n",
              "      <td>1</td>\n",
              "      <td>0</td>\n",
              "      <td>-1.119181</td>\n",
              "      <td>0</td>\n",
              "      <td>0</td>\n",
              "      <td>1</td>\n",
              "    </tr>\n",
              "    <tr>\n",
              "      <th>535</th>\n",
              "      <td>0.349476</td>\n",
              "      <td>1.708010</td>\n",
              "      <td>0.007151</td>\n",
              "      <td>1.379462</td>\n",
              "      <td>-0.914942</td>\n",
              "      <td>0</td>\n",
              "      <td>0</td>\n",
              "      <td>-1.569064</td>\n",
              "      <td>1</td>\n",
              "      <td>0</td>\n",
              "      <td>0</td>\n",
              "    </tr>\n",
              "    <tr>\n",
              "      <th>1661</th>\n",
              "      <td>0.902771</td>\n",
              "      <td>-0.289797</td>\n",
              "      <td>1.387809</td>\n",
              "      <td>-1.230577</td>\n",
              "      <td>-0.914942</td>\n",
              "      <td>0</td>\n",
              "      <td>1</td>\n",
              "      <td>1.543790</td>\n",
              "      <td>0</td>\n",
              "      <td>0</td>\n",
              "      <td>1</td>\n",
              "    </tr>\n",
              "  </tbody>\n",
              "</table>\n",
              "</div>\n",
              "    <div class=\"colab-df-buttons\">\n",
              "\n",
              "  <div class=\"colab-df-container\">\n",
              "    <button class=\"colab-df-convert\" onclick=\"convertToInteractive('df-a953ec10-4836-465c-9676-81dad8078d76')\"\n",
              "            title=\"Convert this dataframe to an interactive table.\"\n",
              "            style=\"display:none;\">\n",
              "\n",
              "  <svg xmlns=\"http://www.w3.org/2000/svg\" height=\"24px\" viewBox=\"0 -960 960 960\">\n",
              "    <path d=\"M120-120v-720h720v720H120Zm60-500h600v-160H180v160Zm220 220h160v-160H400v160Zm0 220h160v-160H400v160ZM180-400h160v-160H180v160Zm440 0h160v-160H620v160ZM180-180h160v-160H180v160Zm440 0h160v-160H620v160Z\"/>\n",
              "  </svg>\n",
              "    </button>\n",
              "\n",
              "  <style>\n",
              "    .colab-df-container {\n",
              "      display:flex;\n",
              "      gap: 12px;\n",
              "    }\n",
              "\n",
              "    .colab-df-convert {\n",
              "      background-color: #E8F0FE;\n",
              "      border: none;\n",
              "      border-radius: 50%;\n",
              "      cursor: pointer;\n",
              "      display: none;\n",
              "      fill: #1967D2;\n",
              "      height: 32px;\n",
              "      padding: 0 0 0 0;\n",
              "      width: 32px;\n",
              "    }\n",
              "\n",
              "    .colab-df-convert:hover {\n",
              "      background-color: #E2EBFA;\n",
              "      box-shadow: 0px 1px 2px rgba(60, 64, 67, 0.3), 0px 1px 3px 1px rgba(60, 64, 67, 0.15);\n",
              "      fill: #174EA6;\n",
              "    }\n",
              "\n",
              "    .colab-df-buttons div {\n",
              "      margin-bottom: 4px;\n",
              "    }\n",
              "\n",
              "    [theme=dark] .colab-df-convert {\n",
              "      background-color: #3B4455;\n",
              "      fill: #D2E3FC;\n",
              "    }\n",
              "\n",
              "    [theme=dark] .colab-df-convert:hover {\n",
              "      background-color: #434B5C;\n",
              "      box-shadow: 0px 1px 3px 1px rgba(0, 0, 0, 0.15);\n",
              "      filter: drop-shadow(0px 1px 2px rgba(0, 0, 0, 0.3));\n",
              "      fill: #FFFFFF;\n",
              "    }\n",
              "  </style>\n",
              "\n",
              "    <script>\n",
              "      const buttonEl =\n",
              "        document.querySelector('#df-a953ec10-4836-465c-9676-81dad8078d76 button.colab-df-convert');\n",
              "      buttonEl.style.display =\n",
              "        google.colab.kernel.accessAllowed ? 'block' : 'none';\n",
              "\n",
              "      async function convertToInteractive(key) {\n",
              "        const element = document.querySelector('#df-a953ec10-4836-465c-9676-81dad8078d76');\n",
              "        const dataTable =\n",
              "          await google.colab.kernel.invokeFunction('convertToInteractive',\n",
              "                                                    [key], {});\n",
              "        if (!dataTable) return;\n",
              "\n",
              "        const docLinkHtml = 'Like what you see? Visit the ' +\n",
              "          '<a target=\"_blank\" href=https://colab.research.google.com/notebooks/data_table.ipynb>data table notebook</a>'\n",
              "          + ' to learn more about interactive tables.';\n",
              "        element.innerHTML = '';\n",
              "        dataTable['output_type'] = 'display_data';\n",
              "        await google.colab.output.renderOutput(dataTable, element);\n",
              "        const docLink = document.createElement('div');\n",
              "        docLink.innerHTML = docLinkHtml;\n",
              "        element.appendChild(docLink);\n",
              "      }\n",
              "    </script>\n",
              "  </div>\n",
              "\n",
              "\n",
              "<div id=\"df-24049982-930a-4497-b7f3-08d39717d3c5\">\n",
              "  <button class=\"colab-df-quickchart\" onclick=\"quickchart('df-24049982-930a-4497-b7f3-08d39717d3c5')\"\n",
              "            title=\"Suggest charts\"\n",
              "            style=\"display:none;\">\n",
              "\n",
              "<svg xmlns=\"http://www.w3.org/2000/svg\" height=\"24px\"viewBox=\"0 0 24 24\"\n",
              "     width=\"24px\">\n",
              "    <g>\n",
              "        <path d=\"M19 3H5c-1.1 0-2 .9-2 2v14c0 1.1.9 2 2 2h14c1.1 0 2-.9 2-2V5c0-1.1-.9-2-2-2zM9 17H7v-7h2v7zm4 0h-2V7h2v10zm4 0h-2v-4h2v4z\"/>\n",
              "    </g>\n",
              "</svg>\n",
              "  </button>\n",
              "\n",
              "<style>\n",
              "  .colab-df-quickchart {\n",
              "      --bg-color: #E8F0FE;\n",
              "      --fill-color: #1967D2;\n",
              "      --hover-bg-color: #E2EBFA;\n",
              "      --hover-fill-color: #174EA6;\n",
              "      --disabled-fill-color: #AAA;\n",
              "      --disabled-bg-color: #DDD;\n",
              "  }\n",
              "\n",
              "  [theme=dark] .colab-df-quickchart {\n",
              "      --bg-color: #3B4455;\n",
              "      --fill-color: #D2E3FC;\n",
              "      --hover-bg-color: #434B5C;\n",
              "      --hover-fill-color: #FFFFFF;\n",
              "      --disabled-bg-color: #3B4455;\n",
              "      --disabled-fill-color: #666;\n",
              "  }\n",
              "\n",
              "  .colab-df-quickchart {\n",
              "    background-color: var(--bg-color);\n",
              "    border: none;\n",
              "    border-radius: 50%;\n",
              "    cursor: pointer;\n",
              "    display: none;\n",
              "    fill: var(--fill-color);\n",
              "    height: 32px;\n",
              "    padding: 0;\n",
              "    width: 32px;\n",
              "  }\n",
              "\n",
              "  .colab-df-quickchart:hover {\n",
              "    background-color: var(--hover-bg-color);\n",
              "    box-shadow: 0 1px 2px rgba(60, 64, 67, 0.3), 0 1px 3px 1px rgba(60, 64, 67, 0.15);\n",
              "    fill: var(--button-hover-fill-color);\n",
              "  }\n",
              "\n",
              "  .colab-df-quickchart-complete:disabled,\n",
              "  .colab-df-quickchart-complete:disabled:hover {\n",
              "    background-color: var(--disabled-bg-color);\n",
              "    fill: var(--disabled-fill-color);\n",
              "    box-shadow: none;\n",
              "  }\n",
              "\n",
              "  .colab-df-spinner {\n",
              "    border: 2px solid var(--fill-color);\n",
              "    border-color: transparent;\n",
              "    border-bottom-color: var(--fill-color);\n",
              "    animation:\n",
              "      spin 1s steps(1) infinite;\n",
              "  }\n",
              "\n",
              "  @keyframes spin {\n",
              "    0% {\n",
              "      border-color: transparent;\n",
              "      border-bottom-color: var(--fill-color);\n",
              "      border-left-color: var(--fill-color);\n",
              "    }\n",
              "    20% {\n",
              "      border-color: transparent;\n",
              "      border-left-color: var(--fill-color);\n",
              "      border-top-color: var(--fill-color);\n",
              "    }\n",
              "    30% {\n",
              "      border-color: transparent;\n",
              "      border-left-color: var(--fill-color);\n",
              "      border-top-color: var(--fill-color);\n",
              "      border-right-color: var(--fill-color);\n",
              "    }\n",
              "    40% {\n",
              "      border-color: transparent;\n",
              "      border-right-color: var(--fill-color);\n",
              "      border-top-color: var(--fill-color);\n",
              "    }\n",
              "    60% {\n",
              "      border-color: transparent;\n",
              "      border-right-color: var(--fill-color);\n",
              "    }\n",
              "    80% {\n",
              "      border-color: transparent;\n",
              "      border-right-color: var(--fill-color);\n",
              "      border-bottom-color: var(--fill-color);\n",
              "    }\n",
              "    90% {\n",
              "      border-color: transparent;\n",
              "      border-bottom-color: var(--fill-color);\n",
              "    }\n",
              "  }\n",
              "</style>\n",
              "\n",
              "  <script>\n",
              "    async function quickchart(key) {\n",
              "      const quickchartButtonEl =\n",
              "        document.querySelector('#' + key + ' button');\n",
              "      quickchartButtonEl.disabled = true;  // To prevent multiple clicks.\n",
              "      quickchartButtonEl.classList.add('colab-df-spinner');\n",
              "      try {\n",
              "        const charts = await google.colab.kernel.invokeFunction(\n",
              "            'suggestCharts', [key], {});\n",
              "      } catch (error) {\n",
              "        console.error('Error during call to suggestCharts:', error);\n",
              "      }\n",
              "      quickchartButtonEl.classList.remove('colab-df-spinner');\n",
              "      quickchartButtonEl.classList.add('colab-df-quickchart-complete');\n",
              "    }\n",
              "    (() => {\n",
              "      let quickchartButtonEl =\n",
              "        document.querySelector('#df-24049982-930a-4497-b7f3-08d39717d3c5 button');\n",
              "      quickchartButtonEl.style.display =\n",
              "        google.colab.kernel.accessAllowed ? 'block' : 'none';\n",
              "    })();\n",
              "  </script>\n",
              "</div>\n",
              "    </div>\n",
              "  </div>\n"
            ],
            "application/vnd.google.colaboratory.intrinsic+json": {
              "type": "dataframe",
              "variable_name": "features_train",
              "summary": "{\n  \"name\": \"features_train\",\n  \"rows\": 5454,\n  \"fields\": [\n    {\n      \"column\": \"credit_score\",\n      \"properties\": {\n        \"dtype\": \"number\",\n        \"std\": 1.0000916884428643,\n        \"min\": -3.0625112358307476,\n        \"max\": 2.0605922548189004,\n        \"num_unique_values\": 450,\n        \"samples\": [\n          -2.73463261242917,\n          1.4355736289596432,\n          0.2265212051663264\n        ],\n        \"semantic_type\": \"\",\n        \"description\": \"\"\n      }\n    },\n    {\n      \"column\": \"age\",\n      \"properties\": {\n        \"dtype\": \"number\",\n        \"std\": 1.0000916884428646,\n        \"min\": -2.002202572066353,\n        \"max\": 5.0376886104445076,\n        \"num_unique_values\": 68,\n        \"samples\": [\n          1.5177430191890775,\n          3.5155499763881055,\n          0.6615400375323511\n        ],\n        \"semantic_type\": \"\",\n        \"description\": \"\"\n      }\n    },\n    {\n      \"column\": \"tenure\",\n      \"properties\": {\n        \"dtype\": \"number\",\n        \"std\": 1.0000916884428643,\n        \"min\": -1.7186707792286515,\n        \"max\": 1.7329735223926857,\n        \"num_unique_values\": 11,\n        \"samples\": [\n          -1.028341918904384,\n          0.35231580174415084,\n          1.7329735223926857\n        ],\n        \"semantic_type\": \"\",\n        \"description\": \"\"\n      }\n    },\n    {\n      \"column\": \"balance\",\n      \"properties\": {\n        \"dtype\": \"number\",\n        \"std\": 1.0000916884428646,\n        \"min\": -1.230576508147604,\n        \"max\": 2.340564165944047,\n        \"num_unique_values\": 3489,\n        \"samples\": [\n          -0.675501865910239,\n          0.41238920789812966,\n          0.7192191279561345\n        ],\n        \"semantic_type\": \"\",\n        \"description\": \"\"\n      }\n    },\n    {\n      \"column\": \"number_of_products\",\n      \"properties\": {\n        \"dtype\": \"number\",\n        \"std\": 1.0000916884428646,\n        \"min\": -0.9149421504577477,\n        \"max\": 4.176991001171392,\n        \"num_unique_values\": 4,\n        \"samples\": [\n          -0.9149421504577477,\n          4.176991001171392,\n          0.7823689000852988\n        ],\n        \"semantic_type\": \"\",\n        \"description\": \"\"\n      }\n    },\n    {\n      \"column\": \"has_credit_card\",\n      \"properties\": {\n        \"dtype\": \"int8\",\n        \"num_unique_values\": 2,\n        \"samples\": [\n          1,\n          0\n        ],\n        \"semantic_type\": \"\",\n        \"description\": \"\"\n      }\n    },\n    {\n      \"column\": \"is_active_member\",\n      \"properties\": {\n        \"dtype\": \"int8\",\n        \"num_unique_values\": 2,\n        \"samples\": [\n          1,\n          0\n        ],\n        \"semantic_type\": \"\",\n        \"description\": \"\"\n      }\n    },\n    {\n      \"column\": \"estimated_salary\",\n      \"properties\": {\n        \"dtype\": \"number\",\n        \"std\": 1.0000916884428648,\n        \"min\": -1.7288305848838963,\n        \"max\": 1.73950318065141,\n        \"num_unique_values\": 5453,\n        \"samples\": [\n          -0.7931762056511968,\n          1.226721269538748\n        ],\n        \"semantic_type\": \"\",\n        \"description\": \"\"\n      }\n    },\n    {\n      \"column\": \"geography_Germany\",\n      \"properties\": {\n        \"dtype\": \"uint8\",\n        \"num_unique_values\": 2,\n        \"samples\": [\n          1,\n          0\n        ],\n        \"semantic_type\": \"\",\n        \"description\": \"\"\n      }\n    },\n    {\n      \"column\": \"geography_Spain\",\n      \"properties\": {\n        \"dtype\": \"uint8\",\n        \"num_unique_values\": 2,\n        \"samples\": [\n          0,\n          1\n        ],\n        \"semantic_type\": \"\",\n        \"description\": \"\"\n      }\n    },\n    {\n      \"column\": \"gender_Male\",\n      \"properties\": {\n        \"dtype\": \"uint8\",\n        \"num_unique_values\": 2,\n        \"samples\": [\n          1,\n          0\n        ],\n        \"semantic_type\": \"\",\n        \"description\": \"\"\n      }\n    }\n  ]\n}"
            }
          },
          "metadata": {},
          "execution_count": 16
        }
      ],
      "source": [
        "numeric = ['credit_score', 'age', 'tenure',\n",
        "       'balance', 'number_of_products', 'estimated_salary']\n",
        "\n",
        "scaler = StandardScaler()\n",
        "scaler.fit(features_train[numeric])\n",
        "features_train[numeric] = scaler.transform(features_train[numeric])\n",
        "features_valid[numeric] = scaler.transform(features_valid[numeric])\n",
        "features_test[numeric] = scaler.transform(features_test[numeric])\n",
        "features_train.head()"
      ]
    },
    {
      "cell_type": "markdown",
      "metadata": {
        "id": "zvjnh6r2bnjh"
      },
      "source": [
        "Теперь значения в изменённых столбцах выглядят для человеческого восприятия странно, но зато будут более понятны для регрессивных моделей."
      ]
    },
    {
      "cell_type": "markdown",
      "metadata": {
        "id": "mNue_f8xbnji"
      },
      "source": [
        "\n",
        "### Промежуточный вывод\n",
        "\n",
        "В данном разделе я:\n",
        "- Импортировала и рассмотрела предложенный датасет;\n",
        "- Переименовала все столбцы так, чтобы перевести их в стиль snake_case;\n",
        "- Убедилась в отсутствии явных дубликатов;\n",
        "- Избавилась от пропусков;\n",
        "- Сменила тип столбца 'tenure' с float на int;\n",
        "- Уменьшила занимаемую память;\n",
        "- Разделила датасет на три выборки (обучающую, валидационную и тестовую) и для каждой отделила целевой параметр от остальных;\n",
        "- Стандатизировала численные параметры."
      ]
    },
    {
      "cell_type": "markdown",
      "metadata": {
        "id": "O_aPRE4ubnji"
      },
      "source": [
        "## Исследование задачи"
      ]
    },
    {
      "cell_type": "markdown",
      "metadata": {
        "id": "dZqtX0EZbnji"
      },
      "source": [
        "Необходимо исследовать баланс классов, от которого зависит адекватность нашей будущей модели. Баланс классов должен быть приблизительно 1:1. Если одного из классов в обучающей выборке будет представлено слишком много, а другого наоборот слишком мало, то модель слишком привыкнет выбирать класс, которого много и будет постоянно выдавать его в качестве ответа.\n",
        "\n",
        "Построим столбчатую диаграмму, в которой будет отображено количество объектов каждого из классов."
      ]
    },
    {
      "cell_type": "code",
      "execution_count": 17,
      "metadata": {
        "colab": {
          "base_uri": "https://localhost:8080/",
          "height": 519
        },
        "id": "Htuf3hfKbnji",
        "outputId": "4a6d2814-f49d-4686-b78c-71aebb151dc2"
      },
      "outputs": [
        {
          "output_type": "stream",
          "name": "stdout",
          "text": [
            "0    0.796062\n",
            "1    0.203938\n",
            "Name: exited, dtype: float64\n"
          ]
        },
        {
          "output_type": "display_data",
          "data": {
            "text/plain": [
              "<Figure size 640x480 with 1 Axes>"
            ],
            "image/png": "[encoded data removed]"
          },
          "metadata": {}
        }
      ],
      "source": [
        "class_frequency = data['exited'].value_counts(normalize=True)\n",
        "print(class_frequency)\n",
        "class_frequency.plot(kind='bar', color='g', xlabel='Оставшиеся пользователи и ушедшие',\n",
        "                     ylabel='Количество пользователей в процентах', title='Соотношение оставшихся и ушедших пользователей');"
      ]
    },
    {
      "cell_type": "markdown",
      "metadata": {
        "id": "VmJoin03bnji"
      },
      "source": [
        "Как видно по диаграмме, значений класса \"0\" заметно больше, чем класса \"1\". В нашем случае это означает, что в датасете изначально куда больше оставшихся клиентов, а, расторгнувших договор с банком всего одна пятая от общего числа. Классы не сбалансированы.\n",
        "\n",
        "### Решающее дерево\n",
        "\n",
        "Чтобы определить, насколько большая это проблема, обучу на текущем датасете модель решающего дерева и посмотрю её f1-меру."
      ]
    },
    {
      "cell_type": "code",
      "execution_count": 18,
      "metadata": {
        "scrolled": true,
        "colab": {
          "base_uri": "https://localhost:8080/"
        },
        "id": "2KHHjwpNbnjj",
        "outputId": "61f93628-a580-469f-baec-28e882116c68"
      },
      "outputs": [
        {
          "output_type": "stream",
          "name": "stdout",
          "text": [
            "Решающее дерево с глубиной  9 показало лучшую f1-меру 0.557427258805513\n"
          ]
        }
      ],
      "source": [
        "model_tree_unbalanced = None\n",
        "best_f1 = 0\n",
        "best_depth = 0\n",
        "for depth in range(1, 11):\n",
        "    model = DecisionTreeClassifier(random_state=12345, max_depth=depth)\n",
        "    model.fit(features_train, target_train)\n",
        "    predicted_valid = model.predict(features_valid)\n",
        "    f1 = f1_score(target_valid, predicted_valid)\n",
        "    if f1 > best_f1:\n",
        "        best_depth = depth\n",
        "        best_f1 = f1\n",
        "        model_tree_unbalanced = model\n",
        "\n",
        "print('Решающее дерево с глубиной ', best_depth, 'показало лучшую f1-меру', best_f1)"
      ]
    },
    {
      "cell_type": "markdown",
      "metadata": {
        "id": "8VyrD2NUbnjj"
      },
      "source": [
        "Несбалансированная модель решающего дерева с подбором лучшей глубины от 1 до 10 дала f1-меру, равную 0.56. Это ниже, чем нам нужно (минимум 0.59)\n",
        "\n",
        "Посчитаем AUC-ROC — площадь под графиком ROC-кривой. У полностью случайной модели он составлял бы 0.5. Чем ближе AUC-ROC к 1, тем больше наша модель даёт истинноположительных ответов."
      ]
    },
    {
      "cell_type": "code",
      "execution_count": 19,
      "metadata": {
        "scrolled": true,
        "colab": {
          "base_uri": "https://localhost:8080/"
        },
        "id": "RG0Fm-YHbnjj",
        "outputId": "30766c6d-9ce3-4267-c39e-38042e7c1635"
      },
      "outputs": [
        {
          "output_type": "execute_result",
          "data": {
            "text/plain": [
              "0.8062753089765011"
            ]
          },
          "metadata": {},
          "execution_count": 19
        }
      ],
      "source": [
        "probabilities_valid = model_tree_unbalanced.predict_proba(features_valid)\n",
        "probabilities_one_valid = probabilities_valid[:, 1]\n",
        "\n",
        "roc_auc_score(target_valid, probabilities_one_valid)"
      ]
    },
    {
      "cell_type": "markdown",
      "metadata": {
        "id": "zgUxamaibnjj"
      },
      "source": [
        "Текущий результат 0.8 — довольно низкий, в идеале он должен быть не меньше 0.9.\n",
        "\n",
        "### Случайный лес\n",
        "\n",
        "Попробуем обучить модель случайного леса. Он медленнее, но результат его работы как правило куда более точен, чем у одного решающего дерева."
      ]
    },
    {
      "cell_type": "code",
      "execution_count": 20,
      "metadata": {
        "colab": {
          "base_uri": "https://localhost:8080/"
        },
        "id": "obQ5wbgFbnjj",
        "outputId": "9a80956d-43bf-48a4-efd5-0ae5f03deb2e"
      },
      "outputs": [
        {
          "output_type": "stream",
          "name": "stdout",
          "text": [
            "Случайный лес с количеством деревьев 70 и их глубиной 10 показал лучшую f1-меру 0.5457809694793537\n"
          ]
        }
      ],
      "source": [
        "model_forest_unbalanced = None\n",
        "best_est = 0\n",
        "best_depth = 0\n",
        "best_f1 = 0\n",
        "for est in range(10, 101, 10):\n",
        "    for depth in range (1, 11):\n",
        "        model = RandomForestClassifier(random_state=12345, n_estimators=est, max_depth=depth)\n",
        "        model.fit(features_train, target_train)\n",
        "        predictions_valid = model.predict(features_valid)\n",
        "        f1 = f1_score(target_valid, predictions_valid)\n",
        "        if f1 > best_f1:\n",
        "            model_forest_unbalanced = model\n",
        "            best_est = est\n",
        "            best_depth = depth\n",
        "            best_f1 = f1\n",
        "\n",
        "print ('Случайный лес с количеством деревьев', best_est, 'и их глубиной', best_depth, 'показал лучшую f1-меру', best_f1)"
      ]
    },
    {
      "cell_type": "markdown",
      "metadata": {
        "id": "uIGrTOk3bnjk"
      },
      "source": [
        "Как ни странно, f1-мера у случайного леса оказалась даже хуже, чем у решающего дерева. Посмотрим, как в данном случае поведёт себя метрика AUC-ROC:"
      ]
    },
    {
      "cell_type": "code",
      "execution_count": 21,
      "metadata": {
        "colab": {
          "base_uri": "https://localhost:8080/"
        },
        "id": "bT8MNMMkbnjk",
        "outputId": "d63bc82c-74b1-4a04-c20d-91eb5c0aa623"
      },
      "outputs": [
        {
          "output_type": "execute_result",
          "data": {
            "text/plain": [
              "0.8460245148956028"
            ]
          },
          "metadata": {},
          "execution_count": 21
        }
      ],
      "source": [
        "probabilities_valid = model_forest_unbalanced.predict_proba(features_valid)\n",
        "probabilities_one_valid = probabilities_valid[:, 1]\n",
        "\n",
        "roc_auc_score(target_valid, probabilities_one_valid)"
      ]
    },
    {
      "cell_type": "markdown",
      "metadata": {
        "id": "UuuEvGDgbnjk"
      },
      "source": [
        "Тем не менее, AUC-ROC у леса оказался выше, чем у одного дерева. Т.е. в отношении истинноположительных ответов к ложноположительным лес больше склоняется к истинным.\n",
        "\n",
        "### Логическая регрессия\n",
        "\n",
        "Модель логической регрессии в своей механике значительно отличается от решающих деревьев. Именно для неё я на этапе предобработки данных стандатизировала численные типы: регрессия чувствительна к различным их форматам, и не воспринимает что, скажем, 3 товара в корзине — это также важно, как 3000 рублей в чеке. 3000 будет для неё более значимой цифрой, просто потому что она в тысячу раз больше."
      ]
    },
    {
      "cell_type": "code",
      "execution_count": 22,
      "metadata": {
        "colab": {
          "base_uri": "https://localhost:8080/"
        },
        "id": "TO0N0PJJbnjk",
        "outputId": "9d25323e-830d-4733-d613-3fcfdebaa241"
      },
      "outputs": [
        {
          "output_type": "stream",
          "name": "stdout",
          "text": [
            "Логическая регрессия показала f1-меру = 0.3004115226337448\n"
          ]
        }
      ],
      "source": [
        "model_reg = LogisticRegression(random_state=12345, max_iter=1000, solver='liblinear')\n",
        "model_reg.fit(features_train, target_train)\n",
        "predictions_valid = model_reg.predict(features_valid)\n",
        "f1 = f1_score(target_valid, predictions_valid)\n",
        "print('Логическая регрессия показала f1-меру =', f1)"
      ]
    },
    {
      "cell_type": "markdown",
      "metadata": {
        "id": "f0fn-XMNbnjk"
      },
      "source": [
        "Результат логической регрессии совсем слабый: 0.3. Посмотрим, как будет выглядеть её AUC-ROC метрика:"
      ]
    },
    {
      "cell_type": "code",
      "execution_count": 23,
      "metadata": {
        "colab": {
          "base_uri": "https://localhost:8080/"
        },
        "id": "Sa_Fy-4cbnjk",
        "outputId": "622c7e41-8d1d-45da-fa78-9fa5702a5824"
      },
      "outputs": [
        {
          "output_type": "execute_result",
          "data": {
            "text/plain": [
              "0.772597434855259"
            ]
          },
          "metadata": {},
          "execution_count": 23
        }
      ],
      "source": [
        "probabilities_valid = model_reg.predict_proba(features_valid)\n",
        "probabilities_one_valid = probabilities_valid[:, 1]\n",
        "\n",
        "roc_auc_score(target_valid, probabilities_one_valid)"
      ]
    },
    {
      "cell_type": "markdown",
      "metadata": {
        "id": "reuDqbs-bnjl"
      },
      "source": [
        "AUC-ROC у неё также ниже, чем у предыдущих двух моделей."
      ]
    },
    {
      "cell_type": "markdown",
      "metadata": {
        "id": "dzj3fl0abnjl"
      },
      "source": [
        "\n",
        "\n",
        "### Промежуточный вывод\n",
        "\n",
        "Мы определили, что выборка явно не сбалансирована. На несбалансированной выборке мы обучили с подбором лучших гиперпараметров две модели: решающее дерево и случайный лес, а также отдельно логическую регрессию, и получили их f1-меру и AUC-ROC. На следующем этапе я использую их для сравнения, получатся ли результаты лучше после балансирования выборки?"
      ]
    },
    {
      "cell_type": "markdown",
      "metadata": {
        "id": "CDdfUstQbnjl"
      },
      "source": [
        "## Борьба с дисбалансом"
      ]
    },
    {
      "cell_type": "markdown",
      "metadata": {
        "id": "guSyHO_sbnjl"
      },
      "source": [
        "Моя задача — улучшить результат модели из прошлого этапа. Делать это я буду при помощи f1-меры. Эта мера подразумевает соотношение точности и полноты таким образом, что чем ближе они друг к другу, и чем при этом выше, тем ближе f1-мера будет к единице. Лучший вариант, но маловероятный — 1.\n",
        "\n",
        "### Дерево решений\n",
        "\n",
        "Самая базовая модель машинного обучения — решающее дерево. Посмотрим, как оно покажет себя с применением различных методов балансирования обучающей выборки.\n",
        "\n",
        "#### Изменение веса меньшего класса\n",
        "\n",
        "Для устранения дисбаланса можно установить большее значение весов для меньшего класса. Вес — это мера каждого отдельного класса, которая определяет приоритет его над остальными."
      ]
    },
    {
      "cell_type": "code",
      "execution_count": 24,
      "metadata": {
        "scrolled": true,
        "colab": {
          "base_uri": "https://localhost:8080/"
        },
        "id": "oJ2JN0ojbnjl",
        "outputId": "631790e0-88db-4612-bfe4-2185625ed414"
      },
      "outputs": [
        {
          "output_type": "stream",
          "name": "stdout",
          "text": [
            "Решающее дерево с глубиной  7 показало лучшую f1-меру 0.5555555555555556\n"
          ]
        }
      ],
      "source": [
        "model_tree_weight = None\n",
        "best_f1 = 0\n",
        "best_depth = 0\n",
        "for depth in range(1, 11):\n",
        "    model = DecisionTreeClassifier(random_state=12345, max_depth=depth, class_weight='balanced')\n",
        "    model.fit(features_train, target_train)\n",
        "    predicted_valid = model.predict(features_valid)\n",
        "    f1 = f1_score(target_valid, predicted_valid)\n",
        "    if f1 > best_f1:\n",
        "        best_depth = depth\n",
        "        best_f1 = f1\n",
        "        model_tree_weight = model\n",
        "\n",
        "print('Решающее дерево с глубиной ', best_depth, 'показало лучшую f1-меру', best_f1)"
      ]
    },
    {
      "cell_type": "markdown",
      "metadata": {
        "id": "xH164lRvbnjm"
      },
      "source": [
        "Дерево с максимальной глубиной 7 показало f1-меру, равную 0.56. Это примерно равно тому, что показала до этого модель без гиперпараметра class_weight='balanced'. Посчитаем, чему равна метрика AUC-ROC:"
      ]
    },
    {
      "cell_type": "code",
      "execution_count": 25,
      "metadata": {
        "colab": {
          "base_uri": "https://localhost:8080/"
        },
        "id": "yz9o0Liwbnjm",
        "outputId": "c5383103-bccd-4a41-c00f-85bba31d021c"
      },
      "outputs": [
        {
          "output_type": "execute_result",
          "data": {
            "text/plain": [
              "0.8150158439838022"
            ]
          },
          "metadata": {},
          "execution_count": 25
        }
      ],
      "source": [
        "probabilities_valid = model_tree_weight.predict_proba(features_valid)\n",
        "probabilities_one_valid = probabilities_valid[:, 1]\n",
        "\n",
        "roc_auc_score(target_valid, probabilities_one_valid)"
      ]
    },
    {
      "cell_type": "markdown",
      "metadata": {
        "id": "INjv4eFgbnjn"
      },
      "source": [
        "Результат чуть выше, чем был без балансирования (0.806)"
      ]
    },
    {
      "cell_type": "markdown",
      "metadata": {
        "id": "ypzJqCBkbnjn"
      },
      "source": [
        "\n",
        "\n",
        "#### Увеличение количества меньшей категории\n",
        "\n",
        "Попробую умножить строки меньшей категории. Таким образом ядобьюсь баланса между категориями, и модель уже не будет выбирать вариант 0 в большинстве случаев."
      ]
    },
    {
      "cell_type": "code",
      "execution_count": 26,
      "metadata": {
        "colab": {
          "base_uri": "https://localhost:8080/"
        },
        "id": "ga8t8HLGbnjn",
        "outputId": "dbfff274-9172-4c0c-e889-b9d0c89d72cd"
      },
      "outputs": [
        {
          "output_type": "stream",
          "name": "stdout",
          "text": [
            "Длина новой тренировочной выборки с ответом 0 = 4335 \n",
            "Длина новой тренировочной выборки с ответом 1 = 4335\n"
          ]
        }
      ],
      "source": [
        "oversample = SMOTE(random_state=12345)\n",
        "features_train_upsampled, target_train_upsampled = oversample.fit_resample(features_train, target_train)\n",
        "\n",
        "#перемешаем ответы, чтобы добавить случайности для модели\n",
        "features_train_upsampled = shuffle(features_train_upsampled, random_state=12345)\n",
        "target_train_upsampled = shuffle(target_train_upsampled, random_state=12345)\n",
        "\n",
        "print('Длина новой тренировочной выборки с ответом 0 =', target_train_upsampled[target_train_upsampled == 0].shape[0],\n",
        "      '\\nДлина новой тренировочной выборки с ответом 1 =', target_train_upsampled[target_train_upsampled == 1].shape[0])"
      ]
    },
    {
      "cell_type": "markdown",
      "metadata": {
        "id": "2n1wgA3Lbnjo"
      },
      "source": [
        "Теперь у меня выборка идеально сбалансирована: соотношение классов ровно 1:1. Достигла я этого посредством умножения строк меньшего класса.\n",
        "\n",
        "Теперь обучу модель решающего дерева."
      ]
    },
    {
      "cell_type": "code",
      "execution_count": 27,
      "metadata": {
        "scrolled": true,
        "colab": {
          "base_uri": "https://localhost:8080/"
        },
        "id": "_vov3dOVbnjo",
        "outputId": "0274189e-e3f2-4675-92f8-5124830a6afe"
      },
      "outputs": [
        {
          "output_type": "stream",
          "name": "stdout",
          "text": [
            "Решающее дерево с глубиной  8 показало лучшую f1-меру 0.5772946859903381\n"
          ]
        }
      ],
      "source": [
        "model_tree_upsampled = None\n",
        "best_f1 = 0\n",
        "best_depth = 0\n",
        "for depth in range(1, 11):\n",
        "    model = DecisionTreeClassifier(random_state=12345, max_depth=depth, class_weight='balanced')\n",
        "    model.fit(features_train_upsampled, target_train_upsampled)\n",
        "    predicted_valid = model.predict(features_valid)\n",
        "    f1 = f1_score(target_valid, predicted_valid)\n",
        "    if f1 > best_f1:\n",
        "        best_depth = depth\n",
        "        best_f1 = f1\n",
        "        model_tree_upsampled = model\n",
        "\n",
        "print('Решающее дерево с глубиной ', best_depth, 'показало лучшую f1-меру', best_f1)"
      ]
    },
    {
      "cell_type": "markdown",
      "metadata": {
        "id": "QZi5NLjIbnjp"
      },
      "source": [
        "Результат — f1-мера равна 0.57. Посчитаю метрику AUC-ROC:"
      ]
    },
    {
      "cell_type": "code",
      "execution_count": 28,
      "metadata": {
        "scrolled": true,
        "colab": {
          "base_uri": "https://localhost:8080/"
        },
        "id": "YdhVlf-Obnjq",
        "outputId": "a8088b1e-65e2-44ae-c289-8632d23fc882"
      },
      "outputs": [
        {
          "output_type": "execute_result",
          "data": {
            "text/plain": [
              "0.8018316548495386"
            ]
          },
          "metadata": {},
          "execution_count": 28
        }
      ],
      "source": [
        "probabilities_valid = model_tree_upsampled.predict_proba(features_valid)\n",
        "probabilities_one_valid = probabilities_valid[:, 1]\n",
        "\n",
        "roc_auc_score(target_valid, probabilities_one_valid)"
      ]
    },
    {
      "cell_type": "markdown",
      "metadata": {
        "id": "amCYO8Vubnjq"
      },
      "source": [
        "Эта метрика получилась ниже, чем у метода с изменением весов.\n",
        "\n",
        "#### Уменьшение количества большей категории\n",
        "\n",
        "Попробую вместо увеличения меньшего класса уменьшить больший."
      ]
    },
    {
      "cell_type": "code",
      "execution_count": 29,
      "metadata": {
        "colab": {
          "base_uri": "https://localhost:8080/"
        },
        "id": "LTGCrqx4bnjq",
        "outputId": "7c2ee358-5dfb-40d2-dce1-d10efd885832"
      },
      "outputs": [
        {
          "output_type": "stream",
          "name": "stdout",
          "text": [
            "Длина новой тренировочной выборки с ответом 0 = 1119 \n",
            "Длина новой тренировочной выборки с ответом 1 = 1119\n"
          ]
        }
      ],
      "source": [
        "rus = RandomUnderSampler(random_state=12345)\n",
        "features_train_downsampled, target_train_downsampled = rus.fit_resample(features_train, target_train)\n",
        "\n",
        "#перемешаем ответы, чтобы добавить случайности для модели\n",
        "features_train_downsampled = shuffle(features_train_downsampled, random_state=12345)\n",
        "target_train_downsampled = shuffle(target_train_downsampled, random_state=12345)\n",
        "\n",
        "print('Длина новой тренировочной выборки с ответом 0 =', target_train_downsampled[target_train_downsampled == 0].shape[0],\n",
        "      '\\nДлина новой тренировочной выборки с ответом 1 =', target_train_downsampled[target_train_downsampled == 1].shape[0])"
      ]
    },
    {
      "cell_type": "markdown",
      "metadata": {
        "id": "uiH7Xyh-bnjr"
      },
      "source": [
        "Оба класса вновь стали сбалансированными относительно друг друга, но на этот раз это было сделано посредством удаления излишка строк в классе 0. За счёт этого выборка стала заметно меньше. Посмотрим, как это отразится на f1-мере."
      ]
    },
    {
      "cell_type": "code",
      "execution_count": 30,
      "metadata": {
        "colab": {
          "base_uri": "https://localhost:8080/"
        },
        "id": "hXlkMJuTbnjr",
        "outputId": "46188549-7ada-4a2a-b2fb-1d9ef1bf3206"
      },
      "outputs": [
        {
          "output_type": "stream",
          "name": "stdout",
          "text": [
            "Решающее дерево с глубиной  5 показало лучшую f1-меру 0.553191489361702\n"
          ]
        }
      ],
      "source": [
        "model_tree_downsampled = None\n",
        "best_f1 = 0\n",
        "best_depth = 0\n",
        "for depth in range(1, 11):\n",
        "    model = DecisionTreeClassifier(random_state=12345, max_depth=depth, class_weight='balanced')\n",
        "    model.fit(features_train_downsampled, target_train_downsampled)\n",
        "    predicted_valid = model.predict(features_valid)\n",
        "    f1 = f1_score(target_valid, predicted_valid)\n",
        "    if f1 > best_f1:\n",
        "        best_depth = depth\n",
        "        best_f1 = f1\n",
        "        model_tree_downsampled = model\n",
        "\n",
        "print('Решающее дерево с глубиной ', best_depth, 'показало лучшую f1-меру', best_f1)"
      ]
    },
    {
      "cell_type": "markdown",
      "metadata": {
        "id": "M-AOTsNCbnjs"
      },
      "source": [
        "f1-мера стала равна 0.55, что всего на одну сотую меньше, чем у изначальной выборки или у выборки с уравновешенными весами. Посчитаем метрику AUC-ROC:"
      ]
    },
    {
      "cell_type": "code",
      "execution_count": 31,
      "metadata": {
        "colab": {
          "base_uri": "https://localhost:8080/"
        },
        "id": "zX6skJdebnjs",
        "outputId": "8da8f045-c944-4a39-aca8-03af6e95d31f"
      },
      "outputs": [
        {
          "output_type": "execute_result",
          "data": {
            "text/plain": [
              "0.8094826807568983"
            ]
          },
          "metadata": {},
          "execution_count": 31
        }
      ],
      "source": [
        "probabilities_valid = model_tree_downsampled.predict_proba(features_valid)\n",
        "probabilities_one_valid = probabilities_valid[:, 1]\n",
        "\n",
        "roc_auc_score(target_valid, probabilities_one_valid)"
      ]
    },
    {
      "cell_type": "markdown",
      "metadata": {
        "id": "cPNoknaubnjt"
      },
      "source": [
        "Эта метрика в данном случае оказалась совсем чуть-чуть выше, чем у метода апсэмплинга.\n",
        "\n",
        "Таким образом, ни одно из одиночных деревьев решений не дало приемлемый результат f1-меры, которую нам по заданию необходимо довести до 0.59.\n",
        "\n",
        "### Случайный лес\n",
        "\n",
        "Теперь переходим к модели случайного леса. Он представляет собой несколько отдельных деревьев, которые дают свой результат и принимают окончательное решение голосованием. Это делает лес самым медленным, но в то же время самым точным инструментом прогноза.\n",
        "\n",
        "#### Изменение веса меньшего класса\n",
        "\n",
        "Применю гиперпараметр class_weight='balanced' теперь уже к случайному лесу. Посмотрим, изменится ли от этого f1-мера."
      ]
    },
    {
      "cell_type": "code",
      "execution_count": 32,
      "metadata": {
        "colab": {
          "base_uri": "https://localhost:8080/"
        },
        "id": "HqEOt0H-bnjw",
        "outputId": "c9b58da7-26b0-413e-d427-36d33a1495d4"
      },
      "outputs": [
        {
          "output_type": "stream",
          "name": "stdout",
          "text": [
            "Случайный лес с количеством деревьев 90 и их глубиной 10 показал лучшую f1-меру 0.6059743954480795\n"
          ]
        }
      ],
      "source": [
        "model_forest_weight = None\n",
        "best_est = 0\n",
        "best_depth = 0\n",
        "best_f1 = 0\n",
        "for est in range(10, 101, 10):\n",
        "    for depth in range (1, 11):\n",
        "        model = RandomForestClassifier(random_state=12345, n_estimators=est, max_depth=depth, class_weight='balanced')\n",
        "        model.fit(features_train, target_train)\n",
        "        predictions_valid = model.predict(features_valid)\n",
        "        f1 = f1_score(target_valid, predictions_valid)\n",
        "        if f1 > best_f1:\n",
        "            model_forest_weight = model\n",
        "            best_est = est\n",
        "            best_depth = depth\n",
        "            best_f1 = f1\n",
        "\n",
        "print ('Случайный лес с количеством деревьев', best_est, 'и их глубиной', best_depth, 'показал лучшую f1-меру', best_f1)"
      ]
    },
    {
      "cell_type": "markdown",
      "metadata": {
        "id": "HG48WFRCbnjw"
      },
      "source": [
        "f1-мера случайного леса с гиперпараметром class_weight='balanced' оказалась значительно выше, чем без него: 0.608 по сравнению с 0.546. Посмотрим метрику AUC-ROC:"
      ]
    },
    {
      "cell_type": "code",
      "execution_count": 33,
      "metadata": {
        "colab": {
          "base_uri": "https://localhost:8080/"
        },
        "id": "6SIcKX_5bnjw",
        "outputId": "d0267c5c-c420-4611-e04c-3c1a98b7161f"
      },
      "outputs": [
        {
          "output_type": "execute_result",
          "data": {
            "text/plain": [
              "0.8150158439838022"
            ]
          },
          "metadata": {},
          "execution_count": 33
        }
      ],
      "source": [
        "probabilities_valid = model_tree_weight.predict_proba(features_valid)\n",
        "probabilities_one_valid = probabilities_valid[:, 1]\n",
        "\n",
        "roc_auc_score(target_valid, probabilities_one_valid)"
      ]
    },
    {
      "cell_type": "markdown",
      "metadata": {
        "id": "fXa9RvAabnjx"
      },
      "source": [
        "Метрика AUC-ROC при этом не стала выше, а даже немного понизилась. Но поскольку наша основная метрика — это f1-score, то подобное изменение простительно.\n",
        "\n",
        "#### Увеличение количества меньшей категории\n",
        "\n",
        "Посмотрим, поможет ли увеличение количества строк меньшего класса в обучении случайного леса."
      ]
    },
    {
      "cell_type": "code",
      "execution_count": 34,
      "metadata": {
        "colab": {
          "base_uri": "https://localhost:8080/"
        },
        "id": "5tjkZNx7bnjx",
        "outputId": "38ba18cd-8f01-4f65-e5d2-0d85b3870265"
      },
      "outputs": [
        {
          "output_type": "stream",
          "name": "stdout",
          "text": [
            "Случайный лес с количеством деревьев 40 и их глубиной 9 показал лучшую f1-меру 0.6071428571428571\n"
          ]
        }
      ],
      "source": [
        "model_forest_upsampled = None\n",
        "best_est = 0\n",
        "best_depth = 0\n",
        "best_f1 = 0\n",
        "for est in range(10, 101, 10):\n",
        "    for depth in range (1, 11):\n",
        "        model = RandomForestClassifier(random_state=12345, n_estimators=est, max_depth=depth)\n",
        "        model.fit(features_train_upsampled, target_train_upsampled)\n",
        "        predictions_valid = model.predict(features_valid)\n",
        "        f1 = f1_score(target_valid, predictions_valid)\n",
        "        if f1 > best_f1:\n",
        "            model_forest_upsampled = model\n",
        "            best_est = est\n",
        "            best_depth = depth\n",
        "            best_f1 = f1\n",
        "\n",
        "print ('Случайный лес с количеством деревьев', best_est, 'и их глубиной', best_depth, 'показал лучшую f1-меру', best_f1)"
      ]
    },
    {
      "cell_type": "markdown",
      "metadata": {
        "id": "0KTl4tbkbnjx"
      },
      "source": [
        "Тут f1-мера стала хуже на две тысячных, чем в предыдущем методе, однако всё ещё лучше, чем вообще без балансирования. Проверим, чему равна метрика AUC-ROC:"
      ]
    },
    {
      "cell_type": "code",
      "execution_count": 35,
      "metadata": {
        "colab": {
          "base_uri": "https://localhost:8080/"
        },
        "id": "4zi0K1Vjbnjy",
        "outputId": "00ffec9b-3098-4bd4-8645-fb442240132a"
      },
      "outputs": [
        {
          "output_type": "execute_result",
          "data": {
            "text/plain": [
              "0.8018316548495386"
            ]
          },
          "metadata": {},
          "execution_count": 35
        }
      ],
      "source": [
        "probabilities_valid = model_tree_upsampled.predict_proba(features_valid)\n",
        "probabilities_one_valid = probabilities_valid[:, 1]\n",
        "\n",
        "roc_auc_score(target_valid, probabilities_one_valid)"
      ]
    },
    {
      "cell_type": "markdown",
      "metadata": {
        "id": "1z6c89r6bnjy"
      },
      "source": [
        "Она вновь упала, что говорит о том, что в соотношении ложноположительных ответов становится больше, а истинноположительных меньше.\n",
        "\n",
        "#### Уменьшение количества большей категории\n",
        "\n",
        "Вновь использую выборку, сбалансированную при помощи удаления случайных строк категории 0."
      ]
    },
    {
      "cell_type": "code",
      "execution_count": 36,
      "metadata": {
        "colab": {
          "base_uri": "https://localhost:8080/"
        },
        "id": "-EJ5Sx6gbnjz",
        "outputId": "3afc8295-764d-41f4-c235-bf5db0fcec63"
      },
      "outputs": [
        {
          "output_type": "stream",
          "name": "stdout",
          "text": [
            "Случайный лес с количеством деревьев 50 и их глубиной 9 показал лучшую f1-меру 0.5879732739420935\n"
          ]
        }
      ],
      "source": [
        "model_forest_downsampled = None\n",
        "best_est = 0\n",
        "best_depth = 0\n",
        "best_f1 = 0\n",
        "for est in range(10, 101, 10):\n",
        "    for depth in range (1, 11):\n",
        "        model = RandomForestClassifier(random_state=12345, n_estimators=est, max_depth=depth)\n",
        "        model.fit(features_train_downsampled, target_train_downsampled)\n",
        "        predictions_valid = model.predict(features_valid)\n",
        "        f1 = f1_score(target_valid, predictions_valid)\n",
        "        if f1 > best_f1:\n",
        "            model_forest_downsampled = model\n",
        "            best_est = est\n",
        "            best_depth = depth\n",
        "            best_f1 = f1\n",
        "\n",
        "print ('Случайный лес с количеством деревьев', best_est, 'и их глубиной', best_depth, 'показал лучшую f1-меру', best_f1)"
      ]
    },
    {
      "cell_type": "code",
      "execution_count": 37,
      "metadata": {
        "colab": {
          "base_uri": "https://localhost:8080/"
        },
        "id": "IpUUJuh6bnjz",
        "outputId": "2798fb1d-a7f0-4de2-d2fb-785023206df8"
      },
      "outputs": [
        {
          "output_type": "execute_result",
          "data": {
            "text/plain": [
              "0.8094826807568983"
            ]
          },
          "metadata": {},
          "execution_count": 37
        }
      ],
      "source": [
        "probabilities_valid = model_tree_downsampled.predict_proba(features_valid)\n",
        "probabilities_one_valid = probabilities_valid[:, 1]\n",
        "\n",
        "roc_auc_score(target_valid, probabilities_one_valid)"
      ]
    },
    {
      "cell_type": "markdown",
      "metadata": {
        "id": "hkID7M5gbnj0"
      },
      "source": [
        "Этой модели, обученной на уменьшенной выборке не хватило совсем чуть-чуть, чтобы получить нужный результат f1-меры. AUC-ROC также не самый высокий.\n",
        "\n",
        "### Логическая регрессия\n",
        "\n",
        "Для чистоты эксперимента, обучу также модель логической регрессии.\n",
        "\n",
        "#### Изменение веса меньшего класса\n",
        "\n",
        "Попробую добавить гиперпараметр class_weight='balanced' к модели логической регрессии."
      ]
    },
    {
      "cell_type": "code",
      "execution_count": 38,
      "metadata": {
        "colab": {
          "base_uri": "https://localhost:8080/"
        },
        "id": "PMWqNmDVbnj0",
        "outputId": "0536d9bb-642d-4a58-9946-3377beadeca4"
      },
      "outputs": [
        {
          "output_type": "stream",
          "name": "stdout",
          "text": [
            "Логическая регрессия показала f1-меру = 0.49506903353057197\n"
          ]
        }
      ],
      "source": [
        "model_reg_weight = LogisticRegression(random_state=12345, max_iter=1000, solver='liblinear', class_weight='balanced')\n",
        "model_reg_weight.fit(features_train, target_train)\n",
        "predictions_valid = model_reg_weight.predict(features_valid)\n",
        "f1 = f1_score(target_valid, predictions_valid)\n",
        "print('Логическая регрессия показала f1-меру =', f1)"
      ]
    },
    {
      "cell_type": "markdown",
      "metadata": {
        "id": "huDiVgzIbnj1"
      },
      "source": [
        "Результат стал значительно лучше, чем был на несбалансированной выборке, где регрессия показала всего 0.3. Посмотрим метрику AUC-ROC:"
      ]
    },
    {
      "cell_type": "code",
      "execution_count": 39,
      "metadata": {
        "colab": {
          "base_uri": "https://localhost:8080/"
        },
        "id": "GanauVAQbnj1",
        "outputId": "47375ee8-5453-4441-e596-7f07f7d106a0"
      },
      "outputs": [
        {
          "output_type": "execute_result",
          "data": {
            "text/plain": [
              "0.7747783347634317"
            ]
          },
          "metadata": {},
          "execution_count": 39
        }
      ],
      "source": [
        "probabilities_valid = model_reg_weight.predict_proba(features_valid)\n",
        "probabilities_one_valid = probabilities_valid[:, 1]\n",
        "\n",
        "roc_auc_score(target_valid, probabilities_one_valid)"
      ]
    },
    {
      "cell_type": "markdown",
      "metadata": {
        "id": "SC_XYouibnj1"
      },
      "source": [
        "Метрика AUC-ROC разительных изменений не претерпела.\n",
        "\n",
        "#### Увеличение количества меньшей категории\n",
        "\n",
        "Попробую применить выборку, прошедшую через апсемплинг для обучения логической регрессии."
      ]
    },
    {
      "cell_type": "code",
      "execution_count": 40,
      "metadata": {
        "colab": {
          "base_uri": "https://localhost:8080/"
        },
        "id": "fSLsUZLYbnj2",
        "outputId": "46e68ac4-1474-4c21-953e-a61a196473bd"
      },
      "outputs": [
        {
          "output_type": "stream",
          "name": "stdout",
          "text": [
            "Логическая регрессия показала f1-меру = 0.5015353121801434\n"
          ]
        }
      ],
      "source": [
        "model_reg_upsampled = LogisticRegression(random_state=12345, max_iter=1000, solver='liblinear')\n",
        "model_reg_upsampled.fit(features_train_upsampled, target_train_upsampled)\n",
        "predictions_valid = model_reg_upsampled.predict(features_valid)\n",
        "f1 = f1_score(target_valid, predictions_valid)\n",
        "print('Логическая регрессия показала f1-меру =', f1)"
      ]
    },
    {
      "cell_type": "markdown",
      "metadata": {
        "id": "J_sx-0Bubnj2"
      },
      "source": [
        "В результате, f1-мера ещё немного улучшилась по сравнению с простой перенастройкой весов. Посчитаем AUC-ROC:"
      ]
    },
    {
      "cell_type": "code",
      "execution_count": 41,
      "metadata": {
        "colab": {
          "base_uri": "https://localhost:8080/"
        },
        "id": "JYiEJ-6Jbnj2",
        "outputId": "60f1ba27-03d8-47ae-f4e3-c785377c30a6"
      },
      "outputs": [
        {
          "output_type": "execute_result",
          "data": {
            "text/plain": [
              "0.7718127624983064"
            ]
          },
          "metadata": {},
          "execution_count": 41
        }
      ],
      "source": [
        "probabilities_valid = model_reg_upsampled.predict_proba(features_valid)\n",
        "probabilities_one_valid = probabilities_valid[:, 1]\n",
        "\n",
        "roc_auc_score(target_valid, probabilities_one_valid)"
      ]
    },
    {
      "cell_type": "markdown",
      "metadata": {
        "id": "-LVPJYk5bnj3"
      },
      "source": [
        "И вновь, для логической регрессии она остаётся почти неизменна.\n",
        "\n",
        "#### Уменьшение количества большей категории\n",
        "\n",
        "Теперь применю выборку, прошедшую через даунсэмплинг, т.е. уменьшенную посредством удаления нескольких случайных строк категории 0."
      ]
    },
    {
      "cell_type": "code",
      "execution_count": 42,
      "metadata": {
        "colab": {
          "base_uri": "https://localhost:8080/"
        },
        "id": "blRANFKEbnj3",
        "outputId": "5a54d780-9364-4841-f989-e7c0ae4a6133"
      },
      "outputs": [
        {
          "output_type": "stream",
          "name": "stdout",
          "text": [
            "Логическая регрессия показала f1-меру = 0.49750249750249753\n"
          ]
        }
      ],
      "source": [
        "model_reg_downsampled = LogisticRegression(random_state=12345, max_iter=1000, solver='liblinear')\n",
        "model_reg_downsampled.fit(features_train_downsampled, target_train_downsampled)\n",
        "predictions_valid = model_reg_downsampled.predict(features_valid)\n",
        "f1 = f1_score(target_valid, predictions_valid)\n",
        "print('Логическая регрессия показала f1-меру =', f1)"
      ]
    },
    {
      "cell_type": "markdown",
      "metadata": {
        "id": "uNTZ6-8Wbnj3"
      },
      "source": [
        "Тут результат также примерно равен двум предыдущим, хотя и немного меньше чем у апсэмплинга. Посмотрим на метрику AUC-ROC:"
      ]
    },
    {
      "cell_type": "code",
      "execution_count": 43,
      "metadata": {
        "colab": {
          "base_uri": "https://localhost:8080/"
        },
        "id": "I-wvEL1Kbnj3",
        "outputId": "e3eaf12f-0394-4d2c-de3f-8faeab66decc"
      },
      "outputs": [
        {
          "output_type": "execute_result",
          "data": {
            "text/plain": [
              "0.77576999503229"
            ]
          },
          "metadata": {},
          "execution_count": 43
        }
      ],
      "source": [
        "probabilities_valid = model_reg_downsampled.predict_proba(features_valid)\n",
        "probabilities_one_valid = probabilities_valid[:, 1]\n",
        "\n",
        "roc_auc_score(target_valid, probabilities_one_valid)"
      ]
    },
    {
      "cell_type": "markdown",
      "metadata": {
        "id": "Q8I3XTFxbnj4"
      },
      "source": [
        "Как и ожидалось, она осталась без особых изменений. В любом случае можно сказать, что логическая регрессия для нашей задачи не подходит, так как ни одна из построенных в этом проекте моделей регрессии не дала даже приближённо нужного результата f1-меры."
      ]
    },
    {
      "cell_type": "markdown",
      "metadata": {
        "id": "9RdALclJbnj4"
      },
      "source": [
        "\n",
        "\n",
        "### Промежуточный вывод\n",
        "\n",
        "Единственной моделью, показавшей достаточно высокую f1-меру оказалась модель случайного дерева, обученная с применением гиперпараметра class_weight='balanced'. Её f1-мера на валидационной выборке равна 0.606. Это выше, чем минимально требуемое значение 0.59"
      ]
    },
    {
      "cell_type": "markdown",
      "metadata": {
        "id": "bqQPGcP1bnj7"
      },
      "source": [
        "## Тестирование модели"
      ]
    },
    {
      "cell_type": "markdown",
      "metadata": {
        "id": "V8CtsITHbnj7"
      },
      "source": [
        "Итак, я обучила оптимальную модель. Теперь необходимо провести её финальное тестирование на тренировочной выборке."
      ]
    },
    {
      "cell_type": "code",
      "execution_count": 44,
      "metadata": {
        "colab": {
          "base_uri": "https://localhost:8080/"
        },
        "id": "rA0joEl8bnj7",
        "outputId": "2dd898f6-a0b9-4554-82f0-29cbd856cdef"
      },
      "outputs": [
        {
          "output_type": "execute_result",
          "data": {
            "text/plain": [
              "0.5986206896551723"
            ]
          },
          "metadata": {},
          "execution_count": 44
        }
      ],
      "source": [
        "predict_test = model_forest_weight.predict(features_test)\n",
        "f1_score(target_test, predict_test)"
      ]
    },
    {
      "cell_type": "markdown",
      "metadata": {
        "id": "755pUjExbnj8"
      },
      "source": [
        "Наш случайный лес показал результат 0.599, что немого хуже, чем его же результат на валидационной выборке. Но такое отклонение допустимо: всё же, изначально обучение проходило на не идеальной обучающей выборке, да и изменение гиперпараметров могло бы сильно повлиять на результат. Так или иначе, минимальный порог модель проходит."
      ]
    },
    {
      "cell_type": "markdown",
      "metadata": {
        "id": "7m9hTkjXbnj8"
      },
      "source": [
        "## Вывод"
      ]
    },
    {
      "cell_type": "markdown",
      "metadata": {
        "id": "1hdgqMtDbnj8"
      },
      "source": [
        "В данном проекте по машинному обучению задачей было построить модель, которая будет предсказывать, уйдёт ли клиент из банка в ближайшее время. Модель должна иметь метрику f1-scale на тестовой выборке не ниже 0.59.\n",
        "\n",
        "Для выполнения данной задачи я произвела следующие действия:\n",
        "\n",
        "- Привела все столбцы к стилю snake_case;\n",
        "- Избавилась от пропусков;\n",
        "- Изменила типы и разрядности некоторых столбцов;\n",
        "- Разделила датасет на три выборки (обучающую, валидационную и тестовую);\n",
        "- Масштабировала численные признаки;\n",
        "- Выявила дисбаланс классов;\n",
        "- Обучила три выбранных модели с подбором гиперпараметров без учёта дисбаланса;\n",
        "- Перебрала три метода балансирования выборки и обучила на них модели;\n",
        "- Выбрала лучшую обученную модель из девяти получившихся;\n",
        "- Провела её финальное тестирование на тестовой выборке.\n",
        "\n",
        "Я обучила модель случайного леса, которая на валидационной выборке показала f1-меру 0.609, на тестовой 0.598. Оба результата проходят по требованию довести f1-меру до 0.59. Для дальнейшего улучшения результата стоит расширить исходный датасет, например взяв данные за больший период."
      ]
    }
  ],
  "metadata": {
    "ExecuteTimeLog": [
      {
        "duration": 438,
        "start_time": "2023-11-22T11:56:09.592Z"
      },
      {
        "duration": 2,
        "start_time": "2023-11-22T11:56:22.889Z"
      },
      {
        "duration": 80,
        "start_time": "2023-11-22T12:07:53.834Z"
      },
      {
        "duration": 169,
        "start_time": "2023-11-22T12:08:55.386Z"
      },
      {
        "duration": 65,
        "start_time": "2023-11-22T12:10:48.983Z"
      },
      {
        "duration": 7,
        "start_time": "2023-11-22T12:10:52.231Z"
      },
      {
        "duration": 7,
        "start_time": "2023-11-22T12:10:55.933Z"
      },
      {
        "duration": 6,
        "start_time": "2023-11-22T12:10:58.298Z"
      },
      {
        "duration": 7,
        "start_time": "2023-11-22T12:11:18.933Z"
      },
      {
        "duration": 8,
        "start_time": "2023-11-22T12:11:21.504Z"
      },
      {
        "duration": 5,
        "start_time": "2023-11-22T12:11:51.151Z"
      },
      {
        "duration": 8,
        "start_time": "2023-11-22T12:15:24.692Z"
      },
      {
        "duration": 7,
        "start_time": "2023-11-22T12:15:33.909Z"
      },
      {
        "duration": 7,
        "start_time": "2023-11-22T12:15:41.421Z"
      },
      {
        "duration": 7,
        "start_time": "2023-11-22T12:20:12.131Z"
      },
      {
        "duration": 4,
        "start_time": "2023-11-22T12:20:26.567Z"
      },
      {
        "duration": 6,
        "start_time": "2023-11-22T12:20:38.494Z"
      },
      {
        "duration": 4,
        "start_time": "2023-11-22T12:20:44.500Z"
      },
      {
        "duration": 7,
        "start_time": "2023-11-22T12:20:51.534Z"
      },
      {
        "duration": 5,
        "start_time": "2023-11-22T12:20:53.695Z"
      },
      {
        "duration": 2,
        "start_time": "2023-11-22T12:21:12.861Z"
      },
      {
        "duration": 59,
        "start_time": "2023-11-22T12:21:12.865Z"
      },
      {
        "duration": 7,
        "start_time": "2023-11-22T12:25:41.413Z"
      },
      {
        "duration": 6,
        "start_time": "2023-11-22T12:25:47.134Z"
      },
      {
        "duration": 6,
        "start_time": "2023-11-22T12:25:49.657Z"
      },
      {
        "duration": 5,
        "start_time": "2023-11-22T12:25:58.874Z"
      },
      {
        "duration": 6,
        "start_time": "2023-11-22T12:26:02.822Z"
      },
      {
        "duration": 13,
        "start_time": "2023-11-22T12:27:35.353Z"
      },
      {
        "duration": 13,
        "start_time": "2023-11-22T12:34:10.134Z"
      },
      {
        "duration": 4,
        "start_time": "2023-11-22T12:34:27.308Z"
      },
      {
        "duration": 13,
        "start_time": "2023-11-22T12:35:29.819Z"
      },
      {
        "duration": 7,
        "start_time": "2023-11-22T12:36:03.418Z"
      },
      {
        "duration": 4,
        "start_time": "2023-11-22T12:37:12.477Z"
      },
      {
        "duration": 8,
        "start_time": "2023-11-22T12:37:29.337Z"
      },
      {
        "duration": 17,
        "start_time": "2023-11-22T12:37:44.110Z"
      },
      {
        "duration": 15,
        "start_time": "2023-11-22T12:37:58.305Z"
      },
      {
        "duration": 2,
        "start_time": "2023-11-22T12:54:32.037Z"
      },
      {
        "duration": 132,
        "start_time": "2023-11-22T12:54:32.041Z"
      },
      {
        "duration": 12,
        "start_time": "2023-11-22T12:54:32.175Z"
      },
      {
        "duration": 42,
        "start_time": "2023-11-22T12:54:32.188Z"
      },
      {
        "duration": 21,
        "start_time": "2023-11-22T12:54:32.232Z"
      },
      {
        "duration": 22,
        "start_time": "2023-11-22T12:54:32.255Z"
      },
      {
        "duration": 26,
        "start_time": "2023-11-22T12:54:32.278Z"
      },
      {
        "duration": 28,
        "start_time": "2023-11-22T12:55:39.890Z"
      },
      {
        "duration": 19,
        "start_time": "2023-11-22T12:56:03.022Z"
      },
      {
        "duration": 20,
        "start_time": "2023-11-22T12:57:55.230Z"
      },
      {
        "duration": 20,
        "start_time": "2023-11-22T12:57:59.752Z"
      },
      {
        "duration": 9,
        "start_time": "2023-11-22T13:03:21.432Z"
      },
      {
        "duration": 4,
        "start_time": "2023-11-22T13:03:46.426Z"
      },
      {
        "duration": 12,
        "start_time": "2023-11-22T13:03:54.955Z"
      },
      {
        "duration": 12,
        "start_time": "2023-11-22T13:04:20.728Z"
      },
      {
        "duration": 11,
        "start_time": "2023-11-22T13:04:33.337Z"
      },
      {
        "duration": 4,
        "start_time": "2023-11-22T13:06:20.912Z"
      },
      {
        "duration": 8,
        "start_time": "2023-11-22T13:06:33.335Z"
      },
      {
        "duration": 8,
        "start_time": "2023-11-22T13:06:37.156Z"
      },
      {
        "duration": 11,
        "start_time": "2023-11-22T13:06:50.072Z"
      },
      {
        "duration": 13,
        "start_time": "2023-11-22T14:19:55.218Z"
      },
      {
        "duration": 15,
        "start_time": "2023-11-22T14:20:12.769Z"
      },
      {
        "duration": 4,
        "start_time": "2023-11-22T14:20:25.871Z"
      },
      {
        "duration": 22,
        "start_time": "2023-11-22T14:22:23.914Z"
      },
      {
        "duration": 17,
        "start_time": "2023-11-22T14:22:34.795Z"
      },
      {
        "duration": 16,
        "start_time": "2023-11-22T14:22:53.616Z"
      },
      {
        "duration": 7,
        "start_time": "2023-11-22T14:38:47.748Z"
      },
      {
        "duration": 703,
        "start_time": "2023-11-22T14:39:04.827Z"
      },
      {
        "duration": 8,
        "start_time": "2023-11-22T14:39:08.310Z"
      },
      {
        "duration": 5,
        "start_time": "2023-11-22T14:39:23.590Z"
      },
      {
        "duration": 8,
        "start_time": "2023-11-22T14:40:04.561Z"
      },
      {
        "duration": 45,
        "start_time": "2023-11-22T14:42:10.502Z"
      },
      {
        "duration": 1467,
        "start_time": "2023-11-22T14:42:33.160Z"
      },
      {
        "duration": 7,
        "start_time": "2023-11-22T14:42:52.330Z"
      },
      {
        "duration": 1311,
        "start_time": "2023-11-22T17:30:55.795Z"
      },
      {
        "duration": 565,
        "start_time": "2023-11-22T17:31:10.096Z"
      },
      {
        "duration": 109,
        "start_time": "2023-11-22T17:31:43.707Z"
      },
      {
        "duration": 116,
        "start_time": "2023-11-22T17:34:03.591Z"
      },
      {
        "duration": 127,
        "start_time": "2023-11-22T17:34:37.777Z"
      },
      {
        "duration": 38,
        "start_time": "2023-11-22T17:39:46.463Z"
      },
      {
        "duration": 33,
        "start_time": "2023-11-22T17:41:15.493Z"
      },
      {
        "duration": 60,
        "start_time": "2023-11-25T15:19:23.721Z"
      },
      {
        "duration": 1338,
        "start_time": "2023-11-25T15:19:28.181Z"
      },
      {
        "duration": 101,
        "start_time": "2023-11-25T15:19:29.521Z"
      },
      {
        "duration": 14,
        "start_time": "2023-11-25T15:19:29.624Z"
      },
      {
        "duration": 12,
        "start_time": "2023-11-25T15:19:29.640Z"
      },
      {
        "duration": 13,
        "start_time": "2023-11-25T15:19:29.654Z"
      },
      {
        "duration": 11,
        "start_time": "2023-11-25T15:19:29.669Z"
      },
      {
        "duration": 11,
        "start_time": "2023-11-25T15:19:29.682Z"
      },
      {
        "duration": 13,
        "start_time": "2023-11-25T15:19:29.695Z"
      },
      {
        "duration": 4,
        "start_time": "2023-11-25T15:19:29.709Z"
      },
      {
        "duration": 21,
        "start_time": "2023-11-25T15:19:29.715Z"
      },
      {
        "duration": 69,
        "start_time": "2023-11-25T15:19:31.844Z"
      },
      {
        "duration": 17,
        "start_time": "2023-11-25T17:09:19.894Z"
      },
      {
        "duration": 112,
        "start_time": "2023-11-25T17:09:37.858Z"
      },
      {
        "duration": 15,
        "start_time": "2023-11-25T17:09:47.211Z"
      },
      {
        "duration": 13,
        "start_time": "2023-11-25T17:10:21.463Z"
      },
      {
        "duration": 16,
        "start_time": "2023-11-25T17:14:49.497Z"
      },
      {
        "duration": 9,
        "start_time": "2023-11-25T17:19:04.588Z"
      },
      {
        "duration": 6,
        "start_time": "2023-11-25T17:19:12.911Z"
      },
      {
        "duration": 566,
        "start_time": "2023-11-25T17:19:17.569Z"
      },
      {
        "duration": 78,
        "start_time": "2023-11-25T17:19:23.739Z"
      },
      {
        "duration": 45,
        "start_time": "2023-11-25T17:19:27.837Z"
      },
      {
        "duration": 1271,
        "start_time": "2023-11-26T08:56:33.750Z"
      },
      {
        "duration": 4,
        "start_time": "2023-11-26T08:56:38.734Z"
      },
      {
        "duration": 148,
        "start_time": "2023-11-26T08:56:38.741Z"
      },
      {
        "duration": 18,
        "start_time": "2023-11-26T08:56:38.892Z"
      },
      {
        "duration": 22,
        "start_time": "2023-11-26T08:56:38.912Z"
      },
      {
        "duration": 11,
        "start_time": "2023-11-26T08:56:38.937Z"
      },
      {
        "duration": 21,
        "start_time": "2023-11-26T08:56:38.951Z"
      },
      {
        "duration": 41,
        "start_time": "2023-11-26T08:56:38.974Z"
      },
      {
        "duration": 16,
        "start_time": "2023-11-26T08:56:39.019Z"
      },
      {
        "duration": 8,
        "start_time": "2023-11-26T08:56:39.036Z"
      },
      {
        "duration": 30,
        "start_time": "2023-11-26T08:56:39.045Z"
      },
      {
        "duration": 44,
        "start_time": "2023-11-26T08:56:39.077Z"
      },
      {
        "duration": 17,
        "start_time": "2023-11-26T08:56:39.123Z"
      },
      {
        "duration": 14,
        "start_time": "2023-11-26T08:56:39.143Z"
      },
      {
        "duration": 7,
        "start_time": "2023-11-26T08:56:39.159Z"
      },
      {
        "duration": 674,
        "start_time": "2023-11-26T08:56:39.168Z"
      },
      {
        "duration": 39,
        "start_time": "2023-11-26T08:56:39.844Z"
      },
      {
        "duration": 16,
        "start_time": "2023-11-26T08:57:29.207Z"
      },
      {
        "duration": 3,
        "start_time": "2023-11-26T09:31:24.787Z"
      },
      {
        "duration": 3,
        "start_time": "2023-11-26T09:35:50.271Z"
      },
      {
        "duration": 41,
        "start_time": "2023-11-26T09:36:20.286Z"
      },
      {
        "duration": 35,
        "start_time": "2023-11-26T09:36:27.850Z"
      },
      {
        "duration": 34,
        "start_time": "2023-11-26T09:36:52.832Z"
      },
      {
        "duration": 35,
        "start_time": "2023-11-26T11:40:23.148Z"
      },
      {
        "duration": 2,
        "start_time": "2023-11-26T11:40:38.018Z"
      },
      {
        "duration": 4,
        "start_time": "2023-11-26T11:43:16.043Z"
      },
      {
        "duration": 65,
        "start_time": "2023-11-26T11:43:16.048Z"
      },
      {
        "duration": 16,
        "start_time": "2023-11-26T11:43:16.114Z"
      },
      {
        "duration": 13,
        "start_time": "2023-11-26T11:43:16.132Z"
      },
      {
        "duration": 8,
        "start_time": "2023-11-26T11:43:16.146Z"
      },
      {
        "duration": 16,
        "start_time": "2023-11-26T11:43:16.155Z"
      },
      {
        "duration": 39,
        "start_time": "2023-11-26T11:43:16.173Z"
      },
      {
        "duration": 16,
        "start_time": "2023-11-26T11:43:16.213Z"
      },
      {
        "duration": 4,
        "start_time": "2023-11-26T11:43:16.231Z"
      },
      {
        "duration": 24,
        "start_time": "2023-11-26T11:43:16.237Z"
      },
      {
        "duration": 46,
        "start_time": "2023-11-26T11:43:16.263Z"
      },
      {
        "duration": 18,
        "start_time": "2023-11-26T11:43:16.311Z"
      },
      {
        "duration": 9,
        "start_time": "2023-11-26T11:43:16.330Z"
      },
      {
        "duration": 7,
        "start_time": "2023-11-26T11:43:16.341Z"
      },
      {
        "duration": 171,
        "start_time": "2023-11-26T11:43:16.350Z"
      },
      {
        "duration": 36,
        "start_time": "2023-11-26T11:43:16.522Z"
      },
      {
        "duration": 7,
        "start_time": "2023-11-26T11:43:16.559Z"
      },
      {
        "duration": 35,
        "start_time": "2023-11-26T11:45:11.164Z"
      },
      {
        "duration": 36,
        "start_time": "2023-11-26T11:46:28.593Z"
      },
      {
        "duration": 7,
        "start_time": "2023-11-26T11:50:48.021Z"
      },
      {
        "duration": 126,
        "start_time": "2023-11-26T11:55:07.999Z"
      },
      {
        "duration": 13,
        "start_time": "2023-11-26T11:55:17.426Z"
      },
      {
        "duration": 13,
        "start_time": "2023-11-26T11:55:26.091Z"
      },
      {
        "duration": 12,
        "start_time": "2023-11-26T11:55:41.053Z"
      },
      {
        "duration": 14,
        "start_time": "2023-11-26T11:55:45.652Z"
      },
      {
        "duration": 144,
        "start_time": "2023-11-26T11:57:08.891Z"
      },
      {
        "duration": 145,
        "start_time": "2023-11-26T11:57:12.848Z"
      },
      {
        "duration": 41,
        "start_time": "2023-11-26T11:59:23.046Z"
      },
      {
        "duration": 41,
        "start_time": "2023-11-26T11:59:52.450Z"
      },
      {
        "duration": 46,
        "start_time": "2023-11-26T11:59:56.079Z"
      },
      {
        "duration": 44,
        "start_time": "2023-11-26T11:59:57.858Z"
      },
      {
        "duration": 50,
        "start_time": "2023-11-26T12:00:10.892Z"
      },
      {
        "duration": 13,
        "start_time": "2023-11-26T12:02:01.192Z"
      },
      {
        "duration": 51,
        "start_time": "2023-11-26T12:02:02.542Z"
      },
      {
        "duration": 45,
        "start_time": "2023-11-26T12:02:22.751Z"
      },
      {
        "duration": 59,
        "start_time": "2023-11-26T12:02:28.256Z"
      },
      {
        "duration": 16,
        "start_time": "2023-11-26T12:04:38.998Z"
      },
      {
        "duration": 3,
        "start_time": "2023-11-26T12:04:42.945Z"
      },
      {
        "duration": 14,
        "start_time": "2023-11-26T12:04:49.789Z"
      },
      {
        "duration": 42,
        "start_time": "2023-11-26T12:04:53.963Z"
      },
      {
        "duration": 16,
        "start_time": "2023-11-26T12:24:26.606Z"
      },
      {
        "duration": 15,
        "start_time": "2023-11-26T12:24:34.454Z"
      },
      {
        "duration": 12,
        "start_time": "2023-11-26T12:24:49.877Z"
      },
      {
        "duration": 12,
        "start_time": "2023-11-26T12:25:07.469Z"
      },
      {
        "duration": 21,
        "start_time": "2023-11-26T12:26:09.138Z"
      },
      {
        "duration": 11,
        "start_time": "2023-11-26T13:20:42.837Z"
      },
      {
        "duration": 19,
        "start_time": "2023-11-26T13:21:04.216Z"
      },
      {
        "duration": 12,
        "start_time": "2023-11-26T13:21:12.323Z"
      },
      {
        "duration": 13,
        "start_time": "2023-11-26T13:21:15.140Z"
      },
      {
        "duration": 13,
        "start_time": "2023-11-26T13:21:18.965Z"
      },
      {
        "duration": 19,
        "start_time": "2023-11-26T13:21:23.889Z"
      },
      {
        "duration": 23,
        "start_time": "2023-11-26T13:21:26.250Z"
      },
      {
        "duration": 16,
        "start_time": "2023-11-26T13:21:34.784Z"
      },
      {
        "duration": 18,
        "start_time": "2023-11-26T13:21:37.469Z"
      },
      {
        "duration": 19,
        "start_time": "2023-11-26T13:21:43.078Z"
      },
      {
        "duration": 100,
        "start_time": "2023-11-26T13:21:47.938Z"
      },
      {
        "duration": 25,
        "start_time": "2023-11-26T13:21:50.613Z"
      },
      {
        "duration": 25,
        "start_time": "2023-11-26T13:21:54.091Z"
      },
      {
        "duration": 25,
        "start_time": "2023-11-26T13:21:56.408Z"
      },
      {
        "duration": 41,
        "start_time": "2023-11-26T13:22:09.831Z"
      },
      {
        "duration": 35,
        "start_time": "2023-11-26T13:22:26.700Z"
      },
      {
        "duration": 27,
        "start_time": "2023-11-26T13:22:48.081Z"
      },
      {
        "duration": 43,
        "start_time": "2023-11-26T13:22:54.561Z"
      },
      {
        "duration": 36,
        "start_time": "2023-11-26T13:23:10.355Z"
      },
      {
        "duration": 42,
        "start_time": "2023-11-26T13:23:16.148Z"
      },
      {
        "duration": 21,
        "start_time": "2023-11-26T13:23:22.373Z"
      },
      {
        "duration": 12,
        "start_time": "2023-11-26T13:26:43.449Z"
      },
      {
        "duration": 22411,
        "start_time": "2023-11-26T13:27:02.901Z"
      },
      {
        "duration": 13,
        "start_time": "2023-11-26T13:30:17.455Z"
      },
      {
        "duration": 22629,
        "start_time": "2023-11-26T13:31:10.634Z"
      },
      {
        "duration": 30665,
        "start_time": "2023-11-26T13:32:27.039Z"
      },
      {
        "duration": 15209,
        "start_time": "2023-11-26T13:33:44.784Z"
      },
      {
        "duration": 6,
        "start_time": "2023-11-26T14:02:02.918Z"
      },
      {
        "duration": 56,
        "start_time": "2023-11-26T14:02:55.793Z"
      },
      {
        "duration": 4,
        "start_time": "2023-11-26T14:03:28.971Z"
      },
      {
        "duration": 49,
        "start_time": "2023-11-26T14:03:33.602Z"
      },
      {
        "duration": 46,
        "start_time": "2023-11-26T14:04:39.895Z"
      },
      {
        "duration": 55,
        "start_time": "2023-11-26T14:04:54.292Z"
      },
      {
        "duration": 148,
        "start_time": "2023-11-26T14:07:25.507Z"
      },
      {
        "duration": 4,
        "start_time": "2023-11-26T14:07:34.404Z"
      },
      {
        "duration": 62,
        "start_time": "2023-11-26T14:07:34.410Z"
      },
      {
        "duration": 16,
        "start_time": "2023-11-26T14:07:34.473Z"
      },
      {
        "duration": 17,
        "start_time": "2023-11-26T14:07:34.491Z"
      },
      {
        "duration": 8,
        "start_time": "2023-11-26T14:07:34.510Z"
      },
      {
        "duration": 12,
        "start_time": "2023-11-26T14:07:34.519Z"
      },
      {
        "duration": 13,
        "start_time": "2023-11-26T14:07:34.532Z"
      },
      {
        "duration": 20,
        "start_time": "2023-11-26T14:07:34.546Z"
      },
      {
        "duration": 4,
        "start_time": "2023-11-26T14:07:34.568Z"
      },
      {
        "duration": 54,
        "start_time": "2023-11-26T14:07:34.574Z"
      },
      {
        "duration": 14,
        "start_time": "2023-11-26T14:07:34.630Z"
      },
      {
        "duration": 17,
        "start_time": "2023-11-26T14:07:34.646Z"
      },
      {
        "duration": 10,
        "start_time": "2023-11-26T14:07:34.665Z"
      },
      {
        "duration": 34,
        "start_time": "2023-11-26T14:07:34.677Z"
      },
      {
        "duration": 154,
        "start_time": "2023-11-26T14:07:34.713Z"
      },
      {
        "duration": 41,
        "start_time": "2023-11-26T14:07:34.869Z"
      },
      {
        "duration": 34,
        "start_time": "2023-11-26T14:07:37.422Z"
      },
      {
        "duration": 8,
        "start_time": "2023-11-26T14:07:38.420Z"
      },
      {
        "duration": 6,
        "start_time": "2023-11-26T14:10:35.474Z"
      },
      {
        "duration": 34,
        "start_time": "2023-11-26T14:10:42.622Z"
      },
      {
        "duration": 8,
        "start_time": "2023-11-26T14:10:43.760Z"
      },
      {
        "duration": 16,
        "start_time": "2023-11-26T14:10:49.331Z"
      },
      {
        "duration": 16,
        "start_time": "2023-11-26T14:10:58.473Z"
      },
      {
        "duration": 43,
        "start_time": "2023-11-26T14:10:59.484Z"
      },
      {
        "duration": 9,
        "start_time": "2023-11-26T14:11:01.070Z"
      },
      {
        "duration": 13,
        "start_time": "2023-11-26T14:11:05.248Z"
      },
      {
        "duration": 21,
        "start_time": "2023-11-26T14:11:09.150Z"
      },
      {
        "duration": 8,
        "start_time": "2023-11-26T14:11:12.383Z"
      },
      {
        "duration": 183,
        "start_time": "2023-11-26T14:14:27.204Z"
      },
      {
        "duration": 162,
        "start_time": "2023-11-26T14:14:52.950Z"
      },
      {
        "duration": 109,
        "start_time": "2023-11-26T14:15:20.899Z"
      },
      {
        "duration": 8,
        "start_time": "2023-11-26T14:20:29.003Z"
      },
      {
        "duration": 16082,
        "start_time": "2023-11-26T14:25:00.175Z"
      },
      {
        "duration": 230,
        "start_time": "2023-11-26T14:25:44.042Z"
      },
      {
        "duration": 30955,
        "start_time": "2023-11-26T14:26:12.024Z"
      },
      {
        "duration": 25,
        "start_time": "2023-11-26T14:28:30.533Z"
      },
      {
        "duration": 641,
        "start_time": "2023-11-26T14:31:08.779Z"
      },
      {
        "duration": 538,
        "start_time": "2023-11-26T14:31:25.578Z"
      },
      {
        "duration": 102,
        "start_time": "2023-11-26T14:32:53.406Z"
      },
      {
        "duration": 452,
        "start_time": "2023-11-26T14:33:14.979Z"
      },
      {
        "duration": 46,
        "start_time": "2023-11-26T14:33:37.261Z"
      },
      {
        "duration": 42,
        "start_time": "2023-11-26T14:34:02.430Z"
      },
      {
        "duration": 47,
        "start_time": "2023-11-26T14:34:37.678Z"
      },
      {
        "duration": 13,
        "start_time": "2023-11-26T14:35:53.170Z"
      },
      {
        "duration": 48,
        "start_time": "2023-11-26T14:48:18.548Z"
      },
      {
        "duration": 25,
        "start_time": "2023-11-26T14:48:54.571Z"
      },
      {
        "duration": 23,
        "start_time": "2023-11-26T14:51:19.121Z"
      },
      {
        "duration": 23,
        "start_time": "2023-11-26T14:51:21.171Z"
      },
      {
        "duration": 8,
        "start_time": "2023-11-26T14:52:54.331Z"
      },
      {
        "duration": 26,
        "start_time": "2023-11-26T14:56:18.349Z"
      },
      {
        "duration": 1766,
        "start_time": "2023-11-26T20:27:44.608Z"
      },
      {
        "duration": 112,
        "start_time": "2023-11-26T20:27:46.377Z"
      },
      {
        "duration": 13,
        "start_time": "2023-11-26T20:27:46.490Z"
      },
      {
        "duration": 10,
        "start_time": "2023-11-26T20:27:46.505Z"
      },
      {
        "duration": 14,
        "start_time": "2023-11-26T20:27:46.517Z"
      },
      {
        "duration": 10,
        "start_time": "2023-11-26T20:27:46.532Z"
      },
      {
        "duration": 40,
        "start_time": "2023-11-26T20:27:46.544Z"
      },
      {
        "duration": 18,
        "start_time": "2023-11-26T20:27:46.586Z"
      },
      {
        "duration": 5,
        "start_time": "2023-11-26T20:27:46.606Z"
      },
      {
        "duration": 52,
        "start_time": "2023-11-26T20:27:46.614Z"
      },
      {
        "duration": 23,
        "start_time": "2023-11-26T20:27:46.668Z"
      },
      {
        "duration": 16,
        "start_time": "2023-11-26T20:27:46.692Z"
      },
      {
        "duration": 8,
        "start_time": "2023-11-26T20:27:46.710Z"
      },
      {
        "duration": 7,
        "start_time": "2023-11-26T20:27:46.719Z"
      },
      {
        "duration": 672,
        "start_time": "2023-11-26T20:27:46.727Z"
      },
      {
        "duration": 32,
        "start_time": "2023-11-26T20:27:47.401Z"
      },
      {
        "duration": 8,
        "start_time": "2023-11-26T20:27:47.434Z"
      },
      {
        "duration": 28,
        "start_time": "2023-11-26T20:27:47.444Z"
      },
      {
        "duration": 42,
        "start_time": "2023-11-26T20:27:47.474Z"
      },
      {
        "duration": 22,
        "start_time": "2023-11-26T20:27:47.517Z"
      },
      {
        "duration": 58,
        "start_time": "2023-11-26T20:27:47.541Z"
      },
      {
        "duration": 10,
        "start_time": "2023-11-26T20:27:47.600Z"
      },
      {
        "duration": 20,
        "start_time": "2023-11-26T20:27:47.611Z"
      },
      {
        "duration": 146,
        "start_time": "2023-11-26T20:27:47.632Z"
      },
      {
        "duration": 0,
        "start_time": "2023-11-26T20:27:47.779Z"
      },
      {
        "duration": 0,
        "start_time": "2023-11-26T20:27:47.781Z"
      },
      {
        "duration": 0,
        "start_time": "2023-11-26T20:27:47.782Z"
      },
      {
        "duration": 0,
        "start_time": "2023-11-26T20:27:47.784Z"
      },
      {
        "duration": 0,
        "start_time": "2023-11-26T20:27:47.785Z"
      },
      {
        "duration": 0,
        "start_time": "2023-11-26T20:27:47.786Z"
      },
      {
        "duration": 17,
        "start_time": "2023-11-26T20:30:15.680Z"
      },
      {
        "duration": 9,
        "start_time": "2023-11-26T20:31:41.056Z"
      },
      {
        "duration": 6766,
        "start_time": "2023-11-27T09:22:20.099Z"
      },
      {
        "duration": 2405,
        "start_time": "2023-11-27T09:22:38.016Z"
      },
      {
        "duration": 2306,
        "start_time": "2023-11-27T09:45:23.118Z"
      },
      {
        "duration": 869,
        "start_time": "2023-11-27T09:45:25.426Z"
      },
      {
        "duration": 97,
        "start_time": "2023-11-27T09:45:26.296Z"
      },
      {
        "duration": 14,
        "start_time": "2023-11-27T09:45:26.395Z"
      },
      {
        "duration": 12,
        "start_time": "2023-11-27T09:45:26.412Z"
      },
      {
        "duration": 8,
        "start_time": "2023-11-27T09:45:26.426Z"
      },
      {
        "duration": 31,
        "start_time": "2023-11-27T09:45:26.436Z"
      },
      {
        "duration": 12,
        "start_time": "2023-11-27T09:45:26.468Z"
      },
      {
        "duration": 13,
        "start_time": "2023-11-27T09:45:26.481Z"
      },
      {
        "duration": 4,
        "start_time": "2023-11-27T09:45:26.495Z"
      },
      {
        "duration": 20,
        "start_time": "2023-11-27T09:45:26.500Z"
      },
      {
        "duration": 13,
        "start_time": "2023-11-27T09:45:26.521Z"
      },
      {
        "duration": 15,
        "start_time": "2023-11-27T09:45:26.566Z"
      },
      {
        "duration": 8,
        "start_time": "2023-11-27T09:45:26.583Z"
      },
      {
        "duration": 6,
        "start_time": "2023-11-27T09:45:26.592Z"
      },
      {
        "duration": 576,
        "start_time": "2023-11-27T09:45:26.599Z"
      },
      {
        "duration": 105,
        "start_time": "2023-11-27T09:45:39.017Z"
      },
      {
        "duration": 155,
        "start_time": "2023-11-27T09:45:54.390Z"
      },
      {
        "duration": 16,
        "start_time": "2023-11-27T09:46:20.358Z"
      },
      {
        "duration": 151,
        "start_time": "2023-11-27T09:46:41.548Z"
      },
      {
        "duration": 159,
        "start_time": "2023-11-27T09:46:53.636Z"
      },
      {
        "duration": 149,
        "start_time": "2023-11-27T09:51:28.654Z"
      },
      {
        "duration": 7,
        "start_time": "2023-11-27T09:51:44.475Z"
      },
      {
        "duration": 8,
        "start_time": "2023-11-27T09:51:53.456Z"
      },
      {
        "duration": 20576,
        "start_time": "2023-11-27T09:53:40.396Z"
      },
      {
        "duration": 158,
        "start_time": "2023-11-27T09:54:00.974Z"
      },
      {
        "duration": 32,
        "start_time": "2023-11-27T09:56:43.418Z"
      },
      {
        "duration": 4,
        "start_time": "2023-11-27T10:28:29.470Z"
      },
      {
        "duration": 28499,
        "start_time": "2023-11-27T10:28:47.695Z"
      },
      {
        "duration": 4,
        "start_time": "2023-11-27T10:29:16.196Z"
      },
      {
        "duration": 74,
        "start_time": "2023-11-27T10:29:16.201Z"
      },
      {
        "duration": 14,
        "start_time": "2023-11-27T10:29:16.277Z"
      },
      {
        "duration": 25,
        "start_time": "2023-11-27T10:29:16.292Z"
      },
      {
        "duration": 8,
        "start_time": "2023-11-27T10:29:16.319Z"
      },
      {
        "duration": 17,
        "start_time": "2023-11-27T10:29:16.328Z"
      },
      {
        "duration": 23,
        "start_time": "2023-11-27T10:29:16.347Z"
      },
      {
        "duration": 16,
        "start_time": "2023-11-27T10:29:16.372Z"
      },
      {
        "duration": 4,
        "start_time": "2023-11-27T10:29:16.391Z"
      },
      {
        "duration": 31,
        "start_time": "2023-11-27T10:29:16.396Z"
      },
      {
        "duration": 13,
        "start_time": "2023-11-27T10:29:16.429Z"
      },
      {
        "duration": 29,
        "start_time": "2023-11-27T10:29:16.444Z"
      },
      {
        "duration": 8,
        "start_time": "2023-11-27T10:29:16.475Z"
      },
      {
        "duration": 11,
        "start_time": "2023-11-27T10:29:16.484Z"
      },
      {
        "duration": 160,
        "start_time": "2023-11-27T10:29:16.496Z"
      },
      {
        "duration": 170,
        "start_time": "2023-11-27T10:29:16.664Z"
      },
      {
        "duration": 9,
        "start_time": "2023-11-27T10:29:16.835Z"
      },
      {
        "duration": 20708,
        "start_time": "2023-11-27T10:29:16.846Z"
      },
      {
        "duration": 33,
        "start_time": "2023-11-27T10:29:37.556Z"
      },
      {
        "duration": 10,
        "start_time": "2023-11-27T10:30:10.502Z"
      },
      {
        "duration": 27,
        "start_time": "2023-11-27T10:32:17.389Z"
      },
      {
        "duration": 19,
        "start_time": "2023-11-27T10:35:36.746Z"
      },
      {
        "duration": 21,
        "start_time": "2023-11-27T10:37:33.056Z"
      },
      {
        "duration": 179,
        "start_time": "2023-11-27T11:06:19.060Z"
      },
      {
        "duration": 45,
        "start_time": "2023-11-27T11:10:15.295Z"
      },
      {
        "duration": 6599,
        "start_time": "2023-11-27T11:14:23.398Z"
      },
      {
        "duration": 40,
        "start_time": "2023-11-27T11:14:33.775Z"
      },
      {
        "duration": 56,
        "start_time": "2023-11-27T11:14:39.296Z"
      },
      {
        "duration": 14,
        "start_time": "2023-11-27T11:14:39.353Z"
      },
      {
        "duration": 12,
        "start_time": "2023-11-27T11:14:39.431Z"
      },
      {
        "duration": 7,
        "start_time": "2023-11-27T11:14:39.541Z"
      },
      {
        "duration": 11,
        "start_time": "2023-11-27T11:14:39.550Z"
      },
      {
        "duration": 14,
        "start_time": "2023-11-27T11:14:39.656Z"
      },
      {
        "duration": 14,
        "start_time": "2023-11-27T11:14:39.713Z"
      },
      {
        "duration": 5,
        "start_time": "2023-11-27T11:14:39.757Z"
      },
      {
        "duration": 25,
        "start_time": "2023-11-27T11:14:39.793Z"
      },
      {
        "duration": 15,
        "start_time": "2023-11-27T11:14:39.867Z"
      },
      {
        "duration": 17,
        "start_time": "2023-11-27T11:14:39.946Z"
      },
      {
        "duration": 8,
        "start_time": "2023-11-27T11:14:40.151Z"
      },
      {
        "duration": 6,
        "start_time": "2023-11-27T11:14:40.255Z"
      },
      {
        "duration": 135,
        "start_time": "2023-11-27T11:14:40.415Z"
      },
      {
        "duration": 190,
        "start_time": "2023-11-27T11:14:40.552Z"
      },
      {
        "duration": 9,
        "start_time": "2023-11-27T11:14:40.743Z"
      },
      {
        "duration": 21694,
        "start_time": "2023-11-27T11:14:47.614Z"
      },
      {
        "duration": 34,
        "start_time": "2023-11-27T11:15:09.310Z"
      },
      {
        "duration": 181,
        "start_time": "2023-11-27T11:15:09.346Z"
      },
      {
        "duration": 6,
        "start_time": "2023-11-27T11:15:13.171Z"
      },
      {
        "duration": 18,
        "start_time": "2023-11-27T11:19:29.708Z"
      },
      {
        "duration": 30,
        "start_time": "2023-11-27T11:19:48.391Z"
      },
      {
        "duration": 18,
        "start_time": "2023-11-27T11:20:24.256Z"
      },
      {
        "duration": 17,
        "start_time": "2023-11-27T11:20:34.113Z"
      },
      {
        "duration": 17,
        "start_time": "2023-11-27T11:20:50.616Z"
      },
      {
        "duration": 17,
        "start_time": "2023-11-27T11:21:28.029Z"
      },
      {
        "duration": 22,
        "start_time": "2023-11-27T12:07:04.994Z"
      },
      {
        "duration": 24,
        "start_time": "2023-11-27T12:30:08.337Z"
      },
      {
        "duration": 32,
        "start_time": "2023-11-27T12:30:16.476Z"
      },
      {
        "duration": 21,
        "start_time": "2023-11-27T12:30:27.873Z"
      },
      {
        "duration": 178,
        "start_time": "2023-11-27T12:33:31.505Z"
      },
      {
        "duration": 236,
        "start_time": "2023-11-27T12:34:12.811Z"
      },
      {
        "duration": 9,
        "start_time": "2023-11-27T12:36:15.706Z"
      },
      {
        "duration": 9,
        "start_time": "2023-11-27T12:37:52.310Z"
      },
      {
        "duration": 107,
        "start_time": "2023-11-27T12:38:38.794Z"
      },
      {
        "duration": 4,
        "start_time": "2023-11-27T12:40:24.738Z"
      },
      {
        "duration": 12,
        "start_time": "2023-11-27T12:42:36.470Z"
      },
      {
        "duration": 98,
        "start_time": "2023-11-27T12:44:56.543Z"
      },
      {
        "duration": 98,
        "start_time": "2023-11-27T12:46:38.225Z"
      },
      {
        "duration": 9,
        "start_time": "2023-11-27T12:46:39.706Z"
      },
      {
        "duration": 234,
        "start_time": "2023-11-27T12:46:48.221Z"
      },
      {
        "duration": 8,
        "start_time": "2023-11-27T12:46:49.074Z"
      },
      {
        "duration": 11,
        "start_time": "2023-11-27T12:46:50.093Z"
      },
      {
        "duration": 99,
        "start_time": "2023-11-27T12:46:50.588Z"
      },
      {
        "duration": 8,
        "start_time": "2023-11-27T12:46:51.338Z"
      },
      {
        "duration": 20948,
        "start_time": "2023-11-27T12:51:34.340Z"
      },
      {
        "duration": 7,
        "start_time": "2023-11-27T12:55:00.784Z"
      },
      {
        "duration": 28853,
        "start_time": "2023-11-27T12:58:17.545Z"
      },
      {
        "duration": 9,
        "start_time": "2023-11-27T13:16:03.838Z"
      },
      {
        "duration": 13469,
        "start_time": "2023-11-27T13:20:31.389Z"
      },
      {
        "duration": 13834,
        "start_time": "2023-11-27T14:19:08.780Z"
      },
      {
        "duration": 13273,
        "start_time": "2023-11-27T15:52:11.383Z"
      },
      {
        "duration": 9,
        "start_time": "2023-11-27T15:54:50.038Z"
      },
      {
        "duration": 45,
        "start_time": "2023-11-27T19:26:31.037Z"
      },
      {
        "duration": 10435,
        "start_time": "2023-11-27T19:26:37.219Z"
      },
      {
        "duration": 955,
        "start_time": "2023-11-27T19:26:47.656Z"
      },
      {
        "duration": 99,
        "start_time": "2023-11-27T19:26:48.613Z"
      },
      {
        "duration": 12,
        "start_time": "2023-11-27T19:26:48.714Z"
      },
      {
        "duration": 23,
        "start_time": "2023-11-27T19:26:48.728Z"
      },
      {
        "duration": 7,
        "start_time": "2023-11-27T19:26:48.753Z"
      },
      {
        "duration": 20,
        "start_time": "2023-11-27T19:26:48.761Z"
      },
      {
        "duration": 33,
        "start_time": "2023-11-27T19:26:48.782Z"
      },
      {
        "duration": 15,
        "start_time": "2023-11-27T19:26:48.816Z"
      },
      {
        "duration": 4,
        "start_time": "2023-11-27T19:26:48.833Z"
      },
      {
        "duration": 23,
        "start_time": "2023-11-27T19:26:48.838Z"
      },
      {
        "duration": 49,
        "start_time": "2023-11-27T19:26:48.863Z"
      },
      {
        "duration": 17,
        "start_time": "2023-11-27T19:26:48.914Z"
      },
      {
        "duration": 9,
        "start_time": "2023-11-27T19:26:48.936Z"
      },
      {
        "duration": 9,
        "start_time": "2023-11-27T19:26:48.948Z"
      },
      {
        "duration": 605,
        "start_time": "2023-11-27T19:26:48.960Z"
      },
      {
        "duration": 170,
        "start_time": "2023-11-27T19:26:49.567Z"
      },
      {
        "duration": 8,
        "start_time": "2023-11-27T19:26:49.739Z"
      },
      {
        "duration": 19936,
        "start_time": "2023-11-27T19:26:49.748Z"
      },
      {
        "duration": 35,
        "start_time": "2023-11-27T19:27:09.685Z"
      },
      {
        "duration": 171,
        "start_time": "2023-11-27T19:27:09.721Z"
      },
      {
        "duration": 20,
        "start_time": "2023-11-27T19:27:09.894Z"
      },
      {
        "duration": 21,
        "start_time": "2023-11-27T19:27:09.915Z"
      },
      {
        "duration": 256,
        "start_time": "2023-11-27T19:27:09.937Z"
      },
      {
        "duration": 9,
        "start_time": "2023-11-27T19:27:10.194Z"
      },
      {
        "duration": 12,
        "start_time": "2023-11-27T19:27:10.211Z"
      },
      {
        "duration": 114,
        "start_time": "2023-11-27T19:27:10.225Z"
      },
      {
        "duration": 8,
        "start_time": "2023-11-27T19:27:10.340Z"
      },
      {
        "duration": 19898,
        "start_time": "2023-11-27T19:27:10.350Z"
      },
      {
        "duration": 9,
        "start_time": "2023-11-27T19:27:30.249Z"
      },
      {
        "duration": 27571,
        "start_time": "2023-11-27T19:27:30.259Z"
      },
      {
        "duration": 8,
        "start_time": "2023-11-27T19:27:57.832Z"
      },
      {
        "duration": 12482,
        "start_time": "2023-11-27T19:27:57.842Z"
      },
      {
        "duration": 9,
        "start_time": "2023-11-27T19:28:10.326Z"
      },
      {
        "duration": 10,
        "start_time": "2023-11-27T19:28:10.336Z"
      },
      {
        "duration": 21,
        "start_time": "2023-11-27T19:35:12.998Z"
      },
      {
        "duration": 25,
        "start_time": "2023-11-27T19:35:29.795Z"
      },
      {
        "duration": 4723,
        "start_time": "2023-11-27T19:36:44.294Z"
      },
      {
        "duration": 4,
        "start_time": "2023-11-27T19:36:49.020Z"
      },
      {
        "duration": 67,
        "start_time": "2023-11-27T19:36:49.025Z"
      },
      {
        "duration": 13,
        "start_time": "2023-11-27T19:36:49.093Z"
      },
      {
        "duration": 21,
        "start_time": "2023-11-27T19:36:49.108Z"
      },
      {
        "duration": 8,
        "start_time": "2023-11-27T19:36:49.130Z"
      },
      {
        "duration": 11,
        "start_time": "2023-11-27T19:36:49.139Z"
      },
      {
        "duration": 13,
        "start_time": "2023-11-27T19:36:49.152Z"
      },
      {
        "duration": 14,
        "start_time": "2023-11-27T19:36:49.166Z"
      },
      {
        "duration": 4,
        "start_time": "2023-11-27T19:36:49.183Z"
      },
      {
        "duration": 21,
        "start_time": "2023-11-27T19:36:49.211Z"
      },
      {
        "duration": 13,
        "start_time": "2023-11-27T19:36:49.233Z"
      },
      {
        "duration": 15,
        "start_time": "2023-11-27T19:36:49.248Z"
      },
      {
        "duration": 8,
        "start_time": "2023-11-27T19:36:49.264Z"
      },
      {
        "duration": 38,
        "start_time": "2023-11-27T19:36:49.273Z"
      },
      {
        "duration": 35,
        "start_time": "2023-11-27T19:36:49.313Z"
      },
      {
        "duration": 130,
        "start_time": "2023-11-27T19:36:55.677Z"
      },
      {
        "duration": 153,
        "start_time": "2023-11-27T19:36:57.760Z"
      },
      {
        "duration": 9,
        "start_time": "2023-11-27T19:37:05.478Z"
      },
      {
        "duration": 19778,
        "start_time": "2023-11-27T19:37:14.021Z"
      },
      {
        "duration": 27,
        "start_time": "2023-11-27T19:37:45.976Z"
      },
      {
        "duration": 170,
        "start_time": "2023-11-27T19:37:53.015Z"
      },
      {
        "duration": 9,
        "start_time": "2023-11-27T19:38:00.124Z"
      },
      {
        "duration": 34,
        "start_time": "2023-11-27T19:38:03.084Z"
      },
      {
        "duration": 264,
        "start_time": "2023-11-27T19:38:09.995Z"
      },
      {
        "duration": 8,
        "start_time": "2023-11-27T19:38:31.715Z"
      },
      {
        "duration": 10,
        "start_time": "2023-11-27T19:38:42.900Z"
      },
      {
        "duration": 95,
        "start_time": "2023-11-27T19:38:46.559Z"
      },
      {
        "duration": 8,
        "start_time": "2023-11-27T19:38:50.840Z"
      },
      {
        "duration": 20016,
        "start_time": "2023-11-27T19:38:59.521Z"
      },
      {
        "duration": 8,
        "start_time": "2023-11-27T19:39:33.487Z"
      },
      {
        "duration": 30560,
        "start_time": "2023-11-27T19:39:43.648Z"
      },
      {
        "duration": 9,
        "start_time": "2023-11-27T19:41:12.768Z"
      },
      {
        "duration": 12594,
        "start_time": "2023-11-27T19:41:18.127Z"
      },
      {
        "duration": 12470,
        "start_time": "2023-11-27T19:41:36.080Z"
      },
      {
        "duration": 7,
        "start_time": "2023-11-27T19:41:51.853Z"
      },
      {
        "duration": 22,
        "start_time": "2023-11-27T19:58:34.399Z"
      },
      {
        "duration": 10,
        "start_time": "2023-11-27T19:59:39.196Z"
      },
      {
        "duration": 21,
        "start_time": "2023-11-27T20:01:00.247Z"
      },
      {
        "duration": 21,
        "start_time": "2023-11-27T20:02:16.720Z"
      },
      {
        "duration": 11,
        "start_time": "2023-11-27T20:02:23.694Z"
      },
      {
        "duration": 25,
        "start_time": "2023-11-27T20:04:09.679Z"
      },
      {
        "duration": 10,
        "start_time": "2023-11-27T20:05:27.051Z"
      },
      {
        "duration": 15,
        "start_time": "2023-11-27T20:07:32.934Z"
      },
      {
        "duration": 10,
        "start_time": "2023-11-27T20:08:29.001Z"
      },
      {
        "duration": 27,
        "start_time": "2023-11-27T20:39:40.886Z"
      },
      {
        "duration": 36,
        "start_time": "2023-11-27T20:40:24.240Z"
      },
      {
        "duration": 25,
        "start_time": "2023-11-27T20:40:35.076Z"
      },
      {
        "duration": 12450,
        "start_time": "2023-11-28T09:28:04.771Z"
      },
      {
        "duration": 1010,
        "start_time": "2023-11-28T09:28:17.224Z"
      },
      {
        "duration": 172,
        "start_time": "2023-11-28T09:28:18.235Z"
      },
      {
        "duration": 14,
        "start_time": "2023-11-28T09:28:18.409Z"
      },
      {
        "duration": 41,
        "start_time": "2023-11-28T09:28:18.425Z"
      },
      {
        "duration": 10,
        "start_time": "2023-11-28T09:28:18.468Z"
      },
      {
        "duration": 37,
        "start_time": "2023-11-28T09:28:18.479Z"
      },
      {
        "duration": 25,
        "start_time": "2023-11-28T09:28:18.518Z"
      },
      {
        "duration": 30,
        "start_time": "2023-11-28T09:28:18.545Z"
      },
      {
        "duration": 21,
        "start_time": "2023-11-28T09:28:18.579Z"
      },
      {
        "duration": 56,
        "start_time": "2023-11-28T09:28:18.601Z"
      },
      {
        "duration": 28,
        "start_time": "2023-11-28T09:28:18.659Z"
      },
      {
        "duration": 33,
        "start_time": "2023-11-28T09:28:18.689Z"
      },
      {
        "duration": 8,
        "start_time": "2023-11-28T09:28:18.725Z"
      },
      {
        "duration": 28,
        "start_time": "2023-11-28T09:28:18.734Z"
      },
      {
        "duration": 76,
        "start_time": "2023-11-28T09:28:18.763Z"
      },
      {
        "duration": 602,
        "start_time": "2023-11-28T09:28:18.842Z"
      },
      {
        "duration": 162,
        "start_time": "2023-11-28T09:28:19.445Z"
      },
      {
        "duration": 13,
        "start_time": "2023-11-28T09:28:19.609Z"
      },
      {
        "duration": 20876,
        "start_time": "2023-11-28T09:28:19.624Z"
      },
      {
        "duration": 38,
        "start_time": "2023-11-28T09:28:40.502Z"
      },
      {
        "duration": 77,
        "start_time": "2023-11-28T09:28:40.542Z"
      },
      {
        "duration": 100,
        "start_time": "2023-11-28T09:28:40.621Z"
      },
      {
        "duration": 302,
        "start_time": "2023-11-28T09:28:40.723Z"
      },
      {
        "duration": 9,
        "start_time": "2023-11-28T09:28:41.026Z"
      },
      {
        "duration": 43,
        "start_time": "2023-11-28T09:28:41.037Z"
      },
      {
        "duration": 314,
        "start_time": "2023-11-28T09:28:41.082Z"
      },
      {
        "duration": 15,
        "start_time": "2023-11-28T09:28:41.400Z"
      },
      {
        "duration": 22,
        "start_time": "2023-11-28T09:28:41.417Z"
      },
      {
        "duration": 126,
        "start_time": "2023-11-28T09:28:41.441Z"
      },
      {
        "duration": 8,
        "start_time": "2023-11-28T09:28:41.568Z"
      },
      {
        "duration": 20776,
        "start_time": "2023-11-28T09:28:41.577Z"
      },
      {
        "duration": 9,
        "start_time": "2023-11-28T09:29:02.354Z"
      },
      {
        "duration": 33476,
        "start_time": "2023-11-28T09:29:02.365Z"
      },
      {
        "duration": 8,
        "start_time": "2023-11-28T09:29:35.842Z"
      },
      {
        "duration": 13897,
        "start_time": "2023-11-28T09:29:35.851Z"
      },
      {
        "duration": 8,
        "start_time": "2023-11-28T09:29:49.749Z"
      },
      {
        "duration": 21,
        "start_time": "2023-11-28T09:29:49.758Z"
      },
      {
        "duration": 21,
        "start_time": "2023-11-28T09:29:49.815Z"
      },
      {
        "duration": 116,
        "start_time": "2023-11-28T09:29:49.916Z"
      },
      {
        "duration": 94,
        "start_time": "2023-11-28T09:29:50.034Z"
      },
      {
        "duration": 186,
        "start_time": "2023-11-28T09:29:50.136Z"
      },
      {
        "duration": 18,
        "start_time": "2023-11-28T09:29:50.417Z"
      },
      {
        "duration": 208,
        "start_time": "2023-11-28T09:29:50.438Z"
      },
      {
        "duration": 8189,
        "start_time": "2024-01-25T13:59:56.148Z"
      },
      {
        "duration": 972,
        "start_time": "2024-01-25T14:00:12.908Z"
      }
    ],
    "kernelspec": {
      "display_name": "Python 3 (ipykernel)",
      "language": "python",
      "name": "python3"
    },
    "language_info": {
      "codemirror_mode": {
        "name": "ipython",
        "version": 3
      },
      "file_extension": ".py",
      "mimetype": "text/x-python",
      "name": "python",
      "nbconvert_exporter": "python",
      "pygments_lexer": "ipython3",
      "version": "3.9.5"
    },
    "toc": {
      "base_numbering": 1,
      "nav_menu": {
        "height": "233px",
        "width": "326.4px"
      },
      "number_sections": true,
      "sideBar": true,
      "skip_h1_title": true,
      "title_cell": "Содержание",
      "title_sidebar": "Contents",
      "toc_cell": true,
      "toc_position": {
        "height": "calc(100% - 180px)",
        "left": "10px",
        "top": "150px",
        "width": "165px"
      },
      "toc_section_display": true,
      "toc_window_display": false
    },
    "colab": {
      "provenance": []
    }
  },
  "nbformat": 4,
  "nbformat_minor": 0
}